{
  "cells": [
    {
      "cell_type": "code",
      "execution_count": null,
      "metadata": {
        "id": "Hnkl_QpAiMg4"
      },
      "outputs": [],
      "source": []
    },
    {
      "cell_type": "code",
      "execution_count": null,
      "metadata": {
        "id": "UPCzlMfAsYff"
      },
      "outputs": [],
      "source": [
        "import pandas as pd\n",
        "import numpy as np\n",
        "\n",
        "from sklearn.model_selection import train_test_split\n",
        "from sklearn.metrics import accuracy_score\n",
        "\n",
        "import matplotlib.pyplot as plt\n",
        "import seaborn as sns\n",
        "import plotly.graph_objs as go\n",
        "import plotly.express as px\n",
        "import plotly.subplots as sp\n",
        "from plotly.subplots import make_subplots\n",
        "import plotly.figure_factory as ff\n",
        "\n",
        "\n",
        "from scipy.stats import f_oneway\n",
        "from scipy.stats import f\n",
        "from scipy.stats import chi2\n",
        "from scipy.stats import chi2_contingency\n",
        "from scipy.stats import norm\n",
        "from scipy.stats import ttest_ind\n",
        "\n",
        "\n",
        "from typing import List\n",
        "\n",
        "# Our Coded Functions\n",
        "\n",
        "# from hypothesistest import HypothesisTest as hp"
      ]
    },
    {
      "cell_type": "markdown",
      "source": [],
      "metadata": {
        "id": "Nnd2Db_uKkk5"
      }
    },
    {
      "cell_type": "code",
      "execution_count": null,
      "metadata": {
        "id": "BI6Me2orjDSZ"
      },
      "outputs": [],
      "source": [
        "pd.set_option('display.max_columns', None)"
      ]
    },
    {
      "cell_type": "code",
      "source": [
        "from google.colab import files\n",
        "\n",
        "uploaded = files.upload()"
      ],
      "metadata": {
        "colab": {
          "base_uri": "https://localhost:8080/",
          "height": 75
        },
        "id": "zcDdvNpy8G16",
        "outputId": "f7f55bc5-e6c8-447b-a227-f7da5b9fb73e"
      },
      "execution_count": null,
      "outputs": [
        {
          "output_type": "display_data",
          "data": {
            "text/plain": [
              "<IPython.core.display.HTML object>"
            ],
            "text/html": [
              "\n",
              "     <input type=\"file\" id=\"files-8492f791-2baa-42ed-97ac-c27e588e4498\" name=\"files[]\" multiple disabled\n",
              "        style=\"border:none\" />\n",
              "     <output id=\"result-8492f791-2baa-42ed-97ac-c27e588e4498\">\n",
              "      Upload widget is only available when the cell has been executed in the\n",
              "      current browser session. Please rerun this cell to enable.\n",
              "      </output>\n",
              "      <script>// Copyright 2017 Google LLC\n",
              "//\n",
              "// Licensed under the Apache License, Version 2.0 (the \"License\");\n",
              "// you may not use this file except in compliance with the License.\n",
              "// You may obtain a copy of the License at\n",
              "//\n",
              "//      http://www.apache.org/licenses/LICENSE-2.0\n",
              "//\n",
              "// Unless required by applicable law or agreed to in writing, software\n",
              "// distributed under the License is distributed on an \"AS IS\" BASIS,\n",
              "// WITHOUT WARRANTIES OR CONDITIONS OF ANY KIND, either express or implied.\n",
              "// See the License for the specific language governing permissions and\n",
              "// limitations under the License.\n",
              "\n",
              "/**\n",
              " * @fileoverview Helpers for google.colab Python module.\n",
              " */\n",
              "(function(scope) {\n",
              "function span(text, styleAttributes = {}) {\n",
              "  const element = document.createElement('span');\n",
              "  element.textContent = text;\n",
              "  for (const key of Object.keys(styleAttributes)) {\n",
              "    element.style[key] = styleAttributes[key];\n",
              "  }\n",
              "  return element;\n",
              "}\n",
              "\n",
              "// Max number of bytes which will be uploaded at a time.\n",
              "const MAX_PAYLOAD_SIZE = 100 * 1024;\n",
              "\n",
              "function _uploadFiles(inputId, outputId) {\n",
              "  const steps = uploadFilesStep(inputId, outputId);\n",
              "  const outputElement = document.getElementById(outputId);\n",
              "  // Cache steps on the outputElement to make it available for the next call\n",
              "  // to uploadFilesContinue from Python.\n",
              "  outputElement.steps = steps;\n",
              "\n",
              "  return _uploadFilesContinue(outputId);\n",
              "}\n",
              "\n",
              "// This is roughly an async generator (not supported in the browser yet),\n",
              "// where there are multiple asynchronous steps and the Python side is going\n",
              "// to poll for completion of each step.\n",
              "// This uses a Promise to block the python side on completion of each step,\n",
              "// then passes the result of the previous step as the input to the next step.\n",
              "function _uploadFilesContinue(outputId) {\n",
              "  const outputElement = document.getElementById(outputId);\n",
              "  const steps = outputElement.steps;\n",
              "\n",
              "  const next = steps.next(outputElement.lastPromiseValue);\n",
              "  return Promise.resolve(next.value.promise).then((value) => {\n",
              "    // Cache the last promise value to make it available to the next\n",
              "    // step of the generator.\n",
              "    outputElement.lastPromiseValue = value;\n",
              "    return next.value.response;\n",
              "  });\n",
              "}\n",
              "\n",
              "/**\n",
              " * Generator function which is called between each async step of the upload\n",
              " * process.\n",
              " * @param {string} inputId Element ID of the input file picker element.\n",
              " * @param {string} outputId Element ID of the output display.\n",
              " * @return {!Iterable<!Object>} Iterable of next steps.\n",
              " */\n",
              "function* uploadFilesStep(inputId, outputId) {\n",
              "  const inputElement = document.getElementById(inputId);\n",
              "  inputElement.disabled = false;\n",
              "\n",
              "  const outputElement = document.getElementById(outputId);\n",
              "  outputElement.innerHTML = '';\n",
              "\n",
              "  const pickedPromise = new Promise((resolve) => {\n",
              "    inputElement.addEventListener('change', (e) => {\n",
              "      resolve(e.target.files);\n",
              "    });\n",
              "  });\n",
              "\n",
              "  const cancel = document.createElement('button');\n",
              "  inputElement.parentElement.appendChild(cancel);\n",
              "  cancel.textContent = 'Cancel upload';\n",
              "  const cancelPromise = new Promise((resolve) => {\n",
              "    cancel.onclick = () => {\n",
              "      resolve(null);\n",
              "    };\n",
              "  });\n",
              "\n",
              "  // Wait for the user to pick the files.\n",
              "  const files = yield {\n",
              "    promise: Promise.race([pickedPromise, cancelPromise]),\n",
              "    response: {\n",
              "      action: 'starting',\n",
              "    }\n",
              "  };\n",
              "\n",
              "  cancel.remove();\n",
              "\n",
              "  // Disable the input element since further picks are not allowed.\n",
              "  inputElement.disabled = true;\n",
              "\n",
              "  if (!files) {\n",
              "    return {\n",
              "      response: {\n",
              "        action: 'complete',\n",
              "      }\n",
              "    };\n",
              "  }\n",
              "\n",
              "  for (const file of files) {\n",
              "    const li = document.createElement('li');\n",
              "    li.append(span(file.name, {fontWeight: 'bold'}));\n",
              "    li.append(span(\n",
              "        `(${file.type || 'n/a'}) - ${file.size} bytes, ` +\n",
              "        `last modified: ${\n",
              "            file.lastModifiedDate ? file.lastModifiedDate.toLocaleDateString() :\n",
              "                                    'n/a'} - `));\n",
              "    const percent = span('0% done');\n",
              "    li.appendChild(percent);\n",
              "\n",
              "    outputElement.appendChild(li);\n",
              "\n",
              "    const fileDataPromise = new Promise((resolve) => {\n",
              "      const reader = new FileReader();\n",
              "      reader.onload = (e) => {\n",
              "        resolve(e.target.result);\n",
              "      };\n",
              "      reader.readAsArrayBuffer(file);\n",
              "    });\n",
              "    // Wait for the data to be ready.\n",
              "    let fileData = yield {\n",
              "      promise: fileDataPromise,\n",
              "      response: {\n",
              "        action: 'continue',\n",
              "      }\n",
              "    };\n",
              "\n",
              "    // Use a chunked sending to avoid message size limits. See b/62115660.\n",
              "    let position = 0;\n",
              "    do {\n",
              "      const length = Math.min(fileData.byteLength - position, MAX_PAYLOAD_SIZE);\n",
              "      const chunk = new Uint8Array(fileData, position, length);\n",
              "      position += length;\n",
              "\n",
              "      const base64 = btoa(String.fromCharCode.apply(null, chunk));\n",
              "      yield {\n",
              "        response: {\n",
              "          action: 'append',\n",
              "          file: file.name,\n",
              "          data: base64,\n",
              "        },\n",
              "      };\n",
              "\n",
              "      let percentDone = fileData.byteLength === 0 ?\n",
              "          100 :\n",
              "          Math.round((position / fileData.byteLength) * 100);\n",
              "      percent.textContent = `${percentDone}% done`;\n",
              "\n",
              "    } while (position < fileData.byteLength);\n",
              "  }\n",
              "\n",
              "  // All done.\n",
              "  yield {\n",
              "    response: {\n",
              "      action: 'complete',\n",
              "    }\n",
              "  };\n",
              "}\n",
              "\n",
              "scope.google = scope.google || {};\n",
              "scope.google.colab = scope.google.colab || {};\n",
              "scope.google.colab._files = {\n",
              "  _uploadFiles,\n",
              "  _uploadFilesContinue,\n",
              "};\n",
              "})(self);\n",
              "</script> "
            ]
          },
          "metadata": {}
        },
        {
          "output_type": "stream",
          "name": "stdout",
          "text": [
            "Saving mobile_price_train.csv to mobile_price_train.csv\n"
          ]
        }
      ]
    },
    {
      "cell_type": "code",
      "execution_count": null,
      "metadata": {
        "id": "ZtJRwC6hiePO"
      },
      "outputs": [],
      "source": [
        "mobile = pd.read_csv('mobile_price_train.csv')\n",
        "m_p_t = mobile.copy()"
      ]
    },
    {
      "cell_type": "code",
      "execution_count": null,
      "metadata": {
        "id": "MMHIZTdCiuvd",
        "colab": {
          "base_uri": "https://localhost:8080/",
          "height": 270
        },
        "outputId": "5a945ea5-e4b7-41ed-ece4-fbb2e48b12a4"
      },
      "outputs": [
        {
          "output_type": "execute_result",
          "data": {
            "text/plain": [
              "   battery_power  blue  clock_speed  dual_sim  fc  four_g  int_memory  m_dep  \\\n",
              "0            842     0          2.2         0   1       0           7    0.6   \n",
              "1           1021     1          0.5         1   0       1          53    0.7   \n",
              "2            563     1          0.5         1   2       1          41    0.9   \n",
              "3            615     1          2.5         0   0       0          10    0.8   \n",
              "4           1821     1          1.2         0  13       1          44    0.6   \n",
              "\n",
              "   mobile_wt  n_cores  pc  px_height  px_width   ram  sc_h  sc_w  talk_time  \\\n",
              "0        188        2   2         20       756  2549     9     7         19   \n",
              "1        136        3   6        905      1988  2631    17     3          7   \n",
              "2        145        5   6       1263      1716  2603    11     2          9   \n",
              "3        131        6   9       1216      1786  2769    16     8         11   \n",
              "4        141        2  14       1208      1212  1411     8     2         15   \n",
              "\n",
              "   three_g  touch_screen  wifi  price_range  \n",
              "0        0             0     1            1  \n",
              "1        1             1     0            2  \n",
              "2        1             1     0            2  \n",
              "3        1             0     0            2  \n",
              "4        1             1     0            1  "
            ],
            "text/html": [
              "\n",
              "  <div id=\"df-3806a327-f2a9-43f6-b152-96c84fce1d5f\">\n",
              "    <div class=\"colab-df-container\">\n",
              "      <div>\n",
              "<style scoped>\n",
              "    .dataframe tbody tr th:only-of-type {\n",
              "        vertical-align: middle;\n",
              "    }\n",
              "\n",
              "    .dataframe tbody tr th {\n",
              "        vertical-align: top;\n",
              "    }\n",
              "\n",
              "    .dataframe thead th {\n",
              "        text-align: right;\n",
              "    }\n",
              "</style>\n",
              "<table border=\"1\" class=\"dataframe\">\n",
              "  <thead>\n",
              "    <tr style=\"text-align: right;\">\n",
              "      <th></th>\n",
              "      <th>battery_power</th>\n",
              "      <th>blue</th>\n",
              "      <th>clock_speed</th>\n",
              "      <th>dual_sim</th>\n",
              "      <th>fc</th>\n",
              "      <th>four_g</th>\n",
              "      <th>int_memory</th>\n",
              "      <th>m_dep</th>\n",
              "      <th>mobile_wt</th>\n",
              "      <th>n_cores</th>\n",
              "      <th>pc</th>\n",
              "      <th>px_height</th>\n",
              "      <th>px_width</th>\n",
              "      <th>ram</th>\n",
              "      <th>sc_h</th>\n",
              "      <th>sc_w</th>\n",
              "      <th>talk_time</th>\n",
              "      <th>three_g</th>\n",
              "      <th>touch_screen</th>\n",
              "      <th>wifi</th>\n",
              "      <th>price_range</th>\n",
              "    </tr>\n",
              "  </thead>\n",
              "  <tbody>\n",
              "    <tr>\n",
              "      <th>0</th>\n",
              "      <td>842</td>\n",
              "      <td>0</td>\n",
              "      <td>2.2</td>\n",
              "      <td>0</td>\n",
              "      <td>1</td>\n",
              "      <td>0</td>\n",
              "      <td>7</td>\n",
              "      <td>0.6</td>\n",
              "      <td>188</td>\n",
              "      <td>2</td>\n",
              "      <td>2</td>\n",
              "      <td>20</td>\n",
              "      <td>756</td>\n",
              "      <td>2549</td>\n",
              "      <td>9</td>\n",
              "      <td>7</td>\n",
              "      <td>19</td>\n",
              "      <td>0</td>\n",
              "      <td>0</td>\n",
              "      <td>1</td>\n",
              "      <td>1</td>\n",
              "    </tr>\n",
              "    <tr>\n",
              "      <th>1</th>\n",
              "      <td>1021</td>\n",
              "      <td>1</td>\n",
              "      <td>0.5</td>\n",
              "      <td>1</td>\n",
              "      <td>0</td>\n",
              "      <td>1</td>\n",
              "      <td>53</td>\n",
              "      <td>0.7</td>\n",
              "      <td>136</td>\n",
              "      <td>3</td>\n",
              "      <td>6</td>\n",
              "      <td>905</td>\n",
              "      <td>1988</td>\n",
              "      <td>2631</td>\n",
              "      <td>17</td>\n",
              "      <td>3</td>\n",
              "      <td>7</td>\n",
              "      <td>1</td>\n",
              "      <td>1</td>\n",
              "      <td>0</td>\n",
              "      <td>2</td>\n",
              "    </tr>\n",
              "    <tr>\n",
              "      <th>2</th>\n",
              "      <td>563</td>\n",
              "      <td>1</td>\n",
              "      <td>0.5</td>\n",
              "      <td>1</td>\n",
              "      <td>2</td>\n",
              "      <td>1</td>\n",
              "      <td>41</td>\n",
              "      <td>0.9</td>\n",
              "      <td>145</td>\n",
              "      <td>5</td>\n",
              "      <td>6</td>\n",
              "      <td>1263</td>\n",
              "      <td>1716</td>\n",
              "      <td>2603</td>\n",
              "      <td>11</td>\n",
              "      <td>2</td>\n",
              "      <td>9</td>\n",
              "      <td>1</td>\n",
              "      <td>1</td>\n",
              "      <td>0</td>\n",
              "      <td>2</td>\n",
              "    </tr>\n",
              "    <tr>\n",
              "      <th>3</th>\n",
              "      <td>615</td>\n",
              "      <td>1</td>\n",
              "      <td>2.5</td>\n",
              "      <td>0</td>\n",
              "      <td>0</td>\n",
              "      <td>0</td>\n",
              "      <td>10</td>\n",
              "      <td>0.8</td>\n",
              "      <td>131</td>\n",
              "      <td>6</td>\n",
              "      <td>9</td>\n",
              "      <td>1216</td>\n",
              "      <td>1786</td>\n",
              "      <td>2769</td>\n",
              "      <td>16</td>\n",
              "      <td>8</td>\n",
              "      <td>11</td>\n",
              "      <td>1</td>\n",
              "      <td>0</td>\n",
              "      <td>0</td>\n",
              "      <td>2</td>\n",
              "    </tr>\n",
              "    <tr>\n",
              "      <th>4</th>\n",
              "      <td>1821</td>\n",
              "      <td>1</td>\n",
              "      <td>1.2</td>\n",
              "      <td>0</td>\n",
              "      <td>13</td>\n",
              "      <td>1</td>\n",
              "      <td>44</td>\n",
              "      <td>0.6</td>\n",
              "      <td>141</td>\n",
              "      <td>2</td>\n",
              "      <td>14</td>\n",
              "      <td>1208</td>\n",
              "      <td>1212</td>\n",
              "      <td>1411</td>\n",
              "      <td>8</td>\n",
              "      <td>2</td>\n",
              "      <td>15</td>\n",
              "      <td>1</td>\n",
              "      <td>1</td>\n",
              "      <td>0</td>\n",
              "      <td>1</td>\n",
              "    </tr>\n",
              "  </tbody>\n",
              "</table>\n",
              "</div>\n",
              "      <button class=\"colab-df-convert\" onclick=\"convertToInteractive('df-3806a327-f2a9-43f6-b152-96c84fce1d5f')\"\n",
              "              title=\"Convert this dataframe to an interactive table.\"\n",
              "              style=\"display:none;\">\n",
              "        \n",
              "  <svg xmlns=\"http://www.w3.org/2000/svg\" height=\"24px\"viewBox=\"0 0 24 24\"\n",
              "       width=\"24px\">\n",
              "    <path d=\"M0 0h24v24H0V0z\" fill=\"none\"/>\n",
              "    <path d=\"M18.56 5.44l.94 2.06.94-2.06 2.06-.94-2.06-.94-.94-2.06-.94 2.06-2.06.94zm-11 1L8.5 8.5l.94-2.06 2.06-.94-2.06-.94L8.5 2.5l-.94 2.06-2.06.94zm10 10l.94 2.06.94-2.06 2.06-.94-2.06-.94-.94-2.06-.94 2.06-2.06.94z\"/><path d=\"M17.41 7.96l-1.37-1.37c-.4-.4-.92-.59-1.43-.59-.52 0-1.04.2-1.43.59L10.3 9.45l-7.72 7.72c-.78.78-.78 2.05 0 2.83L4 21.41c.39.39.9.59 1.41.59.51 0 1.02-.2 1.41-.59l7.78-7.78 2.81-2.81c.8-.78.8-2.07 0-2.86zM5.41 20L4 18.59l7.72-7.72 1.47 1.35L5.41 20z\"/>\n",
              "  </svg>\n",
              "      </button>\n",
              "      \n",
              "  <style>\n",
              "    .colab-df-container {\n",
              "      display:flex;\n",
              "      flex-wrap:wrap;\n",
              "      gap: 12px;\n",
              "    }\n",
              "\n",
              "    .colab-df-convert {\n",
              "      background-color: #E8F0FE;\n",
              "      border: none;\n",
              "      border-radius: 50%;\n",
              "      cursor: pointer;\n",
              "      display: none;\n",
              "      fill: #1967D2;\n",
              "      height: 32px;\n",
              "      padding: 0 0 0 0;\n",
              "      width: 32px;\n",
              "    }\n",
              "\n",
              "    .colab-df-convert:hover {\n",
              "      background-color: #E2EBFA;\n",
              "      box-shadow: 0px 1px 2px rgba(60, 64, 67, 0.3), 0px 1px 3px 1px rgba(60, 64, 67, 0.15);\n",
              "      fill: #174EA6;\n",
              "    }\n",
              "\n",
              "    [theme=dark] .colab-df-convert {\n",
              "      background-color: #3B4455;\n",
              "      fill: #D2E3FC;\n",
              "    }\n",
              "\n",
              "    [theme=dark] .colab-df-convert:hover {\n",
              "      background-color: #434B5C;\n",
              "      box-shadow: 0px 1px 3px 1px rgba(0, 0, 0, 0.15);\n",
              "      filter: drop-shadow(0px 1px 2px rgba(0, 0, 0, 0.3));\n",
              "      fill: #FFFFFF;\n",
              "    }\n",
              "  </style>\n",
              "\n",
              "      <script>\n",
              "        const buttonEl =\n",
              "          document.querySelector('#df-3806a327-f2a9-43f6-b152-96c84fce1d5f button.colab-df-convert');\n",
              "        buttonEl.style.display =\n",
              "          google.colab.kernel.accessAllowed ? 'block' : 'none';\n",
              "\n",
              "        async function convertToInteractive(key) {\n",
              "          const element = document.querySelector('#df-3806a327-f2a9-43f6-b152-96c84fce1d5f');\n",
              "          const dataTable =\n",
              "            await google.colab.kernel.invokeFunction('convertToInteractive',\n",
              "                                                     [key], {});\n",
              "          if (!dataTable) return;\n",
              "\n",
              "          const docLinkHtml = 'Like what you see? Visit the ' +\n",
              "            '<a target=\"_blank\" href=https://colab.research.google.com/notebooks/data_table.ipynb>data table notebook</a>'\n",
              "            + ' to learn more about interactive tables.';\n",
              "          element.innerHTML = '';\n",
              "          dataTable['output_type'] = 'display_data';\n",
              "          await google.colab.output.renderOutput(dataTable, element);\n",
              "          const docLink = document.createElement('div');\n",
              "          docLink.innerHTML = docLinkHtml;\n",
              "          element.appendChild(docLink);\n",
              "        }\n",
              "      </script>\n",
              "    </div>\n",
              "  </div>\n",
              "  "
            ]
          },
          "metadata": {},
          "execution_count": 98
        }
      ],
      "source": [
        "m_p_t.head()"
      ]
    },
    {
      "cell_type": "code",
      "execution_count": null,
      "metadata": {
        "id": "yWjhVmbnixV-",
        "colab": {
          "base_uri": "https://localhost:8080/"
        },
        "outputId": "cc2da6dd-80bd-49ab-bc7e-7b7eca47fb48"
      },
      "outputs": [
        {
          "output_type": "stream",
          "name": "stdout",
          "text": [
            "<class 'pandas.core.frame.DataFrame'>\n",
            "RangeIndex: 2000 entries, 0 to 1999\n",
            "Data columns (total 21 columns):\n",
            " #   Column         Non-Null Count  Dtype  \n",
            "---  ------         --------------  -----  \n",
            " 0   battery_power  2000 non-null   int64  \n",
            " 1   blue           2000 non-null   int64  \n",
            " 2   clock_speed    2000 non-null   float64\n",
            " 3   dual_sim       2000 non-null   int64  \n",
            " 4   fc             2000 non-null   int64  \n",
            " 5   four_g         2000 non-null   int64  \n",
            " 6   int_memory     2000 non-null   int64  \n",
            " 7   m_dep          2000 non-null   float64\n",
            " 8   mobile_wt      2000 non-null   int64  \n",
            " 9   n_cores        2000 non-null   int64  \n",
            " 10  pc             2000 non-null   int64  \n",
            " 11  px_height      2000 non-null   int64  \n",
            " 12  px_width       2000 non-null   int64  \n",
            " 13  ram            2000 non-null   int64  \n",
            " 14  sc_h           2000 non-null   int64  \n",
            " 15  sc_w           2000 non-null   int64  \n",
            " 16  talk_time      2000 non-null   int64  \n",
            " 17  three_g        2000 non-null   int64  \n",
            " 18  touch_screen   2000 non-null   int64  \n",
            " 19  wifi           2000 non-null   int64  \n",
            " 20  price_range    2000 non-null   int64  \n",
            "dtypes: float64(2), int64(19)\n",
            "memory usage: 328.2 KB\n"
          ]
        }
      ],
      "source": [
        "m_p_t.info()"
      ]
    },
    {
      "cell_type": "markdown",
      "metadata": {
        "id": "aLZZR4mVRKON"
      },
      "source": [
        "## **Handling Outliers**"
      ]
    },
    {
      "cell_type": "markdown",
      "metadata": {
        "id": "wjgTUvRhS30e"
      },
      "source": [
        "### **Plotting the destribution to identify any outliers**"
      ]
    },
    {
      "cell_type": "markdown",
      "metadata": {
        "id": "rM8aQcKCVwD9"
      },
      "source": [
        "#### **Box Plot**"
      ]
    },
    {
      "cell_type": "code",
      "execution_count": null,
      "metadata": {
        "id": "7uig-Bw2RKUM",
        "colab": {
          "base_uri": "https://localhost:8080/"
        },
        "outputId": "59602708-50cb-47ed-e777-05f5ff49c3ee"
      },
      "outputs": [
        {
          "output_type": "display_data",
          "data": {
            "text/html": [
              "<html>\n",
              "<head><meta charset=\"utf-8\" /></head>\n",
              "<body>\n",
              "    <div>            <script src=\"https://cdnjs.cloudflare.com/ajax/libs/mathjax/2.7.5/MathJax.js?config=TeX-AMS-MML_SVG\"></script><script type=\"text/javascript\">if (window.MathJax && window.MathJax.Hub && window.MathJax.Hub.Config) {window.MathJax.Hub.Config({SVG: {font: \"STIX-Web\"}});}</script>                <script type=\"text/javascript\">window.PlotlyConfig = {MathJaxConfig: 'local'};</script>\n",
              "        <script src=\"https://cdn.plot.ly/plotly-2.18.2.min.js\"></script>                <div id=\"bbf5d512-8f8b-4795-a909-4600aadb980d\" class=\"plotly-graph-div\" style=\"height:800px; width:1200px;\"></div>            <script type=\"text/javascript\">                                    window.PLOTLYENV=window.PLOTLYENV || {};                                    if (document.getElementById(\"bbf5d512-8f8b-4795-a909-4600aadb980d\")) {                    Plotly.newPlot(                        \"bbf5d512-8f8b-4795-a909-4600aadb980d\",                        [{\"boxmean\":true,\"boxpoints\":\"suspectedoutliers\",\"orientation\":\"h\",\"x\":[842,1021,563,615,1821,1859,1821,1954,1445,509,769,1520,1815,803,1866,775,838,595,1131,682,772,1709,1949,1602,503,961,519,956,1453,851,1579,1568,1319,1310,644,725,589,1725,790,560,1347,1646,1253,1656,1195,1514,1723,1054,578,596,1547,1760,1654,1457,1073,1936,823,987,1757,1063,1484,799,1156,1720,702,616,1358,1866,1242,1166,1448,1407,605,1038,797,819,1114,1234,1199,1103,1589,999,1510,1008,1127,1412,1496,1083,668,1309,1724,1977,885,879,1322,1137,1355,1665,657,593,1883,1732,543,1939,553,832,1661,1657,1135,1775,783,617,867,1310,1804,1900,909,1084,1308,1778,1701,772,825,1379,1166,1659,826,1564,1957,1571,1414,1790,645,668,1652,1213,1272,866,536,523,1753,1218,1537,786,1678,1814,1101,1461,1216,506,843,742,1692,1485,1547,1692,637,1224,1356,1840,1481,961,1296,1193,1441,517,748,1126,1572,1569,1270,1854,625,1577,534,946,685,1949,947,801,703,1165,1082,959,1502,1380,1266,1934,1905,1831,596,1562,1490,1523,640,1526,1989,1308,609,1905,1703,1445,1087,671,1472,765,1642,1265,664,1277,1395,1539,1049,1827,903,1987,1154,1336,1886,1551,850,660,1225,1452,1686,1634,1708,1151,1578,1689,1488,1313,1715,1442,528,1523,1133,1718,1330,1799,633,724,822,1918,1891,1373,862,1273,957,1617,893,1210,708,835,1450,973,601,507,564,1559,754,728,1431,767,1722,1992,1876,1054,1283,1281,1066,730,1053,1611,793,1220,1662,1281,538,823,1733,1429,1839,659,1953,1172,612,1563,1191,615,1893,1563,1995,1517,832,1162,1595,1329,928,1656,1937,977,768,1464,1177,1348,1956,1751,1530,1997,1414,1707,894,645,1163,1126,1648,1170,508,1097,728,1980,1504,1379,1698,920,1144,1995,1430,972,662,1867,1730,1723,1882,803,580,668,1391,1560,821,811,1989,1034,618,654,576,667,869,635,609,1557,1604,1182,848,1610,1828,880,1394,1960,809,899,1976,879,916,763,508,825,1864,1725,1108,1011,1703,1067,1334,775,1899,930,1058,1187,1874,1482,1809,864,625,1880,1138,560,1117,1712,1836,1036,1860,1375,1945,1896,788,880,1323,1868,1266,1042,1479,1476,1552,1454,1007,652,1504,1726,1029,1582,1478,1178,707,755,912,651,1483,914,1456,1178,1503,1681,715,1876,1190,1755,1197,1048,1887,1772,1421,1464,728,954,685,1472,853,1469,1310,1654,902,1448,1631,1608,1991,1349,1589,1844,712,972,1406,1289,932,1747,1172,1128,664,513,1742,1512,1986,965,1067,1583,1653,1433,765,1845,752,1948,1077,932,1968,1122,1588,601,1615,1589,1417,1697,1330,1476,1579,1277,1089,1663,1949,1138,685,1889,857,1902,1225,1066,1554,1337,1926,869,1278,1773,1661,1438,1661,1846,1260,512,581,1872,687,1062,1678,1417,1074,1832,1039,1059,1606,1928,1875,1128,1748,1413,825,1589,535,1780,1671,1821,1076,532,777,1217,1656,1185,577,737,704,525,504,793,569,1590,707,767,1350,1117,641,1002,1408,1900,726,1544,1454,1230,1552,1519,723,1191,1168,1229,1758,1290,574,1271,1170,1269,1288,1366,1572,1627,1701,1900,1974,1197,587,934,1195,1853,1164,1512,1232,1813,946,739,704,1663,1966,1219,612,1658,1263,1395,621,652,1175,561,1137,1835,1170,1595,1719,1770,1312,1878,1871,922,1975,1212,1430,1958,1836,557,539,880,1369,1109,843,598,972,1944,1225,644,1919,501,1620,1227,1359,1914,1645,1063,946,1231,1397,701,570,1993,955,924,600,518,1063,920,1715,1841,543,1762,1112,709,1315,1762,1462,571,666,1994,1583,1778,1926,966,568,1897,1695,1623,914,1721,890,600,1677,723,638,852,1979,710,1034,600,1027,1260,1793,675,658,1694,804,1713,706,1362,1527,768,1314,705,1403,1486,781,986,1310,560,1348,1567,1940,1979,561,1717,535,1413,1358,1519,1254,1591,977,1640,663,1744,1624,1108,1188,817,863,1397,1108,1068,1702,808,1156,1271,696,1981,614,1590,1945,1135,1049,1807,984,720,1536,771,503,675,1936,1303,1004,1972,1822,1159,1782,894,1884,1648,798,802,1276,1331,1620,1996,1092,1018,545,554,1264,1030,1432,558,829,1741,1849,733,1872,1853,1149,891,1911,550,576,1760,969,1160,827,1786,774,819,1042,1368,1592,1067,1892,915,774,1848,1501,1614,911,1520,1647,1347,967,1442,1204,1320,1800,1567,1439,1422,1591,880,1929,1642,1511,1312,1852,972,691,807,1113,721,1188,1512,805,918,1320,1236,1387,1883,839,1593,1722,1954,1788,1628,1965,833,571,1808,1860,1368,1161,1224,902,787,854,1184,1973,510,966,1438,1986,1907,1489,1843,825,1286,840,757,814,1195,767,1068,994,1550,1878,623,1829,525,1065,1425,1296,642,1664,1498,981,1236,1673,712,569,603,1332,1413,1064,1444,1366,906,1554,1187,1156,1918,841,730,878,1059,1578,1829,1132,1652,912,1181,1497,1790,1742,1549,1372,1112,1005,783,1698,899,1062,989,1983,1800,1254,868,1205,1284,626,1763,694,1265,816,904,979,1531,934,1624,874,1027,1966,1048,1496,959,1349,1689,1558,582,1485,1991,553,1231,805,764,894,1589,1456,743,1061,1428,674,832,1625,907,1631,1584,1382,633,1444,852,922,1745,862,1754,1008,1569,1596,1807,1660,1861,648,1379,1910,1807,1923,1345,904,1239,1330,516,672,892,1778,1130,1359,1866,1597,1046,1035,1175,1261,1068,1713,1688,1413,559,1483,860,1090,686,818,1456,774,1068,1373,1777,594,1524,511,1402,965,1270,919,1963,1977,1881,683,772,536,1694,1633,1371,551,1221,1000,1986,1119,1699,1099,1576,950,1081,606,502,957,1658,1681,1983,1753,1632,1949,1696,688,1104,1122,504,1154,1727,1674,1948,1218,531,1057,576,1960,673,718,864,547,623,1793,1720,812,980,643,1925,1408,1522,587,1959,1872,1043,1809,1703,1095,1414,1659,1540,1342,1189,518,1449,516,1569,1312,1893,1076,530,1044,1330,1836,1741,1869,1331,1655,605,1245,1709,846,1403,688,775,1154,1375,1827,1697,741,1672,514,1375,989,1510,1266,1396,808,1542,745,1735,586,1341,781,501,1224,1970,618,1537,1018,1545,1871,1729,680,1106,635,618,1671,1562,1975,831,1524,1528,1447,1344,564,921,1413,831,802,1923,1193,904,1285,1635,1923,1851,727,1396,877,696,1009,1526,987,1414,1732,1587,1097,504,1159,1910,865,1930,860,1268,999,622,1250,763,1100,815,618,553,673,563,1590,1031,909,1880,1479,1271,709,1744,1314,1136,1039,1300,732,511,1092,921,1030,1130,1299,1009,1735,1129,708,894,530,1481,1068,1487,1524,1093,1816,627,989,1895,805,713,864,1177,582,1898,1158,1451,1820,984,580,1263,1237,514,1515,721,603,1426,1820,1215,697,717,1348,1164,578,1971,1794,1558,1597,1240,1994,1221,989,1180,718,1670,534,1566,1935,504,913,1317,917,712,1083,1039,1747,1449,1872,1796,1097,1562,1433,740,676,503,1020,896,1824,1512,1053,1944,1174,627,1602,1733,586,1528,875,1602,1426,1370,609,840,991,1724,584,860,1541,615,912,1278,1365,1702,589,1347,1644,956,1089,871,664,1874,1928,888,1077,1023,1426,831,1496,1433,1095,643,1142,730,1901,1510,1924,1825,1275,987,1538,1965,808,712,1507,912,769,948,507,1384,1766,1407,614,1972,1039,511,1811,1159,1848,1988,1469,1423,1974,835,1429,947,1446,1332,1498,1576,1398,1885,798,1436,1998,1321,1021,1339,1210,1949,882,1549,1991,796,1012,1318,1708,598,541,818,1414,601,561,1616,1263,1604,539,1071,826,771,1811,1842,1420,1763,1163,1805,610,1533,1924,1801,1726,794,1686,1444,1004,1242,539,717,1540,672,1325,950,948,1328,1447,1973,1731,1617,1791,851,856,714,951,1303,1550,1759,1448,1987,908,820,904,667,1109,1333,1352,1600,1454,1489,1823,1581,1672,1283,630,659,1811,688,514,1933,915,1006,1134,599,973,1180,1237,659,1142,1002,1392,602,1249,531,1450,1342,832,867,1404,840,1368,1927,1714,1201,1796,1147,776,510,1045,1497,1425,726,1576,714,1595,541,1617,1154,1638,1150,1254,1806,603,1834,520,565,1689,742,1143,761,959,772,1015,1824,1130,1183,574,1472,1868,1375,881,1742,1225,1970,1186,1762,1731,852,848,1575,1554,1972,827,1063,1695,1343,834,595,1081,911,844,1335,1883,1128,826,1650,1162,1517,963,1837,1028,1831,571,1770,970,642,622,600,1412,733,1070,875,1994,823,1908,790,1330,1660,1776,1611,1410,1772,1280,1712,1562,891,1957,1110,875,1211,769,671,1872,1076,1325,911,1273,1062,1317,940,729,1494,1546,1253,895,793,1628,625,1110,999,1856,1715,1897,1202,1171,964,1973,1992,546,1093,1880,1765,1640,1830,826,1864,586,1206,832,848,1851,1166,1776,1254,1494,984,1179,513,557,744,1129,1148,1793,1310,1604,1676,1001,1086,1986,634,502,1641,623,962,1057,1862,555,1000,841,865,999,1232,1194,612,1362,1469,986,1843,1561,1695,667,1768,1269,1109,936,1713,1175,1940,855,771,645,1307,1948,1509,626,1190,1727,1670,1150,1208,1812,770,1559,1902,1751,1416,1288,1003,1715,1967,962,1487,1569,1146,1379,1504,1945,1630,1125,614,854,1470,1826,807,1996,1083,1035,1521,1314,535,673,1219,1606,1603,1958,695,1441,1470,1890,1152,1619,1002,742,1306,1424,942,1934,1290,930,1699,1849,1922,548,916,1783,1083,1698,1969,869,1337,637,833,1248,1174,1831,1002,1010,1117,990,1564,1065,1982,1607,1066,681,1163,1285,753,1779,987,511,1044,1855,946,657,1673,731,926,1261,618,936,1485,1339,508,1938,995,1086,1322,1864,1944,581,1020,1936,1329,808,994,1811,765,993,1136,719,733,1946,1230,1577,1514,579,574,1072,843,1492,1807,909,1876,1436,1251,636,1354,930,1830,1424,583,648,1203,1777,1299,1494,527,793,873,722,1250,1358,1035,1289,1445,1702,534,628,713,1207,683,594,537,1565,1052,713,1766,584,1541,837,935,665,680,877,1493,1762,842,925,1692,1576,1065,958,623,897,1110,616,1680,1715,983,720,1660,1564,592,969,1356,504,1546,689,1685,1792,1786,1944,1077,648,1702,1571,856,1786,914,1615,649,1646,1189,1043,1920,1220,1748,907,1193,1766,1278,1234,1961,1745,1442,1083,868,864,1142,608,983,1720,1802,591,1205,1369,713,1082,1719,1544,1090,1991,1367,1179,721,1549,1349,1799,1075,684,1837,1619,965,730,1361,1494,1027,1807,709,689,955,1872,1259,695,1969,759,936,1176,1802,772,1318,591,569,764,1056,1982,1830,1122,1023,1283,1602,732,1854,718,897,1405,798,1035,1396,1749,1588,1600,1522,1279,719,544,1007,590,1788,748,757,1561,1327,797,727,686,1515,555,1589,1976,1884,1063,672,635,1906,1753,659,1583,1783,1667,640,1913,538,1191,816,915,1157,1201,1379,1483,1614,930,1454,1784,1262,797,1829,1139,618,1547,586,1617,1882,674,1467,858,794,1965,1911,1512,510],\"type\":\"box\",\"xaxis\":\"x\",\"yaxis\":\"y\"},{\"boxmean\":true,\"boxpoints\":\"suspectedoutliers\",\"orientation\":\"h\",\"x\":[2.2,0.5,0.5,2.5,1.2,0.5,1.7,0.5,0.5,0.6,2.9,2.2,2.8,2.1,0.5,1.0,0.5,0.9,0.5,0.5,1.1,2.1,2.6,2.8,1.2,1.4,1.6,0.5,1.6,0.5,0.5,0.5,0.9,2.2,2.7,1.3,2.3,1.6,2.0,0.5,2.9,2.3,0.5,1.0,2.8,2.9,1.1,1.8,2.6,2.1,3.0,1.4,1.5,1.9,0.5,2.1,2.7,1.3,0.5,1.4,3.0,2.3,1.2,2.0,2.6,1.9,0.5,1.4,1.1,1.5,0.5,2.4,1.0,1.2,2.9,0.6,2.8,1.6,2.5,1.0,0.6,2.9,0.9,0.8,2.9,2.4,2.0,2.9,0.5,1.1,2.0,2.0,2.3,2.5,1.7,1.0,2.3,0.5,2.5,0.5,0.5,1.1,0.5,2.8,2.4,0.7,1.9,2.4,2.0,1.5,1.8,2.3,1.4,1.1,0.5,2.3,1.4,2.6,1.3,0.5,1.6,2.4,0.5,1.1,2.0,2.8,2.4,2.3,0.9,1.4,2.0,2.5,0.5,2.9,1.1,0.5,2.5,0.5,2.4,2.6,0.5,1.8,2.5,2.2,2.1,1.4,1.8,2.4,3.0,1.6,0.5,2.2,2.1,1.0,2.9,2.3,2.3,0.5,2.8,0.5,0.7,1.5,0.9,0.9,2.1,1.4,1.7,2.4,0.6,2.8,0.6,3.0,1.2,0.5,0.5,1.7,0.5,1.3,0.8,2.2,2.7,2.4,0.8,2.6,1.2,2.1,0.5,2.6,0.5,1.4,1.4,1.3,0.5,2.4,0.6,2.1,2.5,1.9,0.5,0.6,0.5,2.4,1.3,0.9,2.3,0.5,0.5,1.5,1.1,0.5,1.8,2.6,2.2,1.7,1.0,0.5,1.2,0.9,0.5,1.1,1.6,0.5,2.1,0.5,2.8,1.4,2.4,2.9,1.9,1.8,0.5,1.8,1.0,1.0,1.7,1.8,1.4,2.5,0.5,0.5,2.2,2.7,0.5,1.9,2.8,1.0,0.8,1.0,2.5,1.3,2.5,0.5,2.7,1.1,2.7,1.5,1.4,0.5,1.8,1.6,0.5,2.7,0.5,1.5,2.6,1.6,0.5,1.1,1.6,2.3,0.6,2.1,0.8,0.5,1.0,2.9,0.5,2.8,0.8,0.5,2.8,1.5,1.2,2.7,2.1,1.9,1.9,2.4,1.3,0.5,2.1,1.7,1.9,0.5,1.6,2.0,2.6,1.0,0.5,0.5,1.7,1.1,0.9,0.5,0.9,2.0,2.2,0.5,2.0,1.8,1.5,1.4,0.5,1.2,2.8,0.7,0.7,0.9,0.8,2.1,1.7,0.5,2.3,2.1,2.1,2.1,1.5,0.5,0.5,0.5,0.5,2.3,2.0,1.0,1.3,0.8,1.2,2.3,1.4,2.3,1.8,2.4,2.9,2.7,2.1,1.3,2.8,0.6,1.0,0.5,3.0,2.8,1.7,0.5,2.1,2.9,2.1,2.0,0.9,2.3,0.8,0.5,0.7,1.5,2.6,1.7,1.6,2.9,1.4,0.5,2.9,1.1,1.5,1.7,2.4,2.6,0.6,1.3,1.5,2.2,2.7,0.5,1.7,3.0,1.9,1.8,1.4,0.5,0.5,1.4,1.7,2.4,2.3,1.1,1.6,0.5,2.5,1.7,2.5,2.0,1.9,2.7,0.5,1.2,2.2,0.5,2.0,2.4,1.5,0.9,1.9,2.8,0.8,1.3,2.1,2.8,2.0,0.8,2.1,0.9,0.5,2.2,0.7,2.5,2.3,2.8,2.2,1.3,1.3,0.9,3.0,0.5,2.8,0.5,2.3,0.5,0.5,2.8,2.0,2.1,2.3,1.8,0.7,1.4,0.9,1.8,2.7,2.0,2.5,2.3,0.5,1.7,0.5,0.9,1.3,0.9,2.1,1.4,1.2,0.5,2.3,1.7,0.5,1.5,2.4,1.6,0.5,1.6,2.9,0.5,0.5,2.8,2.5,0.5,0.9,1.2,0.5,2.1,0.5,2.2,2.7,0.7,1.3,0.5,1.5,3.0,0.9,2.5,1.8,1.1,2.7,2.8,2.0,2.8,2.4,1.6,0.5,0.5,1.7,1.3,0.5,2.5,0.8,2.2,1.4,0.6,2.0,0.5,2.2,2.3,1.3,2.5,2.3,0.5,2.4,0.7,1.3,2.4,1.4,1.8,0.5,1.1,1.7,0.5,0.5,1.4,0.5,0.5,0.6,0.9,2.6,0.8,2.6,0.5,1.6,1.9,2.4,2.4,2.2,0.5,0.5,1.2,0.6,1.9,0.5,1.9,0.5,0.6,1.1,0.8,2.1,2.0,2.9,2.3,1.6,2.2,1.2,2.1,1.9,2.4,1.3,0.5,0.5,0.5,2.8,0.5,1.2,1.3,2.8,0.7,0.8,0.9,0.5,0.5,1.0,0.5,2.3,1.1,2.0,1.0,1.0,0.5,2.9,0.6,2.6,2.3,2.7,0.5,1.4,1.0,0.7,1.4,0.5,2.8,2.7,0.5,0.6,1.0,2.2,2.3,2.9,0.8,2.0,2.3,0.5,1.5,2.0,1.5,1.5,2.6,0.9,1.9,2.1,1.6,0.6,0.5,1.8,2.7,1.8,2.3,2.7,0.5,0.7,1.3,1.5,2.3,2.2,1.1,0.5,0.7,1.8,1.1,2.1,1.2,2.9,0.7,0.5,0.5,0.5,0.5,0.5,0.8,2.5,0.5,1.9,1.3,0.5,2.7,0.5,2.0,2.6,2.5,1.7,1.6,0.5,1.5,2.1,1.4,1.1,0.6,2.0,3.0,0.5,1.2,0.5,0.5,2.2,0.5,1.8,0.5,1.7,1.0,1.6,0.5,2.6,2.5,0.5,0.6,1.8,2.3,2.7,0.6,0.8,2.5,0.5,0.5,2.7,0.5,2.9,0.5,2.7,2.6,1.1,1.5,1.4,2.0,1.3,0.5,0.9,2.9,2.1,1.3,1.5,0.5,2.5,2.9,1.2,2.2,2.8,0.7,0.8,1.0,1.6,1.3,1.4,1.3,1.6,2.4,1.0,2.0,2.3,0.5,0.5,0.5,0.5,1.9,1.7,0.6,1.6,2.8,0.6,2.1,0.5,1.4,0.8,0.5,2.5,2.4,1.9,1.0,2.9,1.2,1.2,2.8,2.8,2.1,2.1,0.5,2.4,2.4,2.9,1.6,2.6,2.5,2.7,0.7,0.5,1.3,2.9,1.6,1.7,2.8,0.5,1.8,2.3,2.1,0.9,0.5,2.2,0.5,2.0,0.5,0.8,1.9,2.4,1.1,1.1,0.5,0.6,2.5,2.2,3.0,2.1,1.8,0.7,1.1,2.8,1.4,1.1,1.9,2.9,0.5,1.4,0.9,1.6,2.2,2.6,2.1,0.7,2.1,0.9,1.0,2.2,1.7,0.5,1.6,2.5,1.3,1.4,1.3,2.7,0.5,0.6,1.3,1.5,0.5,0.7,0.9,0.5,0.9,0.5,2.7,2.0,1.0,1.0,0.6,0.5,0.5,0.5,2.2,0.6,0.5,0.5,1.6,1.3,1.6,0.6,0.5,0.5,1.5,1.6,1.7,2.0,1.8,0.5,2.0,2.4,1.8,1.5,2.3,0.6,2.3,1.1,1.1,0.8,1.3,2.8,2.5,0.5,2.0,0.5,2.4,0.5,1.2,1.4,2.8,2.9,0.7,1.9,2.8,2.8,1.6,0.5,0.7,0.8,0.6,2.9,0.6,1.7,2.1,2.7,2.3,2.7,2.8,0.5,1.3,1.3,0.5,2.9,1.7,1.0,0.6,0.5,2.3,0.7,2.3,1.6,0.5,2.7,0.5,0.5,1.7,2.5,2.7,1.5,2.0,1.2,3.0,1.7,1.7,0.5,2.8,0.7,2.9,1.8,0.6,0.5,1.8,0.5,2.0,2.0,2.6,1.3,2.2,0.8,1.5,1.9,1.7,2.2,2.4,2.4,0.5,2.8,1.8,0.5,0.7,0.8,1.2,0.9,2.6,1.6,0.5,2.1,1.6,2.8,1.1,0.5,1.4,0.5,1.3,0.5,1.4,2.1,1.6,0.7,1.5,2.3,2.1,2.5,0.5,2.9,0.5,2.8,0.9,1.9,0.5,1.7,2.0,0.5,3.0,1.6,1.2,0.9,0.7,0.5,0.5,0.5,2.5,0.6,2.5,2.3,2.8,0.6,1.3,0.5,0.7,3.0,2.5,0.5,0.5,2.6,1.6,1.3,0.5,1.3,1.6,0.5,0.5,1.9,3.0,0.8,2.6,0.6,0.6,0.5,2.3,0.5,1.0,1.3,2.2,0.7,2.6,1.4,1.8,1.7,0.5,2.8,0.5,0.5,2.7,0.5,0.5,0.5,2.6,0.5,2.5,2.5,1.5,0.7,1.4,2.5,0.5,1.2,1.4,1.4,1.7,2.5,1.7,2.8,0.5,0.5,2.1,2.8,2.8,2.8,1.1,2.1,1.2,2.1,1.7,0.7,1.7,1.9,0.9,0.7,0.7,0.5,0.5,1.0,3.0,2.5,0.7,2.5,0.5,0.5,0.5,0.5,0.5,0.5,2.6,2.5,0.7,1.0,2.3,2.4,0.8,1.1,0.8,0.8,0.5,2.5,2.6,2.8,1.1,1.1,0.5,2.6,0.5,0.5,1.5,0.6,0.8,2.6,2.5,1.5,2.5,2.0,0.5,0.8,0.5,1.5,0.5,0.7,1.3,1.8,2.5,2.6,2.4,2.3,2.3,0.6,1.9,0.5,2.1,1.3,0.5,1.8,1.6,2.2,2.9,2.2,1.3,2.1,2.1,2.1,1.9,0.6,0.6,0.5,1.2,1.9,0.7,1.8,1.8,2.5,1.5,3.0,0.6,1.7,2.4,0.5,1.3,3.0,1.2,2.4,2.6,1.0,1.9,1.5,1.5,1.3,2.4,1.0,1.1,2.0,2.2,0.8,0.5,0.8,2.8,2.7,1.4,1.2,2.0,1.3,2.9,1.8,0.7,1.4,0.5,1.6,2.0,0.5,2.2,2.2,2.0,1.5,2.1,0.5,0.5,1.8,1.5,1.9,2.8,2.2,0.5,2.7,0.5,2.3,0.7,0.5,2.2,0.5,1.8,2.8,2.8,1.8,2.8,1.9,0.7,2.4,2.0,2.7,0.5,2.5,1.9,1.6,1.8,0.7,0.5,1.7,1.6,2.5,0.9,0.5,1.8,0.7,0.5,1.4,0.5,2.1,2.0,0.5,1.6,2.6,0.5,2.5,2.5,1.7,1.0,2.7,0.5,2.0,2.6,0.5,0.5,0.5,2.5,0.9,1.6,0.8,2.3,1.6,1.2,2.8,1.6,2.5,0.5,0.5,2.8,1.7,1.8,0.5,2.5,1.0,0.6,0.5,0.5,0.5,1.6,1.4,0.5,2.3,1.8,2.2,1.8,1.5,1.0,0.8,0.6,2.9,1.8,0.7,1.6,2.7,1.5,1.4,2.4,0.7,0.6,1.6,1.4,0.5,1.2,2.0,1.8,1.8,1.3,2.8,0.5,2.8,1.2,0.6,1.0,0.5,1.5,2.8,1.9,1.4,0.6,1.5,0.6,2.6,2.6,1.7,2.3,0.8,1.7,1.3,2.3,2.6,0.7,1.1,0.5,0.5,0.6,2.6,1.1,0.5,2.3,2.3,0.5,1.9,0.5,0.9,0.7,1.2,2.3,1.9,2.8,1.3,1.8,2.9,2.9,0.5,3.0,2.5,1.5,1.3,0.5,0.5,0.6,0.5,0.8,0.6,0.5,2.8,1.3,1.2,0.9,1.6,2.4,0.5,2.5,1.2,1.3,1.3,2.3,1.6,0.5,0.7,1.5,2.2,0.5,0.5,1.9,0.8,0.8,2.3,0.5,0.5,1.7,2.8,2.3,1.4,1.9,2.0,2.6,0.5,2.9,2.9,2.2,2.8,0.5,1.9,0.5,1.6,1.1,0.5,0.5,1.9,2.5,0.5,2.1,1.6,2.4,1.5,1.1,0.7,0.5,0.5,0.5,1.5,0.5,0.5,0.5,2.3,1.5,0.5,2.3,1.9,0.5,0.5,2.1,2.7,1.4,0.5,1.9,2.1,0.5,2.7,1.3,2.1,1.4,2.4,2.5,1.4,2.1,2.8,1.0,1.7,0.7,2.0,2.2,0.5,2.5,2.9,2.8,2.0,2.2,0.9,2.9,0.5,2.5,2.5,0.5,1.4,2.7,2.5,0.9,0.5,0.5,2.1,2.8,0.5,1.5,2.1,0.9,0.5,0.9,0.5,0.5,2.3,0.8,1.7,2.6,1.2,0.9,0.6,2.2,2.0,2.1,1.9,1.0,2.6,1.1,1.0,2.7,2.3,2.0,1.5,2.1,2.3,0.6,0.5,2.3,1.2,0.5,1.3,1.2,0.8,1.9,0.5,0.5,2.0,3.0,0.5,2.9,1.0,0.5,0.7,0.5,0.5,0.7,1.4,1.8,1.5,2.5,2.8,1.6,0.6,1.5,2.3,2.4,0.5,2.6,1.9,1.4,2.2,3.0,1.6,0.5,2.4,2.3,1.0,2.5,0.5,1.0,2.8,2.2,2.0,2.3,1.3,0.5,1.9,1.8,0.6,0.8,3.0,0.7,0.7,1.0,0.5,0.5,1.8,0.5,2.2,0.5,0.5,1.6,1.3,0.9,0.7,1.9,1.2,0.6,1.4,1.2,0.5,2.9,0.5,2.3,1.9,2.2,0.7,0.5,1.5,2.9,2.0,2.4,1.6,0.7,0.5,1.9,1.8,2.7,1.5,1.7,0.5,2.6,1.9,2.4,1.7,2.0,2.4,0.6,2.6,0.5,2.0,1.1,0.5,0.5,0.6,2.2,0.6,3.0,0.5,2.8,2.9,0.5,2.1,1.2,1.6,2.2,0.8,1.9,0.5,1.7,0.8,2.3,2.7,2.3,1.2,1.6,2.8,2.7,0.5,0.8,0.8,1.1,1.4,1.1,2.7,1.5,3.0,2.7,0.5,2.9,2.6,1.2,2.3,0.5,2.9,1.7,0.8,2.8,0.5,0.5,2.6,2.0,2.8,2.8,0.5,2.0,1.7,1.0,0.5,0.5,2.5,1.8,2.9,0.6,2.8,2.0,2.1,3.0,0.5,2.9,1.3,1.5,1.3,0.5,2.5,1.8,0.5,2.9,0.5,0.5,1.0,1.5,1.6,3.0,1.5,1.9,1.2,2.8,2.7,0.7,1.0,1.7,0.5,0.5,2.8,2.0,0.5,1.6,2.8,1.9,1.9,1.6,0.5,0.5,0.5,0.5,0.6,2.2,1.1,2.1,0.9,1.8,0.5,2.1,2.9,1.4,2.7,1.4,2.1,0.5,0.5,0.5,1.0,0.5,0.5,1.4,2.8,0.8,1.9,2.7,0.8,0.6,2.4,0.9,2.3,2.6,2.0,0.5,2.7,1.4,2.8,1.1,1.1,3.0,0.5,2.1,0.8,0.5,2.6,1.9,0.9,1.8,0.5,1.4,1.9,1.6,0.5,0.8,0.5,1.1,2.3,0.9,0.5,1.3,0.5,1.3,1.7,2.3,1.9,0.5,0.6,0.7,1.3,1.7,0.5,1.2,2.0,2.5,2.3,1.6,0.5,0.6,2.7,1.6,1.0,1.4,2.5,3.0,2.2,1.3,1.5,2.9,0.7,1.3,2.4,0.5,0.5,0.7,0.5,1.0,0.5,0.9,0.5,0.5,2.2,2.8,1.9,0.7,2.8,0.5,1.1,1.5,1.7,1.9,0.8,2.2,2.3,0.5,1.8,1.4,0.5,2.1,2.6,2.0,0.5,0.9,1.6,0.5,1.7,1.5,2.4,0.5,0.7,2.4,1.5,1.5,0.6,1.8,2.1,2.1,2.2,1.7,1.6,0.8,1.4,1.5,2.2,1.2,1.3,0.6,0.9,0.6,1.5,0.8,1.8,0.5,1.0,0.5,2.9,0.6,1.0,1.2,0.6,2.5,1.8,0.5,2.9,1.1,2.6,0.7,2.8,1.4,2.5,1.9,2.7,0.6,2.8,0.5,2.6,2.3,0.5,1.0,1.7,1.5,2.9,0.6,2.9,0.9,1.6,1.2,0.5,1.8,1.6,1.2,2.1,2.7,1.7,0.9,2.3,2.1,2.4,2.3,2.8,2.9,0.5,2.7,1.8,2.1,1.0,0.5,0.9,0.5,1.9,1.4,1.5,1.4,1.6,0.8,0.8,2.4,1.4,0.5,1.9,1.2,1.2,1.2,2.5,1.0,2.1,2.7,1.0,2.4,0.5,2.5,1.0,2.1,1.6,0.5,0.5,0.7,2.4,1.6,1.3,0.9,1.6,2.0,1.7,0.6,2.7,0.6,0.5,2.5,0.5,2.2,2.5,2.9,0.5,2.9,1.2,0.5,1.4,0.9,1.6,2.8,1.5,2.5,2.7,2.1,0.5,0.6,2.6,1.0,2.0,0.6,0.5,1.9,0.7,1.4,1.2,2.9,1.0,1.3,1.8,1.1,0.8,3.0,0.5,0.8,0.5,1.1,2.2,1.2,1.0,2.6,1.6,1.8,2.2,2.1,0.9,1.0,2.9,2.8,2.4,2.0,2.9,0.5,2.2,0.5,2.6,0.9,0.9,2.0],\"type\":\"box\",\"xaxis\":\"x2\",\"yaxis\":\"y2\"},{\"boxmean\":true,\"boxpoints\":\"suspectedoutliers\",\"orientation\":\"h\",\"x\":[1,0,2,0,13,3,4,0,0,2,0,5,2,7,13,3,1,7,11,4,12,1,4,4,5,0,7,1,12,3,0,16,3,0,0,16,1,6,16,15,5,8,5,5,1,0,1,3,2,9,2,5,0,1,0,10,13,0,8,2,3,1,0,15,2,13,11,0,0,0,6,1,8,3,4,8,4,1,15,6,0,11,2,11,5,5,4,1,0,0,2,7,0,11,6,18,10,3,0,6,3,4,0,0,1,2,5,3,0,3,0,0,0,13,9,1,0,3,8,0,3,1,7,5,3,5,0,4,11,0,2,9,1,7,1,0,0,5,12,1,0,1,4,0,3,1,0,3,4,6,1,4,3,2,6,4,3,16,0,12,4,10,0,11,11,3,0,2,0,17,2,2,5,0,0,8,2,0,0,2,12,11,0,15,0,1,0,0,3,2,8,1,4,5,0,1,0,0,3,9,0,7,0,10,6,0,16,7,1,0,0,0,9,4,0,3,0,5,0,4,6,5,8,1,3,1,18,0,2,17,1,4,4,0,12,6,3,14,0,0,0,0,0,2,7,2,3,3,4,3,0,0,0,2,9,5,4,1,0,6,7,0,0,4,8,5,10,10,4,0,2,0,7,11,5,3,0,3,12,0,3,0,9,6,7,0,6,0,16,0,8,10,6,6,1,0,7,1,11,8,17,2,16,11,1,18,0,6,11,1,5,0,1,6,0,3,6,6,7,6,0,2,1,14,5,5,0,6,1,5,5,0,0,1,8,0,0,2,2,0,5,5,8,6,2,0,2,6,7,2,15,16,2,7,10,7,0,1,10,1,10,13,4,0,0,8,0,0,8,8,10,4,17,0,5,0,0,1,2,0,10,2,3,0,12,4,12,14,1,1,3,0,15,3,0,8,4,0,10,0,0,16,8,0,6,1,0,9,12,2,5,2,12,0,2,5,1,2,1,2,7,6,10,2,4,3,9,0,3,10,6,3,0,0,4,0,8,1,10,0,6,1,3,13,2,7,5,15,5,1,3,0,2,10,1,6,4,12,0,6,9,12,3,5,3,5,2,7,0,10,1,8,0,1,0,9,0,4,14,2,2,1,14,0,0,0,12,13,0,5,7,5,3,6,0,5,11,13,1,3,1,16,1,0,0,1,2,7,0,6,9,6,11,10,2,2,0,8,3,9,11,9,6,5,0,3,8,6,7,9,3,3,3,3,0,0,8,7,4,5,5,1,2,3,0,16,0,0,0,0,10,1,0,12,6,6,10,0,4,2,9,15,11,0,16,12,4,14,15,0,7,9,13,0,4,9,4,7,1,2,4,8,1,0,17,2,8,0,2,0,6,0,12,0,0,1,10,0,6,4,2,0,0,0,0,5,7,1,6,1,3,0,0,0,9,1,6,1,0,7,1,5,0,7,5,12,0,0,1,1,1,0,0,5,13,7,2,10,4,0,0,0,0,2,4,6,4,13,1,0,7,10,1,8,7,2,11,3,13,9,1,1,6,6,0,4,4,1,4,0,11,4,0,6,2,8,2,5,10,10,0,0,12,1,13,3,10,0,8,5,2,7,2,1,0,6,0,3,4,0,7,1,1,4,0,2,2,3,2,10,0,1,8,14,0,0,5,5,3,1,12,0,6,2,6,13,0,0,4,9,8,2,13,0,12,3,3,1,13,0,0,0,0,5,6,16,7,1,5,1,2,0,6,5,8,7,0,0,2,3,6,1,0,0,7,5,0,1,4,9,7,16,0,1,0,1,2,9,2,0,15,10,6,11,5,6,7,2,12,8,0,1,3,8,4,0,0,0,2,3,12,15,4,2,0,0,3,5,4,8,4,9,0,10,0,1,0,1,7,2,0,6,0,0,7,8,15,5,6,4,1,1,2,4,0,9,0,15,2,1,5,3,8,3,7,13,8,13,11,10,0,5,2,2,7,6,0,6,9,2,0,11,0,9,3,3,9,3,0,6,7,6,10,0,2,0,1,2,5,7,3,0,1,1,8,6,13,0,8,0,0,4,0,12,5,3,3,4,7,0,0,9,10,3,3,4,6,5,0,0,3,0,2,1,15,4,4,3,0,0,2,0,5,0,15,2,13,15,5,0,0,3,3,11,2,2,1,1,5,9,9,0,3,0,0,0,2,3,2,6,7,0,9,6,0,4,9,1,3,3,7,2,4,4,4,1,0,0,7,7,5,5,6,1,0,0,0,4,4,3,11,0,2,2,0,9,5,0,4,10,13,13,5,11,14,5,2,0,1,3,2,5,12,3,15,0,11,16,2,4,5,7,0,0,3,4,0,1,12,3,0,1,13,7,9,13,1,7,0,0,6,3,8,0,7,1,0,1,0,2,12,2,0,5,3,10,4,1,1,3,0,3,1,1,11,0,1,0,9,0,3,4,16,5,3,7,6,5,4,1,2,1,0,13,0,3,0,8,0,1,3,1,7,11,0,1,0,8,6,9,2,8,0,3,0,1,6,2,4,0,1,13,4,2,4,11,1,0,3,1,5,0,1,0,1,14,2,11,0,11,8,15,4,1,9,4,1,8,13,0,2,2,0,3,2,1,1,1,2,10,3,3,10,10,1,0,5,3,0,0,9,11,2,2,1,0,2,0,10,0,13,0,8,11,8,9,0,0,8,9,12,4,2,0,2,3,12,2,9,0,0,0,11,0,0,0,11,5,7,1,10,12,4,0,2,7,16,0,0,2,1,0,0,6,11,2,0,2,13,2,0,7,10,1,8,3,1,5,5,3,0,0,2,7,0,6,3,2,0,4,5,4,5,0,9,0,5,2,4,0,2,7,11,5,10,0,1,0,0,2,1,2,1,1,6,5,4,0,14,5,0,1,8,1,1,1,13,3,4,1,7,0,1,3,4,4,10,2,2,12,4,5,4,5,2,0,0,1,10,7,6,10,0,7,1,10,0,1,10,2,5,1,5,2,1,5,2,7,0,2,0,3,0,3,5,1,0,13,3,9,6,4,7,6,0,3,2,14,0,15,1,5,3,9,8,5,4,3,7,0,3,12,9,2,8,1,0,5,0,0,8,12,7,0,8,0,7,0,9,2,9,0,1,2,4,0,8,8,4,2,0,3,2,3,1,0,1,0,0,2,0,7,1,12,6,0,9,18,3,6,1,15,4,0,0,8,6,2,0,7,0,6,6,5,3,3,18,1,1,7,0,1,6,6,2,10,18,0,1,2,4,4,1,3,5,1,8,0,11,9,1,0,9,0,0,9,5,1,8,4,2,0,5,0,7,7,6,16,0,9,3,0,1,1,5,0,16,6,10,3,7,1,4,11,0,0,3,4,0,0,0,5,1,0,14,2,6,0,0,2,8,7,0,1,11,0,1,9,0,7,5,9,1,3,0,4,2,2,1,5,6,0,2,7,4,5,4,0,7,0,9,7,1,5,2,0,13,3,1,3,9,6,14,0,0,2,1,5,1,4,5,0,5,0,12,9,9,7,9,1,5,9,9,7,1,2,2,4,0,17,0,2,0,1,18,1,1,0,12,7,5,0,2,1,1,3,6,0,0,6,2,0,6,0,11,2,2,6,0,9,2,0,2,0,6,11,5,1,11,3,1,0,3,0,16,10,1,1,0,7,10,2,4,0,1,8,3,0,9,0,12,3,1,2,1,0,7,5,7,6,0,3,3,1,5,1,6,5,11,12,6,1,0,11,13,1,10,2,3,0,16,6,14,9,1,0,2,0,10,2,4,5,3,0,10,14,4,5,4,6,10,10,1,0,3,16,1,0,14,5,4,5,6,7,3,0,10,4,5,6,5,0,0,3,14,5,13,5,13,5,0,1,6,18,0,4,4,0,3,1,0,2,0,8,8,19,0,16,1,15,0,0,8,2,10,5,0,0,2,0,6,7,3,7,2,2,3,5,0,12,6,6,12,0,4,11,2,4,15,4,5,9,2,2,0,6,3,11,5,0,10,1,5,1,0,1,2,1,5,3,2,5,3,4,3,3,0,15,0,0,8,0,0,3,3,1,6,1,5,0,7,9,3,10,8,3,3,7,16,1,9,0,0,0,2,4,1,6,12,14,0,8,3,2,12,4,5,4,0,7,1,1,0,1,4,1,1,6,1,3,0,13,0,13,3,4,9,4,8,4,9,6,1,4,3,6,0,0,12,2,1,1,2,0,8,3,3,14,3,11,9,13,1,8,1,14,6,1,3,4,3,5,3,3,1,11,7,7,1,7,8,10,0,1,1,5,0,0,0,0,18,8,18,5,3,0,11,0,18,1,3,4,7,1,0,3,1,2,3,9,2,1,9,1,3,7,0,1,2,2,5,0,1,9,3,1,2,0,0,1,1,0,9,8,2,5,0,2,8,0,5,0,1,3,0,6,1,0,7,12,1,4,5,7,2,5,0,0,0,4,1,10,4,0,0,4,2,0,6,3,0,13,9,3,4,2,0,2,0,5,0,0,6,2,9,7,2,1,3,1,4,8,4,12,0,8,6,9,2,2,8,11,1,0,1,0,0,1,4,5],\"type\":\"box\",\"xaxis\":\"x3\",\"yaxis\":\"y3\"},{\"boxmean\":true,\"boxpoints\":\"suspectedoutliers\",\"orientation\":\"h\",\"x\":[7,53,41,10,44,22,10,24,53,9,9,33,33,17,52,46,13,23,49,19,39,13,47,38,8,57,51,41,52,21,5,33,41,51,22,60,61,6,11,50,44,41,5,34,20,27,42,40,57,64,14,63,43,16,51,46,60,61,49,48,12,63,50,55,9,44,36,30,10,43,45,22,9,43,38,42,9,33,16,29,58,64,45,61,57,25,42,64,3,33,57,54,15,14,7,7,23,60,37,31,10,12,57,55,8,39,23,42,46,41,43,32,4,7,22,18,53,40,46,15,10,10,52,36,25,16,58,25,31,19,54,2,41,30,36,16,22,46,3,14,31,14,43,33,64,9,31,40,47,41,56,56,61,32,45,46,60,6,29,34,37,51,14,26,3,33,27,10,58,44,32,8,10,42,16,25,29,23,22,63,30,41,38,20,54,4,5,46,6,43,46,7,64,57,20,23,41,61,26,36,22,20,16,30,61,47,8,49,51,35,23,41,63,39,50,53,49,17,24,51,29,40,13,25,38,17,49,31,37,24,39,9,31,27,6,11,42,6,38,49,49,44,51,10,37,50,23,48,7,30,55,63,63,7,19,57,4,32,51,6,59,25,56,28,18,57,40,38,47,28,7,4,45,3,30,62,61,8,2,39,36,40,54,6,56,27,16,24,26,42,63,16,9,48,34,56,12,52,56,38,58,57,56,12,29,52,37,8,42,40,44,41,50,41,49,49,64,14,42,64,5,29,64,63,18,25,21,26,27,13,20,9,20,7,47,18,47,48,36,22,54,2,17,37,6,52,10,3,57,42,44,2,33,8,19,64,17,50,62,61,21,57,32,21,36,2,9,34,46,52,52,36,55,58,42,30,26,14,19,46,8,48,59,54,33,18,44,23,12,63,26,39,23,9,57,7,57,33,28,42,7,50,19,55,13,34,45,17,34,51,5,44,48,49,25,51,54,63,54,4,7,57,43,11,48,56,47,24,20,28,17,64,57,17,23,50,13,36,3,8,57,11,3,26,3,28,64,62,51,51,35,54,34,25,64,48,41,53,28,44,43,6,51,13,40,42,37,4,18,61,48,16,45,60,22,2,61,26,15,58,56,34,3,43,27,41,2,27,20,48,17,31,17,50,15,39,5,31,33,34,54,32,6,32,29,19,23,15,59,44,50,10,7,45,9,2,12,61,57,19,55,46,14,51,23,26,54,27,61,12,38,8,30,17,16,31,37,49,53,51,16,38,39,21,16,19,50,31,7,35,45,41,43,45,21,26,53,32,30,13,61,14,13,3,38,32,30,52,50,34,8,32,46,55,24,20,6,24,23,23,19,18,24,5,5,58,29,40,40,17,35,39,64,55,54,58,25,11,3,11,40,44,12,7,28,56,20,35,16,46,56,4,30,24,21,44,34,39,16,21,5,36,2,30,48,54,30,34,58,35,21,26,19,54,9,15,9,27,43,47,14,3,31,46,3,14,60,25,53,35,64,15,25,35,54,7,14,45,50,50,36,21,46,61,26,33,44,48,11,3,27,62,32,32,45,22,64,13,12,60,12,34,41,27,31,25,60,19,41,57,26,52,38,23,33,57,43,22,17,19,2,62,48,39,20,30,50,49,35,21,25,20,28,2,9,11,6,3,49,37,52,8,61,54,51,45,58,7,21,43,2,49,42,61,13,25,57,42,34,15,35,37,8,18,58,16,43,17,4,45,53,16,5,51,45,63,11,12,34,58,39,49,56,14,15,7,16,27,30,25,64,23,27,50,45,63,18,58,8,11,11,50,50,14,47,56,55,42,2,55,46,24,38,53,25,56,10,41,8,22,20,3,52,6,19,5,21,10,10,44,33,8,25,16,54,52,64,8,48,57,61,30,14,52,25,7,2,33,4,27,43,31,55,9,21,33,63,11,30,48,39,35,34,16,51,55,32,16,38,16,63,58,41,8,10,52,56,21,29,6,15,35,14,35,11,34,15,8,2,32,9,9,4,64,11,13,34,48,53,18,47,21,30,22,39,6,31,50,3,36,8,40,58,61,32,49,49,8,34,12,46,27,26,53,45,17,27,53,45,30,12,10,23,53,36,49,14,35,5,60,30,58,8,63,48,29,38,13,55,13,27,27,44,9,23,7,34,13,54,46,39,33,52,7,8,46,50,42,13,41,13,46,38,54,47,57,6,52,36,33,7,61,7,55,8,19,34,13,46,38,14,52,52,30,54,47,23,58,59,47,34,58,44,19,11,51,20,21,45,11,19,48,27,3,43,49,10,19,29,20,28,57,50,46,53,58,13,34,31,51,19,6,53,53,33,52,54,28,63,64,23,59,61,58,55,49,53,37,4,38,18,43,12,41,57,13,57,60,28,46,14,63,52,18,39,63,5,30,7,22,21,35,37,3,27,19,64,33,18,16,32,28,51,18,17,42,23,23,45,27,41,60,31,8,62,10,39,59,24,23,14,40,33,37,14,55,30,55,4,18,30,58,58,62,2,10,35,35,61,60,14,32,57,12,55,47,18,46,45,43,35,59,57,36,64,22,44,58,63,46,16,35,41,12,9,54,50,16,5,52,31,62,10,55,9,14,8,60,10,55,43,24,56,31,51,2,14,12,32,44,46,35,2,38,20,49,61,50,21,40,28,29,59,16,40,42,27,9,44,51,15,51,57,18,3,47,14,11,30,7,24,2,13,62,40,9,56,62,39,52,11,10,37,27,60,2,34,49,26,58,32,35,45,57,41,22,50,20,51,5,58,2,24,11,32,56,29,57,51,9,24,5,27,37,56,6,35,55,64,16,20,10,36,61,62,40,55,32,4,39,7,35,24,50,59,47,21,20,29,54,41,43,31,49,52,6,13,52,49,7,60,20,27,12,39,13,7,4,19,54,42,31,25,12,46,6,8,37,23,58,12,6,10,15,12,9,19,49,28,58,46,60,31,36,59,56,44,42,2,52,6,19,5,33,58,30,42,26,6,5,44,23,6,27,41,32,59,17,5,17,13,29,20,27,42,47,17,22,39,60,29,16,24,14,47,34,5,36,12,16,58,44,10,42,42,51,18,7,14,14,26,14,2,42,31,63,9,40,57,31,28,27,42,12,39,11,14,62,51,23,15,6,40,52,32,63,24,49,57,62,33,56,50,10,2,29,52,17,63,52,42,14,28,6,30,28,26,14,29,35,13,55,18,27,40,21,60,63,33,54,14,30,15,10,32,15,2,50,44,58,19,6,34,59,6,19,37,9,10,41,44,27,14,24,32,40,18,16,31,22,13,64,53,27,13,5,6,11,44,50,55,12,31,50,22,57,44,33,42,11,31,10,44,28,20,33,40,10,33,40,20,11,63,10,29,5,2,39,44,54,12,40,31,50,9,21,22,3,36,8,12,2,29,48,26,20,40,20,64,43,60,15,21,60,4,8,36,11,23,48,35,3,34,14,27,20,42,14,22,60,24,33,57,38,50,8,60,12,30,55,58,9,59,38,11,6,57,16,19,30,5,18,30,44,40,15,20,27,15,45,39,23,55,18,36,42,43,28,54,2,26,14,50,28,23,39,12,16,14,3,27,34,16,43,56,42,12,49,24,15,54,19,19,22,46,2,26,31,35,11,36,7,62,7,42,30,5,8,53,59,35,27,24,39,5,27,17,33,21,58,44,15,6,37,40,24,39,41,52,48,15,17,41,62,38,58,11,16,56,30,34,20,47,44,28,62,4,47,8,2,41,57,14,5,45,5,59,33,63,7,5,50,11,40,57,62,27,16,42,61,10,13,4,20,61,16,18,46,2,42,54,57,9,25,26,32,23,51,17,45,49,37,7,41,49,62,5,24,35,4,33,17,52,12,53,33,48,26,20,45,36,33,20,27,2,35,54,21,29,42,56,47,14,49,7,7,2,5,28,27,9,30,44,27,8,21,15,26,21,24,20,5,17,19,11,48,5,52,24,12,32,26,21,42,28,59,52,45,57,28,21,50,44,10,43,35,57,26,56,27,44,23,46,40,22,44,16,32,23,63,8,48,64,12,7,30,19,16,11,16,47,64,23,29,28,26,34,47,23,51,54,11,15,64,47,53,64,8,12,20,60,11,16,37,47,2,60,53,58,30,27,55,38,6,63,16,19,5,51,58,31,34,17,53,26,57,56,2,5,48,60,26,17,41,21,37,12,45,14,24,42,52,44,35,14,6,7,16,62,61,59,49,60,2,30,19,14,60,9,19,25,7,29,19,54,53,44,20,22,24,17,55,3,27,39,5,53,2,64,53,2,27,16,10,28,42,2,52,12,8,15,56,32,15,62,46,30,11,63,36,21,13,9,47,45,18,38,11,45,2,35,13,41,63,39,18,62,10,23,45,16,41,45,37,12,14,40,63,33,35,32,33,30,2,8,21,40,37,49,4,16,21,7,6,7,21,32,6,25,64,27,23,18,64,36,24,17,5,45,24,27,61,16,55,40,3,14,42,21,6,29,25,46,9,33,27,10,18,53,9,4,6,41,34,37,59,58,13,57,15,36,44,21,18,50,2,39,36,46,45],\"type\":\"box\",\"xaxis\":\"x4\",\"yaxis\":\"y4\"},{\"boxmean\":true,\"boxpoints\":\"suspectedoutliers\",\"orientation\":\"h\",\"x\":[0.6,0.7,0.9,0.8,0.6,0.7,0.8,0.8,0.7,0.1,0.1,0.5,0.6,1.0,0.7,0.7,0.1,0.1,0.6,1.0,0.8,1.0,0.3,0.7,0.4,0.6,0.3,1.0,0.3,0.4,0.2,1.0,0.9,0.6,0.7,0.4,0.6,0.5,0.3,0.3,0.6,0.2,0.2,0.1,0.8,0.2,1.0,0.8,0.2,0.8,0.7,0.8,0.3,0.3,0.5,0.6,0.5,0.4,0.5,1.0,0.6,0.8,0.8,0.5,0.7,0.8,0.3,0.5,0.6,0.8,0.8,0.7,0.1,0.7,0.5,0.9,0.4,0.6,0.2,0.7,0.9,0.2,0.9,1.0,0.8,0.8,0.5,0.8,0.1,0.5,0.5,1.0,0.4,0.7,0.8,1.0,0.2,0.2,0.7,0.4,0.3,0.8,0.7,0.6,0.5,0.7,1.0,0.1,0.3,0.1,1.0,0.5,0.7,1.0,0.6,0.2,0.3,0.9,0.9,0.5,0.3,0.5,0.9,0.8,0.8,0.6,0.3,0.5,0.6,0.1,0.8,0.1,1.0,0.2,0.7,0.5,0.9,0.5,0.3,0.1,0.1,0.5,0.3,0.5,0.9,0.4,0.2,0.5,0.4,0.8,0.1,0.2,0.9,0.7,0.7,0.9,0.8,0.4,0.5,0.7,0.6,0.3,0.5,0.5,0.1,0.8,0.9,0.4,0.2,0.3,0.5,0.1,0.2,0.3,1.0,0.8,0.8,0.1,0.1,0.4,0.3,0.2,0.1,1.0,0.2,0.8,0.1,0.1,0.5,0.9,0.6,0.2,0.3,0.2,0.1,0.2,0.8,0.7,0.3,0.4,0.6,0.4,0.3,0.7,0.1,0.3,0.3,0.7,0.1,0.4,0.1,0.1,0.5,0.5,0.4,1.0,0.2,0.2,0.4,0.1,0.5,0.5,0.5,0.9,0.1,0.2,0.1,0.6,0.1,0.3,0.8,0.4,0.5,0.1,0.8,0.1,0.1,0.1,1.0,0.4,0.1,0.5,0.3,0.6,0.4,0.2,0.4,0.4,0.8,0.7,0.6,0.1,1.0,0.2,0.6,0.2,0.1,0.5,0.5,0.5,0.7,0.2,0.6,0.7,0.8,1.0,0.3,0.4,0.9,0.3,0.9,0.1,0.3,0.6,0.9,0.5,0.8,0.3,0.8,0.4,1.0,0.9,0.5,0.5,0.1,0.7,0.3,0.2,0.8,0.6,0.2,0.1,0.8,0.6,0.3,0.7,0.3,0.9,0.7,0.1,0.6,0.6,0.1,0.9,0.4,0.3,0.5,0.6,0.8,0.5,0.5,0.8,0.5,0.7,0.6,0.9,0.8,0.4,0.3,0.2,0.6,0.8,0.9,1.0,0.9,0.4,0.4,0.2,0.5,0.4,0.8,0.1,0.1,0.6,0.2,0.3,0.9,0.3,0.8,0.8,0.1,0.3,0.1,0.7,0.3,0.7,0.2,0.7,0.6,0.4,0.3,0.1,1.0,0.5,0.8,0.9,0.9,0.5,0.3,0.3,0.9,0.9,0.8,0.8,0.3,0.5,0.4,0.8,0.7,1.0,0.1,0.2,0.7,0.5,0.6,0.4,0.1,0.4,0.4,0.4,0.9,0.2,0.1,0.7,0.2,0.7,0.2,1.0,0.6,0.5,0.1,0.2,0.6,0.9,0.3,0.4,0.9,0.7,0.2,0.2,0.2,0.8,0.6,0.1,0.2,0.7,0.1,0.7,0.7,0.6,0.2,0.5,0.7,0.6,0.8,0.3,0.3,0.2,0.2,0.8,0.4,0.3,0.2,0.4,0.1,0.4,0.3,0.1,0.5,0.8,0.2,0.7,0.4,0.7,0.8,0.3,0.8,0.5,0.6,0.7,0.9,0.3,0.3,1.0,0.1,0.4,0.9,0.3,0.8,0.7,0.2,0.7,0.8,1.0,0.7,0.7,0.1,0.4,0.9,0.1,0.4,0.7,0.1,1.0,0.6,0.8,0.9,0.7,0.1,0.3,0.7,0.1,1.0,0.7,0.8,0.6,0.8,0.3,0.1,0.1,0.9,0.1,0.3,0.7,0.2,0.3,0.7,0.3,0.8,0.6,0.3,1.0,0.2,0.8,0.1,0.6,1.0,0.8,0.4,0.1,0.1,0.6,1.0,0.6,0.3,0.7,0.2,0.9,0.7,0.7,0.6,0.9,0.5,0.9,0.9,0.6,0.8,0.1,0.1,1.0,0.7,0.9,0.5,0.3,0.1,0.1,0.5,0.1,0.1,0.3,0.7,0.1,0.9,0.5,1.0,0.4,0.9,0.6,0.2,0.5,0.1,0.6,0.1,1.0,0.1,0.2,0.8,0.2,0.9,0.5,0.9,0.5,0.1,0.1,0.2,0.8,0.3,0.7,0.3,0.9,0.1,0.8,0.6,0.1,0.1,0.1,0.4,0.8,0.1,0.1,0.8,0.1,0.9,0.9,0.3,0.1,0.7,0.8,0.1,0.4,0.9,0.1,0.3,0.2,0.1,0.1,0.2,0.6,0.9,0.7,0.6,0.7,0.3,0.6,0.1,0.6,0.1,0.1,0.9,0.1,0.4,0.7,0.3,0.8,0.8,0.3,0.1,0.9,0.9,0.3,0.1,0.2,0.2,0.5,0.1,0.5,0.5,0.4,0.1,0.7,1.0,0.1,0.6,0.5,0.8,0.3,0.2,0.2,0.5,0.6,0.7,0.8,0.2,0.8,0.5,0.5,0.3,0.3,0.9,0.3,0.8,0.1,0.9,0.8,0.1,0.6,0.7,0.9,0.6,0.1,0.8,0.3,0.2,0.2,0.4,0.5,0.7,1.0,0.2,0.2,0.3,0.5,0.7,0.9,0.7,0.5,0.5,0.8,0.7,0.2,0.5,0.7,0.2,0.8,0.3,0.1,0.9,1.0,0.5,0.9,0.9,0.3,0.9,0.9,0.1,0.8,0.1,0.9,0.1,0.9,0.1,0.1,0.4,0.8,0.4,0.3,0.4,0.5,0.7,1.0,0.1,0.7,0.7,0.1,0.6,0.7,0.7,0.4,0.6,0.8,0.6,0.5,0.4,0.3,0.6,0.5,0.7,0.2,0.7,0.9,0.5,0.1,0.1,0.1,0.3,0.3,0.2,0.3,0.7,0.4,0.3,0.8,0.8,0.6,0.3,1.0,0.6,0.6,0.2,0.1,0.2,0.7,0.2,0.5,0.8,0.7,0.8,0.9,0.2,0.8,0.3,0.5,0.9,0.4,0.8,0.1,0.3,0.1,0.2,0.2,0.3,0.8,0.6,0.7,0.4,0.2,0.5,0.3,0.2,0.3,0.6,0.1,0.1,0.8,0.3,0.7,0.9,0.7,0.4,0.2,0.6,0.2,0.1,0.2,0.4,0.6,0.9,0.7,0.2,0.3,0.1,0.7,0.3,0.8,0.6,0.7,0.3,0.6,0.4,0.8,0.8,0.1,1.0,0.6,1.0,0.4,0.2,0.6,0.7,0.7,0.9,0.3,0.3,0.9,0.3,0.1,0.1,0.1,0.2,0.1,0.5,0.5,0.4,0.7,0.8,0.9,0.3,0.9,1.0,0.9,0.5,0.5,0.7,0.1,0.6,1.0,0.7,0.6,0.5,0.6,0.8,0.8,0.5,0.6,0.4,0.9,0.6,0.7,0.4,0.1,0.8,0.2,0.8,0.9,0.5,0.1,0.5,0.8,0.6,0.1,0.4,0.8,0.7,0.7,0.2,0.8,0.5,0.1,0.1,0.3,0.1,0.8,0.8,0.2,0.5,0.1,0.2,0.5,0.2,0.1,0.7,0.2,0.9,0.3,0.1,0.9,0.5,0.7,0.9,0.8,0.1,1.0,0.3,0.6,0.7,0.5,0.8,0.4,0.4,0.9,0.4,0.3,0.4,0.3,0.2,0.2,0.6,0.3,0.4,0.8,0.6,0.9,0.5,0.2,0.4,0.5,0.9,0.4,0.5,0.4,0.7,1.0,0.5,0.8,0.2,1.0,0.1,0.4,0.1,0.9,0.1,0.2,0.1,0.7,0.5,0.9,0.6,1.0,0.2,0.4,0.1,0.3,0.1,0.1,0.2,0.3,0.1,0.2,0.5,0.6,0.3,0.7,0.4,0.4,1.0,0.1,0.1,1.0,1.0,0.2,0.7,0.1,0.8,0.5,1.0,0.3,0.6,0.5,0.5,0.1,0.2,0.9,0.8,0.9,0.9,0.4,0.5,0.1,0.3,0.8,0.4,0.2,0.5,0.3,0.2,0.5,0.9,0.2,0.4,0.4,0.6,0.5,0.1,0.3,0.9,0.2,0.5,0.9,0.9,0.6,0.1,0.5,0.1,0.3,1.0,0.5,0.3,0.1,0.4,0.3,0.9,0.1,0.7,1.0,0.9,0.5,0.1,0.5,0.7,0.2,0.4,0.5,0.3,0.2,0.1,1.0,0.2,0.2,0.1,0.3,0.3,1.0,0.9,0.1,0.3,0.9,0.8,0.4,0.6,0.9,0.7,0.6,0.2,0.2,0.8,0.7,0.5,0.8,0.2,0.1,0.8,0.3,0.4,0.1,0.4,0.1,1.0,0.9,0.2,0.8,0.1,0.2,0.6,0.7,0.7,0.1,0.7,0.2,0.5,0.6,0.1,0.8,0.6,0.5,0.6,0.2,0.4,0.9,0.9,0.1,0.2,0.9,0.6,0.7,0.7,0.1,0.4,0.9,0.1,0.9,0.7,0.8,0.1,0.9,1.0,0.1,0.8,0.1,0.9,0.1,0.3,0.7,0.1,0.1,0.7,0.7,0.4,0.1,0.8,0.8,0.8,0.7,0.3,0.4,0.2,0.5,0.2,0.3,0.9,0.8,0.6,0.1,0.4,0.9,0.1,0.7,0.3,0.2,0.9,0.1,0.9,0.7,0.6,0.8,0.2,0.5,0.7,0.1,0.2,0.5,0.6,1.0,0.4,0.8,1.0,0.6,0.9,0.9,1.0,0.1,0.8,0.2,0.6,0.3,0.8,0.5,0.3,0.9,0.1,0.5,0.2,0.6,0.1,0.8,0.7,0.9,0.1,0.3,0.2,0.3,0.1,0.3,0.2,0.7,0.4,0.3,0.5,0.1,0.4,0.6,0.1,0.9,0.1,0.7,0.8,0.9,0.3,0.1,0.6,0.7,0.5,0.1,0.7,0.9,0.8,0.6,0.1,0.5,0.3,0.1,0.3,0.5,0.6,0.7,1.0,0.3,0.1,0.8,0.4,0.7,0.9,0.4,0.7,1.0,0.7,0.2,0.7,0.6,0.9,0.8,0.4,0.4,0.1,0.1,0.9,0.4,0.7,0.4,0.6,0.1,0.4,0.6,0.3,0.3,0.3,0.3,0.5,0.1,0.5,0.1,0.6,0.4,0.6,1.0,0.8,0.8,0.3,0.5,0.6,0.4,0.3,0.5,0.5,0.6,0.9,0.1,0.7,0.6,0.2,0.1,0.8,0.8,0.9,0.2,0.2,0.7,0.7,0.3,0.9,0.4,0.9,0.8,0.8,0.2,0.6,0.9,0.5,0.2,0.1,0.4,0.7,0.2,0.1,0.3,0.3,0.8,0.3,0.7,0.2,0.5,0.4,0.6,0.3,0.1,0.7,0.3,1.0,0.1,0.1,0.1,0.9,0.8,0.8,0.4,0.8,0.2,0.6,0.7,0.5,0.1,0.7,0.8,0.5,0.1,0.6,0.7,0.9,0.1,0.2,0.8,0.2,0.5,0.8,0.5,0.4,0.9,0.1,0.1,0.7,0.1,0.5,0.2,0.2,0.4,0.2,0.9,0.6,0.4,0.1,0.1,0.5,0.8,0.8,0.8,0.9,0.1,0.3,0.8,0.1,0.4,0.8,0.6,0.8,0.9,0.6,0.4,0.7,0.1,0.5,0.1,0.2,0.4,0.7,0.5,0.1,0.8,0.9,0.1,0.4,0.2,0.8,0.8,0.1,0.1,0.4,0.6,0.5,0.3,0.5,0.7,0.2,0.4,0.1,0.2,0.9,0.2,0.4,0.3,0.3,0.9,0.6,0.6,0.8,0.9,1.0,0.2,0.2,0.1,0.1,0.1,1.0,0.1,0.3,0.3,0.7,0.8,0.5,0.7,0.5,1.0,0.6,0.3,0.6,0.4,0.1,0.4,0.2,0.7,0.6,0.3,0.6,0.1,0.1,0.7,0.9,0.6,0.8,0.4,0.6,0.4,0.5,0.2,0.5,0.7,1.0,0.2,0.7,0.5,0.3,0.8,0.4,0.3,0.5,0.1,0.8,0.3,0.7,0.4,0.7,0.9,0.8,0.5,0.6,0.1,0.6,0.1,0.9,0.7,0.2,0.4,0.4,0.4,0.9,0.7,1.0,0.1,0.1,0.1,0.5,0.8,0.6,0.1,0.9,0.4,0.9,0.2,0.2,0.4,0.2,0.1,0.7,0.1,0.8,0.1,0.5,0.7,1.0,0.8,0.4,0.6,0.5,0.7,0.7,0.1,0.5,0.3,0.9,0.4,0.5,0.9,0.1,1.0,0.4,0.1,0.5,0.8,0.3,0.2,0.1,0.5,0.2,0.9,0.4,0.9,0.2,0.4,0.1,0.7,0.9,0.8,0.1,0.6,0.6,0.7,0.5,0.8,0.8,0.9,0.1,1.0,0.6,0.6,0.2,0.8,0.8,0.8,0.2,0.4,0.8,0.7,0.4,0.2,1.0,0.1,0.5,0.7,0.9,0.9,0.3,0.5,1.0,1.0,0.1,0.1,0.8,0.9,0.6,0.3,0.2,0.1,0.5,0.7,0.1,0.5,0.6,0.9,0.1,0.7,0.6,0.9,0.7,0.9,0.3,0.3,0.1,0.8,0.3,0.6,0.1,0.6,0.3,0.1,0.3,0.7,0.1,0.1,1.0,0.6,0.1,0.7,0.9,0.9,0.7,0.1,0.3,0.6,0.1,0.1,0.7,0.5,0.1,0.2,0.2,0.5,0.9,0.4,0.2,0.5,0.6,0.3,0.7,0.2,0.5,0.2,0.2,0.1,0.1,0.2,1.0,0.7,0.2,0.1,0.1,1.0,0.8,1.0,0.3,0.1,1.0,0.9,0.2,0.8,0.5,0.5,0.8,0.8,0.5,0.5,0.8,0.8,1.0,0.9,0.1,0.7,0.6,0.2,0.5,0.1,1.0,0.6,0.2,0.3,0.8,0.2,0.3,0.5,1.0,1.0,1.0,0.2,0.3,0.2,0.6,0.1,0.2,0.6,0.1,0.6,0.9,0.8,0.9,0.4,0.8,0.3,0.7,0.9,0.4,0.1,0.9,0.1,0.6,0.2,0.1,0.7,0.3,0.3,1.0,0.2,0.4,0.3,0.9,0.5,0.4,0.6,0.5,0.4,0.5,0.3,0.9,0.7,0.7,0.4,0.6,0.5,0.1,0.3,0.9,0.1,0.5,0.6,0.4,0.2,0.6,0.8,0.8,0.2,0.6,0.7,0.6,0.3,0.4,1.0,0.2,0.1,0.9,0.1,0.9,0.1,0.1,0.1,1.0,0.5,0.9,0.9,0.8,0.1,0.8,0.5,0.6,0.7,0.6,0.1,0.1,0.5,0.5,0.8,0.3,0.2,0.2,0.8,0.5,0.7,0.5,0.1,0.2,0.1,0.1,0.5,0.2,0.7,0.1,0.6,0.5,0.9,0.2,0.3,0.4,0.5,0.4,0.3,0.3,0.7,0.1,0.6,1.0,0.9,0.4,0.9,0.9,0.2,0.1,1.0,0.3,0.7,0.9,0.5,0.5,0.3,0.6,0.9,0.4,0.9,0.2,0.5,0.4,0.9,0.4,0.6,1.0,0.4,0.6,1.0,0.9,0.4,0.6,0.2,0.2,0.8,0.3,0.1,0.1,0.3,0.1,0.8,0.7,0.6,0.4,0.5,0.2,0.1,0.1,0.4,0.1,0.5,0.1,1.0,0.2,0.9,0.7,0.3,0.4,0.3,0.4,0.1,0.8,0.7,0.3,0.1,0.8,0.8,0.7,0.9,0.6,0.8,0.5,0.2,0.8,0.6,0.3,0.1,0.2,0.6,0.1,0.6,0.9,0.7,1.0,0.9,0.9,0.8,0.6,0.5,0.2,0.5,0.7,0.5,0.2,1.0,0.8,0.8,0.9,0.5,0.9,0.4,1.0,0.4,0.3,0.6,0.9,0.9,0.8,0.5,0.5,0.1,0.6,0.1,1.0,0.1,0.1,0.6,0.1,0.8,0.3,0.2,0.7,0.9,0.6,0.2,1.0,0.9,0.4,0.9,0.7,1.0,0.8,1.0,0.2,0.1,0.5,0.6,0.6,0.5,0.4,0.2,0.3,0.2,0.5,0.6,0.6,0.1,0.9,0.3,0.5,0.7,0.2,0.8,0.3,0.7,1.0,0.1,0.4,0.4,0.4,0.6,0.3,0.5,0.2,0.7,0.8,0.3,0.3,0.7,0.5,0.7,0.2,0.8,0.4,0.2,1.0,0.5,0.8,0.5,0.6,0.2,0.1,0.9,0.2,0.8,1.0,0.5,0.2,0.1,1.0,0.2,0.6,0.1,0.2,0.7,0.9,0.6,0.6,0.3,0.8,0.1,0.3,0.1,1.0,0.2,0.7,0.1,0.9,0.4,0.4,0.1,0.9,0.1,0.5,0.1,0.4,0.2,0.8,0.8,0.2,0.6,0.1,0.8,0.2,0.7,0.1,0.9],\"type\":\"box\",\"xaxis\":\"x5\",\"yaxis\":\"y5\"},{\"boxmean\":true,\"boxpoints\":\"suspectedoutliers\",\"orientation\":\"h\",\"x\":[188,136,145,131,141,164,139,187,174,93,182,177,159,198,185,159,196,121,101,121,81,156,199,114,111,114,132,143,96,200,88,150,107,100,157,160,160,119,87,159,132,185,152,166,110,118,164,196,162,111,198,127,109,102,145,104,148,107,180,128,134,144,159,168,141,81,155,182,165,80,138,104,142,141,90,188,197,172,116,111,85,199,180,114,163,96,182,178,155,100,177,171,103,83,140,196,132,194,141,156,146,119,192,199,121,103,172,198,83,163,106,199,135,194,153,89,82,107,199,102,194,80,130,200,198,89,88,189,181,100,99,184,197,195,89,108,133,179,182,155,134,147,137,141,134,141,148,141,199,159,147,190,176,84,166,139,97,109,198,142,96,152,124,166,118,183,150,160,157,110,101,101,183,197,189,143,93,101,197,165,113,178,198,84,138,92,95,103,151,150,165,190,150,117,163,117,94,106,93,119,192,173,166,105,168,115,171,182,110,142,111,159,135,128,91,181,181,194,112,88,133,111,116,123,166,200,109,128,138,127,112,105,83,192,142,129,199,183,183,107,139,187,157,110,129,127,165,99,107,105,183,93,195,101,131,190,154,141,168,162,178,88,191,175,177,100,86,136,93,148,114,89,103,98,133,125,126,144,177,187,119,100,200,110,158,164,102,170,84,163,134,151,139,143,108,114,121,181,80,105,189,181,113,117,191,98,87,178,177,185,180,80,199,184,155,165,170,199,94,161,101,177,182,83,160,115,189,129,183,193,138,191,143,126,140,106,91,114,182,169,109,106,193,120,86,196,184,185,118,149,117,123,191,138,148,181,199,194,175,86,91,172,171,187,195,92,162,99,178,185,183,131,138,135,115,189,151,97,166,145,166,142,174,187,191,138,187,146,144,137,134,119,162,145,195,141,91,173,131,169,184,93,156,171,123,83,95,173,142,193,171,112,99,101,131,186,161,176,176,100,105,84,166,158,160,182,186,134,149,194,126,116,165,153,111,134,82,130,200,123,135,146,134,156,198,183,145,114,195,158,84,107,98,178,154,94,95,84,106,186,170,162,165,109,122,118,176,133,153,96,87,100,174,104,115,120,159,101,132,128,114,95,83,148,142,200,145,169,186,109,174,132,195,124,155,131,124,186,172,104,104,170,109,176,119,159,123,83,185,134,151,160,192,166,103,90,200,134,154,187,91,135,146,117,86,100,145,190,129,114,119,193,148,182,117,152,161,193,186,137,166,176,184,160,194,185,181,146,192,83,89,190,101,113,160,123,180,200,102,169,90,191,190,143,90,113,83,118,121,150,169,180,115,171,80,129,170,112,82,92,95,88,169,198,166,88,80,147,185,196,181,182,175,118,151,142,145,163,173,193,169,85,122,128,163,139,81,188,128,102,179,190,184,125,145,172,162,98,166,196,126,197,138,114,150,131,185,130,107,118,123,101,154,185,87,160,111,147,143,167,112,178,95,149,171,167,132,189,121,136,128,107,182,186,81,146,148,132,179,117,179,192,200,120,147,128,198,191,124,168,102,104,165,151,190,145,103,106,169,144,103,102,89,127,108,131,154,159,155,155,164,85,198,183,105,81,116,119,93,176,193,130,113,185,135,112,108,154,165,169,183,112,150,169,114,144,133,121,140,184,145,192,89,159,197,175,128,122,113,158,172,125,98,96,105,86,185,187,182,138,141,102,195,83,157,168,185,142,96,157,130,165,186,122,185,155,131,105,171,138,164,142,129,143,144,174,80,197,106,196,163,145,121,198,124,166,160,161,136,83,139,97,181,146,110,187,124,179,187,188,181,199,102,108,92,145,199,144,100,153,147,112,161,198,163,102,114,163,196,82,108,158,145,125,198,131,97,123,168,188,98,95,175,130,88,126,150,101,84,124,141,92,83,115,126,157,122,93,125,191,152,120,118,169,95,105,200,134,94,98,137,163,177,80,107,97,173,133,85,127,160,190,89,127,129,197,177,170,136,143,187,172,170,156,187,128,184,82,161,136,185,122,173,139,199,167,153,182,200,112,157,198,107,116,92,100,100,158,193,190,133,150,105,192,151,166,125,87,146,83,175,155,187,101,193,90,198,168,164,162,182,200,185,102,144,182,126,155,105,168,146,168,138,94,119,113,88,152,130,84,80,95,109,153,93,93,107,151,166,135,199,102,104,147,157,159,107,101,109,147,149,134,184,148,91,134,115,155,191,162,102,122,84,138,95,94,101,132,86,89,89,100,99,164,90,124,104,170,104,82,146,187,91,91,177,193,188,197,141,188,132,124,175,87,131,104,159,157,173,158,173,100,135,186,111,167,172,139,179,162,164,97,146,90,156,99,146,199,160,159,167,87,113,132,145,97,131,199,184,172,156,85,89,135,150,189,154,162,165,88,88,103,154,102,154,137,106,160,187,175,151,124,111,191,89,111,123,92,197,137,88,197,86,198,128,144,91,111,156,179,105,118,129,126,104,140,152,146,105,162,105,136,123,90,89,185,159,194,130,90,178,174,186,105,124,138,86,138,161,182,102,148,188,107,88,174,139,80,138,158,153,173,144,186,131,107,97,143,179,105,151,134,174,129,155,190,130,83,200,86,153,86,196,112,140,182,154,198,131,118,135,103,102,116,192,101,172,148,160,178,80,146,159,186,170,182,167,127,182,104,112,85,88,136,84,115,187,121,97,104,146,161,81,158,116,150,125,156,188,180,167,170,147,101,187,115,140,185,116,123,88,105,194,84,96,196,186,142,132,134,168,181,148,181,107,185,123,181,163,140,135,146,87,172,184,194,126,109,161,130,173,198,145,88,170,186,86,114,85,146,88,152,156,144,113,139,164,126,124,163,103,113,88,99,126,136,185,105,139,101,181,172,153,123,84,131,96,111,143,134,126,87,91,131,118,170,142,156,110,170,174,158,81,178,158,100,168,141,165,130,84,172,125,177,146,95,137,133,153,178,164,192,162,198,86,80,84,177,85,129,103,156,198,112,131,135,136,157,152,124,121,149,185,86,123,182,95,173,142,82,194,170,94,196,130,125,98,104,178,94,150,131,145,128,151,144,178,168,191,173,150,92,148,124,196,109,192,123,111,145,151,113,82,114,161,188,197,117,200,192,168,169,99,100,103,93,86,199,135,106,132,179,100,184,133,182,90,160,111,120,106,197,182,103,160,166,137,99,157,99,133,124,119,144,184,95,171,111,110,101,115,145,81,109,126,101,100,119,95,160,147,149,173,183,92,88,80,169,81,172,172,80,180,151,115,109,141,154,91,135,92,186,196,90,98,169,190,185,113,141,140,121,114,173,198,159,151,150,91,190,120,198,184,158,146,110,175,153,89,94,148,197,88,127,113,98,189,151,149,117,114,99,145,158,150,104,125,196,196,134,102,103,130,120,118,169,179,147,160,176,107,132,160,157,163,160,151,185,105,92,87,155,84,81,123,122,101,199,197,180,87,147,117,89,104,169,156,103,193,189,101,183,84,86,193,199,86,138,160,146,189,182,111,89,177,100,82,199,92,159,108,155,140,153,151,192,104,130,112,95,172,191,146,182,178,124,154,115,135,93,124,113,164,124,136,138,153,132,155,120,154,122,167,86,193,141,159,171,200,87,87,191,187,142,121,127,165,103,112,80,172,134,101,119,154,174,89,105,116,170,175,150,191,145,117,135,89,192,82,97,189,161,97,182,193,135,81,89,165,131,165,179,186,169,182,104,134,189,185,88,180,151,164,199,167,194,159,157,174,88,136,81,109,93,158,114,134,175,162,196,114,155,146,93,115,119,96,199,125,120,190,111,118,152,112,80,117,178,101,121,172,127,138,158,178,143,87,190,142,169,200,114,153,196,106,138,127,82,117,180,139,174,180,91,118,110,80,156,181,153,146,82,183,156,131,85,197,200,194,145,89,147,148,146,139,177,153,129,158,129,192,167,194,132,199,121,90,83,136,104,187,186,110,182,130,161,86,188,129,158,80,82,121,104,111,157,181,92,180,128,139,198,105,164,82,88,106,150,113,105,123,111,105,138,89,126,114,119,85,125,146,98,106,133,152,136,190,117,80,88,109,109,100,83,129,128,179,152,93,167,147,173,161,82,107,85,87,98,112,197,196,103,121,195,89,141,199,109,104,155,185,157,195,102,83,124,196,106,139,162,200,197,171,152,150,168,94,130,165,169,108,103,158,131,189,101,147,137,170,123,132,131,195,185,150,125,115,198,117,190,200,164,83,131,109,114,160,158,122,170,174,100,105,127,173,137,88,114,94,187,188,116,196,163,108,94,101,187,186,128,181,176,182,102,91,134,123,122,157,162,138,197,122,169,158,146,97,130,103,155,111,97,169,132,162,153,168,101,97,136,90,124,124,101,80,160,156,153,93,99,163,195,93,154,107,110,157,134,178,148,94,162,105,102,129,185,141,141,110,157,174,89,81,193,194,176,163,112,136,149,86,194,110,113,191,85,148,104,138,143,111,163,89,117,199,88,99,129,169,161,144,199,164,149,144,91,161,80,114,83,85,113,198,122,84,106,187,108,145,168],\"type\":\"box\",\"xaxis\":\"x6\",\"yaxis\":\"y6\"},{\"boxmean\":true,\"boxpoints\":\"suspectedoutliers\",\"orientation\":\"h\",\"x\":[2,3,5,6,2,1,8,4,7,5,5,8,4,4,1,2,8,3,5,4,7,2,4,3,3,8,4,7,2,5,7,8,1,4,8,8,4,2,6,2,1,2,2,3,2,3,8,7,8,8,3,8,2,3,7,3,8,3,6,5,3,8,2,2,3,3,4,3,2,4,7,4,3,1,4,6,3,1,4,6,7,4,5,3,1,8,5,3,5,4,3,7,7,6,3,3,5,6,2,7,6,8,5,4,7,4,5,5,1,1,3,7,6,5,7,7,8,3,1,3,8,4,3,2,5,1,4,6,3,6,7,1,7,8,4,5,6,8,7,8,1,3,1,7,3,2,2,7,3,1,5,7,6,2,2,1,4,6,6,1,5,6,5,1,8,4,8,6,7,4,7,5,4,5,5,6,7,5,2,7,1,6,8,4,5,3,6,1,1,5,1,5,8,2,4,7,3,3,4,3,1,7,3,7,6,8,6,5,7,6,3,8,5,5,1,3,8,5,3,5,5,2,4,6,4,2,1,8,4,3,5,1,8,3,2,1,5,5,7,4,8,7,6,5,7,7,2,4,5,2,2,5,8,4,1,7,4,7,3,6,7,4,1,4,2,2,6,6,5,1,7,8,1,3,2,4,4,4,7,8,6,3,7,3,8,1,7,8,1,6,2,7,6,5,5,7,8,6,8,7,1,6,1,2,2,3,3,6,6,4,2,7,3,8,2,8,4,2,1,3,2,1,1,1,6,7,1,1,1,5,1,6,4,3,2,4,3,1,1,7,3,6,8,7,1,4,5,6,1,3,1,5,8,8,7,4,1,7,5,7,7,2,2,4,4,8,6,8,1,6,2,7,5,7,5,7,2,6,4,2,7,7,3,2,1,3,8,8,7,7,6,7,4,7,4,2,8,2,4,1,3,7,3,4,6,4,5,5,8,4,5,6,5,5,3,4,8,5,7,2,5,3,4,2,4,3,6,7,6,2,8,8,1,6,4,2,7,6,2,7,8,7,7,3,7,2,2,5,1,8,2,3,3,6,7,3,3,5,5,4,7,7,8,2,8,3,4,8,7,1,7,5,3,4,3,4,1,4,4,4,6,1,5,2,6,4,5,4,5,3,6,1,7,8,5,5,3,2,3,2,8,6,7,7,2,1,7,3,5,3,4,1,1,4,6,7,8,3,4,3,1,8,3,5,2,8,8,4,2,1,6,5,5,4,7,8,6,4,6,8,1,4,8,5,2,6,8,2,1,2,5,8,8,8,4,5,8,1,1,1,8,2,8,6,6,7,8,2,2,2,5,6,2,1,7,5,1,5,4,1,8,3,5,3,3,3,1,4,8,5,5,1,5,3,4,3,2,8,5,7,6,4,8,7,2,5,7,7,8,4,3,2,7,3,7,8,1,1,5,2,4,6,7,1,4,4,3,3,6,8,7,5,8,3,6,3,7,8,5,8,5,7,6,3,5,8,5,1,4,1,7,8,7,7,3,8,7,4,6,4,3,8,3,7,4,4,8,3,6,4,4,7,7,5,3,1,2,6,6,5,7,7,1,7,3,7,5,2,4,6,5,4,5,8,1,3,5,6,5,3,3,1,1,5,7,7,5,6,2,7,2,8,2,7,2,3,4,3,5,7,2,4,7,8,3,6,7,3,3,1,6,1,7,7,7,4,6,7,7,3,6,2,6,1,1,8,1,2,3,3,2,2,6,4,1,5,3,6,3,6,4,5,7,8,5,7,2,6,6,2,8,2,2,1,7,3,2,7,1,8,5,7,2,1,4,8,3,2,1,3,5,5,6,6,8,5,7,7,7,3,1,1,3,4,6,5,3,2,1,7,4,5,1,1,6,1,4,7,5,1,3,2,7,8,6,3,6,6,7,1,3,2,6,7,8,1,5,1,8,1,4,3,2,8,3,7,1,6,3,2,7,4,2,6,4,8,3,2,8,3,5,7,2,8,7,2,7,7,3,4,3,2,3,6,2,1,6,5,5,2,5,6,3,1,6,7,4,8,1,5,1,7,5,2,3,3,1,5,4,4,8,6,2,4,3,3,1,1,3,4,4,2,2,4,4,1,3,3,7,6,8,3,1,5,1,1,4,4,7,2,1,3,4,3,3,1,6,8,3,3,8,2,7,4,3,6,8,1,2,4,2,6,7,5,8,3,8,4,1,1,2,6,1,7,5,8,2,8,1,3,8,2,4,1,4,1,6,5,2,5,1,8,3,7,4,4,7,7,5,5,7,7,4,6,6,3,2,8,6,6,5,2,3,7,8,5,1,2,8,5,4,2,3,6,2,4,7,1,8,4,4,4,3,3,5,3,4,2,2,5,1,6,7,4,7,3,7,2,3,5,7,7,3,2,7,7,5,8,7,1,1,3,5,8,5,2,4,6,8,8,4,1,1,6,6,3,6,6,1,4,7,7,7,3,6,1,5,3,6,8,5,6,4,7,5,5,1,3,3,2,5,2,4,4,3,7,5,2,7,4,5,1,3,1,1,2,7,7,1,2,8,6,2,8,2,6,2,8,2,4,8,5,8,1,3,3,5,1,8,7,1,8,4,5,8,1,2,2,6,6,5,4,3,3,7,4,4,6,7,6,1,3,8,5,7,4,5,8,7,3,8,7,3,8,3,6,4,2,7,5,8,6,3,2,2,7,4,2,3,4,6,1,8,1,7,6,8,6,7,2,3,7,1,1,8,7,2,2,7,2,6,3,5,3,4,8,5,3,3,1,3,8,4,4,3,7,2,8,7,3,4,6,8,1,3,4,3,1,1,4,2,1,6,1,5,7,7,5,1,2,8,7,8,4,6,8,7,2,5,2,1,5,6,6,2,6,6,6,7,4,1,8,7,1,1,1,3,1,2,3,6,4,2,7,1,1,8,8,7,1,5,6,6,6,5,2,3,6,5,5,4,7,4,5,8,1,8,7,7,3,2,2,5,2,7,8,3,5,3,5,4,1,4,5,2,3,6,4,1,7,7,5,6,2,5,3,8,5,1,3,8,4,4,7,8,8,4,4,2,8,7,5,6,5,5,2,8,7,4,2,1,4,2,8,8,8,2,2,4,5,6,5,1,1,4,2,4,8,8,5,2,4,7,5,2,5,4,4,2,1,8,4,8,3,5,4,4,4,2,6,5,3,5,1,8,4,6,8,7,8,4,8,4,3,2,8,4,2,5,2,1,4,2,8,7,4,5,8,5,4,6,6,1,7,6,6,8,3,8,4,8,4,8,8,6,5,2,3,3,4,4,8,5,6,4,8,8,6,4,8,3,4,5,1,1,4,1,6,1,8,2,6,2,6,4,6,6,8,3,4,3,3,1,4,6,1,1,8,1,1,6,4,6,2,5,8,3,7,5,7,3,1,1,8,6,2,8,6,3,3,2,2,8,4,6,5,4,7,6,8,6,4,5,8,1,2,7,4,7,2,1,8,2,1,4,4,3,8,1,8,6,6,7,5,8,2,3,4,7,8,2,5,2,8,1,8,6,1,3,2,7,7,8,6,2,5,8,2,4,6,4,5,1,2,6,4,2,4,6,7,2,4,8,8,2,8,8,1,5,6,2,2,7,8,4,1,5,2,4,2,8,6,4,1,7,3,5,7,6,1,4,2,1,8,5,8,6,4,2,5,5,5,6,1,3,8,7,1,6,8,3,8,4,1,2,5,5,4,4,6,2,8,6,2,4,3,2,5,1,7,8,1,3,6,2,4,2,3,4,7,1,4,2,5,6,8,1,1,7,4,8,4,8,4,6,8,6,1,1,2,4,5,8,4,6,6,1,7,4,1,8,4,5,5,2,1,4,8,6,6,5,2,1,2,1,7,4,2,6,7,3,3,5,4,4,4,1,4,7,8,4,4,8,5,8,8,7,4,4,4,3,4,7,1,5,2,2,6,5,7,2,5,5,2,5,8,1,3,3,6,8,6,8,5,8,7,2,3,2,5,4,5,2,4,6,1,6,4,2,4,3,8,8,2,2,8,7,6,6,7,8,7,3,3,8,2,8,7,3,3,3,3,5,6,2,4,4,1,4,8,5,2,4,6,2,1,4,7,6,5,3,6,6,2,2,5,6,1,8,7,5,7,5,4,2,5,4,4,5,5,5,2,7,5,6,3,1,1,3,6,1,7,1,3,7,4,8,4,4,2,2,7,3,1,7,1,2,7,7,3,7,4,4,6,7,6,4,5,1,7,2,2,8,3,7,4,3,7,8,3,6,7,3,5,8,4,6,6,4,1,5,5,7,6,1,1,4,3,7,8,1,2,2,5,4,6,3,1,5,4,1,8,4,5,5,7,8,5,5,4,3,2,8,4,2,3,2,7,7,2,6,1,8,3,5,6,7,7,3,7,8,1,3,8,4,2,5,4,1,5,4,6,6,6,5,8,6,6,7,7,3,7,8,1,4,5,5,5,4,6,6,5,7,3,4,8,2,6,2,8,5,7,6,1,2,8,7,2,5,3,8,3,6,5,7,5,2,4,1,3,1,8,3,5,1,6,4,8,5,6],\"type\":\"box\",\"xaxis\":\"x7\",\"yaxis\":\"y7\"},{\"boxmean\":true,\"boxpoints\":\"suspectedoutliers\",\"orientation\":\"h\",\"x\":[2,6,6,9,14,7,10,0,14,15,1,18,17,11,17,16,4,17,18,11,14,2,7,20,13,3,19,6,18,7,9,20,18,0,3,17,10,18,17,20,14,10,19,7,14,1,14,10,8,15,19,19,0,10,0,20,19,9,14,4,5,6,0,18,3,17,14,0,1,1,11,4,16,5,6,20,15,3,20,8,7,19,3,15,13,17,5,11,13,14,5,18,0,15,9,19,16,18,1,7,13,9,4,10,3,3,10,16,4,7,4,20,1,14,19,9,0,11,12,0,7,2,10,7,4,20,1,17,16,1,3,14,10,12,5,0,8,7,14,2,18,4,5,6,11,2,7,4,7,7,17,14,12,9,8,6,4,18,0,16,13,16,3,20,17,8,4,3,8,20,6,5,8,4,1,15,10,1,13,4,20,12,5,19,12,13,9,17,5,5,18,15,8,6,15,8,13,7,4,20,0,15,9,17,19,1,17,16,4,6,1,0,17,16,0,7,2,9,1,6,19,10,12,11,4,5,19,1,19,18,6,6,17,19,15,8,12,16,1,2,1,0,20,10,14,12,15,15,10,4,1,0,7,7,17,16,13,11,1,17,10,1,1,10,16,15,14,12,5,6,18,2,12,14,15,8,13,19,13,4,20,14,11,7,9,3,7,0,20,4,11,13,18,14,5,1,19,2,13,17,19,7,20,14,8,20,2,20,13,8,6,2,14,17,0,17,9,13,8,8,20,13,2,17,20,14,11,15,16,8,10,3,10,17,13,1,1,19,6,1,9,13,15,20,4,4,7,13,15,4,16,20,5,16,18,12,1,3,13,3,19,18,7,2,12,14,2,17,12,12,12,18,19,0,14,10,0,10,14,9,13,10,4,1,20,5,17,15,8,12,16,3,16,19,1,13,12,2,12,4,12,18,10,5,9,3,2,11,15,3,8,13,17,0,17,12,5,4,2,12,12,17,14,13,6,4,10,2,7,19,7,15,2,8,5,11,15,10,16,0,9,2,9,16,12,13,13,16,18,3,10,4,5,12,2,19,7,14,5,12,12,17,20,14,15,10,6,11,0,12,13,10,4,2,7,14,13,18,16,4,4,3,17,2,18,3,15,14,4,14,20,10,9,9,0,17,12,20,2,4,16,18,2,6,0,2,10,15,6,15,20,13,14,19,14,6,0,18,4,20,17,10,7,11,0,16,15,11,11,18,8,10,17,13,2,7,20,16,6,11,9,7,9,18,0,17,4,7,3,4,14,6,0,20,10,7,18,10,7,7,10,16,14,4,17,15,15,15,20,9,8,16,15,1,13,10,16,12,9,15,18,17,17,8,20,4,10,15,18,4,12,5,18,1,20,2,12,10,7,13,5,20,7,6,0,13,14,15,11,8,5,3,15,0,14,15,7,9,6,10,2,18,1,16,6,19,3,3,3,2,2,2,0,10,18,11,5,11,8,6,2,1,10,3,6,8,7,14,16,0,16,11,18,20,13,7,16,17,17,10,4,2,9,12,0,5,13,7,8,3,17,13,1,9,4,11,7,6,17,15,3,7,13,3,19,9,14,1,12,9,3,15,7,3,14,12,6,6,7,9,13,3,4,12,0,8,6,7,15,14,1,3,10,20,0,11,13,15,12,13,15,1,9,3,8,18,2,17,10,11,10,10,17,8,20,6,11,2,14,10,9,1,0,7,13,20,18,3,9,9,3,7,18,9,10,18,1,10,3,20,18,4,1,0,19,10,2,13,5,19,8,17,4,2,0,2,16,10,4,1,16,18,17,15,10,17,18,10,15,17,1,8,15,15,9,3,3,2,6,19,17,17,16,19,2,2,18,9,18,10,8,20,10,18,2,14,14,5,16,14,0,10,3,0,19,9,20,8,9,6,8,16,3,7,12,18,14,16,5,6,6,6,10,7,9,15,16,18,18,18,19,7,10,6,12,7,3,11,19,4,7,20,2,14,4,15,19,4,7,18,10,14,19,0,4,0,13,17,9,11,12,6,16,5,13,10,18,1,20,1,4,6,1,16,9,11,9,7,17,6,17,11,18,11,4,19,11,12,3,0,6,14,9,20,20,5,13,4,2,1,15,11,20,4,16,4,14,16,7,9,1,10,14,12,3,7,2,2,15,16,10,1,4,2,0,0,17,16,16,15,18,10,16,7,14,16,14,3,14,13,9,6,6,8,19,17,0,0,10,11,9,10,12,12,11,18,11,14,6,9,14,0,3,9,0,15,17,0,6,14,19,18,16,15,15,20,9,9,12,5,3,12,16,12,19,1,15,17,6,7,17,10,0,0,19,19,15,7,18,20,1,3,20,16,10,17,2,12,0,0,7,10,17,1,11,2,3,13,4,14,14,8,7,14,14,14,13,5,9,5,7,7,4,7,13,3,7,0,12,11,6,5,17,20,6,8,19,7,5,20,18,12,1,14,0,12,7,16,0,3,4,2,13,20,1,3,13,15,12,14,3,10,15,13,2,14,16,3,9,0,13,20,7,13,12,13,2,1,9,11,10,0,5,1,7,20,9,19,1,17,10,20,5,6,11,9,13,14,18,9,17,9,1,6,16,3,3,3,6,12,6,4,17,11,2,0,6,11,1,1,14,13,14,6,3,1,3,15,15,0,18,2,9,12,13,17,1,0,20,12,14,12,7,1,9,12,15,9,10,1,0,1,15,0,1,2,13,7,11,10,14,18,8,8,6,15,17,2,1,3,20,0,1,12,20,14,2,8,15,11,10,9,15,7,11,4,20,12,10,20,5,3,5,9,1,9,16,7,3,8,6,5,6,6,13,19,7,3,19,9,4,19,17,20,13,15,9,0,9,10,14,3,2,3,20,8,12,0,18,6,17,10,12,11,5,4,18,4,5,2,17,10,8,17,5,15,14,3,7,13,16,8,6,8,6,1,0,13,15,8,11,14,0,9,4,19,0,11,20,3,19,9,16,17,13,7,10,11,9,11,5,9,0,10,17,8,0,18,9,17,7,13,14,11,0,6,4,20,0,18,20,6,7,18,9,13,16,8,19,1,8,13,12,18,9,15,1,19,1,4,12,15,15,1,19,9,12,1,20,9,16,7,13,8,6,15,16,9,17,17,0,11,6,8,2,2,2,5,0,8,2,10,8,19,20,2,19,20,10,10,3,19,8,1,1,9,8,6,1,17,8,7,7,18,5,7,20,10,4,9,7,2,17,15,5,13,19,18,2,4,7,10,4,5,9,9,20,1,19,19,4,6,13,2,0,20,8,9,20,8,19,1,7,1,12,10,8,18,2,18,8,3,4,8,8,0,20,7,20,12,10,5,11,13,9,10,7,20,2,20,0,6,20,0,20,13,11,1,10,11,20,11,14,8,15,1,6,15,14,8,14,14,14,12,2,6,17,7,6,7,15,0,4,10,18,9,16,20,18,2,17,10,10,10,16,18,17,4,2,4,16,7,17,1,10,18,3,6,10,9,11,5,19,10,14,15,10,12,16,8,7,16,19,8,5,8,16,10,1,18,1,19,1,3,19,2,3,3,19,19,10,0,10,2,14,4,9,1,2,17,6,10,14,2,13,3,5,17,1,20,7,1,19,0,10,14,15,12,14,7,11,12,19,2,17,13,2,3,2,11,16,10,17,18,17,13,4,2,10,20,17,11,15,3,7,19,19,12,8,7,1,20,10,2,10,12,14,12,13,14,12,6,4,14,20,7,13,13,7,2,17,12,17,16,7,1,3,17,14,3,13,8,9,1,18,20,17,19,15,9,17,11,9,0,6,19,3,7,20,7,6,10,13,9,5,1,14,7,9,9,6,0,4,5,15,9,18,19,14,7,0,8,14,19,12,10,5,0,9,7,1,9,0,9,16,20,13,20,12,16,14,1,11,9,12,20,3,1,6,2,8,20,14,10,3,19,7,16,3,16,8,7,19,1,7,20,3,8,18,5,18,10,8,6,0,14,9,20,6,1,11,9,9,3,1,3,6,9,10,4,3,6,15,17,8,11,13,19,9,10,19,2,7,4,10,3,16,4,7,0,9,19,4,16,15,6,16,11,18,2,20,12,7,6,9,11,2,9,20,18,1,10,17,6,19,16,6,17,0,8,2,2,1,16,8,7,4,10,15,12,2,17,0,16,14,10,14,17,17,8,12,12,2,16,4,7,6,11,14,3,2,10,7,19,9,4,6,15,8,14,10,14,4,19,3,19,15,4,13,12,5,20,17,8,20,20,12,13,4,16,15,20,0,8,2,7,1,0,0,4,20,16,20,10,18,14,20,1,20,8,13,6,12,18,4,12,9,16,9,20,9,2,15,2,4,11,0,11,11,10,14,0,8,11,8,18,10,9,11,7,17,1,11,11,20,6,14,8,15,7,7,0,12,10,7,12,15,15,8,20,16,11,6,8,15,12,1,16,14,5,10,16,20,9,1,6,12,2,19,4,7,20,17,4,11,6,4,8,0,20,4,7,9,3,16,8,7,16,11,2,10,20,20,16,2,15,11,15,3,11,9,19,4,0,2,14,3,3,5,16],\"type\":\"box\",\"xaxis\":\"x8\",\"yaxis\":\"y8\"},{\"boxmean\":true,\"boxpoints\":\"suspectedoutliers\",\"orientation\":\"h\",\"x\":[20,905,1263,1216,1208,1004,381,512,386,1137,248,151,607,344,356,862,984,441,658,902,1314,974,407,466,201,291,550,511,187,1171,1358,413,85,178,311,1134,429,609,347,1448,434,1725,685,880,1580,186,202,27,1025,885,1042,1382,546,1013,690,667,822,581,265,127,916,361,322,753,504,651,1565,108,459,205,570,1172,160,4,763,339,1040,166,1168,990,319,1397,708,1077,928,516,96,1025,666,557,1605,1226,769,403,177,942,651,1572,476,1233,836,824,391,320,325,125,846,1770,293,1633,1198,768,70,117,1158,1055,635,322,275,1445,550,1242,597,538,59,819,179,1259,396,713,262,622,327,522,313,226,605,692,1386,304,1590,229,839,507,436,756,387,1265,1852,875,140,577,975,510,583,674,1125,747,1612,311,116,554,811,730,577,660,450,1223,1109,45,299,506,635,1045,393,650,433,839,1176,650,218,564,986,561,65,420,1365,619,849,611,953,642,1417,247,710,718,1100,59,938,825,286,1273,295,852,710,1277,129,690,701,309,213,1112,199,55,1230,1052,541,55,809,1738,404,262,759,42,397,964,233,1022,411,954,1528,416,638,231,574,148,730,564,1290,632,529,1273,667,1170,169,105,793,490,1201,246,417,1177,78,323,707,457,356,936,912,179,1914,526,156,344,865,1552,546,1097,372,1285,1242,302,594,303,1858,403,32,590,235,630,357,246,475,1054,555,607,1360,142,681,104,637,410,1830,802,311,56,344,1053,221,506,1728,63,418,854,178,1869,185,170,454,866,44,1331,1285,741,520,114,1153,474,39,419,584,312,19,207,363,209,159,649,1132,1392,1001,712,418,384,119,627,1086,195,14,745,253,333,629,707,1314,1715,513,13,1243,300,58,1107,134,275,176,1236,336,1116,1010,205,1453,788,1301,463,188,1028,1419,1471,168,1125,130,481,1411,79,1187,561,96,77,493,1173,964,634,639,127,431,71,111,356,798,747,408,373,1362,475,743,447,42,30,162,347,346,727,180,1641,269,250,1186,77,507,379,264,1486,694,579,495,315,329,548,531,191,823,96,841,195,21,235,1417,286,649,966,1172,270,781,418,126,228,1091,1452,674,398,449,1184,675,1792,177,1013,1058,592,810,533,558,681,1017,765,1176,947,1314,609,754,619,453,205,282,130,494,275,447,281,6,292,164,631,897,268,861,331,1064,509,622,957,494,236,980,1789,831,902,636,831,518,233,725,170,157,1142,840,401,395,48,982,478,581,1215,594,683,536,83,905,249,803,459,584,1596,418,364,946,186,1428,1613,1127,691,1802,751,859,187,206,1673,710,1331,263,97,129,1213,189,628,320,837,1087,781,251,262,767,1226,389,920,1027,271,369,1258,417,1345,613,912,666,236,186,416,430,168,1467,179,159,120,762,600,286,1350,27,1597,1177,402,577,52,364,934,250,214,612,1111,163,202,729,1079,361,338,1698,1052,1108,951,1197,473,1294,410,178,782,434,464,137,492,1250,385,427,1024,240,886,1233,183,88,1016,80,611,569,304,276,1131,551,436,553,1391,981,680,687,1060,217,1140,304,504,832,935,446,942,897,1208,159,632,1308,1002,1331,150,1248,108,320,437,295,1058,79,593,693,300,234,1545,59,1103,91,177,58,447,942,88,371,1446,181,1311,1791,1568,706,871,1074,501,271,920,1171,293,833,485,182,207,1698,165,1086,192,1156,377,709,729,543,553,526,637,113,1114,461,1430,304,471,806,80,204,545,112,1331,1055,609,290,1039,1485,1122,462,1384,1502,589,82,68,689,208,1339,722,717,433,1298,186,1397,618,1214,613,649,193,22,1464,280,690,39,337,1036,1347,22,327,778,482,591,229,901,715,172,681,867,286,451,1119,526,1299,217,1109,434,671,1404,856,381,85,562,1111,209,997,91,730,606,445,286,985,1617,375,1795,486,757,273,491,762,448,231,1713,438,68,698,510,965,1399,532,8,154,198,860,461,109,193,961,243,1626,480,123,400,190,626,1,548,632,349,1686,1455,95,580,297,951,667,1047,408,1150,333,641,653,103,517,785,531,564,761,1179,673,472,412,977,359,224,714,195,843,308,522,364,806,518,519,792,382,214,859,342,713,172,118,540,18,987,535,1092,327,517,994,491,268,210,144,729,82,188,150,1222,331,1178,347,75,492,65,881,351,1842,758,1323,1175,1092,647,1102,319,215,945,381,546,1096,575,519,342,291,1091,352,165,385,1920,396,1134,721,687,777,176,458,485,641,798,256,370,191,1571,276,573,160,90,138,983,275,149,42,793,625,521,1530,442,152,1242,29,501,87,648,521,120,985,341,751,993,43,1262,361,104,618,815,1587,138,584,750,820,8,171,960,160,612,709,624,538,1295,1164,829,199,825,519,169,1734,76,1698,819,387,985,970,767,512,56,590,462,126,578,655,1028,88,1692,358,64,259,236,873,858,1405,237,650,1949,541,361,335,1638,1109,111,1285,1480,322,1220,511,1011,629,140,1081,297,1512,275,1136,1145,477,954,741,547,1194,146,471,169,1895,1537,236,821,466,393,400,774,284,465,705,38,51,850,349,387,706,951,179,426,653,1578,280,251,1463,1432,477,1122,145,416,847,868,594,518,663,371,1749,586,409,35,1008,442,983,875,952,244,65,1749,716,433,134,179,804,787,704,991,379,489,1518,855,1261,115,1203,545,818,42,1103,168,719,163,1162,626,329,330,956,1140,217,271,444,1003,227,253,88,334,1281,168,898,46,118,1187,1191,526,346,89,137,1226,473,368,239,622,654,853,686,992,115,275,461,1428,614,193,1105,398,480,775,1482,154,454,737,419,853,1211,314,172,527,874,674,657,475,1209,15,293,813,173,457,533,912,798,412,130,201,299,1277,626,378,333,805,1901,1573,360,20,98,703,273,919,982,879,1287,1109,211,1058,532,290,890,327,1260,570,621,328,1307,497,219,1163,24,468,1272,503,1495,1333,267,149,1070,206,158,48,249,935,140,184,238,800,211,670,725,81,1211,1362,945,1043,444,311,812,202,531,404,954,274,956,1438,1446,692,777,1157,454,478,217,468,1107,626,485,43,322,880,1511,667,765,614,925,1185,1706,347,1603,806,1207,431,179,423,1131,925,62,800,211,81,667,405,678,1619,935,864,1495,870,1379,1055,220,419,1111,1097,447,273,590,116,306,300,1259,1573,1392,113,526,1209,655,1123,692,796,1021,995,1244,293,1240,759,398,358,403,211,194,1076,1238,229,327,135,5,715,511,549,420,838,314,739,62,3,963,1438,1621,19,887,567,584,496,1245,682,724,1384,257,17,983,439,925,409,293,384,149,447,717,195,153,1699,501,530,396,670,193,351,846,111,1213,755,1406,497,1826,50,817,901,212,329,837,248,632,366,174,882,688,263,118,1012,586,294,818,426,151,409,641,958,1328,354,1709,1099,783,194,238,919,758,1039,1054,122,100,1221,312,599,1274,62,315,1123,1878,318,574,1353,86,340,602,963,127,142,274,371,788,395,643,854,1335,1541,382,846,960,154,468,1094,272,165,394,629,831,903,923,362,693,1250,1135,66,924,204,376,1083,229,875,35,18,103,105,168,18,659,534,285,482,1571,605,158,1573,127,343,289,1703,1482,907,491,287,1151,1024,1085,991,1052,1078,98,396,323,410,1750,1475,1836,283,539,440,397,204,347,1003,0,264,543,467,875,1116,1325,1313,552,335,50,593,268,382,443,576,596,115,356,10,1399,68,643,809,683,56,492,699,290,23,394,713,1063,1421,623,83,1563,777,83,203,938,1077,773,332,570,742,1420,1801,1693,31,1098,1765,887,760,486,2,202,90,469,86,1180,140,1100,194,440,1563,163,192,837,356,155,1032,40,1194,1179,902,58,1385,614,672,1088,499,157,485,571,431,499,563,944,1138,161,126,15,500,203,961,608,277,114,630,404,248,225,699,649,416,1310,930,835,664,460,778,225,785,1581,9,7,174,437,278,1288,979,56,913,282,322,1252,1128,606,655,954,68,134,922,1874,251,1362,281,224,778,546,397,386,214,461,125,335,342,625,494,1145,600,484,199,21,885,308,1015,1303,406,124,150,108,90,588,1028,776,278,897,651,1010,737,1399,376,1117,234,691,380,603,117,766,1499,1175,988,190,674,518,1618,857,371,73,98,395,1064,712,774,1012,730,777,973,245,937,937,574,678,82,398,1096,1419,157,430,1524,1649,254,1790,1438,1304,813,948,1161,867,181,754,242,405,1569,105,978,725,657,1147,910,295,26,332,519,161,1080,649,71,744,437,115,547,495,1466,117,760,764,776,53,371,728,1791,606,1225,419,367,1230,267,273,705,214,424,84,605,1175,657,371,833,102,1299,258,56,443,1279,313,523,919,570,380,119,296,358,1364,424,961,431,950,647,1960,116,306,808,94,380,593,1684,1221,410,600,189,308,148,297,1050,1191,1399,1658,1153,35,553,46,207,67,818,1257,138,11,889,831,713,527,1284,911,1047,123,406,927,407,1041,781,1191,103,125,919,536,638,639,496,686,1064,240,525,348,1262,1899,258,1188,730,484,547,800,347,679,1224,948,366,223,1619,332,167,782,881,91,487,120,1626,74,634,334,931,921,805,1057,616,740,542,344,211,79,887,670,383,718,144,1442,291,1352,209,861,426,266,523,40,262,623,4,1001,334,453,952,321,1451,1048,398,417,470,1217,298,36,85,655,167,212,617,271,159,786,46,645,1371,881,449,338,1332,119,256,428,1546,1210,789,390,110,1330,674,253,317,183,892,388,52,914,287,773,675,367,510,1325,1661,665,662,0,284,661,757,560,470,146,1315,533,560,405,227,479,227,149,88,114,662,441,888,664,64,747,956,776,652,1168,201,724,599,3,1652,190,1171,1081,1211,976,675,455,42,1196,503,1694,306,838,291,173,1017,698,610,223,206,1457,742,591,347,241,743,4,576,888,528,1222,915,868,336,483],\"type\":\"box\",\"xaxis\":\"x9\",\"yaxis\":\"y9\"},{\"boxmean\":true,\"boxpoints\":\"suspectedoutliers\",\"orientation\":\"h\",\"x\":[756,1988,1716,1786,1212,1654,1018,1149,836,1224,874,1005,748,1440,563,1864,1850,810,878,1064,1854,1385,822,788,1245,1434,645,1075,1311,1263,1739,654,1152,1919,881,1249,815,1307,730,1613,967,1932,714,1456,1652,1810,1791,774,1433,1854,1832,1383,629,1287,804,1036,1449,820,713,683,969,975,547,1353,1570,1618,1858,1781,1225,603,1724,1217,1026,638,1413,1242,1071,778,1552,1486,1206,1616,1752,1122,1049,1894,741,1118,1203,1402,1924,1242,802,1105,1990,1179,891,1684,961,1317,1739,881,984,520,902,1504,1634,1796,1846,1869,1471,874,1974,513,1244,1661,973,771,989,1954,1338,1712,863,1376,1203,902,786,1965,1732,1398,829,792,580,1056,1264,1248,669,1686,1539,1042,1926,616,1131,1697,536,786,1269,1298,1967,1025,800,1359,1996,1013,590,1925,1989,826,1983,1545,1533,621,1272,1729,1071,974,1554,1611,1937,1942,845,627,842,1737,1199,1740,648,1136,1220,879,1065,831,1191,1631,588,500,1698,1299,898,1381,984,1533,1464,539,1179,751,1497,1215,1948,1542,1235,1345,589,1182,1052,1429,873,836,1478,1460,705,1666,1077,1020,1235,1516,1499,583,1958,1995,642,1178,1404,1040,1453,1677,517,1560,1226,1200,1647,1308,1615,687,637,1606,1543,980,1441,1383,1009,1754,860,1543,1108,673,1758,886,1485,1038,946,1462,654,1604,1882,1816,765,1398,1980,1559,1928,1529,952,1517,1741,1596,1564,1222,692,1617,1571,1247,1767,714,1935,1933,1509,954,662,888,527,820,1493,1929,764,1092,1891,1699,683,1664,763,572,1963,1489,1294,997,655,1458,1243,519,1767,566,515,1168,882,1942,776,564,1975,1212,1118,1388,1462,1130,754,1726,1876,709,557,1914,775,1910,1923,1370,994,1078,724,1104,1182,1795,1224,1442,1023,1361,652,935,1345,1292,1256,1364,1786,1429,682,1199,1688,1898,1438,1463,1584,1059,1253,1442,939,986,1029,1280,898,1381,1565,1299,1726,1331,1922,1038,992,1186,1920,1866,981,1195,1706,749,1711,681,1974,1510,814,1025,1247,1814,1233,642,721,1670,550,699,1138,1903,817,1126,1139,926,1506,726,1753,794,1161,1350,619,660,1468,1705,1476,1666,1026,1033,1529,559,973,1223,956,1797,882,596,574,990,1053,858,758,1495,1104,1352,1304,1205,562,585,1441,1075,1629,1975,1798,545,1657,1341,817,1058,1203,1744,740,1133,889,1719,1285,1850,1905,1158,1325,772,1743,882,1208,1050,1366,899,1224,1131,1884,1370,1497,867,681,884,1358,998,1989,862,1785,799,793,695,728,1940,1304,1078,1259,790,1594,548,1256,1911,1649,1264,1262,1972,1484,1090,1259,1439,592,1777,870,1106,948,1393,982,1586,1579,644,1157,539,750,1472,1337,1663,861,773,1313,1849,1613,1259,1151,1807,1763,1029,952,654,1827,1916,1924,1580,1942,1582,1234,517,1917,1759,939,1463,848,1803,915,1354,1143,632,899,1642,1450,1463,1013,1587,1665,1815,739,963,1508,1000,544,1627,759,1416,1088,1596,760,857,1100,676,658,1239,1901,1813,1578,1878,1864,1109,1171,1949,1722,1920,1809,964,1237,1082,828,1241,545,1710,1793,1463,1100,1951,1704,1897,809,1306,1771,1536,1509,1545,1987,1022,1337,522,1883,1787,910,781,1501,1176,1285,583,684,1838,904,1552,1854,559,1682,1383,655,1715,906,637,1230,1315,599,1302,727,1787,1096,1173,816,1970,1101,1654,1191,1089,1033,1781,901,1701,1308,1232,630,1184,1991,1256,1917,510,1511,1813,747,1947,935,1421,1652,672,1031,527,739,1596,575,1364,1478,1282,1353,1435,1651,516,1000,1754,1703,1935,1898,1832,721,1048,1873,1465,1477,1748,1383,1159,1630,857,1293,1162,1747,736,1418,757,1750,549,818,974,938,1505,1116,991,577,1374,1251,1747,1674,800,1016,1327,501,1621,858,1532,1294,810,811,1318,1655,1702,1013,1883,1862,1301,1605,718,699,1742,1558,766,1799,1658,1666,1998,1491,1891,1262,650,907,1234,519,1595,895,1589,1564,1384,1611,1733,1634,922,1291,874,1089,1604,1162,1648,910,723,999,1300,819,1238,643,1633,735,1226,1339,1445,1424,883,1452,806,849,1812,947,1605,1916,1895,1123,1409,1484,1005,1675,1724,1958,1930,1518,1704,589,859,821,1671,1865,822,1018,829,522,1009,1564,1448,896,605,1056,1330,670,1909,1185,1008,1642,1668,1482,1229,823,1326,932,926,1641,660,1051,1889,1982,893,1163,589,962,697,1312,1862,1469,952,704,671,1583,809,1151,791,1391,1336,1638,690,1073,643,1660,1395,783,1208,799,1145,1169,563,1360,1423,1152,1577,1181,1228,1523,867,774,1513,812,580,783,662,1081,697,1406,1001,1995,1500,530,832,1026,672,1267,670,928,1897,1382,1011,1929,1076,688,1403,734,1234,1159,1968,1165,1481,1569,1554,1876,1793,1367,1125,1913,1203,828,1155,618,1545,670,563,1293,1084,1723,831,1933,1980,1469,1514,937,1119,1556,1263,1819,1638,1435,1394,1197,1108,1956,1026,614,516,1334,806,1230,687,558,507,1670,765,1190,1744,1248,714,1973,1670,506,736,1019,674,1409,1420,774,1377,1517,1663,1538,511,541,940,1666,1659,1330,983,772,1366,1219,507,1735,1291,719,1915,917,730,1808,1908,1977,1452,1972,930,1190,1968,1165,1877,1997,671,1284,974,1759,1465,760,661,1304,698,1143,1782,1445,1261,1902,1782,1667,1040,1960,1394,1591,1910,890,864,1994,823,1552,1463,1910,1392,510,1427,1731,875,1348,616,1263,635,622,1767,653,1716,570,1813,1356,1553,1985,1471,705,1208,906,663,1916,1976,1761,1520,915,1768,1096,631,843,519,1152,1810,1682,739,1005,676,1595,1623,1178,772,1964,1413,1963,1795,1801,1992,1649,571,1746,1903,1055,893,877,1088,830,1805,541,1781,722,646,1309,1758,1079,1087,982,1191,1361,1055,1767,1626,1661,521,1247,1564,1515,822,1638,932,710,1883,1401,1383,1791,1432,1300,1090,1262,1637,1068,755,874,1531,1348,656,1434,1292,1983,1623,869,1555,1827,772,1764,1046,594,1896,1320,1687,1069,1170,1595,1347,1324,966,1538,846,1389,574,607,1636,709,882,1781,1305,1433,1352,1966,1178,1500,1212,989,1602,1263,728,1607,1490,550,1762,1455,556,1737,1229,1606,1239,734,1264,864,1014,500,1411,525,1967,1377,1843,652,797,1043,1418,565,887,656,874,1352,1195,751,639,1804,1920,1581,912,745,511,1011,1278,1344,1291,896,1892,1247,684,1109,1247,773,1019,645,1788,1422,1558,1858,1767,618,1037,1554,759,571,1469,551,1579,1838,1841,876,1079,620,747,1012,522,1499,768,740,807,1089,507,804,1335,1544,1378,1378,1923,1702,739,1796,1456,1884,707,898,1609,603,1723,1593,1988,1057,1032,1951,1473,1477,1106,741,1656,1134,922,627,1385,1145,1756,711,1899,679,1252,1387,1886,1477,1930,860,1539,1144,613,909,1743,1469,544,873,947,1389,798,519,1676,1651,1147,1011,1688,1613,1469,1738,1838,1261,1362,1461,819,1062,997,598,564,1316,1746,1694,1783,1524,1728,1678,828,1622,979,1052,1958,1310,1504,970,1931,1858,1528,791,1614,1409,1437,1472,1418,1004,1683,1892,1744,1163,621,1383,784,1066,1400,1766,846,1662,1520,1923,1773,501,1274,986,676,974,1309,888,794,1454,1654,1084,1210,1306,1206,603,952,1878,1285,568,1206,533,696,1850,640,1496,1378,1552,887,1769,855,1167,1386,1284,1517,627,1836,1356,941,1793,1269,1039,1182,884,1162,613,518,1195,1591,1345,764,1226,1552,1233,1827,865,1133,644,1156,967,1970,530,1781,1553,1227,1393,1893,1076,891,1273,1393,686,1708,1804,1376,1073,1340,581,1796,1709,1981,831,1267,1915,1681,1728,1156,1062,507,1039,1079,682,1007,1027,1527,935,1873,1619,1163,1144,1925,941,694,1496,870,1103,1301,1299,1713,910,1759,1250,850,1435,1923,1448,1877,1132,1957,1492,1473,1316,991,903,646,588,540,1004,730,855,512,1098,1717,1193,1657,1639,620,1431,724,1880,1591,925,1506,627,1723,1363,1134,1803,1897,1564,977,1648,978,1551,1857,1988,1873,676,1240,563,800,1021,727,1284,1987,519,703,675,925,1724,1945,1331,1802,679,1105,1327,1010,1364,892,884,679,636,1407,1567,1684,584,790,1988,1349,527,818,1492,804,826,849,1742,1205,1463,816,816,1692,1995,559,915,1226,1183,881,866,1645,821,1539,1923,1790,1536,1373,1786,1775,1964,1032,660,1787,1614,853,1546,1350,1046,1437,892,569,1803,1011,1311,1405,588,663,1776,1435,1727,1262,969,963,1780,1617,1088,1718,695,763,1399,817,542,1090,1055,1003,1491,647,1575,1196,1713,1771,1950,1970,1155,1849,738,1742,755,1234,851,895,1658,1420,1983,1175,1806,1583,1615,1545,1118,1713,1944,1294,1175,638,623,1372,1190,1931,1429,710,710,1963,1702,688,1459,970,1042,1197,1836,1976,599,1853,1159,1994,844,1424,891,1046,1970,833,675,1009,1641,761,509,1487,1042,711,679,832,1811,1208,1947,1814,1036,833,1677,1963,557,1809,1196,1247,584,1103,700,1684,1759,1646,1288,1330,1947,1028,1550,1483,681,877,1952,1578,1503,1905,1375,1374,1916,989,665,583,755,1853,1540,1726,939,1040,1148,1090,1633,829,1083,1164,1171,1630,512,1775,1570,1698,770,1207,1848,1829,954,1988,1832,1673,1180,1007,1288,1258,1199,1532,1127,742,1763,1099,1986,1882,1657,1393,1566,503,508,764,533,1029,1289,1290,1686,1244,1113,1111,957,1035,1717,1115,1722,1873,1005,1504,1702,818,1896,1316,1717,736,1264,1263,1161,891,1905,679,1032,793,1429,1586,938,1023,1441,1195,1935,1889,1150,708,1793,712,565,1482,1021,682,529,839,614,1851,1639,1030,1727,1739,1849,1963,1432,538,1517,1334,877,732,1746,1415,1643,1211,1411,591,742,918,1726,1882,1663,1794,1817,510,874,908,1177,1924,1006,1411,1371,1020,1635,1709,1854,1393,1643,1220,1534,1477,681,1135,528,1430,1364,1839,1760,1227,1343,1656,1831,1087,1804,1418,1985,1414,704,730,1520,1904,789,1948,751,1238,1852,1455,513,1231,1676,1205,1234,1777,1962,970,909,951,1129,1317,722,1429,1913,865,1079,1079,1811,1351,956,1931,912,840,678,1551,1608,615,893,1152,1249,1109,896,1904,1318,1775,725,1888,1629,642,542,1311,1436,769,1351,1176,896,963,1726,1870,1469,1123,724,520,844,1670,1037,642,1451,1255,990,623,1386,1769,1738,872,562,1275,1677,1382,790,534,1814,1531,823,1254,1879,1989,1211,756,1317,1686,1455,590,1805,661,1603,605,539,979,593,1353,1163,1985,980,1800,1836,718,997,994,1036,1951,1912,1177,775,822,1710,1696,1633,1141,610,831,509,1022,709,819,874,1721,1466,711,745,1247,1010,1397,1933,1179,582,1127,1299,629,1983,657,1673,1979,1396,1353,742,537,807,1651,986,1798,558,885,651,1219,1289,1018,1437,737,1167,1919,999,724,957,854,1426,743,1809,1099,1416,1890,1965,1632,670,754],\"type\":\"box\",\"xaxis\":\"x10\",\"yaxis\":\"y10\"},{\"boxmean\":true,\"boxpoints\":\"suspectedoutliers\",\"orientation\":\"h\",\"x\":[2549,2631,2603,2769,1411,1067,3220,700,1099,513,3946,3826,1482,2680,373,568,3554,3752,1835,2337,2819,3283,1433,1037,2583,2782,3763,3286,2373,478,3532,508,2227,3845,1262,1326,2113,3429,3169,2150,2484,3339,1878,1629,504,1152,3587,2296,1270,3238,2059,2053,3112,1440,2908,2552,905,3963,2056,2910,1457,431,470,2148,2955,3366,3068,3834,1050,3993,3378,2192,392,3709,590,1814,907,1449,3448,1837,3464,2593,3484,2009,2048,837,854,3210,2746,2334,2822,1971,1410,349,1418,3616,880,1601,1412,1692,2600,1308,2413,1047,1204,1799,2676,2597,3029,2343,2016,2213,790,3182,3472,2871,3187,1945,488,1214,2598,3242,3534,3426,2488,3255,2863,1496,3801,666,3799,1366,2962,2399,2338,2700,2235,3825,284,1427,1324,398,3685,2390,278,3556,2196,3799,2268,2965,2341,3557,1354,2147,505,1394,374,506,3702,1078,2945,2981,490,536,2317,3704,2126,2050,2462,1260,3770,1886,3323,2060,3926,2177,728,2478,2842,1617,1472,764,2337,3965,3693,797,1687,2940,1545,3834,2505,2243,3600,3971,2844,2227,1665,3355,1866,1287,1046,1441,690,2504,2677,2243,2984,1362,3629,3559,2571,2107,1022,2844,711,3117,978,1869,1179,3844,593,588,3836,2669,2958,3031,3388,2377,2458,2766,3054,3791,625,2227,3256,707,1457,3755,1733,720,3560,2311,3846,1717,3704,3800,278,1767,1846,829,2986,2394,2169,1181,575,2977,532,1702,1074,3352,1027,2039,461,527,3271,606,2513,1675,2698,1129,468,1210,3086,1595,2332,2589,3760,1851,417,294,3576,3945,927,2044,2334,1477,3161,3660,1604,2211,3822,3922,1203,2822,447,1652,3608,1228,666,1499,3321,1206,952,3927,311,955,1109,2969,725,1655,3490,1774,3615,714,2768,3739,610,715,663,1725,834,3865,3059,651,796,785,3252,1322,2832,1615,2125,990,1595,1213,2500,2801,3451,1201,3139,1938,3185,2111,2369,3625,1051,1036,2938,2855,2727,2973,2581,2690,916,2563,3359,941,2280,827,473,3865,1274,364,3699,2927,1470,1050,2616,2915,2686,1243,3264,2261,2993,706,2542,2523,336,2457,418,3917,1246,2971,2324,3121,3801,3333,3475,2360,2895,3652,3097,2101,3918,3869,732,3684,3969,1414,1892,3131,2532,3215,3323,1529,2403,3419,3648,1974,2806,2239,582,3890,1141,2511,3838,2734,2330,2244,1851,808,1587,2492,2122,1122,3709,3021,624,3937,1797,1458,3348,1834,2775,1277,457,438,3210,985,3701,1052,1175,1070,3411,1175,301,489,1733,2756,2612,1724,2190,1900,3915,1043,3817,2362,1107,2982,2042,1343,2610,2335,1614,1138,604,3652,3955,258,1066,1731,3860,3630,1965,1459,2323,3291,3272,918,3488,3961,590,3701,463,3644,1713,429,2765,2084,1125,2048,1223,3672,3100,343,1970,2728,3635,2180,2488,3864,1155,3566,864,869,591,1333,2208,2610,2819,1955,3416,3803,574,2129,1948,2978,1619,3716,3454,3777,2712,1434,3968,3383,3278,3970,2674,2776,2336,2430,891,728,3886,1711,2856,2447,814,2951,3653,1891,701,3139,2811,1701,1853,2445,2287,2003,3595,1726,3952,850,1446,1300,719,988,2606,2912,2339,1028,3173,1667,1897,1214,3269,445,1073,665,3129,3501,3461,3206,3717,3917,861,2885,2777,1017,980,2775,3309,3607,1257,759,3720,475,1122,1336,1185,705,3169,3483,1183,3373,2801,565,3153,3421,316,448,2366,3881,462,1480,1087,2711,2144,1165,2998,2249,752,1409,3072,1305,3597,3132,3856,1524,3673,3293,3035,584,2675,2382,1391,2346,606,1324,1076,643,783,3809,2104,1762,3137,1756,3663,2437,1432,1620,1655,2832,961,2608,514,2304,933,1896,3655,1973,3278,2183,824,2598,1254,3622,1704,1624,3809,2574,950,273,446,1510,1122,707,751,3393,3771,1851,2735,2253,452,1419,969,3441,3786,2710,3533,1735,3587,2298,2027,2406,2419,995,2078,1145,626,1509,3371,297,3508,2385,1301,2167,3914,2312,2297,411,665,3226,740,3878,3406,2440,3959,3703,3714,337,3176,1205,2473,1229,2896,2039,520,1378,3254,1803,2501,3762,1796,990,2630,1380,3487,1201,3015,3204,433,1906,898,2799,2020,770,305,2953,1671,2574,3772,2870,2577,2246,2405,3377,3619,1184,2965,3713,3798,1026,1086,2236,1303,3048,616,3764,419,2858,504,392,820,3387,3447,1403,2295,1973,3755,2073,3872,302,1519,2549,404,595,1663,2764,2614,1094,2826,2496,2103,966,2172,905,3916,3902,2487,3914,363,3233,2532,3836,3076,1513,1724,542,3481,3991,1790,509,282,3006,1913,1333,3746,3941,3970,3925,424,1284,277,1713,485,3002,418,1652,2893,1406,629,3724,3835,1354,2376,3438,2655,3361,3535,2150,2587,2736,676,2941,3336,3796,3654,2934,2889,3315,1993,2509,3534,2246,3165,286,776,3213,716,424,3486,3237,1944,643,2317,1436,3190,2338,1334,3657,2080,1609,3078,590,2552,3355,1968,3358,1539,942,3669,3612,2351,604,1285,515,654,2540,3869,3412,509,2547,2735,1369,2942,2812,3497,619,3483,1475,1950,3592,3573,2020,1329,3568,1947,1998,725,3302,3884,1185,1656,2870,911,3892,3897,656,606,1653,860,2197,3458,2066,3676,1518,1018,1360,3449,2524,703,1251,582,1732,1252,2146,1927,3328,2462,1172,3598,2437,3271,1511,2981,3119,3647,3148,2829,2373,3998,316,999,1808,589,3317,670,584,2173,1561,2073,1401,3764,1275,1464,2885,3458,3019,1083,3538,2493,3726,1531,601,2991,3912,309,323,1489,1322,1846,417,3269,3731,667,1241,3941,1018,3142,1444,934,3863,3506,1944,348,550,971,3984,2973,2019,1587,1870,1352,570,546,3624,2944,1209,2752,3868,3087,947,1484,347,3227,3299,1028,714,2641,1229,2622,929,1211,1653,511,3034,1414,2438,3744,1377,3520,3796,1699,336,1095,325,1223,1649,1898,2609,2265,2775,1445,2614,356,523,3745,1229,1402,2085,587,2457,2030,816,1667,2958,3705,2800,3773,2050,1754,1904,2705,3537,1370,1222,3102,2268,2648,2173,3162,1368,2746,619,724,912,2784,793,560,312,545,1591,2746,893,2514,1032,819,3672,3833,1482,2043,1229,1816,2166,2469,2575,1375,1732,673,2301,2676,1781,2248,921,391,1719,3262,1947,2693,441,1886,1267,687,2890,1737,887,398,2389,3431,3601,2459,3230,3646,2200,3862,3077,621,2372,2574,2857,3143,3197,2727,1519,2438,2674,2107,2262,815,2829,3022,2573,2678,1282,568,2074,2227,1080,2867,1075,3063,2479,2394,2814,2094,2315,2519,735,1891,1386,3260,2022,1716,3317,1454,2290,3940,461,2219,470,2495,2944,2361,1783,2832,931,1344,3916,1882,2865,757,3469,2399,3300,2719,3012,2836,2385,594,2968,3762,892,467,345,3033,2110,3105,874,3681,3865,737,3153,2800,315,1412,2286,2392,1857,1419,3305,959,2635,1754,2563,1936,1869,3637,896,2349,774,3397,485,3964,1887,2977,2114,1542,3038,2481,841,3565,1958,2454,3392,262,530,3703,2562,574,2632,259,688,2554,3859,2977,571,402,878,2130,3260,454,2638,2819,1464,1824,876,2706,659,455,2378,2278,3436,3424,401,681,3212,3105,2036,3153,1642,509,3465,3900,1105,2064,3117,1142,1060,2381,3366,1339,2560,285,2476,1862,3488,3178,733,756,3622,1277,3703,1905,2636,2014,3056,465,3869,1108,1906,851,3142,1300,1430,362,2456,2360,3700,2620,437,3774,1218,696,3407,3902,2086,1356,1704,3571,2132,3209,2096,1273,3623,368,854,3646,3130,3784,3885,1494,2973,1471,2001,1486,1321,1877,3499,2124,1221,2316,1068,1930,1316,1742,3265,2700,2115,3915,3144,1571,2253,1433,2583,1817,2915,3340,2790,577,3220,3488,1277,3593,2736,2311,1464,1355,2382,1886,832,751,436,722,1075,2802,1780,1247,3066,403,2518,1069,2651,2974,657,3372,1464,1326,3393,323,1628,2610,3721,763,792,1568,1276,3472,2520,3423,258,1868,2171,780,712,1012,318,3948,629,1161,1403,3707,1305,2926,2674,471,1724,1220,2754,594,1005,2439,2302,1083,2219,1571,2107,593,857,3518,1284,545,3566,2821,3442,1309,1179,1713,1663,1812,1384,1348,3957,1212,3925,348,1382,980,838,378,909,3632,3396,1861,348,2528,2190,663,961,1280,2189,531,2331,794,2644,1666,2157,1196,2072,1590,2916,3707,726,3577,2627,685,1693,2137,3696,3771,1342,1379,1164,908,1019,3685,1470,2299,999,3011,3142,1543,3692,2753,2156,2637,331,1214,2248,3073,422,2293,3958,432,1152,1303,797,298,3847,2110,1921,2423,1658,2361,1380,3892,315,2289,2182,2184,2872,2367,1919,3296,462,1591,1593,2456,2933,3154,3615,3563,1440,1907,324,1404,2738,2722,2294,1424,1133,555,3785,3675,435,3183,3495,1853,2648,2647,702,1836,3894,2944,3424,2678,2424,2671,3078,2304,1146,2335,1422,2096,1303,1115,456,3396,2750,941,2278,2273,2355,2328,2638,558,1345,425,2192,3397,1208,267,3518,3122,1050,3358,2929,624,1598,2052,1249,412,595,263,2577,639,3206,1550,1646,1930,3695,3235,2334,1998,2258,1869,1825,3946,436,2678,3887,1813,817,3614,2013,543,3400,2623,2700,1400,3127,2803,2518,3564,2515,3654,3930,3476,3242,2666,1695,3510,3438,2033,1017,1686,862,957,3494,3083,1656,313,3282,3629,1687,1149,3899,1783,1629,2528,3256,2341,2785,3761,1513,2240,820,1875,920,3615,1412,361,1540,1077,3610,512,3024,1610,2201,3338,3473,2203,940,1155,3872,1882,1798,2598,1567,1491,2003,3905,291,1693,1788,3322,1751,1641,2854,3115,3259,1612,2319,1258,1543,3991,3555,3411,524,3541,1998,3437,1637,3064,2855,1393,1633,2392,3284,464,1234,292,2521,2658,587,2190,879,1743,1181,3330,3564,562,1659,1816,1338,2992,315,3249,3242,2725,586,2454,804,2460,1295,2625,1999,2698,3742,1193,3511,885,1044,2548,2940,3966,3484,1246,2757,2378,1794,3933,1637,783,3094,1774,256,1365,2339,2049,3241,867,2175,3497,609,3285,3684,3586,2322,354,3204,1400,2308,1082,3104,2847,2256,1113,3210,3990,984,3117,1622,2967,1037,2908,1167,2715,1734,2259,2921,1244,3132,2488,1052,2927,2090,2131,3362,1053,1799,3124,1672,1552,1938,3202,1302,2296,575,2359,3314,440,2002,3167,3480,595,2466,1337,1462,503,2066,708,2029,308,552,2082,3314,3996,1795,594,2473,690,3845,2004,2083,2661,1903,2466,3779,3904,265,1417,1769,2948,2572,3267,1459,1633,2052,1086,2402,3376,1507,641,3451,1607,3521,1241,881,2563,3033,769,3454,819,435,586,650,3038,3736,2948,739,686,841,1183,3943,1037,2633,3911,1958,3297,3141,3351,2355,1308,991,3248,1519,493,1747,2517,1389,2522,1885,704,953,3206,928,2177,2610,489,3839,1861,299,340,3606,799,2367,445,3927,3756,770,1641,2343,2787,2495,3208,1234,1069,3568,3585,1974,2419,340,2282,298,968,2391,1534,696,2782,755,3746,2651,1341,2651,1824,1905,1456,3155,773,1829,3883,1675,1601,1958,2376,1647,3548,2694,2195,2506,2073,3767,1150,841,1675,1301,1817,2321,1974,3433,1205,872,2052,3654,1503,3104,343,3430,2470,1396,2668,1457,2452,1871,1112,967,2498,387,635,2711,2023,2215,824,3851,2156,2885,495,2358,1744,1832,2016,1300,2313,3248,2216,3142,1850,1424,1620,2592,296,3579,1180,3962,3978,668,2032,3057,869,3919],\"type\":\"box\",\"xaxis\":\"x11\",\"yaxis\":\"y11\"},{\"boxmean\":true,\"boxpoints\":\"suspectedoutliers\",\"orientation\":\"h\",\"x\":[9,17,11,16,8,17,13,16,17,19,5,14,18,7,14,17,10,10,19,11,17,17,11,8,11,18,16,17,10,12,17,5,18,7,12,10,13,6,6,18,18,18,15,15,9,8,10,16,15,16,5,19,12,17,6,14,14,9,7,15,14,15,7,14,10,18,9,16,11,7,13,9,15,11,9,5,10,11,17,8,19,14,9,10,11,15,16,13,9,10,19,18,16,16,19,13,19,18,14,6,16,16,17,14,11,5,12,18,19,19,16,18,13,8,9,12,12,15,5,5,12,18,10,5,13,19,9,6,12,12,17,7,12,10,12,12,19,12,12,9,17,17,18,12,19,18,12,16,13,13,10,16,16,19,12,16,18,10,17,8,10,15,7,17,16,17,18,7,12,9,5,17,9,19,16,7,14,14,16,17,14,19,6,16,17,13,11,13,9,17,15,12,17,18,7,18,17,15,11,13,5,7,14,6,19,11,13,5,19,18,11,15,11,14,9,18,5,13,16,11,19,6,12,12,14,11,6,18,19,7,14,11,17,6,9,19,18,7,9,12,11,7,10,7,8,8,16,18,12,9,7,17,6,13,15,6,12,17,14,9,6,5,7,10,14,9,10,18,9,12,19,19,17,8,17,19,9,8,8,13,17,11,19,15,11,12,8,7,14,7,14,11,14,15,15,5,15,8,19,12,5,7,19,5,18,18,13,8,11,7,16,12,13,18,19,14,8,18,13,14,16,12,6,9,13,10,16,15,7,11,17,6,14,5,17,18,15,14,14,15,8,18,7,17,13,17,6,5,13,12,15,18,13,19,10,8,17,15,11,10,18,11,17,14,13,6,18,8,11,19,16,7,5,12,10,17,13,11,9,13,8,12,10,18,10,17,19,17,7,16,5,10,9,19,14,9,12,12,10,8,10,18,13,13,9,7,9,12,7,13,15,17,5,6,9,10,19,14,15,11,6,16,15,12,14,12,9,8,19,5,18,5,13,13,17,17,15,12,15,8,16,8,12,12,13,15,5,11,8,5,16,16,9,6,8,17,7,14,17,5,12,15,17,9,16,14,19,11,11,9,7,9,6,6,9,11,18,9,16,16,11,15,14,15,16,9,13,7,17,6,8,5,17,11,16,6,7,7,6,13,7,17,9,19,9,15,12,18,19,9,14,7,5,13,13,18,7,15,13,7,7,5,16,16,8,16,14,19,10,7,18,13,14,7,14,16,11,7,7,18,17,6,7,11,17,6,15,8,7,16,8,5,17,8,14,11,13,11,19,14,9,17,6,9,8,15,6,18,17,13,6,12,11,15,7,19,9,12,13,14,15,12,16,9,15,7,9,8,11,11,14,10,14,11,6,18,9,16,15,18,16,14,6,6,17,8,13,19,5,14,17,16,7,12,14,8,18,15,12,8,12,17,12,9,19,13,6,7,16,17,10,17,7,5,12,6,14,14,12,17,18,5,16,6,7,7,14,14,7,12,6,8,15,13,15,7,17,15,17,10,17,17,16,12,12,19,7,12,15,15,7,17,13,12,15,19,17,13,16,7,14,17,11,13,8,7,5,19,10,15,13,13,13,16,13,11,10,9,14,8,10,6,11,19,5,9,10,17,19,16,6,18,16,5,12,11,10,18,12,5,16,15,16,14,18,10,15,12,6,18,10,17,16,5,6,12,11,9,6,12,17,16,9,8,15,5,14,6,15,8,19,13,18,8,12,10,15,10,7,6,14,10,12,11,14,15,15,10,17,7,9,18,18,10,18,18,14,9,7,10,18,13,19,5,17,19,8,11,13,17,9,13,16,15,7,11,11,11,10,15,19,19,10,6,12,18,10,6,13,7,5,17,11,10,12,6,11,17,8,14,5,16,15,15,5,17,12,16,17,9,7,9,15,13,6,10,18,8,5,17,9,17,18,14,5,14,7,15,11,10,12,19,16,14,6,16,5,16,18,17,16,16,10,13,19,12,12,7,19,16,9,13,8,10,5,5,16,17,17,13,12,10,16,9,11,10,9,5,17,11,11,7,17,6,6,6,5,12,11,11,17,15,5,19,14,18,12,14,7,11,14,16,7,12,12,16,17,15,5,13,10,13,6,8,6,11,17,10,15,12,9,19,14,17,7,9,18,18,11,11,6,19,16,12,18,8,16,11,12,10,16,19,14,13,17,13,9,11,6,18,14,8,12,7,8,11,8,9,10,9,7,8,19,17,17,12,19,17,19,7,16,17,14,9,14,12,11,17,17,10,9,17,5,7,12,12,8,19,15,5,16,11,9,17,12,13,8,18,8,12,16,13,15,7,9,13,6,13,11,5,7,17,17,14,14,9,19,6,12,12,5,9,17,5,5,5,17,6,14,13,8,19,7,16,10,17,6,11,11,7,17,12,17,16,16,13,6,7,7,7,19,14,10,7,17,16,12,7,9,5,12,19,15,9,16,10,8,15,14,15,7,16,17,10,18,13,15,6,10,15,17,18,16,14,5,19,16,15,8,15,19,17,6,17,8,18,16,7,15,14,14,6,15,18,17,17,11,14,14,17,17,14,15,9,14,9,13,16,16,13,13,16,16,11,12,8,9,10,5,12,17,9,19,13,8,10,13,7,19,7,14,14,7,7,11,13,17,17,15,6,10,8,16,17,13,11,17,13,14,11,12,5,18,12,19,14,6,11,12,9,12,15,17,10,9,9,14,15,19,8,14,8,8,14,13,19,17,8,10,12,17,17,17,18,7,8,11,17,10,15,7,10,13,8,6,10,17,15,11,18,12,9,14,12,14,8,13,5,10,7,12,10,19,11,15,8,14,16,8,13,11,19,16,7,11,16,7,14,9,17,15,16,19,5,19,15,7,5,16,9,15,16,18,7,13,19,13,12,14,7,17,7,19,17,16,6,9,15,14,17,14,13,16,12,11,18,12,16,12,14,8,11,14,8,16,13,7,10,7,14,11,15,14,12,9,10,15,6,16,18,13,13,19,9,5,8,10,12,13,11,18,11,13,11,15,7,18,11,6,18,19,6,13,8,18,14,13,8,9,16,17,10,6,15,6,17,8,19,14,17,14,9,14,12,17,7,6,6,16,7,19,10,6,7,8,12,19,11,11,19,18,14,15,7,18,15,7,6,17,9,8,16,17,17,14,19,10,8,13,14,16,19,11,17,7,11,18,16,11,16,19,6,17,7,8,12,9,19,17,12,6,12,16,9,12,18,9,12,16,17,19,9,13,18,12,10,16,9,5,19,11,17,12,8,17,12,13,14,11,18,17,5,13,7,11,16,12,10,8,7,18,18,11,7,15,8,10,10,12,16,5,11,17,18,15,6,11,9,10,16,17,15,18,19,13,12,19,6,7,13,7,13,13,13,8,11,12,19,19,7,5,12,6,8,8,6,8,8,18,9,17,15,17,14,5,7,10,7,13,7,5,12,17,18,11,19,7,16,14,5,17,17,15,14,10,18,12,8,18,14,19,13,12,9,5,17,15,12,14,19,12,13,19,13,9,12,15,15,18,6,6,5,15,17,16,12,14,6,15,13,8,17,17,8,8,16,7,15,19,14,12,7,7,11,17,10,9,7,17,16,17,19,6,17,6,10,7,12,17,6,6,8,17,10,12,7,12,10,6,8,16,14,15,11,8,16,17,9,11,10,19,18,7,14,13,17,11,18,5,13,14,14,16,11,8,7,6,13,8,8,15,16,19,15,8,5,13,8,11,9,10,15,13,15,10,19,16,16,18,16,6,12,6,13,5,6,11,17,18,7,7,14,19,10,16,16,17,15,16,12,6,19,11,13,18,12,14,10,7,10,17,5,17,18,12,5,17,9,18,9,11,17,7,16,9,18,10,15,7,19,8,6,15,6,18,16,7,16,14,12,17,11,12,16,15,16,19,10,15,19,9,17,10,18,15,15,11,13,16,16,11,8,6,13,17,11,12,17,18,18,7,7,6,12,12,18,9,19,12,14,8,14,18,11,11,15,19,19,10,18,17,11,15,17,9,6,14,10,14,17,6,18,7,15,12,5,15,17,14,8,14,17,8,11,15,5,7,13,14,16,5,17,10,19,13,13,12,15,13,6,14,17,14,17,10,5,12,19,7,9,17,10,19,6,15,9,12,7,16,10,5,15,11,19,9,8,8,9,5,8,10,10,12,16,17,15,15,5,14,12,7,5,9,5,15,15,9,6,18,14,19,17,10,12,10,17,18,14,8,18,8,13,5,13,6,16,13,7,7,6,12,14,5,14,8,13,18,7,16,17,10,10,14,18,16,12,12,10,9,17,8,6,16,10,7,11,10,8,17,14,7,17,10,8,11,7,7,16,10,14,15,17,5,10,6,12,6,14,7,18,5,17,19,15,13,16,9,11,17,18,12,14,10,7,19,12,14,18,5,5,9,15,7,9,13,8,10,7,17,6,12,7,9,9,10,6,19,7,11,15,12,14,19,13,8,10,13,14,17,15,17,9,19,10,7,8,15,10,6,15,13,10,14,13,9,16,9,15,9,12,5,19,6,15,17,13,11,9,18,19],\"type\":\"box\",\"xaxis\":\"x12\",\"yaxis\":\"y12\"},{\"boxmean\":true,\"boxpoints\":\"suspectedoutliers\",\"orientation\":\"h\",\"x\":[7,3,2,8,2,1,8,3,1,10,2,9,0,1,9,15,9,2,13,1,15,1,5,7,0,9,1,8,1,7,11,1,5,0,1,4,7,5,1,12,2,10,0,12,3,3,5,12,3,13,0,12,5,8,0,7,11,4,5,13,4,6,0,2,4,8,4,11,1,1,11,7,6,0,2,4,7,7,13,7,10,11,6,3,5,9,0,3,5,1,3,7,10,10,17,5,4,17,3,2,8,7,14,10,4,2,6,1,17,13,4,13,6,4,1,1,9,4,3,0,9,11,4,4,5,14,3,4,0,10,7,0,9,5,8,3,4,11,9,1,0,0,17,11,0,12,6,1,5,10,1,11,7,1,2,10,4,0,0,0,5,6,1,14,4,16,9,6,8,2,3,4,1,6,12,5,8,8,12,4,7,12,1,1,14,2,0,9,5,7,4,10,9,12,5,10,9,2,10,4,4,4,6,4,15,7,4,0,15,17,0,9,3,9,5,5,3,1,7,8,17,5,11,10,11,6,4,8,16,2,10,10,6,5,8,8,12,1,0,2,1,6,1,1,6,3,3,15,5,0,1,9,5,5,9,4,8,0,8,1,3,1,3,0,0,3,8,4,6,1,13,15,6,4,13,11,5,2,4,9,16,7,10,5,5,0,4,5,3,4,3,1,12,5,13,0,1,6,10,8,4,1,3,3,5,11,1,6,10,6,12,0,0,2,2,1,1,5,12,5,0,10,5,6,3,7,0,11,1,6,15,1,0,0,1,15,1,12,7,11,4,7,0,1,10,4,0,0,3,5,11,16,10,17,0,4,14,9,1,7,7,1,11,13,0,4,8,2,7,18,1,6,1,9,1,16,11,7,7,11,1,8,6,2,6,15,3,16,6,1,0,7,2,18,1,7,8,1,0,3,5,0,12,8,2,5,0,10,2,9,7,10,2,3,2,1,5,9,13,7,5,14,1,6,2,2,3,1,5,1,16,2,8,6,10,0,7,11,8,1,0,1,11,9,5,11,3,3,2,1,12,8,8,2,7,2,3,9,15,1,3,7,12,8,14,10,4,9,1,5,5,7,2,1,8,2,0,1,2,14,3,9,6,10,4,4,12,1,10,0,0,1,5,8,8,0,4,4,1,3,1,6,8,13,2,6,11,14,17,4,6,3,3,9,1,7,1,13,8,2,2,0,12,5,6,8,8,17,4,4,3,5,10,3,3,2,7,0,1,3,15,1,6,4,14,1,1,7,5,5,6,1,2,7,10,5,6,10,9,6,4,6,2,8,7,14,4,5,6,11,3,6,0,5,4,7,2,7,9,4,3,10,10,3,7,6,3,5,2,3,9,1,3,2,1,12,4,2,14,17,8,10,3,1,16,2,12,6,4,3,8,5,3,8,5,7,4,10,1,4,7,14,11,0,13,12,0,3,8,1,8,16,4,3,1,3,10,0,9,15,0,0,6,0,4,1,0,10,3,9,3,3,5,5,9,0,13,13,12,1,9,6,13,10,9,2,3,7,6,3,2,4,6,11,1,1,12,1,14,0,11,5,5,10,7,6,3,1,4,11,9,1,8,9,12,10,3,1,6,2,0,4,10,16,1,5,4,6,3,3,2,7,11,3,11,6,2,15,0,4,12,9,6,11,8,1,6,3,1,13,7,13,8,3,0,1,8,5,1,4,8,0,5,1,0,1,8,2,7,3,10,5,14,7,3,3,6,7,4,2,4,5,6,3,11,8,11,2,14,1,8,5,6,8,5,4,0,3,0,5,0,6,8,0,14,10,1,9,12,13,5,3,14,3,4,8,2,1,8,2,12,1,9,4,7,0,0,2,1,6,3,13,2,3,7,5,6,4,5,12,3,15,8,13,1,12,2,10,0,5,5,1,0,12,4,5,8,6,2,7,0,2,17,11,0,4,6,14,4,5,8,12,6,2,0,1,2,1,7,3,11,11,1,2,8,5,7,3,12,12,1,5,7,4,0,0,13,2,5,8,3,3,15,6,5,1,7,3,4,4,2,6,3,0,1,2,4,7,3,0,0,4,3,16,2,7,10,10,2,7,1,2,5,9,8,11,10,12,2,11,8,4,4,5,4,10,4,9,7,11,2,2,12,8,3,4,11,7,5,9,3,10,12,8,6,0,3,9,3,5,7,14,9,7,4,11,4,6,4,1,12,5,0,5,7,2,4,3,9,2,0,0,6,13,8,3,6,1,3,4,10,12,5,4,9,8,10,14,8,4,4,2,1,6,6,11,6,12,2,1,4,4,7,0,6,4,4,2,2,0,3,6,10,5,0,6,1,11,1,3,4,10,10,8,12,1,12,1,4,11,3,4,16,4,3,0,1,0,10,5,3,13,0,2,0,1,4,6,9,2,11,8,3,13,3,2,0,5,5,3,18,5,4,4,3,9,6,3,1,2,0,0,5,6,12,0,0,2,13,7,5,11,16,1,6,10,3,2,3,9,8,3,8,13,2,3,15,13,3,1,11,4,0,1,5,6,8,3,6,4,1,1,4,14,10,3,4,12,3,14,12,9,8,4,2,3,12,15,6,10,5,12,5,9,11,1,2,0,4,11,13,2,11,3,0,1,0,6,13,1,12,11,5,1,3,0,11,4,6,0,0,7,11,3,7,5,10,1,1,6,2,4,15,10,2,4,5,7,0,0,10,13,11,6,8,5,8,3,3,3,4,2,6,5,1,8,15,4,6,7,7,16,7,4,0,5,7,6,1,4,6,6,8,5,1,5,9,7,9,15,11,6,0,8,4,4,1,1,2,1,6,7,1,10,12,7,7,5,3,1,8,16,13,3,9,0,5,9,2,11,3,13,2,0,18,7,1,1,15,4,12,11,16,6,7,6,9,10,1,3,0,3,7,1,9,4,7,0,5,2,9,10,3,2,9,16,8,14,1,5,4,4,7,6,10,0,4,0,5,7,5,10,12,1,3,0,9,5,1,15,11,6,0,4,1,2,9,4,4,0,10,1,4,10,3,2,2,7,0,12,2,0,12,1,12,7,7,7,7,2,16,8,1,2,1,1,0,11,12,2,3,6,9,5,9,6,1,4,0,3,11,8,5,3,0,10,16,2,2,12,6,8,12,3,13,9,4,5,3,3,3,11,1,12,0,4,4,2,3,8,7,8,10,5,4,10,11,15,8,7,3,5,13,2,4,10,3,10,8,2,3,10,11,3,3,5,4,4,12,7,18,5,5,16,1,3,0,3,0,9,6,15,8,1,11,7,7,2,6,4,8,3,10,5,8,10,4,7,1,5,10,12,5,2,4,6,6,8,0,11,1,4,7,3,11,2,8,0,3,11,1,12,13,9,1,0,9,2,4,0,5,0,7,6,4,8,5,3,1,6,1,2,1,3,4,1,2,0,9,2,11,9,8,5,1,6,2,3,9,2,3,10,6,7,9,11,4,3,11,2,10,15,14,10,3,16,6,7,4,3,10,10,0,2,0,4,10,0,13,15,11,10,17,11,4,5,10,2,4,1,4,0,3,16,2,8,2,1,8,4,4,16,10,4,5,0,0,13,15,13,10,3,0,9,11,4,7,0,6,2,11,0,5,16,0,9,2,0,7,5,1,7,4,1,2,1,5,6,0,6,13,1,12,7,7,6,16,3,0,7,9,17,2,8,9,1,8,11,4,6,4,3,9,3,1,0,5,3,4,4,1,2,17,5,7,4,12,6,8,6,9,10,1,6,6,18,8,2,8,9,1,8,1,7,2,0,0,16,13,3,5,10,14,2,6,7,2,2,2,4,2,9,4,11,7,10,8,7,0,1,9,4,14,3,4,2,16,3,17,2,1,3,6,13,4,4,4,2,5,13,0,5,0,3,1,2,1,0,4,1,14,10,7,8,3,7,0,1,10,8,8,14,5,15,11,9,8,3,13,14,1,7,1,0,15,10,2,12,3,7,0,3,1,4,8,7,3,2,8,11,3,4,10,3,5,8,9,8,4,1,7,10,5,7,2,1,1,3,9,4,0,17,3,3,4,3,9,8,12,5,10,0,4,9,6,1,2,10,11,9,0,13,8,8,1,7,0,8,6,5,10,8,8,16,0,3,7,18,3,0,5,5,17,1,10,7,9,3,6,4,2,1,8,15,7,4,0,3,1,0,4,1,3,5,9,3,10,3,7,10,0,0,1,2,0,11,0,3,14,11,13,11,3,9,9,0,0,8,3,1,6,10,3,0,4,0,6,5,5,2,9,7,0,8,6,0,9,0,8,8,5,9,5,11,15,10,2,1,4,3,5,2,5,0,3,7,8,3,5,1,2,12,8,7,9,4,6,14,1,1,5,13,2,1,2,6,2,7,0,3,0,7,1,5,3,3,3,10,7,17,2,12,9,5,6,2,4,3,4,3,5,9,2,1,4,6,0,5,5,5,7,5,3,1,0,5,14,5,1,8,5,10,17,5,2,1,6,5,7,7,13,3,18,3,3,4,6,5,3,8,10,0,1,3,5,6,4,12,2,8,3,8,3,11,16,4,10,1,10,4],\"type\":\"box\",\"xaxis\":\"x13\",\"yaxis\":\"y13\"},{\"boxmean\":true,\"boxpoints\":\"suspectedoutliers\",\"orientation\":\"h\",\"x\":[19,7,9,11,15,10,18,5,20,12,7,13,2,4,3,11,19,18,16,18,3,15,20,20,12,7,4,12,10,10,12,6,3,12,15,15,2,4,2,11,11,19,4,14,12,20,3,12,5,10,15,16,10,12,18,13,17,20,4,9,20,6,15,5,19,13,4,8,4,7,2,13,4,12,6,13,17,6,10,16,6,16,11,11,17,4,7,4,8,11,16,14,5,2,12,12,8,14,18,7,20,11,15,18,8,11,11,14,9,14,18,7,3,5,20,13,4,10,9,14,6,4,6,17,15,9,18,7,7,13,7,20,4,7,20,9,4,2,4,9,17,5,17,5,10,16,19,4,4,15,20,12,19,11,3,6,8,11,19,10,16,7,4,4,7,11,7,12,10,17,13,20,7,12,20,13,4,20,2,19,7,15,17,6,16,15,18,2,10,13,15,6,7,10,18,3,12,4,14,16,13,13,6,15,8,4,17,12,6,6,13,10,13,10,10,8,7,16,20,4,10,18,11,13,2,6,16,13,3,7,19,6,13,20,6,19,20,8,11,11,16,7,3,16,11,14,11,11,7,10,6,7,7,15,12,2,10,5,15,3,5,12,8,15,15,4,16,14,17,6,6,4,5,9,14,15,13,9,9,11,9,18,18,2,4,6,3,5,9,18,18,8,18,11,12,20,16,6,5,19,14,8,16,15,19,7,19,17,19,15,13,10,6,13,12,13,6,20,7,9,5,18,10,7,14,5,8,7,15,13,15,2,12,16,11,12,11,4,14,16,15,2,18,12,15,13,5,19,8,18,15,9,12,19,14,9,4,6,20,11,3,7,13,11,14,8,10,10,18,5,13,16,20,16,8,9,4,17,16,8,2,12,16,16,2,7,3,18,16,19,18,2,8,10,14,18,6,7,15,7,4,20,6,3,9,5,16,12,7,13,4,10,6,17,7,16,20,19,2,5,20,10,2,16,10,18,19,7,4,15,16,20,14,19,16,2,2,7,8,3,8,14,15,6,13,8,8,4,16,14,4,19,2,11,9,19,5,12,19,9,10,7,3,10,11,9,18,4,16,6,16,17,6,19,7,13,17,12,3,14,6,8,11,6,10,14,10,18,9,18,18,3,13,18,15,17,18,16,14,11,20,13,2,9,9,11,10,15,9,15,8,16,19,12,18,18,10,11,20,13,6,11,3,2,2,18,10,14,7,6,9,8,7,9,20,3,19,10,15,12,15,12,7,4,12,6,8,14,19,19,3,4,8,18,10,9,12,15,17,8,17,17,15,15,10,14,8,5,2,3,10,16,10,18,6,14,14,9,17,17,3,6,16,14,4,6,10,15,20,6,6,15,17,16,5,9,12,5,17,14,2,9,5,17,14,3,12,4,13,4,17,3,5,3,9,6,18,7,20,7,19,13,15,19,12,2,18,12,4,8,20,5,16,6,11,17,14,9,9,12,9,8,5,2,13,18,5,20,20,16,13,11,13,8,9,20,2,9,17,5,9,3,15,17,2,5,3,8,12,16,9,7,14,18,7,5,12,8,15,13,20,2,11,20,4,18,11,7,4,18,9,15,5,19,19,7,8,18,8,2,4,5,18,4,11,10,17,20,10,5,2,14,2,4,16,19,18,4,16,7,4,12,13,6,9,13,11,18,15,6,6,13,13,15,16,20,16,13,9,14,18,17,8,3,16,6,7,2,14,8,8,20,13,12,20,2,19,4,3,18,10,8,11,3,19,2,16,8,8,10,11,8,8,4,19,15,17,7,14,15,2,5,7,13,3,12,12,3,16,13,17,4,15,14,18,7,19,14,8,10,15,3,14,3,6,2,5,13,11,7,15,2,12,4,7,7,17,14,9,20,11,20,11,13,19,13,4,13,16,7,18,8,4,17,14,13,15,14,11,14,5,11,11,15,13,17,8,15,14,4,18,9,12,19,12,15,20,15,2,19,12,3,18,6,10,13,9,19,19,14,10,4,10,8,9,18,6,15,14,16,19,5,13,6,16,17,11,18,16,7,6,6,20,18,7,18,6,15,20,20,20,6,17,10,9,19,10,18,2,17,14,9,11,17,5,8,15,11,14,7,7,18,15,13,19,2,6,10,17,17,12,2,8,9,14,15,9,6,13,20,13,4,9,13,4,19,8,6,8,17,9,11,10,12,12,5,9,19,6,15,13,15,7,4,4,19,10,3,3,15,3,6,8,15,14,9,13,16,17,20,9,9,12,9,14,6,10,8,15,16,19,18,11,19,7,16,2,12,7,7,4,16,8,12,8,16,17,2,7,14,5,18,7,6,7,8,19,10,7,15,7,12,3,13,13,6,7,14,3,19,20,3,12,15,19,4,4,3,3,8,4,7,6,3,12,19,13,16,6,17,9,13,10,3,19,7,2,4,18,19,3,17,7,8,9,6,20,17,10,8,9,2,10,13,7,8,10,15,17,17,14,2,15,4,7,7,19,11,12,8,7,17,13,18,8,18,16,15,7,11,9,20,20,12,10,5,3,15,13,16,16,9,11,15,9,17,14,2,5,2,20,6,11,5,17,9,12,4,10,3,19,18,13,11,8,5,14,6,15,3,4,15,14,19,10,2,16,14,7,8,6,4,15,8,8,12,20,4,12,16,9,2,19,13,20,20,5,5,14,9,16,6,17,20,9,15,4,16,4,3,5,20,5,14,17,16,5,10,15,7,11,11,12,11,20,13,19,5,16,2,6,4,9,14,9,4,16,14,20,6,2,4,12,11,20,19,15,18,11,16,8,4,8,5,20,8,9,3,18,15,4,15,12,17,5,17,14,17,15,17,6,14,5,20,3,5,18,13,6,2,18,5,13,10,19,7,10,10,5,3,12,6,2,19,6,9,8,4,5,11,14,8,3,10,2,10,10,14,6,17,5,11,18,6,10,6,4,20,7,5,4,19,13,10,6,13,19,7,13,17,18,17,15,20,3,19,16,20,11,19,8,2,6,15,12,10,16,2,4,14,12,20,11,12,19,6,11,19,12,15,6,8,4,8,15,14,8,18,8,14,2,9,17,13,16,6,16,10,12,6,11,16,3,19,18,16,14,7,17,19,8,11,10,2,10,2,16,19,12,3,14,9,19,2,10,20,3,7,7,6,13,4,17,13,19,17,12,11,19,9,6,18,5,10,13,19,15,20,5,6,18,4,9,5,20,8,20,8,16,14,12,10,16,15,14,16,18,6,7,17,16,12,17,5,14,18,19,14,19,2,7,6,12,10,18,8,16,18,9,7,19,7,16,19,16,16,5,19,16,16,13,20,9,11,20,18,5,19,14,18,19,3,4,15,7,5,12,3,9,4,16,19,6,15,18,12,9,11,12,6,19,16,17,6,3,7,16,15,8,15,2,19,10,3,2,11,17,12,6,3,6,20,7,14,4,20,19,17,20,11,15,20,14,11,20,2,7,11,7,9,3,19,5,2,15,12,16,20,13,10,11,14,12,2,4,7,18,19,20,15,18,9,17,9,14,9,12,6,18,17,2,15,3,4,18,18,18,14,20,2,8,2,2,13,13,11,11,9,17,17,16,8,4,3,12,17,15,8,10,4,2,3,8,5,3,10,3,6,15,18,10,14,17,10,7,4,14,15,8,7,20,16,9,16,18,13,16,19,13,11,6,5,2,4,10,18,17,4,20,17,18,20,2,9,8,20,11,14,11,15,19,18,5,5,18,6,10,11,8,5,16,16,12,2,5,3,8,10,13,5,10,3,4,9,6,20,16,12,11,4,15,15,12,7,10,10,3,7,14,3,4,11,18,13,20,20,12,12,2,14,17,4,16,10,19,19,18,4,4,4,2,11,3,7,4,4,15,8,16,18,6,16,19,13,9,8,9,18,15,17,8,11,7,5,17,7,12,20,7,19,13,16,18,17,12,2,6,13,20,15,14,11,5,15,2,16,20,15,4,19,7,6,11,20,10,2,16,10,5,11,3,14,18,5,17,6,8,7,13,9,3,9,10,11,4,19,6,8,12,9,2,16,7,15,11,19,16,14,19,17,16,2,8,11,3,13,6,11,16,7,13,19,10,5,14,13,5,7,3,6,13,5,20,17,19,18,14,13,5,15,17,12,7,11,12,17,17,4,20,9,15,4,9,20,4,14,5,7,7,12,19,16,5,16,19,2,5,6,3,14,7,4,8,17,10,9,16,17,15,17,3,2,4,3,4,10,14,5,3,2,11,11,8,4,15,9,8,2,16,11,19,6,2,7,6,2,10,14,7,8,2,7,4,20,4,9,17,11,2,11,17,10,16,5,9,10,10,7,12,15,13,15,7,16,4,14,7,3,10,18,19,4,17,10,2,3,17,3,17,9,5,4,12,3,14,19,20,7,2,13,5,9,12,7,11,3,5,19,4,11,4,16,7,2,17,12,6,20,13,10,3,4,14,16,13,20,3,19,3,9,19,20,8,4,15,14,8,3,15,8,8,17,7,14,13,2,14,15,10,11,16,2,11,4,6,5,8,7,19,3,7,20,4,5,3,19,16,5,19,2],\"type\":\"box\",\"xaxis\":\"x14\",\"yaxis\":\"y14\"},{\"boxmean\":true,\"boxpoints\":\"suspectedoutliers\",\"orientation\":\"h\",\"x\":[1,2,2,2,1,1,3,0,0,0,3,3,1,2,0,0,3,3,1,1,3,3,1,0,1,2,3,3,2,0,3,0,1,3,0,1,1,3,2,2,2,3,1,1,0,1,3,1,0,3,2,2,3,1,2,2,0,3,1,2,1,0,0,2,2,3,3,3,0,3,3,2,0,3,0,1,0,0,3,1,3,2,3,1,1,1,0,3,2,2,3,2,0,0,1,3,0,2,0,1,3,1,1,0,0,1,3,3,3,3,1,1,0,2,3,3,2,1,0,1,2,3,3,3,2,3,2,1,3,0,3,1,2,1,2,2,1,3,0,0,2,0,3,2,0,3,1,3,2,2,1,3,1,2,0,1,0,0,3,1,2,2,0,0,2,3,1,2,3,1,3,1,2,2,3,2,0,3,2,1,0,0,2,3,3,0,2,3,1,3,1,2,3,3,2,2,2,3,1,1,0,1,0,2,2,2,2,1,3,3,2,2,0,2,0,3,0,1,1,3,0,0,3,2,3,3,3,2,2,3,3,3,0,1,2,0,1,3,1,0,2,2,3,2,3,3,0,1,1,0,2,2,1,0,0,2,0,1,0,3,1,1,0,0,3,1,3,1,2,1,0,0,3,1,2,2,3,1,0,0,3,3,1,1,2,1,3,3,1,1,3,3,2,3,0,1,3,1,0,1,3,0,0,3,0,1,1,2,0,2,3,2,3,0,2,3,1,0,0,1,0,3,3,0,0,0,2,1,2,1,1,1,1,1,2,2,3,0,2,2,2,1,2,3,0,1,2,2,2,2,1,3,0,2,2,1,2,0,0,3,1,0,3,2,0,0,2,3,2,1,3,1,3,0,3,2,0,1,0,3,1,2,2,2,2,3,3,1,2,3,3,1,3,3,1,3,3,0,1,3,2,3,3,2,2,3,3,0,2,2,0,3,1,2,3,2,1,1,1,0,1,2,2,0,2,2,0,3,1,1,3,1,3,1,0,0,3,1,3,0,0,1,3,1,0,0,2,2,2,1,1,1,3,0,3,2,1,3,1,0,2,2,1,0,0,3,3,0,0,1,3,3,1,0,2,2,3,0,3,3,0,3,0,3,1,0,2,2,1,2,0,3,2,0,1,2,3,1,2,3,0,3,1,0,0,1,2,2,2,2,3,3,0,1,1,2,1,3,3,3,3,1,3,3,3,3,2,3,2,2,0,0,3,1,2,2,0,2,2,1,0,3,1,1,1,1,1,2,2,1,3,1,0,1,0,0,2,2,2,0,3,1,2,1,2,0,0,1,3,3,3,3,3,3,0,2,2,0,0,3,3,3,0,0,3,0,0,1,2,0,2,3,1,3,2,0,2,2,0,0,1,3,0,1,1,2,2,0,2,2,0,1,3,0,2,2,3,1,3,2,2,1,2,2,1,1,0,1,0,1,0,3,1,1,3,1,3,2,1,1,0,2,0,2,0,2,0,1,3,1,2,2,0,1,0,3,2,1,3,2,0,0,1,2,0,0,0,2,3,1,2,1,0,0,0,2,3,2,3,0,3,2,1,2,1,0,2,0,0,1,3,0,3,1,1,1,3,2,2,0,0,3,0,3,3,2,3,3,3,0,2,1,2,0,3,1,0,1,3,1,3,3,1,0,1,1,2,1,3,3,0,2,0,3,2,0,0,2,1,2,3,3,2,1,2,2,3,1,2,3,3,1,1,2,1,2,0,2,0,3,0,0,0,3,3,0,2,2,3,1,3,0,1,2,0,0,0,3,2,0,2,2,1,0,2,0,3,3,2,3,0,3,2,3,2,2,1,0,3,3,1,0,0,2,1,2,3,3,3,3,0,0,0,1,0,2,0,1,2,0,0,3,3,1,3,3,2,3,3,1,1,3,0,3,3,3,3,2,2,3,2,1,3,2,3,0,0,3,0,0,3,2,1,0,2,1,2,2,1,2,2,0,2,0,2,2,2,3,0,0,3,3,1,0,1,0,0,3,3,3,0,2,2,1,2,2,2,0,3,1,1,3,3,1,2,3,2,2,0,3,3,0,2,2,0,3,3,0,1,1,0,1,2,1,3,1,0,0,3,2,0,1,0,1,2,1,1,2,2,0,3,2,3,1,2,3,3,2,2,2,3,0,0,1,0,3,0,0,2,1,1,1,3,0,1,3,3,3,1,3,2,3,1,1,2,3,0,0,1,1,1,0,3,2,0,1,3,0,3,1,0,3,3,1,0,0,0,3,3,1,1,1,1,0,0,3,2,0,3,3,2,0,0,0,2,3,0,1,3,1,2,0,0,2,0,2,0,3,3,1,3,3,1,0,0,0,0,1,1,2,2,2,1,2,0,0,3,0,1,1,0,3,2,0,1,2,3,2,3,1,1,1,1,3,1,1,2,2,1,2,3,1,2,0,1,0,3,0,0,0,0,1,3,0,1,1,0,3,3,2,1,0,1,2,2,2,1,1,0,1,2,2,2,0,0,1,3,1,3,0,0,1,0,3,1,0,0,2,3,3,1,3,3,1,3,2,0,2,2,3,3,3,3,1,2,2,1,2,0,2,3,2,2,1,0,1,1,0,2,0,2,2,2,2,1,2,2,0,1,1,2,1,1,3,0,1,3,0,2,0,2,2,2,2,2,0,0,2,1,2,0,3,1,3,2,2,3,2,0,3,3,1,0,0,3,2,2,0,3,2,0,3,2,0,1,2,2,1,0,2,0,2,1,2,1,1,3,0,1,1,2,0,3,1,2,2,1,3,2,0,2,2,2,3,0,0,3,2,1,2,0,0,2,3,2,0,0,0,2,3,0,2,2,1,1,1,2,1,0,2,1,3,3,0,0,2,3,1,3,1,0,3,3,0,1,3,1,1,2,3,0,3,0,1,1,3,2,0,0,3,1,3,1,2,2,3,0,3,1,1,0,3,0,2,0,2,2,3,2,0,3,1,0,3,3,1,1,0,3,1,3,1,1,2,0,1,3,3,3,3,1,3,0,1,1,0,1,3,1,1,2,1,1,1,1,2,2,2,3,3,2,1,1,2,1,2,3,2,0,3,3,1,2,3,2,1,1,2,1,1,0,0,0,0,2,1,1,2,0,2,0,2,2,0,3,1,0,3,0,1,3,3,0,0,1,1,3,2,3,0,2,1,0,0,0,0,3,0,0,0,3,0,2,2,0,1,1,2,0,0,1,1,0,2,2,2,0,1,3,0,0,2,2,3,1,1,1,1,2,1,1,3,0,3,0,1,0,0,0,0,3,2,1,0,2,1,0,0,1,2,0,1,1,2,1,1,1,2,1,3,3,0,3,2,0,1,2,3,3,0,1,1,1,1,3,1,2,0,2,3,1,3,1,1,2,0,1,2,3,0,1,3,0,0,0,0,0,3,1,2,2,2,1,1,3,0,1,2,2,3,1,1,3,0,1,0,1,3,3,3,3,1,1,0,1,2,2,3,1,1,0,3,3,0,2,2,1,2,2,0,2,3,3,3,2,2,3,2,2,1,1,1,2,0,1,0,3,2,0,2,2,2,2,1,0,0,0,1,2,1,0,3,2,0,3,2,0,1,2,1,0,0,0,2,0,3,1,1,2,3,3,2,1,2,1,2,3,0,2,3,1,0,3,1,0,2,1,2,1,2,3,2,3,2,3,3,3,3,2,2,2,3,1,1,1,0,0,3,2,1,0,3,3,1,0,3,2,1,2,3,2,2,3,1,1,1,1,0,2,1,0,1,0,3,0,3,1,1,3,3,1,1,1,3,2,1,3,1,1,2,3,0,1,1,3,2,1,2,2,3,2,1,1,1,3,3,3,0,3,2,3,1,3,2,1,2,3,3,0,0,0,2,2,0,2,0,2,1,3,3,0,1,2,0,2,0,2,2,2,0,2,0,2,0,2,1,2,3,1,3,0,0,2,2,3,3,1,2,1,1,3,0,0,2,1,0,1,2,1,3,0,1,3,0,2,3,3,2,0,3,1,1,0,2,2,2,0,3,3,0,3,2,3,0,2,0,2,1,3,3,0,3,2,0,2,1,2,3,1,1,3,0,1,1,3,0,1,0,1,2,0,1,3,3,1,2,1,0,0,1,0,1,0,0,1,3,3,1,0,2,0,3,1,2,2,1,2,3,3,0,0,1,2,2,2,1,2,1,0,2,3,0,0,3,0,3,0,0,3,3,0,3,0,0,0,0,3,3,2,0,0,0,0,3,0,2,3,2,3,3,2,3,1,0,2,0,0,1,1,1,2,2,0,0,3,0,1,2,0,3,1,0,0,3,0,1,0,3,3,0,1,2,2,2,3,0,1,3,3,1,3,0,1,0,0,2,1,0,2,0,3,1,0,2,1,2,1,3,0,2,3,1,1,1,2,1,3,2,2,2,2,3,1,0,0,0,0,2,1,2,1,0,1,3,0,3,0,3,3,1,2,0,2,1,1,0,2,1,0,2,2,1,0,3,1,3,0,2,1,1,1,1,2,2,1,3,1,0,1,1,0,3,0,3,3,0,2,3,0,3],\"type\":\"box\",\"xaxis\":\"x15\",\"yaxis\":\"y15\"}],                        {\"template\":{\"data\":{\"histogram2dcontour\":[{\"type\":\"histogram2dcontour\",\"colorbar\":{\"outlinewidth\":0,\"ticks\":\"\"},\"colorscale\":[[0.0,\"#0d0887\"],[0.1111111111111111,\"#46039f\"],[0.2222222222222222,\"#7201a8\"],[0.3333333333333333,\"#9c179e\"],[0.4444444444444444,\"#bd3786\"],[0.5555555555555556,\"#d8576b\"],[0.6666666666666666,\"#ed7953\"],[0.7777777777777778,\"#fb9f3a\"],[0.8888888888888888,\"#fdca26\"],[1.0,\"#f0f921\"]]}],\"choropleth\":[{\"type\":\"choropleth\",\"colorbar\":{\"outlinewidth\":0,\"ticks\":\"\"}}],\"histogram2d\":[{\"type\":\"histogram2d\",\"colorbar\":{\"outlinewidth\":0,\"ticks\":\"\"},\"colorscale\":[[0.0,\"#0d0887\"],[0.1111111111111111,\"#46039f\"],[0.2222222222222222,\"#7201a8\"],[0.3333333333333333,\"#9c179e\"],[0.4444444444444444,\"#bd3786\"],[0.5555555555555556,\"#d8576b\"],[0.6666666666666666,\"#ed7953\"],[0.7777777777777778,\"#fb9f3a\"],[0.8888888888888888,\"#fdca26\"],[1.0,\"#f0f921\"]]}],\"heatmap\":[{\"type\":\"heatmap\",\"colorbar\":{\"outlinewidth\":0,\"ticks\":\"\"},\"colorscale\":[[0.0,\"#0d0887\"],[0.1111111111111111,\"#46039f\"],[0.2222222222222222,\"#7201a8\"],[0.3333333333333333,\"#9c179e\"],[0.4444444444444444,\"#bd3786\"],[0.5555555555555556,\"#d8576b\"],[0.6666666666666666,\"#ed7953\"],[0.7777777777777778,\"#fb9f3a\"],[0.8888888888888888,\"#fdca26\"],[1.0,\"#f0f921\"]]}],\"heatmapgl\":[{\"type\":\"heatmapgl\",\"colorbar\":{\"outlinewidth\":0,\"ticks\":\"\"},\"colorscale\":[[0.0,\"#0d0887\"],[0.1111111111111111,\"#46039f\"],[0.2222222222222222,\"#7201a8\"],[0.3333333333333333,\"#9c179e\"],[0.4444444444444444,\"#bd3786\"],[0.5555555555555556,\"#d8576b\"],[0.6666666666666666,\"#ed7953\"],[0.7777777777777778,\"#fb9f3a\"],[0.8888888888888888,\"#fdca26\"],[1.0,\"#f0f921\"]]}],\"contourcarpet\":[{\"type\":\"contourcarpet\",\"colorbar\":{\"outlinewidth\":0,\"ticks\":\"\"}}],\"contour\":[{\"type\":\"contour\",\"colorbar\":{\"outlinewidth\":0,\"ticks\":\"\"},\"colorscale\":[[0.0,\"#0d0887\"],[0.1111111111111111,\"#46039f\"],[0.2222222222222222,\"#7201a8\"],[0.3333333333333333,\"#9c179e\"],[0.4444444444444444,\"#bd3786\"],[0.5555555555555556,\"#d8576b\"],[0.6666666666666666,\"#ed7953\"],[0.7777777777777778,\"#fb9f3a\"],[0.8888888888888888,\"#fdca26\"],[1.0,\"#f0f921\"]]}],\"surface\":[{\"type\":\"surface\",\"colorbar\":{\"outlinewidth\":0,\"ticks\":\"\"},\"colorscale\":[[0.0,\"#0d0887\"],[0.1111111111111111,\"#46039f\"],[0.2222222222222222,\"#7201a8\"],[0.3333333333333333,\"#9c179e\"],[0.4444444444444444,\"#bd3786\"],[0.5555555555555556,\"#d8576b\"],[0.6666666666666666,\"#ed7953\"],[0.7777777777777778,\"#fb9f3a\"],[0.8888888888888888,\"#fdca26\"],[1.0,\"#f0f921\"]]}],\"mesh3d\":[{\"type\":\"mesh3d\",\"colorbar\":{\"outlinewidth\":0,\"ticks\":\"\"}}],\"scatter\":[{\"fillpattern\":{\"fillmode\":\"overlay\",\"size\":10,\"solidity\":0.2},\"type\":\"scatter\"}],\"parcoords\":[{\"type\":\"parcoords\",\"line\":{\"colorbar\":{\"outlinewidth\":0,\"ticks\":\"\"}}}],\"scatterpolargl\":[{\"type\":\"scatterpolargl\",\"marker\":{\"colorbar\":{\"outlinewidth\":0,\"ticks\":\"\"}}}],\"bar\":[{\"error_x\":{\"color\":\"#2a3f5f\"},\"error_y\":{\"color\":\"#2a3f5f\"},\"marker\":{\"line\":{\"color\":\"#E5ECF6\",\"width\":0.5},\"pattern\":{\"fillmode\":\"overlay\",\"size\":10,\"solidity\":0.2}},\"type\":\"bar\"}],\"scattergeo\":[{\"type\":\"scattergeo\",\"marker\":{\"colorbar\":{\"outlinewidth\":0,\"ticks\":\"\"}}}],\"scatterpolar\":[{\"type\":\"scatterpolar\",\"marker\":{\"colorbar\":{\"outlinewidth\":0,\"ticks\":\"\"}}}],\"histogram\":[{\"marker\":{\"pattern\":{\"fillmode\":\"overlay\",\"size\":10,\"solidity\":0.2}},\"type\":\"histogram\"}],\"scattergl\":[{\"type\":\"scattergl\",\"marker\":{\"colorbar\":{\"outlinewidth\":0,\"ticks\":\"\"}}}],\"scatter3d\":[{\"type\":\"scatter3d\",\"line\":{\"colorbar\":{\"outlinewidth\":0,\"ticks\":\"\"}},\"marker\":{\"colorbar\":{\"outlinewidth\":0,\"ticks\":\"\"}}}],\"scattermapbox\":[{\"type\":\"scattermapbox\",\"marker\":{\"colorbar\":{\"outlinewidth\":0,\"ticks\":\"\"}}}],\"scatterternary\":[{\"type\":\"scatterternary\",\"marker\":{\"colorbar\":{\"outlinewidth\":0,\"ticks\":\"\"}}}],\"scattercarpet\":[{\"type\":\"scattercarpet\",\"marker\":{\"colorbar\":{\"outlinewidth\":0,\"ticks\":\"\"}}}],\"carpet\":[{\"aaxis\":{\"endlinecolor\":\"#2a3f5f\",\"gridcolor\":\"white\",\"linecolor\":\"white\",\"minorgridcolor\":\"white\",\"startlinecolor\":\"#2a3f5f\"},\"baxis\":{\"endlinecolor\":\"#2a3f5f\",\"gridcolor\":\"white\",\"linecolor\":\"white\",\"minorgridcolor\":\"white\",\"startlinecolor\":\"#2a3f5f\"},\"type\":\"carpet\"}],\"table\":[{\"cells\":{\"fill\":{\"color\":\"#EBF0F8\"},\"line\":{\"color\":\"white\"}},\"header\":{\"fill\":{\"color\":\"#C8D4E3\"},\"line\":{\"color\":\"white\"}},\"type\":\"table\"}],\"barpolar\":[{\"marker\":{\"line\":{\"color\":\"#E5ECF6\",\"width\":0.5},\"pattern\":{\"fillmode\":\"overlay\",\"size\":10,\"solidity\":0.2}},\"type\":\"barpolar\"}],\"pie\":[{\"automargin\":true,\"type\":\"pie\"}]},\"layout\":{\"autotypenumbers\":\"strict\",\"colorway\":[\"#636efa\",\"#EF553B\",\"#00cc96\",\"#ab63fa\",\"#FFA15A\",\"#19d3f3\",\"#FF6692\",\"#B6E880\",\"#FF97FF\",\"#FECB52\"],\"font\":{\"color\":\"#2a3f5f\"},\"hovermode\":\"closest\",\"hoverlabel\":{\"align\":\"left\"},\"paper_bgcolor\":\"white\",\"plot_bgcolor\":\"#E5ECF6\",\"polar\":{\"bgcolor\":\"#E5ECF6\",\"angularaxis\":{\"gridcolor\":\"white\",\"linecolor\":\"white\",\"ticks\":\"\"},\"radialaxis\":{\"gridcolor\":\"white\",\"linecolor\":\"white\",\"ticks\":\"\"}},\"ternary\":{\"bgcolor\":\"#E5ECF6\",\"aaxis\":{\"gridcolor\":\"white\",\"linecolor\":\"white\",\"ticks\":\"\"},\"baxis\":{\"gridcolor\":\"white\",\"linecolor\":\"white\",\"ticks\":\"\"},\"caxis\":{\"gridcolor\":\"white\",\"linecolor\":\"white\",\"ticks\":\"\"}},\"coloraxis\":{\"colorbar\":{\"outlinewidth\":0,\"ticks\":\"\"}},\"colorscale\":{\"sequential\":[[0.0,\"#0d0887\"],[0.1111111111111111,\"#46039f\"],[0.2222222222222222,\"#7201a8\"],[0.3333333333333333,\"#9c179e\"],[0.4444444444444444,\"#bd3786\"],[0.5555555555555556,\"#d8576b\"],[0.6666666666666666,\"#ed7953\"],[0.7777777777777778,\"#fb9f3a\"],[0.8888888888888888,\"#fdca26\"],[1.0,\"#f0f921\"]],\"sequentialminus\":[[0.0,\"#0d0887\"],[0.1111111111111111,\"#46039f\"],[0.2222222222222222,\"#7201a8\"],[0.3333333333333333,\"#9c179e\"],[0.4444444444444444,\"#bd3786\"],[0.5555555555555556,\"#d8576b\"],[0.6666666666666666,\"#ed7953\"],[0.7777777777777778,\"#fb9f3a\"],[0.8888888888888888,\"#fdca26\"],[1.0,\"#f0f921\"]],\"diverging\":[[0,\"#8e0152\"],[0.1,\"#c51b7d\"],[0.2,\"#de77ae\"],[0.3,\"#f1b6da\"],[0.4,\"#fde0ef\"],[0.5,\"#f7f7f7\"],[0.6,\"#e6f5d0\"],[0.7,\"#b8e186\"],[0.8,\"#7fbc41\"],[0.9,\"#4d9221\"],[1,\"#276419\"]]},\"xaxis\":{\"gridcolor\":\"white\",\"linecolor\":\"white\",\"ticks\":\"\",\"title\":{\"standoff\":15},\"zerolinecolor\":\"white\",\"automargin\":true,\"zerolinewidth\":2},\"yaxis\":{\"gridcolor\":\"white\",\"linecolor\":\"white\",\"ticks\":\"\",\"title\":{\"standoff\":15},\"zerolinecolor\":\"white\",\"automargin\":true,\"zerolinewidth\":2},\"scene\":{\"xaxis\":{\"backgroundcolor\":\"#E5ECF6\",\"gridcolor\":\"white\",\"linecolor\":\"white\",\"showbackground\":true,\"ticks\":\"\",\"zerolinecolor\":\"white\",\"gridwidth\":2},\"yaxis\":{\"backgroundcolor\":\"#E5ECF6\",\"gridcolor\":\"white\",\"linecolor\":\"white\",\"showbackground\":true,\"ticks\":\"\",\"zerolinecolor\":\"white\",\"gridwidth\":2},\"zaxis\":{\"backgroundcolor\":\"#E5ECF6\",\"gridcolor\":\"white\",\"linecolor\":\"white\",\"showbackground\":true,\"ticks\":\"\",\"zerolinecolor\":\"white\",\"gridwidth\":2}},\"shapedefaults\":{\"line\":{\"color\":\"#2a3f5f\"}},\"annotationdefaults\":{\"arrowcolor\":\"#2a3f5f\",\"arrowhead\":0,\"arrowwidth\":1},\"geo\":{\"bgcolor\":\"white\",\"landcolor\":\"#E5ECF6\",\"subunitcolor\":\"white\",\"showland\":true,\"showlakes\":true,\"lakecolor\":\"white\"},\"title\":{\"x\":0.05},\"mapbox\":{\"style\":\"light\"}}},\"xaxis\":{\"anchor\":\"y\",\"domain\":[0.0,0.3],\"title\":{\"text\":\"battery_power\"}},\"yaxis\":{\"anchor\":\"x\",\"domain\":[0.912,1.0],\"showticklabels\":false},\"xaxis2\":{\"anchor\":\"y2\",\"domain\":[0.35,0.6499999999999999],\"title\":{\"text\":\"clock_speed\"}},\"yaxis2\":{\"anchor\":\"x2\",\"domain\":[0.912,1.0],\"showticklabels\":false},\"xaxis3\":{\"anchor\":\"y3\",\"domain\":[0.7,1.0],\"title\":{\"text\":\"fc\"}},\"yaxis3\":{\"anchor\":\"x3\",\"domain\":[0.912,1.0],\"showticklabels\":false},\"xaxis4\":{\"anchor\":\"y4\",\"domain\":[0.0,0.3],\"title\":{\"text\":\"int_memory\"}},\"yaxis4\":{\"anchor\":\"x4\",\"domain\":[0.684,0.772],\"showticklabels\":false},\"xaxis5\":{\"anchor\":\"y5\",\"domain\":[0.35,0.6499999999999999],\"title\":{\"text\":\"m_dep\"}},\"yaxis5\":{\"anchor\":\"x5\",\"domain\":[0.684,0.772],\"showticklabels\":false},\"xaxis6\":{\"anchor\":\"y6\",\"domain\":[0.7,1.0],\"title\":{\"text\":\"mobile_wt\"}},\"yaxis6\":{\"anchor\":\"x6\",\"domain\":[0.684,0.772],\"showticklabels\":false},\"xaxis7\":{\"anchor\":\"y7\",\"domain\":[0.0,0.3],\"title\":{\"text\":\"n_cores\"}},\"yaxis7\":{\"anchor\":\"x7\",\"domain\":[0.456,0.544],\"showticklabels\":false},\"xaxis8\":{\"anchor\":\"y8\",\"domain\":[0.35,0.6499999999999999],\"title\":{\"text\":\"pc\"}},\"yaxis8\":{\"anchor\":\"x8\",\"domain\":[0.456,0.544],\"showticklabels\":false},\"xaxis9\":{\"anchor\":\"y9\",\"domain\":[0.7,1.0],\"title\":{\"text\":\"px_height\"}},\"yaxis9\":{\"anchor\":\"x9\",\"domain\":[0.456,0.544],\"showticklabels\":false},\"xaxis10\":{\"anchor\":\"y10\",\"domain\":[0.0,0.3],\"title\":{\"text\":\"px_width\"}},\"yaxis10\":{\"anchor\":\"x10\",\"domain\":[0.228,0.316],\"showticklabels\":false},\"xaxis11\":{\"anchor\":\"y11\",\"domain\":[0.35,0.6499999999999999],\"title\":{\"text\":\"ram\"}},\"yaxis11\":{\"anchor\":\"x11\",\"domain\":[0.228,0.316],\"showticklabels\":false},\"xaxis12\":{\"anchor\":\"y12\",\"domain\":[0.7,1.0],\"title\":{\"text\":\"sc_h\"}},\"yaxis12\":{\"anchor\":\"x12\",\"domain\":[0.228,0.316],\"showticklabels\":false},\"xaxis13\":{\"anchor\":\"y13\",\"domain\":[0.0,0.3],\"title\":{\"text\":\"sc_w\"}},\"yaxis13\":{\"anchor\":\"x13\",\"domain\":[0.0,0.088],\"showticklabels\":false},\"xaxis14\":{\"anchor\":\"y14\",\"domain\":[0.35,0.6499999999999999],\"title\":{\"text\":\"talk_time\"}},\"yaxis14\":{\"anchor\":\"x14\",\"domain\":[0.0,0.088],\"showticklabels\":false},\"xaxis15\":{\"anchor\":\"y15\",\"domain\":[0.7,1.0],\"title\":{\"text\":\"price_range\"}},\"yaxis15\":{\"anchor\":\"x15\",\"domain\":[0.0,0.088],\"showticklabels\":false},\"title\":{\"font\":{\"color\":\"#393646\",\"family\":\"Bold\",\"size\":26},\"text\":\"Relationship between Relevant Features and Price Range\",\"y\":0.989,\"x\":0.5,\"xanchor\":\"center\",\"yanchor\":\"top\"},\"showlegend\":false,\"height\":800,\"width\":1200},                        {\"responsive\": true}                    ).then(function(){\n",
              "                            \n",
              "var gd = document.getElementById('bbf5d512-8f8b-4795-a909-4600aadb980d');\n",
              "var x = new MutationObserver(function (mutations, observer) {{\n",
              "        var display = window.getComputedStyle(gd).display;\n",
              "        if (!display || display === 'none') {{\n",
              "            console.log([gd, 'removed!']);\n",
              "            Plotly.purge(gd);\n",
              "            observer.disconnect();\n",
              "        }}\n",
              "}});\n",
              "\n",
              "// Listen for the removal of the full notebook cells\n",
              "var notebookContainer = gd.closest('#notebook-container');\n",
              "if (notebookContainer) {{\n",
              "    x.observe(notebookContainer, {childList: true});\n",
              "}}\n",
              "\n",
              "// Listen for the clearing of the current output cell\n",
              "var outputEl = gd.closest('.output');\n",
              "if (outputEl) {{\n",
              "    x.observe(outputEl, {childList: true});\n",
              "}}\n",
              "\n",
              "                        })                };                            </script>        </div>\n",
              "</body>\n",
              "</html>"
            ]
          },
          "metadata": {}
        }
      ],
      "source": [
        "num_colms = [col for col in m_p_t.columns if m_p_t[col].nunique() > 2]\n",
        "\n",
        "\n",
        "fig = sp.make_subplots(rows=5, cols=3, vertical_spacing = 0.14, horizontal_spacing = 0.05)\n",
        "\n",
        "idx = 0\n",
        "\n",
        "for r in range(1, 6):\n",
        "  for c in range(1, 4):\n",
        "\n",
        "    col = num_colms[idx]\n",
        "    idx+=1\n",
        "\n",
        "    trace = go.Box(x=m_p_t[col], orientation='h', boxpoints='suspectedoutliers', boxmean=True)\n",
        "\n",
        "    fig.add_trace(trace, row=r, col=c)\n",
        "    fig.update_yaxes(showticklabels=False)\n",
        "    fig.update_xaxes(title_text=col, row=r, col=c)\n",
        "\n",
        "fig.update_layout(\n",
        "    title={\n",
        "        'text': 'Relationship between Relevant Features and Price Range',\n",
        "        'y': 0.989,\n",
        "        'x': 0.5,\n",
        "        'xanchor': 'center',\n",
        "        'yanchor': 'top',\n",
        "        'font' : {\n",
        "            'color' : '#393646',\n",
        "            'family' : 'Bold',\n",
        "            'size' : 26\n",
        "        }\n",
        "\n",
        "    },\n",
        "\n",
        "    showlegend = False,\n",
        "    height = 800,\n",
        "    width = 1200\n",
        ")\n",
        "\n",
        "fig.show()\n",
        "\n",
        "\n",
        "\n"
      ]
    },
    {
      "cell_type": "markdown",
      "metadata": {
        "id": "Gs-zcEHwVqg1"
      },
      "source": [
        "#### **Violin Plot**"
      ]
    },
    {
      "cell_type": "code",
      "execution_count": null,
      "metadata": {
        "id": "tRk72dcGVpwN",
        "colab": {
          "base_uri": "https://localhost:8080/"
        },
        "outputId": "0349adbf-f71e-41b7-cc41-6dca172357c8"
      },
      "outputs": [
        {
          "output_type": "display_data",
          "data": {
            "text/html": [
              "<html>\n",
              "<head><meta charset=\"utf-8\" /></head>\n",
              "<body>\n",
              "    <div>            <script src=\"https://cdnjs.cloudflare.com/ajax/libs/mathjax/2.7.5/MathJax.js?config=TeX-AMS-MML_SVG\"></script><script type=\"text/javascript\">if (window.MathJax && window.MathJax.Hub && window.MathJax.Hub.Config) {window.MathJax.Hub.Config({SVG: {font: \"STIX-Web\"}});}</script>                <script type=\"text/javascript\">window.PlotlyConfig = {MathJaxConfig: 'local'};</script>\n",
              "        <script src=\"https://cdn.plot.ly/plotly-2.18.2.min.js\"></script>                <div id=\"8fc6de90-7635-4b47-a162-1c3c995a94b7\" class=\"plotly-graph-div\" style=\"height:1000px; width:1200px;\"></div>            <script type=\"text/javascript\">                                    window.PLOTLYENV=window.PLOTLYENV || {};                                    if (document.getElementById(\"8fc6de90-7635-4b47-a162-1c3c995a94b7\")) {                    Plotly.newPlot(                        \"8fc6de90-7635-4b47-a162-1c3c995a94b7\",                        [{\"box\":{\"visible\":true},\"meanline\":{\"visible\":true},\"orientation\":\"h\",\"points\":\"suspectedoutliers\",\"x\":[842,1021,563,615,1821,1859,1821,1954,1445,509,769,1520,1815,803,1866,775,838,595,1131,682,772,1709,1949,1602,503,961,519,956,1453,851,1579,1568,1319,1310,644,725,589,1725,790,560,1347,1646,1253,1656,1195,1514,1723,1054,578,596,1547,1760,1654,1457,1073,1936,823,987,1757,1063,1484,799,1156,1720,702,616,1358,1866,1242,1166,1448,1407,605,1038,797,819,1114,1234,1199,1103,1589,999,1510,1008,1127,1412,1496,1083,668,1309,1724,1977,885,879,1322,1137,1355,1665,657,593,1883,1732,543,1939,553,832,1661,1657,1135,1775,783,617,867,1310,1804,1900,909,1084,1308,1778,1701,772,825,1379,1166,1659,826,1564,1957,1571,1414,1790,645,668,1652,1213,1272,866,536,523,1753,1218,1537,786,1678,1814,1101,1461,1216,506,843,742,1692,1485,1547,1692,637,1224,1356,1840,1481,961,1296,1193,1441,517,748,1126,1572,1569,1270,1854,625,1577,534,946,685,1949,947,801,703,1165,1082,959,1502,1380,1266,1934,1905,1831,596,1562,1490,1523,640,1526,1989,1308,609,1905,1703,1445,1087,671,1472,765,1642,1265,664,1277,1395,1539,1049,1827,903,1987,1154,1336,1886,1551,850,660,1225,1452,1686,1634,1708,1151,1578,1689,1488,1313,1715,1442,528,1523,1133,1718,1330,1799,633,724,822,1918,1891,1373,862,1273,957,1617,893,1210,708,835,1450,973,601,507,564,1559,754,728,1431,767,1722,1992,1876,1054,1283,1281,1066,730,1053,1611,793,1220,1662,1281,538,823,1733,1429,1839,659,1953,1172,612,1563,1191,615,1893,1563,1995,1517,832,1162,1595,1329,928,1656,1937,977,768,1464,1177,1348,1956,1751,1530,1997,1414,1707,894,645,1163,1126,1648,1170,508,1097,728,1980,1504,1379,1698,920,1144,1995,1430,972,662,1867,1730,1723,1882,803,580,668,1391,1560,821,811,1989,1034,618,654,576,667,869,635,609,1557,1604,1182,848,1610,1828,880,1394,1960,809,899,1976,879,916,763,508,825,1864,1725,1108,1011,1703,1067,1334,775,1899,930,1058,1187,1874,1482,1809,864,625,1880,1138,560,1117,1712,1836,1036,1860,1375,1945,1896,788,880,1323,1868,1266,1042,1479,1476,1552,1454,1007,652,1504,1726,1029,1582,1478,1178,707,755,912,651,1483,914,1456,1178,1503,1681,715,1876,1190,1755,1197,1048,1887,1772,1421,1464,728,954,685,1472,853,1469,1310,1654,902,1448,1631,1608,1991,1349,1589,1844,712,972,1406,1289,932,1747,1172,1128,664,513,1742,1512,1986,965,1067,1583,1653,1433,765,1845,752,1948,1077,932,1968,1122,1588,601,1615,1589,1417,1697,1330,1476,1579,1277,1089,1663,1949,1138,685,1889,857,1902,1225,1066,1554,1337,1926,869,1278,1773,1661,1438,1661,1846,1260,512,581,1872,687,1062,1678,1417,1074,1832,1039,1059,1606,1928,1875,1128,1748,1413,825,1589,535,1780,1671,1821,1076,532,777,1217,1656,1185,577,737,704,525,504,793,569,1590,707,767,1350,1117,641,1002,1408,1900,726,1544,1454,1230,1552,1519,723,1191,1168,1229,1758,1290,574,1271,1170,1269,1288,1366,1572,1627,1701,1900,1974,1197,587,934,1195,1853,1164,1512,1232,1813,946,739,704,1663,1966,1219,612,1658,1263,1395,621,652,1175,561,1137,1835,1170,1595,1719,1770,1312,1878,1871,922,1975,1212,1430,1958,1836,557,539,880,1369,1109,843,598,972,1944,1225,644,1919,501,1620,1227,1359,1914,1645,1063,946,1231,1397,701,570,1993,955,924,600,518,1063,920,1715,1841,543,1762,1112,709,1315,1762,1462,571,666,1994,1583,1778,1926,966,568,1897,1695,1623,914,1721,890,600,1677,723,638,852,1979,710,1034,600,1027,1260,1793,675,658,1694,804,1713,706,1362,1527,768,1314,705,1403,1486,781,986,1310,560,1348,1567,1940,1979,561,1717,535,1413,1358,1519,1254,1591,977,1640,663,1744,1624,1108,1188,817,863,1397,1108,1068,1702,808,1156,1271,696,1981,614,1590,1945,1135,1049,1807,984,720,1536,771,503,675,1936,1303,1004,1972,1822,1159,1782,894,1884,1648,798,802,1276,1331,1620,1996,1092,1018,545,554,1264,1030,1432,558,829,1741,1849,733,1872,1853,1149,891,1911,550,576,1760,969,1160,827,1786,774,819,1042,1368,1592,1067,1892,915,774,1848,1501,1614,911,1520,1647,1347,967,1442,1204,1320,1800,1567,1439,1422,1591,880,1929,1642,1511,1312,1852,972,691,807,1113,721,1188,1512,805,918,1320,1236,1387,1883,839,1593,1722,1954,1788,1628,1965,833,571,1808,1860,1368,1161,1224,902,787,854,1184,1973,510,966,1438,1986,1907,1489,1843,825,1286,840,757,814,1195,767,1068,994,1550,1878,623,1829,525,1065,1425,1296,642,1664,1498,981,1236,1673,712,569,603,1332,1413,1064,1444,1366,906,1554,1187,1156,1918,841,730,878,1059,1578,1829,1132,1652,912,1181,1497,1790,1742,1549,1372,1112,1005,783,1698,899,1062,989,1983,1800,1254,868,1205,1284,626,1763,694,1265,816,904,979,1531,934,1624,874,1027,1966,1048,1496,959,1349,1689,1558,582,1485,1991,553,1231,805,764,894,1589,1456,743,1061,1428,674,832,1625,907,1631,1584,1382,633,1444,852,922,1745,862,1754,1008,1569,1596,1807,1660,1861,648,1379,1910,1807,1923,1345,904,1239,1330,516,672,892,1778,1130,1359,1866,1597,1046,1035,1175,1261,1068,1713,1688,1413,559,1483,860,1090,686,818,1456,774,1068,1373,1777,594,1524,511,1402,965,1270,919,1963,1977,1881,683,772,536,1694,1633,1371,551,1221,1000,1986,1119,1699,1099,1576,950,1081,606,502,957,1658,1681,1983,1753,1632,1949,1696,688,1104,1122,504,1154,1727,1674,1948,1218,531,1057,576,1960,673,718,864,547,623,1793,1720,812,980,643,1925,1408,1522,587,1959,1872,1043,1809,1703,1095,1414,1659,1540,1342,1189,518,1449,516,1569,1312,1893,1076,530,1044,1330,1836,1741,1869,1331,1655,605,1245,1709,846,1403,688,775,1154,1375,1827,1697,741,1672,514,1375,989,1510,1266,1396,808,1542,745,1735,586,1341,781,501,1224,1970,618,1537,1018,1545,1871,1729,680,1106,635,618,1671,1562,1975,831,1524,1528,1447,1344,564,921,1413,831,802,1923,1193,904,1285,1635,1923,1851,727,1396,877,696,1009,1526,987,1414,1732,1587,1097,504,1159,1910,865,1930,860,1268,999,622,1250,763,1100,815,618,553,673,563,1590,1031,909,1880,1479,1271,709,1744,1314,1136,1039,1300,732,511,1092,921,1030,1130,1299,1009,1735,1129,708,894,530,1481,1068,1487,1524,1093,1816,627,989,1895,805,713,864,1177,582,1898,1158,1451,1820,984,580,1263,1237,514,1515,721,603,1426,1820,1215,697,717,1348,1164,578,1971,1794,1558,1597,1240,1994,1221,989,1180,718,1670,534,1566,1935,504,913,1317,917,712,1083,1039,1747,1449,1872,1796,1097,1562,1433,740,676,503,1020,896,1824,1512,1053,1944,1174,627,1602,1733,586,1528,875,1602,1426,1370,609,840,991,1724,584,860,1541,615,912,1278,1365,1702,589,1347,1644,956,1089,871,664,1874,1928,888,1077,1023,1426,831,1496,1433,1095,643,1142,730,1901,1510,1924,1825,1275,987,1538,1965,808,712,1507,912,769,948,507,1384,1766,1407,614,1972,1039,511,1811,1159,1848,1988,1469,1423,1974,835,1429,947,1446,1332,1498,1576,1398,1885,798,1436,1998,1321,1021,1339,1210,1949,882,1549,1991,796,1012,1318,1708,598,541,818,1414,601,561,1616,1263,1604,539,1071,826,771,1811,1842,1420,1763,1163,1805,610,1533,1924,1801,1726,794,1686,1444,1004,1242,539,717,1540,672,1325,950,948,1328,1447,1973,1731,1617,1791,851,856,714,951,1303,1550,1759,1448,1987,908,820,904,667,1109,1333,1352,1600,1454,1489,1823,1581,1672,1283,630,659,1811,688,514,1933,915,1006,1134,599,973,1180,1237,659,1142,1002,1392,602,1249,531,1450,1342,832,867,1404,840,1368,1927,1714,1201,1796,1147,776,510,1045,1497,1425,726,1576,714,1595,541,1617,1154,1638,1150,1254,1806,603,1834,520,565,1689,742,1143,761,959,772,1015,1824,1130,1183,574,1472,1868,1375,881,1742,1225,1970,1186,1762,1731,852,848,1575,1554,1972,827,1063,1695,1343,834,595,1081,911,844,1335,1883,1128,826,1650,1162,1517,963,1837,1028,1831,571,1770,970,642,622,600,1412,733,1070,875,1994,823,1908,790,1330,1660,1776,1611,1410,1772,1280,1712,1562,891,1957,1110,875,1211,769,671,1872,1076,1325,911,1273,1062,1317,940,729,1494,1546,1253,895,793,1628,625,1110,999,1856,1715,1897,1202,1171,964,1973,1992,546,1093,1880,1765,1640,1830,826,1864,586,1206,832,848,1851,1166,1776,1254,1494,984,1179,513,557,744,1129,1148,1793,1310,1604,1676,1001,1086,1986,634,502,1641,623,962,1057,1862,555,1000,841,865,999,1232,1194,612,1362,1469,986,1843,1561,1695,667,1768,1269,1109,936,1713,1175,1940,855,771,645,1307,1948,1509,626,1190,1727,1670,1150,1208,1812,770,1559,1902,1751,1416,1288,1003,1715,1967,962,1487,1569,1146,1379,1504,1945,1630,1125,614,854,1470,1826,807,1996,1083,1035,1521,1314,535,673,1219,1606,1603,1958,695,1441,1470,1890,1152,1619,1002,742,1306,1424,942,1934,1290,930,1699,1849,1922,548,916,1783,1083,1698,1969,869,1337,637,833,1248,1174,1831,1002,1010,1117,990,1564,1065,1982,1607,1066,681,1163,1285,753,1779,987,511,1044,1855,946,657,1673,731,926,1261,618,936,1485,1339,508,1938,995,1086,1322,1864,1944,581,1020,1936,1329,808,994,1811,765,993,1136,719,733,1946,1230,1577,1514,579,574,1072,843,1492,1807,909,1876,1436,1251,636,1354,930,1830,1424,583,648,1203,1777,1299,1494,527,793,873,722,1250,1358,1035,1289,1445,1702,534,628,713,1207,683,594,537,1565,1052,713,1766,584,1541,837,935,665,680,877,1493,1762,842,925,1692,1576,1065,958,623,897,1110,616,1680,1715,983,720,1660,1564,592,969,1356,504,1546,689,1685,1792,1786,1944,1077,648,1702,1571,856,1786,914,1615,649,1646,1189,1043,1920,1220,1748,907,1193,1766,1278,1234,1961,1745,1442,1083,868,864,1142,608,983,1720,1802,591,1205,1369,713,1082,1719,1544,1090,1991,1367,1179,721,1549,1349,1799,1075,684,1837,1619,965,730,1361,1494,1027,1807,709,689,955,1872,1259,695,1969,759,936,1176,1802,772,1318,591,569,764,1056,1982,1830,1122,1023,1283,1602,732,1854,718,897,1405,798,1035,1396,1749,1588,1600,1522,1279,719,544,1007,590,1788,748,757,1561,1327,797,727,686,1515,555,1589,1976,1884,1063,672,635,1906,1753,659,1583,1783,1667,640,1913,538,1191,816,915,1157,1201,1379,1483,1614,930,1454,1784,1262,797,1829,1139,618,1547,586,1617,1882,674,1467,858,794,1965,1911,1512,510],\"type\":\"violin\",\"xaxis\":\"x\",\"yaxis\":\"y\"},{\"box\":{\"visible\":true},\"meanline\":{\"visible\":true},\"orientation\":\"h\",\"points\":\"suspectedoutliers\",\"x\":[2.2,0.5,0.5,2.5,1.2,0.5,1.7,0.5,0.5,0.6,2.9,2.2,2.8,2.1,0.5,1.0,0.5,0.9,0.5,0.5,1.1,2.1,2.6,2.8,1.2,1.4,1.6,0.5,1.6,0.5,0.5,0.5,0.9,2.2,2.7,1.3,2.3,1.6,2.0,0.5,2.9,2.3,0.5,1.0,2.8,2.9,1.1,1.8,2.6,2.1,3.0,1.4,1.5,1.9,0.5,2.1,2.7,1.3,0.5,1.4,3.0,2.3,1.2,2.0,2.6,1.9,0.5,1.4,1.1,1.5,0.5,2.4,1.0,1.2,2.9,0.6,2.8,1.6,2.5,1.0,0.6,2.9,0.9,0.8,2.9,2.4,2.0,2.9,0.5,1.1,2.0,2.0,2.3,2.5,1.7,1.0,2.3,0.5,2.5,0.5,0.5,1.1,0.5,2.8,2.4,0.7,1.9,2.4,2.0,1.5,1.8,2.3,1.4,1.1,0.5,2.3,1.4,2.6,1.3,0.5,1.6,2.4,0.5,1.1,2.0,2.8,2.4,2.3,0.9,1.4,2.0,2.5,0.5,2.9,1.1,0.5,2.5,0.5,2.4,2.6,0.5,1.8,2.5,2.2,2.1,1.4,1.8,2.4,3.0,1.6,0.5,2.2,2.1,1.0,2.9,2.3,2.3,0.5,2.8,0.5,0.7,1.5,0.9,0.9,2.1,1.4,1.7,2.4,0.6,2.8,0.6,3.0,1.2,0.5,0.5,1.7,0.5,1.3,0.8,2.2,2.7,2.4,0.8,2.6,1.2,2.1,0.5,2.6,0.5,1.4,1.4,1.3,0.5,2.4,0.6,2.1,2.5,1.9,0.5,0.6,0.5,2.4,1.3,0.9,2.3,0.5,0.5,1.5,1.1,0.5,1.8,2.6,2.2,1.7,1.0,0.5,1.2,0.9,0.5,1.1,1.6,0.5,2.1,0.5,2.8,1.4,2.4,2.9,1.9,1.8,0.5,1.8,1.0,1.0,1.7,1.8,1.4,2.5,0.5,0.5,2.2,2.7,0.5,1.9,2.8,1.0,0.8,1.0,2.5,1.3,2.5,0.5,2.7,1.1,2.7,1.5,1.4,0.5,1.8,1.6,0.5,2.7,0.5,1.5,2.6,1.6,0.5,1.1,1.6,2.3,0.6,2.1,0.8,0.5,1.0,2.9,0.5,2.8,0.8,0.5,2.8,1.5,1.2,2.7,2.1,1.9,1.9,2.4,1.3,0.5,2.1,1.7,1.9,0.5,1.6,2.0,2.6,1.0,0.5,0.5,1.7,1.1,0.9,0.5,0.9,2.0,2.2,0.5,2.0,1.8,1.5,1.4,0.5,1.2,2.8,0.7,0.7,0.9,0.8,2.1,1.7,0.5,2.3,2.1,2.1,2.1,1.5,0.5,0.5,0.5,0.5,2.3,2.0,1.0,1.3,0.8,1.2,2.3,1.4,2.3,1.8,2.4,2.9,2.7,2.1,1.3,2.8,0.6,1.0,0.5,3.0,2.8,1.7,0.5,2.1,2.9,2.1,2.0,0.9,2.3,0.8,0.5,0.7,1.5,2.6,1.7,1.6,2.9,1.4,0.5,2.9,1.1,1.5,1.7,2.4,2.6,0.6,1.3,1.5,2.2,2.7,0.5,1.7,3.0,1.9,1.8,1.4,0.5,0.5,1.4,1.7,2.4,2.3,1.1,1.6,0.5,2.5,1.7,2.5,2.0,1.9,2.7,0.5,1.2,2.2,0.5,2.0,2.4,1.5,0.9,1.9,2.8,0.8,1.3,2.1,2.8,2.0,0.8,2.1,0.9,0.5,2.2,0.7,2.5,2.3,2.8,2.2,1.3,1.3,0.9,3.0,0.5,2.8,0.5,2.3,0.5,0.5,2.8,2.0,2.1,2.3,1.8,0.7,1.4,0.9,1.8,2.7,2.0,2.5,2.3,0.5,1.7,0.5,0.9,1.3,0.9,2.1,1.4,1.2,0.5,2.3,1.7,0.5,1.5,2.4,1.6,0.5,1.6,2.9,0.5,0.5,2.8,2.5,0.5,0.9,1.2,0.5,2.1,0.5,2.2,2.7,0.7,1.3,0.5,1.5,3.0,0.9,2.5,1.8,1.1,2.7,2.8,2.0,2.8,2.4,1.6,0.5,0.5,1.7,1.3,0.5,2.5,0.8,2.2,1.4,0.6,2.0,0.5,2.2,2.3,1.3,2.5,2.3,0.5,2.4,0.7,1.3,2.4,1.4,1.8,0.5,1.1,1.7,0.5,0.5,1.4,0.5,0.5,0.6,0.9,2.6,0.8,2.6,0.5,1.6,1.9,2.4,2.4,2.2,0.5,0.5,1.2,0.6,1.9,0.5,1.9,0.5,0.6,1.1,0.8,2.1,2.0,2.9,2.3,1.6,2.2,1.2,2.1,1.9,2.4,1.3,0.5,0.5,0.5,2.8,0.5,1.2,1.3,2.8,0.7,0.8,0.9,0.5,0.5,1.0,0.5,2.3,1.1,2.0,1.0,1.0,0.5,2.9,0.6,2.6,2.3,2.7,0.5,1.4,1.0,0.7,1.4,0.5,2.8,2.7,0.5,0.6,1.0,2.2,2.3,2.9,0.8,2.0,2.3,0.5,1.5,2.0,1.5,1.5,2.6,0.9,1.9,2.1,1.6,0.6,0.5,1.8,2.7,1.8,2.3,2.7,0.5,0.7,1.3,1.5,2.3,2.2,1.1,0.5,0.7,1.8,1.1,2.1,1.2,2.9,0.7,0.5,0.5,0.5,0.5,0.5,0.8,2.5,0.5,1.9,1.3,0.5,2.7,0.5,2.0,2.6,2.5,1.7,1.6,0.5,1.5,2.1,1.4,1.1,0.6,2.0,3.0,0.5,1.2,0.5,0.5,2.2,0.5,1.8,0.5,1.7,1.0,1.6,0.5,2.6,2.5,0.5,0.6,1.8,2.3,2.7,0.6,0.8,2.5,0.5,0.5,2.7,0.5,2.9,0.5,2.7,2.6,1.1,1.5,1.4,2.0,1.3,0.5,0.9,2.9,2.1,1.3,1.5,0.5,2.5,2.9,1.2,2.2,2.8,0.7,0.8,1.0,1.6,1.3,1.4,1.3,1.6,2.4,1.0,2.0,2.3,0.5,0.5,0.5,0.5,1.9,1.7,0.6,1.6,2.8,0.6,2.1,0.5,1.4,0.8,0.5,2.5,2.4,1.9,1.0,2.9,1.2,1.2,2.8,2.8,2.1,2.1,0.5,2.4,2.4,2.9,1.6,2.6,2.5,2.7,0.7,0.5,1.3,2.9,1.6,1.7,2.8,0.5,1.8,2.3,2.1,0.9,0.5,2.2,0.5,2.0,0.5,0.8,1.9,2.4,1.1,1.1,0.5,0.6,2.5,2.2,3.0,2.1,1.8,0.7,1.1,2.8,1.4,1.1,1.9,2.9,0.5,1.4,0.9,1.6,2.2,2.6,2.1,0.7,2.1,0.9,1.0,2.2,1.7,0.5,1.6,2.5,1.3,1.4,1.3,2.7,0.5,0.6,1.3,1.5,0.5,0.7,0.9,0.5,0.9,0.5,2.7,2.0,1.0,1.0,0.6,0.5,0.5,0.5,2.2,0.6,0.5,0.5,1.6,1.3,1.6,0.6,0.5,0.5,1.5,1.6,1.7,2.0,1.8,0.5,2.0,2.4,1.8,1.5,2.3,0.6,2.3,1.1,1.1,0.8,1.3,2.8,2.5,0.5,2.0,0.5,2.4,0.5,1.2,1.4,2.8,2.9,0.7,1.9,2.8,2.8,1.6,0.5,0.7,0.8,0.6,2.9,0.6,1.7,2.1,2.7,2.3,2.7,2.8,0.5,1.3,1.3,0.5,2.9,1.7,1.0,0.6,0.5,2.3,0.7,2.3,1.6,0.5,2.7,0.5,0.5,1.7,2.5,2.7,1.5,2.0,1.2,3.0,1.7,1.7,0.5,2.8,0.7,2.9,1.8,0.6,0.5,1.8,0.5,2.0,2.0,2.6,1.3,2.2,0.8,1.5,1.9,1.7,2.2,2.4,2.4,0.5,2.8,1.8,0.5,0.7,0.8,1.2,0.9,2.6,1.6,0.5,2.1,1.6,2.8,1.1,0.5,1.4,0.5,1.3,0.5,1.4,2.1,1.6,0.7,1.5,2.3,2.1,2.5,0.5,2.9,0.5,2.8,0.9,1.9,0.5,1.7,2.0,0.5,3.0,1.6,1.2,0.9,0.7,0.5,0.5,0.5,2.5,0.6,2.5,2.3,2.8,0.6,1.3,0.5,0.7,3.0,2.5,0.5,0.5,2.6,1.6,1.3,0.5,1.3,1.6,0.5,0.5,1.9,3.0,0.8,2.6,0.6,0.6,0.5,2.3,0.5,1.0,1.3,2.2,0.7,2.6,1.4,1.8,1.7,0.5,2.8,0.5,0.5,2.7,0.5,0.5,0.5,2.6,0.5,2.5,2.5,1.5,0.7,1.4,2.5,0.5,1.2,1.4,1.4,1.7,2.5,1.7,2.8,0.5,0.5,2.1,2.8,2.8,2.8,1.1,2.1,1.2,2.1,1.7,0.7,1.7,1.9,0.9,0.7,0.7,0.5,0.5,1.0,3.0,2.5,0.7,2.5,0.5,0.5,0.5,0.5,0.5,0.5,2.6,2.5,0.7,1.0,2.3,2.4,0.8,1.1,0.8,0.8,0.5,2.5,2.6,2.8,1.1,1.1,0.5,2.6,0.5,0.5,1.5,0.6,0.8,2.6,2.5,1.5,2.5,2.0,0.5,0.8,0.5,1.5,0.5,0.7,1.3,1.8,2.5,2.6,2.4,2.3,2.3,0.6,1.9,0.5,2.1,1.3,0.5,1.8,1.6,2.2,2.9,2.2,1.3,2.1,2.1,2.1,1.9,0.6,0.6,0.5,1.2,1.9,0.7,1.8,1.8,2.5,1.5,3.0,0.6,1.7,2.4,0.5,1.3,3.0,1.2,2.4,2.6,1.0,1.9,1.5,1.5,1.3,2.4,1.0,1.1,2.0,2.2,0.8,0.5,0.8,2.8,2.7,1.4,1.2,2.0,1.3,2.9,1.8,0.7,1.4,0.5,1.6,2.0,0.5,2.2,2.2,2.0,1.5,2.1,0.5,0.5,1.8,1.5,1.9,2.8,2.2,0.5,2.7,0.5,2.3,0.7,0.5,2.2,0.5,1.8,2.8,2.8,1.8,2.8,1.9,0.7,2.4,2.0,2.7,0.5,2.5,1.9,1.6,1.8,0.7,0.5,1.7,1.6,2.5,0.9,0.5,1.8,0.7,0.5,1.4,0.5,2.1,2.0,0.5,1.6,2.6,0.5,2.5,2.5,1.7,1.0,2.7,0.5,2.0,2.6,0.5,0.5,0.5,2.5,0.9,1.6,0.8,2.3,1.6,1.2,2.8,1.6,2.5,0.5,0.5,2.8,1.7,1.8,0.5,2.5,1.0,0.6,0.5,0.5,0.5,1.6,1.4,0.5,2.3,1.8,2.2,1.8,1.5,1.0,0.8,0.6,2.9,1.8,0.7,1.6,2.7,1.5,1.4,2.4,0.7,0.6,1.6,1.4,0.5,1.2,2.0,1.8,1.8,1.3,2.8,0.5,2.8,1.2,0.6,1.0,0.5,1.5,2.8,1.9,1.4,0.6,1.5,0.6,2.6,2.6,1.7,2.3,0.8,1.7,1.3,2.3,2.6,0.7,1.1,0.5,0.5,0.6,2.6,1.1,0.5,2.3,2.3,0.5,1.9,0.5,0.9,0.7,1.2,2.3,1.9,2.8,1.3,1.8,2.9,2.9,0.5,3.0,2.5,1.5,1.3,0.5,0.5,0.6,0.5,0.8,0.6,0.5,2.8,1.3,1.2,0.9,1.6,2.4,0.5,2.5,1.2,1.3,1.3,2.3,1.6,0.5,0.7,1.5,2.2,0.5,0.5,1.9,0.8,0.8,2.3,0.5,0.5,1.7,2.8,2.3,1.4,1.9,2.0,2.6,0.5,2.9,2.9,2.2,2.8,0.5,1.9,0.5,1.6,1.1,0.5,0.5,1.9,2.5,0.5,2.1,1.6,2.4,1.5,1.1,0.7,0.5,0.5,0.5,1.5,0.5,0.5,0.5,2.3,1.5,0.5,2.3,1.9,0.5,0.5,2.1,2.7,1.4,0.5,1.9,2.1,0.5,2.7,1.3,2.1,1.4,2.4,2.5,1.4,2.1,2.8,1.0,1.7,0.7,2.0,2.2,0.5,2.5,2.9,2.8,2.0,2.2,0.9,2.9,0.5,2.5,2.5,0.5,1.4,2.7,2.5,0.9,0.5,0.5,2.1,2.8,0.5,1.5,2.1,0.9,0.5,0.9,0.5,0.5,2.3,0.8,1.7,2.6,1.2,0.9,0.6,2.2,2.0,2.1,1.9,1.0,2.6,1.1,1.0,2.7,2.3,2.0,1.5,2.1,2.3,0.6,0.5,2.3,1.2,0.5,1.3,1.2,0.8,1.9,0.5,0.5,2.0,3.0,0.5,2.9,1.0,0.5,0.7,0.5,0.5,0.7,1.4,1.8,1.5,2.5,2.8,1.6,0.6,1.5,2.3,2.4,0.5,2.6,1.9,1.4,2.2,3.0,1.6,0.5,2.4,2.3,1.0,2.5,0.5,1.0,2.8,2.2,2.0,2.3,1.3,0.5,1.9,1.8,0.6,0.8,3.0,0.7,0.7,1.0,0.5,0.5,1.8,0.5,2.2,0.5,0.5,1.6,1.3,0.9,0.7,1.9,1.2,0.6,1.4,1.2,0.5,2.9,0.5,2.3,1.9,2.2,0.7,0.5,1.5,2.9,2.0,2.4,1.6,0.7,0.5,1.9,1.8,2.7,1.5,1.7,0.5,2.6,1.9,2.4,1.7,2.0,2.4,0.6,2.6,0.5,2.0,1.1,0.5,0.5,0.6,2.2,0.6,3.0,0.5,2.8,2.9,0.5,2.1,1.2,1.6,2.2,0.8,1.9,0.5,1.7,0.8,2.3,2.7,2.3,1.2,1.6,2.8,2.7,0.5,0.8,0.8,1.1,1.4,1.1,2.7,1.5,3.0,2.7,0.5,2.9,2.6,1.2,2.3,0.5,2.9,1.7,0.8,2.8,0.5,0.5,2.6,2.0,2.8,2.8,0.5,2.0,1.7,1.0,0.5,0.5,2.5,1.8,2.9,0.6,2.8,2.0,2.1,3.0,0.5,2.9,1.3,1.5,1.3,0.5,2.5,1.8,0.5,2.9,0.5,0.5,1.0,1.5,1.6,3.0,1.5,1.9,1.2,2.8,2.7,0.7,1.0,1.7,0.5,0.5,2.8,2.0,0.5,1.6,2.8,1.9,1.9,1.6,0.5,0.5,0.5,0.5,0.6,2.2,1.1,2.1,0.9,1.8,0.5,2.1,2.9,1.4,2.7,1.4,2.1,0.5,0.5,0.5,1.0,0.5,0.5,1.4,2.8,0.8,1.9,2.7,0.8,0.6,2.4,0.9,2.3,2.6,2.0,0.5,2.7,1.4,2.8,1.1,1.1,3.0,0.5,2.1,0.8,0.5,2.6,1.9,0.9,1.8,0.5,1.4,1.9,1.6,0.5,0.8,0.5,1.1,2.3,0.9,0.5,1.3,0.5,1.3,1.7,2.3,1.9,0.5,0.6,0.7,1.3,1.7,0.5,1.2,2.0,2.5,2.3,1.6,0.5,0.6,2.7,1.6,1.0,1.4,2.5,3.0,2.2,1.3,1.5,2.9,0.7,1.3,2.4,0.5,0.5,0.7,0.5,1.0,0.5,0.9,0.5,0.5,2.2,2.8,1.9,0.7,2.8,0.5,1.1,1.5,1.7,1.9,0.8,2.2,2.3,0.5,1.8,1.4,0.5,2.1,2.6,2.0,0.5,0.9,1.6,0.5,1.7,1.5,2.4,0.5,0.7,2.4,1.5,1.5,0.6,1.8,2.1,2.1,2.2,1.7,1.6,0.8,1.4,1.5,2.2,1.2,1.3,0.6,0.9,0.6,1.5,0.8,1.8,0.5,1.0,0.5,2.9,0.6,1.0,1.2,0.6,2.5,1.8,0.5,2.9,1.1,2.6,0.7,2.8,1.4,2.5,1.9,2.7,0.6,2.8,0.5,2.6,2.3,0.5,1.0,1.7,1.5,2.9,0.6,2.9,0.9,1.6,1.2,0.5,1.8,1.6,1.2,2.1,2.7,1.7,0.9,2.3,2.1,2.4,2.3,2.8,2.9,0.5,2.7,1.8,2.1,1.0,0.5,0.9,0.5,1.9,1.4,1.5,1.4,1.6,0.8,0.8,2.4,1.4,0.5,1.9,1.2,1.2,1.2,2.5,1.0,2.1,2.7,1.0,2.4,0.5,2.5,1.0,2.1,1.6,0.5,0.5,0.7,2.4,1.6,1.3,0.9,1.6,2.0,1.7,0.6,2.7,0.6,0.5,2.5,0.5,2.2,2.5,2.9,0.5,2.9,1.2,0.5,1.4,0.9,1.6,2.8,1.5,2.5,2.7,2.1,0.5,0.6,2.6,1.0,2.0,0.6,0.5,1.9,0.7,1.4,1.2,2.9,1.0,1.3,1.8,1.1,0.8,3.0,0.5,0.8,0.5,1.1,2.2,1.2,1.0,2.6,1.6,1.8,2.2,2.1,0.9,1.0,2.9,2.8,2.4,2.0,2.9,0.5,2.2,0.5,2.6,0.9,0.9,2.0],\"type\":\"violin\",\"xaxis\":\"x2\",\"yaxis\":\"y2\"},{\"box\":{\"visible\":true},\"meanline\":{\"visible\":true},\"orientation\":\"h\",\"points\":\"suspectedoutliers\",\"x\":[1,0,2,0,13,3,4,0,0,2,0,5,2,7,13,3,1,7,11,4,12,1,4,4,5,0,7,1,12,3,0,16,3,0,0,16,1,6,16,15,5,8,5,5,1,0,1,3,2,9,2,5,0,1,0,10,13,0,8,2,3,1,0,15,2,13,11,0,0,0,6,1,8,3,4,8,4,1,15,6,0,11,2,11,5,5,4,1,0,0,2,7,0,11,6,18,10,3,0,6,3,4,0,0,1,2,5,3,0,3,0,0,0,13,9,1,0,3,8,0,3,1,7,5,3,5,0,4,11,0,2,9,1,7,1,0,0,5,12,1,0,1,4,0,3,1,0,3,4,6,1,4,3,2,6,4,3,16,0,12,4,10,0,11,11,3,0,2,0,17,2,2,5,0,0,8,2,0,0,2,12,11,0,15,0,1,0,0,3,2,8,1,4,5,0,1,0,0,3,9,0,7,0,10,6,0,16,7,1,0,0,0,9,4,0,3,0,5,0,4,6,5,8,1,3,1,18,0,2,17,1,4,4,0,12,6,3,14,0,0,0,0,0,2,7,2,3,3,4,3,0,0,0,2,9,5,4,1,0,6,7,0,0,4,8,5,10,10,4,0,2,0,7,11,5,3,0,3,12,0,3,0,9,6,7,0,6,0,16,0,8,10,6,6,1,0,7,1,11,8,17,2,16,11,1,18,0,6,11,1,5,0,1,6,0,3,6,6,7,6,0,2,1,14,5,5,0,6,1,5,5,0,0,1,8,0,0,2,2,0,5,5,8,6,2,0,2,6,7,2,15,16,2,7,10,7,0,1,10,1,10,13,4,0,0,8,0,0,8,8,10,4,17,0,5,0,0,1,2,0,10,2,3,0,12,4,12,14,1,1,3,0,15,3,0,8,4,0,10,0,0,16,8,0,6,1,0,9,12,2,5,2,12,0,2,5,1,2,1,2,7,6,10,2,4,3,9,0,3,10,6,3,0,0,4,0,8,1,10,0,6,1,3,13,2,7,5,15,5,1,3,0,2,10,1,6,4,12,0,6,9,12,3,5,3,5,2,7,0,10,1,8,0,1,0,9,0,4,14,2,2,1,14,0,0,0,12,13,0,5,7,5,3,6,0,5,11,13,1,3,1,16,1,0,0,1,2,7,0,6,9,6,11,10,2,2,0,8,3,9,11,9,6,5,0,3,8,6,7,9,3,3,3,3,0,0,8,7,4,5,5,1,2,3,0,16,0,0,0,0,10,1,0,12,6,6,10,0,4,2,9,15,11,0,16,12,4,14,15,0,7,9,13,0,4,9,4,7,1,2,4,8,1,0,17,2,8,0,2,0,6,0,12,0,0,1,10,0,6,4,2,0,0,0,0,5,7,1,6,1,3,0,0,0,9,1,6,1,0,7,1,5,0,7,5,12,0,0,1,1,1,0,0,5,13,7,2,10,4,0,0,0,0,2,4,6,4,13,1,0,7,10,1,8,7,2,11,3,13,9,1,1,6,6,0,4,4,1,4,0,11,4,0,6,2,8,2,5,10,10,0,0,12,1,13,3,10,0,8,5,2,7,2,1,0,6,0,3,4,0,7,1,1,4,0,2,2,3,2,10,0,1,8,14,0,0,5,5,3,1,12,0,6,2,6,13,0,0,4,9,8,2,13,0,12,3,3,1,13,0,0,0,0,5,6,16,7,1,5,1,2,0,6,5,8,7,0,0,2,3,6,1,0,0,7,5,0,1,4,9,7,16,0,1,0,1,2,9,2,0,15,10,6,11,5,6,7,2,12,8,0,1,3,8,4,0,0,0,2,3,12,15,4,2,0,0,3,5,4,8,4,9,0,10,0,1,0,1,7,2,0,6,0,0,7,8,15,5,6,4,1,1,2,4,0,9,0,15,2,1,5,3,8,3,7,13,8,13,11,10,0,5,2,2,7,6,0,6,9,2,0,11,0,9,3,3,9,3,0,6,7,6,10,0,2,0,1,2,5,7,3,0,1,1,8,6,13,0,8,0,0,4,0,12,5,3,3,4,7,0,0,9,10,3,3,4,6,5,0,0,3,0,2,1,15,4,4,3,0,0,2,0,5,0,15,2,13,15,5,0,0,3,3,11,2,2,1,1,5,9,9,0,3,0,0,0,2,3,2,6,7,0,9,6,0,4,9,1,3,3,7,2,4,4,4,1,0,0,7,7,5,5,6,1,0,0,0,4,4,3,11,0,2,2,0,9,5,0,4,10,13,13,5,11,14,5,2,0,1,3,2,5,12,3,15,0,11,16,2,4,5,7,0,0,3,4,0,1,12,3,0,1,13,7,9,13,1,7,0,0,6,3,8,0,7,1,0,1,0,2,12,2,0,5,3,10,4,1,1,3,0,3,1,1,11,0,1,0,9,0,3,4,16,5,3,7,6,5,4,1,2,1,0,13,0,3,0,8,0,1,3,1,7,11,0,1,0,8,6,9,2,8,0,3,0,1,6,2,4,0,1,13,4,2,4,11,1,0,3,1,5,0,1,0,1,14,2,11,0,11,8,15,4,1,9,4,1,8,13,0,2,2,0,3,2,1,1,1,2,10,3,3,10,10,1,0,5,3,0,0,9,11,2,2,1,0,2,0,10,0,13,0,8,11,8,9,0,0,8,9,12,4,2,0,2,3,12,2,9,0,0,0,11,0,0,0,11,5,7,1,10,12,4,0,2,7,16,0,0,2,1,0,0,6,11,2,0,2,13,2,0,7,10,1,8,3,1,5,5,3,0,0,2,7,0,6,3,2,0,4,5,4,5,0,9,0,5,2,4,0,2,7,11,5,10,0,1,0,0,2,1,2,1,1,6,5,4,0,14,5,0,1,8,1,1,1,13,3,4,1,7,0,1,3,4,4,10,2,2,12,4,5,4,5,2,0,0,1,10,7,6,10,0,7,1,10,0,1,10,2,5,1,5,2,1,5,2,7,0,2,0,3,0,3,5,1,0,13,3,9,6,4,7,6,0,3,2,14,0,15,1,5,3,9,8,5,4,3,7,0,3,12,9,2,8,1,0,5,0,0,8,12,7,0,8,0,7,0,9,2,9,0,1,2,4,0,8,8,4,2,0,3,2,3,1,0,1,0,0,2,0,7,1,12,6,0,9,18,3,6,1,15,4,0,0,8,6,2,0,7,0,6,6,5,3,3,18,1,1,7,0,1,6,6,2,10,18,0,1,2,4,4,1,3,5,1,8,0,11,9,1,0,9,0,0,9,5,1,8,4,2,0,5,0,7,7,6,16,0,9,3,0,1,1,5,0,16,6,10,3,7,1,4,11,0,0,3,4,0,0,0,5,1,0,14,2,6,0,0,2,8,7,0,1,11,0,1,9,0,7,5,9,1,3,0,4,2,2,1,5,6,0,2,7,4,5,4,0,7,0,9,7,1,5,2,0,13,3,1,3,9,6,14,0,0,2,1,5,1,4,5,0,5,0,12,9,9,7,9,1,5,9,9,7,1,2,2,4,0,17,0,2,0,1,18,1,1,0,12,7,5,0,2,1,1,3,6,0,0,6,2,0,6,0,11,2,2,6,0,9,2,0,2,0,6,11,5,1,11,3,1,0,3,0,16,10,1,1,0,7,10,2,4,0,1,8,3,0,9,0,12,3,1,2,1,0,7,5,7,6,0,3,3,1,5,1,6,5,11,12,6,1,0,11,13,1,10,2,3,0,16,6,14,9,1,0,2,0,10,2,4,5,3,0,10,14,4,5,4,6,10,10,1,0,3,16,1,0,14,5,4,5,6,7,3,0,10,4,5,6,5,0,0,3,14,5,13,5,13,5,0,1,6,18,0,4,4,0,3,1,0,2,0,8,8,19,0,16,1,15,0,0,8,2,10,5,0,0,2,0,6,7,3,7,2,2,3,5,0,12,6,6,12,0,4,11,2,4,15,4,5,9,2,2,0,6,3,11,5,0,10,1,5,1,0,1,2,1,5,3,2,5,3,4,3,3,0,15,0,0,8,0,0,3,3,1,6,1,5,0,7,9,3,10,8,3,3,7,16,1,9,0,0,0,2,4,1,6,12,14,0,8,3,2,12,4,5,4,0,7,1,1,0,1,4,1,1,6,1,3,0,13,0,13,3,4,9,4,8,4,9,6,1,4,3,6,0,0,12,2,1,1,2,0,8,3,3,14,3,11,9,13,1,8,1,14,6,1,3,4,3,5,3,3,1,11,7,7,1,7,8,10,0,1,1,5,0,0,0,0,18,8,18,5,3,0,11,0,18,1,3,4,7,1,0,3,1,2,3,9,2,1,9,1,3,7,0,1,2,2,5,0,1,9,3,1,2,0,0,1,1,0,9,8,2,5,0,2,8,0,5,0,1,3,0,6,1,0,7,12,1,4,5,7,2,5,0,0,0,4,1,10,4,0,0,4,2,0,6,3,0,13,9,3,4,2,0,2,0,5,0,0,6,2,9,7,2,1,3,1,4,8,4,12,0,8,6,9,2,2,8,11,1,0,1,0,0,1,4,5],\"type\":\"violin\",\"xaxis\":\"x3\",\"yaxis\":\"y3\"},{\"box\":{\"visible\":true},\"meanline\":{\"visible\":true},\"orientation\":\"h\",\"points\":\"suspectedoutliers\",\"x\":[7,53,41,10,44,22,10,24,53,9,9,33,33,17,52,46,13,23,49,19,39,13,47,38,8,57,51,41,52,21,5,33,41,51,22,60,61,6,11,50,44,41,5,34,20,27,42,40,57,64,14,63,43,16,51,46,60,61,49,48,12,63,50,55,9,44,36,30,10,43,45,22,9,43,38,42,9,33,16,29,58,64,45,61,57,25,42,64,3,33,57,54,15,14,7,7,23,60,37,31,10,12,57,55,8,39,23,42,46,41,43,32,4,7,22,18,53,40,46,15,10,10,52,36,25,16,58,25,31,19,54,2,41,30,36,16,22,46,3,14,31,14,43,33,64,9,31,40,47,41,56,56,61,32,45,46,60,6,29,34,37,51,14,26,3,33,27,10,58,44,32,8,10,42,16,25,29,23,22,63,30,41,38,20,54,4,5,46,6,43,46,7,64,57,20,23,41,61,26,36,22,20,16,30,61,47,8,49,51,35,23,41,63,39,50,53,49,17,24,51,29,40,13,25,38,17,49,31,37,24,39,9,31,27,6,11,42,6,38,49,49,44,51,10,37,50,23,48,7,30,55,63,63,7,19,57,4,32,51,6,59,25,56,28,18,57,40,38,47,28,7,4,45,3,30,62,61,8,2,39,36,40,54,6,56,27,16,24,26,42,63,16,9,48,34,56,12,52,56,38,58,57,56,12,29,52,37,8,42,40,44,41,50,41,49,49,64,14,42,64,5,29,64,63,18,25,21,26,27,13,20,9,20,7,47,18,47,48,36,22,54,2,17,37,6,52,10,3,57,42,44,2,33,8,19,64,17,50,62,61,21,57,32,21,36,2,9,34,46,52,52,36,55,58,42,30,26,14,19,46,8,48,59,54,33,18,44,23,12,63,26,39,23,9,57,7,57,33,28,42,7,50,19,55,13,34,45,17,34,51,5,44,48,49,25,51,54,63,54,4,7,57,43,11,48,56,47,24,20,28,17,64,57,17,23,50,13,36,3,8,57,11,3,26,3,28,64,62,51,51,35,54,34,25,64,48,41,53,28,44,43,6,51,13,40,42,37,4,18,61,48,16,45,60,22,2,61,26,15,58,56,34,3,43,27,41,2,27,20,48,17,31,17,50,15,39,5,31,33,34,54,32,6,32,29,19,23,15,59,44,50,10,7,45,9,2,12,61,57,19,55,46,14,51,23,26,54,27,61,12,38,8,30,17,16,31,37,49,53,51,16,38,39,21,16,19,50,31,7,35,45,41,43,45,21,26,53,32,30,13,61,14,13,3,38,32,30,52,50,34,8,32,46,55,24,20,6,24,23,23,19,18,24,5,5,58,29,40,40,17,35,39,64,55,54,58,25,11,3,11,40,44,12,7,28,56,20,35,16,46,56,4,30,24,21,44,34,39,16,21,5,36,2,30,48,54,30,34,58,35,21,26,19,54,9,15,9,27,43,47,14,3,31,46,3,14,60,25,53,35,64,15,25,35,54,7,14,45,50,50,36,21,46,61,26,33,44,48,11,3,27,62,32,32,45,22,64,13,12,60,12,34,41,27,31,25,60,19,41,57,26,52,38,23,33,57,43,22,17,19,2,62,48,39,20,30,50,49,35,21,25,20,28,2,9,11,6,3,49,37,52,8,61,54,51,45,58,7,21,43,2,49,42,61,13,25,57,42,34,15,35,37,8,18,58,16,43,17,4,45,53,16,5,51,45,63,11,12,34,58,39,49,56,14,15,7,16,27,30,25,64,23,27,50,45,63,18,58,8,11,11,50,50,14,47,56,55,42,2,55,46,24,38,53,25,56,10,41,8,22,20,3,52,6,19,5,21,10,10,44,33,8,25,16,54,52,64,8,48,57,61,30,14,52,25,7,2,33,4,27,43,31,55,9,21,33,63,11,30,48,39,35,34,16,51,55,32,16,38,16,63,58,41,8,10,52,56,21,29,6,15,35,14,35,11,34,15,8,2,32,9,9,4,64,11,13,34,48,53,18,47,21,30,22,39,6,31,50,3,36,8,40,58,61,32,49,49,8,34,12,46,27,26,53,45,17,27,53,45,30,12,10,23,53,36,49,14,35,5,60,30,58,8,63,48,29,38,13,55,13,27,27,44,9,23,7,34,13,54,46,39,33,52,7,8,46,50,42,13,41,13,46,38,54,47,57,6,52,36,33,7,61,7,55,8,19,34,13,46,38,14,52,52,30,54,47,23,58,59,47,34,58,44,19,11,51,20,21,45,11,19,48,27,3,43,49,10,19,29,20,28,57,50,46,53,58,13,34,31,51,19,6,53,53,33,52,54,28,63,64,23,59,61,58,55,49,53,37,4,38,18,43,12,41,57,13,57,60,28,46,14,63,52,18,39,63,5,30,7,22,21,35,37,3,27,19,64,33,18,16,32,28,51,18,17,42,23,23,45,27,41,60,31,8,62,10,39,59,24,23,14,40,33,37,14,55,30,55,4,18,30,58,58,62,2,10,35,35,61,60,14,32,57,12,55,47,18,46,45,43,35,59,57,36,64,22,44,58,63,46,16,35,41,12,9,54,50,16,5,52,31,62,10,55,9,14,8,60,10,55,43,24,56,31,51,2,14,12,32,44,46,35,2,38,20,49,61,50,21,40,28,29,59,16,40,42,27,9,44,51,15,51,57,18,3,47,14,11,30,7,24,2,13,62,40,9,56,62,39,52,11,10,37,27,60,2,34,49,26,58,32,35,45,57,41,22,50,20,51,5,58,2,24,11,32,56,29,57,51,9,24,5,27,37,56,6,35,55,64,16,20,10,36,61,62,40,55,32,4,39,7,35,24,50,59,47,21,20,29,54,41,43,31,49,52,6,13,52,49,7,60,20,27,12,39,13,7,4,19,54,42,31,25,12,46,6,8,37,23,58,12,6,10,15,12,9,19,49,28,58,46,60,31,36,59,56,44,42,2,52,6,19,5,33,58,30,42,26,6,5,44,23,6,27,41,32,59,17,5,17,13,29,20,27,42,47,17,22,39,60,29,16,24,14,47,34,5,36,12,16,58,44,10,42,42,51,18,7,14,14,26,14,2,42,31,63,9,40,57,31,28,27,42,12,39,11,14,62,51,23,15,6,40,52,32,63,24,49,57,62,33,56,50,10,2,29,52,17,63,52,42,14,28,6,30,28,26,14,29,35,13,55,18,27,40,21,60,63,33,54,14,30,15,10,32,15,2,50,44,58,19,6,34,59,6,19,37,9,10,41,44,27,14,24,32,40,18,16,31,22,13,64,53,27,13,5,6,11,44,50,55,12,31,50,22,57,44,33,42,11,31,10,44,28,20,33,40,10,33,40,20,11,63,10,29,5,2,39,44,54,12,40,31,50,9,21,22,3,36,8,12,2,29,48,26,20,40,20,64,43,60,15,21,60,4,8,36,11,23,48,35,3,34,14,27,20,42,14,22,60,24,33,57,38,50,8,60,12,30,55,58,9,59,38,11,6,57,16,19,30,5,18,30,44,40,15,20,27,15,45,39,23,55,18,36,42,43,28,54,2,26,14,50,28,23,39,12,16,14,3,27,34,16,43,56,42,12,49,24,15,54,19,19,22,46,2,26,31,35,11,36,7,62,7,42,30,5,8,53,59,35,27,24,39,5,27,17,33,21,58,44,15,6,37,40,24,39,41,52,48,15,17,41,62,38,58,11,16,56,30,34,20,47,44,28,62,4,47,8,2,41,57,14,5,45,5,59,33,63,7,5,50,11,40,57,62,27,16,42,61,10,13,4,20,61,16,18,46,2,42,54,57,9,25,26,32,23,51,17,45,49,37,7,41,49,62,5,24,35,4,33,17,52,12,53,33,48,26,20,45,36,33,20,27,2,35,54,21,29,42,56,47,14,49,7,7,2,5,28,27,9,30,44,27,8,21,15,26,21,24,20,5,17,19,11,48,5,52,24,12,32,26,21,42,28,59,52,45,57,28,21,50,44,10,43,35,57,26,56,27,44,23,46,40,22,44,16,32,23,63,8,48,64,12,7,30,19,16,11,16,47,64,23,29,28,26,34,47,23,51,54,11,15,64,47,53,64,8,12,20,60,11,16,37,47,2,60,53,58,30,27,55,38,6,63,16,19,5,51,58,31,34,17,53,26,57,56,2,5,48,60,26,17,41,21,37,12,45,14,24,42,52,44,35,14,6,7,16,62,61,59,49,60,2,30,19,14,60,9,19,25,7,29,19,54,53,44,20,22,24,17,55,3,27,39,5,53,2,64,53,2,27,16,10,28,42,2,52,12,8,15,56,32,15,62,46,30,11,63,36,21,13,9,47,45,18,38,11,45,2,35,13,41,63,39,18,62,10,23,45,16,41,45,37,12,14,40,63,33,35,32,33,30,2,8,21,40,37,49,4,16,21,7,6,7,21,32,6,25,64,27,23,18,64,36,24,17,5,45,24,27,61,16,55,40,3,14,42,21,6,29,25,46,9,33,27,10,18,53,9,4,6,41,34,37,59,58,13,57,15,36,44,21,18,50,2,39,36,46,45],\"type\":\"violin\",\"xaxis\":\"x4\",\"yaxis\":\"y4\"},{\"box\":{\"visible\":true},\"meanline\":{\"visible\":true},\"orientation\":\"h\",\"points\":\"suspectedoutliers\",\"x\":[0.6,0.7,0.9,0.8,0.6,0.7,0.8,0.8,0.7,0.1,0.1,0.5,0.6,1.0,0.7,0.7,0.1,0.1,0.6,1.0,0.8,1.0,0.3,0.7,0.4,0.6,0.3,1.0,0.3,0.4,0.2,1.0,0.9,0.6,0.7,0.4,0.6,0.5,0.3,0.3,0.6,0.2,0.2,0.1,0.8,0.2,1.0,0.8,0.2,0.8,0.7,0.8,0.3,0.3,0.5,0.6,0.5,0.4,0.5,1.0,0.6,0.8,0.8,0.5,0.7,0.8,0.3,0.5,0.6,0.8,0.8,0.7,0.1,0.7,0.5,0.9,0.4,0.6,0.2,0.7,0.9,0.2,0.9,1.0,0.8,0.8,0.5,0.8,0.1,0.5,0.5,1.0,0.4,0.7,0.8,1.0,0.2,0.2,0.7,0.4,0.3,0.8,0.7,0.6,0.5,0.7,1.0,0.1,0.3,0.1,1.0,0.5,0.7,1.0,0.6,0.2,0.3,0.9,0.9,0.5,0.3,0.5,0.9,0.8,0.8,0.6,0.3,0.5,0.6,0.1,0.8,0.1,1.0,0.2,0.7,0.5,0.9,0.5,0.3,0.1,0.1,0.5,0.3,0.5,0.9,0.4,0.2,0.5,0.4,0.8,0.1,0.2,0.9,0.7,0.7,0.9,0.8,0.4,0.5,0.7,0.6,0.3,0.5,0.5,0.1,0.8,0.9,0.4,0.2,0.3,0.5,0.1,0.2,0.3,1.0,0.8,0.8,0.1,0.1,0.4,0.3,0.2,0.1,1.0,0.2,0.8,0.1,0.1,0.5,0.9,0.6,0.2,0.3,0.2,0.1,0.2,0.8,0.7,0.3,0.4,0.6,0.4,0.3,0.7,0.1,0.3,0.3,0.7,0.1,0.4,0.1,0.1,0.5,0.5,0.4,1.0,0.2,0.2,0.4,0.1,0.5,0.5,0.5,0.9,0.1,0.2,0.1,0.6,0.1,0.3,0.8,0.4,0.5,0.1,0.8,0.1,0.1,0.1,1.0,0.4,0.1,0.5,0.3,0.6,0.4,0.2,0.4,0.4,0.8,0.7,0.6,0.1,1.0,0.2,0.6,0.2,0.1,0.5,0.5,0.5,0.7,0.2,0.6,0.7,0.8,1.0,0.3,0.4,0.9,0.3,0.9,0.1,0.3,0.6,0.9,0.5,0.8,0.3,0.8,0.4,1.0,0.9,0.5,0.5,0.1,0.7,0.3,0.2,0.8,0.6,0.2,0.1,0.8,0.6,0.3,0.7,0.3,0.9,0.7,0.1,0.6,0.6,0.1,0.9,0.4,0.3,0.5,0.6,0.8,0.5,0.5,0.8,0.5,0.7,0.6,0.9,0.8,0.4,0.3,0.2,0.6,0.8,0.9,1.0,0.9,0.4,0.4,0.2,0.5,0.4,0.8,0.1,0.1,0.6,0.2,0.3,0.9,0.3,0.8,0.8,0.1,0.3,0.1,0.7,0.3,0.7,0.2,0.7,0.6,0.4,0.3,0.1,1.0,0.5,0.8,0.9,0.9,0.5,0.3,0.3,0.9,0.9,0.8,0.8,0.3,0.5,0.4,0.8,0.7,1.0,0.1,0.2,0.7,0.5,0.6,0.4,0.1,0.4,0.4,0.4,0.9,0.2,0.1,0.7,0.2,0.7,0.2,1.0,0.6,0.5,0.1,0.2,0.6,0.9,0.3,0.4,0.9,0.7,0.2,0.2,0.2,0.8,0.6,0.1,0.2,0.7,0.1,0.7,0.7,0.6,0.2,0.5,0.7,0.6,0.8,0.3,0.3,0.2,0.2,0.8,0.4,0.3,0.2,0.4,0.1,0.4,0.3,0.1,0.5,0.8,0.2,0.7,0.4,0.7,0.8,0.3,0.8,0.5,0.6,0.7,0.9,0.3,0.3,1.0,0.1,0.4,0.9,0.3,0.8,0.7,0.2,0.7,0.8,1.0,0.7,0.7,0.1,0.4,0.9,0.1,0.4,0.7,0.1,1.0,0.6,0.8,0.9,0.7,0.1,0.3,0.7,0.1,1.0,0.7,0.8,0.6,0.8,0.3,0.1,0.1,0.9,0.1,0.3,0.7,0.2,0.3,0.7,0.3,0.8,0.6,0.3,1.0,0.2,0.8,0.1,0.6,1.0,0.8,0.4,0.1,0.1,0.6,1.0,0.6,0.3,0.7,0.2,0.9,0.7,0.7,0.6,0.9,0.5,0.9,0.9,0.6,0.8,0.1,0.1,1.0,0.7,0.9,0.5,0.3,0.1,0.1,0.5,0.1,0.1,0.3,0.7,0.1,0.9,0.5,1.0,0.4,0.9,0.6,0.2,0.5,0.1,0.6,0.1,1.0,0.1,0.2,0.8,0.2,0.9,0.5,0.9,0.5,0.1,0.1,0.2,0.8,0.3,0.7,0.3,0.9,0.1,0.8,0.6,0.1,0.1,0.1,0.4,0.8,0.1,0.1,0.8,0.1,0.9,0.9,0.3,0.1,0.7,0.8,0.1,0.4,0.9,0.1,0.3,0.2,0.1,0.1,0.2,0.6,0.9,0.7,0.6,0.7,0.3,0.6,0.1,0.6,0.1,0.1,0.9,0.1,0.4,0.7,0.3,0.8,0.8,0.3,0.1,0.9,0.9,0.3,0.1,0.2,0.2,0.5,0.1,0.5,0.5,0.4,0.1,0.7,1.0,0.1,0.6,0.5,0.8,0.3,0.2,0.2,0.5,0.6,0.7,0.8,0.2,0.8,0.5,0.5,0.3,0.3,0.9,0.3,0.8,0.1,0.9,0.8,0.1,0.6,0.7,0.9,0.6,0.1,0.8,0.3,0.2,0.2,0.4,0.5,0.7,1.0,0.2,0.2,0.3,0.5,0.7,0.9,0.7,0.5,0.5,0.8,0.7,0.2,0.5,0.7,0.2,0.8,0.3,0.1,0.9,1.0,0.5,0.9,0.9,0.3,0.9,0.9,0.1,0.8,0.1,0.9,0.1,0.9,0.1,0.1,0.4,0.8,0.4,0.3,0.4,0.5,0.7,1.0,0.1,0.7,0.7,0.1,0.6,0.7,0.7,0.4,0.6,0.8,0.6,0.5,0.4,0.3,0.6,0.5,0.7,0.2,0.7,0.9,0.5,0.1,0.1,0.1,0.3,0.3,0.2,0.3,0.7,0.4,0.3,0.8,0.8,0.6,0.3,1.0,0.6,0.6,0.2,0.1,0.2,0.7,0.2,0.5,0.8,0.7,0.8,0.9,0.2,0.8,0.3,0.5,0.9,0.4,0.8,0.1,0.3,0.1,0.2,0.2,0.3,0.8,0.6,0.7,0.4,0.2,0.5,0.3,0.2,0.3,0.6,0.1,0.1,0.8,0.3,0.7,0.9,0.7,0.4,0.2,0.6,0.2,0.1,0.2,0.4,0.6,0.9,0.7,0.2,0.3,0.1,0.7,0.3,0.8,0.6,0.7,0.3,0.6,0.4,0.8,0.8,0.1,1.0,0.6,1.0,0.4,0.2,0.6,0.7,0.7,0.9,0.3,0.3,0.9,0.3,0.1,0.1,0.1,0.2,0.1,0.5,0.5,0.4,0.7,0.8,0.9,0.3,0.9,1.0,0.9,0.5,0.5,0.7,0.1,0.6,1.0,0.7,0.6,0.5,0.6,0.8,0.8,0.5,0.6,0.4,0.9,0.6,0.7,0.4,0.1,0.8,0.2,0.8,0.9,0.5,0.1,0.5,0.8,0.6,0.1,0.4,0.8,0.7,0.7,0.2,0.8,0.5,0.1,0.1,0.3,0.1,0.8,0.8,0.2,0.5,0.1,0.2,0.5,0.2,0.1,0.7,0.2,0.9,0.3,0.1,0.9,0.5,0.7,0.9,0.8,0.1,1.0,0.3,0.6,0.7,0.5,0.8,0.4,0.4,0.9,0.4,0.3,0.4,0.3,0.2,0.2,0.6,0.3,0.4,0.8,0.6,0.9,0.5,0.2,0.4,0.5,0.9,0.4,0.5,0.4,0.7,1.0,0.5,0.8,0.2,1.0,0.1,0.4,0.1,0.9,0.1,0.2,0.1,0.7,0.5,0.9,0.6,1.0,0.2,0.4,0.1,0.3,0.1,0.1,0.2,0.3,0.1,0.2,0.5,0.6,0.3,0.7,0.4,0.4,1.0,0.1,0.1,1.0,1.0,0.2,0.7,0.1,0.8,0.5,1.0,0.3,0.6,0.5,0.5,0.1,0.2,0.9,0.8,0.9,0.9,0.4,0.5,0.1,0.3,0.8,0.4,0.2,0.5,0.3,0.2,0.5,0.9,0.2,0.4,0.4,0.6,0.5,0.1,0.3,0.9,0.2,0.5,0.9,0.9,0.6,0.1,0.5,0.1,0.3,1.0,0.5,0.3,0.1,0.4,0.3,0.9,0.1,0.7,1.0,0.9,0.5,0.1,0.5,0.7,0.2,0.4,0.5,0.3,0.2,0.1,1.0,0.2,0.2,0.1,0.3,0.3,1.0,0.9,0.1,0.3,0.9,0.8,0.4,0.6,0.9,0.7,0.6,0.2,0.2,0.8,0.7,0.5,0.8,0.2,0.1,0.8,0.3,0.4,0.1,0.4,0.1,1.0,0.9,0.2,0.8,0.1,0.2,0.6,0.7,0.7,0.1,0.7,0.2,0.5,0.6,0.1,0.8,0.6,0.5,0.6,0.2,0.4,0.9,0.9,0.1,0.2,0.9,0.6,0.7,0.7,0.1,0.4,0.9,0.1,0.9,0.7,0.8,0.1,0.9,1.0,0.1,0.8,0.1,0.9,0.1,0.3,0.7,0.1,0.1,0.7,0.7,0.4,0.1,0.8,0.8,0.8,0.7,0.3,0.4,0.2,0.5,0.2,0.3,0.9,0.8,0.6,0.1,0.4,0.9,0.1,0.7,0.3,0.2,0.9,0.1,0.9,0.7,0.6,0.8,0.2,0.5,0.7,0.1,0.2,0.5,0.6,1.0,0.4,0.8,1.0,0.6,0.9,0.9,1.0,0.1,0.8,0.2,0.6,0.3,0.8,0.5,0.3,0.9,0.1,0.5,0.2,0.6,0.1,0.8,0.7,0.9,0.1,0.3,0.2,0.3,0.1,0.3,0.2,0.7,0.4,0.3,0.5,0.1,0.4,0.6,0.1,0.9,0.1,0.7,0.8,0.9,0.3,0.1,0.6,0.7,0.5,0.1,0.7,0.9,0.8,0.6,0.1,0.5,0.3,0.1,0.3,0.5,0.6,0.7,1.0,0.3,0.1,0.8,0.4,0.7,0.9,0.4,0.7,1.0,0.7,0.2,0.7,0.6,0.9,0.8,0.4,0.4,0.1,0.1,0.9,0.4,0.7,0.4,0.6,0.1,0.4,0.6,0.3,0.3,0.3,0.3,0.5,0.1,0.5,0.1,0.6,0.4,0.6,1.0,0.8,0.8,0.3,0.5,0.6,0.4,0.3,0.5,0.5,0.6,0.9,0.1,0.7,0.6,0.2,0.1,0.8,0.8,0.9,0.2,0.2,0.7,0.7,0.3,0.9,0.4,0.9,0.8,0.8,0.2,0.6,0.9,0.5,0.2,0.1,0.4,0.7,0.2,0.1,0.3,0.3,0.8,0.3,0.7,0.2,0.5,0.4,0.6,0.3,0.1,0.7,0.3,1.0,0.1,0.1,0.1,0.9,0.8,0.8,0.4,0.8,0.2,0.6,0.7,0.5,0.1,0.7,0.8,0.5,0.1,0.6,0.7,0.9,0.1,0.2,0.8,0.2,0.5,0.8,0.5,0.4,0.9,0.1,0.1,0.7,0.1,0.5,0.2,0.2,0.4,0.2,0.9,0.6,0.4,0.1,0.1,0.5,0.8,0.8,0.8,0.9,0.1,0.3,0.8,0.1,0.4,0.8,0.6,0.8,0.9,0.6,0.4,0.7,0.1,0.5,0.1,0.2,0.4,0.7,0.5,0.1,0.8,0.9,0.1,0.4,0.2,0.8,0.8,0.1,0.1,0.4,0.6,0.5,0.3,0.5,0.7,0.2,0.4,0.1,0.2,0.9,0.2,0.4,0.3,0.3,0.9,0.6,0.6,0.8,0.9,1.0,0.2,0.2,0.1,0.1,0.1,1.0,0.1,0.3,0.3,0.7,0.8,0.5,0.7,0.5,1.0,0.6,0.3,0.6,0.4,0.1,0.4,0.2,0.7,0.6,0.3,0.6,0.1,0.1,0.7,0.9,0.6,0.8,0.4,0.6,0.4,0.5,0.2,0.5,0.7,1.0,0.2,0.7,0.5,0.3,0.8,0.4,0.3,0.5,0.1,0.8,0.3,0.7,0.4,0.7,0.9,0.8,0.5,0.6,0.1,0.6,0.1,0.9,0.7,0.2,0.4,0.4,0.4,0.9,0.7,1.0,0.1,0.1,0.1,0.5,0.8,0.6,0.1,0.9,0.4,0.9,0.2,0.2,0.4,0.2,0.1,0.7,0.1,0.8,0.1,0.5,0.7,1.0,0.8,0.4,0.6,0.5,0.7,0.7,0.1,0.5,0.3,0.9,0.4,0.5,0.9,0.1,1.0,0.4,0.1,0.5,0.8,0.3,0.2,0.1,0.5,0.2,0.9,0.4,0.9,0.2,0.4,0.1,0.7,0.9,0.8,0.1,0.6,0.6,0.7,0.5,0.8,0.8,0.9,0.1,1.0,0.6,0.6,0.2,0.8,0.8,0.8,0.2,0.4,0.8,0.7,0.4,0.2,1.0,0.1,0.5,0.7,0.9,0.9,0.3,0.5,1.0,1.0,0.1,0.1,0.8,0.9,0.6,0.3,0.2,0.1,0.5,0.7,0.1,0.5,0.6,0.9,0.1,0.7,0.6,0.9,0.7,0.9,0.3,0.3,0.1,0.8,0.3,0.6,0.1,0.6,0.3,0.1,0.3,0.7,0.1,0.1,1.0,0.6,0.1,0.7,0.9,0.9,0.7,0.1,0.3,0.6,0.1,0.1,0.7,0.5,0.1,0.2,0.2,0.5,0.9,0.4,0.2,0.5,0.6,0.3,0.7,0.2,0.5,0.2,0.2,0.1,0.1,0.2,1.0,0.7,0.2,0.1,0.1,1.0,0.8,1.0,0.3,0.1,1.0,0.9,0.2,0.8,0.5,0.5,0.8,0.8,0.5,0.5,0.8,0.8,1.0,0.9,0.1,0.7,0.6,0.2,0.5,0.1,1.0,0.6,0.2,0.3,0.8,0.2,0.3,0.5,1.0,1.0,1.0,0.2,0.3,0.2,0.6,0.1,0.2,0.6,0.1,0.6,0.9,0.8,0.9,0.4,0.8,0.3,0.7,0.9,0.4,0.1,0.9,0.1,0.6,0.2,0.1,0.7,0.3,0.3,1.0,0.2,0.4,0.3,0.9,0.5,0.4,0.6,0.5,0.4,0.5,0.3,0.9,0.7,0.7,0.4,0.6,0.5,0.1,0.3,0.9,0.1,0.5,0.6,0.4,0.2,0.6,0.8,0.8,0.2,0.6,0.7,0.6,0.3,0.4,1.0,0.2,0.1,0.9,0.1,0.9,0.1,0.1,0.1,1.0,0.5,0.9,0.9,0.8,0.1,0.8,0.5,0.6,0.7,0.6,0.1,0.1,0.5,0.5,0.8,0.3,0.2,0.2,0.8,0.5,0.7,0.5,0.1,0.2,0.1,0.1,0.5,0.2,0.7,0.1,0.6,0.5,0.9,0.2,0.3,0.4,0.5,0.4,0.3,0.3,0.7,0.1,0.6,1.0,0.9,0.4,0.9,0.9,0.2,0.1,1.0,0.3,0.7,0.9,0.5,0.5,0.3,0.6,0.9,0.4,0.9,0.2,0.5,0.4,0.9,0.4,0.6,1.0,0.4,0.6,1.0,0.9,0.4,0.6,0.2,0.2,0.8,0.3,0.1,0.1,0.3,0.1,0.8,0.7,0.6,0.4,0.5,0.2,0.1,0.1,0.4,0.1,0.5,0.1,1.0,0.2,0.9,0.7,0.3,0.4,0.3,0.4,0.1,0.8,0.7,0.3,0.1,0.8,0.8,0.7,0.9,0.6,0.8,0.5,0.2,0.8,0.6,0.3,0.1,0.2,0.6,0.1,0.6,0.9,0.7,1.0,0.9,0.9,0.8,0.6,0.5,0.2,0.5,0.7,0.5,0.2,1.0,0.8,0.8,0.9,0.5,0.9,0.4,1.0,0.4,0.3,0.6,0.9,0.9,0.8,0.5,0.5,0.1,0.6,0.1,1.0,0.1,0.1,0.6,0.1,0.8,0.3,0.2,0.7,0.9,0.6,0.2,1.0,0.9,0.4,0.9,0.7,1.0,0.8,1.0,0.2,0.1,0.5,0.6,0.6,0.5,0.4,0.2,0.3,0.2,0.5,0.6,0.6,0.1,0.9,0.3,0.5,0.7,0.2,0.8,0.3,0.7,1.0,0.1,0.4,0.4,0.4,0.6,0.3,0.5,0.2,0.7,0.8,0.3,0.3,0.7,0.5,0.7,0.2,0.8,0.4,0.2,1.0,0.5,0.8,0.5,0.6,0.2,0.1,0.9,0.2,0.8,1.0,0.5,0.2,0.1,1.0,0.2,0.6,0.1,0.2,0.7,0.9,0.6,0.6,0.3,0.8,0.1,0.3,0.1,1.0,0.2,0.7,0.1,0.9,0.4,0.4,0.1,0.9,0.1,0.5,0.1,0.4,0.2,0.8,0.8,0.2,0.6,0.1,0.8,0.2,0.7,0.1,0.9],\"type\":\"violin\",\"xaxis\":\"x5\",\"yaxis\":\"y5\"},{\"box\":{\"visible\":true},\"meanline\":{\"visible\":true},\"orientation\":\"h\",\"points\":\"suspectedoutliers\",\"x\":[188,136,145,131,141,164,139,187,174,93,182,177,159,198,185,159,196,121,101,121,81,156,199,114,111,114,132,143,96,200,88,150,107,100,157,160,160,119,87,159,132,185,152,166,110,118,164,196,162,111,198,127,109,102,145,104,148,107,180,128,134,144,159,168,141,81,155,182,165,80,138,104,142,141,90,188,197,172,116,111,85,199,180,114,163,96,182,178,155,100,177,171,103,83,140,196,132,194,141,156,146,119,192,199,121,103,172,198,83,163,106,199,135,194,153,89,82,107,199,102,194,80,130,200,198,89,88,189,181,100,99,184,197,195,89,108,133,179,182,155,134,147,137,141,134,141,148,141,199,159,147,190,176,84,166,139,97,109,198,142,96,152,124,166,118,183,150,160,157,110,101,101,183,197,189,143,93,101,197,165,113,178,198,84,138,92,95,103,151,150,165,190,150,117,163,117,94,106,93,119,192,173,166,105,168,115,171,182,110,142,111,159,135,128,91,181,181,194,112,88,133,111,116,123,166,200,109,128,138,127,112,105,83,192,142,129,199,183,183,107,139,187,157,110,129,127,165,99,107,105,183,93,195,101,131,190,154,141,168,162,178,88,191,175,177,100,86,136,93,148,114,89,103,98,133,125,126,144,177,187,119,100,200,110,158,164,102,170,84,163,134,151,139,143,108,114,121,181,80,105,189,181,113,117,191,98,87,178,177,185,180,80,199,184,155,165,170,199,94,161,101,177,182,83,160,115,189,129,183,193,138,191,143,126,140,106,91,114,182,169,109,106,193,120,86,196,184,185,118,149,117,123,191,138,148,181,199,194,175,86,91,172,171,187,195,92,162,99,178,185,183,131,138,135,115,189,151,97,166,145,166,142,174,187,191,138,187,146,144,137,134,119,162,145,195,141,91,173,131,169,184,93,156,171,123,83,95,173,142,193,171,112,99,101,131,186,161,176,176,100,105,84,166,158,160,182,186,134,149,194,126,116,165,153,111,134,82,130,200,123,135,146,134,156,198,183,145,114,195,158,84,107,98,178,154,94,95,84,106,186,170,162,165,109,122,118,176,133,153,96,87,100,174,104,115,120,159,101,132,128,114,95,83,148,142,200,145,169,186,109,174,132,195,124,155,131,124,186,172,104,104,170,109,176,119,159,123,83,185,134,151,160,192,166,103,90,200,134,154,187,91,135,146,117,86,100,145,190,129,114,119,193,148,182,117,152,161,193,186,137,166,176,184,160,194,185,181,146,192,83,89,190,101,113,160,123,180,200,102,169,90,191,190,143,90,113,83,118,121,150,169,180,115,171,80,129,170,112,82,92,95,88,169,198,166,88,80,147,185,196,181,182,175,118,151,142,145,163,173,193,169,85,122,128,163,139,81,188,128,102,179,190,184,125,145,172,162,98,166,196,126,197,138,114,150,131,185,130,107,118,123,101,154,185,87,160,111,147,143,167,112,178,95,149,171,167,132,189,121,136,128,107,182,186,81,146,148,132,179,117,179,192,200,120,147,128,198,191,124,168,102,104,165,151,190,145,103,106,169,144,103,102,89,127,108,131,154,159,155,155,164,85,198,183,105,81,116,119,93,176,193,130,113,185,135,112,108,154,165,169,183,112,150,169,114,144,133,121,140,184,145,192,89,159,197,175,128,122,113,158,172,125,98,96,105,86,185,187,182,138,141,102,195,83,157,168,185,142,96,157,130,165,186,122,185,155,131,105,171,138,164,142,129,143,144,174,80,197,106,196,163,145,121,198,124,166,160,161,136,83,139,97,181,146,110,187,124,179,187,188,181,199,102,108,92,145,199,144,100,153,147,112,161,198,163,102,114,163,196,82,108,158,145,125,198,131,97,123,168,188,98,95,175,130,88,126,150,101,84,124,141,92,83,115,126,157,122,93,125,191,152,120,118,169,95,105,200,134,94,98,137,163,177,80,107,97,173,133,85,127,160,190,89,127,129,197,177,170,136,143,187,172,170,156,187,128,184,82,161,136,185,122,173,139,199,167,153,182,200,112,157,198,107,116,92,100,100,158,193,190,133,150,105,192,151,166,125,87,146,83,175,155,187,101,193,90,198,168,164,162,182,200,185,102,144,182,126,155,105,168,146,168,138,94,119,113,88,152,130,84,80,95,109,153,93,93,107,151,166,135,199,102,104,147,157,159,107,101,109,147,149,134,184,148,91,134,115,155,191,162,102,122,84,138,95,94,101,132,86,89,89,100,99,164,90,124,104,170,104,82,146,187,91,91,177,193,188,197,141,188,132,124,175,87,131,104,159,157,173,158,173,100,135,186,111,167,172,139,179,162,164,97,146,90,156,99,146,199,160,159,167,87,113,132,145,97,131,199,184,172,156,85,89,135,150,189,154,162,165,88,88,103,154,102,154,137,106,160,187,175,151,124,111,191,89,111,123,92,197,137,88,197,86,198,128,144,91,111,156,179,105,118,129,126,104,140,152,146,105,162,105,136,123,90,89,185,159,194,130,90,178,174,186,105,124,138,86,138,161,182,102,148,188,107,88,174,139,80,138,158,153,173,144,186,131,107,97,143,179,105,151,134,174,129,155,190,130,83,200,86,153,86,196,112,140,182,154,198,131,118,135,103,102,116,192,101,172,148,160,178,80,146,159,186,170,182,167,127,182,104,112,85,88,136,84,115,187,121,97,104,146,161,81,158,116,150,125,156,188,180,167,170,147,101,187,115,140,185,116,123,88,105,194,84,96,196,186,142,132,134,168,181,148,181,107,185,123,181,163,140,135,146,87,172,184,194,126,109,161,130,173,198,145,88,170,186,86,114,85,146,88,152,156,144,113,139,164,126,124,163,103,113,88,99,126,136,185,105,139,101,181,172,153,123,84,131,96,111,143,134,126,87,91,131,118,170,142,156,110,170,174,158,81,178,158,100,168,141,165,130,84,172,125,177,146,95,137,133,153,178,164,192,162,198,86,80,84,177,85,129,103,156,198,112,131,135,136,157,152,124,121,149,185,86,123,182,95,173,142,82,194,170,94,196,130,125,98,104,178,94,150,131,145,128,151,144,178,168,191,173,150,92,148,124,196,109,192,123,111,145,151,113,82,114,161,188,197,117,200,192,168,169,99,100,103,93,86,199,135,106,132,179,100,184,133,182,90,160,111,120,106,197,182,103,160,166,137,99,157,99,133,124,119,144,184,95,171,111,110,101,115,145,81,109,126,101,100,119,95,160,147,149,173,183,92,88,80,169,81,172,172,80,180,151,115,109,141,154,91,135,92,186,196,90,98,169,190,185,113,141,140,121,114,173,198,159,151,150,91,190,120,198,184,158,146,110,175,153,89,94,148,197,88,127,113,98,189,151,149,117,114,99,145,158,150,104,125,196,196,134,102,103,130,120,118,169,179,147,160,176,107,132,160,157,163,160,151,185,105,92,87,155,84,81,123,122,101,199,197,180,87,147,117,89,104,169,156,103,193,189,101,183,84,86,193,199,86,138,160,146,189,182,111,89,177,100,82,199,92,159,108,155,140,153,151,192,104,130,112,95,172,191,146,182,178,124,154,115,135,93,124,113,164,124,136,138,153,132,155,120,154,122,167,86,193,141,159,171,200,87,87,191,187,142,121,127,165,103,112,80,172,134,101,119,154,174,89,105,116,170,175,150,191,145,117,135,89,192,82,97,189,161,97,182,193,135,81,89,165,131,165,179,186,169,182,104,134,189,185,88,180,151,164,199,167,194,159,157,174,88,136,81,109,93,158,114,134,175,162,196,114,155,146,93,115,119,96,199,125,120,190,111,118,152,112,80,117,178,101,121,172,127,138,158,178,143,87,190,142,169,200,114,153,196,106,138,127,82,117,180,139,174,180,91,118,110,80,156,181,153,146,82,183,156,131,85,197,200,194,145,89,147,148,146,139,177,153,129,158,129,192,167,194,132,199,121,90,83,136,104,187,186,110,182,130,161,86,188,129,158,80,82,121,104,111,157,181,92,180,128,139,198,105,164,82,88,106,150,113,105,123,111,105,138,89,126,114,119,85,125,146,98,106,133,152,136,190,117,80,88,109,109,100,83,129,128,179,152,93,167,147,173,161,82,107,85,87,98,112,197,196,103,121,195,89,141,199,109,104,155,185,157,195,102,83,124,196,106,139,162,200,197,171,152,150,168,94,130,165,169,108,103,158,131,189,101,147,137,170,123,132,131,195,185,150,125,115,198,117,190,200,164,83,131,109,114,160,158,122,170,174,100,105,127,173,137,88,114,94,187,188,116,196,163,108,94,101,187,186,128,181,176,182,102,91,134,123,122,157,162,138,197,122,169,158,146,97,130,103,155,111,97,169,132,162,153,168,101,97,136,90,124,124,101,80,160,156,153,93,99,163,195,93,154,107,110,157,134,178,148,94,162,105,102,129,185,141,141,110,157,174,89,81,193,194,176,163,112,136,149,86,194,110,113,191,85,148,104,138,143,111,163,89,117,199,88,99,129,169,161,144,199,164,149,144,91,161,80,114,83,85,113,198,122,84,106,187,108,145,168],\"type\":\"violin\",\"xaxis\":\"x6\",\"yaxis\":\"y6\"},{\"box\":{\"visible\":true},\"meanline\":{\"visible\":true},\"orientation\":\"h\",\"points\":\"suspectedoutliers\",\"x\":[2,3,5,6,2,1,8,4,7,5,5,8,4,4,1,2,8,3,5,4,7,2,4,3,3,8,4,7,2,5,7,8,1,4,8,8,4,2,6,2,1,2,2,3,2,3,8,7,8,8,3,8,2,3,7,3,8,3,6,5,3,8,2,2,3,3,4,3,2,4,7,4,3,1,4,6,3,1,4,6,7,4,5,3,1,8,5,3,5,4,3,7,7,6,3,3,5,6,2,7,6,8,5,4,7,4,5,5,1,1,3,7,6,5,7,7,8,3,1,3,8,4,3,2,5,1,4,6,3,6,7,1,7,8,4,5,6,8,7,8,1,3,1,7,3,2,2,7,3,1,5,7,6,2,2,1,4,6,6,1,5,6,5,1,8,4,8,6,7,4,7,5,4,5,5,6,7,5,2,7,1,6,8,4,5,3,6,1,1,5,1,5,8,2,4,7,3,3,4,3,1,7,3,7,6,8,6,5,7,6,3,8,5,5,1,3,8,5,3,5,5,2,4,6,4,2,1,8,4,3,5,1,8,3,2,1,5,5,7,4,8,7,6,5,7,7,2,4,5,2,2,5,8,4,1,7,4,7,3,6,7,4,1,4,2,2,6,6,5,1,7,8,1,3,2,4,4,4,7,8,6,3,7,3,8,1,7,8,1,6,2,7,6,5,5,7,8,6,8,7,1,6,1,2,2,3,3,6,6,4,2,7,3,8,2,8,4,2,1,3,2,1,1,1,6,7,1,1,1,5,1,6,4,3,2,4,3,1,1,7,3,6,8,7,1,4,5,6,1,3,1,5,8,8,7,4,1,7,5,7,7,2,2,4,4,8,6,8,1,6,2,7,5,7,5,7,2,6,4,2,7,7,3,2,1,3,8,8,7,7,6,7,4,7,4,2,8,2,4,1,3,7,3,4,6,4,5,5,8,4,5,6,5,5,3,4,8,5,7,2,5,3,4,2,4,3,6,7,6,2,8,8,1,6,4,2,7,6,2,7,8,7,7,3,7,2,2,5,1,8,2,3,3,6,7,3,3,5,5,4,7,7,8,2,8,3,4,8,7,1,7,5,3,4,3,4,1,4,4,4,6,1,5,2,6,4,5,4,5,3,6,1,7,8,5,5,3,2,3,2,8,6,7,7,2,1,7,3,5,3,4,1,1,4,6,7,8,3,4,3,1,8,3,5,2,8,8,4,2,1,6,5,5,4,7,8,6,4,6,8,1,4,8,5,2,6,8,2,1,2,5,8,8,8,4,5,8,1,1,1,8,2,8,6,6,7,8,2,2,2,5,6,2,1,7,5,1,5,4,1,8,3,5,3,3,3,1,4,8,5,5,1,5,3,4,3,2,8,5,7,6,4,8,7,2,5,7,7,8,4,3,2,7,3,7,8,1,1,5,2,4,6,7,1,4,4,3,3,6,8,7,5,8,3,6,3,7,8,5,8,5,7,6,3,5,8,5,1,4,1,7,8,7,7,3,8,7,4,6,4,3,8,3,7,4,4,8,3,6,4,4,7,7,5,3,1,2,6,6,5,7,7,1,7,3,7,5,2,4,6,5,4,5,8,1,3,5,6,5,3,3,1,1,5,7,7,5,6,2,7,2,8,2,7,2,3,4,3,5,7,2,4,7,8,3,6,7,3,3,1,6,1,7,7,7,4,6,7,7,3,6,2,6,1,1,8,1,2,3,3,2,2,6,4,1,5,3,6,3,6,4,5,7,8,5,7,2,6,6,2,8,2,2,1,7,3,2,7,1,8,5,7,2,1,4,8,3,2,1,3,5,5,6,6,8,5,7,7,7,3,1,1,3,4,6,5,3,2,1,7,4,5,1,1,6,1,4,7,5,1,3,2,7,8,6,3,6,6,7,1,3,2,6,7,8,1,5,1,8,1,4,3,2,8,3,7,1,6,3,2,7,4,2,6,4,8,3,2,8,3,5,7,2,8,7,2,7,7,3,4,3,2,3,6,2,1,6,5,5,2,5,6,3,1,6,7,4,8,1,5,1,7,5,2,3,3,1,5,4,4,8,6,2,4,3,3,1,1,3,4,4,2,2,4,4,1,3,3,7,6,8,3,1,5,1,1,4,4,7,2,1,3,4,3,3,1,6,8,3,3,8,2,7,4,3,6,8,1,2,4,2,6,7,5,8,3,8,4,1,1,2,6,1,7,5,8,2,8,1,3,8,2,4,1,4,1,6,5,2,5,1,8,3,7,4,4,7,7,5,5,7,7,4,6,6,3,2,8,6,6,5,2,3,7,8,5,1,2,8,5,4,2,3,6,2,4,7,1,8,4,4,4,3,3,5,3,4,2,2,5,1,6,7,4,7,3,7,2,3,5,7,7,3,2,7,7,5,8,7,1,1,3,5,8,5,2,4,6,8,8,4,1,1,6,6,3,6,6,1,4,7,7,7,3,6,1,5,3,6,8,5,6,4,7,5,5,1,3,3,2,5,2,4,4,3,7,5,2,7,4,5,1,3,1,1,2,7,7,1,2,8,6,2,8,2,6,2,8,2,4,8,5,8,1,3,3,5,1,8,7,1,8,4,5,8,1,2,2,6,6,5,4,3,3,7,4,4,6,7,6,1,3,8,5,7,4,5,8,7,3,8,7,3,8,3,6,4,2,7,5,8,6,3,2,2,7,4,2,3,4,6,1,8,1,7,6,8,6,7,2,3,7,1,1,8,7,2,2,7,2,6,3,5,3,4,8,5,3,3,1,3,8,4,4,3,7,2,8,7,3,4,6,8,1,3,4,3,1,1,4,2,1,6,1,5,7,7,5,1,2,8,7,8,4,6,8,7,2,5,2,1,5,6,6,2,6,6,6,7,4,1,8,7,1,1,1,3,1,2,3,6,4,2,7,1,1,8,8,7,1,5,6,6,6,5,2,3,6,5,5,4,7,4,5,8,1,8,7,7,3,2,2,5,2,7,8,3,5,3,5,4,1,4,5,2,3,6,4,1,7,7,5,6,2,5,3,8,5,1,3,8,4,4,7,8,8,4,4,2,8,7,5,6,5,5,2,8,7,4,2,1,4,2,8,8,8,2,2,4,5,6,5,1,1,4,2,4,8,8,5,2,4,7,5,2,5,4,4,2,1,8,4,8,3,5,4,4,4,2,6,5,3,5,1,8,4,6,8,7,8,4,8,4,3,2,8,4,2,5,2,1,4,2,8,7,4,5,8,5,4,6,6,1,7,6,6,8,3,8,4,8,4,8,8,6,5,2,3,3,4,4,8,5,6,4,8,8,6,4,8,3,4,5,1,1,4,1,6,1,8,2,6,2,6,4,6,6,8,3,4,3,3,1,4,6,1,1,8,1,1,6,4,6,2,5,8,3,7,5,7,3,1,1,8,6,2,8,6,3,3,2,2,8,4,6,5,4,7,6,8,6,4,5,8,1,2,7,4,7,2,1,8,2,1,4,4,3,8,1,8,6,6,7,5,8,2,3,4,7,8,2,5,2,8,1,8,6,1,3,2,7,7,8,6,2,5,8,2,4,6,4,5,1,2,6,4,2,4,6,7,2,4,8,8,2,8,8,1,5,6,2,2,7,8,4,1,5,2,4,2,8,6,4,1,7,3,5,7,6,1,4,2,1,8,5,8,6,4,2,5,5,5,6,1,3,8,7,1,6,8,3,8,4,1,2,5,5,4,4,6,2,8,6,2,4,3,2,5,1,7,8,1,3,6,2,4,2,3,4,7,1,4,2,5,6,8,1,1,7,4,8,4,8,4,6,8,6,1,1,2,4,5,8,4,6,6,1,7,4,1,8,4,5,5,2,1,4,8,6,6,5,2,1,2,1,7,4,2,6,7,3,3,5,4,4,4,1,4,7,8,4,4,8,5,8,8,7,4,4,4,3,4,7,1,5,2,2,6,5,7,2,5,5,2,5,8,1,3,3,6,8,6,8,5,8,7,2,3,2,5,4,5,2,4,6,1,6,4,2,4,3,8,8,2,2,8,7,6,6,7,8,7,3,3,8,2,8,7,3,3,3,3,5,6,2,4,4,1,4,8,5,2,4,6,2,1,4,7,6,5,3,6,6,2,2,5,6,1,8,7,5,7,5,4,2,5,4,4,5,5,5,2,7,5,6,3,1,1,3,6,1,7,1,3,7,4,8,4,4,2,2,7,3,1,7,1,2,7,7,3,7,4,4,6,7,6,4,5,1,7,2,2,8,3,7,4,3,7,8,3,6,7,3,5,8,4,6,6,4,1,5,5,7,6,1,1,4,3,7,8,1,2,2,5,4,6,3,1,5,4,1,8,4,5,5,7,8,5,5,4,3,2,8,4,2,3,2,7,7,2,6,1,8,3,5,6,7,7,3,7,8,1,3,8,4,2,5,4,1,5,4,6,6,6,5,8,6,6,7,7,3,7,8,1,4,5,5,5,4,6,6,5,7,3,4,8,2,6,2,8,5,7,6,1,2,8,7,2,5,3,8,3,6,5,7,5,2,4,1,3,1,8,3,5,1,6,4,8,5,6],\"type\":\"violin\",\"xaxis\":\"x7\",\"yaxis\":\"y7\"},{\"box\":{\"visible\":true},\"meanline\":{\"visible\":true},\"orientation\":\"h\",\"points\":\"suspectedoutliers\",\"x\":[2,6,6,9,14,7,10,0,14,15,1,18,17,11,17,16,4,17,18,11,14,2,7,20,13,3,19,6,18,7,9,20,18,0,3,17,10,18,17,20,14,10,19,7,14,1,14,10,8,15,19,19,0,10,0,20,19,9,14,4,5,6,0,18,3,17,14,0,1,1,11,4,16,5,6,20,15,3,20,8,7,19,3,15,13,17,5,11,13,14,5,18,0,15,9,19,16,18,1,7,13,9,4,10,3,3,10,16,4,7,4,20,1,14,19,9,0,11,12,0,7,2,10,7,4,20,1,17,16,1,3,14,10,12,5,0,8,7,14,2,18,4,5,6,11,2,7,4,7,7,17,14,12,9,8,6,4,18,0,16,13,16,3,20,17,8,4,3,8,20,6,5,8,4,1,15,10,1,13,4,20,12,5,19,12,13,9,17,5,5,18,15,8,6,15,8,13,7,4,20,0,15,9,17,19,1,17,16,4,6,1,0,17,16,0,7,2,9,1,6,19,10,12,11,4,5,19,1,19,18,6,6,17,19,15,8,12,16,1,2,1,0,20,10,14,12,15,15,10,4,1,0,7,7,17,16,13,11,1,17,10,1,1,10,16,15,14,12,5,6,18,2,12,14,15,8,13,19,13,4,20,14,11,7,9,3,7,0,20,4,11,13,18,14,5,1,19,2,13,17,19,7,20,14,8,20,2,20,13,8,6,2,14,17,0,17,9,13,8,8,20,13,2,17,20,14,11,15,16,8,10,3,10,17,13,1,1,19,6,1,9,13,15,20,4,4,7,13,15,4,16,20,5,16,18,12,1,3,13,3,19,18,7,2,12,14,2,17,12,12,12,18,19,0,14,10,0,10,14,9,13,10,4,1,20,5,17,15,8,12,16,3,16,19,1,13,12,2,12,4,12,18,10,5,9,3,2,11,15,3,8,13,17,0,17,12,5,4,2,12,12,17,14,13,6,4,10,2,7,19,7,15,2,8,5,11,15,10,16,0,9,2,9,16,12,13,13,16,18,3,10,4,5,12,2,19,7,14,5,12,12,17,20,14,15,10,6,11,0,12,13,10,4,2,7,14,13,18,16,4,4,3,17,2,18,3,15,14,4,14,20,10,9,9,0,17,12,20,2,4,16,18,2,6,0,2,10,15,6,15,20,13,14,19,14,6,0,18,4,20,17,10,7,11,0,16,15,11,11,18,8,10,17,13,2,7,20,16,6,11,9,7,9,18,0,17,4,7,3,4,14,6,0,20,10,7,18,10,7,7,10,16,14,4,17,15,15,15,20,9,8,16,15,1,13,10,16,12,9,15,18,17,17,8,20,4,10,15,18,4,12,5,18,1,20,2,12,10,7,13,5,20,7,6,0,13,14,15,11,8,5,3,15,0,14,15,7,9,6,10,2,18,1,16,6,19,3,3,3,2,2,2,0,10,18,11,5,11,8,6,2,1,10,3,6,8,7,14,16,0,16,11,18,20,13,7,16,17,17,10,4,2,9,12,0,5,13,7,8,3,17,13,1,9,4,11,7,6,17,15,3,7,13,3,19,9,14,1,12,9,3,15,7,3,14,12,6,6,7,9,13,3,4,12,0,8,6,7,15,14,1,3,10,20,0,11,13,15,12,13,15,1,9,3,8,18,2,17,10,11,10,10,17,8,20,6,11,2,14,10,9,1,0,7,13,20,18,3,9,9,3,7,18,9,10,18,1,10,3,20,18,4,1,0,19,10,2,13,5,19,8,17,4,2,0,2,16,10,4,1,16,18,17,15,10,17,18,10,15,17,1,8,15,15,9,3,3,2,6,19,17,17,16,19,2,2,18,9,18,10,8,20,10,18,2,14,14,5,16,14,0,10,3,0,19,9,20,8,9,6,8,16,3,7,12,18,14,16,5,6,6,6,10,7,9,15,16,18,18,18,19,7,10,6,12,7,3,11,19,4,7,20,2,14,4,15,19,4,7,18,10,14,19,0,4,0,13,17,9,11,12,6,16,5,13,10,18,1,20,1,4,6,1,16,9,11,9,7,17,6,17,11,18,11,4,19,11,12,3,0,6,14,9,20,20,5,13,4,2,1,15,11,20,4,16,4,14,16,7,9,1,10,14,12,3,7,2,2,15,16,10,1,4,2,0,0,17,16,16,15,18,10,16,7,14,16,14,3,14,13,9,6,6,8,19,17,0,0,10,11,9,10,12,12,11,18,11,14,6,9,14,0,3,9,0,15,17,0,6,14,19,18,16,15,15,20,9,9,12,5,3,12,16,12,19,1,15,17,6,7,17,10,0,0,19,19,15,7,18,20,1,3,20,16,10,17,2,12,0,0,7,10,17,1,11,2,3,13,4,14,14,8,7,14,14,14,13,5,9,5,7,7,4,7,13,3,7,0,12,11,6,5,17,20,6,8,19,7,5,20,18,12,1,14,0,12,7,16,0,3,4,2,13,20,1,3,13,15,12,14,3,10,15,13,2,14,16,3,9,0,13,20,7,13,12,13,2,1,9,11,10,0,5,1,7,20,9,19,1,17,10,20,5,6,11,9,13,14,18,9,17,9,1,6,16,3,3,3,6,12,6,4,17,11,2,0,6,11,1,1,14,13,14,6,3,1,3,15,15,0,18,2,9,12,13,17,1,0,20,12,14,12,7,1,9,12,15,9,10,1,0,1,15,0,1,2,13,7,11,10,14,18,8,8,6,15,17,2,1,3,20,0,1,12,20,14,2,8,15,11,10,9,15,7,11,4,20,12,10,20,5,3,5,9,1,9,16,7,3,8,6,5,6,6,13,19,7,3,19,9,4,19,17,20,13,15,9,0,9,10,14,3,2,3,20,8,12,0,18,6,17,10,12,11,5,4,18,4,5,2,17,10,8,17,5,15,14,3,7,13,16,8,6,8,6,1,0,13,15,8,11,14,0,9,4,19,0,11,20,3,19,9,16,17,13,7,10,11,9,11,5,9,0,10,17,8,0,18,9,17,7,13,14,11,0,6,4,20,0,18,20,6,7,18,9,13,16,8,19,1,8,13,12,18,9,15,1,19,1,4,12,15,15,1,19,9,12,1,20,9,16,7,13,8,6,15,16,9,17,17,0,11,6,8,2,2,2,5,0,8,2,10,8,19,20,2,19,20,10,10,3,19,8,1,1,9,8,6,1,17,8,7,7,18,5,7,20,10,4,9,7,2,17,15,5,13,19,18,2,4,7,10,4,5,9,9,20,1,19,19,4,6,13,2,0,20,8,9,20,8,19,1,7,1,12,10,8,18,2,18,8,3,4,8,8,0,20,7,20,12,10,5,11,13,9,10,7,20,2,20,0,6,20,0,20,13,11,1,10,11,20,11,14,8,15,1,6,15,14,8,14,14,14,12,2,6,17,7,6,7,15,0,4,10,18,9,16,20,18,2,17,10,10,10,16,18,17,4,2,4,16,7,17,1,10,18,3,6,10,9,11,5,19,10,14,15,10,12,16,8,7,16,19,8,5,8,16,10,1,18,1,19,1,3,19,2,3,3,19,19,10,0,10,2,14,4,9,1,2,17,6,10,14,2,13,3,5,17,1,20,7,1,19,0,10,14,15,12,14,7,11,12,19,2,17,13,2,3,2,11,16,10,17,18,17,13,4,2,10,20,17,11,15,3,7,19,19,12,8,7,1,20,10,2,10,12,14,12,13,14,12,6,4,14,20,7,13,13,7,2,17,12,17,16,7,1,3,17,14,3,13,8,9,1,18,20,17,19,15,9,17,11,9,0,6,19,3,7,20,7,6,10,13,9,5,1,14,7,9,9,6,0,4,5,15,9,18,19,14,7,0,8,14,19,12,10,5,0,9,7,1,9,0,9,16,20,13,20,12,16,14,1,11,9,12,20,3,1,6,2,8,20,14,10,3,19,7,16,3,16,8,7,19,1,7,20,3,8,18,5,18,10,8,6,0,14,9,20,6,1,11,9,9,3,1,3,6,9,10,4,3,6,15,17,8,11,13,19,9,10,19,2,7,4,10,3,16,4,7,0,9,19,4,16,15,6,16,11,18,2,20,12,7,6,9,11,2,9,20,18,1,10,17,6,19,16,6,17,0,8,2,2,1,16,8,7,4,10,15,12,2,17,0,16,14,10,14,17,17,8,12,12,2,16,4,7,6,11,14,3,2,10,7,19,9,4,6,15,8,14,10,14,4,19,3,19,15,4,13,12,5,20,17,8,20,20,12,13,4,16,15,20,0,8,2,7,1,0,0,4,20,16,20,10,18,14,20,1,20,8,13,6,12,18,4,12,9,16,9,20,9,2,15,2,4,11,0,11,11,10,14,0,8,11,8,18,10,9,11,7,17,1,11,11,20,6,14,8,15,7,7,0,12,10,7,12,15,15,8,20,16,11,6,8,15,12,1,16,14,5,10,16,20,9,1,6,12,2,19,4,7,20,17,4,11,6,4,8,0,20,4,7,9,3,16,8,7,16,11,2,10,20,20,16,2,15,11,15,3,11,9,19,4,0,2,14,3,3,5,16],\"type\":\"violin\",\"xaxis\":\"x8\",\"yaxis\":\"y8\"},{\"box\":{\"visible\":true},\"meanline\":{\"visible\":true},\"orientation\":\"h\",\"points\":\"suspectedoutliers\",\"x\":[20,905,1263,1216,1208,1004,381,512,386,1137,248,151,607,344,356,862,984,441,658,902,1314,974,407,466,201,291,550,511,187,1171,1358,413,85,178,311,1134,429,609,347,1448,434,1725,685,880,1580,186,202,27,1025,885,1042,1382,546,1013,690,667,822,581,265,127,916,361,322,753,504,651,1565,108,459,205,570,1172,160,4,763,339,1040,166,1168,990,319,1397,708,1077,928,516,96,1025,666,557,1605,1226,769,403,177,942,651,1572,476,1233,836,824,391,320,325,125,846,1770,293,1633,1198,768,70,117,1158,1055,635,322,275,1445,550,1242,597,538,59,819,179,1259,396,713,262,622,327,522,313,226,605,692,1386,304,1590,229,839,507,436,756,387,1265,1852,875,140,577,975,510,583,674,1125,747,1612,311,116,554,811,730,577,660,450,1223,1109,45,299,506,635,1045,393,650,433,839,1176,650,218,564,986,561,65,420,1365,619,849,611,953,642,1417,247,710,718,1100,59,938,825,286,1273,295,852,710,1277,129,690,701,309,213,1112,199,55,1230,1052,541,55,809,1738,404,262,759,42,397,964,233,1022,411,954,1528,416,638,231,574,148,730,564,1290,632,529,1273,667,1170,169,105,793,490,1201,246,417,1177,78,323,707,457,356,936,912,179,1914,526,156,344,865,1552,546,1097,372,1285,1242,302,594,303,1858,403,32,590,235,630,357,246,475,1054,555,607,1360,142,681,104,637,410,1830,802,311,56,344,1053,221,506,1728,63,418,854,178,1869,185,170,454,866,44,1331,1285,741,520,114,1153,474,39,419,584,312,19,207,363,209,159,649,1132,1392,1001,712,418,384,119,627,1086,195,14,745,253,333,629,707,1314,1715,513,13,1243,300,58,1107,134,275,176,1236,336,1116,1010,205,1453,788,1301,463,188,1028,1419,1471,168,1125,130,481,1411,79,1187,561,96,77,493,1173,964,634,639,127,431,71,111,356,798,747,408,373,1362,475,743,447,42,30,162,347,346,727,180,1641,269,250,1186,77,507,379,264,1486,694,579,495,315,329,548,531,191,823,96,841,195,21,235,1417,286,649,966,1172,270,781,418,126,228,1091,1452,674,398,449,1184,675,1792,177,1013,1058,592,810,533,558,681,1017,765,1176,947,1314,609,754,619,453,205,282,130,494,275,447,281,6,292,164,631,897,268,861,331,1064,509,622,957,494,236,980,1789,831,902,636,831,518,233,725,170,157,1142,840,401,395,48,982,478,581,1215,594,683,536,83,905,249,803,459,584,1596,418,364,946,186,1428,1613,1127,691,1802,751,859,187,206,1673,710,1331,263,97,129,1213,189,628,320,837,1087,781,251,262,767,1226,389,920,1027,271,369,1258,417,1345,613,912,666,236,186,416,430,168,1467,179,159,120,762,600,286,1350,27,1597,1177,402,577,52,364,934,250,214,612,1111,163,202,729,1079,361,338,1698,1052,1108,951,1197,473,1294,410,178,782,434,464,137,492,1250,385,427,1024,240,886,1233,183,88,1016,80,611,569,304,276,1131,551,436,553,1391,981,680,687,1060,217,1140,304,504,832,935,446,942,897,1208,159,632,1308,1002,1331,150,1248,108,320,437,295,1058,79,593,693,300,234,1545,59,1103,91,177,58,447,942,88,371,1446,181,1311,1791,1568,706,871,1074,501,271,920,1171,293,833,485,182,207,1698,165,1086,192,1156,377,709,729,543,553,526,637,113,1114,461,1430,304,471,806,80,204,545,112,1331,1055,609,290,1039,1485,1122,462,1384,1502,589,82,68,689,208,1339,722,717,433,1298,186,1397,618,1214,613,649,193,22,1464,280,690,39,337,1036,1347,22,327,778,482,591,229,901,715,172,681,867,286,451,1119,526,1299,217,1109,434,671,1404,856,381,85,562,1111,209,997,91,730,606,445,286,985,1617,375,1795,486,757,273,491,762,448,231,1713,438,68,698,510,965,1399,532,8,154,198,860,461,109,193,961,243,1626,480,123,400,190,626,1,548,632,349,1686,1455,95,580,297,951,667,1047,408,1150,333,641,653,103,517,785,531,564,761,1179,673,472,412,977,359,224,714,195,843,308,522,364,806,518,519,792,382,214,859,342,713,172,118,540,18,987,535,1092,327,517,994,491,268,210,144,729,82,188,150,1222,331,1178,347,75,492,65,881,351,1842,758,1323,1175,1092,647,1102,319,215,945,381,546,1096,575,519,342,291,1091,352,165,385,1920,396,1134,721,687,777,176,458,485,641,798,256,370,191,1571,276,573,160,90,138,983,275,149,42,793,625,521,1530,442,152,1242,29,501,87,648,521,120,985,341,751,993,43,1262,361,104,618,815,1587,138,584,750,820,8,171,960,160,612,709,624,538,1295,1164,829,199,825,519,169,1734,76,1698,819,387,985,970,767,512,56,590,462,126,578,655,1028,88,1692,358,64,259,236,873,858,1405,237,650,1949,541,361,335,1638,1109,111,1285,1480,322,1220,511,1011,629,140,1081,297,1512,275,1136,1145,477,954,741,547,1194,146,471,169,1895,1537,236,821,466,393,400,774,284,465,705,38,51,850,349,387,706,951,179,426,653,1578,280,251,1463,1432,477,1122,145,416,847,868,594,518,663,371,1749,586,409,35,1008,442,983,875,952,244,65,1749,716,433,134,179,804,787,704,991,379,489,1518,855,1261,115,1203,545,818,42,1103,168,719,163,1162,626,329,330,956,1140,217,271,444,1003,227,253,88,334,1281,168,898,46,118,1187,1191,526,346,89,137,1226,473,368,239,622,654,853,686,992,115,275,461,1428,614,193,1105,398,480,775,1482,154,454,737,419,853,1211,314,172,527,874,674,657,475,1209,15,293,813,173,457,533,912,798,412,130,201,299,1277,626,378,333,805,1901,1573,360,20,98,703,273,919,982,879,1287,1109,211,1058,532,290,890,327,1260,570,621,328,1307,497,219,1163,24,468,1272,503,1495,1333,267,149,1070,206,158,48,249,935,140,184,238,800,211,670,725,81,1211,1362,945,1043,444,311,812,202,531,404,954,274,956,1438,1446,692,777,1157,454,478,217,468,1107,626,485,43,322,880,1511,667,765,614,925,1185,1706,347,1603,806,1207,431,179,423,1131,925,62,800,211,81,667,405,678,1619,935,864,1495,870,1379,1055,220,419,1111,1097,447,273,590,116,306,300,1259,1573,1392,113,526,1209,655,1123,692,796,1021,995,1244,293,1240,759,398,358,403,211,194,1076,1238,229,327,135,5,715,511,549,420,838,314,739,62,3,963,1438,1621,19,887,567,584,496,1245,682,724,1384,257,17,983,439,925,409,293,384,149,447,717,195,153,1699,501,530,396,670,193,351,846,111,1213,755,1406,497,1826,50,817,901,212,329,837,248,632,366,174,882,688,263,118,1012,586,294,818,426,151,409,641,958,1328,354,1709,1099,783,194,238,919,758,1039,1054,122,100,1221,312,599,1274,62,315,1123,1878,318,574,1353,86,340,602,963,127,142,274,371,788,395,643,854,1335,1541,382,846,960,154,468,1094,272,165,394,629,831,903,923,362,693,1250,1135,66,924,204,376,1083,229,875,35,18,103,105,168,18,659,534,285,482,1571,605,158,1573,127,343,289,1703,1482,907,491,287,1151,1024,1085,991,1052,1078,98,396,323,410,1750,1475,1836,283,539,440,397,204,347,1003,0,264,543,467,875,1116,1325,1313,552,335,50,593,268,382,443,576,596,115,356,10,1399,68,643,809,683,56,492,699,290,23,394,713,1063,1421,623,83,1563,777,83,203,938,1077,773,332,570,742,1420,1801,1693,31,1098,1765,887,760,486,2,202,90,469,86,1180,140,1100,194,440,1563,163,192,837,356,155,1032,40,1194,1179,902,58,1385,614,672,1088,499,157,485,571,431,499,563,944,1138,161,126,15,500,203,961,608,277,114,630,404,248,225,699,649,416,1310,930,835,664,460,778,225,785,1581,9,7,174,437,278,1288,979,56,913,282,322,1252,1128,606,655,954,68,134,922,1874,251,1362,281,224,778,546,397,386,214,461,125,335,342,625,494,1145,600,484,199,21,885,308,1015,1303,406,124,150,108,90,588,1028,776,278,897,651,1010,737,1399,376,1117,234,691,380,603,117,766,1499,1175,988,190,674,518,1618,857,371,73,98,395,1064,712,774,1012,730,777,973,245,937,937,574,678,82,398,1096,1419,157,430,1524,1649,254,1790,1438,1304,813,948,1161,867,181,754,242,405,1569,105,978,725,657,1147,910,295,26,332,519,161,1080,649,71,744,437,115,547,495,1466,117,760,764,776,53,371,728,1791,606,1225,419,367,1230,267,273,705,214,424,84,605,1175,657,371,833,102,1299,258,56,443,1279,313,523,919,570,380,119,296,358,1364,424,961,431,950,647,1960,116,306,808,94,380,593,1684,1221,410,600,189,308,148,297,1050,1191,1399,1658,1153,35,553,46,207,67,818,1257,138,11,889,831,713,527,1284,911,1047,123,406,927,407,1041,781,1191,103,125,919,536,638,639,496,686,1064,240,525,348,1262,1899,258,1188,730,484,547,800,347,679,1224,948,366,223,1619,332,167,782,881,91,487,120,1626,74,634,334,931,921,805,1057,616,740,542,344,211,79,887,670,383,718,144,1442,291,1352,209,861,426,266,523,40,262,623,4,1001,334,453,952,321,1451,1048,398,417,470,1217,298,36,85,655,167,212,617,271,159,786,46,645,1371,881,449,338,1332,119,256,428,1546,1210,789,390,110,1330,674,253,317,183,892,388,52,914,287,773,675,367,510,1325,1661,665,662,0,284,661,757,560,470,146,1315,533,560,405,227,479,227,149,88,114,662,441,888,664,64,747,956,776,652,1168,201,724,599,3,1652,190,1171,1081,1211,976,675,455,42,1196,503,1694,306,838,291,173,1017,698,610,223,206,1457,742,591,347,241,743,4,576,888,528,1222,915,868,336,483],\"type\":\"violin\",\"xaxis\":\"x9\",\"yaxis\":\"y9\"},{\"box\":{\"visible\":true},\"meanline\":{\"visible\":true},\"orientation\":\"h\",\"points\":\"suspectedoutliers\",\"x\":[756,1988,1716,1786,1212,1654,1018,1149,836,1224,874,1005,748,1440,563,1864,1850,810,878,1064,1854,1385,822,788,1245,1434,645,1075,1311,1263,1739,654,1152,1919,881,1249,815,1307,730,1613,967,1932,714,1456,1652,1810,1791,774,1433,1854,1832,1383,629,1287,804,1036,1449,820,713,683,969,975,547,1353,1570,1618,1858,1781,1225,603,1724,1217,1026,638,1413,1242,1071,778,1552,1486,1206,1616,1752,1122,1049,1894,741,1118,1203,1402,1924,1242,802,1105,1990,1179,891,1684,961,1317,1739,881,984,520,902,1504,1634,1796,1846,1869,1471,874,1974,513,1244,1661,973,771,989,1954,1338,1712,863,1376,1203,902,786,1965,1732,1398,829,792,580,1056,1264,1248,669,1686,1539,1042,1926,616,1131,1697,536,786,1269,1298,1967,1025,800,1359,1996,1013,590,1925,1989,826,1983,1545,1533,621,1272,1729,1071,974,1554,1611,1937,1942,845,627,842,1737,1199,1740,648,1136,1220,879,1065,831,1191,1631,588,500,1698,1299,898,1381,984,1533,1464,539,1179,751,1497,1215,1948,1542,1235,1345,589,1182,1052,1429,873,836,1478,1460,705,1666,1077,1020,1235,1516,1499,583,1958,1995,642,1178,1404,1040,1453,1677,517,1560,1226,1200,1647,1308,1615,687,637,1606,1543,980,1441,1383,1009,1754,860,1543,1108,673,1758,886,1485,1038,946,1462,654,1604,1882,1816,765,1398,1980,1559,1928,1529,952,1517,1741,1596,1564,1222,692,1617,1571,1247,1767,714,1935,1933,1509,954,662,888,527,820,1493,1929,764,1092,1891,1699,683,1664,763,572,1963,1489,1294,997,655,1458,1243,519,1767,566,515,1168,882,1942,776,564,1975,1212,1118,1388,1462,1130,754,1726,1876,709,557,1914,775,1910,1923,1370,994,1078,724,1104,1182,1795,1224,1442,1023,1361,652,935,1345,1292,1256,1364,1786,1429,682,1199,1688,1898,1438,1463,1584,1059,1253,1442,939,986,1029,1280,898,1381,1565,1299,1726,1331,1922,1038,992,1186,1920,1866,981,1195,1706,749,1711,681,1974,1510,814,1025,1247,1814,1233,642,721,1670,550,699,1138,1903,817,1126,1139,926,1506,726,1753,794,1161,1350,619,660,1468,1705,1476,1666,1026,1033,1529,559,973,1223,956,1797,882,596,574,990,1053,858,758,1495,1104,1352,1304,1205,562,585,1441,1075,1629,1975,1798,545,1657,1341,817,1058,1203,1744,740,1133,889,1719,1285,1850,1905,1158,1325,772,1743,882,1208,1050,1366,899,1224,1131,1884,1370,1497,867,681,884,1358,998,1989,862,1785,799,793,695,728,1940,1304,1078,1259,790,1594,548,1256,1911,1649,1264,1262,1972,1484,1090,1259,1439,592,1777,870,1106,948,1393,982,1586,1579,644,1157,539,750,1472,1337,1663,861,773,1313,1849,1613,1259,1151,1807,1763,1029,952,654,1827,1916,1924,1580,1942,1582,1234,517,1917,1759,939,1463,848,1803,915,1354,1143,632,899,1642,1450,1463,1013,1587,1665,1815,739,963,1508,1000,544,1627,759,1416,1088,1596,760,857,1100,676,658,1239,1901,1813,1578,1878,1864,1109,1171,1949,1722,1920,1809,964,1237,1082,828,1241,545,1710,1793,1463,1100,1951,1704,1897,809,1306,1771,1536,1509,1545,1987,1022,1337,522,1883,1787,910,781,1501,1176,1285,583,684,1838,904,1552,1854,559,1682,1383,655,1715,906,637,1230,1315,599,1302,727,1787,1096,1173,816,1970,1101,1654,1191,1089,1033,1781,901,1701,1308,1232,630,1184,1991,1256,1917,510,1511,1813,747,1947,935,1421,1652,672,1031,527,739,1596,575,1364,1478,1282,1353,1435,1651,516,1000,1754,1703,1935,1898,1832,721,1048,1873,1465,1477,1748,1383,1159,1630,857,1293,1162,1747,736,1418,757,1750,549,818,974,938,1505,1116,991,577,1374,1251,1747,1674,800,1016,1327,501,1621,858,1532,1294,810,811,1318,1655,1702,1013,1883,1862,1301,1605,718,699,1742,1558,766,1799,1658,1666,1998,1491,1891,1262,650,907,1234,519,1595,895,1589,1564,1384,1611,1733,1634,922,1291,874,1089,1604,1162,1648,910,723,999,1300,819,1238,643,1633,735,1226,1339,1445,1424,883,1452,806,849,1812,947,1605,1916,1895,1123,1409,1484,1005,1675,1724,1958,1930,1518,1704,589,859,821,1671,1865,822,1018,829,522,1009,1564,1448,896,605,1056,1330,670,1909,1185,1008,1642,1668,1482,1229,823,1326,932,926,1641,660,1051,1889,1982,893,1163,589,962,697,1312,1862,1469,952,704,671,1583,809,1151,791,1391,1336,1638,690,1073,643,1660,1395,783,1208,799,1145,1169,563,1360,1423,1152,1577,1181,1228,1523,867,774,1513,812,580,783,662,1081,697,1406,1001,1995,1500,530,832,1026,672,1267,670,928,1897,1382,1011,1929,1076,688,1403,734,1234,1159,1968,1165,1481,1569,1554,1876,1793,1367,1125,1913,1203,828,1155,618,1545,670,563,1293,1084,1723,831,1933,1980,1469,1514,937,1119,1556,1263,1819,1638,1435,1394,1197,1108,1956,1026,614,516,1334,806,1230,687,558,507,1670,765,1190,1744,1248,714,1973,1670,506,736,1019,674,1409,1420,774,1377,1517,1663,1538,511,541,940,1666,1659,1330,983,772,1366,1219,507,1735,1291,719,1915,917,730,1808,1908,1977,1452,1972,930,1190,1968,1165,1877,1997,671,1284,974,1759,1465,760,661,1304,698,1143,1782,1445,1261,1902,1782,1667,1040,1960,1394,1591,1910,890,864,1994,823,1552,1463,1910,1392,510,1427,1731,875,1348,616,1263,635,622,1767,653,1716,570,1813,1356,1553,1985,1471,705,1208,906,663,1916,1976,1761,1520,915,1768,1096,631,843,519,1152,1810,1682,739,1005,676,1595,1623,1178,772,1964,1413,1963,1795,1801,1992,1649,571,1746,1903,1055,893,877,1088,830,1805,541,1781,722,646,1309,1758,1079,1087,982,1191,1361,1055,1767,1626,1661,521,1247,1564,1515,822,1638,932,710,1883,1401,1383,1791,1432,1300,1090,1262,1637,1068,755,874,1531,1348,656,1434,1292,1983,1623,869,1555,1827,772,1764,1046,594,1896,1320,1687,1069,1170,1595,1347,1324,966,1538,846,1389,574,607,1636,709,882,1781,1305,1433,1352,1966,1178,1500,1212,989,1602,1263,728,1607,1490,550,1762,1455,556,1737,1229,1606,1239,734,1264,864,1014,500,1411,525,1967,1377,1843,652,797,1043,1418,565,887,656,874,1352,1195,751,639,1804,1920,1581,912,745,511,1011,1278,1344,1291,896,1892,1247,684,1109,1247,773,1019,645,1788,1422,1558,1858,1767,618,1037,1554,759,571,1469,551,1579,1838,1841,876,1079,620,747,1012,522,1499,768,740,807,1089,507,804,1335,1544,1378,1378,1923,1702,739,1796,1456,1884,707,898,1609,603,1723,1593,1988,1057,1032,1951,1473,1477,1106,741,1656,1134,922,627,1385,1145,1756,711,1899,679,1252,1387,1886,1477,1930,860,1539,1144,613,909,1743,1469,544,873,947,1389,798,519,1676,1651,1147,1011,1688,1613,1469,1738,1838,1261,1362,1461,819,1062,997,598,564,1316,1746,1694,1783,1524,1728,1678,828,1622,979,1052,1958,1310,1504,970,1931,1858,1528,791,1614,1409,1437,1472,1418,1004,1683,1892,1744,1163,621,1383,784,1066,1400,1766,846,1662,1520,1923,1773,501,1274,986,676,974,1309,888,794,1454,1654,1084,1210,1306,1206,603,952,1878,1285,568,1206,533,696,1850,640,1496,1378,1552,887,1769,855,1167,1386,1284,1517,627,1836,1356,941,1793,1269,1039,1182,884,1162,613,518,1195,1591,1345,764,1226,1552,1233,1827,865,1133,644,1156,967,1970,530,1781,1553,1227,1393,1893,1076,891,1273,1393,686,1708,1804,1376,1073,1340,581,1796,1709,1981,831,1267,1915,1681,1728,1156,1062,507,1039,1079,682,1007,1027,1527,935,1873,1619,1163,1144,1925,941,694,1496,870,1103,1301,1299,1713,910,1759,1250,850,1435,1923,1448,1877,1132,1957,1492,1473,1316,991,903,646,588,540,1004,730,855,512,1098,1717,1193,1657,1639,620,1431,724,1880,1591,925,1506,627,1723,1363,1134,1803,1897,1564,977,1648,978,1551,1857,1988,1873,676,1240,563,800,1021,727,1284,1987,519,703,675,925,1724,1945,1331,1802,679,1105,1327,1010,1364,892,884,679,636,1407,1567,1684,584,790,1988,1349,527,818,1492,804,826,849,1742,1205,1463,816,816,1692,1995,559,915,1226,1183,881,866,1645,821,1539,1923,1790,1536,1373,1786,1775,1964,1032,660,1787,1614,853,1546,1350,1046,1437,892,569,1803,1011,1311,1405,588,663,1776,1435,1727,1262,969,963,1780,1617,1088,1718,695,763,1399,817,542,1090,1055,1003,1491,647,1575,1196,1713,1771,1950,1970,1155,1849,738,1742,755,1234,851,895,1658,1420,1983,1175,1806,1583,1615,1545,1118,1713,1944,1294,1175,638,623,1372,1190,1931,1429,710,710,1963,1702,688,1459,970,1042,1197,1836,1976,599,1853,1159,1994,844,1424,891,1046,1970,833,675,1009,1641,761,509,1487,1042,711,679,832,1811,1208,1947,1814,1036,833,1677,1963,557,1809,1196,1247,584,1103,700,1684,1759,1646,1288,1330,1947,1028,1550,1483,681,877,1952,1578,1503,1905,1375,1374,1916,989,665,583,755,1853,1540,1726,939,1040,1148,1090,1633,829,1083,1164,1171,1630,512,1775,1570,1698,770,1207,1848,1829,954,1988,1832,1673,1180,1007,1288,1258,1199,1532,1127,742,1763,1099,1986,1882,1657,1393,1566,503,508,764,533,1029,1289,1290,1686,1244,1113,1111,957,1035,1717,1115,1722,1873,1005,1504,1702,818,1896,1316,1717,736,1264,1263,1161,891,1905,679,1032,793,1429,1586,938,1023,1441,1195,1935,1889,1150,708,1793,712,565,1482,1021,682,529,839,614,1851,1639,1030,1727,1739,1849,1963,1432,538,1517,1334,877,732,1746,1415,1643,1211,1411,591,742,918,1726,1882,1663,1794,1817,510,874,908,1177,1924,1006,1411,1371,1020,1635,1709,1854,1393,1643,1220,1534,1477,681,1135,528,1430,1364,1839,1760,1227,1343,1656,1831,1087,1804,1418,1985,1414,704,730,1520,1904,789,1948,751,1238,1852,1455,513,1231,1676,1205,1234,1777,1962,970,909,951,1129,1317,722,1429,1913,865,1079,1079,1811,1351,956,1931,912,840,678,1551,1608,615,893,1152,1249,1109,896,1904,1318,1775,725,1888,1629,642,542,1311,1436,769,1351,1176,896,963,1726,1870,1469,1123,724,520,844,1670,1037,642,1451,1255,990,623,1386,1769,1738,872,562,1275,1677,1382,790,534,1814,1531,823,1254,1879,1989,1211,756,1317,1686,1455,590,1805,661,1603,605,539,979,593,1353,1163,1985,980,1800,1836,718,997,994,1036,1951,1912,1177,775,822,1710,1696,1633,1141,610,831,509,1022,709,819,874,1721,1466,711,745,1247,1010,1397,1933,1179,582,1127,1299,629,1983,657,1673,1979,1396,1353,742,537,807,1651,986,1798,558,885,651,1219,1289,1018,1437,737,1167,1919,999,724,957,854,1426,743,1809,1099,1416,1890,1965,1632,670,754],\"type\":\"violin\",\"xaxis\":\"x10\",\"yaxis\":\"y10\"},{\"box\":{\"visible\":true},\"meanline\":{\"visible\":true},\"orientation\":\"h\",\"points\":\"suspectedoutliers\",\"x\":[2549,2631,2603,2769,1411,1067,3220,700,1099,513,3946,3826,1482,2680,373,568,3554,3752,1835,2337,2819,3283,1433,1037,2583,2782,3763,3286,2373,478,3532,508,2227,3845,1262,1326,2113,3429,3169,2150,2484,3339,1878,1629,504,1152,3587,2296,1270,3238,2059,2053,3112,1440,2908,2552,905,3963,2056,2910,1457,431,470,2148,2955,3366,3068,3834,1050,3993,3378,2192,392,3709,590,1814,907,1449,3448,1837,3464,2593,3484,2009,2048,837,854,3210,2746,2334,2822,1971,1410,349,1418,3616,880,1601,1412,1692,2600,1308,2413,1047,1204,1799,2676,2597,3029,2343,2016,2213,790,3182,3472,2871,3187,1945,488,1214,2598,3242,3534,3426,2488,3255,2863,1496,3801,666,3799,1366,2962,2399,2338,2700,2235,3825,284,1427,1324,398,3685,2390,278,3556,2196,3799,2268,2965,2341,3557,1354,2147,505,1394,374,506,3702,1078,2945,2981,490,536,2317,3704,2126,2050,2462,1260,3770,1886,3323,2060,3926,2177,728,2478,2842,1617,1472,764,2337,3965,3693,797,1687,2940,1545,3834,2505,2243,3600,3971,2844,2227,1665,3355,1866,1287,1046,1441,690,2504,2677,2243,2984,1362,3629,3559,2571,2107,1022,2844,711,3117,978,1869,1179,3844,593,588,3836,2669,2958,3031,3388,2377,2458,2766,3054,3791,625,2227,3256,707,1457,3755,1733,720,3560,2311,3846,1717,3704,3800,278,1767,1846,829,2986,2394,2169,1181,575,2977,532,1702,1074,3352,1027,2039,461,527,3271,606,2513,1675,2698,1129,468,1210,3086,1595,2332,2589,3760,1851,417,294,3576,3945,927,2044,2334,1477,3161,3660,1604,2211,3822,3922,1203,2822,447,1652,3608,1228,666,1499,3321,1206,952,3927,311,955,1109,2969,725,1655,3490,1774,3615,714,2768,3739,610,715,663,1725,834,3865,3059,651,796,785,3252,1322,2832,1615,2125,990,1595,1213,2500,2801,3451,1201,3139,1938,3185,2111,2369,3625,1051,1036,2938,2855,2727,2973,2581,2690,916,2563,3359,941,2280,827,473,3865,1274,364,3699,2927,1470,1050,2616,2915,2686,1243,3264,2261,2993,706,2542,2523,336,2457,418,3917,1246,2971,2324,3121,3801,3333,3475,2360,2895,3652,3097,2101,3918,3869,732,3684,3969,1414,1892,3131,2532,3215,3323,1529,2403,3419,3648,1974,2806,2239,582,3890,1141,2511,3838,2734,2330,2244,1851,808,1587,2492,2122,1122,3709,3021,624,3937,1797,1458,3348,1834,2775,1277,457,438,3210,985,3701,1052,1175,1070,3411,1175,301,489,1733,2756,2612,1724,2190,1900,3915,1043,3817,2362,1107,2982,2042,1343,2610,2335,1614,1138,604,3652,3955,258,1066,1731,3860,3630,1965,1459,2323,3291,3272,918,3488,3961,590,3701,463,3644,1713,429,2765,2084,1125,2048,1223,3672,3100,343,1970,2728,3635,2180,2488,3864,1155,3566,864,869,591,1333,2208,2610,2819,1955,3416,3803,574,2129,1948,2978,1619,3716,3454,3777,2712,1434,3968,3383,3278,3970,2674,2776,2336,2430,891,728,3886,1711,2856,2447,814,2951,3653,1891,701,3139,2811,1701,1853,2445,2287,2003,3595,1726,3952,850,1446,1300,719,988,2606,2912,2339,1028,3173,1667,1897,1214,3269,445,1073,665,3129,3501,3461,3206,3717,3917,861,2885,2777,1017,980,2775,3309,3607,1257,759,3720,475,1122,1336,1185,705,3169,3483,1183,3373,2801,565,3153,3421,316,448,2366,3881,462,1480,1087,2711,2144,1165,2998,2249,752,1409,3072,1305,3597,3132,3856,1524,3673,3293,3035,584,2675,2382,1391,2346,606,1324,1076,643,783,3809,2104,1762,3137,1756,3663,2437,1432,1620,1655,2832,961,2608,514,2304,933,1896,3655,1973,3278,2183,824,2598,1254,3622,1704,1624,3809,2574,950,273,446,1510,1122,707,751,3393,3771,1851,2735,2253,452,1419,969,3441,3786,2710,3533,1735,3587,2298,2027,2406,2419,995,2078,1145,626,1509,3371,297,3508,2385,1301,2167,3914,2312,2297,411,665,3226,740,3878,3406,2440,3959,3703,3714,337,3176,1205,2473,1229,2896,2039,520,1378,3254,1803,2501,3762,1796,990,2630,1380,3487,1201,3015,3204,433,1906,898,2799,2020,770,305,2953,1671,2574,3772,2870,2577,2246,2405,3377,3619,1184,2965,3713,3798,1026,1086,2236,1303,3048,616,3764,419,2858,504,392,820,3387,3447,1403,2295,1973,3755,2073,3872,302,1519,2549,404,595,1663,2764,2614,1094,2826,2496,2103,966,2172,905,3916,3902,2487,3914,363,3233,2532,3836,3076,1513,1724,542,3481,3991,1790,509,282,3006,1913,1333,3746,3941,3970,3925,424,1284,277,1713,485,3002,418,1652,2893,1406,629,3724,3835,1354,2376,3438,2655,3361,3535,2150,2587,2736,676,2941,3336,3796,3654,2934,2889,3315,1993,2509,3534,2246,3165,286,776,3213,716,424,3486,3237,1944,643,2317,1436,3190,2338,1334,3657,2080,1609,3078,590,2552,3355,1968,3358,1539,942,3669,3612,2351,604,1285,515,654,2540,3869,3412,509,2547,2735,1369,2942,2812,3497,619,3483,1475,1950,3592,3573,2020,1329,3568,1947,1998,725,3302,3884,1185,1656,2870,911,3892,3897,656,606,1653,860,2197,3458,2066,3676,1518,1018,1360,3449,2524,703,1251,582,1732,1252,2146,1927,3328,2462,1172,3598,2437,3271,1511,2981,3119,3647,3148,2829,2373,3998,316,999,1808,589,3317,670,584,2173,1561,2073,1401,3764,1275,1464,2885,3458,3019,1083,3538,2493,3726,1531,601,2991,3912,309,323,1489,1322,1846,417,3269,3731,667,1241,3941,1018,3142,1444,934,3863,3506,1944,348,550,971,3984,2973,2019,1587,1870,1352,570,546,3624,2944,1209,2752,3868,3087,947,1484,347,3227,3299,1028,714,2641,1229,2622,929,1211,1653,511,3034,1414,2438,3744,1377,3520,3796,1699,336,1095,325,1223,1649,1898,2609,2265,2775,1445,2614,356,523,3745,1229,1402,2085,587,2457,2030,816,1667,2958,3705,2800,3773,2050,1754,1904,2705,3537,1370,1222,3102,2268,2648,2173,3162,1368,2746,619,724,912,2784,793,560,312,545,1591,2746,893,2514,1032,819,3672,3833,1482,2043,1229,1816,2166,2469,2575,1375,1732,673,2301,2676,1781,2248,921,391,1719,3262,1947,2693,441,1886,1267,687,2890,1737,887,398,2389,3431,3601,2459,3230,3646,2200,3862,3077,621,2372,2574,2857,3143,3197,2727,1519,2438,2674,2107,2262,815,2829,3022,2573,2678,1282,568,2074,2227,1080,2867,1075,3063,2479,2394,2814,2094,2315,2519,735,1891,1386,3260,2022,1716,3317,1454,2290,3940,461,2219,470,2495,2944,2361,1783,2832,931,1344,3916,1882,2865,757,3469,2399,3300,2719,3012,2836,2385,594,2968,3762,892,467,345,3033,2110,3105,874,3681,3865,737,3153,2800,315,1412,2286,2392,1857,1419,3305,959,2635,1754,2563,1936,1869,3637,896,2349,774,3397,485,3964,1887,2977,2114,1542,3038,2481,841,3565,1958,2454,3392,262,530,3703,2562,574,2632,259,688,2554,3859,2977,571,402,878,2130,3260,454,2638,2819,1464,1824,876,2706,659,455,2378,2278,3436,3424,401,681,3212,3105,2036,3153,1642,509,3465,3900,1105,2064,3117,1142,1060,2381,3366,1339,2560,285,2476,1862,3488,3178,733,756,3622,1277,3703,1905,2636,2014,3056,465,3869,1108,1906,851,3142,1300,1430,362,2456,2360,3700,2620,437,3774,1218,696,3407,3902,2086,1356,1704,3571,2132,3209,2096,1273,3623,368,854,3646,3130,3784,3885,1494,2973,1471,2001,1486,1321,1877,3499,2124,1221,2316,1068,1930,1316,1742,3265,2700,2115,3915,3144,1571,2253,1433,2583,1817,2915,3340,2790,577,3220,3488,1277,3593,2736,2311,1464,1355,2382,1886,832,751,436,722,1075,2802,1780,1247,3066,403,2518,1069,2651,2974,657,3372,1464,1326,3393,323,1628,2610,3721,763,792,1568,1276,3472,2520,3423,258,1868,2171,780,712,1012,318,3948,629,1161,1403,3707,1305,2926,2674,471,1724,1220,2754,594,1005,2439,2302,1083,2219,1571,2107,593,857,3518,1284,545,3566,2821,3442,1309,1179,1713,1663,1812,1384,1348,3957,1212,3925,348,1382,980,838,378,909,3632,3396,1861,348,2528,2190,663,961,1280,2189,531,2331,794,2644,1666,2157,1196,2072,1590,2916,3707,726,3577,2627,685,1693,2137,3696,3771,1342,1379,1164,908,1019,3685,1470,2299,999,3011,3142,1543,3692,2753,2156,2637,331,1214,2248,3073,422,2293,3958,432,1152,1303,797,298,3847,2110,1921,2423,1658,2361,1380,3892,315,2289,2182,2184,2872,2367,1919,3296,462,1591,1593,2456,2933,3154,3615,3563,1440,1907,324,1404,2738,2722,2294,1424,1133,555,3785,3675,435,3183,3495,1853,2648,2647,702,1836,3894,2944,3424,2678,2424,2671,3078,2304,1146,2335,1422,2096,1303,1115,456,3396,2750,941,2278,2273,2355,2328,2638,558,1345,425,2192,3397,1208,267,3518,3122,1050,3358,2929,624,1598,2052,1249,412,595,263,2577,639,3206,1550,1646,1930,3695,3235,2334,1998,2258,1869,1825,3946,436,2678,3887,1813,817,3614,2013,543,3400,2623,2700,1400,3127,2803,2518,3564,2515,3654,3930,3476,3242,2666,1695,3510,3438,2033,1017,1686,862,957,3494,3083,1656,313,3282,3629,1687,1149,3899,1783,1629,2528,3256,2341,2785,3761,1513,2240,820,1875,920,3615,1412,361,1540,1077,3610,512,3024,1610,2201,3338,3473,2203,940,1155,3872,1882,1798,2598,1567,1491,2003,3905,291,1693,1788,3322,1751,1641,2854,3115,3259,1612,2319,1258,1543,3991,3555,3411,524,3541,1998,3437,1637,3064,2855,1393,1633,2392,3284,464,1234,292,2521,2658,587,2190,879,1743,1181,3330,3564,562,1659,1816,1338,2992,315,3249,3242,2725,586,2454,804,2460,1295,2625,1999,2698,3742,1193,3511,885,1044,2548,2940,3966,3484,1246,2757,2378,1794,3933,1637,783,3094,1774,256,1365,2339,2049,3241,867,2175,3497,609,3285,3684,3586,2322,354,3204,1400,2308,1082,3104,2847,2256,1113,3210,3990,984,3117,1622,2967,1037,2908,1167,2715,1734,2259,2921,1244,3132,2488,1052,2927,2090,2131,3362,1053,1799,3124,1672,1552,1938,3202,1302,2296,575,2359,3314,440,2002,3167,3480,595,2466,1337,1462,503,2066,708,2029,308,552,2082,3314,3996,1795,594,2473,690,3845,2004,2083,2661,1903,2466,3779,3904,265,1417,1769,2948,2572,3267,1459,1633,2052,1086,2402,3376,1507,641,3451,1607,3521,1241,881,2563,3033,769,3454,819,435,586,650,3038,3736,2948,739,686,841,1183,3943,1037,2633,3911,1958,3297,3141,3351,2355,1308,991,3248,1519,493,1747,2517,1389,2522,1885,704,953,3206,928,2177,2610,489,3839,1861,299,340,3606,799,2367,445,3927,3756,770,1641,2343,2787,2495,3208,1234,1069,3568,3585,1974,2419,340,2282,298,968,2391,1534,696,2782,755,3746,2651,1341,2651,1824,1905,1456,3155,773,1829,3883,1675,1601,1958,2376,1647,3548,2694,2195,2506,2073,3767,1150,841,1675,1301,1817,2321,1974,3433,1205,872,2052,3654,1503,3104,343,3430,2470,1396,2668,1457,2452,1871,1112,967,2498,387,635,2711,2023,2215,824,3851,2156,2885,495,2358,1744,1832,2016,1300,2313,3248,2216,3142,1850,1424,1620,2592,296,3579,1180,3962,3978,668,2032,3057,869,3919],\"type\":\"violin\",\"xaxis\":\"x11\",\"yaxis\":\"y11\"},{\"box\":{\"visible\":true},\"meanline\":{\"visible\":true},\"orientation\":\"h\",\"points\":\"suspectedoutliers\",\"x\":[9,17,11,16,8,17,13,16,17,19,5,14,18,7,14,17,10,10,19,11,17,17,11,8,11,18,16,17,10,12,17,5,18,7,12,10,13,6,6,18,18,18,15,15,9,8,10,16,15,16,5,19,12,17,6,14,14,9,7,15,14,15,7,14,10,18,9,16,11,7,13,9,15,11,9,5,10,11,17,8,19,14,9,10,11,15,16,13,9,10,19,18,16,16,19,13,19,18,14,6,16,16,17,14,11,5,12,18,19,19,16,18,13,8,9,12,12,15,5,5,12,18,10,5,13,19,9,6,12,12,17,7,12,10,12,12,19,12,12,9,17,17,18,12,19,18,12,16,13,13,10,16,16,19,12,16,18,10,17,8,10,15,7,17,16,17,18,7,12,9,5,17,9,19,16,7,14,14,16,17,14,19,6,16,17,13,11,13,9,17,15,12,17,18,7,18,17,15,11,13,5,7,14,6,19,11,13,5,19,18,11,15,11,14,9,18,5,13,16,11,19,6,12,12,14,11,6,18,19,7,14,11,17,6,9,19,18,7,9,12,11,7,10,7,8,8,16,18,12,9,7,17,6,13,15,6,12,17,14,9,6,5,7,10,14,9,10,18,9,12,19,19,17,8,17,19,9,8,8,13,17,11,19,15,11,12,8,7,14,7,14,11,14,15,15,5,15,8,19,12,5,7,19,5,18,18,13,8,11,7,16,12,13,18,19,14,8,18,13,14,16,12,6,9,13,10,16,15,7,11,17,6,14,5,17,18,15,14,14,15,8,18,7,17,13,17,6,5,13,12,15,18,13,19,10,8,17,15,11,10,18,11,17,14,13,6,18,8,11,19,16,7,5,12,10,17,13,11,9,13,8,12,10,18,10,17,19,17,7,16,5,10,9,19,14,9,12,12,10,8,10,18,13,13,9,7,9,12,7,13,15,17,5,6,9,10,19,14,15,11,6,16,15,12,14,12,9,8,19,5,18,5,13,13,17,17,15,12,15,8,16,8,12,12,13,15,5,11,8,5,16,16,9,6,8,17,7,14,17,5,12,15,17,9,16,14,19,11,11,9,7,9,6,6,9,11,18,9,16,16,11,15,14,15,16,9,13,7,17,6,8,5,17,11,16,6,7,7,6,13,7,17,9,19,9,15,12,18,19,9,14,7,5,13,13,18,7,15,13,7,7,5,16,16,8,16,14,19,10,7,18,13,14,7,14,16,11,7,7,18,17,6,7,11,17,6,15,8,7,16,8,5,17,8,14,11,13,11,19,14,9,17,6,9,8,15,6,18,17,13,6,12,11,15,7,19,9,12,13,14,15,12,16,9,15,7,9,8,11,11,14,10,14,11,6,18,9,16,15,18,16,14,6,6,17,8,13,19,5,14,17,16,7,12,14,8,18,15,12,8,12,17,12,9,19,13,6,7,16,17,10,17,7,5,12,6,14,14,12,17,18,5,16,6,7,7,14,14,7,12,6,8,15,13,15,7,17,15,17,10,17,17,16,12,12,19,7,12,15,15,7,17,13,12,15,19,17,13,16,7,14,17,11,13,8,7,5,19,10,15,13,13,13,16,13,11,10,9,14,8,10,6,11,19,5,9,10,17,19,16,6,18,16,5,12,11,10,18,12,5,16,15,16,14,18,10,15,12,6,18,10,17,16,5,6,12,11,9,6,12,17,16,9,8,15,5,14,6,15,8,19,13,18,8,12,10,15,10,7,6,14,10,12,11,14,15,15,10,17,7,9,18,18,10,18,18,14,9,7,10,18,13,19,5,17,19,8,11,13,17,9,13,16,15,7,11,11,11,10,15,19,19,10,6,12,18,10,6,13,7,5,17,11,10,12,6,11,17,8,14,5,16,15,15,5,17,12,16,17,9,7,9,15,13,6,10,18,8,5,17,9,17,18,14,5,14,7,15,11,10,12,19,16,14,6,16,5,16,18,17,16,16,10,13,19,12,12,7,19,16,9,13,8,10,5,5,16,17,17,13,12,10,16,9,11,10,9,5,17,11,11,7,17,6,6,6,5,12,11,11,17,15,5,19,14,18,12,14,7,11,14,16,7,12,12,16,17,15,5,13,10,13,6,8,6,11,17,10,15,12,9,19,14,17,7,9,18,18,11,11,6,19,16,12,18,8,16,11,12,10,16,19,14,13,17,13,9,11,6,18,14,8,12,7,8,11,8,9,10,9,7,8,19,17,17,12,19,17,19,7,16,17,14,9,14,12,11,17,17,10,9,17,5,7,12,12,8,19,15,5,16,11,9,17,12,13,8,18,8,12,16,13,15,7,9,13,6,13,11,5,7,17,17,14,14,9,19,6,12,12,5,9,17,5,5,5,17,6,14,13,8,19,7,16,10,17,6,11,11,7,17,12,17,16,16,13,6,7,7,7,19,14,10,7,17,16,12,7,9,5,12,19,15,9,16,10,8,15,14,15,7,16,17,10,18,13,15,6,10,15,17,18,16,14,5,19,16,15,8,15,19,17,6,17,8,18,16,7,15,14,14,6,15,18,17,17,11,14,14,17,17,14,15,9,14,9,13,16,16,13,13,16,16,11,12,8,9,10,5,12,17,9,19,13,8,10,13,7,19,7,14,14,7,7,11,13,17,17,15,6,10,8,16,17,13,11,17,13,14,11,12,5,18,12,19,14,6,11,12,9,12,15,17,10,9,9,14,15,19,8,14,8,8,14,13,19,17,8,10,12,17,17,17,18,7,8,11,17,10,15,7,10,13,8,6,10,17,15,11,18,12,9,14,12,14,8,13,5,10,7,12,10,19,11,15,8,14,16,8,13,11,19,16,7,11,16,7,14,9,17,15,16,19,5,19,15,7,5,16,9,15,16,18,7,13,19,13,12,14,7,17,7,19,17,16,6,9,15,14,17,14,13,16,12,11,18,12,16,12,14,8,11,14,8,16,13,7,10,7,14,11,15,14,12,9,10,15,6,16,18,13,13,19,9,5,8,10,12,13,11,18,11,13,11,15,7,18,11,6,18,19,6,13,8,18,14,13,8,9,16,17,10,6,15,6,17,8,19,14,17,14,9,14,12,17,7,6,6,16,7,19,10,6,7,8,12,19,11,11,19,18,14,15,7,18,15,7,6,17,9,8,16,17,17,14,19,10,8,13,14,16,19,11,17,7,11,18,16,11,16,19,6,17,7,8,12,9,19,17,12,6,12,16,9,12,18,9,12,16,17,19,9,13,18,12,10,16,9,5,19,11,17,12,8,17,12,13,14,11,18,17,5,13,7,11,16,12,10,8,7,18,18,11,7,15,8,10,10,12,16,5,11,17,18,15,6,11,9,10,16,17,15,18,19,13,12,19,6,7,13,7,13,13,13,8,11,12,19,19,7,5,12,6,8,8,6,8,8,18,9,17,15,17,14,5,7,10,7,13,7,5,12,17,18,11,19,7,16,14,5,17,17,15,14,10,18,12,8,18,14,19,13,12,9,5,17,15,12,14,19,12,13,19,13,9,12,15,15,18,6,6,5,15,17,16,12,14,6,15,13,8,17,17,8,8,16,7,15,19,14,12,7,7,11,17,10,9,7,17,16,17,19,6,17,6,10,7,12,17,6,6,8,17,10,12,7,12,10,6,8,16,14,15,11,8,16,17,9,11,10,19,18,7,14,13,17,11,18,5,13,14,14,16,11,8,7,6,13,8,8,15,16,19,15,8,5,13,8,11,9,10,15,13,15,10,19,16,16,18,16,6,12,6,13,5,6,11,17,18,7,7,14,19,10,16,16,17,15,16,12,6,19,11,13,18,12,14,10,7,10,17,5,17,18,12,5,17,9,18,9,11,17,7,16,9,18,10,15,7,19,8,6,15,6,18,16,7,16,14,12,17,11,12,16,15,16,19,10,15,19,9,17,10,18,15,15,11,13,16,16,11,8,6,13,17,11,12,17,18,18,7,7,6,12,12,18,9,19,12,14,8,14,18,11,11,15,19,19,10,18,17,11,15,17,9,6,14,10,14,17,6,18,7,15,12,5,15,17,14,8,14,17,8,11,15,5,7,13,14,16,5,17,10,19,13,13,12,15,13,6,14,17,14,17,10,5,12,19,7,9,17,10,19,6,15,9,12,7,16,10,5,15,11,19,9,8,8,9,5,8,10,10,12,16,17,15,15,5,14,12,7,5,9,5,15,15,9,6,18,14,19,17,10,12,10,17,18,14,8,18,8,13,5,13,6,16,13,7,7,6,12,14,5,14,8,13,18,7,16,17,10,10,14,18,16,12,12,10,9,17,8,6,16,10,7,11,10,8,17,14,7,17,10,8,11,7,7,16,10,14,15,17,5,10,6,12,6,14,7,18,5,17,19,15,13,16,9,11,17,18,12,14,10,7,19,12,14,18,5,5,9,15,7,9,13,8,10,7,17,6,12,7,9,9,10,6,19,7,11,15,12,14,19,13,8,10,13,14,17,15,17,9,19,10,7,8,15,10,6,15,13,10,14,13,9,16,9,15,9,12,5,19,6,15,17,13,11,9,18,19],\"type\":\"violin\",\"xaxis\":\"x12\",\"yaxis\":\"y12\"},{\"box\":{\"visible\":true},\"meanline\":{\"visible\":true},\"orientation\":\"h\",\"points\":\"suspectedoutliers\",\"x\":[7,3,2,8,2,1,8,3,1,10,2,9,0,1,9,15,9,2,13,1,15,1,5,7,0,9,1,8,1,7,11,1,5,0,1,4,7,5,1,12,2,10,0,12,3,3,5,12,3,13,0,12,5,8,0,7,11,4,5,13,4,6,0,2,4,8,4,11,1,1,11,7,6,0,2,4,7,7,13,7,10,11,6,3,5,9,0,3,5,1,3,7,10,10,17,5,4,17,3,2,8,7,14,10,4,2,6,1,17,13,4,13,6,4,1,1,9,4,3,0,9,11,4,4,5,14,3,4,0,10,7,0,9,5,8,3,4,11,9,1,0,0,17,11,0,12,6,1,5,10,1,11,7,1,2,10,4,0,0,0,5,6,1,14,4,16,9,6,8,2,3,4,1,6,12,5,8,8,12,4,7,12,1,1,14,2,0,9,5,7,4,10,9,12,5,10,9,2,10,4,4,4,6,4,15,7,4,0,15,17,0,9,3,9,5,5,3,1,7,8,17,5,11,10,11,6,4,8,16,2,10,10,6,5,8,8,12,1,0,2,1,6,1,1,6,3,3,15,5,0,1,9,5,5,9,4,8,0,8,1,3,1,3,0,0,3,8,4,6,1,13,15,6,4,13,11,5,2,4,9,16,7,10,5,5,0,4,5,3,4,3,1,12,5,13,0,1,6,10,8,4,1,3,3,5,11,1,6,10,6,12,0,0,2,2,1,1,5,12,5,0,10,5,6,3,7,0,11,1,6,15,1,0,0,1,15,1,12,7,11,4,7,0,1,10,4,0,0,3,5,11,16,10,17,0,4,14,9,1,7,7,1,11,13,0,4,8,2,7,18,1,6,1,9,1,16,11,7,7,11,1,8,6,2,6,15,3,16,6,1,0,7,2,18,1,7,8,1,0,3,5,0,12,8,2,5,0,10,2,9,7,10,2,3,2,1,5,9,13,7,5,14,1,6,2,2,3,1,5,1,16,2,8,6,10,0,7,11,8,1,0,1,11,9,5,11,3,3,2,1,12,8,8,2,7,2,3,9,15,1,3,7,12,8,14,10,4,9,1,5,5,7,2,1,8,2,0,1,2,14,3,9,6,10,4,4,12,1,10,0,0,1,5,8,8,0,4,4,1,3,1,6,8,13,2,6,11,14,17,4,6,3,3,9,1,7,1,13,8,2,2,0,12,5,6,8,8,17,4,4,3,5,10,3,3,2,7,0,1,3,15,1,6,4,14,1,1,7,5,5,6,1,2,7,10,5,6,10,9,6,4,6,2,8,7,14,4,5,6,11,3,6,0,5,4,7,2,7,9,4,3,10,10,3,7,6,3,5,2,3,9,1,3,2,1,12,4,2,14,17,8,10,3,1,16,2,12,6,4,3,8,5,3,8,5,7,4,10,1,4,7,14,11,0,13,12,0,3,8,1,8,16,4,3,1,3,10,0,9,15,0,0,6,0,4,1,0,10,3,9,3,3,5,5,9,0,13,13,12,1,9,6,13,10,9,2,3,7,6,3,2,4,6,11,1,1,12,1,14,0,11,5,5,10,7,6,3,1,4,11,9,1,8,9,12,10,3,1,6,2,0,4,10,16,1,5,4,6,3,3,2,7,11,3,11,6,2,15,0,4,12,9,6,11,8,1,6,3,1,13,7,13,8,3,0,1,8,5,1,4,8,0,5,1,0,1,8,2,7,3,10,5,14,7,3,3,6,7,4,2,4,5,6,3,11,8,11,2,14,1,8,5,6,8,5,4,0,3,0,5,0,6,8,0,14,10,1,9,12,13,5,3,14,3,4,8,2,1,8,2,12,1,9,4,7,0,0,2,1,6,3,13,2,3,7,5,6,4,5,12,3,15,8,13,1,12,2,10,0,5,5,1,0,12,4,5,8,6,2,7,0,2,17,11,0,4,6,14,4,5,8,12,6,2,0,1,2,1,7,3,11,11,1,2,8,5,7,3,12,12,1,5,7,4,0,0,13,2,5,8,3,3,15,6,5,1,7,3,4,4,2,6,3,0,1,2,4,7,3,0,0,4,3,16,2,7,10,10,2,7,1,2,5,9,8,11,10,12,2,11,8,4,4,5,4,10,4,9,7,11,2,2,12,8,3,4,11,7,5,9,3,10,12,8,6,0,3,9,3,5,7,14,9,7,4,11,4,6,4,1,12,5,0,5,7,2,4,3,9,2,0,0,6,13,8,3,6,1,3,4,10,12,5,4,9,8,10,14,8,4,4,2,1,6,6,11,6,12,2,1,4,4,7,0,6,4,4,2,2,0,3,6,10,5,0,6,1,11,1,3,4,10,10,8,12,1,12,1,4,11,3,4,16,4,3,0,1,0,10,5,3,13,0,2,0,1,4,6,9,2,11,8,3,13,3,2,0,5,5,3,18,5,4,4,3,9,6,3,1,2,0,0,5,6,12,0,0,2,13,7,5,11,16,1,6,10,3,2,3,9,8,3,8,13,2,3,15,13,3,1,11,4,0,1,5,6,8,3,6,4,1,1,4,14,10,3,4,12,3,14,12,9,8,4,2,3,12,15,6,10,5,12,5,9,11,1,2,0,4,11,13,2,11,3,0,1,0,6,13,1,12,11,5,1,3,0,11,4,6,0,0,7,11,3,7,5,10,1,1,6,2,4,15,10,2,4,5,7,0,0,10,13,11,6,8,5,8,3,3,3,4,2,6,5,1,8,15,4,6,7,7,16,7,4,0,5,7,6,1,4,6,6,8,5,1,5,9,7,9,15,11,6,0,8,4,4,1,1,2,1,6,7,1,10,12,7,7,5,3,1,8,16,13,3,9,0,5,9,2,11,3,13,2,0,18,7,1,1,15,4,12,11,16,6,7,6,9,10,1,3,0,3,7,1,9,4,7,0,5,2,9,10,3,2,9,16,8,14,1,5,4,4,7,6,10,0,4,0,5,7,5,10,12,1,3,0,9,5,1,15,11,6,0,4,1,2,9,4,4,0,10,1,4,10,3,2,2,7,0,12,2,0,12,1,12,7,7,7,7,2,16,8,1,2,1,1,0,11,12,2,3,6,9,5,9,6,1,4,0,3,11,8,5,3,0,10,16,2,2,12,6,8,12,3,13,9,4,5,3,3,3,11,1,12,0,4,4,2,3,8,7,8,10,5,4,10,11,15,8,7,3,5,13,2,4,10,3,10,8,2,3,10,11,3,3,5,4,4,12,7,18,5,5,16,1,3,0,3,0,9,6,15,8,1,11,7,7,2,6,4,8,3,10,5,8,10,4,7,1,5,10,12,5,2,4,6,6,8,0,11,1,4,7,3,11,2,8,0,3,11,1,12,13,9,1,0,9,2,4,0,5,0,7,6,4,8,5,3,1,6,1,2,1,3,4,1,2,0,9,2,11,9,8,5,1,6,2,3,9,2,3,10,6,7,9,11,4,3,11,2,10,15,14,10,3,16,6,7,4,3,10,10,0,2,0,4,10,0,13,15,11,10,17,11,4,5,10,2,4,1,4,0,3,16,2,8,2,1,8,4,4,16,10,4,5,0,0,13,15,13,10,3,0,9,11,4,7,0,6,2,11,0,5,16,0,9,2,0,7,5,1,7,4,1,2,1,5,6,0,6,13,1,12,7,7,6,16,3,0,7,9,17,2,8,9,1,8,11,4,6,4,3,9,3,1,0,5,3,4,4,1,2,17,5,7,4,12,6,8,6,9,10,1,6,6,18,8,2,8,9,1,8,1,7,2,0,0,16,13,3,5,10,14,2,6,7,2,2,2,4,2,9,4,11,7,10,8,7,0,1,9,4,14,3,4,2,16,3,17,2,1,3,6,13,4,4,4,2,5,13,0,5,0,3,1,2,1,0,4,1,14,10,7,8,3,7,0,1,10,8,8,14,5,15,11,9,8,3,13,14,1,7,1,0,15,10,2,12,3,7,0,3,1,4,8,7,3,2,8,11,3,4,10,3,5,8,9,8,4,1,7,10,5,7,2,1,1,3,9,4,0,17,3,3,4,3,9,8,12,5,10,0,4,9,6,1,2,10,11,9,0,13,8,8,1,7,0,8,6,5,10,8,8,16,0,3,7,18,3,0,5,5,17,1,10,7,9,3,6,4,2,1,8,15,7,4,0,3,1,0,4,1,3,5,9,3,10,3,7,10,0,0,1,2,0,11,0,3,14,11,13,11,3,9,9,0,0,8,3,1,6,10,3,0,4,0,6,5,5,2,9,7,0,8,6,0,9,0,8,8,5,9,5,11,15,10,2,1,4,3,5,2,5,0,3,7,8,3,5,1,2,12,8,7,9,4,6,14,1,1,5,13,2,1,2,6,2,7,0,3,0,7,1,5,3,3,3,10,7,17,2,12,9,5,6,2,4,3,4,3,5,9,2,1,4,6,0,5,5,5,7,5,3,1,0,5,14,5,1,8,5,10,17,5,2,1,6,5,7,7,13,3,18,3,3,4,6,5,3,8,10,0,1,3,5,6,4,12,2,8,3,8,3,11,16,4,10,1,10,4],\"type\":\"violin\",\"xaxis\":\"x13\",\"yaxis\":\"y13\"},{\"box\":{\"visible\":true},\"meanline\":{\"visible\":true},\"orientation\":\"h\",\"points\":\"suspectedoutliers\",\"x\":[19,7,9,11,15,10,18,5,20,12,7,13,2,4,3,11,19,18,16,18,3,15,20,20,12,7,4,12,10,10,12,6,3,12,15,15,2,4,2,11,11,19,4,14,12,20,3,12,5,10,15,16,10,12,18,13,17,20,4,9,20,6,15,5,19,13,4,8,4,7,2,13,4,12,6,13,17,6,10,16,6,16,11,11,17,4,7,4,8,11,16,14,5,2,12,12,8,14,18,7,20,11,15,18,8,11,11,14,9,14,18,7,3,5,20,13,4,10,9,14,6,4,6,17,15,9,18,7,7,13,7,20,4,7,20,9,4,2,4,9,17,5,17,5,10,16,19,4,4,15,20,12,19,11,3,6,8,11,19,10,16,7,4,4,7,11,7,12,10,17,13,20,7,12,20,13,4,20,2,19,7,15,17,6,16,15,18,2,10,13,15,6,7,10,18,3,12,4,14,16,13,13,6,15,8,4,17,12,6,6,13,10,13,10,10,8,7,16,20,4,10,18,11,13,2,6,16,13,3,7,19,6,13,20,6,19,20,8,11,11,16,7,3,16,11,14,11,11,7,10,6,7,7,15,12,2,10,5,15,3,5,12,8,15,15,4,16,14,17,6,6,4,5,9,14,15,13,9,9,11,9,18,18,2,4,6,3,5,9,18,18,8,18,11,12,20,16,6,5,19,14,8,16,15,19,7,19,17,19,15,13,10,6,13,12,13,6,20,7,9,5,18,10,7,14,5,8,7,15,13,15,2,12,16,11,12,11,4,14,16,15,2,18,12,15,13,5,19,8,18,15,9,12,19,14,9,4,6,20,11,3,7,13,11,14,8,10,10,18,5,13,16,20,16,8,9,4,17,16,8,2,12,16,16,2,7,3,18,16,19,18,2,8,10,14,18,6,7,15,7,4,20,6,3,9,5,16,12,7,13,4,10,6,17,7,16,20,19,2,5,20,10,2,16,10,18,19,7,4,15,16,20,14,19,16,2,2,7,8,3,8,14,15,6,13,8,8,4,16,14,4,19,2,11,9,19,5,12,19,9,10,7,3,10,11,9,18,4,16,6,16,17,6,19,7,13,17,12,3,14,6,8,11,6,10,14,10,18,9,18,18,3,13,18,15,17,18,16,14,11,20,13,2,9,9,11,10,15,9,15,8,16,19,12,18,18,10,11,20,13,6,11,3,2,2,18,10,14,7,6,9,8,7,9,20,3,19,10,15,12,15,12,7,4,12,6,8,14,19,19,3,4,8,18,10,9,12,15,17,8,17,17,15,15,10,14,8,5,2,3,10,16,10,18,6,14,14,9,17,17,3,6,16,14,4,6,10,15,20,6,6,15,17,16,5,9,12,5,17,14,2,9,5,17,14,3,12,4,13,4,17,3,5,3,9,6,18,7,20,7,19,13,15,19,12,2,18,12,4,8,20,5,16,6,11,17,14,9,9,12,9,8,5,2,13,18,5,20,20,16,13,11,13,8,9,20,2,9,17,5,9,3,15,17,2,5,3,8,12,16,9,7,14,18,7,5,12,8,15,13,20,2,11,20,4,18,11,7,4,18,9,15,5,19,19,7,8,18,8,2,4,5,18,4,11,10,17,20,10,5,2,14,2,4,16,19,18,4,16,7,4,12,13,6,9,13,11,18,15,6,6,13,13,15,16,20,16,13,9,14,18,17,8,3,16,6,7,2,14,8,8,20,13,12,20,2,19,4,3,18,10,8,11,3,19,2,16,8,8,10,11,8,8,4,19,15,17,7,14,15,2,5,7,13,3,12,12,3,16,13,17,4,15,14,18,7,19,14,8,10,15,3,14,3,6,2,5,13,11,7,15,2,12,4,7,7,17,14,9,20,11,20,11,13,19,13,4,13,16,7,18,8,4,17,14,13,15,14,11,14,5,11,11,15,13,17,8,15,14,4,18,9,12,19,12,15,20,15,2,19,12,3,18,6,10,13,9,19,19,14,10,4,10,8,9,18,6,15,14,16,19,5,13,6,16,17,11,18,16,7,6,6,20,18,7,18,6,15,20,20,20,6,17,10,9,19,10,18,2,17,14,9,11,17,5,8,15,11,14,7,7,18,15,13,19,2,6,10,17,17,12,2,8,9,14,15,9,6,13,20,13,4,9,13,4,19,8,6,8,17,9,11,10,12,12,5,9,19,6,15,13,15,7,4,4,19,10,3,3,15,3,6,8,15,14,9,13,16,17,20,9,9,12,9,14,6,10,8,15,16,19,18,11,19,7,16,2,12,7,7,4,16,8,12,8,16,17,2,7,14,5,18,7,6,7,8,19,10,7,15,7,12,3,13,13,6,7,14,3,19,20,3,12,15,19,4,4,3,3,8,4,7,6,3,12,19,13,16,6,17,9,13,10,3,19,7,2,4,18,19,3,17,7,8,9,6,20,17,10,8,9,2,10,13,7,8,10,15,17,17,14,2,15,4,7,7,19,11,12,8,7,17,13,18,8,18,16,15,7,11,9,20,20,12,10,5,3,15,13,16,16,9,11,15,9,17,14,2,5,2,20,6,11,5,17,9,12,4,10,3,19,18,13,11,8,5,14,6,15,3,4,15,14,19,10,2,16,14,7,8,6,4,15,8,8,12,20,4,12,16,9,2,19,13,20,20,5,5,14,9,16,6,17,20,9,15,4,16,4,3,5,20,5,14,17,16,5,10,15,7,11,11,12,11,20,13,19,5,16,2,6,4,9,14,9,4,16,14,20,6,2,4,12,11,20,19,15,18,11,16,8,4,8,5,20,8,9,3,18,15,4,15,12,17,5,17,14,17,15,17,6,14,5,20,3,5,18,13,6,2,18,5,13,10,19,7,10,10,5,3,12,6,2,19,6,9,8,4,5,11,14,8,3,10,2,10,10,14,6,17,5,11,18,6,10,6,4,20,7,5,4,19,13,10,6,13,19,7,13,17,18,17,15,20,3,19,16,20,11,19,8,2,6,15,12,10,16,2,4,14,12,20,11,12,19,6,11,19,12,15,6,8,4,8,15,14,8,18,8,14,2,9,17,13,16,6,16,10,12,6,11,16,3,19,18,16,14,7,17,19,8,11,10,2,10,2,16,19,12,3,14,9,19,2,10,20,3,7,7,6,13,4,17,13,19,17,12,11,19,9,6,18,5,10,13,19,15,20,5,6,18,4,9,5,20,8,20,8,16,14,12,10,16,15,14,16,18,6,7,17,16,12,17,5,14,18,19,14,19,2,7,6,12,10,18,8,16,18,9,7,19,7,16,19,16,16,5,19,16,16,13,20,9,11,20,18,5,19,14,18,19,3,4,15,7,5,12,3,9,4,16,19,6,15,18,12,9,11,12,6,19,16,17,6,3,7,16,15,8,15,2,19,10,3,2,11,17,12,6,3,6,20,7,14,4,20,19,17,20,11,15,20,14,11,20,2,7,11,7,9,3,19,5,2,15,12,16,20,13,10,11,14,12,2,4,7,18,19,20,15,18,9,17,9,14,9,12,6,18,17,2,15,3,4,18,18,18,14,20,2,8,2,2,13,13,11,11,9,17,17,16,8,4,3,12,17,15,8,10,4,2,3,8,5,3,10,3,6,15,18,10,14,17,10,7,4,14,15,8,7,20,16,9,16,18,13,16,19,13,11,6,5,2,4,10,18,17,4,20,17,18,20,2,9,8,20,11,14,11,15,19,18,5,5,18,6,10,11,8,5,16,16,12,2,5,3,8,10,13,5,10,3,4,9,6,20,16,12,11,4,15,15,12,7,10,10,3,7,14,3,4,11,18,13,20,20,12,12,2,14,17,4,16,10,19,19,18,4,4,4,2,11,3,7,4,4,15,8,16,18,6,16,19,13,9,8,9,18,15,17,8,11,7,5,17,7,12,20,7,19,13,16,18,17,12,2,6,13,20,15,14,11,5,15,2,16,20,15,4,19,7,6,11,20,10,2,16,10,5,11,3,14,18,5,17,6,8,7,13,9,3,9,10,11,4,19,6,8,12,9,2,16,7,15,11,19,16,14,19,17,16,2,8,11,3,13,6,11,16,7,13,19,10,5,14,13,5,7,3,6,13,5,20,17,19,18,14,13,5,15,17,12,7,11,12,17,17,4,20,9,15,4,9,20,4,14,5,7,7,12,19,16,5,16,19,2,5,6,3,14,7,4,8,17,10,9,16,17,15,17,3,2,4,3,4,10,14,5,3,2,11,11,8,4,15,9,8,2,16,11,19,6,2,7,6,2,10,14,7,8,2,7,4,20,4,9,17,11,2,11,17,10,16,5,9,10,10,7,12,15,13,15,7,16,4,14,7,3,10,18,19,4,17,10,2,3,17,3,17,9,5,4,12,3,14,19,20,7,2,13,5,9,12,7,11,3,5,19,4,11,4,16,7,2,17,12,6,20,13,10,3,4,14,16,13,20,3,19,3,9,19,20,8,4,15,14,8,3,15,8,8,17,7,14,13,2,14,15,10,11,16,2,11,4,6,5,8,7,19,3,7,20,4,5,3,19,16,5,19,2],\"type\":\"violin\",\"xaxis\":\"x14\",\"yaxis\":\"y14\"},{\"box\":{\"visible\":true},\"meanline\":{\"visible\":true},\"orientation\":\"h\",\"points\":\"suspectedoutliers\",\"x\":[1,2,2,2,1,1,3,0,0,0,3,3,1,2,0,0,3,3,1,1,3,3,1,0,1,2,3,3,2,0,3,0,1,3,0,1,1,3,2,2,2,3,1,1,0,1,3,1,0,3,2,2,3,1,2,2,0,3,1,2,1,0,0,2,2,3,3,3,0,3,3,2,0,3,0,1,0,0,3,1,3,2,3,1,1,1,0,3,2,2,3,2,0,0,1,3,0,2,0,1,3,1,1,0,0,1,3,3,3,3,1,1,0,2,3,3,2,1,0,1,2,3,3,3,2,3,2,1,3,0,3,1,2,1,2,2,1,3,0,0,2,0,3,2,0,3,1,3,2,2,1,3,1,2,0,1,0,0,3,1,2,2,0,0,2,3,1,2,3,1,3,1,2,2,3,2,0,3,2,1,0,0,2,3,3,0,2,3,1,3,1,2,3,3,2,2,2,3,1,1,0,1,0,2,2,2,2,1,3,3,2,2,0,2,0,3,0,1,1,3,0,0,3,2,3,3,3,2,2,3,3,3,0,1,2,0,1,3,1,0,2,2,3,2,3,3,0,1,1,0,2,2,1,0,0,2,0,1,0,3,1,1,0,0,3,1,3,1,2,1,0,0,3,1,2,2,3,1,0,0,3,3,1,1,2,1,3,3,1,1,3,3,2,3,0,1,3,1,0,1,3,0,0,3,0,1,1,2,0,2,3,2,3,0,2,3,1,0,0,1,0,3,3,0,0,0,2,1,2,1,1,1,1,1,2,2,3,0,2,2,2,1,2,3,0,1,2,2,2,2,1,3,0,2,2,1,2,0,0,3,1,0,3,2,0,0,2,3,2,1,3,1,3,0,3,2,0,1,0,3,1,2,2,2,2,3,3,1,2,3,3,1,3,3,1,3,3,0,1,3,2,3,3,2,2,3,3,0,2,2,0,3,1,2,3,2,1,1,1,0,1,2,2,0,2,2,0,3,1,1,3,1,3,1,0,0,3,1,3,0,0,1,3,1,0,0,2,2,2,1,1,1,3,0,3,2,1,3,1,0,2,2,1,0,0,3,3,0,0,1,3,3,1,0,2,2,3,0,3,3,0,3,0,3,1,0,2,2,1,2,0,3,2,0,1,2,3,1,2,3,0,3,1,0,0,1,2,2,2,2,3,3,0,1,1,2,1,3,3,3,3,1,3,3,3,3,2,3,2,2,0,0,3,1,2,2,0,2,2,1,0,3,1,1,1,1,1,2,2,1,3,1,0,1,0,0,2,2,2,0,3,1,2,1,2,0,0,1,3,3,3,3,3,3,0,2,2,0,0,3,3,3,0,0,3,0,0,1,2,0,2,3,1,3,2,0,2,2,0,0,1,3,0,1,1,2,2,0,2,2,0,1,3,0,2,2,3,1,3,2,2,1,2,2,1,1,0,1,0,1,0,3,1,1,3,1,3,2,1,1,0,2,0,2,0,2,0,1,3,1,2,2,0,1,0,3,2,1,3,2,0,0,1,2,0,0,0,2,3,1,2,1,0,0,0,2,3,2,3,0,3,2,1,2,1,0,2,0,0,1,3,0,3,1,1,1,3,2,2,0,0,3,0,3,3,2,3,3,3,0,2,1,2,0,3,1,0,1,3,1,3,3,1,0,1,1,2,1,3,3,0,2,0,3,2,0,0,2,1,2,3,3,2,1,2,2,3,1,2,3,3,1,1,2,1,2,0,2,0,3,0,0,0,3,3,0,2,2,3,1,3,0,1,2,0,0,0,3,2,0,2,2,1,0,2,0,3,3,2,3,0,3,2,3,2,2,1,0,3,3,1,0,0,2,1,2,3,3,3,3,0,0,0,1,0,2,0,1,2,0,0,3,3,1,3,3,2,3,3,1,1,3,0,3,3,3,3,2,2,3,2,1,3,2,3,0,0,3,0,0,3,2,1,0,2,1,2,2,1,2,2,0,2,0,2,2,2,3,0,0,3,3,1,0,1,0,0,3,3,3,0,2,2,1,2,2,2,0,3,1,1,3,3,1,2,3,2,2,0,3,3,0,2,2,0,3,3,0,1,1,0,1,2,1,3,1,0,0,3,2,0,1,0,1,2,1,1,2,2,0,3,2,3,1,2,3,3,2,2,2,3,0,0,1,0,3,0,0,2,1,1,1,3,0,1,3,3,3,1,3,2,3,1,1,2,3,0,0,1,1,1,0,3,2,0,1,3,0,3,1,0,3,3,1,0,0,0,3,3,1,1,1,1,0,0,3,2,0,3,3,2,0,0,0,2,3,0,1,3,1,2,0,0,2,0,2,0,3,3,1,3,3,1,0,0,0,0,1,1,2,2,2,1,2,0,0,3,0,1,1,0,3,2,0,1,2,3,2,3,1,1,1,1,3,1,1,2,2,1,2,3,1,2,0,1,0,3,0,0,0,0,1,3,0,1,1,0,3,3,2,1,0,1,2,2,2,1,1,0,1,2,2,2,0,0,1,3,1,3,0,0,1,0,3,1,0,0,2,3,3,1,3,3,1,3,2,0,2,2,3,3,3,3,1,2,2,1,2,0,2,3,2,2,1,0,1,1,0,2,0,2,2,2,2,1,2,2,0,1,1,2,1,1,3,0,1,3,0,2,0,2,2,2,2,2,0,0,2,1,2,0,3,1,3,2,2,3,2,0,3,3,1,0,0,3,2,2,0,3,2,0,3,2,0,1,2,2,1,0,2,0,2,1,2,1,1,3,0,1,1,2,0,3,1,2,2,1,3,2,0,2,2,2,3,0,0,3,2,1,2,0,0,2,3,2,0,0,0,2,3,0,2,2,1,1,1,2,1,0,2,1,3,3,0,0,2,3,1,3,1,0,3,3,0,1,3,1,1,2,3,0,3,0,1,1,3,2,0,0,3,1,3,1,2,2,3,0,3,1,1,0,3,0,2,0,2,2,3,2,0,3,1,0,3,3,1,1,0,3,1,3,1,1,2,0,1,3,3,3,3,1,3,0,1,1,0,1,3,1,1,2,1,1,1,1,2,2,2,3,3,2,1,1,2,1,2,3,2,0,3,3,1,2,3,2,1,1,2,1,1,0,0,0,0,2,1,1,2,0,2,0,2,2,0,3,1,0,3,0,1,3,3,0,0,1,1,3,2,3,0,2,1,0,0,0,0,3,0,0,0,3,0,2,2,0,1,1,2,0,0,1,1,0,2,2,2,0,1,3,0,0,2,2,3,1,1,1,1,2,1,1,3,0,3,0,1,0,0,0,0,3,2,1,0,2,1,0,0,1,2,0,1,1,2,1,1,1,2,1,3,3,0,3,2,0,1,2,3,3,0,1,1,1,1,3,1,2,0,2,3,1,3,1,1,2,0,1,2,3,0,1,3,0,0,0,0,0,3,1,2,2,2,1,1,3,0,1,2,2,3,1,1,3,0,1,0,1,3,3,3,3,1,1,0,1,2,2,3,1,1,0,3,3,0,2,2,1,2,2,0,2,3,3,3,2,2,3,2,2,1,1,1,2,0,1,0,3,2,0,2,2,2,2,1,0,0,0,1,2,1,0,3,2,0,3,2,0,1,2,1,0,0,0,2,0,3,1,1,2,3,3,2,1,2,1,2,3,0,2,3,1,0,3,1,0,2,1,2,1,2,3,2,3,2,3,3,3,3,2,2,2,3,1,1,1,0,0,3,2,1,0,3,3,1,0,3,2,1,2,3,2,2,3,1,1,1,1,0,2,1,0,1,0,3,0,3,1,1,3,3,1,1,1,3,2,1,3,1,1,2,3,0,1,1,3,2,1,2,2,3,2,1,1,1,3,3,3,0,3,2,3,1,3,2,1,2,3,3,0,0,0,2,2,0,2,0,2,1,3,3,0,1,2,0,2,0,2,2,2,0,2,0,2,0,2,1,2,3,1,3,0,0,2,2,3,3,1,2,1,1,3,0,0,2,1,0,1,2,1,3,0,1,3,0,2,3,3,2,0,3,1,1,0,2,2,2,0,3,3,0,3,2,3,0,2,0,2,1,3,3,0,3,2,0,2,1,2,3,1,1,3,0,1,1,3,0,1,0,1,2,0,1,3,3,1,2,1,0,0,1,0,1,0,0,1,3,3,1,0,2,0,3,1,2,2,1,2,3,3,0,0,1,2,2,2,1,2,1,0,2,3,0,0,3,0,3,0,0,3,3,0,3,0,0,0,0,3,3,2,0,0,0,0,3,0,2,3,2,3,3,2,3,1,0,2,0,0,1,1,1,2,2,0,0,3,0,1,2,0,3,1,0,0,3,0,1,0,3,3,0,1,2,2,2,3,0,1,3,3,1,3,0,1,0,0,2,1,0,2,0,3,1,0,2,1,2,1,3,0,2,3,1,1,1,2,1,3,2,2,2,2,3,1,0,0,0,0,2,1,2,1,0,1,3,0,3,0,3,3,1,2,0,2,1,1,0,2,1,0,2,2,1,0,3,1,3,0,2,1,1,1,1,2,2,1,3,1,0,1,1,0,3,0,3,3,0,2,3,0,3],\"type\":\"violin\",\"xaxis\":\"x15\",\"yaxis\":\"y15\"}],                        {\"template\":{\"data\":{\"histogram2dcontour\":[{\"type\":\"histogram2dcontour\",\"colorbar\":{\"outlinewidth\":0,\"ticks\":\"\"},\"colorscale\":[[0.0,\"#0d0887\"],[0.1111111111111111,\"#46039f\"],[0.2222222222222222,\"#7201a8\"],[0.3333333333333333,\"#9c179e\"],[0.4444444444444444,\"#bd3786\"],[0.5555555555555556,\"#d8576b\"],[0.6666666666666666,\"#ed7953\"],[0.7777777777777778,\"#fb9f3a\"],[0.8888888888888888,\"#fdca26\"],[1.0,\"#f0f921\"]]}],\"choropleth\":[{\"type\":\"choropleth\",\"colorbar\":{\"outlinewidth\":0,\"ticks\":\"\"}}],\"histogram2d\":[{\"type\":\"histogram2d\",\"colorbar\":{\"outlinewidth\":0,\"ticks\":\"\"},\"colorscale\":[[0.0,\"#0d0887\"],[0.1111111111111111,\"#46039f\"],[0.2222222222222222,\"#7201a8\"],[0.3333333333333333,\"#9c179e\"],[0.4444444444444444,\"#bd3786\"],[0.5555555555555556,\"#d8576b\"],[0.6666666666666666,\"#ed7953\"],[0.7777777777777778,\"#fb9f3a\"],[0.8888888888888888,\"#fdca26\"],[1.0,\"#f0f921\"]]}],\"heatmap\":[{\"type\":\"heatmap\",\"colorbar\":{\"outlinewidth\":0,\"ticks\":\"\"},\"colorscale\":[[0.0,\"#0d0887\"],[0.1111111111111111,\"#46039f\"],[0.2222222222222222,\"#7201a8\"],[0.3333333333333333,\"#9c179e\"],[0.4444444444444444,\"#bd3786\"],[0.5555555555555556,\"#d8576b\"],[0.6666666666666666,\"#ed7953\"],[0.7777777777777778,\"#fb9f3a\"],[0.8888888888888888,\"#fdca26\"],[1.0,\"#f0f921\"]]}],\"heatmapgl\":[{\"type\":\"heatmapgl\",\"colorbar\":{\"outlinewidth\":0,\"ticks\":\"\"},\"colorscale\":[[0.0,\"#0d0887\"],[0.1111111111111111,\"#46039f\"],[0.2222222222222222,\"#7201a8\"],[0.3333333333333333,\"#9c179e\"],[0.4444444444444444,\"#bd3786\"],[0.5555555555555556,\"#d8576b\"],[0.6666666666666666,\"#ed7953\"],[0.7777777777777778,\"#fb9f3a\"],[0.8888888888888888,\"#fdca26\"],[1.0,\"#f0f921\"]]}],\"contourcarpet\":[{\"type\":\"contourcarpet\",\"colorbar\":{\"outlinewidth\":0,\"ticks\":\"\"}}],\"contour\":[{\"type\":\"contour\",\"colorbar\":{\"outlinewidth\":0,\"ticks\":\"\"},\"colorscale\":[[0.0,\"#0d0887\"],[0.1111111111111111,\"#46039f\"],[0.2222222222222222,\"#7201a8\"],[0.3333333333333333,\"#9c179e\"],[0.4444444444444444,\"#bd3786\"],[0.5555555555555556,\"#d8576b\"],[0.6666666666666666,\"#ed7953\"],[0.7777777777777778,\"#fb9f3a\"],[0.8888888888888888,\"#fdca26\"],[1.0,\"#f0f921\"]]}],\"surface\":[{\"type\":\"surface\",\"colorbar\":{\"outlinewidth\":0,\"ticks\":\"\"},\"colorscale\":[[0.0,\"#0d0887\"],[0.1111111111111111,\"#46039f\"],[0.2222222222222222,\"#7201a8\"],[0.3333333333333333,\"#9c179e\"],[0.4444444444444444,\"#bd3786\"],[0.5555555555555556,\"#d8576b\"],[0.6666666666666666,\"#ed7953\"],[0.7777777777777778,\"#fb9f3a\"],[0.8888888888888888,\"#fdca26\"],[1.0,\"#f0f921\"]]}],\"mesh3d\":[{\"type\":\"mesh3d\",\"colorbar\":{\"outlinewidth\":0,\"ticks\":\"\"}}],\"scatter\":[{\"fillpattern\":{\"fillmode\":\"overlay\",\"size\":10,\"solidity\":0.2},\"type\":\"scatter\"}],\"parcoords\":[{\"type\":\"parcoords\",\"line\":{\"colorbar\":{\"outlinewidth\":0,\"ticks\":\"\"}}}],\"scatterpolargl\":[{\"type\":\"scatterpolargl\",\"marker\":{\"colorbar\":{\"outlinewidth\":0,\"ticks\":\"\"}}}],\"bar\":[{\"error_x\":{\"color\":\"#2a3f5f\"},\"error_y\":{\"color\":\"#2a3f5f\"},\"marker\":{\"line\":{\"color\":\"#E5ECF6\",\"width\":0.5},\"pattern\":{\"fillmode\":\"overlay\",\"size\":10,\"solidity\":0.2}},\"type\":\"bar\"}],\"scattergeo\":[{\"type\":\"scattergeo\",\"marker\":{\"colorbar\":{\"outlinewidth\":0,\"ticks\":\"\"}}}],\"scatterpolar\":[{\"type\":\"scatterpolar\",\"marker\":{\"colorbar\":{\"outlinewidth\":0,\"ticks\":\"\"}}}],\"histogram\":[{\"marker\":{\"pattern\":{\"fillmode\":\"overlay\",\"size\":10,\"solidity\":0.2}},\"type\":\"histogram\"}],\"scattergl\":[{\"type\":\"scattergl\",\"marker\":{\"colorbar\":{\"outlinewidth\":0,\"ticks\":\"\"}}}],\"scatter3d\":[{\"type\":\"scatter3d\",\"line\":{\"colorbar\":{\"outlinewidth\":0,\"ticks\":\"\"}},\"marker\":{\"colorbar\":{\"outlinewidth\":0,\"ticks\":\"\"}}}],\"scattermapbox\":[{\"type\":\"scattermapbox\",\"marker\":{\"colorbar\":{\"outlinewidth\":0,\"ticks\":\"\"}}}],\"scatterternary\":[{\"type\":\"scatterternary\",\"marker\":{\"colorbar\":{\"outlinewidth\":0,\"ticks\":\"\"}}}],\"scattercarpet\":[{\"type\":\"scattercarpet\",\"marker\":{\"colorbar\":{\"outlinewidth\":0,\"ticks\":\"\"}}}],\"carpet\":[{\"aaxis\":{\"endlinecolor\":\"#2a3f5f\",\"gridcolor\":\"white\",\"linecolor\":\"white\",\"minorgridcolor\":\"white\",\"startlinecolor\":\"#2a3f5f\"},\"baxis\":{\"endlinecolor\":\"#2a3f5f\",\"gridcolor\":\"white\",\"linecolor\":\"white\",\"minorgridcolor\":\"white\",\"startlinecolor\":\"#2a3f5f\"},\"type\":\"carpet\"}],\"table\":[{\"cells\":{\"fill\":{\"color\":\"#EBF0F8\"},\"line\":{\"color\":\"white\"}},\"header\":{\"fill\":{\"color\":\"#C8D4E3\"},\"line\":{\"color\":\"white\"}},\"type\":\"table\"}],\"barpolar\":[{\"marker\":{\"line\":{\"color\":\"#E5ECF6\",\"width\":0.5},\"pattern\":{\"fillmode\":\"overlay\",\"size\":10,\"solidity\":0.2}},\"type\":\"barpolar\"}],\"pie\":[{\"automargin\":true,\"type\":\"pie\"}]},\"layout\":{\"autotypenumbers\":\"strict\",\"colorway\":[\"#636efa\",\"#EF553B\",\"#00cc96\",\"#ab63fa\",\"#FFA15A\",\"#19d3f3\",\"#FF6692\",\"#B6E880\",\"#FF97FF\",\"#FECB52\"],\"font\":{\"color\":\"#2a3f5f\"},\"hovermode\":\"closest\",\"hoverlabel\":{\"align\":\"left\"},\"paper_bgcolor\":\"white\",\"plot_bgcolor\":\"#E5ECF6\",\"polar\":{\"bgcolor\":\"#E5ECF6\",\"angularaxis\":{\"gridcolor\":\"white\",\"linecolor\":\"white\",\"ticks\":\"\"},\"radialaxis\":{\"gridcolor\":\"white\",\"linecolor\":\"white\",\"ticks\":\"\"}},\"ternary\":{\"bgcolor\":\"#E5ECF6\",\"aaxis\":{\"gridcolor\":\"white\",\"linecolor\":\"white\",\"ticks\":\"\"},\"baxis\":{\"gridcolor\":\"white\",\"linecolor\":\"white\",\"ticks\":\"\"},\"caxis\":{\"gridcolor\":\"white\",\"linecolor\":\"white\",\"ticks\":\"\"}},\"coloraxis\":{\"colorbar\":{\"outlinewidth\":0,\"ticks\":\"\"}},\"colorscale\":{\"sequential\":[[0.0,\"#0d0887\"],[0.1111111111111111,\"#46039f\"],[0.2222222222222222,\"#7201a8\"],[0.3333333333333333,\"#9c179e\"],[0.4444444444444444,\"#bd3786\"],[0.5555555555555556,\"#d8576b\"],[0.6666666666666666,\"#ed7953\"],[0.7777777777777778,\"#fb9f3a\"],[0.8888888888888888,\"#fdca26\"],[1.0,\"#f0f921\"]],\"sequentialminus\":[[0.0,\"#0d0887\"],[0.1111111111111111,\"#46039f\"],[0.2222222222222222,\"#7201a8\"],[0.3333333333333333,\"#9c179e\"],[0.4444444444444444,\"#bd3786\"],[0.5555555555555556,\"#d8576b\"],[0.6666666666666666,\"#ed7953\"],[0.7777777777777778,\"#fb9f3a\"],[0.8888888888888888,\"#fdca26\"],[1.0,\"#f0f921\"]],\"diverging\":[[0,\"#8e0152\"],[0.1,\"#c51b7d\"],[0.2,\"#de77ae\"],[0.3,\"#f1b6da\"],[0.4,\"#fde0ef\"],[0.5,\"#f7f7f7\"],[0.6,\"#e6f5d0\"],[0.7,\"#b8e186\"],[0.8,\"#7fbc41\"],[0.9,\"#4d9221\"],[1,\"#276419\"]]},\"xaxis\":{\"gridcolor\":\"white\",\"linecolor\":\"white\",\"ticks\":\"\",\"title\":{\"standoff\":15},\"zerolinecolor\":\"white\",\"automargin\":true,\"zerolinewidth\":2},\"yaxis\":{\"gridcolor\":\"white\",\"linecolor\":\"white\",\"ticks\":\"\",\"title\":{\"standoff\":15},\"zerolinecolor\":\"white\",\"automargin\":true,\"zerolinewidth\":2},\"scene\":{\"xaxis\":{\"backgroundcolor\":\"#E5ECF6\",\"gridcolor\":\"white\",\"linecolor\":\"white\",\"showbackground\":true,\"ticks\":\"\",\"zerolinecolor\":\"white\",\"gridwidth\":2},\"yaxis\":{\"backgroundcolor\":\"#E5ECF6\",\"gridcolor\":\"white\",\"linecolor\":\"white\",\"showbackground\":true,\"ticks\":\"\",\"zerolinecolor\":\"white\",\"gridwidth\":2},\"zaxis\":{\"backgroundcolor\":\"#E5ECF6\",\"gridcolor\":\"white\",\"linecolor\":\"white\",\"showbackground\":true,\"ticks\":\"\",\"zerolinecolor\":\"white\",\"gridwidth\":2}},\"shapedefaults\":{\"line\":{\"color\":\"#2a3f5f\"}},\"annotationdefaults\":{\"arrowcolor\":\"#2a3f5f\",\"arrowhead\":0,\"arrowwidth\":1},\"geo\":{\"bgcolor\":\"white\",\"landcolor\":\"#E5ECF6\",\"subunitcolor\":\"white\",\"showland\":true,\"showlakes\":true,\"lakecolor\":\"white\"},\"title\":{\"x\":0.05},\"mapbox\":{\"style\":\"light\"}}},\"xaxis\":{\"anchor\":\"y\",\"domain\":[0.0,0.3],\"title\":{\"text\":\"battery_power\"}},\"yaxis\":{\"anchor\":\"x\",\"domain\":[0.912,1.0],\"showticklabels\":false},\"xaxis2\":{\"anchor\":\"y2\",\"domain\":[0.35,0.6499999999999999],\"title\":{\"text\":\"clock_speed\"}},\"yaxis2\":{\"anchor\":\"x2\",\"domain\":[0.912,1.0],\"showticklabels\":false},\"xaxis3\":{\"anchor\":\"y3\",\"domain\":[0.7,1.0],\"title\":{\"text\":\"fc\"}},\"yaxis3\":{\"anchor\":\"x3\",\"domain\":[0.912,1.0],\"showticklabels\":false},\"xaxis4\":{\"anchor\":\"y4\",\"domain\":[0.0,0.3],\"title\":{\"text\":\"int_memory\"}},\"yaxis4\":{\"anchor\":\"x4\",\"domain\":[0.684,0.772],\"showticklabels\":false},\"xaxis5\":{\"anchor\":\"y5\",\"domain\":[0.35,0.6499999999999999],\"title\":{\"text\":\"m_dep\"}},\"yaxis5\":{\"anchor\":\"x5\",\"domain\":[0.684,0.772],\"showticklabels\":false},\"xaxis6\":{\"anchor\":\"y6\",\"domain\":[0.7,1.0],\"title\":{\"text\":\"mobile_wt\"}},\"yaxis6\":{\"anchor\":\"x6\",\"domain\":[0.684,0.772],\"showticklabels\":false},\"xaxis7\":{\"anchor\":\"y7\",\"domain\":[0.0,0.3],\"title\":{\"text\":\"n_cores\"}},\"yaxis7\":{\"anchor\":\"x7\",\"domain\":[0.456,0.544],\"showticklabels\":false},\"xaxis8\":{\"anchor\":\"y8\",\"domain\":[0.35,0.6499999999999999],\"title\":{\"text\":\"pc\"}},\"yaxis8\":{\"anchor\":\"x8\",\"domain\":[0.456,0.544],\"showticklabels\":false},\"xaxis9\":{\"anchor\":\"y9\",\"domain\":[0.7,1.0],\"title\":{\"text\":\"px_height\"}},\"yaxis9\":{\"anchor\":\"x9\",\"domain\":[0.456,0.544],\"showticklabels\":false},\"xaxis10\":{\"anchor\":\"y10\",\"domain\":[0.0,0.3],\"title\":{\"text\":\"px_width\"}},\"yaxis10\":{\"anchor\":\"x10\",\"domain\":[0.228,0.316],\"showticklabels\":false},\"xaxis11\":{\"anchor\":\"y11\",\"domain\":[0.35,0.6499999999999999],\"title\":{\"text\":\"ram\"}},\"yaxis11\":{\"anchor\":\"x11\",\"domain\":[0.228,0.316],\"showticklabels\":false},\"xaxis12\":{\"anchor\":\"y12\",\"domain\":[0.7,1.0],\"title\":{\"text\":\"sc_h\"}},\"yaxis12\":{\"anchor\":\"x12\",\"domain\":[0.228,0.316],\"showticklabels\":false},\"xaxis13\":{\"anchor\":\"y13\",\"domain\":[0.0,0.3],\"title\":{\"text\":\"sc_w\"}},\"yaxis13\":{\"anchor\":\"x13\",\"domain\":[0.0,0.088],\"showticklabels\":false},\"xaxis14\":{\"anchor\":\"y14\",\"domain\":[0.35,0.6499999999999999],\"title\":{\"text\":\"talk_time\"}},\"yaxis14\":{\"anchor\":\"x14\",\"domain\":[0.0,0.088],\"showticklabels\":false},\"xaxis15\":{\"anchor\":\"y15\",\"domain\":[0.7,1.0],\"title\":{\"text\":\"price_range\"}},\"yaxis15\":{\"anchor\":\"x15\",\"domain\":[0.0,0.088],\"showticklabels\":false},\"title\":{\"font\":{\"color\":\"#393646\",\"family\":\"Bold\",\"size\":26},\"text\":\"Relationship between Relevant Features and Price Range\",\"y\":0.989,\"x\":0.5,\"xanchor\":\"center\",\"yanchor\":\"top\"},\"showlegend\":false,\"height\":1000,\"width\":1200},                        {\"responsive\": true}                    ).then(function(){\n",
              "                            \n",
              "var gd = document.getElementById('8fc6de90-7635-4b47-a162-1c3c995a94b7');\n",
              "var x = new MutationObserver(function (mutations, observer) {{\n",
              "        var display = window.getComputedStyle(gd).display;\n",
              "        if (!display || display === 'none') {{\n",
              "            console.log([gd, 'removed!']);\n",
              "            Plotly.purge(gd);\n",
              "            observer.disconnect();\n",
              "        }}\n",
              "}});\n",
              "\n",
              "// Listen for the removal of the full notebook cells\n",
              "var notebookContainer = gd.closest('#notebook-container');\n",
              "if (notebookContainer) {{\n",
              "    x.observe(notebookContainer, {childList: true});\n",
              "}}\n",
              "\n",
              "// Listen for the clearing of the current output cell\n",
              "var outputEl = gd.closest('.output');\n",
              "if (outputEl) {{\n",
              "    x.observe(outputEl, {childList: true});\n",
              "}}\n",
              "\n",
              "                        })                };                            </script>        </div>\n",
              "</body>\n",
              "</html>"
            ]
          },
          "metadata": {}
        }
      ],
      "source": [
        "num_colms = [col for col in m_p_t.columns if m_p_t[col].nunique() > 2]\n",
        "\n",
        "\n",
        "fig = sp.make_subplots(rows=5, cols=3, vertical_spacing = 0.14, horizontal_spacing = 0.05)\n",
        "\n",
        "idx = 0\n",
        "\n",
        "for r in range(1, 6):\n",
        "  for c in range(1, 4):\n",
        "\n",
        "    col = num_colms[idx]\n",
        "    idx+=1\n",
        "\n",
        "    trace = go.Violin(x=m_p_t[col], meanline_visible=True, orientation='h', points='suspectedoutliers', box_visible=True)\n",
        "\n",
        "    fig.add_trace(trace, row=r, col=c)\n",
        "\n",
        "    fig.update_yaxes(showticklabels=False)\n",
        "    fig.update_xaxes(title_text=col, row=r, col=c)\n",
        "\n",
        "fig.update_layout(\n",
        "    title={\n",
        "        'text': 'Relationship between Relevant Features and Price Range',\n",
        "        'y': 0.989,\n",
        "        'x': 0.5,\n",
        "        'xanchor': 'center',\n",
        "        'yanchor': 'top',\n",
        "        'font' : {\n",
        "            'color' : '#393646',\n",
        "            'family' : 'Bold',\n",
        "            'size' : 26\n",
        "        }\n",
        "\n",
        "    },\n",
        "\n",
        "    showlegend = False,\n",
        "    height = 1000,\n",
        "    width = 1200\n",
        ")\n",
        "\n",
        "fig.show()\n",
        "\n",
        "\n",
        "\n"
      ]
    },
    {
      "cell_type": "markdown",
      "metadata": {
        "id": "T2xYFDtkT8LG"
      },
      "source": [
        "#### **From the graph we can see only two columns has outliers. [fc, px_height] And they both are rightly sqewed. So we have to use IQR method to handle the outliers in these two columns**\n"
      ]
    },
    {
      "cell_type": "code",
      "execution_count": null,
      "metadata": {
        "id": "5x_A-ZJTT8T7",
        "colab": {
          "base_uri": "https://localhost:8080/"
        },
        "outputId": "d7923d14-1a2f-411f-fca1-e118545c78d4"
      },
      "outputs": [
        {
          "output_type": "display_data",
          "data": {
            "text/plain": [
              "<Figure size 1000x500 with 2 Axes>"
            ],
            "image/png": "[encoded data removed]"
          },
          "metadata": {}
        }
      ],
      "source": [
        "fig, axes = plt.subplots(1, 2, figsize = (10, 5))\n",
        "fig.suptitle(\"Destribution of Columns having Outliers\")\n",
        "\n",
        "sns.kdeplot(data=m_p_t['fc'],ax = axes[0], label=\"FC\", fill=True)\n",
        "\n",
        "\n",
        "sns.kdeplot(data=m_p_t['px_height'],ax = axes[1], label=\"PX Height\", fill=True)\n",
        "\n",
        "\n",
        "\n",
        "plt.tight_layout(pad = 2.5)\n",
        "\n",
        "plt.show()"
      ]
    },
    {
      "cell_type": "markdown",
      "metadata": {
        "id": "S3y0TwKeLjKG"
      },
      "source": [
        "### **Using Trimming Method**"
      ]
    },
    {
      "cell_type": "code",
      "execution_count": null,
      "metadata": {
        "id": "xcRp17KqMY0H",
        "colab": {
          "base_uri": "https://localhost:8080/"
        },
        "outputId": "9f030b9c-6e45-42ff-a222-10ab4d5ada8c"
      },
      "outputs": [
        {
          "output_type": "stream",
          "name": "stdout",
          "text": [
            "FC \n",
            " count    2000.000000\n",
            "mean        4.309500\n",
            "std         4.341444\n",
            "min         0.000000\n",
            "25%         1.000000\n",
            "50%         3.000000\n",
            "75%         7.000000\n",
            "max        19.000000\n",
            "Name: fc, dtype: float64 \n",
            "\n",
            " PX Height \n",
            "count    2000.000000\n",
            "mean      645.108000\n",
            "std       443.780811\n",
            "min         0.000000\n",
            "25%       282.750000\n",
            "50%       564.000000\n",
            "75%       947.250000\n",
            "max      1960.000000\n",
            "Name: px_height, dtype: float64\n"
          ]
        }
      ],
      "source": [
        "print(f\"FC \\n {m_p_t['fc'].describe()} \\n\\n PX Height \\n{m_p_t['px_height'].describe()}\")"
      ]
    },
    {
      "cell_type": "code",
      "execution_count": null,
      "metadata": {
        "id": "zXMI_pWiLiEP",
        "colab": {
          "base_uri": "https://localhost:8080/"
        },
        "outputId": "c8620557-74db-4e80-9b06-ea0a89ddba79"
      },
      "outputs": [
        {
          "output_type": "stream",
          "name": "stdout",
          "text": [
            "FC Upper Limit        : 16.0\n",
            "FC Lower Limit        : -8.0\n",
            "PX Height Upper Limit : 1944.0\n",
            "PX Height Lower Limit : -714.0\n"
          ]
        }
      ],
      "source": [
        "def iqr_lim(col):\n",
        "\n",
        "  perct_25 = col.quantile(0.25)\n",
        "  perct_75 = col.quantile(0.75)\n",
        "\n",
        "  IQR = perct_75 - perct_25\n",
        "\n",
        "  upper_limit = perct_75 + (1.5 * IQR)\n",
        "  lower_limit = perct_25 - (1.5 * IQR)\n",
        "\n",
        "  return upper_limit, lower_limit\n",
        "\n",
        "upper_fc, lower_fc               = iqr_lim(m_p_t['fc'])\n",
        "upper_px_height, lower_px_height = iqr_lim(m_p_t['px_height'])\n",
        "\n",
        "print(f\"FC Upper Limit        : {upper_fc}\")\n",
        "print(f\"FC Lower Limit        : {lower_fc}\")\n",
        "print(f\"PX Height Upper Limit : {upper_px_height}\")\n",
        "print(f\"PX Height Lower Limit : {lower_px_height}\")\n"
      ]
    },
    {
      "cell_type": "markdown",
      "metadata": {
        "id": "Jd-k9ILbO1wm"
      },
      "source": [
        "#### **Showing the outliers rows**"
      ]
    },
    {
      "cell_type": "code",
      "execution_count": null,
      "metadata": {
        "id": "eFNa5XBSMMIO",
        "colab": {
          "base_uri": "https://localhost:8080/"
        },
        "outputId": "bb29ce1d-ca6f-40d5-cb19-0d0da48b8fe0"
      },
      "outputs": [
        {
          "output_type": "execute_result",
          "data": {
            "text/plain": [
              "      battery_power  blue  clock_speed  dual_sim  fc  four_g  int_memory  \\\n",
              "95             1137     1          1.0         0  18       0           7   \n",
              "169            1569     0          2.8         1  17       0          44   \n",
              "226            1708     1          2.4         1  18       1          49   \n",
              "229            1689     0          1.8         0  17       0          24   \n",
              "300            1937     1          1.7         0  17       0          58   \n",
              "305            1348     0          2.0         0  18       0          52   \n",
              "372            1703     1          1.5         1  17       1          55   \n",
              "584             946     1          2.6         1  17       0           5   \n",
              "1387           1533     1          1.1         1  18       1          17   \n",
              "1406           1731     1          2.3         1  18       0          60   \n",
              "1416           1448     0          0.5         1  18       0           2   \n",
              "1549           1772     1          1.6         0  17       1          45   \n",
              "1554           1957     0          1.2         1  18       1          36   \n",
              "1693            695     0          0.5         0  18       1          12   \n",
              "1705           1290     1          1.4         1  19       1          35   \n",
              "1880           1720     0          1.6         0  18       1           2   \n",
              "1882            591     0          2.1         1  18       1          16   \n",
              "1888           1544     0          2.4         0  18       1          12   \n",
              "\n",
              "      m_dep  mobile_wt  n_cores  pc  px_height  px_width   ram  sc_h  sc_w  \\\n",
              "95      1.0        196        3  19        942      1179  3616    13     5   \n",
              "169     0.3        110        4  20         45      1942  1260     9     2   \n",
              "226     0.1        109        1  19        233       517  3388     6     4   \n",
              "229     0.3        127        3  18        954      1200  2766     7     2   \n",
              "300     0.6        189        1  19       1728      1767  3321     5     4   \n",
              "305     0.3         98        3  20       1869      1942   955    18    11   \n",
              "372     0.7        138        5  19       1411      1711  2993     5     1   \n",
              "584     0.1        166        3  20       1698      1771  3720    15     7   \n",
              "1387    0.3        160        4  20       1054      1393  2520     8     2   \n",
              "1406    0.5        171        4  20        142      1039  1220     9     3   \n",
              "1416    0.2        100        5  19        846      1144   593     9     4   \n",
              "1549    0.5        159        2  18        837      1405  1146     6     1   \n",
              "1554    0.8        151        2  19       1194      1727  1115    16     2   \n",
              "1693    0.6        196        2  19       1649      1829  2855    16    13   \n",
              "1705    0.3        110        4  20        405       742   879    16     2   \n",
              "1880    0.8        188        5  20        334       896  2522    10     5   \n",
              "1882    0.5        196        7  20        952      1726   704    14     5   \n",
              "1888    0.1        186        7  20        470       844   489     9     4   \n",
              "\n",
              "      talk_time  three_g  touch_screen  wifi  price_range  \n",
              "95           12        1             1     1            3  \n",
              "169          17        1             0     0            1  \n",
              "226          16        1             1     1            3  \n",
              "229           7        0             1     1            3  \n",
              "300          14        1             1     0            3  \n",
              "305           7        1             1     1            1  \n",
              "372          20        1             1     1            3  \n",
              "584           4        0             1     0            3  \n",
              "1387         11        1             0     1            2  \n",
              "1406         20        0             1     0            1  \n",
              "1416         18        1             1     1            0  \n",
              "1549         17        1             1     0            1  \n",
              "1554         18        1             0     1            1  \n",
              "1693          7        1             1     1            2  \n",
              "1705          8        1             0     0            0  \n",
              "1880          2        1             0     1            2  \n",
              "1882          4        1             1     1            0  \n",
              "1888          2        1             0     1            0  "
            ],
            "text/html": [
              "\n",
              "  <div id=\"df-81aafd93-2eb0-4823-8ef1-a26ae43c3a04\">\n",
              "    <div class=\"colab-df-container\">\n",
              "      <div>\n",
              "<style scoped>\n",
              "    .dataframe tbody tr th:only-of-type {\n",
              "        vertical-align: middle;\n",
              "    }\n",
              "\n",
              "    .dataframe tbody tr th {\n",
              "        vertical-align: top;\n",
              "    }\n",
              "\n",
              "    .dataframe thead th {\n",
              "        text-align: right;\n",
              "    }\n",
              "</style>\n",
              "<table border=\"1\" class=\"dataframe\">\n",
              "  <thead>\n",
              "    <tr style=\"text-align: right;\">\n",
              "      <th></th>\n",
              "      <th>battery_power</th>\n",
              "      <th>blue</th>\n",
              "      <th>clock_speed</th>\n",
              "      <th>dual_sim</th>\n",
              "      <th>fc</th>\n",
              "      <th>four_g</th>\n",
              "      <th>int_memory</th>\n",
              "      <th>m_dep</th>\n",
              "      <th>mobile_wt</th>\n",
              "      <th>n_cores</th>\n",
              "      <th>pc</th>\n",
              "      <th>px_height</th>\n",
              "      <th>px_width</th>\n",
              "      <th>ram</th>\n",
              "      <th>sc_h</th>\n",
              "      <th>sc_w</th>\n",
              "      <th>talk_time</th>\n",
              "      <th>three_g</th>\n",
              "      <th>touch_screen</th>\n",
              "      <th>wifi</th>\n",
              "      <th>price_range</th>\n",
              "    </tr>\n",
              "  </thead>\n",
              "  <tbody>\n",
              "    <tr>\n",
              "      <th>95</th>\n",
              "      <td>1137</td>\n",
              "      <td>1</td>\n",
              "      <td>1.0</td>\n",
              "      <td>0</td>\n",
              "      <td>18</td>\n",
              "      <td>0</td>\n",
              "      <td>7</td>\n",
              "      <td>1.0</td>\n",
              "      <td>196</td>\n",
              "      <td>3</td>\n",
              "      <td>19</td>\n",
              "      <td>942</td>\n",
              "      <td>1179</td>\n",
              "      <td>3616</td>\n",
              "      <td>13</td>\n",
              "      <td>5</td>\n",
              "      <td>12</td>\n",
              "      <td>1</td>\n",
              "      <td>1</td>\n",
              "      <td>1</td>\n",
              "      <td>3</td>\n",
              "    </tr>\n",
              "    <tr>\n",
              "      <th>169</th>\n",
              "      <td>1569</td>\n",
              "      <td>0</td>\n",
              "      <td>2.8</td>\n",
              "      <td>1</td>\n",
              "      <td>17</td>\n",
              "      <td>0</td>\n",
              "      <td>44</td>\n",
              "      <td>0.3</td>\n",
              "      <td>110</td>\n",
              "      <td>4</td>\n",
              "      <td>20</td>\n",
              "      <td>45</td>\n",
              "      <td>1942</td>\n",
              "      <td>1260</td>\n",
              "      <td>9</td>\n",
              "      <td>2</td>\n",
              "      <td>17</td>\n",
              "      <td>1</td>\n",
              "      <td>0</td>\n",
              "      <td>0</td>\n",
              "      <td>1</td>\n",
              "    </tr>\n",
              "    <tr>\n",
              "      <th>226</th>\n",
              "      <td>1708</td>\n",
              "      <td>1</td>\n",
              "      <td>2.4</td>\n",
              "      <td>1</td>\n",
              "      <td>18</td>\n",
              "      <td>1</td>\n",
              "      <td>49</td>\n",
              "      <td>0.1</td>\n",
              "      <td>109</td>\n",
              "      <td>1</td>\n",
              "      <td>19</td>\n",
              "      <td>233</td>\n",
              "      <td>517</td>\n",
              "      <td>3388</td>\n",
              "      <td>6</td>\n",
              "      <td>4</td>\n",
              "      <td>16</td>\n",
              "      <td>1</td>\n",
              "      <td>1</td>\n",
              "      <td>1</td>\n",
              "      <td>3</td>\n",
              "    </tr>\n",
              "    <tr>\n",
              "      <th>229</th>\n",
              "      <td>1689</td>\n",
              "      <td>0</td>\n",
              "      <td>1.8</td>\n",
              "      <td>0</td>\n",
              "      <td>17</td>\n",
              "      <td>0</td>\n",
              "      <td>24</td>\n",
              "      <td>0.3</td>\n",
              "      <td>127</td>\n",
              "      <td>3</td>\n",
              "      <td>18</td>\n",
              "      <td>954</td>\n",
              "      <td>1200</td>\n",
              "      <td>2766</td>\n",
              "      <td>7</td>\n",
              "      <td>2</td>\n",
              "      <td>7</td>\n",
              "      <td>0</td>\n",
              "      <td>1</td>\n",
              "      <td>1</td>\n",
              "      <td>3</td>\n",
              "    </tr>\n",
              "    <tr>\n",
              "      <th>300</th>\n",
              "      <td>1937</td>\n",
              "      <td>1</td>\n",
              "      <td>1.7</td>\n",
              "      <td>0</td>\n",
              "      <td>17</td>\n",
              "      <td>0</td>\n",
              "      <td>58</td>\n",
              "      <td>0.6</td>\n",
              "      <td>189</td>\n",
              "      <td>1</td>\n",
              "      <td>19</td>\n",
              "      <td>1728</td>\n",
              "      <td>1767</td>\n",
              "      <td>3321</td>\n",
              "      <td>5</td>\n",
              "      <td>4</td>\n",
              "      <td>14</td>\n",
              "      <td>1</td>\n",
              "      <td>1</td>\n",
              "      <td>0</td>\n",
              "      <td>3</td>\n",
              "    </tr>\n",
              "    <tr>\n",
              "      <th>305</th>\n",
              "      <td>1348</td>\n",
              "      <td>0</td>\n",
              "      <td>2.0</td>\n",
              "      <td>0</td>\n",
              "      <td>18</td>\n",
              "      <td>0</td>\n",
              "      <td>52</td>\n",
              "      <td>0.3</td>\n",
              "      <td>98</td>\n",
              "      <td>3</td>\n",
              "      <td>20</td>\n",
              "      <td>1869</td>\n",
              "      <td>1942</td>\n",
              "      <td>955</td>\n",
              "      <td>18</td>\n",
              "      <td>11</td>\n",
              "      <td>7</td>\n",
              "      <td>1</td>\n",
              "      <td>1</td>\n",
              "      <td>1</td>\n",
              "      <td>1</td>\n",
              "    </tr>\n",
              "    <tr>\n",
              "      <th>372</th>\n",
              "      <td>1703</td>\n",
              "      <td>1</td>\n",
              "      <td>1.5</td>\n",
              "      <td>1</td>\n",
              "      <td>17</td>\n",
              "      <td>1</td>\n",
              "      <td>55</td>\n",
              "      <td>0.7</td>\n",
              "      <td>138</td>\n",
              "      <td>5</td>\n",
              "      <td>19</td>\n",
              "      <td>1411</td>\n",
              "      <td>1711</td>\n",
              "      <td>2993</td>\n",
              "      <td>5</td>\n",
              "      <td>1</td>\n",
              "      <td>20</td>\n",
              "      <td>1</td>\n",
              "      <td>1</td>\n",
              "      <td>1</td>\n",
              "      <td>3</td>\n",
              "    </tr>\n",
              "    <tr>\n",
              "      <th>584</th>\n",
              "      <td>946</td>\n",
              "      <td>1</td>\n",
              "      <td>2.6</td>\n",
              "      <td>1</td>\n",
              "      <td>17</td>\n",
              "      <td>0</td>\n",
              "      <td>5</td>\n",
              "      <td>0.1</td>\n",
              "      <td>166</td>\n",
              "      <td>3</td>\n",
              "      <td>20</td>\n",
              "      <td>1698</td>\n",
              "      <td>1771</td>\n",
              "      <td>3720</td>\n",
              "      <td>15</td>\n",
              "      <td>7</td>\n",
              "      <td>4</td>\n",
              "      <td>0</td>\n",
              "      <td>1</td>\n",
              "      <td>0</td>\n",
              "      <td>3</td>\n",
              "    </tr>\n",
              "    <tr>\n",
              "      <th>1387</th>\n",
              "      <td>1533</td>\n",
              "      <td>1</td>\n",
              "      <td>1.1</td>\n",
              "      <td>1</td>\n",
              "      <td>18</td>\n",
              "      <td>1</td>\n",
              "      <td>17</td>\n",
              "      <td>0.3</td>\n",
              "      <td>160</td>\n",
              "      <td>4</td>\n",
              "      <td>20</td>\n",
              "      <td>1054</td>\n",
              "      <td>1393</td>\n",
              "      <td>2520</td>\n",
              "      <td>8</td>\n",
              "      <td>2</td>\n",
              "      <td>11</td>\n",
              "      <td>1</td>\n",
              "      <td>0</td>\n",
              "      <td>1</td>\n",
              "      <td>2</td>\n",
              "    </tr>\n",
              "    <tr>\n",
              "      <th>1406</th>\n",
              "      <td>1731</td>\n",
              "      <td>1</td>\n",
              "      <td>2.3</td>\n",
              "      <td>1</td>\n",
              "      <td>18</td>\n",
              "      <td>0</td>\n",
              "      <td>60</td>\n",
              "      <td>0.5</td>\n",
              "      <td>171</td>\n",
              "      <td>4</td>\n",
              "      <td>20</td>\n",
              "      <td>142</td>\n",
              "      <td>1039</td>\n",
              "      <td>1220</td>\n",
              "      <td>9</td>\n",
              "      <td>3</td>\n",
              "      <td>20</td>\n",
              "      <td>0</td>\n",
              "      <td>1</td>\n",
              "      <td>0</td>\n",
              "      <td>1</td>\n",
              "    </tr>\n",
              "    <tr>\n",
              "      <th>1416</th>\n",
              "      <td>1448</td>\n",
              "      <td>0</td>\n",
              "      <td>0.5</td>\n",
              "      <td>1</td>\n",
              "      <td>18</td>\n",
              "      <td>0</td>\n",
              "      <td>2</td>\n",
              "      <td>0.2</td>\n",
              "      <td>100</td>\n",
              "      <td>5</td>\n",
              "      <td>19</td>\n",
              "      <td>846</td>\n",
              "      <td>1144</td>\n",
              "      <td>593</td>\n",
              "      <td>9</td>\n",
              "      <td>4</td>\n",
              "      <td>18</td>\n",
              "      <td>1</td>\n",
              "      <td>1</td>\n",
              "      <td>1</td>\n",
              "      <td>0</td>\n",
              "    </tr>\n",
              "    <tr>\n",
              "      <th>1549</th>\n",
              "      <td>1772</td>\n",
              "      <td>1</td>\n",
              "      <td>1.6</td>\n",
              "      <td>0</td>\n",
              "      <td>17</td>\n",
              "      <td>1</td>\n",
              "      <td>45</td>\n",
              "      <td>0.5</td>\n",
              "      <td>159</td>\n",
              "      <td>2</td>\n",
              "      <td>18</td>\n",
              "      <td>837</td>\n",
              "      <td>1405</td>\n",
              "      <td>1146</td>\n",
              "      <td>6</td>\n",
              "      <td>1</td>\n",
              "      <td>17</td>\n",
              "      <td>1</td>\n",
              "      <td>1</td>\n",
              "      <td>0</td>\n",
              "      <td>1</td>\n",
              "    </tr>\n",
              "    <tr>\n",
              "      <th>1554</th>\n",
              "      <td>1957</td>\n",
              "      <td>0</td>\n",
              "      <td>1.2</td>\n",
              "      <td>1</td>\n",
              "      <td>18</td>\n",
              "      <td>1</td>\n",
              "      <td>36</td>\n",
              "      <td>0.8</td>\n",
              "      <td>151</td>\n",
              "      <td>2</td>\n",
              "      <td>19</td>\n",
              "      <td>1194</td>\n",
              "      <td>1727</td>\n",
              "      <td>1115</td>\n",
              "      <td>16</td>\n",
              "      <td>2</td>\n",
              "      <td>18</td>\n",
              "      <td>1</td>\n",
              "      <td>0</td>\n",
              "      <td>1</td>\n",
              "      <td>1</td>\n",
              "    </tr>\n",
              "    <tr>\n",
              "      <th>1693</th>\n",
              "      <td>695</td>\n",
              "      <td>0</td>\n",
              "      <td>0.5</td>\n",
              "      <td>0</td>\n",
              "      <td>18</td>\n",
              "      <td>1</td>\n",
              "      <td>12</td>\n",
              "      <td>0.6</td>\n",
              "      <td>196</td>\n",
              "      <td>2</td>\n",
              "      <td>19</td>\n",
              "      <td>1649</td>\n",
              "      <td>1829</td>\n",
              "      <td>2855</td>\n",
              "      <td>16</td>\n",
              "      <td>13</td>\n",
              "      <td>7</td>\n",
              "      <td>1</td>\n",
              "      <td>1</td>\n",
              "      <td>1</td>\n",
              "      <td>2</td>\n",
              "    </tr>\n",
              "    <tr>\n",
              "      <th>1705</th>\n",
              "      <td>1290</td>\n",
              "      <td>1</td>\n",
              "      <td>1.4</td>\n",
              "      <td>1</td>\n",
              "      <td>19</td>\n",
              "      <td>1</td>\n",
              "      <td>35</td>\n",
              "      <td>0.3</td>\n",
              "      <td>110</td>\n",
              "      <td>4</td>\n",
              "      <td>20</td>\n",
              "      <td>405</td>\n",
              "      <td>742</td>\n",
              "      <td>879</td>\n",
              "      <td>16</td>\n",
              "      <td>2</td>\n",
              "      <td>8</td>\n",
              "      <td>1</td>\n",
              "      <td>0</td>\n",
              "      <td>0</td>\n",
              "      <td>0</td>\n",
              "    </tr>\n",
              "    <tr>\n",
              "      <th>1880</th>\n",
              "      <td>1720</td>\n",
              "      <td>0</td>\n",
              "      <td>1.6</td>\n",
              "      <td>0</td>\n",
              "      <td>18</td>\n",
              "      <td>1</td>\n",
              "      <td>2</td>\n",
              "      <td>0.8</td>\n",
              "      <td>188</td>\n",
              "      <td>5</td>\n",
              "      <td>20</td>\n",
              "      <td>334</td>\n",
              "      <td>896</td>\n",
              "      <td>2522</td>\n",
              "      <td>10</td>\n",
              "      <td>5</td>\n",
              "      <td>2</td>\n",
              "      <td>1</td>\n",
              "      <td>0</td>\n",
              "      <td>1</td>\n",
              "      <td>2</td>\n",
              "    </tr>\n",
              "    <tr>\n",
              "      <th>1882</th>\n",
              "      <td>591</td>\n",
              "      <td>0</td>\n",
              "      <td>2.1</td>\n",
              "      <td>1</td>\n",
              "      <td>18</td>\n",
              "      <td>1</td>\n",
              "      <td>16</td>\n",
              "      <td>0.5</td>\n",
              "      <td>196</td>\n",
              "      <td>7</td>\n",
              "      <td>20</td>\n",
              "      <td>952</td>\n",
              "      <td>1726</td>\n",
              "      <td>704</td>\n",
              "      <td>14</td>\n",
              "      <td>5</td>\n",
              "      <td>4</td>\n",
              "      <td>1</td>\n",
              "      <td>1</td>\n",
              "      <td>1</td>\n",
              "      <td>0</td>\n",
              "    </tr>\n",
              "    <tr>\n",
              "      <th>1888</th>\n",
              "      <td>1544</td>\n",
              "      <td>0</td>\n",
              "      <td>2.4</td>\n",
              "      <td>0</td>\n",
              "      <td>18</td>\n",
              "      <td>1</td>\n",
              "      <td>12</td>\n",
              "      <td>0.1</td>\n",
              "      <td>186</td>\n",
              "      <td>7</td>\n",
              "      <td>20</td>\n",
              "      <td>470</td>\n",
              "      <td>844</td>\n",
              "      <td>489</td>\n",
              "      <td>9</td>\n",
              "      <td>4</td>\n",
              "      <td>2</td>\n",
              "      <td>1</td>\n",
              "      <td>0</td>\n",
              "      <td>1</td>\n",
              "      <td>0</td>\n",
              "    </tr>\n",
              "  </tbody>\n",
              "</table>\n",
              "</div>\n",
              "      <button class=\"colab-df-convert\" onclick=\"convertToInteractive('df-81aafd93-2eb0-4823-8ef1-a26ae43c3a04')\"\n",
              "              title=\"Convert this dataframe to an interactive table.\"\n",
              "              style=\"display:none;\">\n",
              "        \n",
              "  <svg xmlns=\"http://www.w3.org/2000/svg\" height=\"24px\"viewBox=\"0 0 24 24\"\n",
              "       width=\"24px\">\n",
              "    <path d=\"M0 0h24v24H0V0z\" fill=\"none\"/>\n",
              "    <path d=\"M18.56 5.44l.94 2.06.94-2.06 2.06-.94-2.06-.94-.94-2.06-.94 2.06-2.06.94zm-11 1L8.5 8.5l.94-2.06 2.06-.94-2.06-.94L8.5 2.5l-.94 2.06-2.06.94zm10 10l.94 2.06.94-2.06 2.06-.94-2.06-.94-.94-2.06-.94 2.06-2.06.94z\"/><path d=\"M17.41 7.96l-1.37-1.37c-.4-.4-.92-.59-1.43-.59-.52 0-1.04.2-1.43.59L10.3 9.45l-7.72 7.72c-.78.78-.78 2.05 0 2.83L4 21.41c.39.39.9.59 1.41.59.51 0 1.02-.2 1.41-.59l7.78-7.78 2.81-2.81c.8-.78.8-2.07 0-2.86zM5.41 20L4 18.59l7.72-7.72 1.47 1.35L5.41 20z\"/>\n",
              "  </svg>\n",
              "      </button>\n",
              "      \n",
              "  <style>\n",
              "    .colab-df-container {\n",
              "      display:flex;\n",
              "      flex-wrap:wrap;\n",
              "      gap: 12px;\n",
              "    }\n",
              "\n",
              "    .colab-df-convert {\n",
              "      background-color: #E8F0FE;\n",
              "      border: none;\n",
              "      border-radius: 50%;\n",
              "      cursor: pointer;\n",
              "      display: none;\n",
              "      fill: #1967D2;\n",
              "      height: 32px;\n",
              "      padding: 0 0 0 0;\n",
              "      width: 32px;\n",
              "    }\n",
              "\n",
              "    .colab-df-convert:hover {\n",
              "      background-color: #E2EBFA;\n",
              "      box-shadow: 0px 1px 2px rgba(60, 64, 67, 0.3), 0px 1px 3px 1px rgba(60, 64, 67, 0.15);\n",
              "      fill: #174EA6;\n",
              "    }\n",
              "\n",
              "    [theme=dark] .colab-df-convert {\n",
              "      background-color: #3B4455;\n",
              "      fill: #D2E3FC;\n",
              "    }\n",
              "\n",
              "    [theme=dark] .colab-df-convert:hover {\n",
              "      background-color: #434B5C;\n",
              "      box-shadow: 0px 1px 3px 1px rgba(0, 0, 0, 0.15);\n",
              "      filter: drop-shadow(0px 1px 2px rgba(0, 0, 0, 0.3));\n",
              "      fill: #FFFFFF;\n",
              "    }\n",
              "  </style>\n",
              "\n",
              "      <script>\n",
              "        const buttonEl =\n",
              "          document.querySelector('#df-81aafd93-2eb0-4823-8ef1-a26ae43c3a04 button.colab-df-convert');\n",
              "        buttonEl.style.display =\n",
              "          google.colab.kernel.accessAllowed ? 'block' : 'none';\n",
              "\n",
              "        async function convertToInteractive(key) {\n",
              "          const element = document.querySelector('#df-81aafd93-2eb0-4823-8ef1-a26ae43c3a04');\n",
              "          const dataTable =\n",
              "            await google.colab.kernel.invokeFunction('convertToInteractive',\n",
              "                                                     [key], {});\n",
              "          if (!dataTable) return;\n",
              "\n",
              "          const docLinkHtml = 'Like what you see? Visit the ' +\n",
              "            '<a target=\"_blank\" href=https://colab.research.google.com/notebooks/data_table.ipynb>data table notebook</a>'\n",
              "            + ' to learn more about interactive tables.';\n",
              "          element.innerHTML = '';\n",
              "          dataTable['output_type'] = 'display_data';\n",
              "          await google.colab.output.renderOutput(dataTable, element);\n",
              "          const docLink = document.createElement('div');\n",
              "          docLink.innerHTML = docLinkHtml;\n",
              "          element.appendChild(docLink);\n",
              "        }\n",
              "      </script>\n",
              "    </div>\n",
              "  </div>\n",
              "  "
            ]
          },
          "metadata": {},
          "execution_count": 105
        }
      ],
      "source": [
        "m_p_t[m_p_t.fc > upper_fc]"
      ]
    },
    {
      "cell_type": "code",
      "execution_count": null,
      "metadata": {
        "id": "hPIDGKquMLv3",
        "colab": {
          "base_uri": "https://localhost:8080/"
        },
        "outputId": "ea02d32f-2fda-42cc-84ba-5df64a2d8b2d"
      },
      "outputs": [
        {
          "output_type": "execute_result",
          "data": {
            "text/plain": [
              "Empty DataFrame\n",
              "Columns: [battery_power, blue, clock_speed, dual_sim, fc, four_g, int_memory, m_dep, mobile_wt, n_cores, pc, px_height, px_width, ram, sc_h, sc_w, talk_time, three_g, touch_screen, wifi, price_range]\n",
              "Index: []"
            ],
            "text/html": [
              "\n",
              "  <div id=\"df-9fcd164d-b14f-4647-bde6-28e005a4fd48\">\n",
              "    <div class=\"colab-df-container\">\n",
              "      <div>\n",
              "<style scoped>\n",
              "    .dataframe tbody tr th:only-of-type {\n",
              "        vertical-align: middle;\n",
              "    }\n",
              "\n",
              "    .dataframe tbody tr th {\n",
              "        vertical-align: top;\n",
              "    }\n",
              "\n",
              "    .dataframe thead th {\n",
              "        text-align: right;\n",
              "    }\n",
              "</style>\n",
              "<table border=\"1\" class=\"dataframe\">\n",
              "  <thead>\n",
              "    <tr style=\"text-align: right;\">\n",
              "      <th></th>\n",
              "      <th>battery_power</th>\n",
              "      <th>blue</th>\n",
              "      <th>clock_speed</th>\n",
              "      <th>dual_sim</th>\n",
              "      <th>fc</th>\n",
              "      <th>four_g</th>\n",
              "      <th>int_memory</th>\n",
              "      <th>m_dep</th>\n",
              "      <th>mobile_wt</th>\n",
              "      <th>n_cores</th>\n",
              "      <th>pc</th>\n",
              "      <th>px_height</th>\n",
              "      <th>px_width</th>\n",
              "      <th>ram</th>\n",
              "      <th>sc_h</th>\n",
              "      <th>sc_w</th>\n",
              "      <th>talk_time</th>\n",
              "      <th>three_g</th>\n",
              "      <th>touch_screen</th>\n",
              "      <th>wifi</th>\n",
              "      <th>price_range</th>\n",
              "    </tr>\n",
              "  </thead>\n",
              "  <tbody>\n",
              "  </tbody>\n",
              "</table>\n",
              "</div>\n",
              "      <button class=\"colab-df-convert\" onclick=\"convertToInteractive('df-9fcd164d-b14f-4647-bde6-28e005a4fd48')\"\n",
              "              title=\"Convert this dataframe to an interactive table.\"\n",
              "              style=\"display:none;\">\n",
              "        \n",
              "  <svg xmlns=\"http://www.w3.org/2000/svg\" height=\"24px\"viewBox=\"0 0 24 24\"\n",
              "       width=\"24px\">\n",
              "    <path d=\"M0 0h24v24H0V0z\" fill=\"none\"/>\n",
              "    <path d=\"M18.56 5.44l.94 2.06.94-2.06 2.06-.94-2.06-.94-.94-2.06-.94 2.06-2.06.94zm-11 1L8.5 8.5l.94-2.06 2.06-.94-2.06-.94L8.5 2.5l-.94 2.06-2.06.94zm10 10l.94 2.06.94-2.06 2.06-.94-2.06-.94-.94-2.06-.94 2.06-2.06.94z\"/><path d=\"M17.41 7.96l-1.37-1.37c-.4-.4-.92-.59-1.43-.59-.52 0-1.04.2-1.43.59L10.3 9.45l-7.72 7.72c-.78.78-.78 2.05 0 2.83L4 21.41c.39.39.9.59 1.41.59.51 0 1.02-.2 1.41-.59l7.78-7.78 2.81-2.81c.8-.78.8-2.07 0-2.86zM5.41 20L4 18.59l7.72-7.72 1.47 1.35L5.41 20z\"/>\n",
              "  </svg>\n",
              "      </button>\n",
              "      \n",
              "  <style>\n",
              "    .colab-df-container {\n",
              "      display:flex;\n",
              "      flex-wrap:wrap;\n",
              "      gap: 12px;\n",
              "    }\n",
              "\n",
              "    .colab-df-convert {\n",
              "      background-color: #E8F0FE;\n",
              "      border: none;\n",
              "      border-radius: 50%;\n",
              "      cursor: pointer;\n",
              "      display: none;\n",
              "      fill: #1967D2;\n",
              "      height: 32px;\n",
              "      padding: 0 0 0 0;\n",
              "      width: 32px;\n",
              "    }\n",
              "\n",
              "    .colab-df-convert:hover {\n",
              "      background-color: #E2EBFA;\n",
              "      box-shadow: 0px 1px 2px rgba(60, 64, 67, 0.3), 0px 1px 3px 1px rgba(60, 64, 67, 0.15);\n",
              "      fill: #174EA6;\n",
              "    }\n",
              "\n",
              "    [theme=dark] .colab-df-convert {\n",
              "      background-color: #3B4455;\n",
              "      fill: #D2E3FC;\n",
              "    }\n",
              "\n",
              "    [theme=dark] .colab-df-convert:hover {\n",
              "      background-color: #434B5C;\n",
              "      box-shadow: 0px 1px 3px 1px rgba(0, 0, 0, 0.15);\n",
              "      filter: drop-shadow(0px 1px 2px rgba(0, 0, 0, 0.3));\n",
              "      fill: #FFFFFF;\n",
              "    }\n",
              "  </style>\n",
              "\n",
              "      <script>\n",
              "        const buttonEl =\n",
              "          document.querySelector('#df-9fcd164d-b14f-4647-bde6-28e005a4fd48 button.colab-df-convert');\n",
              "        buttonEl.style.display =\n",
              "          google.colab.kernel.accessAllowed ? 'block' : 'none';\n",
              "\n",
              "        async function convertToInteractive(key) {\n",
              "          const element = document.querySelector('#df-9fcd164d-b14f-4647-bde6-28e005a4fd48');\n",
              "          const dataTable =\n",
              "            await google.colab.kernel.invokeFunction('convertToInteractive',\n",
              "                                                     [key], {});\n",
              "          if (!dataTable) return;\n",
              "\n",
              "          const docLinkHtml = 'Like what you see? Visit the ' +\n",
              "            '<a target=\"_blank\" href=https://colab.research.google.com/notebooks/data_table.ipynb>data table notebook</a>'\n",
              "            + ' to learn more about interactive tables.';\n",
              "          element.innerHTML = '';\n",
              "          dataTable['output_type'] = 'display_data';\n",
              "          await google.colab.output.renderOutput(dataTable, element);\n",
              "          const docLink = document.createElement('div');\n",
              "          docLink.innerHTML = docLinkHtml;\n",
              "          element.appendChild(docLink);\n",
              "        }\n",
              "      </script>\n",
              "    </div>\n",
              "  </div>\n",
              "  "
            ]
          },
          "metadata": {},
          "execution_count": 106
        }
      ],
      "source": [
        "m_p_t[m_p_t.fc < lower_fc]"
      ]
    },
    {
      "cell_type": "code",
      "execution_count": null,
      "metadata": {
        "id": "xvqVYBOIMLVQ",
        "colab": {
          "base_uri": "https://localhost:8080/"
        },
        "outputId": "daff3e8c-8bdf-452f-fc7b-c0566d758f79"
      },
      "outputs": [
        {
          "output_type": "execute_result",
          "data": {
            "text/plain": [
              "      battery_power  blue  clock_speed  dual_sim  fc  four_g  int_memory  \\\n",
              "988            1413     1          0.5         1   4       1          45   \n",
              "1771           1230     1          1.6         0   0       1          48   \n",
              "\n",
              "      m_dep  mobile_wt  n_cores  pc  px_height  px_width   ram  sc_h  sc_w  \\\n",
              "988     0.4        104        5   6       1949      1994  2973    17     8   \n",
              "1771    0.7        111        7   2       1960      1963  1622    18    17   \n",
              "\n",
              "      talk_time  three_g  touch_screen  wifi  price_range  \n",
              "988          15        1             0     1            3  \n",
              "1771         16        1             1     1            2  "
            ],
            "text/html": [
              "\n",
              "  <div id=\"df-c9afa105-94cf-4d6e-a8db-44155a90a450\">\n",
              "    <div class=\"colab-df-container\">\n",
              "      <div>\n",
              "<style scoped>\n",
              "    .dataframe tbody tr th:only-of-type {\n",
              "        vertical-align: middle;\n",
              "    }\n",
              "\n",
              "    .dataframe tbody tr th {\n",
              "        vertical-align: top;\n",
              "    }\n",
              "\n",
              "    .dataframe thead th {\n",
              "        text-align: right;\n",
              "    }\n",
              "</style>\n",
              "<table border=\"1\" class=\"dataframe\">\n",
              "  <thead>\n",
              "    <tr style=\"text-align: right;\">\n",
              "      <th></th>\n",
              "      <th>battery_power</th>\n",
              "      <th>blue</th>\n",
              "      <th>clock_speed</th>\n",
              "      <th>dual_sim</th>\n",
              "      <th>fc</th>\n",
              "      <th>four_g</th>\n",
              "      <th>int_memory</th>\n",
              "      <th>m_dep</th>\n",
              "      <th>mobile_wt</th>\n",
              "      <th>n_cores</th>\n",
              "      <th>pc</th>\n",
              "      <th>px_height</th>\n",
              "      <th>px_width</th>\n",
              "      <th>ram</th>\n",
              "      <th>sc_h</th>\n",
              "      <th>sc_w</th>\n",
              "      <th>talk_time</th>\n",
              "      <th>three_g</th>\n",
              "      <th>touch_screen</th>\n",
              "      <th>wifi</th>\n",
              "      <th>price_range</th>\n",
              "    </tr>\n",
              "  </thead>\n",
              "  <tbody>\n",
              "    <tr>\n",
              "      <th>988</th>\n",
              "      <td>1413</td>\n",
              "      <td>1</td>\n",
              "      <td>0.5</td>\n",
              "      <td>1</td>\n",
              "      <td>4</td>\n",
              "      <td>1</td>\n",
              "      <td>45</td>\n",
              "      <td>0.4</td>\n",
              "      <td>104</td>\n",
              "      <td>5</td>\n",
              "      <td>6</td>\n",
              "      <td>1949</td>\n",
              "      <td>1994</td>\n",
              "      <td>2973</td>\n",
              "      <td>17</td>\n",
              "      <td>8</td>\n",
              "      <td>15</td>\n",
              "      <td>1</td>\n",
              "      <td>0</td>\n",
              "      <td>1</td>\n",
              "      <td>3</td>\n",
              "    </tr>\n",
              "    <tr>\n",
              "      <th>1771</th>\n",
              "      <td>1230</td>\n",
              "      <td>1</td>\n",
              "      <td>1.6</td>\n",
              "      <td>0</td>\n",
              "      <td>0</td>\n",
              "      <td>1</td>\n",
              "      <td>48</td>\n",
              "      <td>0.7</td>\n",
              "      <td>111</td>\n",
              "      <td>7</td>\n",
              "      <td>2</td>\n",
              "      <td>1960</td>\n",
              "      <td>1963</td>\n",
              "      <td>1622</td>\n",
              "      <td>18</td>\n",
              "      <td>17</td>\n",
              "      <td>16</td>\n",
              "      <td>1</td>\n",
              "      <td>1</td>\n",
              "      <td>1</td>\n",
              "      <td>2</td>\n",
              "    </tr>\n",
              "  </tbody>\n",
              "</table>\n",
              "</div>\n",
              "      <button class=\"colab-df-convert\" onclick=\"convertToInteractive('df-c9afa105-94cf-4d6e-a8db-44155a90a450')\"\n",
              "              title=\"Convert this dataframe to an interactive table.\"\n",
              "              style=\"display:none;\">\n",
              "        \n",
              "  <svg xmlns=\"http://www.w3.org/2000/svg\" height=\"24px\"viewBox=\"0 0 24 24\"\n",
              "       width=\"24px\">\n",
              "    <path d=\"M0 0h24v24H0V0z\" fill=\"none\"/>\n",
              "    <path d=\"M18.56 5.44l.94 2.06.94-2.06 2.06-.94-2.06-.94-.94-2.06-.94 2.06-2.06.94zm-11 1L8.5 8.5l.94-2.06 2.06-.94-2.06-.94L8.5 2.5l-.94 2.06-2.06.94zm10 10l.94 2.06.94-2.06 2.06-.94-2.06-.94-.94-2.06-.94 2.06-2.06.94z\"/><path d=\"M17.41 7.96l-1.37-1.37c-.4-.4-.92-.59-1.43-.59-.52 0-1.04.2-1.43.59L10.3 9.45l-7.72 7.72c-.78.78-.78 2.05 0 2.83L4 21.41c.39.39.9.59 1.41.59.51 0 1.02-.2 1.41-.59l7.78-7.78 2.81-2.81c.8-.78.8-2.07 0-2.86zM5.41 20L4 18.59l7.72-7.72 1.47 1.35L5.41 20z\"/>\n",
              "  </svg>\n",
              "      </button>\n",
              "      \n",
              "  <style>\n",
              "    .colab-df-container {\n",
              "      display:flex;\n",
              "      flex-wrap:wrap;\n",
              "      gap: 12px;\n",
              "    }\n",
              "\n",
              "    .colab-df-convert {\n",
              "      background-color: #E8F0FE;\n",
              "      border: none;\n",
              "      border-radius: 50%;\n",
              "      cursor: pointer;\n",
              "      display: none;\n",
              "      fill: #1967D2;\n",
              "      height: 32px;\n",
              "      padding: 0 0 0 0;\n",
              "      width: 32px;\n",
              "    }\n",
              "\n",
              "    .colab-df-convert:hover {\n",
              "      background-color: #E2EBFA;\n",
              "      box-shadow: 0px 1px 2px rgba(60, 64, 67, 0.3), 0px 1px 3px 1px rgba(60, 64, 67, 0.15);\n",
              "      fill: #174EA6;\n",
              "    }\n",
              "\n",
              "    [theme=dark] .colab-df-convert {\n",
              "      background-color: #3B4455;\n",
              "      fill: #D2E3FC;\n",
              "    }\n",
              "\n",
              "    [theme=dark] .colab-df-convert:hover {\n",
              "      background-color: #434B5C;\n",
              "      box-shadow: 0px 1px 3px 1px rgba(0, 0, 0, 0.15);\n",
              "      filter: drop-shadow(0px 1px 2px rgba(0, 0, 0, 0.3));\n",
              "      fill: #FFFFFF;\n",
              "    }\n",
              "  </style>\n",
              "\n",
              "      <script>\n",
              "        const buttonEl =\n",
              "          document.querySelector('#df-c9afa105-94cf-4d6e-a8db-44155a90a450 button.colab-df-convert');\n",
              "        buttonEl.style.display =\n",
              "          google.colab.kernel.accessAllowed ? 'block' : 'none';\n",
              "\n",
              "        async function convertToInteractive(key) {\n",
              "          const element = document.querySelector('#df-c9afa105-94cf-4d6e-a8db-44155a90a450');\n",
              "          const dataTable =\n",
              "            await google.colab.kernel.invokeFunction('convertToInteractive',\n",
              "                                                     [key], {});\n",
              "          if (!dataTable) return;\n",
              "\n",
              "          const docLinkHtml = 'Like what you see? Visit the ' +\n",
              "            '<a target=\"_blank\" href=https://colab.research.google.com/notebooks/data_table.ipynb>data table notebook</a>'\n",
              "            + ' to learn more about interactive tables.';\n",
              "          element.innerHTML = '';\n",
              "          dataTable['output_type'] = 'display_data';\n",
              "          await google.colab.output.renderOutput(dataTable, element);\n",
              "          const docLink = document.createElement('div');\n",
              "          docLink.innerHTML = docLinkHtml;\n",
              "          element.appendChild(docLink);\n",
              "        }\n",
              "      </script>\n",
              "    </div>\n",
              "  </div>\n",
              "  "
            ]
          },
          "metadata": {},
          "execution_count": 107
        }
      ],
      "source": [
        "m_p_t[m_p_t['px_height'] > upper_px_height]"
      ]
    },
    {
      "cell_type": "code",
      "execution_count": null,
      "metadata": {
        "id": "eGlXnGa3Wnd-",
        "colab": {
          "base_uri": "https://localhost:8080/"
        },
        "outputId": "24e24875-81a5-49da-c0f6-da4664e77457"
      },
      "outputs": [
        {
          "output_type": "execute_result",
          "data": {
            "text/plain": [
              "Empty DataFrame\n",
              "Columns: [battery_power, blue, clock_speed, dual_sim, fc, four_g, int_memory, m_dep, mobile_wt, n_cores, pc, px_height, px_width, ram, sc_h, sc_w, talk_time, three_g, touch_screen, wifi, price_range]\n",
              "Index: []"
            ],
            "text/html": [
              "\n",
              "  <div id=\"df-2f1e1a89-f755-4ec1-b51d-d9199fc35571\">\n",
              "    <div class=\"colab-df-container\">\n",
              "      <div>\n",
              "<style scoped>\n",
              "    .dataframe tbody tr th:only-of-type {\n",
              "        vertical-align: middle;\n",
              "    }\n",
              "\n",
              "    .dataframe tbody tr th {\n",
              "        vertical-align: top;\n",
              "    }\n",
              "\n",
              "    .dataframe thead th {\n",
              "        text-align: right;\n",
              "    }\n",
              "</style>\n",
              "<table border=\"1\" class=\"dataframe\">\n",
              "  <thead>\n",
              "    <tr style=\"text-align: right;\">\n",
              "      <th></th>\n",
              "      <th>battery_power</th>\n",
              "      <th>blue</th>\n",
              "      <th>clock_speed</th>\n",
              "      <th>dual_sim</th>\n",
              "      <th>fc</th>\n",
              "      <th>four_g</th>\n",
              "      <th>int_memory</th>\n",
              "      <th>m_dep</th>\n",
              "      <th>mobile_wt</th>\n",
              "      <th>n_cores</th>\n",
              "      <th>pc</th>\n",
              "      <th>px_height</th>\n",
              "      <th>px_width</th>\n",
              "      <th>ram</th>\n",
              "      <th>sc_h</th>\n",
              "      <th>sc_w</th>\n",
              "      <th>talk_time</th>\n",
              "      <th>three_g</th>\n",
              "      <th>touch_screen</th>\n",
              "      <th>wifi</th>\n",
              "      <th>price_range</th>\n",
              "    </tr>\n",
              "  </thead>\n",
              "  <tbody>\n",
              "  </tbody>\n",
              "</table>\n",
              "</div>\n",
              "      <button class=\"colab-df-convert\" onclick=\"convertToInteractive('df-2f1e1a89-f755-4ec1-b51d-d9199fc35571')\"\n",
              "              title=\"Convert this dataframe to an interactive table.\"\n",
              "              style=\"display:none;\">\n",
              "        \n",
              "  <svg xmlns=\"http://www.w3.org/2000/svg\" height=\"24px\"viewBox=\"0 0 24 24\"\n",
              "       width=\"24px\">\n",
              "    <path d=\"M0 0h24v24H0V0z\" fill=\"none\"/>\n",
              "    <path d=\"M18.56 5.44l.94 2.06.94-2.06 2.06-.94-2.06-.94-.94-2.06-.94 2.06-2.06.94zm-11 1L8.5 8.5l.94-2.06 2.06-.94-2.06-.94L8.5 2.5l-.94 2.06-2.06.94zm10 10l.94 2.06.94-2.06 2.06-.94-2.06-.94-.94-2.06-.94 2.06-2.06.94z\"/><path d=\"M17.41 7.96l-1.37-1.37c-.4-.4-.92-.59-1.43-.59-.52 0-1.04.2-1.43.59L10.3 9.45l-7.72 7.72c-.78.78-.78 2.05 0 2.83L4 21.41c.39.39.9.59 1.41.59.51 0 1.02-.2 1.41-.59l7.78-7.78 2.81-2.81c.8-.78.8-2.07 0-2.86zM5.41 20L4 18.59l7.72-7.72 1.47 1.35L5.41 20z\"/>\n",
              "  </svg>\n",
              "      </button>\n",
              "      \n",
              "  <style>\n",
              "    .colab-df-container {\n",
              "      display:flex;\n",
              "      flex-wrap:wrap;\n",
              "      gap: 12px;\n",
              "    }\n",
              "\n",
              "    .colab-df-convert {\n",
              "      background-color: #E8F0FE;\n",
              "      border: none;\n",
              "      border-radius: 50%;\n",
              "      cursor: pointer;\n",
              "      display: none;\n",
              "      fill: #1967D2;\n",
              "      height: 32px;\n",
              "      padding: 0 0 0 0;\n",
              "      width: 32px;\n",
              "    }\n",
              "\n",
              "    .colab-df-convert:hover {\n",
              "      background-color: #E2EBFA;\n",
              "      box-shadow: 0px 1px 2px rgba(60, 64, 67, 0.3), 0px 1px 3px 1px rgba(60, 64, 67, 0.15);\n",
              "      fill: #174EA6;\n",
              "    }\n",
              "\n",
              "    [theme=dark] .colab-df-convert {\n",
              "      background-color: #3B4455;\n",
              "      fill: #D2E3FC;\n",
              "    }\n",
              "\n",
              "    [theme=dark] .colab-df-convert:hover {\n",
              "      background-color: #434B5C;\n",
              "      box-shadow: 0px 1px 3px 1px rgba(0, 0, 0, 0.15);\n",
              "      filter: drop-shadow(0px 1px 2px rgba(0, 0, 0, 0.3));\n",
              "      fill: #FFFFFF;\n",
              "    }\n",
              "  </style>\n",
              "\n",
              "      <script>\n",
              "        const buttonEl =\n",
              "          document.querySelector('#df-2f1e1a89-f755-4ec1-b51d-d9199fc35571 button.colab-df-convert');\n",
              "        buttonEl.style.display =\n",
              "          google.colab.kernel.accessAllowed ? 'block' : 'none';\n",
              "\n",
              "        async function convertToInteractive(key) {\n",
              "          const element = document.querySelector('#df-2f1e1a89-f755-4ec1-b51d-d9199fc35571');\n",
              "          const dataTable =\n",
              "            await google.colab.kernel.invokeFunction('convertToInteractive',\n",
              "                                                     [key], {});\n",
              "          if (!dataTable) return;\n",
              "\n",
              "          const docLinkHtml = 'Like what you see? Visit the ' +\n",
              "            '<a target=\"_blank\" href=https://colab.research.google.com/notebooks/data_table.ipynb>data table notebook</a>'\n",
              "            + ' to learn more about interactive tables.';\n",
              "          element.innerHTML = '';\n",
              "          dataTable['output_type'] = 'display_data';\n",
              "          await google.colab.output.renderOutput(dataTable, element);\n",
              "          const docLink = document.createElement('div');\n",
              "          docLink.innerHTML = docLinkHtml;\n",
              "          element.appendChild(docLink);\n",
              "        }\n",
              "      </script>\n",
              "    </div>\n",
              "  </div>\n",
              "  "
            ]
          },
          "metadata": {},
          "execution_count": 108
        }
      ],
      "source": [
        "m_p_t[m_p_t['px_height'] < lower_px_height]\n"
      ]
    },
    {
      "cell_type": "markdown",
      "metadata": {
        "id": "G6HlJM3dPZ9Q"
      },
      "source": [
        "##### **Trimming FC**"
      ]
    },
    {
      "cell_type": "code",
      "execution_count": null,
      "metadata": {
        "id": "XI1Jxzy6PPB2"
      },
      "outputs": [],
      "source": [
        "def trim_columns_plot(col, trim_col, name):\n",
        "\n",
        "  plt.figure(figsize = (10, 5))\n",
        "\n",
        "  plt.subplot(2, 2, 1)\n",
        "  sns.kdeplot(data=col, label=name.upper(), fill=True)\n",
        "  plt.xlabel(name.upper())\n",
        "\n",
        "  plt.subplot(2, 2, 2)\n",
        "  sns.boxplot(col,  orient = 'h')\n",
        "  plt.xlabel(name.upper())\n",
        "\n",
        "\n",
        "  plt.subplot(2, 2, 3)\n",
        "  sns.kdeplot(data=trim_col, label=name.upper(), fill=True)\n",
        "  plt.xlabel(f'Trim {name.upper()}')\n",
        "\n",
        "  plt.subplot(2, 2, 4)\n",
        "  ax = sns.boxplot(trim_col, orient = 'h')\n",
        "  plt.xlabel(f'Trim {name.upper()}')\n",
        "\n",
        "  plt.tight_layout(pad = 2.5)\n",
        "  plt.show()\n"
      ]
    },
    {
      "cell_type": "code",
      "execution_count": null,
      "metadata": {
        "id": "URC7kUXHV1X4",
        "colab": {
          "base_uri": "https://localhost:8080/"
        },
        "outputId": "71077feb-6a5d-4f03-88f7-f37ef6927b89"
      },
      "outputs": [
        {
          "output_type": "display_data",
          "data": {
            "text/plain": [
              "<Figure size 1000x500 with 4 Axes>"
            ],
            "image/png": "[encoded data removed]"
          },
          "metadata": {}
        }
      ],
      "source": [
        "trim_m_p_t_fc = m_p_t[m_p_t['fc'] < upper_fc]\n",
        "\n",
        "trim_columns_plot(m_p_t.fc, trim_m_p_t_fc.fc, 'fc')"
      ]
    },
    {
      "cell_type": "markdown",
      "metadata": {
        "id": "BqrORgVGUTcF"
      },
      "source": [
        "##### **Trimming PX Height**"
      ]
    },
    {
      "cell_type": "code",
      "execution_count": null,
      "metadata": {
        "id": "iRwJbAXvUVQG",
        "colab": {
          "base_uri": "https://localhost:8080/"
        },
        "outputId": "838d5e2d-b06f-4bc3-be52-20e6dcd3a801"
      },
      "outputs": [
        {
          "output_type": "display_data",
          "data": {
            "text/plain": [
              "<Figure size 1000x500 with 4 Axes>"
            ],
            "image/png": "[encoded data removed]"
          },
          "metadata": {}
        }
      ],
      "source": [
        "trim_m_p_t_px_height = m_p_t[m_p_t['px_height'] < upper_px_height]\n",
        "trim_columns_plot(m_p_t['px_height'], trim_m_p_t_px_height['px_height'], 'px_height')"
      ]
    },
    {
      "cell_type": "markdown",
      "metadata": {
        "id": "SGtTEHMiEUdX"
      },
      "source": [
        "### **Using Capping Method**"
      ]
    },
    {
      "cell_type": "code",
      "execution_count": null,
      "metadata": {
        "id": "dgXXak9tUVM0"
      },
      "outputs": [],
      "source": [
        "capp_m_p_t_fc = m_p_t.copy()\n",
        "\n",
        "capp_m_p_t_fc['fc'] = np.where(\n",
        "    capp_m_p_t_fc['fc'] > upper_fc,\n",
        "    upper_fc,\n",
        "    np.where(\n",
        "        capp_m_p_t_fc['fc'] < lower_fc,\n",
        "        lower_fc,\n",
        "        capp_m_p_t_fc['fc']\n",
        "    )\n",
        ")"
      ]
    },
    {
      "cell_type": "code",
      "execution_count": null,
      "metadata": {
        "id": "MhZClf7NPPR2",
        "colab": {
          "base_uri": "https://localhost:8080/"
        },
        "outputId": "201e317d-b58a-4d8b-a894-836d6c87f290"
      },
      "outputs": [
        {
          "output_type": "display_data",
          "data": {
            "text/plain": [
              "<Figure size 1000x500 with 4 Axes>"
            ],
            "image/png": "[encoded data removed]"
          },
          "metadata": {}
        }
      ],
      "source": [
        "trim_columns_plot(m_p_t['fc'], capp_m_p_t_fc['fc'], 'fc')"
      ]
    },
    {
      "cell_type": "markdown",
      "metadata": {
        "id": "pWO2MjYhF1O_"
      },
      "source": [
        "#### **Based on the above analysis conducted, it can be concluded that the capping method is useful for the FC column, as this feature contains a greater number of outliers. Conversely, trimming may be more appropriate for the Px_height feature, as it only contains two outliers.**"
      ]
    },
    {
      "cell_type": "code",
      "execution_count": null,
      "metadata": {
        "id": "Ap6jg9_VPPsG"
      },
      "outputs": [],
      "source": [
        "# Cappint the FC columns\n",
        "\n",
        "m_p_t['fc'] = np.where(\n",
        "    m_p_t['fc'] > upper_fc,\n",
        "    upper_fc,\n",
        "    np.where(\n",
        "        m_p_t['fc'] < lower_fc,\n",
        "        lower_fc,\n",
        "        m_p_t['fc']\n",
        "    )\n",
        ")\n",
        "\n",
        "# Trimming the Px_height column\n",
        "\n",
        "m_p_t_no_outlr = m_p_t[m_p_t['px_height'] < upper_px_height]\n"
      ]
    },
    {
      "cell_type": "code",
      "execution_count": null,
      "metadata": {
        "id": "9kwVYyOePHkw",
        "colab": {
          "base_uri": "https://localhost:8080/"
        },
        "outputId": "1e72a303-f3ce-45c5-ef5f-429a2f2be5af"
      },
      "outputs": [
        {
          "output_type": "display_data",
          "data": {
            "text/html": [
              "<html>\n",
              "<head><meta charset=\"utf-8\" /></head>\n",
              "<body>\n",
              "    <div>            <script src=\"https://cdnjs.cloudflare.com/ajax/libs/mathjax/2.7.5/MathJax.js?config=TeX-AMS-MML_SVG\"></script><script type=\"text/javascript\">if (window.MathJax && window.MathJax.Hub && window.MathJax.Hub.Config) {window.MathJax.Hub.Config({SVG: {font: \"STIX-Web\"}});}</script>                <script type=\"text/javascript\">window.PlotlyConfig = {MathJaxConfig: 'local'};</script>\n",
              "        <script src=\"https://cdn.plot.ly/plotly-2.18.2.min.js\"></script>                <div id=\"6b25ba5a-e3db-42a1-a7ff-e7f06ddde012\" class=\"plotly-graph-div\" style=\"height:500px; width:800px;\"></div>            <script type=\"text/javascript\">                                    window.PLOTLYENV=window.PLOTLYENV || {};                                    if (document.getElementById(\"6b25ba5a-e3db-42a1-a7ff-e7f06ddde012\")) {                    Plotly.newPlot(                        \"6b25ba5a-e3db-42a1-a7ff-e7f06ddde012\",                        [{\"boxmean\":true,\"boxpoints\":\"suspectedoutliers\",\"orientation\":\"h\",\"x\":[1.0,0.0,2.0,0.0,13.0,3.0,4.0,0.0,0.0,2.0,0.0,5.0,2.0,7.0,13.0,3.0,1.0,7.0,11.0,4.0,12.0,1.0,4.0,4.0,5.0,0.0,7.0,1.0,12.0,3.0,0.0,16.0,3.0,0.0,0.0,16.0,1.0,6.0,16.0,15.0,5.0,8.0,5.0,5.0,1.0,0.0,1.0,3.0,2.0,9.0,2.0,5.0,0.0,1.0,0.0,10.0,13.0,0.0,8.0,2.0,3.0,1.0,0.0,15.0,2.0,13.0,11.0,0.0,0.0,0.0,6.0,1.0,8.0,3.0,4.0,8.0,4.0,1.0,15.0,6.0,0.0,11.0,2.0,11.0,5.0,5.0,4.0,1.0,0.0,0.0,2.0,7.0,0.0,11.0,6.0,16.0,10.0,3.0,0.0,6.0,3.0,4.0,0.0,0.0,1.0,2.0,5.0,3.0,0.0,3.0,0.0,0.0,0.0,13.0,9.0,1.0,0.0,3.0,8.0,0.0,3.0,1.0,7.0,5.0,3.0,5.0,0.0,4.0,11.0,0.0,2.0,9.0,1.0,7.0,1.0,0.0,0.0,5.0,12.0,1.0,0.0,1.0,4.0,0.0,3.0,1.0,0.0,3.0,4.0,6.0,1.0,4.0,3.0,2.0,6.0,4.0,3.0,16.0,0.0,12.0,4.0,10.0,0.0,11.0,11.0,3.0,0.0,2.0,0.0,16.0,2.0,2.0,5.0,0.0,0.0,8.0,2.0,0.0,0.0,2.0,12.0,11.0,0.0,15.0,0.0,1.0,0.0,0.0,3.0,2.0,8.0,1.0,4.0,5.0,0.0,1.0,0.0,0.0,3.0,9.0,0.0,7.0,0.0,10.0,6.0,0.0,16.0,7.0,1.0,0.0,0.0,0.0,9.0,4.0,0.0,3.0,0.0,5.0,0.0,4.0,6.0,5.0,8.0,1.0,3.0,1.0,16.0,0.0,2.0,16.0,1.0,4.0,4.0,0.0,12.0,6.0,3.0,14.0,0.0,0.0,0.0,0.0,0.0,2.0,7.0,2.0,3.0,3.0,4.0,3.0,0.0,0.0,0.0,2.0,9.0,5.0,4.0,1.0,0.0,6.0,7.0,0.0,0.0,4.0,8.0,5.0,10.0,10.0,4.0,0.0,2.0,0.0,7.0,11.0,5.0,3.0,0.0,3.0,12.0,0.0,3.0,0.0,9.0,6.0,7.0,0.0,6.0,0.0,16.0,0.0,8.0,10.0,6.0,6.0,1.0,0.0,7.0,1.0,11.0,8.0,16.0,2.0,16.0,11.0,1.0,16.0,0.0,6.0,11.0,1.0,5.0,0.0,1.0,6.0,0.0,3.0,6.0,6.0,7.0,6.0,0.0,2.0,1.0,14.0,5.0,5.0,0.0,6.0,1.0,5.0,5.0,0.0,0.0,1.0,8.0,0.0,0.0,2.0,2.0,0.0,5.0,5.0,8.0,6.0,2.0,0.0,2.0,6.0,7.0,2.0,15.0,16.0,2.0,7.0,10.0,7.0,0.0,1.0,10.0,1.0,10.0,13.0,4.0,0.0,0.0,8.0,0.0,0.0,8.0,8.0,10.0,4.0,16.0,0.0,5.0,0.0,0.0,1.0,2.0,0.0,10.0,2.0,3.0,0.0,12.0,4.0,12.0,14.0,1.0,1.0,3.0,0.0,15.0,3.0,0.0,8.0,4.0,0.0,10.0,0.0,0.0,16.0,8.0,0.0,6.0,1.0,0.0,9.0,12.0,2.0,5.0,2.0,12.0,0.0,2.0,5.0,1.0,2.0,1.0,2.0,7.0,6.0,10.0,2.0,4.0,3.0,9.0,0.0,3.0,10.0,6.0,3.0,0.0,0.0,4.0,0.0,8.0,1.0,10.0,0.0,6.0,1.0,3.0,13.0,2.0,7.0,5.0,15.0,5.0,1.0,3.0,0.0,2.0,10.0,1.0,6.0,4.0,12.0,0.0,6.0,9.0,12.0,3.0,5.0,3.0,5.0,2.0,7.0,0.0,10.0,1.0,8.0,0.0,1.0,0.0,9.0,0.0,4.0,14.0,2.0,2.0,1.0,14.0,0.0,0.0,0.0,12.0,13.0,0.0,5.0,7.0,5.0,3.0,6.0,0.0,5.0,11.0,13.0,1.0,3.0,1.0,16.0,1.0,0.0,0.0,1.0,2.0,7.0,0.0,6.0,9.0,6.0,11.0,10.0,2.0,2.0,0.0,8.0,3.0,9.0,11.0,9.0,6.0,5.0,0.0,3.0,8.0,6.0,7.0,9.0,3.0,3.0,3.0,3.0,0.0,0.0,8.0,7.0,4.0,5.0,5.0,1.0,2.0,3.0,0.0,16.0,0.0,0.0,0.0,0.0,10.0,1.0,0.0,12.0,6.0,6.0,10.0,0.0,4.0,2.0,9.0,15.0,11.0,0.0,16.0,12.0,4.0,14.0,15.0,0.0,7.0,9.0,13.0,0.0,4.0,9.0,4.0,7.0,1.0,2.0,4.0,8.0,1.0,0.0,16.0,2.0,8.0,0.0,2.0,0.0,6.0,0.0,12.0,0.0,0.0,1.0,10.0,0.0,6.0,4.0,2.0,0.0,0.0,0.0,0.0,5.0,7.0,1.0,6.0,1.0,3.0,0.0,0.0,0.0,9.0,1.0,6.0,1.0,0.0,7.0,1.0,5.0,0.0,7.0,5.0,12.0,0.0,0.0,1.0,1.0,1.0,0.0,0.0,5.0,13.0,7.0,2.0,10.0,4.0,0.0,0.0,0.0,0.0,2.0,4.0,6.0,4.0,13.0,1.0,0.0,7.0,10.0,1.0,8.0,7.0,2.0,11.0,3.0,13.0,9.0,1.0,1.0,6.0,6.0,0.0,4.0,4.0,1.0,4.0,0.0,11.0,4.0,0.0,6.0,2.0,8.0,2.0,5.0,10.0,10.0,0.0,0.0,12.0,1.0,13.0,3.0,10.0,0.0,8.0,5.0,2.0,7.0,2.0,1.0,0.0,6.0,0.0,3.0,4.0,0.0,7.0,1.0,1.0,4.0,0.0,2.0,2.0,3.0,2.0,10.0,0.0,1.0,8.0,14.0,0.0,0.0,5.0,5.0,3.0,1.0,12.0,0.0,6.0,2.0,6.0,13.0,0.0,0.0,4.0,9.0,8.0,2.0,13.0,0.0,12.0,3.0,3.0,1.0,13.0,0.0,0.0,0.0,0.0,5.0,6.0,16.0,7.0,1.0,5.0,1.0,2.0,0.0,6.0,5.0,8.0,7.0,0.0,0.0,2.0,3.0,6.0,1.0,0.0,0.0,7.0,5.0,0.0,1.0,4.0,9.0,7.0,16.0,0.0,1.0,0.0,1.0,2.0,9.0,2.0,0.0,15.0,10.0,6.0,11.0,5.0,6.0,7.0,2.0,12.0,8.0,0.0,1.0,3.0,8.0,4.0,0.0,0.0,0.0,2.0,3.0,12.0,15.0,4.0,2.0,0.0,0.0,3.0,5.0,4.0,8.0,4.0,9.0,0.0,10.0,0.0,1.0,0.0,1.0,7.0,2.0,0.0,6.0,0.0,0.0,7.0,8.0,15.0,5.0,6.0,4.0,1.0,1.0,2.0,4.0,0.0,9.0,0.0,15.0,2.0,1.0,5.0,3.0,8.0,3.0,7.0,13.0,8.0,13.0,11.0,10.0,0.0,5.0,2.0,2.0,7.0,6.0,0.0,6.0,9.0,2.0,0.0,11.0,0.0,9.0,3.0,3.0,9.0,3.0,0.0,6.0,7.0,6.0,10.0,0.0,2.0,0.0,1.0,2.0,5.0,7.0,3.0,0.0,1.0,1.0,8.0,6.0,13.0,0.0,8.0,0.0,0.0,4.0,0.0,12.0,5.0,3.0,3.0,4.0,7.0,0.0,0.0,9.0,10.0,3.0,3.0,4.0,6.0,5.0,0.0,0.0,3.0,0.0,2.0,1.0,15.0,4.0,4.0,3.0,0.0,0.0,2.0,0.0,5.0,0.0,15.0,2.0,13.0,15.0,5.0,0.0,0.0,3.0,3.0,11.0,2.0,2.0,1.0,1.0,5.0,9.0,9.0,0.0,3.0,0.0,0.0,0.0,2.0,3.0,2.0,6.0,7.0,0.0,9.0,6.0,0.0,4.0,9.0,1.0,3.0,3.0,7.0,2.0,4.0,4.0,4.0,1.0,0.0,0.0,7.0,7.0,5.0,5.0,6.0,1.0,0.0,0.0,0.0,4.0,4.0,3.0,11.0,0.0,2.0,2.0,0.0,9.0,5.0,0.0,10.0,13.0,13.0,5.0,11.0,14.0,5.0,2.0,0.0,1.0,3.0,2.0,5.0,12.0,3.0,15.0,0.0,11.0,16.0,2.0,4.0,5.0,7.0,0.0,0.0,3.0,4.0,0.0,1.0,12.0,3.0,0.0,1.0,13.0,7.0,9.0,13.0,1.0,7.0,0.0,0.0,6.0,3.0,8.0,0.0,7.0,1.0,0.0,1.0,0.0,2.0,12.0,2.0,0.0,5.0,3.0,10.0,4.0,1.0,1.0,3.0,0.0,3.0,1.0,1.0,11.0,0.0,1.0,0.0,9.0,0.0,3.0,4.0,16.0,5.0,3.0,7.0,6.0,5.0,4.0,1.0,2.0,1.0,0.0,13.0,0.0,3.0,0.0,8.0,0.0,1.0,3.0,1.0,7.0,11.0,0.0,1.0,0.0,8.0,6.0,9.0,2.0,8.0,0.0,3.0,0.0,1.0,6.0,2.0,4.0,0.0,1.0,13.0,4.0,2.0,4.0,11.0,1.0,0.0,3.0,1.0,5.0,0.0,1.0,0.0,1.0,14.0,2.0,11.0,0.0,11.0,8.0,15.0,4.0,1.0,9.0,4.0,1.0,8.0,13.0,0.0,2.0,2.0,0.0,3.0,2.0,1.0,1.0,1.0,2.0,10.0,3.0,3.0,10.0,10.0,1.0,0.0,5.0,3.0,0.0,0.0,9.0,11.0,2.0,2.0,1.0,0.0,2.0,0.0,10.0,0.0,13.0,0.0,8.0,11.0,8.0,9.0,0.0,0.0,8.0,9.0,12.0,4.0,2.0,0.0,2.0,3.0,12.0,2.0,9.0,0.0,0.0,0.0,11.0,0.0,0.0,0.0,11.0,5.0,7.0,1.0,10.0,12.0,4.0,0.0,2.0,7.0,16.0,0.0,0.0,2.0,1.0,0.0,0.0,6.0,11.0,2.0,0.0,2.0,13.0,2.0,0.0,7.0,10.0,1.0,8.0,3.0,1.0,5.0,5.0,3.0,0.0,0.0,2.0,7.0,0.0,6.0,3.0,2.0,0.0,4.0,5.0,4.0,5.0,0.0,9.0,0.0,5.0,2.0,4.0,0.0,2.0,7.0,11.0,5.0,10.0,0.0,1.0,0.0,0.0,2.0,1.0,2.0,1.0,1.0,6.0,5.0,4.0,0.0,14.0,5.0,0.0,1.0,8.0,1.0,1.0,1.0,13.0,3.0,4.0,1.0,7.0,0.0,1.0,3.0,4.0,4.0,10.0,2.0,2.0,12.0,4.0,5.0,4.0,5.0,2.0,0.0,0.0,1.0,10.0,7.0,6.0,10.0,0.0,7.0,1.0,10.0,0.0,1.0,10.0,2.0,5.0,1.0,5.0,2.0,1.0,5.0,2.0,7.0,0.0,2.0,0.0,3.0,0.0,3.0,5.0,1.0,0.0,13.0,3.0,9.0,6.0,4.0,7.0,6.0,0.0,3.0,2.0,14.0,0.0,15.0,1.0,5.0,3.0,9.0,8.0,5.0,4.0,3.0,7.0,0.0,3.0,12.0,9.0,2.0,8.0,1.0,0.0,5.0,0.0,0.0,8.0,12.0,7.0,0.0,8.0,0.0,7.0,0.0,9.0,2.0,9.0,0.0,1.0,2.0,4.0,0.0,8.0,8.0,4.0,2.0,0.0,3.0,2.0,3.0,1.0,0.0,1.0,0.0,0.0,2.0,0.0,7.0,1.0,12.0,6.0,0.0,9.0,16.0,3.0,6.0,1.0,15.0,4.0,0.0,0.0,8.0,6.0,2.0,0.0,7.0,0.0,6.0,6.0,5.0,3.0,3.0,16.0,1.0,1.0,7.0,0.0,1.0,6.0,6.0,2.0,10.0,16.0,0.0,1.0,2.0,4.0,4.0,1.0,3.0,5.0,1.0,8.0,0.0,11.0,9.0,1.0,0.0,9.0,0.0,0.0,9.0,5.0,1.0,8.0,4.0,2.0,0.0,5.0,0.0,7.0,7.0,6.0,16.0,0.0,9.0,3.0,0.0,1.0,1.0,5.0,0.0,16.0,6.0,10.0,3.0,7.0,1.0,4.0,11.0,0.0,0.0,3.0,4.0,0.0,0.0,0.0,5.0,1.0,0.0,14.0,2.0,6.0,0.0,0.0,2.0,8.0,7.0,0.0,1.0,11.0,0.0,1.0,9.0,0.0,7.0,5.0,9.0,1.0,3.0,0.0,4.0,2.0,2.0,1.0,5.0,6.0,0.0,2.0,7.0,4.0,5.0,4.0,0.0,7.0,0.0,9.0,7.0,1.0,5.0,2.0,0.0,13.0,3.0,1.0,3.0,9.0,6.0,14.0,0.0,0.0,2.0,1.0,5.0,1.0,4.0,5.0,0.0,5.0,0.0,12.0,9.0,9.0,7.0,9.0,1.0,5.0,9.0,9.0,7.0,1.0,2.0,2.0,4.0,0.0,16.0,0.0,2.0,0.0,1.0,16.0,1.0,1.0,0.0,12.0,7.0,5.0,0.0,2.0,1.0,1.0,3.0,6.0,0.0,0.0,6.0,2.0,0.0,6.0,0.0,11.0,2.0,2.0,6.0,0.0,9.0,2.0,0.0,2.0,0.0,6.0,11.0,5.0,1.0,11.0,3.0,1.0,0.0,3.0,0.0,16.0,10.0,1.0,1.0,0.0,7.0,10.0,2.0,4.0,0.0,1.0,8.0,3.0,0.0,9.0,0.0,12.0,3.0,1.0,2.0,1.0,0.0,7.0,5.0,7.0,6.0,0.0,3.0,3.0,1.0,5.0,1.0,6.0,5.0,11.0,12.0,6.0,1.0,0.0,11.0,13.0,1.0,10.0,2.0,3.0,0.0,16.0,6.0,14.0,9.0,1.0,0.0,2.0,0.0,10.0,2.0,4.0,5.0,3.0,0.0,10.0,14.0,4.0,5.0,4.0,6.0,10.0,10.0,1.0,0.0,3.0,16.0,1.0,0.0,14.0,5.0,4.0,5.0,6.0,7.0,3.0,0.0,10.0,4.0,5.0,6.0,5.0,0.0,0.0,3.0,14.0,5.0,13.0,5.0,13.0,5.0,0.0,1.0,6.0,16.0,0.0,4.0,4.0,0.0,3.0,1.0,0.0,2.0,0.0,8.0,8.0,16.0,0.0,16.0,1.0,15.0,0.0,0.0,8.0,2.0,10.0,5.0,0.0,0.0,2.0,0.0,6.0,7.0,3.0,7.0,2.0,2.0,3.0,5.0,0.0,12.0,6.0,6.0,12.0,0.0,4.0,11.0,2.0,4.0,15.0,4.0,5.0,9.0,2.0,2.0,0.0,6.0,3.0,11.0,5.0,0.0,10.0,1.0,5.0,1.0,0.0,1.0,2.0,1.0,5.0,3.0,2.0,5.0,3.0,4.0,3.0,3.0,0.0,15.0,0.0,0.0,8.0,0.0,3.0,3.0,1.0,6.0,1.0,5.0,0.0,7.0,9.0,3.0,10.0,8.0,3.0,3.0,7.0,16.0,1.0,9.0,0.0,0.0,0.0,2.0,4.0,1.0,6.0,12.0,14.0,0.0,8.0,3.0,2.0,12.0,4.0,5.0,4.0,0.0,7.0,1.0,1.0,0.0,1.0,4.0,1.0,1.0,6.0,1.0,3.0,0.0,13.0,0.0,13.0,3.0,4.0,9.0,4.0,8.0,4.0,9.0,6.0,1.0,4.0,3.0,6.0,0.0,0.0,12.0,2.0,1.0,1.0,2.0,0.0,8.0,3.0,3.0,14.0,3.0,11.0,9.0,13.0,1.0,8.0,1.0,14.0,6.0,1.0,3.0,4.0,3.0,5.0,3.0,3.0,1.0,11.0,7.0,7.0,1.0,7.0,8.0,10.0,0.0,1.0,1.0,5.0,0.0,0.0,0.0,0.0,16.0,8.0,16.0,5.0,3.0,0.0,11.0,0.0,16.0,1.0,3.0,4.0,7.0,1.0,0.0,3.0,1.0,2.0,3.0,9.0,2.0,1.0,9.0,1.0,3.0,7.0,0.0,1.0,2.0,2.0,5.0,0.0,1.0,9.0,3.0,1.0,2.0,0.0,0.0,1.0,1.0,0.0,9.0,8.0,2.0,5.0,0.0,2.0,8.0,0.0,5.0,0.0,1.0,3.0,0.0,6.0,1.0,0.0,7.0,12.0,1.0,4.0,5.0,7.0,2.0,5.0,0.0,0.0,0.0,4.0,1.0,10.0,4.0,0.0,0.0,4.0,2.0,0.0,6.0,3.0,0.0,13.0,9.0,3.0,4.0,2.0,0.0,2.0,0.0,5.0,0.0,0.0,6.0,2.0,9.0,7.0,2.0,1.0,3.0,1.0,4.0,8.0,4.0,12.0,0.0,8.0,6.0,9.0,2.0,2.0,8.0,11.0,1.0,0.0,1.0,0.0,0.0,1.0,4.0,5.0],\"type\":\"box\",\"xaxis\":\"x\",\"yaxis\":\"y\"},{\"boxmean\":true,\"boxpoints\":\"suspectedoutliers\",\"orientation\":\"h\",\"x\":[20,905,1263,1216,1208,1004,381,512,386,1137,248,151,607,344,356,862,984,441,658,902,1314,974,407,466,201,291,550,511,187,1171,1358,413,85,178,311,1134,429,609,347,1448,434,1725,685,880,1580,186,202,27,1025,885,1042,1382,546,1013,690,667,822,581,265,127,916,361,322,753,504,651,1565,108,459,205,570,1172,160,4,763,339,1040,166,1168,990,319,1397,708,1077,928,516,96,1025,666,557,1605,1226,769,403,177,942,651,1572,476,1233,836,824,391,320,325,125,846,1770,293,1633,1198,768,70,117,1158,1055,635,322,275,1445,550,1242,597,538,59,819,179,1259,396,713,262,622,327,522,313,226,605,692,1386,304,1590,229,839,507,436,756,387,1265,1852,875,140,577,975,510,583,674,1125,747,1612,311,116,554,811,730,577,660,450,1223,1109,45,299,506,635,1045,393,650,433,839,1176,650,218,564,986,561,65,420,1365,619,849,611,953,642,1417,247,710,718,1100,59,938,825,286,1273,295,852,710,1277,129,690,701,309,213,1112,199,55,1230,1052,541,55,809,1738,404,262,759,42,397,964,233,1022,411,954,1528,416,638,231,574,148,730,564,1290,632,529,1273,667,1170,169,105,793,490,1201,246,417,1177,78,323,707,457,356,936,912,179,1914,526,156,344,865,1552,546,1097,372,1285,1242,302,594,303,1858,403,32,590,235,630,357,246,475,1054,555,607,1360,142,681,104,637,410,1830,802,311,56,344,1053,221,506,1728,63,418,854,178,1869,185,170,454,866,44,1331,1285,741,520,114,1153,474,39,419,584,312,19,207,363,209,159,649,1132,1392,1001,712,418,384,119,627,1086,195,14,745,253,333,629,707,1314,1715,513,13,1243,300,58,1107,134,275,176,1236,336,1116,1010,205,1453,788,1301,463,188,1028,1419,1471,168,1125,130,481,1411,79,1187,561,96,77,493,1173,964,634,639,127,431,71,111,356,798,747,408,373,1362,475,743,447,42,30,162,347,346,727,180,1641,269,250,1186,77,507,379,264,1486,694,579,495,315,329,548,531,191,823,96,841,195,21,235,1417,286,649,966,1172,270,781,418,126,228,1091,1452,674,398,449,1184,675,1792,177,1013,1058,592,810,533,558,681,1017,765,1176,947,1314,609,754,619,453,205,282,130,494,275,447,281,6,292,164,631,897,268,861,331,1064,509,622,957,494,236,980,1789,831,902,636,831,518,233,725,170,157,1142,840,401,395,48,982,478,581,1215,594,683,536,83,905,249,803,459,584,1596,418,364,946,186,1428,1613,1127,691,1802,751,859,187,206,1673,710,1331,263,97,129,1213,189,628,320,837,1087,781,251,262,767,1226,389,920,1027,271,369,1258,417,1345,613,912,666,236,186,416,430,168,1467,179,159,120,762,600,286,1350,27,1597,1177,402,577,52,364,934,250,214,612,1111,163,202,729,1079,361,338,1698,1052,1108,951,1197,473,1294,410,178,782,434,464,137,492,1250,385,427,1024,240,886,1233,183,88,1016,80,611,569,304,276,1131,551,436,553,1391,981,680,687,1060,217,1140,304,504,832,935,446,942,897,1208,159,632,1308,1002,1331,150,1248,108,320,437,295,1058,79,593,693,300,234,1545,59,1103,91,177,58,447,942,88,371,1446,181,1311,1791,1568,706,871,1074,501,271,920,1171,293,833,485,182,207,1698,165,1086,192,1156,377,709,729,543,553,526,637,113,1114,461,1430,304,471,806,80,204,545,112,1331,1055,609,290,1039,1485,1122,462,1384,1502,589,82,68,689,208,1339,722,717,433,1298,186,1397,618,1214,613,649,193,22,1464,280,690,39,337,1036,1347,22,327,778,482,591,229,901,715,172,681,867,286,451,1119,526,1299,217,1109,434,671,1404,856,381,85,562,1111,209,997,91,730,606,445,286,985,1617,375,1795,486,757,273,491,762,448,231,1713,438,68,698,510,965,1399,532,8,154,198,860,461,109,193,961,243,1626,480,123,400,190,626,1,548,632,349,1686,1455,95,580,297,951,667,1047,408,1150,333,641,653,103,517,785,531,564,761,1179,673,472,412,977,359,224,714,195,843,308,522,364,806,518,519,792,382,214,859,342,713,172,118,540,18,987,535,1092,327,517,994,491,268,210,144,729,82,188,150,1222,331,1178,347,75,492,65,881,351,1842,758,1323,1175,1092,647,1102,319,215,945,381,546,1096,575,519,342,291,1091,352,165,385,1920,396,1134,721,687,777,176,458,485,641,798,256,370,191,1571,276,573,160,90,138,983,275,149,42,793,625,521,1530,442,152,1242,29,501,87,648,521,120,985,341,751,993,43,1262,361,104,618,815,1587,138,584,750,820,8,171,960,160,612,709,624,538,1295,1164,829,199,825,519,169,1734,76,1698,819,387,985,970,767,512,56,590,462,126,578,655,1028,88,1692,358,64,259,236,873,858,1405,237,650,541,361,335,1638,1109,111,1285,1480,322,1220,511,1011,629,140,1081,297,1512,275,1136,1145,477,954,741,547,1194,146,471,169,1895,1537,236,821,466,393,400,774,284,465,705,38,51,850,349,387,706,951,179,426,653,1578,280,251,1463,1432,477,1122,145,416,847,868,594,518,663,371,1749,586,409,35,1008,442,983,875,952,244,65,1749,716,433,134,179,804,787,704,991,379,489,1518,855,1261,115,1203,545,818,42,1103,168,719,163,1162,626,329,330,956,1140,217,271,444,1003,227,253,88,334,1281,168,898,46,118,1187,1191,526,346,89,137,1226,473,368,239,622,654,853,686,992,115,275,461,1428,614,193,1105,398,480,775,1482,154,454,737,419,853,1211,314,172,527,874,674,657,475,1209,15,293,813,173,457,533,912,798,412,130,201,299,1277,626,378,333,805,1901,1573,360,20,98,703,273,919,982,879,1287,1109,211,1058,532,290,890,327,1260,570,621,328,1307,497,219,1163,24,468,1272,503,1495,1333,267,149,1070,206,158,48,249,935,140,184,238,800,211,670,725,81,1211,1362,945,1043,444,311,812,202,531,404,954,274,956,1438,1446,692,777,1157,454,478,217,468,1107,626,485,43,322,880,1511,667,765,614,925,1185,1706,347,1603,806,1207,431,179,423,1131,925,62,800,211,81,667,405,678,1619,935,864,1495,870,1379,1055,220,419,1111,1097,447,273,590,116,306,300,1259,1573,1392,113,526,1209,655,1123,692,796,1021,995,1244,293,1240,759,398,358,403,211,194,1076,1238,229,327,135,5,715,511,549,420,838,314,739,62,3,963,1438,1621,19,887,567,584,496,1245,682,724,1384,257,17,983,439,925,409,293,384,149,447,717,195,153,1699,501,530,396,670,193,351,846,111,1213,755,1406,497,1826,50,817,901,212,329,837,248,632,366,174,882,688,263,118,1012,586,294,818,426,151,409,641,958,1328,354,1709,1099,783,194,238,919,758,1039,1054,122,100,1221,312,599,1274,62,315,1123,1878,318,574,1353,86,340,602,963,127,142,274,371,788,395,643,854,1335,1541,382,846,960,154,468,1094,272,165,394,629,831,903,923,362,693,1250,1135,66,924,204,376,1083,229,875,35,18,103,105,168,18,659,534,285,482,1571,605,158,1573,127,343,289,1703,1482,907,491,287,1151,1024,1085,991,1052,1078,98,396,323,410,1750,1475,1836,283,539,440,397,204,347,1003,0,264,543,467,875,1116,1325,1313,552,335,50,593,268,382,443,576,596,115,356,10,1399,68,643,809,683,56,492,699,290,23,394,713,1063,1421,623,83,1563,777,83,203,938,1077,773,332,570,742,1420,1801,1693,31,1098,1765,887,760,486,2,202,90,469,86,1180,140,1100,194,440,1563,163,192,837,356,155,1032,40,1194,1179,902,58,1385,614,672,1088,499,157,485,571,431,499,563,944,1138,161,126,15,500,203,961,608,277,114,630,404,248,225,699,649,416,1310,930,835,664,460,778,225,785,1581,9,7,174,437,278,1288,979,56,913,282,322,1252,1128,606,655,954,68,134,922,1874,251,1362,281,224,778,546,397,386,214,461,125,335,342,625,494,1145,600,484,199,21,885,308,1015,1303,406,124,150,108,90,588,1028,776,278,897,651,1010,737,1399,376,1117,234,691,380,603,117,766,1499,1175,988,190,674,518,1618,857,371,73,98,395,1064,712,774,1012,730,777,973,245,937,937,574,678,82,398,1096,1419,157,430,1524,1649,254,1790,1438,1304,813,948,1161,867,181,754,242,405,1569,105,978,725,657,1147,910,295,26,332,519,161,1080,649,71,744,437,115,547,495,1466,117,760,764,776,53,371,728,1791,606,1225,419,367,1230,267,273,705,214,424,84,605,1175,657,371,833,102,1299,258,56,443,1279,313,523,919,570,380,119,296,358,1364,424,961,431,950,647,116,306,808,94,380,593,1684,1221,410,600,189,308,148,297,1050,1191,1399,1658,1153,35,553,46,207,67,818,1257,138,11,889,831,713,527,1284,911,1047,123,406,927,407,1041,781,1191,103,125,919,536,638,639,496,686,1064,240,525,348,1262,1899,258,1188,730,484,547,800,347,679,1224,948,366,223,1619,332,167,782,881,91,487,120,1626,74,634,334,931,921,805,1057,616,740,542,344,211,79,887,670,383,718,144,1442,291,1352,209,861,426,266,523,40,262,623,4,1001,334,453,952,321,1451,1048,398,417,470,1217,298,36,85,655,167,212,617,271,159,786,46,645,1371,881,449,338,1332,119,256,428,1546,1210,789,390,110,1330,674,253,317,183,892,388,52,914,287,773,675,367,510,1325,1661,665,662,0,284,661,757,560,470,146,1315,533,560,405,227,479,227,149,88,114,662,441,888,664,64,747,956,776,652,1168,201,724,599,3,1652,190,1171,1081,1211,976,675,455,42,1196,503,1694,306,838,291,173,1017,698,610,223,206,1457,742,591,347,241,743,4,576,888,528,1222,915,868,336,483],\"type\":\"box\",\"xaxis\":\"x2\",\"yaxis\":\"y2\"}],                        {\"template\":{\"data\":{\"histogram2dcontour\":[{\"type\":\"histogram2dcontour\",\"colorbar\":{\"outlinewidth\":0,\"ticks\":\"\"},\"colorscale\":[[0.0,\"#0d0887\"],[0.1111111111111111,\"#46039f\"],[0.2222222222222222,\"#7201a8\"],[0.3333333333333333,\"#9c179e\"],[0.4444444444444444,\"#bd3786\"],[0.5555555555555556,\"#d8576b\"],[0.6666666666666666,\"#ed7953\"],[0.7777777777777778,\"#fb9f3a\"],[0.8888888888888888,\"#fdca26\"],[1.0,\"#f0f921\"]]}],\"choropleth\":[{\"type\":\"choropleth\",\"colorbar\":{\"outlinewidth\":0,\"ticks\":\"\"}}],\"histogram2d\":[{\"type\":\"histogram2d\",\"colorbar\":{\"outlinewidth\":0,\"ticks\":\"\"},\"colorscale\":[[0.0,\"#0d0887\"],[0.1111111111111111,\"#46039f\"],[0.2222222222222222,\"#7201a8\"],[0.3333333333333333,\"#9c179e\"],[0.4444444444444444,\"#bd3786\"],[0.5555555555555556,\"#d8576b\"],[0.6666666666666666,\"#ed7953\"],[0.7777777777777778,\"#fb9f3a\"],[0.8888888888888888,\"#fdca26\"],[1.0,\"#f0f921\"]]}],\"heatmap\":[{\"type\":\"heatmap\",\"colorbar\":{\"outlinewidth\":0,\"ticks\":\"\"},\"colorscale\":[[0.0,\"#0d0887\"],[0.1111111111111111,\"#46039f\"],[0.2222222222222222,\"#7201a8\"],[0.3333333333333333,\"#9c179e\"],[0.4444444444444444,\"#bd3786\"],[0.5555555555555556,\"#d8576b\"],[0.6666666666666666,\"#ed7953\"],[0.7777777777777778,\"#fb9f3a\"],[0.8888888888888888,\"#fdca26\"],[1.0,\"#f0f921\"]]}],\"heatmapgl\":[{\"type\":\"heatmapgl\",\"colorbar\":{\"outlinewidth\":0,\"ticks\":\"\"},\"colorscale\":[[0.0,\"#0d0887\"],[0.1111111111111111,\"#46039f\"],[0.2222222222222222,\"#7201a8\"],[0.3333333333333333,\"#9c179e\"],[0.4444444444444444,\"#bd3786\"],[0.5555555555555556,\"#d8576b\"],[0.6666666666666666,\"#ed7953\"],[0.7777777777777778,\"#fb9f3a\"],[0.8888888888888888,\"#fdca26\"],[1.0,\"#f0f921\"]]}],\"contourcarpet\":[{\"type\":\"contourcarpet\",\"colorbar\":{\"outlinewidth\":0,\"ticks\":\"\"}}],\"contour\":[{\"type\":\"contour\",\"colorbar\":{\"outlinewidth\":0,\"ticks\":\"\"},\"colorscale\":[[0.0,\"#0d0887\"],[0.1111111111111111,\"#46039f\"],[0.2222222222222222,\"#7201a8\"],[0.3333333333333333,\"#9c179e\"],[0.4444444444444444,\"#bd3786\"],[0.5555555555555556,\"#d8576b\"],[0.6666666666666666,\"#ed7953\"],[0.7777777777777778,\"#fb9f3a\"],[0.8888888888888888,\"#fdca26\"],[1.0,\"#f0f921\"]]}],\"surface\":[{\"type\":\"surface\",\"colorbar\":{\"outlinewidth\":0,\"ticks\":\"\"},\"colorscale\":[[0.0,\"#0d0887\"],[0.1111111111111111,\"#46039f\"],[0.2222222222222222,\"#7201a8\"],[0.3333333333333333,\"#9c179e\"],[0.4444444444444444,\"#bd3786\"],[0.5555555555555556,\"#d8576b\"],[0.6666666666666666,\"#ed7953\"],[0.7777777777777778,\"#fb9f3a\"],[0.8888888888888888,\"#fdca26\"],[1.0,\"#f0f921\"]]}],\"mesh3d\":[{\"type\":\"mesh3d\",\"colorbar\":{\"outlinewidth\":0,\"ticks\":\"\"}}],\"scatter\":[{\"fillpattern\":{\"fillmode\":\"overlay\",\"size\":10,\"solidity\":0.2},\"type\":\"scatter\"}],\"parcoords\":[{\"type\":\"parcoords\",\"line\":{\"colorbar\":{\"outlinewidth\":0,\"ticks\":\"\"}}}],\"scatterpolargl\":[{\"type\":\"scatterpolargl\",\"marker\":{\"colorbar\":{\"outlinewidth\":0,\"ticks\":\"\"}}}],\"bar\":[{\"error_x\":{\"color\":\"#2a3f5f\"},\"error_y\":{\"color\":\"#2a3f5f\"},\"marker\":{\"line\":{\"color\":\"#E5ECF6\",\"width\":0.5},\"pattern\":{\"fillmode\":\"overlay\",\"size\":10,\"solidity\":0.2}},\"type\":\"bar\"}],\"scattergeo\":[{\"type\":\"scattergeo\",\"marker\":{\"colorbar\":{\"outlinewidth\":0,\"ticks\":\"\"}}}],\"scatterpolar\":[{\"type\":\"scatterpolar\",\"marker\":{\"colorbar\":{\"outlinewidth\":0,\"ticks\":\"\"}}}],\"histogram\":[{\"marker\":{\"pattern\":{\"fillmode\":\"overlay\",\"size\":10,\"solidity\":0.2}},\"type\":\"histogram\"}],\"scattergl\":[{\"type\":\"scattergl\",\"marker\":{\"colorbar\":{\"outlinewidth\":0,\"ticks\":\"\"}}}],\"scatter3d\":[{\"type\":\"scatter3d\",\"line\":{\"colorbar\":{\"outlinewidth\":0,\"ticks\":\"\"}},\"marker\":{\"colorbar\":{\"outlinewidth\":0,\"ticks\":\"\"}}}],\"scattermapbox\":[{\"type\":\"scattermapbox\",\"marker\":{\"colorbar\":{\"outlinewidth\":0,\"ticks\":\"\"}}}],\"scatterternary\":[{\"type\":\"scatterternary\",\"marker\":{\"colorbar\":{\"outlinewidth\":0,\"ticks\":\"\"}}}],\"scattercarpet\":[{\"type\":\"scattercarpet\",\"marker\":{\"colorbar\":{\"outlinewidth\":0,\"ticks\":\"\"}}}],\"carpet\":[{\"aaxis\":{\"endlinecolor\":\"#2a3f5f\",\"gridcolor\":\"white\",\"linecolor\":\"white\",\"minorgridcolor\":\"white\",\"startlinecolor\":\"#2a3f5f\"},\"baxis\":{\"endlinecolor\":\"#2a3f5f\",\"gridcolor\":\"white\",\"linecolor\":\"white\",\"minorgridcolor\":\"white\",\"startlinecolor\":\"#2a3f5f\"},\"type\":\"carpet\"}],\"table\":[{\"cells\":{\"fill\":{\"color\":\"#EBF0F8\"},\"line\":{\"color\":\"white\"}},\"header\":{\"fill\":{\"color\":\"#C8D4E3\"},\"line\":{\"color\":\"white\"}},\"type\":\"table\"}],\"barpolar\":[{\"marker\":{\"line\":{\"color\":\"#E5ECF6\",\"width\":0.5},\"pattern\":{\"fillmode\":\"overlay\",\"size\":10,\"solidity\":0.2}},\"type\":\"barpolar\"}],\"pie\":[{\"automargin\":true,\"type\":\"pie\"}]},\"layout\":{\"autotypenumbers\":\"strict\",\"colorway\":[\"#636efa\",\"#EF553B\",\"#00cc96\",\"#ab63fa\",\"#FFA15A\",\"#19d3f3\",\"#FF6692\",\"#B6E880\",\"#FF97FF\",\"#FECB52\"],\"font\":{\"color\":\"#2a3f5f\"},\"hovermode\":\"closest\",\"hoverlabel\":{\"align\":\"left\"},\"paper_bgcolor\":\"white\",\"plot_bgcolor\":\"#E5ECF6\",\"polar\":{\"bgcolor\":\"#E5ECF6\",\"angularaxis\":{\"gridcolor\":\"white\",\"linecolor\":\"white\",\"ticks\":\"\"},\"radialaxis\":{\"gridcolor\":\"white\",\"linecolor\":\"white\",\"ticks\":\"\"}},\"ternary\":{\"bgcolor\":\"#E5ECF6\",\"aaxis\":{\"gridcolor\":\"white\",\"linecolor\":\"white\",\"ticks\":\"\"},\"baxis\":{\"gridcolor\":\"white\",\"linecolor\":\"white\",\"ticks\":\"\"},\"caxis\":{\"gridcolor\":\"white\",\"linecolor\":\"white\",\"ticks\":\"\"}},\"coloraxis\":{\"colorbar\":{\"outlinewidth\":0,\"ticks\":\"\"}},\"colorscale\":{\"sequential\":[[0.0,\"#0d0887\"],[0.1111111111111111,\"#46039f\"],[0.2222222222222222,\"#7201a8\"],[0.3333333333333333,\"#9c179e\"],[0.4444444444444444,\"#bd3786\"],[0.5555555555555556,\"#d8576b\"],[0.6666666666666666,\"#ed7953\"],[0.7777777777777778,\"#fb9f3a\"],[0.8888888888888888,\"#fdca26\"],[1.0,\"#f0f921\"]],\"sequentialminus\":[[0.0,\"#0d0887\"],[0.1111111111111111,\"#46039f\"],[0.2222222222222222,\"#7201a8\"],[0.3333333333333333,\"#9c179e\"],[0.4444444444444444,\"#bd3786\"],[0.5555555555555556,\"#d8576b\"],[0.6666666666666666,\"#ed7953\"],[0.7777777777777778,\"#fb9f3a\"],[0.8888888888888888,\"#fdca26\"],[1.0,\"#f0f921\"]],\"diverging\":[[0,\"#8e0152\"],[0.1,\"#c51b7d\"],[0.2,\"#de77ae\"],[0.3,\"#f1b6da\"],[0.4,\"#fde0ef\"],[0.5,\"#f7f7f7\"],[0.6,\"#e6f5d0\"],[0.7,\"#b8e186\"],[0.8,\"#7fbc41\"],[0.9,\"#4d9221\"],[1,\"#276419\"]]},\"xaxis\":{\"gridcolor\":\"white\",\"linecolor\":\"white\",\"ticks\":\"\",\"title\":{\"standoff\":15},\"zerolinecolor\":\"white\",\"automargin\":true,\"zerolinewidth\":2},\"yaxis\":{\"gridcolor\":\"white\",\"linecolor\":\"white\",\"ticks\":\"\",\"title\":{\"standoff\":15},\"zerolinecolor\":\"white\",\"automargin\":true,\"zerolinewidth\":2},\"scene\":{\"xaxis\":{\"backgroundcolor\":\"#E5ECF6\",\"gridcolor\":\"white\",\"linecolor\":\"white\",\"showbackground\":true,\"ticks\":\"\",\"zerolinecolor\":\"white\",\"gridwidth\":2},\"yaxis\":{\"backgroundcolor\":\"#E5ECF6\",\"gridcolor\":\"white\",\"linecolor\":\"white\",\"showbackground\":true,\"ticks\":\"\",\"zerolinecolor\":\"white\",\"gridwidth\":2},\"zaxis\":{\"backgroundcolor\":\"#E5ECF6\",\"gridcolor\":\"white\",\"linecolor\":\"white\",\"showbackground\":true,\"ticks\":\"\",\"zerolinecolor\":\"white\",\"gridwidth\":2}},\"shapedefaults\":{\"line\":{\"color\":\"#2a3f5f\"}},\"annotationdefaults\":{\"arrowcolor\":\"#2a3f5f\",\"arrowhead\":0,\"arrowwidth\":1},\"geo\":{\"bgcolor\":\"white\",\"landcolor\":\"#E5ECF6\",\"subunitcolor\":\"white\",\"showland\":true,\"showlakes\":true,\"lakecolor\":\"white\"},\"title\":{\"x\":0.05},\"mapbox\":{\"style\":\"light\"}}},\"xaxis\":{\"anchor\":\"y\",\"domain\":[0.0,0.475],\"title\":{\"text\":\"FC\"}},\"yaxis\":{\"anchor\":\"x\",\"domain\":[0.0,1.0],\"showticklabels\":false},\"xaxis2\":{\"anchor\":\"y2\",\"domain\":[0.525,1.0],\"title\":{\"text\":\"PX Height\"}},\"yaxis2\":{\"anchor\":\"x2\",\"domain\":[0.0,1.0],\"showticklabels\":false},\"title\":{\"font\":{\"color\":\"#393646\",\"family\":\"Bold\",\"size\":26},\"text\":\"After Outliers Removal\",\"y\":0.96,\"x\":0.5,\"xanchor\":\"center\",\"yanchor\":\"top\"},\"showlegend\":false,\"height\":500,\"width\":800},                        {\"responsive\": true}                    ).then(function(){\n",
              "                            \n",
              "var gd = document.getElementById('6b25ba5a-e3db-42a1-a7ff-e7f06ddde012');\n",
              "var x = new MutationObserver(function (mutations, observer) {{\n",
              "        var display = window.getComputedStyle(gd).display;\n",
              "        if (!display || display === 'none') {{\n",
              "            console.log([gd, 'removed!']);\n",
              "            Plotly.purge(gd);\n",
              "            observer.disconnect();\n",
              "        }}\n",
              "}});\n",
              "\n",
              "// Listen for the removal of the full notebook cells\n",
              "var notebookContainer = gd.closest('#notebook-container');\n",
              "if (notebookContainer) {{\n",
              "    x.observe(notebookContainer, {childList: true});\n",
              "}}\n",
              "\n",
              "// Listen for the clearing of the current output cell\n",
              "var outputEl = gd.closest('.output');\n",
              "if (outputEl) {{\n",
              "    x.observe(outputEl, {childList: true});\n",
              "}}\n",
              "\n",
              "                        })                };                            </script>        </div>\n",
              "</body>\n",
              "</html>"
            ]
          },
          "metadata": {}
        }
      ],
      "source": [
        "fig = sp.make_subplots(rows=1, cols=2, vertical_spacing = 0.14, horizontal_spacing = 0.05)\n",
        "\n",
        "\n",
        "trace1 = go.Box(x=m_p_t_no_outlr['fc'], orientation='h', boxpoints='suspectedoutliers', boxmean=True)\n",
        "\n",
        "trace2 = go.Box(x=m_p_t_no_outlr['px_height'], orientation='h', boxpoints='suspectedoutliers', boxmean=True)\n",
        "\n",
        "\n",
        "fig.add_trace(trace1, row=1, col=1)\n",
        "fig.update_xaxes(title_text=\"FC\", row=1, col=1)\n",
        "\n",
        "\n",
        "fig.add_trace(trace2, row=1, col=2)\n",
        "fig.update_xaxes(title_text=\"PX Height\", row=1, col=2)\n",
        "\n",
        "\n",
        "fig.update_yaxes(showticklabels=False)\n",
        "\n",
        "fig.update_layout(\n",
        "\n",
        "  title={\n",
        "    'text': 'After Outliers Removal',\n",
        "    'y': 0.96,\n",
        "    'x': 0.5,\n",
        "    'xanchor': 'center',\n",
        "    'yanchor': 'top',\n",
        "    'font' : {\n",
        "        'color' : '#393646',\n",
        "        'family' : 'Bold',\n",
        "        'size' : 26\n",
        "  }\n",
        "\n",
        "},\n",
        "\n",
        "showlegend = False,\n",
        "height = 500,\n",
        "width = 800\n",
        ")\n",
        "\n",
        "fig.show()\n",
        "\n",
        "\n",
        "\n"
      ]
    },
    {
      "cell_type": "markdown",
      "metadata": {
        "id": "QFEtvNEKzuqQ"
      },
      "source": [
        "## **Using Min Max Scaling to standardized the numerical columns**"
      ]
    },
    {
      "cell_type": "code",
      "execution_count": null,
      "metadata": {
        "id": "dxGzrM5hzuwf"
      },
      "outputs": [],
      "source": [
        "# def min_max_scale(col):\n",
        "\n",
        "#   min = np.min(col)\n",
        "#   max = np.max(col)\n",
        "\n",
        "#   standard = [(x - min) /(max - min) for x in col]\n",
        "\n",
        "#   return standard\n",
        "\n",
        "\n",
        "stdz_m_p_t = m_p_t_no_outlr.copy()\n",
        "\n",
        "# for col in num_colms[:len(num_colms) - 1]:\n",
        "#   stdz_m_p_t[col] = min_max_scale(stdz_m_p_t[col])\n",
        "\n",
        "# print(m_p_t_no_outlr[num_colms].head())\n",
        "\n",
        "# stdz_m_p_t[num_colms].head()\n",
        "\n"
      ]
    },
    {
      "cell_type": "code",
      "execution_count": null,
      "metadata": {
        "id": "Wv1C5KnPLc0k",
        "colab": {
          "base_uri": "https://localhost:8080/"
        },
        "outputId": "890db07f-c3ca-4300-c2ff-1b3c2c55a91a"
      },
      "outputs": [
        {
          "output_type": "stream",
          "name": "stdout",
          "text": [
            "<class 'pandas.core.frame.DataFrame'>\n",
            "RangeIndex: 2000 entries, 0 to 1999\n",
            "Data columns (total 21 columns):\n",
            " #   Column         Non-Null Count  Dtype  \n",
            "---  ------         --------------  -----  \n",
            " 0   battery_power  2000 non-null   int64  \n",
            " 1   blue           2000 non-null   int64  \n",
            " 2   clock_speed    2000 non-null   float64\n",
            " 3   dual_sim       2000 non-null   int64  \n",
            " 4   fc             2000 non-null   float64\n",
            " 5   four_g         2000 non-null   int64  \n",
            " 6   int_memory     2000 non-null   int64  \n",
            " 7   m_dep          2000 non-null   float64\n",
            " 8   mobile_wt      2000 non-null   int64  \n",
            " 9   n_cores        2000 non-null   int64  \n",
            " 10  pc             2000 non-null   int64  \n",
            " 11  px_height      2000 non-null   int64  \n",
            " 12  px_width       2000 non-null   int64  \n",
            " 13  ram            2000 non-null   int64  \n",
            " 14  sc_h           2000 non-null   int64  \n",
            " 15  sc_w           2000 non-null   int64  \n",
            " 16  talk_time      2000 non-null   int64  \n",
            " 17  three_g        2000 non-null   int64  \n",
            " 18  touch_screen   2000 non-null   int64  \n",
            " 19  wifi           2000 non-null   int64  \n",
            " 20  price_range    2000 non-null   int64  \n",
            "dtypes: float64(3), int64(18)\n",
            "memory usage: 328.2 KB\n"
          ]
        }
      ],
      "source": [
        "m_p_t.info()"
      ]
    },
    {
      "cell_type": "markdown",
      "metadata": {
        "id": "6-EjOrpStmM4"
      },
      "source": [
        "## **Statistical Test to Select Features**"
      ]
    },
    {
      "cell_type": "markdown",
      "metadata": {
        "id": "ajjYpVaoSneZ"
      },
      "source": [
        "#### **Doing Anova Test to numeric columns to determine the significance of predicting price_rang**"
      ]
    },
    {
      "cell_type": "markdown",
      "metadata": {
        "id": "DvxlwhADvZSW"
      },
      "source": [
        "#### **Creating our own ANOVA Function**"
      ]
    },
    {
      "cell_type": "code",
      "execution_count": null,
      "metadata": {
        "id": "zom3NpI9vYRo",
        "colab": {
          "base_uri": "https://localhost:8080/"
        },
        "outputId": "0b7f2e13-7eb8-45c8-fef7-e12873b78580"
      },
      "outputs": [
        {
          "output_type": "execute_result",
          "data": {
            "text/plain": [
              "(5.143252849784718, 0.04999999999999982, 0.9516215013591449)"
            ]
          },
          "metadata": {},
          "execution_count": 118
        }
      ],
      "source": [
        "def anova_one(*categories) -> List[float]:\n",
        "\n",
        "  # Flatten all the categories into one 1D array\n",
        "  # grand = np.array(categories)\n",
        "  # grand = grand.flatten()\n",
        "  grand = []\n",
        "\n",
        "  for outer in categories:\n",
        "    for elm in outer:\n",
        "      grand.append(elm)\n",
        "\n",
        "  num_of_condition = len(categories)\n",
        "  total_num_of_data = len(grand)\n",
        "\n",
        "  # for catg in categories:\n",
        "  #   total_num_of_data += len(catg)\n",
        "\n",
        "  df_bw = num_of_condition - 1\n",
        "  df_wtn = total_num_of_data - num_of_condition\n",
        "\n",
        "  # Critical Value\n",
        "  f_crit = f.ppf(q=1-.05, dfn=df_bw, dfd=df_wtn)\n",
        "\n",
        "  grand_mean = np.mean(grand)\n",
        "  mean_arr = [np.mean(x) for x in categories]\n",
        "\n",
        "  SST_numerator = grand\n",
        "\n",
        "  # Sum of Squares Total Σ(x - x̄)^2\n",
        "  SST = np.sum(np.apply_along_axis(lambda x: np.power(x - grand_mean, 2), 0, SST_numerator))\n",
        "\n",
        "  # Sum of Squares Withing Σ(x1 - x̄1)^2 + Σ(x2 - x̄2)^2 + ... ... ... + Σ(xn - x̄n)^2\n",
        "  SSW = 0\n",
        "  temp = categories\n",
        "\n",
        "  for catg in temp:\n",
        "\n",
        "    catg_mean = np.mean(catg)\n",
        "\n",
        "    SSW += np.sum(np.apply_along_axis(lambda x: np.power(x - catg_mean, 2), 0, catg))\n",
        "\n",
        "  SSW = SSW\n",
        "\n",
        "  # Sum of Squares Between\n",
        "  SSBW = SST - SSW\n",
        "\n",
        "  # Mean Squares Between\n",
        "  MSBW =SSBW / df_bw\n",
        "\n",
        "  # Mean Squares Within\n",
        "  MSW = SSW / df_wtn\n",
        "\n",
        "  f_stat = MSBW / MSW\n",
        "\n",
        "\n",
        "  p_value = f.sf(f_stat, df_bw, df_wtn)\n",
        "\n",
        "  return f_crit, f_stat, p_value\n",
        "\n",
        "\n",
        "\n",
        "anova_one([1, 2, 5], [2, 4, 2], [2, 3, 4])\n",
        "\n",
        ""
      ]
    },
    {
      "cell_type": "markdown",
      "metadata": {
        "id": "bzULfDjR6Oe3"
      },
      "source": [
        "#### **Testing the Accuracy of my function with states.f_oneway**"
      ]
    },
    {
      "cell_type": "code",
      "execution_count": null,
      "metadata": {
        "id": "vzC-_jHW4Bgw",
        "colab": {
          "base_uri": "https://localhost:8080/"
        },
        "outputId": "c1e8ddb3-6ed5-46ed-d645-cbed7ff131f5"
      },
      "outputs": [
        {
          "output_type": "stream",
          "name": "stderr",
          "text": [
            "<ipython-input-119-934dbd3045a9>:2: UserWarning:\n",
            "\n",
            "Boolean Series key will be reindexed to match DataFrame index.\n",
            "\n",
            "<ipython-input-119-934dbd3045a9>:3: UserWarning:\n",
            "\n",
            "Boolean Series key will be reindexed to match DataFrame index.\n",
            "\n",
            "<ipython-input-119-934dbd3045a9>:4: UserWarning:\n",
            "\n",
            "Boolean Series key will be reindexed to match DataFrame index.\n",
            "\n",
            "<ipython-input-119-934dbd3045a9>:5: UserWarning:\n",
            "\n",
            "Boolean Series key will be reindexed to match DataFrame index.\n",
            "\n"
          ]
        }
      ],
      "source": [
        "feature = 'battery_power'\n",
        "col_0 = stdz_m_p_t[m_p_t[\"price_range\"] == 0][feature]\n",
        "col_1 = stdz_m_p_t[m_p_t[\"price_range\"] == 1][feature]\n",
        "col_2 = stdz_m_p_t[m_p_t[\"price_range\"] == 2][feature]\n",
        "col_3 = stdz_m_p_t[m_p_t[\"price_range\"] == 3][feature]\n",
        "\n",
        "# # print(len(col_0), len(col_1), len(col_2), len(col_3))\n",
        "# # g = np.array([col_), col_1[0], col_2, col_3])\n",
        "# # g = g.flatten()\n",
        "# # g\n",
        "\n",
        "# x = col_0\n",
        "# y = col_1\n",
        "\n",
        "# c = np.array([ x, y, col_2, col_3])\n",
        "# z = []\n",
        "# for outer in c:\n",
        "#   for x in outer:\n",
        "#     z.append(x)\n",
        "\n",
        "\n",
        "# z = np.array(z)\n",
        "# z.shape\n"
      ]
    },
    {
      "cell_type": "code",
      "execution_count": null,
      "metadata": {
        "id": "TTSvXjhltlXf",
        "colab": {
          "base_uri": "https://localhost:8080/"
        },
        "outputId": "cdf5049c-5fe2-4868-f793-5f221be6b2e2"
      },
      "outputs": [
        {
          "output_type": "execute_result",
          "data": {
            "text/plain": [
              "F_onewayResult(statistic=31.513495036295836, pvalue=6.713993985856411e-20)"
            ]
          },
          "metadata": {},
          "execution_count": 120
        }
      ],
      "source": [
        "f_oneway(col_0, col_1, col_2, col_3)"
      ]
    },
    {
      "cell_type": "code",
      "execution_count": null,
      "metadata": {
        "id": "P3Ds2AY06GAh",
        "colab": {
          "base_uri": "https://localhost:8080/"
        },
        "outputId": "91b8cba4-e28c-4b16-cf33-67ebdb3e7d3c"
      },
      "outputs": [
        {
          "output_type": "execute_result",
          "data": {
            "text/plain": [
              "(2.6093652175723445, 31.513495036295783, 6.713993985856411e-20)"
            ]
          },
          "metadata": {},
          "execution_count": 121
        }
      ],
      "source": [
        "anova_one(col_0, col_1, col_2, col_3)"
      ]
    },
    {
      "cell_type": "markdown",
      "metadata": {
        "id": "F0QMp_12I4oh"
      },
      "source": [
        "#### **Implementing Anova test with both our and built in functions and comparing it**"
      ]
    },
    {
      "cell_type": "code",
      "execution_count": null,
      "metadata": {
        "id": "F5WfkXoAjycz",
        "colab": {
          "base_uri": "https://localhost:8080/"
        },
        "outputId": "0068dc97-97a6-4c04-c226-12e98a269dc0"
      },
      "outputs": [
        {
          "output_type": "stream",
          "name": "stderr",
          "text": [
            "<ipython-input-122-e2782bf37073>:9: UserWarning:\n",
            "\n",
            "Boolean Series key will be reindexed to match DataFrame index.\n",
            "\n",
            "<ipython-input-122-e2782bf37073>:10: UserWarning:\n",
            "\n",
            "Boolean Series key will be reindexed to match DataFrame index.\n",
            "\n",
            "<ipython-input-122-e2782bf37073>:11: UserWarning:\n",
            "\n",
            "Boolean Series key will be reindexed to match DataFrame index.\n",
            "\n",
            "<ipython-input-122-e2782bf37073>:12: UserWarning:\n",
            "\n",
            "Boolean Series key will be reindexed to match DataFrame index.\n",
            "\n"
          ]
        }
      ],
      "source": [
        "# Extracting the numerical columns\n",
        "n = len(num_colms)\n",
        "\n",
        "HC_anova = []\n",
        "anova = []\n",
        "\n",
        "for col in num_colms[ :n - 1]:\n",
        "\n",
        "  col_0 = stdz_m_p_t[m_p_t[\"price_range\"] == 0][col]\n",
        "  col_1 = stdz_m_p_t[m_p_t[\"price_range\"] == 1][col]\n",
        "  col_2 = stdz_m_p_t[m_p_t[\"price_range\"] == 2][col]\n",
        "  col_3 = stdz_m_p_t[m_p_t[\"price_range\"] == 3][col]\n",
        "\n",
        "  f_stat, p_value = f_oneway(col_0, col_1, col_2, col_3)\n",
        "\n",
        "  anova.append([col, f_stat, p_value])\n",
        "\n",
        "  _, f_stat, p_value = anova_one(col_0, col_1, col_2, col_3)\n",
        "\n",
        "  HC_anova.append([col, f_stat, p_value])\n",
        "\n",
        "\n"
      ]
    },
    {
      "cell_type": "markdown",
      "metadata": {
        "id": "AjCmnM3NQLMN"
      },
      "source": [
        "#### **Comparing my anova function to original anova**"
      ]
    },
    {
      "cell_type": "code",
      "execution_count": null,
      "metadata": {
        "id": "cx23AsZGQVGY",
        "colab": {
          "base_uri": "https://localhost:8080/"
        },
        "outputId": "387ebde0-d37b-4ca5-d24a-32d3c8fa2a1f"
      },
      "outputs": [
        {
          "output_type": "stream",
          "name": "stdout",
          "text": [
            "battery_power\n",
            "stat = 31.513495036295836, p_value = 6.713993985856411e-20\n",
            "my_stat = 31.513495036295783, my_p_value = 6.713993985856411e-20\n",
            "\n",
            "clock_speed\n",
            "stat = 0.491978773388441, p_value = 0.6878760540629911\n",
            "my_stat = 0.49197877338861495, my_p_value = 0.6878760540628887\n",
            "\n",
            "fc\n",
            "stat = 0.8412347075208211, p_value = 0.47119535676382607\n",
            "my_stat = 0.8412347075208505, my_p_value = 0.47119535676382607\n",
            "\n",
            "int_memory\n",
            "stat = 2.9131423673657735, p_value = 0.03321699701567197\n",
            "my_stat = 2.913142367365822, my_p_value = 0.033216997015667736\n",
            "\n",
            "m_dep\n",
            "stat = 1.5181696567539429, p_value = 0.20783366859699934\n",
            "my_stat = 1.5181696567539407, my_p_value = 0.20783366859699934\n",
            "\n",
            "mobile_wt\n",
            "stat = 3.57796808786005, p_value = 0.013415544766487946\n",
            "my_stat = 3.5779680878599414, my_p_value = 0.013415544766489661\n",
            "\n",
            "n_cores\n",
            "stat = 2.576356312579159, p_value = 0.052259228034057296\n",
            "my_stat = 2.5763563125790894, my_p_value = 0.05225922803406589\n",
            "\n",
            "pc\n",
            "stat = 0.8581096270002767, p_value = 0.4621872664942891\n",
            "my_stat = 0.8581096270003586, my_p_value = 0.4621872664942498\n",
            "\n",
            "px_height\n",
            "stat = 19.256805801002372, p_value = 2.6162526915481838e-12\n",
            "my_stat = 19.25680580100237, my_p_value = 2.6162526915481838e-12\n",
            "\n",
            "px_width\n",
            "stat = 22.405610912881148, p_value = 2.881567837380335e-14\n",
            "my_stat = 22.405610912881055, my_p_value = 2.881567837380949e-14\n",
            "\n",
            "ram\n",
            "stat = 3527.774583085812, p_value = 0.0\n",
            "my_stat = 3527.774583085812, my_p_value = 0.0\n",
            "\n",
            "sc_h\n",
            "stat = 2.2300733023906982, p_value = 0.0828023294418198\n",
            "my_stat = 2.2300733023906734, my_p_value = 0.08280232944182207\n",
            "\n",
            "sc_w\n",
            "stat = 1.673070617080054, p_value = 0.17076307782254166\n",
            "my_stat = 1.6730706170800698, my_p_value = 0.17076307782254166\n",
            "\n",
            "talk_time\n",
            "stat = 1.6254402003698731, p_value = 0.18144519465488843\n",
            "my_stat = 1.6254402003699502, my_p_value = 0.18144519465487718\n",
            "\n"
          ]
        }
      ],
      "source": [
        "for i in range(len(anova)):\n",
        "  print(anova[i][0])\n",
        "  print(f\"stat = {anova[i][1]}, p_value = {anova[i][2]}\")\n",
        "  print(f\"my_stat = {HC_anova[i][1]}, my_p_value = {HC_anova[i][2]}\")\n",
        "  print()"
      ]
    },
    {
      "cell_type": "markdown",
      "metadata": {
        "id": "uZ471z-_uEWz"
      },
      "source": [
        "### **Doing Chi Square Test to categorical columns to determine the significance of predicting price_range**"
      ]
    },
    {
      "cell_type": "markdown",
      "metadata": {
        "id": "B-cNT-ZGuvWM"
      },
      "source": [
        "#### **Creating our Own Chi Square Function**"
      ]
    },
    {
      "cell_type": "code",
      "execution_count": null,
      "metadata": {
        "id": "PYt7hFiGuuUV"
      },
      "outputs": [],
      "source": [
        "def cross_tab(ind, dep):\n",
        "\n",
        "  # Fetching the rows and columns for the table\n",
        "\n",
        "  new_df = pd.DataFrame({\n",
        "      'ind' : ind,\n",
        "      'dep' : dep\n",
        "  })\n",
        "\n",
        "\n",
        "  rows = ind.unique()\n",
        "  cols = dep.unique()\n",
        "  cols.sort()\n",
        "  cols\n",
        "\n",
        "  table = []\n",
        "\n",
        "  for row in rows:\n",
        "    c = []\n",
        "    for col in cols:\n",
        "      slices = len(new_df[(new_df['ind'] == row) & (new_df['dep'] == col)])\n",
        "      c.append(slices)\n",
        "\n",
        "    table.append(c.copy())\n",
        "    c = c.clear()\n",
        "\n",
        "  table = pd.DataFrame(table, columns = cols, index = rows)\n",
        "\n",
        "  return table\n",
        "\n",
        "\n",
        "\n",
        "def to_expected(observe):\n",
        "\n",
        "  cols = observe.columns\n",
        "  rows = observe.index\n",
        "\n",
        "  grand_ttl = np.sum(np.sum(observe))\n",
        "\n",
        "  expected = observe.copy()\n",
        "\n",
        "  for row in rows:\n",
        "    for col in cols:\n",
        "      row_ttl = np.sum(observe.loc[row])\n",
        "      col_ttl = np.sum(observe[col])\n",
        "\n",
        "      expected.loc[row, col] = (row_ttl * col_ttl) / grand_ttl\n",
        "\n",
        "  return expected\n",
        "\n",
        "# print(to_expected(observe))\n",
        "\n",
        "\n",
        "def chi_2_t(observed, expected):\n",
        "\n",
        "  chi_square = np.sum(np.sum(np.power(observe - expected, 2) / expected))\n",
        "\n",
        "\n",
        "\n",
        "  row_count = len(observed.index) - 1\n",
        "  col_count = len(observed.columns) - 1\n",
        "\n",
        "  df = row_count * col_count\n",
        "\n",
        "  p_value = 1 - chi2.cdf(chi_square, df)\n",
        "\n",
        "  return chi_square, p_value\n",
        "\n"
      ]
    },
    {
      "cell_type": "markdown",
      "metadata": {
        "id": "aUYIyQqqG5V6"
      },
      "source": [
        "### **Comparing my Chi2 This is formatted as code functions with built in functions**\n",
        "\n",
        "\n"
      ]
    },
    {
      "cell_type": "markdown",
      "metadata": {
        "id": "V47VLTdELWsW"
      },
      "source": [
        "#### Table Compare"
      ]
    },
    {
      "cell_type": "code",
      "execution_count": null,
      "metadata": {
        "id": "3T-cCPCh-mbT",
        "colab": {
          "base_uri": "https://localhost:8080/"
        },
        "outputId": "ae2a5f90-f557-4c90-cc8b-55346bfdaabe"
      },
      "outputs": [
        {
          "output_type": "stream",
          "name": "stdout",
          "text": [
            "Ovserve:\n",
            " \n",
            "Hard Code:\n",
            "     0    1    2    3\n",
            "0  250  245  250  235\n",
            "1  250  255  249  264\n",
            "\n",
            "Built IN:\n",
            "price_range    0    1    2    3\n",
            "dual_sim                       \n",
            "0            250  245  250  235\n",
            "1            250  255  249  264\n",
            "\n",
            "Expected: \n",
            "\n",
            "Hard Code:\n",
            "            0           1           2           3\n",
            "0  245.245245  245.245245  244.754755  244.754755\n",
            "1  254.754755  254.754755  254.245245  254.245245\n",
            "\n",
            "Built IN:\n",
            "price_range           0           1           2           3\n",
            "dual_sim                                                   \n",
            "0            245.245245  245.245245  244.754755  244.754755\n",
            "1            254.754755  254.754755  254.245245  254.245245\n"
          ]
        }
      ],
      "source": [
        "# My functions\n",
        "HC_observe = cross_tab(stdz_m_p_t['dual_sim'], stdz_m_p_t['price_range'])\n",
        "HC_expected = to_expected(HC_observe)\n",
        "\n",
        "# Built in functions\n",
        "observe = pd.crosstab(stdz_m_p_t['dual_sim'], stdz_m_p_t['price_range'])\n",
        "expected = chi2_contingency(observe)[3]\n",
        "\n",
        "expected = pd.DataFrame(expected, columns = observe.columns, index = observe.index)\n",
        "print(\"Ovserve:\\n \")\n",
        "print(f\"Hard Code:\\n{HC_observe}\")\n",
        "print(f\"\\nBuilt IN:\\n{observe}\")\n",
        "\n",
        "print(f\"\\nExpected: \")\n",
        "print(f\"\\nHard Code:\\n{HC_expected}\")\n",
        "print(f\"\\nBuilt IN:\\n{expected}\")\n"
      ]
    },
    {
      "cell_type": "markdown",
      "metadata": {
        "id": "ybgmEfUnLZYx"
      },
      "source": [
        "#### **Chi Square value and p value compare**"
      ]
    },
    {
      "cell_type": "code",
      "execution_count": null,
      "metadata": {
        "id": "zhLRkGf1JqW7",
        "colab": {
          "base_uri": "https://localhost:8080/"
        },
        "outputId": "05dbf5ff-0861-465c-937c-2f4fb7c720d4"
      },
      "outputs": [
        {
          "output_type": "stream",
          "name": "stdout",
          "text": [
            "Built in chi_2  = 1.1650734607420992,   Built in p value  = 0.7613927398347171\n",
            "Hard Code chi 2 = 1.1650734607420992,   Hard Code p value = 0.7613927398347171\n"
          ]
        }
      ],
      "source": [
        "chi_square,p_values, _, _ = chi2_contingency(HC_observe)\n",
        "HC_chi_square, HC_p_values = chi_2_t(HC_observe, HC_expected)\n",
        "\n",
        "\n",
        "print(f\"Built in chi_2  = {chi_square},   Built in p value  = {p_values}\")\n",
        "print(f\"Hard Code chi 2 = {HC_chi_square},   Hard Code p value = {HC_p_values}\")\n"
      ]
    },
    {
      "cell_type": "markdown",
      "metadata": {
        "id": "U6Yy8MiVLgVB"
      },
      "source": [
        "#### **Implementing Chi square test with both our and built in functions and comparing it**\n",
        "\n",
        "\n"
      ]
    },
    {
      "cell_type": "code",
      "execution_count": null,
      "metadata": {
        "id": "xPC9-aNEL32Z",
        "colab": {
          "base_uri": "https://localhost:8080/"
        },
        "outputId": "be320102-d95b-4e50-e5dc-1ef08505dfac"
      },
      "outputs": [
        {
          "output_type": "stream",
          "name": "stdout",
          "text": [
            "blue\n",
            "stat    = 1.379985190664331,  p_value    = 0.7102329471672442\n",
            "my_stat = 1.379985190664331, my_p_value = 0.7102329471672442\n",
            "\n",
            "dual_sim\n",
            "stat    = 1.1650734607420992,  p_value    = 0.7613927398347171\n",
            "my_stat = 1.1650734607420992, my_p_value = 0.7613927398347171\n",
            "\n",
            "four_g\n",
            "stat    = 3.1839157849182875,  p_value    = 0.3641289090432397\n",
            "my_stat = 3.183915784918287, my_p_value = 0.3641289090432396\n",
            "\n",
            "three_g\n",
            "stat    = 1.3194817939999668,  p_value    = 0.7245122123530843\n",
            "my_stat = 1.3194817939999668, my_p_value = 0.7245122123530843\n",
            "\n",
            "touch_screen\n",
            "stat    = 3.9919597018810995,  p_value    = 0.26233364677575377\n",
            "my_stat = 3.991959701881099, my_p_value = 0.262333646775754\n",
            "\n",
            "wifi\n",
            "stat    = 0.8039541146769342,  p_value    = 0.8485210293812833\n",
            "my_stat = 0.8039541146769342, my_p_value = 0.8485210293812833\n",
            "\n"
          ]
        }
      ],
      "source": [
        "# Fetching the categorical columns\n",
        "catg_colms = [col for col in stdz_m_p_t.columns if stdz_m_p_t[col].nunique() == 2]\n",
        "n = len(catg_colms)\n",
        "\n",
        "HC_chi_2 = []\n",
        "chi_2 = []\n",
        "\n",
        "for col in catg_colms:\n",
        "\n",
        "  observe = cross_tab(stdz_m_p_t[col], stdz_m_p_t['price_range'])\n",
        "  expected = to_expected(observe)\n",
        "\n",
        "  chi_square,p_value, _, _ = chi2_contingency(observe)\n",
        "  HC_chi_square, HC_p_values = chi_2_t(observe, expected)\n",
        "\n",
        "  chi_2.append([col, chi_square, p_value])\n",
        "  HC_chi_2.append([col, HC_chi_square, HC_p_values])\n",
        "\n",
        "for i in range(len(chi_2)):\n",
        "  print(HC_chi_2[i][0])\n",
        "  print(f\"stat    = {chi_2[i][1]},  p_value    = {chi_2[i][2]}\")\n",
        "  print(f\"my_stat = {HC_chi_2[i][1]}, my_p_value = {HC_chi_2[i][2]}\")\n",
        "  print()\n",
        "\n",
        "\n",
        "\n",
        "\n"
      ]
    },
    {
      "cell_type": "code",
      "execution_count": null,
      "metadata": {
        "id": "t8Svu0YCuOpT",
        "colab": {
          "base_uri": "https://localhost:8080/"
        },
        "outputId": "9fb4441a-9678-405c-8e79-238fd3267656"
      },
      "outputs": [
        {
          "output_type": "execute_result",
          "data": {
            "text/plain": [
              "   battery_power  blue  clock_speed  dual_sim    fc  four_g  int_memory  \\\n",
              "0            842     0          2.2         0   1.0       0           7   \n",
              "1           1021     1          0.5         1   0.0       1          53   \n",
              "2            563     1          0.5         1   2.0       1          41   \n",
              "3            615     1          2.5         0   0.0       0          10   \n",
              "4           1821     1          1.2         0  13.0       1          44   \n",
              "\n",
              "   m_dep  mobile_wt  n_cores  pc  px_height  px_width   ram  sc_h  sc_w  \\\n",
              "0    0.6        188        2   2         20       756  2549     9     7   \n",
              "1    0.7        136        3   6        905      1988  2631    17     3   \n",
              "2    0.9        145        5   6       1263      1716  2603    11     2   \n",
              "3    0.8        131        6   9       1216      1786  2769    16     8   \n",
              "4    0.6        141        2  14       1208      1212  1411     8     2   \n",
              "\n",
              "   talk_time  three_g  touch_screen  wifi  price_range  \n",
              "0         19        0             0     1            1  \n",
              "1          7        1             1     0            2  \n",
              "2          9        1             1     0            2  \n",
              "3         11        1             0     0            2  \n",
              "4         15        1             1     0            1  "
            ],
            "text/html": [
              "\n",
              "  <div id=\"df-97989038-905c-46eb-88cc-5f33db01ea3f\">\n",
              "    <div class=\"colab-df-container\">\n",
              "      <div>\n",
              "<style scoped>\n",
              "    .dataframe tbody tr th:only-of-type {\n",
              "        vertical-align: middle;\n",
              "    }\n",
              "\n",
              "    .dataframe tbody tr th {\n",
              "        vertical-align: top;\n",
              "    }\n",
              "\n",
              "    .dataframe thead th {\n",
              "        text-align: right;\n",
              "    }\n",
              "</style>\n",
              "<table border=\"1\" class=\"dataframe\">\n",
              "  <thead>\n",
              "    <tr style=\"text-align: right;\">\n",
              "      <th></th>\n",
              "      <th>battery_power</th>\n",
              "      <th>blue</th>\n",
              "      <th>clock_speed</th>\n",
              "      <th>dual_sim</th>\n",
              "      <th>fc</th>\n",
              "      <th>four_g</th>\n",
              "      <th>int_memory</th>\n",
              "      <th>m_dep</th>\n",
              "      <th>mobile_wt</th>\n",
              "      <th>n_cores</th>\n",
              "      <th>pc</th>\n",
              "      <th>px_height</th>\n",
              "      <th>px_width</th>\n",
              "      <th>ram</th>\n",
              "      <th>sc_h</th>\n",
              "      <th>sc_w</th>\n",
              "      <th>talk_time</th>\n",
              "      <th>three_g</th>\n",
              "      <th>touch_screen</th>\n",
              "      <th>wifi</th>\n",
              "      <th>price_range</th>\n",
              "    </tr>\n",
              "  </thead>\n",
              "  <tbody>\n",
              "    <tr>\n",
              "      <th>0</th>\n",
              "      <td>842</td>\n",
              "      <td>0</td>\n",
              "      <td>2.2</td>\n",
              "      <td>0</td>\n",
              "      <td>1.0</td>\n",
              "      <td>0</td>\n",
              "      <td>7</td>\n",
              "      <td>0.6</td>\n",
              "      <td>188</td>\n",
              "      <td>2</td>\n",
              "      <td>2</td>\n",
              "      <td>20</td>\n",
              "      <td>756</td>\n",
              "      <td>2549</td>\n",
              "      <td>9</td>\n",
              "      <td>7</td>\n",
              "      <td>19</td>\n",
              "      <td>0</td>\n",
              "      <td>0</td>\n",
              "      <td>1</td>\n",
              "      <td>1</td>\n",
              "    </tr>\n",
              "    <tr>\n",
              "      <th>1</th>\n",
              "      <td>1021</td>\n",
              "      <td>1</td>\n",
              "      <td>0.5</td>\n",
              "      <td>1</td>\n",
              "      <td>0.0</td>\n",
              "      <td>1</td>\n",
              "      <td>53</td>\n",
              "      <td>0.7</td>\n",
              "      <td>136</td>\n",
              "      <td>3</td>\n",
              "      <td>6</td>\n",
              "      <td>905</td>\n",
              "      <td>1988</td>\n",
              "      <td>2631</td>\n",
              "      <td>17</td>\n",
              "      <td>3</td>\n",
              "      <td>7</td>\n",
              "      <td>1</td>\n",
              "      <td>1</td>\n",
              "      <td>0</td>\n",
              "      <td>2</td>\n",
              "    </tr>\n",
              "    <tr>\n",
              "      <th>2</th>\n",
              "      <td>563</td>\n",
              "      <td>1</td>\n",
              "      <td>0.5</td>\n",
              "      <td>1</td>\n",
              "      <td>2.0</td>\n",
              "      <td>1</td>\n",
              "      <td>41</td>\n",
              "      <td>0.9</td>\n",
              "      <td>145</td>\n",
              "      <td>5</td>\n",
              "      <td>6</td>\n",
              "      <td>1263</td>\n",
              "      <td>1716</td>\n",
              "      <td>2603</td>\n",
              "      <td>11</td>\n",
              "      <td>2</td>\n",
              "      <td>9</td>\n",
              "      <td>1</td>\n",
              "      <td>1</td>\n",
              "      <td>0</td>\n",
              "      <td>2</td>\n",
              "    </tr>\n",
              "    <tr>\n",
              "      <th>3</th>\n",
              "      <td>615</td>\n",
              "      <td>1</td>\n",
              "      <td>2.5</td>\n",
              "      <td>0</td>\n",
              "      <td>0.0</td>\n",
              "      <td>0</td>\n",
              "      <td>10</td>\n",
              "      <td>0.8</td>\n",
              "      <td>131</td>\n",
              "      <td>6</td>\n",
              "      <td>9</td>\n",
              "      <td>1216</td>\n",
              "      <td>1786</td>\n",
              "      <td>2769</td>\n",
              "      <td>16</td>\n",
              "      <td>8</td>\n",
              "      <td>11</td>\n",
              "      <td>1</td>\n",
              "      <td>0</td>\n",
              "      <td>0</td>\n",
              "      <td>2</td>\n",
              "    </tr>\n",
              "    <tr>\n",
              "      <th>4</th>\n",
              "      <td>1821</td>\n",
              "      <td>1</td>\n",
              "      <td>1.2</td>\n",
              "      <td>0</td>\n",
              "      <td>13.0</td>\n",
              "      <td>1</td>\n",
              "      <td>44</td>\n",
              "      <td>0.6</td>\n",
              "      <td>141</td>\n",
              "      <td>2</td>\n",
              "      <td>14</td>\n",
              "      <td>1208</td>\n",
              "      <td>1212</td>\n",
              "      <td>1411</td>\n",
              "      <td>8</td>\n",
              "      <td>2</td>\n",
              "      <td>15</td>\n",
              "      <td>1</td>\n",
              "      <td>1</td>\n",
              "      <td>0</td>\n",
              "      <td>1</td>\n",
              "    </tr>\n",
              "  </tbody>\n",
              "</table>\n",
              "</div>\n",
              "      <button class=\"colab-df-convert\" onclick=\"convertToInteractive('df-97989038-905c-46eb-88cc-5f33db01ea3f')\"\n",
              "              title=\"Convert this dataframe to an interactive table.\"\n",
              "              style=\"display:none;\">\n",
              "        \n",
              "  <svg xmlns=\"http://www.w3.org/2000/svg\" height=\"24px\"viewBox=\"0 0 24 24\"\n",
              "       width=\"24px\">\n",
              "    <path d=\"M0 0h24v24H0V0z\" fill=\"none\"/>\n",
              "    <path d=\"M18.56 5.44l.94 2.06.94-2.06 2.06-.94-2.06-.94-.94-2.06-.94 2.06-2.06.94zm-11 1L8.5 8.5l.94-2.06 2.06-.94-2.06-.94L8.5 2.5l-.94 2.06-2.06.94zm10 10l.94 2.06.94-2.06 2.06-.94-2.06-.94-.94-2.06-.94 2.06-2.06.94z\"/><path d=\"M17.41 7.96l-1.37-1.37c-.4-.4-.92-.59-1.43-.59-.52 0-1.04.2-1.43.59L10.3 9.45l-7.72 7.72c-.78.78-.78 2.05 0 2.83L4 21.41c.39.39.9.59 1.41.59.51 0 1.02-.2 1.41-.59l7.78-7.78 2.81-2.81c.8-.78.8-2.07 0-2.86zM5.41 20L4 18.59l7.72-7.72 1.47 1.35L5.41 20z\"/>\n",
              "  </svg>\n",
              "      </button>\n",
              "      \n",
              "  <style>\n",
              "    .colab-df-container {\n",
              "      display:flex;\n",
              "      flex-wrap:wrap;\n",
              "      gap: 12px;\n",
              "    }\n",
              "\n",
              "    .colab-df-convert {\n",
              "      background-color: #E8F0FE;\n",
              "      border: none;\n",
              "      border-radius: 50%;\n",
              "      cursor: pointer;\n",
              "      display: none;\n",
              "      fill: #1967D2;\n",
              "      height: 32px;\n",
              "      padding: 0 0 0 0;\n",
              "      width: 32px;\n",
              "    }\n",
              "\n",
              "    .colab-df-convert:hover {\n",
              "      background-color: #E2EBFA;\n",
              "      box-shadow: 0px 1px 2px rgba(60, 64, 67, 0.3), 0px 1px 3px 1px rgba(60, 64, 67, 0.15);\n",
              "      fill: #174EA6;\n",
              "    }\n",
              "\n",
              "    [theme=dark] .colab-df-convert {\n",
              "      background-color: #3B4455;\n",
              "      fill: #D2E3FC;\n",
              "    }\n",
              "\n",
              "    [theme=dark] .colab-df-convert:hover {\n",
              "      background-color: #434B5C;\n",
              "      box-shadow: 0px 1px 3px 1px rgba(0, 0, 0, 0.15);\n",
              "      filter: drop-shadow(0px 1px 2px rgba(0, 0, 0, 0.3));\n",
              "      fill: #FFFFFF;\n",
              "    }\n",
              "  </style>\n",
              "\n",
              "      <script>\n",
              "        const buttonEl =\n",
              "          document.querySelector('#df-97989038-905c-46eb-88cc-5f33db01ea3f button.colab-df-convert');\n",
              "        buttonEl.style.display =\n",
              "          google.colab.kernel.accessAllowed ? 'block' : 'none';\n",
              "\n",
              "        async function convertToInteractive(key) {\n",
              "          const element = document.querySelector('#df-97989038-905c-46eb-88cc-5f33db01ea3f');\n",
              "          const dataTable =\n",
              "            await google.colab.kernel.invokeFunction('convertToInteractive',\n",
              "                                                     [key], {});\n",
              "          if (!dataTable) return;\n",
              "\n",
              "          const docLinkHtml = 'Like what you see? Visit the ' +\n",
              "            '<a target=\"_blank\" href=https://colab.research.google.com/notebooks/data_table.ipynb>data table notebook</a>'\n",
              "            + ' to learn more about interactive tables.';\n",
              "          element.innerHTML = '';\n",
              "          dataTable['output_type'] = 'display_data';\n",
              "          await google.colab.output.renderOutput(dataTable, element);\n",
              "          const docLink = document.createElement('div');\n",
              "          docLink.innerHTML = docLinkHtml;\n",
              "          element.appendChild(docLink);\n",
              "        }\n",
              "      </script>\n",
              "    </div>\n",
              "  </div>\n",
              "  "
            ]
          },
          "metadata": {},
          "execution_count": 128
        }
      ],
      "source": [
        "m_p_t.head()"
      ]
    },
    {
      "cell_type": "markdown",
      "metadata": {
        "id": "EzyscBqJQail"
      },
      "source": [
        "## **Feature Selection Based on P Value**\n",
        "\n",
        "\n",
        "\n",
        "\n",
        "\n",
        "\n"
      ]
    },
    {
      "cell_type": "code",
      "execution_count": null,
      "metadata": {
        "id": "aHdfNmbeQZoh",
        "colab": {
          "base_uri": "https://localhost:8080/"
        },
        "outputId": "9c79fac1-d060-410c-a288-f10b89681b32"
      },
      "outputs": [
        {
          "output_type": "execute_result",
          "data": {
            "text/plain": [
              "[('ram', 0.0),\n",
              " ('battery_power', 6.713993985856411e-20),\n",
              " ('px_width', 2.881567837380335e-14),\n",
              " ('px_height', 2.6162526915481838e-12),\n",
              " ('mobile_wt', 0.013415544766487946),\n",
              " ('int_memory', 0.03321699701567197),\n",
              " ('n_cores', 0.052259228034057296),\n",
              " ('sc_h', 0.0828023294418198),\n",
              " ('sc_w', 0.17076307782254166),\n",
              " ('talk_time', 0.18144519465488843),\n",
              " ('m_dep', 0.20783366859699934),\n",
              " ('touch_screen', 0.262333646775754),\n",
              " ('four_g', 0.3641289090432396),\n",
              " ('pc', 0.4621872664942891),\n",
              " ('fc', 0.47119535676382607),\n",
              " ('clock_speed', 0.6878760540629911),\n",
              " ('blue', 0.7102329471672442),\n",
              " ('three_g', 0.7245122123530843),\n",
              " ('dual_sim', 0.7613927398347171),\n",
              " ('wifi', 0.8485210293812833)]"
            ]
          },
          "metadata": {},
          "execution_count": 129
        }
      ],
      "source": [
        "p_values_num = {anova[i][0] : anova[i][2] for i in range(len(anova))}\n",
        "p_values_catg = {HC_chi_2[i][0] : HC_chi_2[i][2] for i in range(len(HC_chi_2))}\n",
        "\n",
        "p_values  = dict(p_values_num)\n",
        "p_values.update(p_values_catg)\n",
        "\n",
        "sort_p_values = sorted(p_values.items(), key = lambda x: x[1])\n",
        "sort_p_values\n",
        "\n",
        "# footballers_goals = {'Eusebio': 120, 'Cruyff': 104, 'Pele': 150, 'Ronaldo': 132, 'Messi': 125}\n",
        "\n",
        "# sorted_footballers_by_goals = sorted(footballers_goals.items(), key=lambda x:x[1])\n",
        "# print(sorted_footballers_by_goals)"
      ]
    },
    {
      "cell_type": "markdown",
      "metadata": {
        "id": "nmqWaYDHTLfJ"
      },
      "source": [
        "#### **We Have to select the top features with the smallest p-values for training the model**\n",
        "\n",
        "#### **Ram and battery_power have the smallest p-values, indicating a strong relationship with the target variable**\n",
        "\n",
        "#### **Px_width and px_height also have small p-values and are statistically significant, but to a slightly lesser extent**\n",
        "\n",
        "#### **Other features have larger p-values and may not have a strong relationship with the target variable**\n",
        "\n",
        "#### **As a result we select ram, battery_power, px_width, px_height, mobile_wt, int_memory , n_cores and sc_h  as our top features for training the model**"
      ]
    },
    {
      "cell_type": "code",
      "execution_count": null,
      "metadata": {
        "id": "_m0cw2TkTvr5",
        "colab": {
          "base_uri": "https://localhost:8080/"
        },
        "outputId": "9c2675d9-3dad-498e-d6fc-b979a7c84fb0"
      },
      "outputs": [
        {
          "output_type": "execute_result",
          "data": {
            "text/plain": [
              "['ram', 'battery_power', 'px_width', 'px_height']"
            ]
          },
          "metadata": {},
          "execution_count": 130
        }
      ],
      "source": [
        "feature_to_work_with = [f[0] for f in sort_p_values[:4]]\n",
        "\n",
        "feature_to_work_with"
      ]
    },
    {
      "cell_type": "code",
      "execution_count": null,
      "metadata": {
        "id": "kqPdAWbLuUNX",
        "colab": {
          "base_uri": "https://localhost:8080/",
          "height": 519
        },
        "outputId": "f65656b5-37c7-4eaa-d220-d82cb7f54d35"
      },
      "outputs": [
        {
          "output_type": "execute_result",
          "data": {
            "text/plain": [
              "    battery_power  clock_speed    fc  int_memory  m_dep  mobile_wt  n_cores  \\\n",
              "0             842          2.2   1.0           7    0.6        188        2   \n",
              "1            1021          0.5   0.0          53    0.7        136        3   \n",
              "2             563          0.5   2.0          41    0.9        145        5   \n",
              "3             615          2.5   0.0          10    0.8        131        6   \n",
              "4            1821          1.2  13.0          44    0.6        141        2   \n",
              "5            1859          0.5   3.0          22    0.7        164        1   \n",
              "6            1821          1.7   4.0          10    0.8        139        8   \n",
              "7            1954          0.5   0.0          24    0.8        187        4   \n",
              "8            1445          0.5   0.0          53    0.7        174        7   \n",
              "9             509          0.6   2.0           9    0.1         93        5   \n",
              "10            769          2.9   0.0           9    0.1        182        5   \n",
              "11           1520          2.2   5.0          33    0.5        177        8   \n",
              "12           1815          2.8   2.0          33    0.6        159        4   \n",
              "13            803          2.1   7.0          17    1.0        198        4   \n",
              "14           1866          0.5  13.0          52    0.7        185        1   \n",
              "\n",
              "    pc  px_height  px_width   ram  sc_h  sc_w  talk_time  price_range  \n",
              "0    2         20       756  2549     9     7         19            1  \n",
              "1    6        905      1988  2631    17     3          7            2  \n",
              "2    6       1263      1716  2603    11     2          9            2  \n",
              "3    9       1216      1786  2769    16     8         11            2  \n",
              "4   14       1208      1212  1411     8     2         15            1  \n",
              "5    7       1004      1654  1067    17     1         10            1  \n",
              "6   10        381      1018  3220    13     8         18            3  \n",
              "7    0        512      1149   700    16     3          5            0  \n",
              "8   14        386       836  1099    17     1         20            0  \n",
              "9   15       1137      1224   513    19    10         12            0  \n",
              "10   1        248       874  3946     5     2          7            3  \n",
              "11  18        151      1005  3826    14     9         13            3  \n",
              "12  17        607       748  1482    18     0          2            1  \n",
              "13  11        344      1440  2680     7     1          4            2  \n",
              "14  17        356       563   373    14     9          3            0  "
            ],
            "text/html": [
              "\n",
              "  <div id=\"df-eaf44489-42c5-46d9-98be-3c7d38479454\">\n",
              "    <div class=\"colab-df-container\">\n",
              "      <div>\n",
              "<style scoped>\n",
              "    .dataframe tbody tr th:only-of-type {\n",
              "        vertical-align: middle;\n",
              "    }\n",
              "\n",
              "    .dataframe tbody tr th {\n",
              "        vertical-align: top;\n",
              "    }\n",
              "\n",
              "    .dataframe thead th {\n",
              "        text-align: right;\n",
              "    }\n",
              "</style>\n",
              "<table border=\"1\" class=\"dataframe\">\n",
              "  <thead>\n",
              "    <tr style=\"text-align: right;\">\n",
              "      <th></th>\n",
              "      <th>battery_power</th>\n",
              "      <th>clock_speed</th>\n",
              "      <th>fc</th>\n",
              "      <th>int_memory</th>\n",
              "      <th>m_dep</th>\n",
              "      <th>mobile_wt</th>\n",
              "      <th>n_cores</th>\n",
              "      <th>pc</th>\n",
              "      <th>px_height</th>\n",
              "      <th>px_width</th>\n",
              "      <th>ram</th>\n",
              "      <th>sc_h</th>\n",
              "      <th>sc_w</th>\n",
              "      <th>talk_time</th>\n",
              "      <th>price_range</th>\n",
              "    </tr>\n",
              "  </thead>\n",
              "  <tbody>\n",
              "    <tr>\n",
              "      <th>0</th>\n",
              "      <td>842</td>\n",
              "      <td>2.2</td>\n",
              "      <td>1.0</td>\n",
              "      <td>7</td>\n",
              "      <td>0.6</td>\n",
              "      <td>188</td>\n",
              "      <td>2</td>\n",
              "      <td>2</td>\n",
              "      <td>20</td>\n",
              "      <td>756</td>\n",
              "      <td>2549</td>\n",
              "      <td>9</td>\n",
              "      <td>7</td>\n",
              "      <td>19</td>\n",
              "      <td>1</td>\n",
              "    </tr>\n",
              "    <tr>\n",
              "      <th>1</th>\n",
              "      <td>1021</td>\n",
              "      <td>0.5</td>\n",
              "      <td>0.0</td>\n",
              "      <td>53</td>\n",
              "      <td>0.7</td>\n",
              "      <td>136</td>\n",
              "      <td>3</td>\n",
              "      <td>6</td>\n",
              "      <td>905</td>\n",
              "      <td>1988</td>\n",
              "      <td>2631</td>\n",
              "      <td>17</td>\n",
              "      <td>3</td>\n",
              "      <td>7</td>\n",
              "      <td>2</td>\n",
              "    </tr>\n",
              "    <tr>\n",
              "      <th>2</th>\n",
              "      <td>563</td>\n",
              "      <td>0.5</td>\n",
              "      <td>2.0</td>\n",
              "      <td>41</td>\n",
              "      <td>0.9</td>\n",
              "      <td>145</td>\n",
              "      <td>5</td>\n",
              "      <td>6</td>\n",
              "      <td>1263</td>\n",
              "      <td>1716</td>\n",
              "      <td>2603</td>\n",
              "      <td>11</td>\n",
              "      <td>2</td>\n",
              "      <td>9</td>\n",
              "      <td>2</td>\n",
              "    </tr>\n",
              "    <tr>\n",
              "      <th>3</th>\n",
              "      <td>615</td>\n",
              "      <td>2.5</td>\n",
              "      <td>0.0</td>\n",
              "      <td>10</td>\n",
              "      <td>0.8</td>\n",
              "      <td>131</td>\n",
              "      <td>6</td>\n",
              "      <td>9</td>\n",
              "      <td>1216</td>\n",
              "      <td>1786</td>\n",
              "      <td>2769</td>\n",
              "      <td>16</td>\n",
              "      <td>8</td>\n",
              "      <td>11</td>\n",
              "      <td>2</td>\n",
              "    </tr>\n",
              "    <tr>\n",
              "      <th>4</th>\n",
              "      <td>1821</td>\n",
              "      <td>1.2</td>\n",
              "      <td>13.0</td>\n",
              "      <td>44</td>\n",
              "      <td>0.6</td>\n",
              "      <td>141</td>\n",
              "      <td>2</td>\n",
              "      <td>14</td>\n",
              "      <td>1208</td>\n",
              "      <td>1212</td>\n",
              "      <td>1411</td>\n",
              "      <td>8</td>\n",
              "      <td>2</td>\n",
              "      <td>15</td>\n",
              "      <td>1</td>\n",
              "    </tr>\n",
              "    <tr>\n",
              "      <th>5</th>\n",
              "      <td>1859</td>\n",
              "      <td>0.5</td>\n",
              "      <td>3.0</td>\n",
              "      <td>22</td>\n",
              "      <td>0.7</td>\n",
              "      <td>164</td>\n",
              "      <td>1</td>\n",
              "      <td>7</td>\n",
              "      <td>1004</td>\n",
              "      <td>1654</td>\n",
              "      <td>1067</td>\n",
              "      <td>17</td>\n",
              "      <td>1</td>\n",
              "      <td>10</td>\n",
              "      <td>1</td>\n",
              "    </tr>\n",
              "    <tr>\n",
              "      <th>6</th>\n",
              "      <td>1821</td>\n",
              "      <td>1.7</td>\n",
              "      <td>4.0</td>\n",
              "      <td>10</td>\n",
              "      <td>0.8</td>\n",
              "      <td>139</td>\n",
              "      <td>8</td>\n",
              "      <td>10</td>\n",
              "      <td>381</td>\n",
              "      <td>1018</td>\n",
              "      <td>3220</td>\n",
              "      <td>13</td>\n",
              "      <td>8</td>\n",
              "      <td>18</td>\n",
              "      <td>3</td>\n",
              "    </tr>\n",
              "    <tr>\n",
              "      <th>7</th>\n",
              "      <td>1954</td>\n",
              "      <td>0.5</td>\n",
              "      <td>0.0</td>\n",
              "      <td>24</td>\n",
              "      <td>0.8</td>\n",
              "      <td>187</td>\n",
              "      <td>4</td>\n",
              "      <td>0</td>\n",
              "      <td>512</td>\n",
              "      <td>1149</td>\n",
              "      <td>700</td>\n",
              "      <td>16</td>\n",
              "      <td>3</td>\n",
              "      <td>5</td>\n",
              "      <td>0</td>\n",
              "    </tr>\n",
              "    <tr>\n",
              "      <th>8</th>\n",
              "      <td>1445</td>\n",
              "      <td>0.5</td>\n",
              "      <td>0.0</td>\n",
              "      <td>53</td>\n",
              "      <td>0.7</td>\n",
              "      <td>174</td>\n",
              "      <td>7</td>\n",
              "      <td>14</td>\n",
              "      <td>386</td>\n",
              "      <td>836</td>\n",
              "      <td>1099</td>\n",
              "      <td>17</td>\n",
              "      <td>1</td>\n",
              "      <td>20</td>\n",
              "      <td>0</td>\n",
              "    </tr>\n",
              "    <tr>\n",
              "      <th>9</th>\n",
              "      <td>509</td>\n",
              "      <td>0.6</td>\n",
              "      <td>2.0</td>\n",
              "      <td>9</td>\n",
              "      <td>0.1</td>\n",
              "      <td>93</td>\n",
              "      <td>5</td>\n",
              "      <td>15</td>\n",
              "      <td>1137</td>\n",
              "      <td>1224</td>\n",
              "      <td>513</td>\n",
              "      <td>19</td>\n",
              "      <td>10</td>\n",
              "      <td>12</td>\n",
              "      <td>0</td>\n",
              "    </tr>\n",
              "    <tr>\n",
              "      <th>10</th>\n",
              "      <td>769</td>\n",
              "      <td>2.9</td>\n",
              "      <td>0.0</td>\n",
              "      <td>9</td>\n",
              "      <td>0.1</td>\n",
              "      <td>182</td>\n",
              "      <td>5</td>\n",
              "      <td>1</td>\n",
              "      <td>248</td>\n",
              "      <td>874</td>\n",
              "      <td>3946</td>\n",
              "      <td>5</td>\n",
              "      <td>2</td>\n",
              "      <td>7</td>\n",
              "      <td>3</td>\n",
              "    </tr>\n",
              "    <tr>\n",
              "      <th>11</th>\n",
              "      <td>1520</td>\n",
              "      <td>2.2</td>\n",
              "      <td>5.0</td>\n",
              "      <td>33</td>\n",
              "      <td>0.5</td>\n",
              "      <td>177</td>\n",
              "      <td>8</td>\n",
              "      <td>18</td>\n",
              "      <td>151</td>\n",
              "      <td>1005</td>\n",
              "      <td>3826</td>\n",
              "      <td>14</td>\n",
              "      <td>9</td>\n",
              "      <td>13</td>\n",
              "      <td>3</td>\n",
              "    </tr>\n",
              "    <tr>\n",
              "      <th>12</th>\n",
              "      <td>1815</td>\n",
              "      <td>2.8</td>\n",
              "      <td>2.0</td>\n",
              "      <td>33</td>\n",
              "      <td>0.6</td>\n",
              "      <td>159</td>\n",
              "      <td>4</td>\n",
              "      <td>17</td>\n",
              "      <td>607</td>\n",
              "      <td>748</td>\n",
              "      <td>1482</td>\n",
              "      <td>18</td>\n",
              "      <td>0</td>\n",
              "      <td>2</td>\n",
              "      <td>1</td>\n",
              "    </tr>\n",
              "    <tr>\n",
              "      <th>13</th>\n",
              "      <td>803</td>\n",
              "      <td>2.1</td>\n",
              "      <td>7.0</td>\n",
              "      <td>17</td>\n",
              "      <td>1.0</td>\n",
              "      <td>198</td>\n",
              "      <td>4</td>\n",
              "      <td>11</td>\n",
              "      <td>344</td>\n",
              "      <td>1440</td>\n",
              "      <td>2680</td>\n",
              "      <td>7</td>\n",
              "      <td>1</td>\n",
              "      <td>4</td>\n",
              "      <td>2</td>\n",
              "    </tr>\n",
              "    <tr>\n",
              "      <th>14</th>\n",
              "      <td>1866</td>\n",
              "      <td>0.5</td>\n",
              "      <td>13.0</td>\n",
              "      <td>52</td>\n",
              "      <td>0.7</td>\n",
              "      <td>185</td>\n",
              "      <td>1</td>\n",
              "      <td>17</td>\n",
              "      <td>356</td>\n",
              "      <td>563</td>\n",
              "      <td>373</td>\n",
              "      <td>14</td>\n",
              "      <td>9</td>\n",
              "      <td>3</td>\n",
              "      <td>0</td>\n",
              "    </tr>\n",
              "  </tbody>\n",
              "</table>\n",
              "</div>\n",
              "      <button class=\"colab-df-convert\" onclick=\"convertToInteractive('df-eaf44489-42c5-46d9-98be-3c7d38479454')\"\n",
              "              title=\"Convert this dataframe to an interactive table.\"\n",
              "              style=\"display:none;\">\n",
              "        \n",
              "  <svg xmlns=\"http://www.w3.org/2000/svg\" height=\"24px\"viewBox=\"0 0 24 24\"\n",
              "       width=\"24px\">\n",
              "    <path d=\"M0 0h24v24H0V0z\" fill=\"none\"/>\n",
              "    <path d=\"M18.56 5.44l.94 2.06.94-2.06 2.06-.94-2.06-.94-.94-2.06-.94 2.06-2.06.94zm-11 1L8.5 8.5l.94-2.06 2.06-.94-2.06-.94L8.5 2.5l-.94 2.06-2.06.94zm10 10l.94 2.06.94-2.06 2.06-.94-2.06-.94-.94-2.06-.94 2.06-2.06.94z\"/><path d=\"M17.41 7.96l-1.37-1.37c-.4-.4-.92-.59-1.43-.59-.52 0-1.04.2-1.43.59L10.3 9.45l-7.72 7.72c-.78.78-.78 2.05 0 2.83L4 21.41c.39.39.9.59 1.41.59.51 0 1.02-.2 1.41-.59l7.78-7.78 2.81-2.81c.8-.78.8-2.07 0-2.86zM5.41 20L4 18.59l7.72-7.72 1.47 1.35L5.41 20z\"/>\n",
              "  </svg>\n",
              "      </button>\n",
              "      \n",
              "  <style>\n",
              "    .colab-df-container {\n",
              "      display:flex;\n",
              "      flex-wrap:wrap;\n",
              "      gap: 12px;\n",
              "    }\n",
              "\n",
              "    .colab-df-convert {\n",
              "      background-color: #E8F0FE;\n",
              "      border: none;\n",
              "      border-radius: 50%;\n",
              "      cursor: pointer;\n",
              "      display: none;\n",
              "      fill: #1967D2;\n",
              "      height: 32px;\n",
              "      padding: 0 0 0 0;\n",
              "      width: 32px;\n",
              "    }\n",
              "\n",
              "    .colab-df-convert:hover {\n",
              "      background-color: #E2EBFA;\n",
              "      box-shadow: 0px 1px 2px rgba(60, 64, 67, 0.3), 0px 1px 3px 1px rgba(60, 64, 67, 0.15);\n",
              "      fill: #174EA6;\n",
              "    }\n",
              "\n",
              "    [theme=dark] .colab-df-convert {\n",
              "      background-color: #3B4455;\n",
              "      fill: #D2E3FC;\n",
              "    }\n",
              "\n",
              "    [theme=dark] .colab-df-convert:hover {\n",
              "      background-color: #434B5C;\n",
              "      box-shadow: 0px 1px 3px 1px rgba(0, 0, 0, 0.15);\n",
              "      filter: drop-shadow(0px 1px 2px rgba(0, 0, 0, 0.3));\n",
              "      fill: #FFFFFF;\n",
              "    }\n",
              "  </style>\n",
              "\n",
              "      <script>\n",
              "        const buttonEl =\n",
              "          document.querySelector('#df-eaf44489-42c5-46d9-98be-3c7d38479454 button.colab-df-convert');\n",
              "        buttonEl.style.display =\n",
              "          google.colab.kernel.accessAllowed ? 'block' : 'none';\n",
              "\n",
              "        async function convertToInteractive(key) {\n",
              "          const element = document.querySelector('#df-eaf44489-42c5-46d9-98be-3c7d38479454');\n",
              "          const dataTable =\n",
              "            await google.colab.kernel.invokeFunction('convertToInteractive',\n",
              "                                                     [key], {});\n",
              "          if (!dataTable) return;\n",
              "\n",
              "          const docLinkHtml = 'Like what you see? Visit the ' +\n",
              "            '<a target=\"_blank\" href=https://colab.research.google.com/notebooks/data_table.ipynb>data table notebook</a>'\n",
              "            + ' to learn more about interactive tables.';\n",
              "          element.innerHTML = '';\n",
              "          dataTable['output_type'] = 'display_data';\n",
              "          await google.colab.output.renderOutput(dataTable, element);\n",
              "          const docLink = document.createElement('div');\n",
              "          docLink.innerHTML = docLinkHtml;\n",
              "          element.appendChild(docLink);\n",
              "        }\n",
              "      </script>\n",
              "    </div>\n",
              "  </div>\n",
              "  "
            ]
          },
          "metadata": {},
          "execution_count": 131
        }
      ],
      "source": [
        "stdz_m_p_t[num_colms].head(15)"
      ]
    },
    {
      "cell_type": "code",
      "execution_count": null,
      "metadata": {
        "id": "XYys8YyDJz2O",
        "colab": {
          "base_uri": "https://localhost:8080/",
          "height": 779
        },
        "outputId": "b3af3b36-7677-4502-dba6-0a2199c991b7"
      },
      "outputs": [
        {
          "output_type": "display_data",
          "data": {
            "text/plain": [
              "<Figure size 1000x800 with 8 Axes>"
            ],
            "image/png": "[encoded data removed]"
          },
          "metadata": {}
        }
      ],
      "source": [
        "relevent_colms = ['ram' , 'battery_power' , 'px_width' ,'px_height' , 'mobile_wt' , 'int_memory' , 'n_cores', 'sc_h']\n",
        "\n",
        "fig, axes = plt.subplots(2, 4, figsize=(10, 8))\n",
        "\n",
        "idx = 0\n",
        "\n",
        "for r in range(2):\n",
        "  for c in range(4):\n",
        "\n",
        "    col = relevent_colms[idx]\n",
        "    idx+=1\n",
        "\n",
        "    battery_0 = m_p_t_no_outlr[m_p_t_no_outlr.price_range == 0][col]\n",
        "    battery_1 = m_p_t_no_outlr[m_p_t_no_outlr.price_range == 1][col]\n",
        "    battery_2 = m_p_t_no_outlr[m_p_t_no_outlr.price_range == 2][col]\n",
        "    battery_3 = m_p_t_no_outlr[m_p_t_no_outlr.price_range == 3][col]\n",
        "\n",
        "    data = [battery_0, battery_1, battery_2, battery_3]\n",
        "\n",
        "\n",
        "    sns.boxplot(data,ax = axes[r, c], orient = 'h')\n",
        "\n",
        "    # axes[r, c].title('Battery Power by Price Range')\n",
        "    axes[r, c].set_ylabel('Price Range')\n",
        "    axes[r, c].set_xlabel(col.upper())\n",
        "\n",
        "plt.tight_layout(pad = 3.0)\n",
        "fig.suptitle('Relationship between Relevent Features and Price Range')\n",
        "\n",
        "plt.show()"
      ]
    },
    {
      "cell_type": "markdown",
      "metadata": {
        "id": "KgZl13sl6dRB"
      },
      "source": [
        "#### **Before Standardization**\n"
      ]
    },
    {
      "cell_type": "code",
      "execution_count": null,
      "metadata": {
        "id": "HI3WD4wC-cbH",
        "colab": {
          "base_uri": "https://localhost:8080/",
          "height": 817
        },
        "outputId": "0323f3df-f4c1-41e5-f402-d755bbc0ce6a"
      },
      "outputs": [
        {
          "output_type": "display_data",
          "data": {
            "text/html": [
              "<html>\n",
              "<head><meta charset=\"utf-8\" /></head>\n",
              "<body>\n",
              "    <div>            <script src=\"https://cdnjs.cloudflare.com/ajax/libs/mathjax/2.7.5/MathJax.js?config=TeX-AMS-MML_SVG\"></script><script type=\"text/javascript\">if (window.MathJax && window.MathJax.Hub && window.MathJax.Hub.Config) {window.MathJax.Hub.Config({SVG: {font: \"STIX-Web\"}});}</script>                <script type=\"text/javascript\">window.PlotlyConfig = {MathJaxConfig: 'local'};</script>\n",
              "        <script src=\"https://cdn.plot.ly/plotly-2.18.2.min.js\"></script>                <div id=\"10a8b48b-59ea-4167-90c8-fa642dccc108\" class=\"plotly-graph-div\" style=\"height:800px; width:1200px;\"></div>            <script type=\"text/javascript\">                                    window.PLOTLYENV=window.PLOTLYENV || {};                                    if (document.getElementById(\"10a8b48b-59ea-4167-90c8-fa642dccc108\")) {                    Plotly.newPlot(                        \"10a8b48b-59ea-4167-90c8-fa642dccc108\",                        [{\"boxpoints\":\"suspectedoutliers\",\"name\":\"0\",\"notched\":true,\"orientation\":\"h\",\"x\":[700,1099,513,373,568,1037,478,508,1262,504,1270,905,431,470,1050,392,590,907,1449,854,1410,349,880,1412,1047,1204,790,488,666,284,1427,398,278,505,374,506,490,536,728,1472,764,797,1046,690,1022,711,978,593,588,625,707,720,278,829,1181,575,532,1074,461,527,468,1210,417,294,447,666,1206,952,311,725,714,715,663,834,651,796,785,1201,1051,916,827,473,364,1470,1050,706,336,418,1414,1974,582,808,1122,624,457,438,1052,1175,301,489,1043,1343,1138,604,258,1066,1459,918,590,463,429,1223,343,1155,869,591,574,891,728,814,701,1446,719,988,1028,445,1073,861,1017,980,1257,759,475,1122,705,565,316,448,462,1165,752,1305,606,1076,783,1655,961,514,933,824,1254,950,273,1122,707,751,452,1419,969,1735,995,1145,626,297,411,665,740,337,1229,520,990,433,898,770,305,616,419,504,392,820,1403,302,404,595,1663,1094,966,905,363,542,509,282,424,1284,277,485,418,1406,629,676,286,776,716,424,643,1609,590,1539,942,604,515,654,509,619,725,1185,911,656,860,1018,1360,703,582,1172,316,999,589,670,584,1275,309,323,417,667,1018,934,348,550,971,570,546,1209,947,1484,347,1028,929,1211,511,1414,336,1095,325,1223,356,523,1229,587,816,619,912,793,560,312,545,893,819,1229,673,921,391,441,1886,687,887,398,621,815,568,1080,1075,735,1454,461,470,931,1344,757,594,467,345,874,737,315,1419,959,896,485,841,262,530,259,688,571,402,878,454,455,401,681,509,1105,1339,285,733,756,465,851,1300,362,437,696,1704,368,1471,1321,577,751,436,722,1075,403,1069,657,1326,323,763,792,258,780,712,1012,318,629,1161,1403,1305,471,594,1005,1083,593,1284,545,1212,348,980,838,378,909,348,663,961,531,726,685,1342,999,331,422,432,1152,1303,797,298,315,462,1593,324,555,435,702,1303,456,941,558,1345,425,267,1050,624,412,595,263,639,436,817,543,862,957,313,1149,920,361,1077,512,291,524,464,1234,292,587,879,562,1338,315,586,804,1295,885,1044,1637,783,256,867,609,354,1082,1113,984,1037,1167,1244,1052,1672,1302,575,440,1462,503,708,308,552,594,690,265,1417,1086,1507,641,1607,1241,881,769,819,435,586,650,739,686,841,1183,1037,991,1519,493,704,953,928,489,299,340,799,445,770,1234,340,298,968,696,755,1341,773,841,1675,1301,1817,872,1503,343,1457,967,635,824,495,1424,296,1180,668,869],\"type\":\"box\",\"xaxis\":\"x\",\"yaxis\":\"y\"},{\"boxpoints\":\"suspectedoutliers\",\"name\":\"1\",\"notched\":true,\"orientation\":\"h\",\"x\":[2549,1411,1067,1482,1835,2337,1433,2583,2227,1326,2113,1878,1629,1152,2296,1440,2056,1457,1814,1837,2009,2048,837,1418,1692,1308,2413,1799,2016,2213,1945,1214,1496,1366,2399,2235,2196,2341,1354,1394,1078,2126,1260,1886,1617,1545,2505,1866,1287,1441,1362,1869,1179,2227,1457,1733,1767,1846,2169,1702,1027,2039,606,1675,1129,1595,1851,927,2044,1477,1604,2211,1652,1228,1499,955,1109,610,1725,1322,1615,2125,990,1595,1213,2111,1036,2581,941,1274,1243,2261,2457,1246,2360,2101,732,1892,1141,2330,2244,1851,1587,1797,1458,1834,1277,985,1070,1175,1724,2190,1900,1107,2042,1614,1731,1965,1713,1125,1970,2180,864,1333,2129,1948,1619,1434,1711,1891,2811,1701,1853,2445,2287,1726,850,1300,1667,1214,665,1336,1183,2366,1480,1087,1409,1524,584,1391,2346,1324,643,2104,1762,1756,1432,1620,1896,1973,2598,1624,446,1851,2253,2027,2419,1509,2385,1301,2167,1205,2039,1378,1803,1796,2630,1380,1201,1671,2246,1184,1026,1086,1303,2073,1519,2103,1724,1790,1913,1713,1652,1354,2150,2587,2509,1944,1436,1334,2351,1285,1369,1475,1950,2020,606,1653,2197,2066,1518,1251,1732,2146,1927,1511,1808,1561,2073,1401,1464,1083,1531,601,1489,1322,1846,1241,1444,1944,2019,1587,1870,1352,714,1229,1377,1699,1649,1898,1445,1402,2085,1667,2050,1754,1904,2705,1370,1222,2648,1368,724,1591,2514,1032,2043,1816,1375,1732,2301,1719,1947,1267,1737,2459,2200,1519,2107,1282,2074,2227,2094,1891,1386,2022,1716,2290,1882,2399,892,1412,1857,1754,1936,1869,2349,774,1887,1542,574,1464,1824,876,659,2278,2036,1642,2064,1142,1060,2476,1862,1277,1905,1108,1906,1218,2086,1356,2132,2096,1273,854,1494,2001,1486,1877,2124,1221,1068,1930,1316,1742,2253,1433,1817,1277,1464,1355,1886,832,1780,1247,1464,1628,1568,1276,2171,1724,1220,2439,2302,857,1309,1179,1713,1663,1384,1348,1382,1861,2190,1280,2331,794,1666,2157,1196,1590,1693,1379,1164,908,1019,1470,1543,2753,2156,1214,2293,2110,2361,1380,2289,2367,1919,1591,2456,1440,1907,1404,1424,1133,1853,1146,2335,1422,1115,2638,2192,1208,1598,1249,1550,1646,1998,1869,1813,2013,2623,1400,2033,1017,1686,1656,1687,1629,1513,2240,820,1875,1412,1540,1610,2201,2203,940,1155,1798,1567,1491,1693,1788,1641,2319,1258,1543,1637,1393,1181,1659,1999,1193,1246,2378,1794,1774,1365,2049,2175,1400,2308,1734,2090,1053,1799,1552,1938,2296,2359,2002,595,1337,2066,2029,2082,1795,2004,1903,1769,1459,2052,1308,1747,2517,1389,2177,1861,2367,1641,1069,1974,2282,1534,2651,1824,1456,1675,1601,1958,1647,1150,1974,1205,2052,1396,1871,1112,387,2215,2156,1744,1832,2016,1300,2216,1850,1620,2592],\"type\":\"box\",\"xaxis\":\"x\",\"yaxis\":\"y\"},{\"boxpoints\":\"suspectedoutliers\",\"name\":\"2\",\"notched\":true,\"orientation\":\"h\",\"x\":[2631,2603,2769,2680,2782,2373,3169,2150,2484,2059,2053,2908,2552,2910,2148,2955,2192,2593,2746,2334,1971,1601,3182,3187,2598,2488,2863,2962,2338,2700,1324,2390,2268,2965,2147,2945,2981,2317,2050,3323,2060,2177,2842,2337,1687,2243,2844,2227,1665,2504,2677,2243,2984,2571,2107,2844,2669,2377,2458,3256,3560,2311,1717,2986,2394,2977,2698,2332,2589,2334,1203,2969,1655,1774,2768,3252,2832,2500,2801,3139,1938,3185,2369,2938,2855,2727,2973,2563,3359,2280,2927,2616,2686,2523,2971,2324,3121,3801,2895,2532,1529,2403,2806,2239,2511,2734,2492,2122,3709,3021,1733,2756,2612,2362,2610,2335,2323,3291,2765,2084,2048,3100,2728,2488,2208,2610,2819,1955,2978,2674,2336,2430,2856,2447,2951,3653,2003,3595,2606,2912,2339,1897,3269,2885,2777,1185,3169,2801,3153,3421,2711,2144,2998,2249,3597,3132,3293,3035,2675,2382,2437,2832,2608,2304,3278,2183,1704,2574,1510,3393,2735,3441,2710,2298,2406,2078,2312,2297,2440,3176,2473,3487,1906,2020,2953,2574,2577,2405,3377,2965,2236,3048,3764,2295,1973,2549,2614,2826,2496,2172,2487,2532,3076,1513,3006,1333,3002,2893,2655,2934,2889,1993,2246,3237,2317,3190,2338,3657,2080,3078,2552,3355,1968,2547,2735,2942,2812,3497,1329,1947,1998,1656,2870,3458,2524,1252,3328,2462,2437,2981,3148,2829,2373,2173,2493,2991,3731,2944,3087,3227,2622,1653,3034,2609,2265,2775,2614,2030,2958,2800,3102,2268,2173,2746,1482,2166,2469,2575,2676,1781,2248,2389,3077,2372,2574,2438,2674,2262,2829,2573,2678,2867,3063,2479,2394,2814,2315,2519,3260,2219,2495,2944,2361,1783,2832,3916,2865,2719,3012,2385,2110,3105,3865,2800,2286,2392,3305,2635,2563,3397,2977,2114,2481,3565,1958,2454,2562,2632,2554,2977,2130,2638,2819,2706,2378,3212,2381,3178,2636,2014,1430,2456,2360,2620,3623,2316,3265,2700,2115,1571,2583,2915,2790,3593,2311,2382,2802,3066,2518,2651,2974,2520,1868,2926,2674,2754,2219,1571,2107,3566,2821,1812,3396,2528,2189,2644,2072,2627,2137,2299,3011,2637,2248,1921,2423,1658,2182,2184,2738,2722,3183,3495,2648,2647,1836,2678,2424,3078,2304,2096,2750,2278,2273,2355,2328,3397,3122,2929,2052,2577,1930,2334,2258,1825,2678,3400,2700,3127,2518,2515,2666,1695,3510,3083,1783,2528,2341,2785,3615,1882,2003,1751,2854,3115,1612,1998,2855,1633,2521,2658,2190,1743,1816,2992,3249,3242,2725,2454,2460,2625,2698,2548,2940,2757,3094,2339,3285,2322,3104,2847,2256,2908,2715,2488,2927,2131,3314,2466,2473,2083,2661,2466,2948,2572,3267,1633,2402,2948,2633,1958,3351,3248,2522,1885,2610,2343,2787,2495,2391,2782,2651,1905,1829,2376,2694,2195,2506,2073,2321,3433,2668,2452,2498,2711,2023,2358,2313,3248,2032],\"type\":\"box\",\"xaxis\":\"x\",\"yaxis\":\"y\"},{\"boxpoints\":\"suspectedoutliers\",\"name\":\"3\",\"notched\":true,\"orientation\":\"h\",\"x\":[3220,3946,3826,3554,3752,2819,3283,3763,3286,3532,3845,3429,3339,3587,3238,3112,3963,3366,3068,3834,3993,3378,3709,3448,3464,3484,3210,2822,3616,2600,2676,2597,3029,2343,3472,2871,3242,3534,3426,3255,3801,3799,3825,3685,3556,3799,3557,3702,3704,2462,3770,3926,2478,3965,3693,2940,3834,3600,3971,3355,3629,3559,3117,3844,3836,2958,3031,3388,2766,3054,3791,3755,3846,3704,3800,3352,3271,2513,3086,3760,3576,3945,3161,3660,3822,3922,2822,3608,3321,3927,3490,3615,3739,3865,3059,3451,3625,2690,3865,3699,2915,3264,2993,2542,3917,3333,3475,3652,3097,3918,3869,3684,3969,3131,3215,3323,3419,3648,3890,3838,3937,3348,2775,3210,3701,3411,3915,3817,2982,3652,3955,3860,3630,3272,3488,3961,3701,3644,3672,3635,3864,3566,3416,3803,3716,3454,3777,2712,3968,3383,3278,3970,2776,3886,3139,3952,3173,3129,3501,3461,3206,3717,3917,2775,3309,3607,3720,3483,3373,3881,3072,3856,3673,3809,3137,3663,3655,3622,3809,3771,3786,3533,3587,3371,3508,3914,3226,3878,3406,3959,3703,3714,2896,3254,2501,3762,3015,3204,2799,3772,2870,3619,3713,3798,2858,3387,3447,3755,3872,2764,3916,3902,3914,3233,3836,3481,3991,3746,3941,3970,3925,3724,3835,2376,3438,3361,3535,2736,2941,3336,3796,3654,3315,3534,3165,3213,3486,3358,3669,3612,2540,3869,3412,3483,3592,3573,3568,3302,3884,3892,3897,3676,3449,3598,3271,3119,3647,3998,3317,3764,2885,3458,3019,3538,3726,3912,3269,3941,3142,3863,3506,3984,3624,2752,3868,3299,2641,2438,3744,3520,3796,3745,2457,3705,3773,3537,3162,2784,2746,3672,3833,3262,2693,2890,3431,3601,3230,3646,3862,2857,3143,3197,2727,3022,3317,3940,3469,3300,2836,2968,3762,3033,3681,3153,3637,3964,3038,3392,3703,3859,3260,3436,3424,3105,3153,3465,3900,3117,3366,2560,3488,3622,3703,3056,3869,3142,3700,3774,3407,3902,3571,3209,3646,3130,3784,3885,2973,3499,3915,3144,3340,3220,3488,2736,3372,3393,2610,3721,3472,3423,3948,3707,3518,3442,3957,3925,3632,2916,3707,3577,3696,3771,3685,3142,3692,3073,3958,3847,3892,2872,3296,2933,3154,3615,3563,2294,3785,3675,3894,2944,3424,2671,3396,3518,3358,3206,3695,3235,3946,3887,3614,2803,3564,3654,3930,3476,3242,3438,3494,3282,3629,3899,3256,3761,3610,3024,3338,3473,3872,2598,3905,3322,3259,3991,3555,3411,3541,3437,3064,2392,3284,3330,3564,3742,3511,3966,3484,3933,3241,3497,3684,3586,3204,3210,3990,3117,2967,2259,2921,3132,3362,3124,3202,3167,3480,3314,3996,3845,3779,3904,3376,3451,3521,2563,3033,3454,3038,3736,3943,3911,3297,3141,2355,3206,3839,3606,3927,3756,3208,3568,3585,2419,3746,3155,3883,3548,3767,3654,3104,3430,2470,3851,2885,3142,3579,3962,3978,3057,3919],\"type\":\"box\",\"xaxis\":\"x\",\"yaxis\":\"y\"},{\"boxpoints\":\"suspectedoutliers\",\"name\":\"0\",\"notched\":true,\"orientation\":\"h\",\"x\":[1954,1445,509,1866,775,1602,851,1568,644,1195,578,823,799,1156,1242,605,797,1114,1234,1496,885,879,1355,657,1939,553,867,1308,1571,536,523,1218,1678,1547,637,1224,1296,1193,685,703,1165,1380,1703,1087,1049,903,1154,850,660,1715,1523,1799,862,1617,835,1450,601,564,1431,767,1066,730,538,823,832,928,977,768,1177,1530,645,1170,508,728,1379,1698,920,668,618,1604,880,1394,899,916,763,1067,1899,1058,880,652,1029,914,1681,1190,728,954,1469,1310,1631,1608,1289,513,965,1067,1433,765,932,601,1417,1330,1277,685,1902,1278,1438,1661,1678,1076,532,577,504,726,1454,1230,1191,1271,1170,1974,934,1195,1232,1813,739,704,1219,652,1137,1835,1719,922,1430,557,1620,1359,1645,600,1063,1715,543,1462,666,568,1897,914,1721,890,1979,710,1034,675,1362,768,1314,1486,1979,561,535,1640,1108,863,1271,1049,984,771,503,545,1264,1432,558,829,733,550,969,1160,827,819,1067,915,911,1320,1422,1591,691,807,1113,1188,805,1236,1387,1860,1907,1489,825,1286,1195,525,1425,981,1236,603,1413,1064,1554,1059,1372,783,1062,1800,1205,816,904,934,874,1689,743,1061,674,1625,907,852,1910,1807,1239,672,1130,1597,1261,1068,1713,686,818,1068,1524,511,1402,919,772,536,1633,551,1576,950,1081,606,1949,1696,1104,1154,1948,1959,1043,1703,1095,1414,1659,1189,516,530,1655,1403,688,1697,741,514,1510,1266,1224,1671,1447,921,831,1851,987,1587,504,1268,999,1100,909,709,1744,1300,1092,1130,708,530,627,713,984,1515,721,697,717,1971,1794,1558,1994,1935,712,1083,1097,740,1053,1174,1528,875,584,912,1365,589,871,1928,831,1901,808,912,1498,882,1549,1991,796,541,1414,1616,539,826,1420,1763,1801,1686,1444,1004,1242,717,1540,672,950,1447,1791,851,951,1448,820,904,630,1811,514,1933,915,1006,1180,1142,1002,1249,1201,776,726,1150,742,772,1130,1183,574,1472,1868,852,1343,595,1650,571,642,875,891,1110,769,1273,1062,1317,1546,793,1110,1897,1202,1171,1973,848,1254,1179,1000,841,1194,986,771,1948,626,1727,1146,535,1619,1002,742,942,1290,548,1083,1969,833,1174,1002,1607,1066,946,657,926,1339,995,581,808,993,733,1514,574,909,1251,1203,527,873,1358,713,1207,594,1565,1052,837,665,1065,958,720,592,969,504,689,1685,1944,648,1702,1571,856,649,1646,1189,1043,1220,1442,868,864,591,1205,713,1544,1367,1179,1549,1799,1837,1027,1259,1969,759,1802,1318,764,1283,719,544,1007,590,1327,686,555,672,659,1667,1191,1201,618,1617,674,794,1512],\"type\":\"box\",\"xaxis\":\"x2\",\"yaxis\":\"y2\"},{\"boxpoints\":\"suspectedoutliers\",\"name\":\"1\",\"notched\":true,\"orientation\":\"h\",\"x\":[842,1821,1859,1815,1131,682,1949,503,1319,725,589,1253,1656,1514,1054,1457,1757,1484,819,1103,1008,1127,1412,1322,593,1732,543,832,783,617,1084,1778,1564,1790,668,1272,1101,843,1692,1692,1840,748,1569,1854,801,1905,596,609,1905,1445,1265,1336,1886,1442,1133,1330,1273,957,708,507,754,728,1992,1054,1281,1611,1281,1839,659,1172,1191,615,1162,1329,1656,1348,1956,1648,1097,1995,972,662,1867,1730,1723,811,654,609,1610,809,1725,1011,930,1874,560,1036,1945,1323,1478,912,651,1483,1456,1197,1048,1772,1464,1472,1654,1448,1844,712,972,1172,664,1986,1845,1077,1579,1949,1225,1337,1661,1846,1417,1074,1039,1128,1217,525,569,1590,707,767,1350,1002,1900,1544,1229,1290,1269,1663,1263,1170,1770,1312,1958,1109,1944,1919,501,1227,1914,946,1231,701,955,924,1762,709,571,1778,1695,723,852,804,706,705,986,1310,560,1744,817,1397,1068,1156,696,1981,1590,1936,1159,1648,1331,1620,1092,891,576,1592,1204,1439,1929,721,918,1593,833,571,510,814,1068,1878,569,1332,1918,1829,1132,1181,1254,868,1284,1763,1265,1624,1027,1048,1496,1991,1428,1584,1382,633,922,1008,1660,1861,1923,1345,904,892,1866,1175,559,1483,860,1090,1963,1881,1986,1099,502,957,1753,1122,504,1218,673,718,864,547,1793,1720,643,1522,1872,1540,518,1449,1076,1044,1869,1331,605,775,1375,1672,989,745,1341,1729,635,1528,1344,564,1285,727,1396,696,1009,1414,1250,618,1271,1299,1129,1068,1524,1093,989,1895,1177,1158,1820,1180,718,1670,1566,913,1449,1796,676,1020,896,627,1602,1426,609,1541,615,1874,1023,1426,1433,643,1142,1510,1538,712,1507,769,507,1384,1407,614,1972,1039,1423,1974,1429,1885,1321,1021,1210,1949,1318,1708,1604,771,1163,1805,794,1973,1731,856,714,1987,1352,1600,1454,1489,1581,1672,688,973,659,1392,531,1450,832,867,1404,1368,510,1576,714,1595,541,1154,603,520,565,1143,1015,881,1186,1762,848,827,1063,834,1081,1128,826,1162,1028,1831,1412,1772,1280,1712,1957,911,940,1494,999,1715,546,1093,826,586,1776,984,557,1129,1057,1862,555,1232,1469,1695,1713,1175,1940,855,1307,1509,1150,1208,1559,1902,1751,1003,1967,962,1379,1504,1125,807,1996,1083,1603,1441,1699,916,1117,1065,1779,511,1044,731,1261,936,508,1936,1329,843,1354,1424,583,1777,1299,793,722,1035,1702,628,683,537,713,1541,877,842,623,1680,983,1745,1142,608,983,1082,1991,1349,1619,1807,955,695,1176,569,1982,1122,1854,718,897,798,1279,748,1561,797,1884,1906,1753,1783,538,915,1483,1614,930,1454,797,1139,1547,586],\"type\":\"box\",\"xaxis\":\"x2\",\"yaxis\":\"y2\"},{\"boxpoints\":\"suspectedoutliers\",\"name\":\"2\",\"notched\":true,\"orientation\":\"h\",\"x\":[1021,563,615,803,961,1453,790,560,1347,1547,1760,1073,1936,1063,1720,702,1407,999,668,1309,1977,1665,1310,909,1701,1166,826,645,1652,1213,1753,786,1216,506,1485,1481,961,1441,1126,625,1577,946,947,1082,1266,1562,640,1526,1989,671,1472,765,1642,1395,1539,1827,1452,1151,1578,528,633,724,1918,893,1210,973,1283,793,1220,1953,1995,1751,1997,1707,1163,1144,1430,1882,803,1391,1560,821,1989,576,667,869,635,1182,848,1828,879,508,1864,775,1482,1809,864,625,1117,1266,1476,1552,1504,1726,1178,755,1178,1503,715,1876,1991,1349,1589,1747,1742,1512,1968,1122,1089,1663,1138,857,1066,1926,1260,512,581,1872,1832,535,1671,1821,1656,1185,737,704,1117,641,1552,1519,723,1758,574,1197,587,1966,612,621,1175,561,1878,1871,1975,1212,539,880,598,972,1225,644,1993,518,920,1841,1315,1762,1583,966,1623,600,638,600,1260,1694,1713,1527,1567,1940,1519,663,1624,614,1807,1536,675,1303,1822,1782,894,798,1996,1018,554,1872,1853,1760,774,1042,1368,1892,1501,1647,967,1442,880,1642,1512,1320,1788,787,854,1973,1438,757,767,994,1550,623,1829,1065,1296,642,1664,1187,1156,841,730,878,1497,1742,1549,1698,899,626,1531,1966,959,1349,582,553,764,894,1589,1631,1596,648,516,774,594,965,683,1694,1371,1658,1681,1983,1632,1674,531,576,812,980,1925,587,1893,1330,1836,1741,1245,1709,846,1396,501,1970,618,680,1106,618,1562,831,1524,1413,802,1923,1193,904,1635,1923,877,1097,1159,1910,865,1930,860,622,763,673,563,1031,1136,1039,511,1030,1009,1735,894,1481,1487,805,582,1898,1820,580,1263,1237,1426,1215,1348,578,1597,1221,989,534,504,1039,1824,586,840,991,1702,1347,1644,1089,730,1766,511,1811,1159,1469,835,947,1332,798,1998,1339,1012,598,818,601,561,1533,1726,948,1328,1617,1303,1550,1759,667,1109,1823,599,1237,602,1342,840,1147,1045,1638,1254,1689,761,1742,1225,1970,1575,1554,1517,963,622,600,733,1070,1994,1330,1660,1611,1410,1562,1211,671,1872,1076,1325,729,895,625,1856,964,1880,1830,1864,1206,1851,513,744,1148,1310,1676,502,1641,623,999,1561,667,1269,1109,645,1288,1487,1630,614,854,1826,1219,695,1470,1306,1424,1934,930,1783,1698,869,1337,637,1248,1831,1010,990,681,1163,987,1673,618,1086,1944,994,1811,765,579,1072,1436,636,930,1250,534,935,1493,1762,925,897,1110,616,1715,1660,1615,1748,1193,1234,1083,1720,1802,1719,965,730,1361,936,772,1056,1830,1602,1405,1396,1749,1588,1600,1788,757,1063,635,1583,640,1913,1379,1784,1262,1965],\"type\":\"box\",\"xaxis\":\"x2\",\"yaxis\":\"y2\"},{\"boxpoints\":\"suspectedoutliers\",\"name\":\"3\",\"notched\":true,\"orientation\":\"h\",\"x\":[1821,769,1520,838,595,772,1709,519,956,1579,1310,1725,1646,1723,596,1654,987,616,1358,1866,1166,1448,1038,1199,1589,1510,1083,1724,1137,1883,1661,1657,1135,1775,1804,1900,772,825,1379,1659,1957,1414,866,1537,1814,1461,742,1356,517,1572,1270,534,1949,959,1502,1934,1831,1490,1523,1308,664,1277,1987,1551,1225,1686,1634,1708,1689,1488,1313,1718,822,1891,1373,1559,1722,1876,1053,1662,1733,1429,612,1563,1893,1563,1517,1595,1937,1464,1414,894,1126,1980,1504,580,1034,1557,1960,1976,825,1108,1703,1334,1187,1880,1138,1712,1836,1860,1375,1896,788,1868,1042,1479,1454,1007,1582,707,1755,1887,1421,685,853,902,1406,932,1128,1583,1653,752,1948,1588,1615,1589,1697,1476,1889,1554,869,1773,687,1062,1059,1606,1928,1875,1748,1413,825,1589,1780,777,793,1408,1168,1288,1366,1572,1627,1701,1900,1853,1164,1512,946,1658,1395,1595,1836,1369,843,1063,1397,570,1112,1994,1926,1677,1027,1793,658,1403,781,1348,1717,1413,1358,1254,1591,977,1188,1108,1702,808,1945,1135,720,1004,1972,1884,802,1276,1030,1741,1849,1149,1911,1786,774,1848,1614,1520,1347,1800,1567,1511,1312,1852,972,1883,839,1722,1954,1628,1965,1808,1368,1161,1224,902,1184,966,1986,1843,840,1498,1673,712,1444,1366,906,1578,1652,912,1790,1112,1005,989,1983,694,979,1558,1485,1231,805,1456,832,1444,1745,862,1754,1569,1807,1379,1330,1778,1359,1046,1035,1688,1456,1373,1777,1270,1977,1221,1000,1119,1699,688,1727,1057,1960,623,1408,1809,1342,1569,1312,1154,1827,1375,808,1542,1735,586,781,1537,1018,1545,1871,1975,1526,1732,815,553,1590,1880,1479,1314,732,921,1816,864,1451,514,603,1164,1240,1317,917,1747,1872,1562,1433,503,1512,1944,1733,1602,1370,1724,860,1278,956,664,888,1077,1496,1095,1924,1825,1275,987,1965,948,1848,1988,1446,1576,1398,1436,1263,1071,1811,1842,610,1924,539,1325,908,1333,1283,659,1134,1927,1714,1796,1497,1425,1617,1806,1834,959,1824,1375,1731,1972,1695,911,844,1335,1883,1837,1770,970,823,1908,790,1776,875,1253,1628,1992,1765,1640,832,1166,1494,1793,1604,1001,1086,1986,634,962,865,612,1362,1843,1768,936,1190,1670,1812,770,1416,1715,1569,1945,1470,1035,1521,1314,673,1606,1958,1890,1152,1849,1922,1564,1982,1285,753,1855,1485,1938,1322,1864,1020,1136,719,1946,1577,1492,1807,1876,1830,648,1494,1289,1445,1766,584,680,1692,1576,1564,1356,1546,1792,1786,1077,1786,914,1920,907,1766,1278,1961,1369,1090,721,1075,684,1494,709,689,1872,591,1023,732,1035,1522,727,1515,1589,1976,816,1157,1829,1882,1467,858,1911,510],\"type\":\"box\",\"xaxis\":\"x2\",\"yaxis\":\"y2\"},{\"boxpoints\":\"suspectedoutliers\",\"name\":\"0\",\"notched\":true,\"orientation\":\"h\",\"x\":[1149,836,1224,563,1864,788,1263,654,881,1652,1433,1449,975,547,1225,1026,1413,1071,778,741,802,1105,891,961,520,902,1974,989,1398,1539,1042,616,536,590,1989,826,1272,1729,648,1065,831,500,1235,589,1077,1235,1499,642,1178,1615,1606,1383,1758,1038,1604,1882,765,1980,952,1517,1571,1247,662,888,1294,1243,566,515,882,1975,1130,709,557,775,1370,994,1078,1292,1688,939,1381,1565,1331,992,1186,681,814,1247,1350,559,956,1495,1205,1441,817,1058,1133,889,1905,1158,899,867,998,1989,799,793,1078,548,1649,1262,1090,870,1393,750,1663,861,1763,915,1354,1450,1665,760,1100,676,1813,1949,1722,545,1463,1100,809,1306,1536,1509,1022,781,1285,583,904,1383,906,1315,1033,901,1308,747,935,1652,1031,1478,1353,1703,1935,721,1048,1873,1630,857,1293,757,1505,991,577,1747,1532,1294,811,1301,1742,1799,650,1564,1611,922,1291,1452,849,947,1605,1916,1409,1930,589,859,821,822,1009,1448,670,1229,926,1641,962,697,1312,1469,704,809,1151,799,1513,812,783,662,1001,670,1897,688,1403,1968,1481,1569,1367,1545,937,1263,1435,1108,614,558,507,1190,1248,674,1659,1330,772,1219,507,730,1284,974,661,1143,1261,1667,1591,1910,890,1392,510,875,635,622,1767,570,1471,705,906,1916,631,843,519,1152,1178,772,1413,1801,571,1055,1626,521,1247,1564,1515,932,1401,1090,1348,1623,869,1046,594,1320,1170,1595,709,1263,1455,1229,1239,1967,565,874,1195,912,745,1344,773,1422,1558,1037,571,1579,620,1012,507,1378,707,1593,1988,1477,1106,922,627,1385,711,860,1743,1469,519,1147,1261,1461,564,1316,1622,1310,970,1858,1437,1004,621,1662,974,794,1167,884,1162,613,518,1226,1233,1133,967,530,1393,1893,1708,1073,1340,581,1796,1981,831,1267,1681,1062,682,1007,935,1144,694,1496,1448,1132,1492,1473,1316,991,540,855,512,1193,1723,1803,978,800,925,1802,1327,1010,1364,892,884,1349,1205,816,881,1536,1775,853,1435,1262,1780,1399,817,542,1491,1196,1950,738,1742,755,851,1294,1372,1429,833,675,509,679,1247,700,1759,1288,583,1775,1180,1007,1288,1532,742,1657,503,764,1290,1244,1111,1005,1504,891,1905,793,1441,1889,565,529,1639,1739,538,1334,1643,591,510,1924,1411,1635,1477,681,528,1364,1839,1831,1804,1948,751,1234,970,909,1129,722,1429,1079,1811,1351,956,1931,1551,1608,615,893,1249,642,1311,1436,1726,1870,1123,844,642,1451,990,1386,872,534,1989,756,1317,590,661,539,980,1141,610,831,509,1721,745,1010,1127,657,1396,807,558,724,1426,1809,1890,670],\"type\":\"box\",\"xaxis\":\"x3\",\"yaxis\":\"y3\"},{\"boxpoints\":\"suspectedoutliers\",\"name\":\"1\",\"notched\":true,\"orientation\":\"h\",\"x\":[756,1212,1654,748,878,1064,822,1245,1152,1249,815,714,1456,1810,774,1287,713,969,1242,1486,1122,1049,1894,1990,1317,881,984,1504,1471,874,771,1954,1965,792,1056,669,1269,800,1996,1925,1545,1554,1942,627,879,898,984,1948,1542,1345,836,583,1958,687,1543,1441,886,1485,654,1398,1928,1529,1596,1222,1617,714,954,1493,1929,1092,683,1664,997,1458,519,1942,776,1876,1914,1104,1795,1224,1442,1023,1361,1429,1898,1253,1280,1726,1195,749,1025,1233,1903,926,1753,619,882,1053,858,758,1104,1629,1975,545,1341,1744,1719,1850,882,1208,1050,1884,1497,1358,695,1304,1484,592,982,644,1337,773,1029,952,1827,1582,632,1587,739,963,1508,1000,544,1416,1596,857,1878,1109,1920,1545,1883,684,1552,1854,637,1787,1970,1191,1089,1781,1701,630,1184,1256,1511,1813,527,1596,1282,516,1898,1748,1159,818,938,1374,800,1016,1327,718,766,1658,1998,1262,907,1234,1595,1089,723,1238,1226,1339,1424,1724,1518,522,1482,932,1051,1862,671,1336,1395,783,1228,1406,1500,1026,1159,1165,1203,563,1293,831,1956,1026,516,806,687,1744,714,1670,506,1377,983,1291,719,1915,1808,1972,1165,1877,1759,1465,760,1782,1782,1394,823,1552,1463,1910,1813,1553,1520,1096,1810,1682,1595,1963,1795,1746,1088,830,1805,541,722,646,1079,1191,1767,822,710,1883,1300,1262,874,1531,656,1555,772,1896,1069,1538,574,1178,989,1762,556,1737,500,1377,1843,797,1043,887,1011,896,1788,1838,1079,1499,740,807,804,1335,1923,1796,1951,1252,1387,1886,1930,1144,947,798,1011,1613,1469,819,1062,1694,1524,1052,1958,1418,1744,1163,784,1400,1766,1520,986,1309,888,1454,1084,1210,1206,603,952,1878,640,1496,1552,1517,941,1793,1039,1182,1591,1345,1156,1781,1076,891,1376,507,1039,1027,1527,1925,1299,1713,910,1759,850,1435,1957,588,730,1098,1657,1639,1431,724,1880,925,1897,1551,1857,1988,1873,1240,1284,519,703,1724,679,636,584,790,527,826,849,1463,816,1226,1183,866,1923,1790,660,1405,588,663,1727,763,1090,1003,1970,1849,1658,1420,1615,1118,623,1931,710,1702,891,1046,1970,761,711,1208,1963,557,1809,1196,1103,1684,1947,1028,681,877,1952,1905,1374,1916,755,1853,939,829,1083,1164,1207,954,1099,1393,1035,1722,1717,1264,1263,1032,1429,938,1195,1021,682,732,918,1663,1794,874,908,1006,1371,1709,1643,1534,1135,1430,1760,1656,1985,730,1238,1231,1205,1629,769,1351,1176,724,1037,623,562,1814,1254,1211,1455,605,593,1163,718,997,994,1951,1633,709,874,1466,1179,629,1983,1979,537,986,651,1219,1289,1018,1167,999,957,854],\"type\":\"box\",\"xaxis\":\"x3\",\"yaxis\":\"y3\"},{\"boxpoints\":\"suspectedoutliers\",\"name\":\"2\",\"notched\":true,\"orientation\":\"h\",\"x\":[1988,1716,1786,1440,1434,1311,730,1613,967,1832,1383,804,1036,683,1353,1570,1217,1616,1203,1402,1242,1684,513,973,1338,1203,786,580,1264,1248,1926,1697,1967,1025,1013,1533,621,1071,1611,842,1737,1740,1220,1191,1698,1533,1179,751,1497,1182,1052,1429,873,705,1666,1020,1040,1560,1226,637,1009,1754,1543,946,1462,1816,692,1935,1933,764,1963,564,1212,1388,754,724,1182,652,935,1256,1364,1786,682,1438,1463,1584,1059,986,1029,898,1038,1920,981,1510,642,721,1670,550,817,1468,1666,1026,973,1223,596,990,1352,1304,562,585,1325,772,1743,1131,681,884,1259,790,1259,1439,1777,948,1586,1157,1313,1849,1613,1259,654,939,848,1803,899,1642,1463,1013,1627,759,658,1239,1901,1864,1171,1710,1793,1987,1337,910,1501,1176,559,1682,655,1715,599,1302,1173,816,1101,1654,510,1947,1421,672,575,1364,1651,1754,1832,1465,1383,1162,736,549,974,1116,1621,858,1702,1605,699,519,1384,1634,874,1604,910,999,1300,643,1445,883,806,1484,1005,1704,1865,1018,829,1564,1056,1185,1642,1668,660,1889,952,1583,1073,1423,1152,1181,867,697,1995,530,832,672,1267,928,1382,1011,1929,1125,1913,828,1155,618,1933,1469,1514,1819,1638,1334,765,1973,736,1019,1420,1517,511,541,940,1735,1190,1997,698,1731,1263,653,1985,1208,663,739,1005,676,1623,1649,1903,893,1309,1758,1087,1361,1432,1637,1068,755,1434,1292,1983,1347,1636,882,1781,1500,1212,1602,728,1490,550,1606,734,1264,864,1014,1411,525,652,1352,751,639,1804,1920,1581,511,1278,1247,684,1247,1767,618,759,551,1841,876,747,522,768,1544,1702,739,1884,898,1609,603,1032,1473,741,1134,1145,1899,679,1477,1539,544,1738,598,1728,1678,1931,1528,791,1409,846,1306,1285,568,1206,1850,1378,887,855,627,1356,1269,1195,764,1552,1827,865,1393,1804,1728,1156,1079,1873,1619,1163,870,1103,1250,646,1004,1717,620,1591,1134,1564,563,1021,675,1945,1407,1567,1684,818,1492,1645,821,1964,1032,1787,1614,1546,892,569,1011,1311,1776,963,1617,1088,1718,695,1055,1575,1771,1155,1234,1983,1583,1545,1713,1175,710,1963,688,970,1197,1159,1994,844,1641,1811,1947,1036,833,584,1503,989,1726,1040,1148,1633,1698,1829,1988,1258,1199,1127,1763,1566,508,533,1029,1289,1686,1113,957,1717,1702,818,736,679,1586,1150,712,839,614,1851,1517,877,1411,742,1726,1020,1220,1087,1414,704,1520,1852,1455,513,1676,1777,678,1109,1904,725,542,896,963,520,1275,1677,1382,1686,1805,979,1353,1800,1036,1177,775,822,1710,1022,819,582,1299,1673,1353,742,885,1437,737,1965],\"type\":\"box\",\"xaxis\":\"x3\",\"yaxis\":\"y3\"},{\"boxpoints\":\"suspectedoutliers\",\"name\":\"3\",\"notched\":true,\"orientation\":\"h\",\"x\":[1018,874,1005,1850,810,1854,1385,645,1075,1739,1919,1307,1932,1791,1854,629,820,1618,1858,1781,603,1724,638,1552,1206,1752,1118,1924,1179,1739,1634,1796,1846,1869,1244,1661,1712,863,1376,902,1732,829,1686,1131,786,1298,1359,1983,974,1937,845,1199,1136,1631,588,1299,1381,1464,539,1215,1478,1460,1516,1995,1404,1453,1677,517,1200,1647,1308,980,860,1108,673,1559,1741,1564,1767,1509,527,820,1891,1699,763,572,1489,655,1767,1168,1118,1462,1726,1910,1923,1345,1199,1442,1299,1922,1866,1706,1711,1974,1814,699,1138,1126,1139,1506,726,794,1161,660,1705,1476,1033,1529,1797,574,1075,1798,1657,1203,740,1285,1366,1224,1370,862,1785,728,1940,1594,1256,1911,1264,1972,1106,1579,539,1472,1151,1807,1916,1924,1580,1942,1234,517,1917,1759,1463,1143,1815,1088,1578,1809,964,1237,1082,828,1241,1951,1704,1897,1771,522,1787,1838,1230,727,1096,1232,1991,1917,739,1435,1000,1477,1747,1418,1750,1251,1674,501,810,1318,1655,1013,1883,1862,1558,1666,1491,1891,895,1589,1733,1162,1648,819,1633,735,1812,1895,1123,1675,1958,1671,896,605,1330,1909,1008,823,1326,1982,893,1163,589,791,1391,1638,690,643,1660,1208,1145,1169,563,1360,1577,1523,774,580,1081,1076,734,1234,1554,1876,1793,670,1084,1723,1980,1119,1556,1394,1197,1230,1670,1409,774,1663,1538,1666,1366,917,1908,1977,1452,930,1968,671,1304,1445,1902,1040,1960,864,1427,1348,616,1716,1356,1976,1761,915,1768,1964,1992,1055,877,1781,982,1661,1638,1383,1791,1827,1764,1687,1324,966,846,1389,607,1305,1433,1352,1966,1607,1418,656,1291,1892,1109,1019,645,1858,1554,1469,1089,1378,1456,1723,1057,1656,1756,613,909,873,1389,1676,1651,1688,1838,1362,997,1746,1783,828,979,1504,1614,1472,1683,1892,1383,1066,1923,1773,501,1274,676,1654,533,696,1769,1386,1284,1836,644,1970,1553,1227,1273,686,1709,1915,941,1301,1923,1877,903,1506,627,1363,977,1648,676,727,1987,1331,1105,679,1988,804,1742,1692,1995,559,915,1539,1373,1786,1350,1046,1437,1803,969,647,1713,895,1175,1806,1944,638,1190,1459,1042,1836,1976,599,1853,1424,1009,1487,1042,832,1814,1677,1646,1330,1550,1483,1578,1375,665,1540,1090,1171,1630,512,1570,770,1848,1832,1673,1986,1882,1115,1873,1896,1316,1161,1023,1935,708,1793,1482,1030,1727,1849,1432,1746,1415,1211,1882,1817,1177,1854,1393,1227,1343,1418,1904,789,1962,951,1317,1913,865,1079,912,840,1152,896,1318,1775,1888,1469,1670,1255,1769,1738,790,1531,823,1879,1603,1985,1836,1912,1696,711,1247,1397,1933,1651,1798,1919,743,1099,1416,1632,754],\"type\":\"box\",\"xaxis\":\"x3\",\"yaxis\":\"y3\"},{\"boxpoints\":\"suspectedoutliers\",\"name\":\"0\",\"notched\":true,\"orientation\":\"h\",\"x\":[512,386,1137,356,862,466,1171,413,311,1580,1025,822,361,322,459,160,763,1040,166,96,769,403,651,476,320,325,70,275,713,1386,304,229,436,583,1125,747,811,730,433,218,564,420,286,295,199,1230,541,404,262,638,148,632,793,246,323,707,356,912,156,344,1242,302,235,630,311,221,63,418,178,454,741,474,39,584,207,363,209,195,1314,134,1116,1010,788,188,1028,79,96,493,30,77,264,191,195,1417,126,228,398,449,177,1013,765,619,130,494,281,6,268,509,494,980,902,725,1142,581,683,536,418,129,1213,1087,767,666,186,416,179,1350,27,250,1111,163,361,338,1052,1108,473,464,1250,385,240,1016,569,1131,832,446,897,320,295,79,693,91,58,181,1311,706,871,1074,833,485,182,192,553,637,113,1430,1331,1055,290,589,208,717,613,39,1036,327,778,381,562,209,997,91,445,486,491,762,448,438,965,532,461,123,1,548,951,667,1047,1150,641,517,785,195,713,172,540,18,327,82,150,75,492,1842,1323,1175,319,519,687,458,798,191,573,149,42,521,442,521,1587,138,750,8,171,538,985,970,590,578,88,64,858,1405,237,1109,111,322,629,140,1081,275,741,547,146,169,400,774,284,465,951,179,653,251,477,65,716,134,179,804,787,379,855,818,626,217,271,88,334,168,118,1187,622,398,737,1211,172,293,412,299,626,360,20,919,290,570,621,219,468,1495,206,48,211,1211,531,1438,1446,478,217,485,43,322,667,806,1131,925,405,935,419,1097,306,300,1123,995,293,759,194,229,511,3,496,724,111,248,632,366,174,1012,294,151,958,354,194,238,100,599,1274,62,315,1878,318,574,86,963,371,788,854,846,468,1094,66,204,1083,229,875,35,168,534,285,605,1151,991,323,397,875,552,593,268,382,443,576,683,1063,623,773,31,887,469,40,1179,1385,485,571,431,1138,15,961,630,404,248,699,7,1288,913,461,125,494,199,776,651,737,376,73,398,813,948,1161,754,405,657,295,332,649,744,115,776,53,273,705,84,833,258,523,119,424,950,306,94,410,308,35,67,1257,889,123,406,407,781,1191,638,496,1188,730,366,332,167,881,487,120,634,931,921,805,1057,344,211,79,887,383,266,40,262,952,321,1048,470,36,85,167,617,786,338,1210,390,110,253,183,52,510,405,227,479,227,441,64,956,724,190,1211,42,306,591,743,576,1222,336],\"type\":\"box\",\"xaxis\":\"x4\",\"yaxis\":\"y4\"},{\"boxpoints\":\"suspectedoutliers\",\"name\":\"1\",\"notched\":true,\"orientation\":\"h\",\"x\":[20,1208,1004,607,658,902,407,201,85,1134,429,685,880,186,27,1013,265,916,339,990,1077,928,516,177,1233,824,391,125,1198,768,322,1445,1259,622,522,605,387,140,975,674,311,450,45,506,650,849,953,938,825,1273,690,55,809,231,730,1290,490,1201,78,936,1914,526,1552,1097,1285,303,590,475,1054,607,681,104,56,1053,506,1869,185,1153,419,649,1392,1001,712,418,384,333,1715,58,1236,1453,1125,481,77,964,356,373,743,162,694,329,548,531,823,649,966,270,418,1452,1184,1792,533,558,681,1314,754,282,292,897,831,518,840,48,594,83,364,946,1428,751,628,262,389,920,1027,271,369,1345,912,236,120,600,1597,951,178,427,886,1233,304,1391,1060,304,504,935,942,159,632,1002,1248,108,300,1545,177,88,1791,920,293,709,543,1114,471,806,80,68,722,433,186,1214,649,193,1464,591,681,1119,1109,434,1404,375,757,510,480,626,349,408,653,761,359,224,382,1092,994,210,351,758,381,291,1091,385,1571,276,160,138,275,1530,152,29,501,751,584,160,612,709,1295,825,76,1698,767,512,56,655,358,873,541,361,335,1638,1136,477,236,393,705,38,387,1578,280,1122,594,518,663,371,586,409,442,952,1749,704,489,1518,545,42,163,1162,329,444,227,1281,46,89,473,461,193,454,419,853,475,813,173,533,912,130,703,879,1260,1333,1070,935,184,238,670,725,945,311,1157,925,1185,1706,1603,431,211,667,864,870,1379,447,273,1573,113,796,1021,1238,5,715,420,314,739,963,567,1245,682,1384,17,983,925,409,293,384,501,530,670,1406,817,901,329,837,688,263,641,1709,919,758,312,127,142,395,643,960,629,831,903,923,693,1250,376,105,659,482,158,1573,343,289,1703,907,1052,410,1750,1475,1836,539,1003,264,543,1116,335,115,68,643,56,23,394,1421,83,938,1077,332,1801,1693,2,837,356,155,1194,157,499,944,608,114,416,1310,778,785,278,56,322,1128,397,386,214,625,484,308,108,90,588,1028,897,1010,234,691,117,766,1499,190,518,1618,98,395,774,245,937,937,430,254,105,1147,495,760,1225,367,1230,424,605,657,102,570,380,593,297,1399,1658,553,46,818,138,831,1284,1047,927,1041,103,536,1064,348,484,679,948,426,623,4,1001,398,298,212,46,1332,428,789,674,388,287,675,665,662,0,661,560,88,662,888,1168,3,1652,1081,455,503,291,173,1017,698,206,742,347,241],\"type\":\"box\",\"xaxis\":\"x4\",\"yaxis\":\"y4\"},{\"boxpoints\":\"suspectedoutliers\",\"name\":\"2\",\"notched\":true,\"orientation\":\"h\",\"x\":[905,1263,1216,344,291,187,347,1448,434,1042,1382,690,667,127,753,504,1172,1397,666,557,1226,1572,117,635,550,59,179,327,313,226,1590,507,1852,875,510,116,554,577,1223,635,1045,650,1176,986,1365,642,710,718,1100,852,710,1277,129,213,1112,55,42,1022,411,574,529,1273,1170,417,1177,457,372,1858,403,555,1830,170,866,1331,520,159,1132,119,627,14,745,253,629,513,13,1243,300,275,176,336,463,1419,168,561,634,639,127,431,798,346,1641,269,507,379,579,315,96,841,21,235,1058,592,810,947,453,205,861,331,636,831,233,157,401,982,905,249,803,459,186,710,263,97,320,837,781,251,1258,417,430,168,1467,762,286,214,612,1197,1294,434,137,492,183,88,80,611,551,436,680,687,217,1140,150,437,1058,593,59,1103,942,1446,1568,501,1171,207,165,377,729,526,545,112,1122,82,689,22,337,22,482,229,172,867,286,526,671,856,85,286,985,273,1713,68,698,1399,198,193,243,1626,632,1686,333,103,472,806,518,792,859,535,517,491,268,144,729,188,1222,331,1178,215,945,546,1096,575,1920,1134,721,485,641,90,625,1242,87,648,985,993,361,104,618,960,169,819,126,1480,1011,297,954,1194,471,51,850,349,706,1432,145,847,35,1008,983,244,1203,1103,168,719,330,956,1140,1191,239,654,853,1428,614,1105,480,1482,154,314,527,874,674,657,1209,15,457,1277,378,333,805,1901,1573,98,273,1109,211,532,1307,497,24,503,267,149,158,249,140,81,1043,444,202,404,954,274,777,454,468,626,880,765,614,347,1207,62,1055,116,526,1209,1240,398,358,211,62,439,149,447,717,1699,396,193,846,497,50,212,882,118,586,818,426,1054,1221,340,602,274,1335,1541,382,272,165,362,103,18,1571,127,1482,1085,1078,440,204,467,1325,356,10,1399,492,699,570,742,760,486,202,90,86,194,440,163,192,1032,58,614,672,1088,499,563,126,203,277,225,930,460,225,1581,174,282,1252,606,954,134,281,224,778,342,885,1015,406,124,278,988,857,712,1012,730,973,1419,1649,1790,867,181,242,1569,910,26,519,161,1080,71,437,547,1466,371,728,419,214,1175,56,313,296,358,1364,808,380,189,148,1050,11,911,639,240,525,1262,547,800,347,1224,223,542,718,1442,209,523,334,453,417,645,1371,881,1330,317,914,773,1325,284,560,470,146,1315,149,114,201,599,1171,976,675,838,610,223,915],\"type\":\"box\",\"xaxis\":\"x4\",\"yaxis\":\"y4\"},{\"boxpoints\":\"suspectedoutliers\",\"name\":\"3\",\"notched\":true,\"orientation\":\"h\",\"x\":[381,248,151,984,441,1314,974,550,511,1358,178,609,1725,202,885,546,581,651,1565,108,205,570,4,1168,319,708,1025,1605,942,836,846,1770,293,1633,1158,1055,1242,597,538,819,396,262,692,839,756,1265,577,1612,660,1109,299,393,839,561,65,619,611,1417,247,59,701,309,1052,1738,759,397,964,233,954,1528,416,564,667,169,105,179,865,546,594,32,357,246,1360,142,637,410,802,344,1728,854,44,1285,114,312,19,1086,707,1107,205,1301,1471,130,1411,1187,1173,71,111,747,408,1362,475,447,42,347,727,180,250,1186,1486,495,286,1172,781,1091,674,675,1017,1176,609,275,447,164,631,1064,622,957,236,1789,170,395,478,1215,584,1596,1613,1127,691,1802,859,187,206,1673,1331,189,1226,613,159,1177,402,577,52,364,934,202,729,1079,1698,410,782,1024,276,553,981,1208,1308,1331,234,447,371,271,1698,1086,1156,461,304,204,609,1039,1485,462,1384,1502,1339,1298,1397,618,280,690,1347,901,715,451,1299,217,1111,730,606,1617,1795,231,8,154,860,109,961,400,190,1455,95,580,297,531,564,1179,673,412,977,714,843,308,522,364,519,214,342,118,987,347,65,881,1092,647,1102,342,352,165,396,777,176,256,370,983,793,120,341,43,1262,815,820,624,1164,829,199,519,1734,387,462,1028,1692,259,236,650,1285,1220,511,1512,1145,1895,1537,821,466,426,1463,416,868,1749,875,433,991,1261,115,1003,253,898,526,346,137,1226,368,686,992,115,275,775,798,201,982,1287,1058,890,327,328,1163,1272,800,1362,812,956,692,1107,1511,179,423,800,81,678,1619,1495,220,1111,590,1259,1392,655,692,1244,403,1076,327,135,549,838,1438,1621,19,887,584,257,195,153,351,1213,755,1826,409,1328,1099,783,1039,122,1123,1353,154,394,1135,924,18,491,287,1024,98,396,283,347,0,1313,50,596,809,290,713,1563,777,83,203,1420,1098,1765,1180,140,1100,1563,902,161,500,649,835,664,9,437,979,655,68,922,1874,251,1362,546,335,1145,600,21,1303,150,1399,1117,380,603,1175,674,371,1064,777,574,678,82,1096,157,1524,1438,1304,978,725,117,764,1791,606,267,371,1299,443,1279,919,961,431,647,116,1684,1221,600,1191,1153,207,713,527,125,919,686,1899,258,1619,782,91,1626,74,334,616,740,670,144,291,1352,861,1451,1217,655,271,159,449,119,256,1546,892,367,1661,757,533,664,747,776,652,1196,1694,1457,4,888,528,868,483],\"type\":\"box\",\"xaxis\":\"x4\",\"yaxis\":\"y4\"},{\"boxpoints\":\"suspectedoutliers\",\"name\":\"0\",\"notched\":true,\"orientation\":\"h\",\"x\":[187,174,93,185,159,114,200,150,157,110,162,148,144,159,165,142,90,197,172,182,103,83,132,141,199,121,135,199,100,182,155,147,134,166,97,109,124,166,93,113,178,92,192,166,135,91,181,133,111,83,129,107,165,105,101,131,154,168,191,175,114,89,177,187,108,80,181,113,191,177,184,199,94,101,83,160,115,114,86,191,194,175,172,195,92,135,151,166,173,173,171,100,158,186,111,134,123,135,198,183,178,186,109,122,133,153,104,101,114,83,200,174,124,104,176,119,192,119,193,161,166,101,160,123,169,113,83,80,112,82,169,198,88,80,196,142,173,193,122,188,179,125,185,107,123,112,95,171,132,182,81,179,192,147,128,198,165,151,190,144,131,159,155,85,176,193,113,169,169,133,159,172,98,86,185,131,171,164,142,129,174,145,124,166,160,83,146,187,181,144,112,161,108,158,145,198,97,188,98,83,105,200,94,98,80,190,127,136,143,156,128,184,185,182,193,150,151,87,175,198,168,182,185,168,95,109,93,107,151,147,115,155,122,95,132,89,90,124,104,91,177,197,124,175,87,159,100,135,111,172,90,156,99,146,145,97,199,156,135,191,111,92,197,137,88,198,91,118,105,90,89,90,178,186,138,86,139,179,155,83,86,198,192,148,178,182,167,112,97,81,158,156,167,101,116,88,142,181,140,184,194,173,198,186,86,114,88,124,99,126,181,123,126,91,156,110,168,84,125,146,178,162,177,131,185,182,191,151,113,82,114,200,168,100,86,135,100,184,120,182,103,160,166,99,157,99,124,184,110,101,81,100,160,147,180,115,141,154,91,135,90,190,185,140,198,146,94,151,104,134,130,120,118,169,179,160,81,122,89,101,86,146,153,192,112,178,124,154,124,124,153,154,122,167,193,103,134,154,135,81,165,182,157,136,109,158,111,190,117,180,139,91,110,146,156,85,145,147,146,192,167,186,110,161,80,104,180,105,106,105,138,126,146,133,109,128,152,147,98,112,196,121,195,104,185,162,200,165,103,158,189,147,137,132,195,185,150,125,190,200,164,83,109,127,137,88,196,163,94,186,176,182,91,123,162,146,97,132,162,101,136,124,93,102,129,185,141,89,194,163,194,85,138,89,99,80,85,198,106,145],\"type\":\"box\",\"xaxis\":\"x5\",\"yaxis\":\"y5\"},{\"boxpoints\":\"suspectedoutliers\",\"name\":\"1\",\"notched\":true,\"orientation\":\"h\",\"x\":[188,141,164,159,101,121,199,111,107,160,160,152,166,118,196,102,180,134,188,111,114,163,96,140,156,119,192,103,106,199,107,102,189,184,195,133,148,147,176,139,142,150,110,101,165,151,165,93,119,173,182,194,112,192,199,183,99,107,195,141,178,88,100,136,148,98,144,200,110,164,84,163,114,181,105,98,87,170,161,129,193,138,191,143,126,106,196,117,181,91,185,131,97,166,146,119,195,131,99,161,176,176,105,149,194,116,153,130,146,156,158,84,107,95,106,165,96,174,142,186,155,186,109,159,166,103,200,135,182,137,184,160,194,185,181,83,190,113,191,143,118,147,175,169,128,163,190,98,197,150,131,130,118,154,185,160,143,167,189,136,186,132,200,168,104,89,108,155,183,105,81,112,144,121,184,89,197,175,122,182,83,142,165,186,185,196,121,181,199,147,163,125,123,130,124,141,120,177,97,85,170,187,139,112,157,116,146,83,155,101,90,200,102,182,126,94,153,135,199,102,157,109,184,148,191,162,102,94,89,164,82,146,187,91,157,158,162,146,199,160,113,184,172,150,88,88,103,154,154,137,187,124,89,197,128,144,105,129,152,146,162,185,194,174,124,102,107,186,97,129,190,130,140,131,118,103,102,101,182,88,161,187,185,194,96,196,132,134,181,123,161,144,113,139,126,103,105,101,84,96,111,131,118,174,81,165,130,192,80,84,129,156,198,135,121,86,123,95,142,82,170,94,196,130,131,145,151,92,109,192,111,145,188,197,93,106,133,182,197,95,171,115,145,119,92,88,80,169,172,172,109,196,169,113,121,114,198,159,151,91,110,148,197,88,127,98,114,145,158,125,102,160,160,157,151,87,155,123,101,147,117,104,193,189,86,159,108,155,151,182,115,93,132,120,159,171,187,121,172,119,89,116,97,182,193,131,169,189,199,167,194,159,88,81,134,175,114,155,146,119,199,125,118,152,117,127,138,158,114,106,156,82,177,158,90,136,104,130,86,129,82,139,198,119,136,80,88,100,83,179,93,173,107,87,197,103,89,109,195,124,197,168,130,105,114,94,187,101,181,134,138,97,155,169,168,124,80,156,195,93,154,110,105,110,174,81,149,113,191,104,163,199,169,161,144,199,144,161,114,83],\"type\":\"box\",\"xaxis\":\"x5\",\"yaxis\":\"y5\"},{\"boxpoints\":\"suspectedoutliers\",\"name\":\"2\",\"notched\":true,\"orientation\":\"h\",\"x\":[136,145,131,198,114,96,87,159,132,198,127,145,104,128,168,141,104,199,155,100,171,194,194,82,194,198,88,197,89,108,134,141,199,159,84,96,152,118,160,183,197,143,197,198,95,190,163,117,94,105,168,115,171,111,159,128,123,128,138,142,139,187,110,183,93,190,93,133,125,158,139,178,185,80,155,189,183,140,106,182,169,109,193,184,185,118,149,138,148,199,187,162,178,189,142,174,187,191,144,184,171,123,142,193,101,186,84,166,160,182,145,114,195,94,170,162,115,120,145,169,109,195,131,172,123,83,185,134,90,145,129,114,117,152,193,186,146,192,180,200,102,190,90,129,170,185,181,151,145,163,139,81,128,102,145,172,196,126,138,114,147,178,149,167,128,107,148,117,120,191,102,145,106,102,127,154,119,93,112,183,150,128,125,105,187,138,195,157,168,96,122,155,105,80,197,198,136,139,97,110,187,102,92,145,198,102,131,168,150,93,125,152,169,163,107,173,133,127,160,89,129,197,177,122,173,199,167,153,92,100,158,105,192,187,162,144,155,105,168,119,152,130,84,166,149,91,138,188,132,131,173,186,167,159,167,87,132,89,189,162,106,160,175,111,179,126,104,140,105,136,123,138,174,80,138,131,107,143,105,134,174,200,153,86,196,112,182,154,135,160,80,146,159,186,170,127,104,84,115,121,150,125,180,147,115,140,123,105,84,168,107,185,163,135,146,87,109,130,145,170,85,152,156,164,163,136,143,142,178,158,177,95,137,153,112,194,125,98,104,150,128,144,168,148,196,123,161,117,192,169,99,160,106,119,144,111,109,126,101,149,173,81,186,98,141,173,150,158,175,189,149,150,196,176,107,132,185,105,169,156,193,199,138,160,189,177,100,199,92,140,130,95,172,191,146,135,164,138,155,86,200,191,142,127,112,174,105,170,150,145,82,97,189,165,134,185,180,151,174,115,120,80,178,101,172,169,196,138,174,180,118,80,183,131,197,200,194,89,148,139,153,194,132,83,182,188,111,92,164,82,88,89,114,106,152,190,167,85,155,102,83,196,171,152,150,94,169,117,114,158,174,173,188,116,187,197,122,169,153,97,101,160,99,107,134,178,148,94,141,157,86,110,148,143,111,129,164,149,187],\"type\":\"box\",\"xaxis\":\"x5\",\"yaxis\":\"y5\"},{\"boxpoints\":\"suspectedoutliers\",\"name\":\"3\",\"notched\":true,\"orientation\":\"h\",\"x\":[139,182,177,196,121,81,156,132,143,88,100,119,185,164,111,109,107,81,155,182,80,138,141,116,85,180,178,177,196,146,172,198,83,163,153,89,80,130,200,89,181,99,179,137,141,141,190,198,183,157,101,189,101,84,138,103,150,150,117,106,110,142,181,88,116,166,200,109,127,112,105,183,157,129,127,162,177,86,103,126,119,100,102,170,134,151,143,121,189,117,180,199,165,177,182,91,120,123,86,171,99,183,138,115,145,138,187,137,134,162,145,141,91,169,93,156,83,95,112,131,134,126,165,82,200,134,98,154,84,118,176,87,100,159,132,128,95,148,132,124,104,170,151,160,134,154,187,91,146,117,86,100,190,148,176,89,90,121,150,169,180,115,171,92,95,88,166,182,118,85,184,162,166,101,87,111,121,146,179,124,103,169,103,164,198,116,130,185,135,108,154,165,114,140,145,192,113,158,96,141,102,185,157,130,138,143,144,106,163,161,124,179,188,199,108,100,153,114,163,196,82,95,175,88,126,101,84,92,115,126,157,122,191,118,95,134,137,170,187,172,82,161,136,200,198,107,100,190,133,166,125,193,164,146,138,113,88,80,93,104,159,107,101,147,134,134,84,101,86,100,99,170,193,141,188,104,173,139,179,164,97,131,85,154,165,102,151,123,86,111,156,159,130,105,161,182,148,188,88,158,153,173,144,151,116,172,85,136,187,104,146,116,188,170,186,148,181,172,126,88,146,113,88,185,139,172,153,131,134,87,170,170,158,100,141,172,133,164,198,86,85,103,136,157,152,124,149,173,178,94,178,173,150,124,103,199,132,179,90,111,137,133,95,183,80,151,92,190,120,184,153,89,113,117,99,196,103,147,163,92,84,199,197,180,87,103,183,84,182,111,89,82,104,113,136,141,87,87,165,80,101,175,191,117,135,89,192,161,89,179,186,104,88,164,93,114,162,196,93,96,190,112,121,178,143,87,142,200,153,127,82,181,153,129,129,199,121,187,158,121,157,181,128,150,113,123,105,85,125,98,117,109,129,161,82,141,199,157,106,139,108,131,101,170,123,131,115,198,131,160,122,170,100,108,128,102,122,157,158,130,103,111,90,153,163,157,162,193,176,112,136,117,88,91,113,122,84,108,168],\"type\":\"box\",\"xaxis\":\"x5\",\"yaxis\":\"y5\"},{\"boxpoints\":\"suspectedoutliers\",\"name\":\"0\",\"notched\":true,\"orientation\":\"h\",\"x\":[24,53,9,52,46,38,21,33,22,20,57,60,63,50,10,9,38,9,33,42,15,14,23,37,55,8,4,46,19,3,14,14,64,45,60,6,14,26,29,30,41,4,22,16,63,50,49,29,40,31,11,49,23,30,7,19,4,51,56,28,7,4,2,39,34,56,57,56,29,42,41,14,42,5,63,18,25,48,6,33,50,62,57,36,2,58,26,19,33,17,5,4,11,47,23,50,8,57,3,28,25,44,13,40,4,18,60,26,56,3,41,17,50,54,32,29,7,38,8,37,16,43,21,26,13,32,30,24,24,23,24,5,58,29,17,58,3,11,12,35,56,24,30,58,21,14,31,3,60,25,54,36,21,26,33,44,32,32,45,60,25,19,41,52,19,2,48,21,2,6,54,2,42,25,57,11,34,39,49,56,7,23,45,63,18,11,14,56,46,41,3,52,33,8,25,54,64,57,61,55,55,32,38,16,8,35,35,2,32,64,13,34,47,50,34,27,45,53,12,14,35,30,8,13,33,52,8,50,42,54,34,13,52,54,58,34,11,51,20,3,43,19,57,50,46,13,6,53,33,54,58,55,49,53,57,13,60,14,18,18,42,23,45,27,41,8,39,40,4,62,2,60,14,57,47,18,44,5,9,60,55,12,20,50,40,42,27,15,30,13,62,62,11,27,26,32,20,2,9,56,6,20,10,40,55,32,7,29,49,52,60,12,42,25,37,23,19,46,31,59,52,5,26,41,20,47,14,28,27,42,12,51,15,52,24,57,50,10,52,28,6,30,28,14,29,35,55,40,33,54,15,2,58,19,14,32,18,16,31,22,27,6,11,55,10,20,40,39,21,8,29,48,26,20,40,8,14,20,38,58,38,30,18,42,54,23,39,12,27,43,12,54,19,19,46,8,27,5,58,11,34,28,33,5,11,57,57,24,20,45,36,27,35,56,49,7,27,30,27,20,5,26,21,59,21,10,56,46,16,63,12,30,47,29,11,53,8,60,53,58,27,38,6,51,31,48,60,14,52,44,14,7,16,59,60,2,30,19,19,25,7,29,54,27,5,53,16,10,42,12,56,32,62,30,36,18,13,63,39,10,45,45,33,6,7,21,32,23,36,17,61,3,21,46,10,13,36,21,2,46],\"type\":\"box\",\"xaxis\":\"x6\",\"yaxis\":\"y6\"},{\"boxpoints\":\"suspectedoutliers\",\"name\":\"1\",\"notched\":true,\"orientation\":\"h\",\"x\":[7,44,22,33,49,19,47,8,41,60,61,5,34,27,40,16,49,12,42,29,61,57,25,7,31,12,57,39,43,32,40,15,25,2,30,22,31,56,61,46,34,27,44,8,63,6,46,26,36,20,49,17,24,27,42,38,48,7,63,32,59,25,57,38,28,3,8,54,6,27,26,42,56,52,38,52,37,64,64,26,13,20,9,20,7,2,52,44,64,21,52,36,14,8,23,39,57,28,48,54,63,54,7,20,28,64,17,36,11,26,51,35,54,41,28,51,61,45,27,20,15,31,6,19,45,9,12,46,17,51,39,21,16,19,50,35,41,45,14,3,52,40,64,40,7,28,4,39,36,48,54,34,35,19,54,15,43,47,25,35,35,45,46,3,62,41,31,57,23,33,57,20,11,3,37,61,51,45,7,34,18,17,16,5,45,25,27,50,10,20,19,16,8,52,27,43,35,41,52,29,4,11,22,36,8,61,45,30,10,53,49,58,63,29,38,9,7,41,13,46,47,36,7,55,46,38,14,47,47,19,11,19,48,27,34,51,64,61,37,4,12,28,46,39,22,21,35,37,27,19,18,28,17,60,62,10,14,33,30,55,18,10,35,32,55,35,36,12,50,55,14,8,51,32,44,35,2,49,44,57,2,60,49,45,41,22,51,5,11,29,64,50,59,47,20,41,52,7,39,7,4,12,46,12,10,28,58,19,30,42,5,23,6,32,13,27,42,17,39,60,16,24,14,47,44,10,42,14,63,9,57,31,11,14,63,62,2,29,14,21,60,14,30,50,6,19,37,9,41,44,40,53,5,44,12,31,22,57,44,42,33,20,11,63,10,5,12,31,50,22,12,64,21,60,36,35,3,27,42,33,57,50,30,55,57,45,39,23,36,28,16,3,49,15,26,31,62,42,35,39,17,21,41,62,38,30,44,47,5,45,5,59,7,50,27,16,10,13,4,16,46,2,9,25,23,37,7,41,17,53,21,47,21,21,5,24,12,28,52,57,50,44,23,16,26,23,51,15,64,64,12,11,47,60,30,55,63,5,17,57,26,37,45,3,2,64,53,2,15,46,21,38,2,41,62,41,12,40,33,30,2,21,7,25,27,18,24,55,40,42,25,33,53,9,4,6,37,58,57,15],\"type\":\"box\",\"xaxis\":\"x6\",\"yaxis\":\"y6\"},{\"boxpoints\":\"suspectedoutliers\",\"name\":\"2\",\"notched\":true,\"orientation\":\"h\",\"x\":[53,41,10,17,57,52,11,50,44,14,63,51,46,48,55,9,22,64,3,33,54,60,7,53,10,25,58,41,36,16,31,33,47,41,32,37,51,3,10,10,42,25,22,38,5,7,20,23,41,30,61,47,8,23,41,39,25,31,37,6,49,44,10,55,63,57,47,30,62,56,9,8,40,41,49,21,27,47,18,36,22,54,17,10,3,57,42,8,19,17,21,9,46,30,48,59,54,33,12,7,55,13,34,51,49,51,57,43,48,56,64,62,51,48,43,6,22,2,2,27,48,17,39,33,23,15,59,44,2,54,61,12,16,31,49,53,31,7,53,32,30,13,38,20,6,40,35,54,25,11,56,20,16,46,21,44,21,5,2,30,27,3,46,14,64,15,14,50,61,48,27,22,13,34,27,60,22,17,30,25,28,58,49,13,42,15,8,58,16,4,51,63,12,16,27,50,8,11,50,47,2,38,25,56,6,5,52,48,2,11,30,39,16,58,10,56,21,6,15,14,11,34,15,21,30,39,6,31,32,49,8,26,53,23,60,48,13,55,27,23,13,54,46,13,7,8,30,10,28,53,19,53,52,38,18,43,41,52,63,30,64,33,16,51,23,37,14,55,30,58,58,46,22,58,63,9,54,16,52,62,10,10,43,24,56,31,2,14,46,21,28,29,59,16,40,9,51,3,47,11,9,56,52,37,2,34,58,35,57,58,32,56,51,24,5,27,55,16,36,62,4,35,24,21,54,6,19,8,15,12,36,56,44,2,27,29,34,5,36,58,42,51,7,2,31,40,39,62,23,6,40,17,42,18,27,63,10,32,15,6,34,10,64,13,50,50,33,28,40,2,44,9,3,43,60,15,11,23,8,60,11,6,16,19,5,40,15,27,15,55,28,2,26,14,50,14,16,42,24,22,35,7,7,30,53,27,33,58,15,37,52,48,15,56,4,8,41,57,63,61,42,32,51,17,49,4,12,33,33,20,2,54,14,7,2,5,28,9,44,8,15,17,19,52,42,45,43,26,40,22,44,7,19,23,28,34,20,2,58,53,26,56,17,41,21,12,24,9,53,20,17,39,2,27,52,13,9,47,18,23,37,14,35,8,37,49,4,16,6,64,27,16,14,6,29,18,41,34,39],\"type\":\"box\",\"xaxis\":\"x6\",\"yaxis\":\"y6\"},{\"boxpoints\":\"suspectedoutliers\",\"name\":\"3\",\"notched\":true,\"orientation\":\"h\",\"x\":[10,9,33,13,23,39,13,51,41,5,51,6,41,42,64,43,61,44,36,30,43,45,43,16,58,45,64,57,7,10,23,42,46,41,22,18,10,52,36,16,31,54,46,43,9,40,56,29,33,58,32,16,23,20,54,46,43,64,57,61,51,35,53,51,13,38,17,49,24,39,9,6,51,37,50,6,18,40,45,61,36,40,16,24,63,16,48,12,58,12,44,50,49,29,64,47,37,2,61,32,34,52,55,42,46,18,44,63,26,23,9,7,57,42,50,19,34,45,44,25,24,17,57,13,3,3,34,64,53,42,37,48,16,61,15,58,34,43,31,5,34,32,50,10,61,57,19,55,14,51,23,26,27,30,38,45,61,50,34,8,32,46,55,23,19,18,5,39,55,44,30,34,16,26,9,9,53,7,50,11,64,12,12,26,38,43,62,39,20,50,49,35,9,49,52,8,21,43,61,35,37,43,45,53,58,14,15,30,64,58,55,42,55,24,53,8,22,21,10,10,44,30,14,25,7,33,4,31,9,21,33,63,48,34,51,16,63,8,9,9,48,53,18,3,40,58,49,12,46,17,27,36,5,27,44,7,34,39,46,38,57,6,52,33,61,19,52,23,59,58,44,21,49,29,20,58,31,28,63,23,59,57,63,5,7,3,32,23,31,59,24,35,61,12,45,43,59,57,64,46,16,35,41,31,38,61,51,18,14,7,24,40,39,10,50,24,57,37,35,61,39,43,31,13,49,20,27,13,54,31,6,58,6,9,49,60,42,6,33,58,6,44,59,17,5,17,29,22,12,16,18,14,26,42,32,49,33,56,52,63,26,13,44,59,27,24,13,11,31,44,10,33,29,54,40,36,2,20,4,48,34,14,22,60,24,12,9,59,18,30,44,20,43,34,56,2,11,36,5,59,24,44,6,40,24,39,41,17,16,20,47,62,2,14,40,62,42,61,20,18,54,26,45,49,62,5,35,33,52,48,26,29,42,26,24,11,48,32,28,44,35,57,27,32,23,8,64,11,16,64,47,54,47,16,37,16,19,34,2,5,42,35,6,62,61,49,14,60,19,44,22,24,55,28,8,15,11,63,45,11,45,35,16,63,32,40,21,64,24,5,45,9,27,59,44,18,50,36,45],\"type\":\"box\",\"xaxis\":\"x6\",\"yaxis\":\"y6\"},{\"boxpoints\":\"suspectedoutliers\",\"name\":\"0\",\"notched\":true,\"orientation\":\"h\",\"x\":[4,7,5,1,2,3,5,8,8,2,8,8,8,2,2,3,4,3,1,5,7,6,5,2,4,7,6,1,6,7,8,3,3,2,4,6,5,1,7,1,6,3,1,3,5,1,8,5,2,8,1,4,2,2,4,1,4,3,1,4,7,8,7,8,5,8,6,1,2,6,8,2,1,2,1,6,7,1,1,8,7,5,2,4,8,7,2,4,2,5,5,2,2,6,4,2,7,8,7,2,6,4,2,8,8,7,4,4,6,5,4,6,8,8,7,2,1,6,5,6,1,8,4,5,1,7,8,7,5,4,5,3,3,1,5,3,5,7,8,7,3,3,3,6,7,5,6,5,5,7,3,3,8,4,4,8,7,5,3,5,7,2,4,4,3,3,1,7,7,4,8,6,7,4,6,3,3,4,5,7,7,2,7,3,2,8,1,8,5,7,1,3,4,5,1,6,4,1,3,6,7,1,3,2,6,7,8,3,4,6,1,6,5,8,4,6,3,1,4,3,3,8,1,2,2,7,3,8,1,5,2,8,2,4,5,1,4,4,7,6,6,8,2,3,7,1,2,3,2,7,3,5,3,4,7,3,2,7,2,6,3,6,1,4,7,3,5,6,3,4,3,4,5,3,2,7,2,8,8,2,6,6,7,8,3,6,4,8,3,8,1,6,3,1,7,6,3,8,3,3,4,2,1,7,7,5,8,5,6,2,1,1,6,2,8,7,3,4,4,8,3,5,5,2,6,3,4,6,5,1,1,8,2,5,4,2,8,3,6,5,1,8,4,8,7,8,8,2,5,2,2,5,4,6,8,6,2,3,3,4,6,8,6,3,6,4,4,8,8,7,1,8,6,2,8,5,8,2,1,6,5,8,6,5,4,6,4,2,2,8,8,2,2,7,4,7,2,5,5,5,2,4,3,1,2,6,5,8,6,7,3,4,4,4,5,8,4,4,1,2,5,6,8,7,4,4,2,8,7,7,3,2,3,6,2,1,7,3,1,8,5,5,4,5,5,6,1,4,7,3,7,2,7,7,4,6,7,6,7,2,2,8,7,5,4,6,7,6,1,7,2,2,4,3,4,7,2,4,2,7,2,8,3,6,5,8,6,7,4,5,5,8,2,6,7,4,1,3,6,5],\"type\":\"box\",\"xaxis\":\"x7\",\"yaxis\":\"y7\"},{\"boxpoints\":\"suspectedoutliers\",\"name\":\"1\",\"notched\":true,\"orientation\":\"h\",\"x\":[2,2,1,4,5,4,4,3,1,8,4,2,3,3,7,3,6,3,6,6,3,1,8,3,7,8,5,4,3,7,3,3,6,1,8,6,2,5,6,1,1,8,4,5,7,1,1,4,3,7,5,5,3,3,5,7,4,5,8,7,7,4,2,6,1,3,4,7,3,1,1,6,7,6,7,3,3,4,3,1,5,1,6,4,3,6,4,1,4,7,6,7,6,7,8,7,4,4,5,8,5,7,5,6,2,8,6,6,7,3,8,2,3,3,5,8,1,3,6,5,5,2,7,1,4,6,8,8,4,8,8,5,2,6,8,2,8,8,2,6,2,4,5,6,7,2,2,1,6,4,4,3,8,8,3,3,5,8,1,1,7,4,3,4,7,1,3,6,8,1,3,8,3,3,7,7,3,6,3,7,1,2,2,6,1,2,2,2,7,1,6,1,7,8,1,3,3,2,8,8,3,2,1,5,1,2,3,4,2,4,1,3,5,1,4,3,4,4,2,6,8,1,1,7,1,3,8,1,5,7,5,7,7,4,2,5,4,3,2,2,7,3,5,7,1,1,3,5,5,2,8,1,6,7,6,1,5,4,1,3,2,7,2,1,1,8,8,1,5,5,1,2,7,7,6,3,8,4,7,3,1,8,2,5,4,8,3,1,4,2,1,4,6,8,2,1,6,4,1,3,1,7,1,5,6,5,5,2,8,3,5,1,4,3,7,2,5,8,1,3,4,4,7,8,5,6,5,4,8,2,4,5,2,4,5,1,5,4,3,8,4,1,4,8,6,6,8,3,4,8,5,5,8,4,4,5,1,4,1,1,6,3,3,1,4,1,6,6,2,3,3,3,8,4,4,6,4,1,7,8,2,4,1,8,3,2,7,7,2,2,4,7,1,6,5,2,4,7,4,8,6,2,4,1,2,6,2,5,6,2,4,2,7,4,1,1,8,4,8,8,1,1,8,4,1,4,5,5,2,1,4,4,2,5,1,3,6,8,2,2,5,3,8,7,4,4,8,4,6,4,6,6,2,6,7,7,2,4,7,3,7,4,4,3,6,4,1,4,1,6,1,8,4,8,2,1,5,7,1,3,8,2,6,7,3,8,6,3,4,6,7,2,5,3,8,3,7,2,1,3],\"type\":\"box\",\"xaxis\":\"x7\",\"yaxis\":\"y7\"},{\"boxpoints\":\"suspectedoutliers\",\"name\":\"2\",\"notched\":true,\"orientation\":\"h\",\"x\":[3,5,6,4,8,2,6,2,1,3,8,7,3,5,2,3,4,4,5,4,7,6,5,8,8,5,4,7,4,5,1,7,3,1,2,5,6,8,6,4,5,6,2,8,6,5,4,7,3,7,6,8,6,3,8,5,6,8,4,2,8,7,5,2,5,7,5,2,4,8,6,6,4,7,2,1,1,2,4,1,7,3,8,5,6,1,3,8,7,1,4,6,1,7,7,3,2,1,7,3,4,6,8,4,5,4,3,4,4,3,2,5,1,3,7,7,3,4,5,4,3,7,5,3,7,3,5,3,7,8,2,1,7,8,4,6,2,1,8,1,1,8,6,5,1,8,5,4,2,8,5,7,8,4,7,8,2,4,7,1,8,7,3,8,7,8,7,4,7,3,4,1,6,7,7,5,6,5,7,2,2,7,1,7,7,3,6,1,8,3,4,5,6,2,6,1,1,5,7,4,1,6,8,5,4,5,1,5,6,1,8,4,8,4,4,3,2,3,5,2,7,2,7,6,3,6,7,4,3,1,5,2,4,2,6,1,4,7,3,3,8,3,3,2,2,5,1,2,5,8,4,6,4,5,1,6,4,3,7,8,4,6,8,1,8,7,5,5,5,2,4,7,6,8,2,3,3,1,7,8,4,6,5,4,3,3,4,4,1,7,8,7,3,8,3,2,5,2,7,2,6,8,2,1,7,2,2,3,3,3,3,7,7,4,6,8,1,4,6,5,1,7,8,7,2,6,2,8,6,5,5,1,8,7,5,8,8,4,4,7,5,2,7,2,8,2,4,8,5,4,7,4,5,4,3,2,8,7,4,6,1,8,8,4,8,1,6,6,6,1,1,5,7,3,2,2,7,6,4,3,8,2,4,7,2,1,8,1,3,8,2,6,4,5,1,6,8,8,5,8,4,6,1,3,6,8,4,5,5,1,6,8,3,4,2,1,8,1,4,6,2,6,7,4,8,6,2,7,3,5,4,1,8,8,7,4,4,3,7,5,2,5,2,3,5,3,6,4,2,2,8,8,8,5,2,4,5,5,5,5,6,1,1,3,7,8,2,1,4,7,6,8,5,5,3,8,4,5,3,7,3,6,7,4,4,1,5,4,6,7,6,7,2,8,5,2,6,5,4],\"type\":\"box\",\"xaxis\":\"x7\",\"yaxis\":\"y7\"},{\"boxpoints\":\"suspectedoutliers\",\"name\":\"3\",\"notched\":true,\"orientation\":\"h\",\"x\":[8,5,8,8,3,7,2,4,7,7,4,2,2,8,8,2,3,3,4,3,4,7,1,4,7,5,3,3,3,6,5,5,1,1,7,7,4,3,2,1,3,7,8,1,2,7,7,6,4,7,7,5,5,4,5,1,5,8,2,3,7,6,3,5,4,4,2,1,3,5,1,5,6,7,7,6,2,6,1,4,6,3,7,8,2,7,5,8,1,2,2,3,8,1,1,3,7,5,7,2,8,2,5,5,2,3,8,7,6,4,7,2,8,1,7,3,4,5,6,3,7,8,1,7,2,7,3,7,5,3,4,7,5,1,4,4,1,2,1,3,2,6,4,1,3,4,3,1,3,5,2,8,4,5,4,5,8,2,2,5,6,2,1,1,8,3,3,1,3,4,7,1,5,5,6,7,4,8,6,6,2,6,7,5,5,5,1,5,7,5,6,2,2,5,2,4,3,1,7,6,2,1,3,2,6,8,5,6,8,7,3,2,3,5,6,7,3,3,2,1,7,2,7,6,3,6,7,2,7,8,1,5,1,2,3,6,7,7,3,2,5,5,2,1,7,5,3,4,8,3,1,4,7,1,4,1,6,8,6,7,3,8,4,1,6,8,4,6,2,8,3,7,3,6,6,5,8,1,8,4,4,7,7,5,7,8,4,6,7,3,6,5,7,1,1,2,6,2,2,4,8,5,8,1,5,5,6,2,4,4,6,7,7,7,5,4,8,1,3,1,2,5,6,6,7,8,7,1,3,4,1,1,6,2,6,7,7,2,2,7,3,4,6,4,1,7,5,5,2,8,8,2,1,8,2,4,8,4,4,2,6,4,5,7,4,8,4,8,2,2,8,3,6,1,4,5,1,6,6,8,5,4,7,2,1,8,6,7,5,2,8,6,8,4,2,1,2,8,5,1,1,5,6,3,8,7,1,8,4,8,6,3,7,3,5,8,7,4,4,6,4,6,1,2,1,4,6,5,1,4,2,7,8,6,7,5,8,8,5,2,1,6,4,6,6,8,3,3,3,3,1,5,2,6,2,5,4,2,1,3,2,1,1,7,3,4,4,5,3,3,8,3,7,1,8,5,1,5,5,5,5,3,6,7,8,5,6,1,5,5,4,1,8,5,8,5,1,8,6],\"type\":\"box\",\"xaxis\":\"x7\",\"yaxis\":\"y7\"},{\"boxpoints\":\"suspectedoutliers\",\"name\":\"0\",\"notched\":true,\"orientation\":\"h\",\"x\":[16,17,19,14,17,8,12,5,12,9,15,14,15,7,11,15,9,10,11,16,16,16,19,14,14,11,13,5,12,12,9,17,19,12,18,10,7,17,14,14,19,13,5,14,11,9,5,19,6,17,19,12,16,9,13,15,12,14,7,10,19,19,8,13,15,19,7,19,18,11,18,18,13,16,9,13,10,14,13,13,15,11,11,13,6,12,13,9,12,12,15,11,12,9,17,17,8,16,13,15,6,5,9,16,11,11,6,9,11,14,9,8,11,7,19,9,5,18,13,11,17,17,14,11,14,15,6,7,12,13,16,9,7,9,11,18,15,18,6,19,17,12,6,16,10,18,16,7,14,15,15,17,17,12,19,7,13,12,15,7,7,19,10,13,8,10,11,16,5,10,14,10,16,12,11,15,7,14,10,12,15,18,18,18,14,10,5,19,9,11,19,10,5,17,11,12,11,14,5,15,14,7,11,10,14,16,13,19,16,10,5,16,12,5,11,15,14,14,14,17,15,10,6,12,19,16,18,16,11,13,8,9,8,17,17,16,14,12,11,7,12,19,11,9,17,8,13,15,9,6,14,14,9,19,5,5,6,8,16,7,16,7,9,5,12,9,8,16,10,14,5,15,19,6,18,16,11,16,12,10,12,7,11,17,6,11,17,12,12,17,10,15,14,14,10,17,17,10,18,14,8,12,10,8,14,16,11,9,5,19,15,7,17,19,15,14,12,8,14,16,14,14,6,5,13,7,14,19,10,6,7,11,18,7,7,17,17,17,14,11,17,7,11,16,11,16,6,8,17,12,16,9,17,19,12,17,13,14,11,18,7,12,10,18,11,15,16,6,11,7,6,8,8,6,8,7,18,19,14,19,9,19,17,12,15,8,16,7,12,11,9,17,19,6,6,10,14,8,7,6,15,8,16,6,6,5,19,9,7,19,8,6,16,17,16,16,19,17,18,11,8,7,6,18,8,11,10,15,14,17,15,5,14,11,17,13,15,14,19,7,17,19,6,16,5,8,10,14,5,9,15,9,6,19,10,12,10,17,18,8,13,5,6,14,13,18,14,18,12,9,6,16,7,10,14,7,17,10,6,14,18,19,17,9,13,8,10,7,10,19,14,10,17,19,15,15,5,6,13,18],\"type\":\"box\",\"xaxis\":\"x8\",\"yaxis\":\"y8\"},{\"boxpoints\":\"suspectedoutliers\",\"name\":\"1\",\"notched\":true,\"orientation\":\"h\",\"x\":[9,8,17,18,19,11,11,11,18,10,13,15,15,8,16,17,7,14,5,8,10,11,15,19,6,16,17,5,16,18,15,5,6,7,10,19,12,10,16,16,8,18,9,17,17,9,15,11,13,7,5,13,16,6,18,9,18,12,6,17,6,5,9,18,12,8,8,19,15,12,14,7,5,8,12,18,13,8,14,15,11,17,6,14,5,18,17,15,8,18,19,7,11,8,17,10,14,10,5,19,14,15,6,19,5,5,13,12,8,12,5,16,16,7,17,17,9,6,16,17,16,7,9,15,13,13,7,5,7,18,7,11,17,6,15,16,5,8,17,9,18,8,14,16,6,17,16,15,17,19,13,7,17,7,5,6,12,17,14,12,13,15,16,15,17,11,8,15,16,13,11,18,11,18,5,16,18,10,12,6,8,6,13,18,12,7,18,19,11,19,12,10,17,15,9,7,17,16,16,18,8,5,9,11,11,6,7,11,16,12,16,13,8,11,17,17,12,10,16,19,17,6,12,7,10,9,7,12,7,9,10,9,17,5,18,12,5,17,6,12,17,14,13,10,7,17,12,17,16,13,7,14,17,19,16,10,7,17,15,6,15,19,15,17,8,14,18,9,13,11,8,9,8,19,7,14,7,13,14,18,15,13,8,17,7,8,10,15,8,17,10,7,11,16,14,15,5,9,13,13,12,17,16,14,16,12,14,15,10,15,18,13,19,8,18,11,15,18,6,18,6,13,8,18,10,6,6,9,7,6,16,7,12,19,15,9,14,19,19,12,9,6,12,12,12,10,16,9,19,11,12,13,16,8,18,11,15,8,10,12,6,17,15,18,19,12,7,13,13,12,5,18,17,14,10,5,12,11,7,17,15,10,18,14,15,6,6,5,16,8,15,14,7,16,7,12,17,12,16,11,17,11,16,11,8,8,15,8,15,10,19,16,16,12,11,17,7,14,19,16,15,16,11,13,14,5,17,18,17,9,16,11,15,16,12,18,18,12,9,12,14,17,11,17,5,14,16,10,19,12,13,17,10,12,9,10,15,7,11,8,10,15,5,5,7,16,17,12,8,11,7,7,14,5,6,17,13,9,14,10,7,12,7,17,12,9,15,13,8,14,9,7,6,15,13,10,9,9,9,12],\"type\":\"box\",\"xaxis\":\"x8\",\"yaxis\":\"y8\"},{\"boxpoints\":\"suspectedoutliers\",\"name\":\"2\",\"notched\":true,\"orientation\":\"h\",\"x\":[17,11,16,7,18,10,6,18,18,5,19,6,14,15,14,10,9,14,9,10,18,18,8,12,12,13,9,12,12,12,17,12,13,13,19,10,15,16,7,9,19,7,16,6,11,12,7,18,17,6,19,11,13,11,15,14,12,18,19,9,11,7,7,7,17,6,9,17,19,11,14,8,7,12,19,16,7,17,18,14,15,8,7,6,5,13,12,19,10,17,14,18,11,17,12,10,18,10,7,10,13,9,7,13,6,10,16,15,14,12,5,11,8,17,12,15,9,11,13,7,6,17,6,6,12,18,19,9,18,14,10,7,14,16,7,7,8,7,13,11,19,6,8,19,9,11,14,6,9,16,8,13,5,14,14,8,8,12,12,9,14,5,6,7,6,8,17,10,12,12,7,19,13,17,13,5,9,14,9,6,16,15,17,6,9,12,9,15,5,15,8,10,10,15,10,10,7,18,13,17,13,16,7,11,6,18,6,8,12,8,5,9,14,19,6,5,16,17,16,10,19,12,12,10,16,11,10,9,6,5,12,5,19,7,13,6,10,15,19,7,18,11,11,12,14,8,17,8,16,12,16,7,13,12,5,9,5,7,17,11,6,7,7,10,15,10,18,13,17,18,16,7,17,14,14,14,9,16,13,16,16,5,17,9,19,13,10,13,14,15,10,8,16,17,13,13,11,19,14,11,9,14,8,8,19,17,12,17,18,7,6,10,11,12,9,14,5,7,19,15,8,19,16,7,17,15,14,9,12,11,8,13,7,7,9,19,14,13,8,17,15,17,19,14,17,6,8,11,19,14,15,8,16,17,7,19,9,12,18,9,13,5,5,11,7,7,10,18,11,19,7,8,19,9,17,15,7,13,18,12,5,17,12,14,12,9,12,15,18,15,6,13,8,17,17,19,7,10,17,17,17,8,10,7,6,16,9,10,18,14,5,13,14,8,13,11,10,15,18,16,12,12,10,7,17,9,16,18,6,15,18,7,12,15,19,10,15,9,10,15,11,6,13,17,12,19,11,19,17,9,6,12,15,8,15,7,6,5,10,19,9,8,12,16,17,15,12,8,16,7,12,8,10,10,10,17,10,8,12,7,15,16,18,19,18,5,5,9,7,6,12,19,13,15,17,10,14,13,11],\"type\":\"box\",\"xaxis\":\"x8\",\"yaxis\":\"y8\"},{\"boxpoints\":\"suspectedoutliers\",\"name\":\"3\",\"notched\":true,\"orientation\":\"h\",\"x\":[13,5,14,10,10,17,17,16,17,17,7,6,18,10,16,12,9,18,9,16,7,13,11,17,19,9,13,19,13,16,12,18,19,19,9,12,18,10,5,19,12,17,12,18,18,16,16,17,17,12,5,16,14,16,17,13,17,17,18,15,19,18,18,11,12,14,11,6,7,14,11,7,10,8,8,9,14,10,17,9,17,11,8,7,14,11,15,15,5,5,16,13,14,12,6,15,17,18,10,17,8,16,5,10,13,17,19,16,5,9,19,9,12,8,18,13,7,9,17,9,8,18,13,15,15,12,9,8,14,14,19,7,9,18,16,16,15,15,5,7,13,17,14,7,15,13,7,7,16,16,8,16,19,14,6,8,9,17,13,6,12,11,15,14,15,12,15,10,11,14,7,18,12,17,12,14,7,7,17,15,17,16,14,13,13,10,6,19,5,10,17,19,12,12,16,15,6,18,5,17,16,14,8,19,6,11,14,17,9,9,8,11,17,13,15,10,15,10,6,13,7,16,15,5,17,16,17,9,13,6,10,18,17,18,5,15,12,7,9,13,17,17,13,17,7,17,6,11,17,18,12,12,5,9,14,9,18,6,8,14,13,9,11,18,8,11,19,19,19,17,14,17,12,15,5,13,8,13,11,7,17,17,19,6,11,16,19,12,15,15,14,16,8,17,15,14,6,15,17,17,17,14,15,13,7,17,5,12,6,9,12,9,19,8,11,13,15,12,13,11,13,16,19,7,16,16,18,19,7,7,6,17,13,18,16,11,10,11,12,9,16,13,10,12,13,11,11,11,9,16,8,17,14,12,18,6,8,16,10,13,18,19,16,18,17,8,17,16,5,17,9,10,13,13,13,19,12,8,5,7,17,16,14,5,17,8,13,12,13,19,13,15,14,7,17,10,6,6,12,8,15,19,7,13,17,11,18,14,13,16,19,5,9,13,13,6,18,7,10,17,6,18,10,12,5,17,18,11,7,10,15,14,12,13,16,17,11,7,14,18,15,19,18,10,14,6,7,14,8,17,13,5,13,14,17,9,12,15,9,5,7,5,15,18,14,17,18,14,13,13,7,6,14,16,17,10,8,17,11,16,10,15,5,11,12,14,15,9,6,7,11,10,8,16,19,15,17,9,19],\"type\":\"box\",\"xaxis\":\"x8\",\"yaxis\":\"y8\"}],                        {\"template\":{\"data\":{\"histogram2dcontour\":[{\"type\":\"histogram2dcontour\",\"colorbar\":{\"outlinewidth\":0,\"ticks\":\"\"},\"colorscale\":[[0.0,\"#0d0887\"],[0.1111111111111111,\"#46039f\"],[0.2222222222222222,\"#7201a8\"],[0.3333333333333333,\"#9c179e\"],[0.4444444444444444,\"#bd3786\"],[0.5555555555555556,\"#d8576b\"],[0.6666666666666666,\"#ed7953\"],[0.7777777777777778,\"#fb9f3a\"],[0.8888888888888888,\"#fdca26\"],[1.0,\"#f0f921\"]]}],\"choropleth\":[{\"type\":\"choropleth\",\"colorbar\":{\"outlinewidth\":0,\"ticks\":\"\"}}],\"histogram2d\":[{\"type\":\"histogram2d\",\"colorbar\":{\"outlinewidth\":0,\"ticks\":\"\"},\"colorscale\":[[0.0,\"#0d0887\"],[0.1111111111111111,\"#46039f\"],[0.2222222222222222,\"#7201a8\"],[0.3333333333333333,\"#9c179e\"],[0.4444444444444444,\"#bd3786\"],[0.5555555555555556,\"#d8576b\"],[0.6666666666666666,\"#ed7953\"],[0.7777777777777778,\"#fb9f3a\"],[0.8888888888888888,\"#fdca26\"],[1.0,\"#f0f921\"]]}],\"heatmap\":[{\"type\":\"heatmap\",\"colorbar\":{\"outlinewidth\":0,\"ticks\":\"\"},\"colorscale\":[[0.0,\"#0d0887\"],[0.1111111111111111,\"#46039f\"],[0.2222222222222222,\"#7201a8\"],[0.3333333333333333,\"#9c179e\"],[0.4444444444444444,\"#bd3786\"],[0.5555555555555556,\"#d8576b\"],[0.6666666666666666,\"#ed7953\"],[0.7777777777777778,\"#fb9f3a\"],[0.8888888888888888,\"#fdca26\"],[1.0,\"#f0f921\"]]}],\"heatmapgl\":[{\"type\":\"heatmapgl\",\"colorbar\":{\"outlinewidth\":0,\"ticks\":\"\"},\"colorscale\":[[0.0,\"#0d0887\"],[0.1111111111111111,\"#46039f\"],[0.2222222222222222,\"#7201a8\"],[0.3333333333333333,\"#9c179e\"],[0.4444444444444444,\"#bd3786\"],[0.5555555555555556,\"#d8576b\"],[0.6666666666666666,\"#ed7953\"],[0.7777777777777778,\"#fb9f3a\"],[0.8888888888888888,\"#fdca26\"],[1.0,\"#f0f921\"]]}],\"contourcarpet\":[{\"type\":\"contourcarpet\",\"colorbar\":{\"outlinewidth\":0,\"ticks\":\"\"}}],\"contour\":[{\"type\":\"contour\",\"colorbar\":{\"outlinewidth\":0,\"ticks\":\"\"},\"colorscale\":[[0.0,\"#0d0887\"],[0.1111111111111111,\"#46039f\"],[0.2222222222222222,\"#7201a8\"],[0.3333333333333333,\"#9c179e\"],[0.4444444444444444,\"#bd3786\"],[0.5555555555555556,\"#d8576b\"],[0.6666666666666666,\"#ed7953\"],[0.7777777777777778,\"#fb9f3a\"],[0.8888888888888888,\"#fdca26\"],[1.0,\"#f0f921\"]]}],\"surface\":[{\"type\":\"surface\",\"colorbar\":{\"outlinewidth\":0,\"ticks\":\"\"},\"colorscale\":[[0.0,\"#0d0887\"],[0.1111111111111111,\"#46039f\"],[0.2222222222222222,\"#7201a8\"],[0.3333333333333333,\"#9c179e\"],[0.4444444444444444,\"#bd3786\"],[0.5555555555555556,\"#d8576b\"],[0.6666666666666666,\"#ed7953\"],[0.7777777777777778,\"#fb9f3a\"],[0.8888888888888888,\"#fdca26\"],[1.0,\"#f0f921\"]]}],\"mesh3d\":[{\"type\":\"mesh3d\",\"colorbar\":{\"outlinewidth\":0,\"ticks\":\"\"}}],\"scatter\":[{\"fillpattern\":{\"fillmode\":\"overlay\",\"size\":10,\"solidity\":0.2},\"type\":\"scatter\"}],\"parcoords\":[{\"type\":\"parcoords\",\"line\":{\"colorbar\":{\"outlinewidth\":0,\"ticks\":\"\"}}}],\"scatterpolargl\":[{\"type\":\"scatterpolargl\",\"marker\":{\"colorbar\":{\"outlinewidth\":0,\"ticks\":\"\"}}}],\"bar\":[{\"error_x\":{\"color\":\"#2a3f5f\"},\"error_y\":{\"color\":\"#2a3f5f\"},\"marker\":{\"line\":{\"color\":\"#E5ECF6\",\"width\":0.5},\"pattern\":{\"fillmode\":\"overlay\",\"size\":10,\"solidity\":0.2}},\"type\":\"bar\"}],\"scattergeo\":[{\"type\":\"scattergeo\",\"marker\":{\"colorbar\":{\"outlinewidth\":0,\"ticks\":\"\"}}}],\"scatterpolar\":[{\"type\":\"scatterpolar\",\"marker\":{\"colorbar\":{\"outlinewidth\":0,\"ticks\":\"\"}}}],\"histogram\":[{\"marker\":{\"pattern\":{\"fillmode\":\"overlay\",\"size\":10,\"solidity\":0.2}},\"type\":\"histogram\"}],\"scattergl\":[{\"type\":\"scattergl\",\"marker\":{\"colorbar\":{\"outlinewidth\":0,\"ticks\":\"\"}}}],\"scatter3d\":[{\"type\":\"scatter3d\",\"line\":{\"colorbar\":{\"outlinewidth\":0,\"ticks\":\"\"}},\"marker\":{\"colorbar\":{\"outlinewidth\":0,\"ticks\":\"\"}}}],\"scattermapbox\":[{\"type\":\"scattermapbox\",\"marker\":{\"colorbar\":{\"outlinewidth\":0,\"ticks\":\"\"}}}],\"scatterternary\":[{\"type\":\"scatterternary\",\"marker\":{\"colorbar\":{\"outlinewidth\":0,\"ticks\":\"\"}}}],\"scattercarpet\":[{\"type\":\"scattercarpet\",\"marker\":{\"colorbar\":{\"outlinewidth\":0,\"ticks\":\"\"}}}],\"carpet\":[{\"aaxis\":{\"endlinecolor\":\"#2a3f5f\",\"gridcolor\":\"white\",\"linecolor\":\"white\",\"minorgridcolor\":\"white\",\"startlinecolor\":\"#2a3f5f\"},\"baxis\":{\"endlinecolor\":\"#2a3f5f\",\"gridcolor\":\"white\",\"linecolor\":\"white\",\"minorgridcolor\":\"white\",\"startlinecolor\":\"#2a3f5f\"},\"type\":\"carpet\"}],\"table\":[{\"cells\":{\"fill\":{\"color\":\"#EBF0F8\"},\"line\":{\"color\":\"white\"}},\"header\":{\"fill\":{\"color\":\"#C8D4E3\"},\"line\":{\"color\":\"white\"}},\"type\":\"table\"}],\"barpolar\":[{\"marker\":{\"line\":{\"color\":\"#E5ECF6\",\"width\":0.5},\"pattern\":{\"fillmode\":\"overlay\",\"size\":10,\"solidity\":0.2}},\"type\":\"barpolar\"}],\"pie\":[{\"automargin\":true,\"type\":\"pie\"}]},\"layout\":{\"autotypenumbers\":\"strict\",\"colorway\":[\"#636efa\",\"#EF553B\",\"#00cc96\",\"#ab63fa\",\"#FFA15A\",\"#19d3f3\",\"#FF6692\",\"#B6E880\",\"#FF97FF\",\"#FECB52\"],\"font\":{\"color\":\"#2a3f5f\"},\"hovermode\":\"closest\",\"hoverlabel\":{\"align\":\"left\"},\"paper_bgcolor\":\"white\",\"plot_bgcolor\":\"#E5ECF6\",\"polar\":{\"bgcolor\":\"#E5ECF6\",\"angularaxis\":{\"gridcolor\":\"white\",\"linecolor\":\"white\",\"ticks\":\"\"},\"radialaxis\":{\"gridcolor\":\"white\",\"linecolor\":\"white\",\"ticks\":\"\"}},\"ternary\":{\"bgcolor\":\"#E5ECF6\",\"aaxis\":{\"gridcolor\":\"white\",\"linecolor\":\"white\",\"ticks\":\"\"},\"baxis\":{\"gridcolor\":\"white\",\"linecolor\":\"white\",\"ticks\":\"\"},\"caxis\":{\"gridcolor\":\"white\",\"linecolor\":\"white\",\"ticks\":\"\"}},\"coloraxis\":{\"colorbar\":{\"outlinewidth\":0,\"ticks\":\"\"}},\"colorscale\":{\"sequential\":[[0.0,\"#0d0887\"],[0.1111111111111111,\"#46039f\"],[0.2222222222222222,\"#7201a8\"],[0.3333333333333333,\"#9c179e\"],[0.4444444444444444,\"#bd3786\"],[0.5555555555555556,\"#d8576b\"],[0.6666666666666666,\"#ed7953\"],[0.7777777777777778,\"#fb9f3a\"],[0.8888888888888888,\"#fdca26\"],[1.0,\"#f0f921\"]],\"sequentialminus\":[[0.0,\"#0d0887\"],[0.1111111111111111,\"#46039f\"],[0.2222222222222222,\"#7201a8\"],[0.3333333333333333,\"#9c179e\"],[0.4444444444444444,\"#bd3786\"],[0.5555555555555556,\"#d8576b\"],[0.6666666666666666,\"#ed7953\"],[0.7777777777777778,\"#fb9f3a\"],[0.8888888888888888,\"#fdca26\"],[1.0,\"#f0f921\"]],\"diverging\":[[0,\"#8e0152\"],[0.1,\"#c51b7d\"],[0.2,\"#de77ae\"],[0.3,\"#f1b6da\"],[0.4,\"#fde0ef\"],[0.5,\"#f7f7f7\"],[0.6,\"#e6f5d0\"],[0.7,\"#b8e186\"],[0.8,\"#7fbc41\"],[0.9,\"#4d9221\"],[1,\"#276419\"]]},\"xaxis\":{\"gridcolor\":\"white\",\"linecolor\":\"white\",\"ticks\":\"\",\"title\":{\"standoff\":15},\"zerolinecolor\":\"white\",\"automargin\":true,\"zerolinewidth\":2},\"yaxis\":{\"gridcolor\":\"white\",\"linecolor\":\"white\",\"ticks\":\"\",\"title\":{\"standoff\":15},\"zerolinecolor\":\"white\",\"automargin\":true,\"zerolinewidth\":2},\"scene\":{\"xaxis\":{\"backgroundcolor\":\"#E5ECF6\",\"gridcolor\":\"white\",\"linecolor\":\"white\",\"showbackground\":true,\"ticks\":\"\",\"zerolinecolor\":\"white\",\"gridwidth\":2},\"yaxis\":{\"backgroundcolor\":\"#E5ECF6\",\"gridcolor\":\"white\",\"linecolor\":\"white\",\"showbackground\":true,\"ticks\":\"\",\"zerolinecolor\":\"white\",\"gridwidth\":2},\"zaxis\":{\"backgroundcolor\":\"#E5ECF6\",\"gridcolor\":\"white\",\"linecolor\":\"white\",\"showbackground\":true,\"ticks\":\"\",\"zerolinecolor\":\"white\",\"gridwidth\":2}},\"shapedefaults\":{\"line\":{\"color\":\"#2a3f5f\"}},\"annotationdefaults\":{\"arrowcolor\":\"#2a3f5f\",\"arrowhead\":0,\"arrowwidth\":1},\"geo\":{\"bgcolor\":\"white\",\"landcolor\":\"#E5ECF6\",\"subunitcolor\":\"white\",\"showland\":true,\"showlakes\":true,\"lakecolor\":\"white\"},\"title\":{\"x\":0.05},\"mapbox\":{\"style\":\"light\"}}},\"xaxis\":{\"anchor\":\"y\",\"domain\":[0.0,0.2125],\"title\":{\"text\":\"ram\"}},\"yaxis\":{\"anchor\":\"x\",\"domain\":[0.5700000000000001,1.0],\"title\":{\"text\":\"Price Range\"}},\"xaxis2\":{\"anchor\":\"y2\",\"domain\":[0.2625,0.475],\"title\":{\"text\":\"battery_power\"}},\"yaxis2\":{\"anchor\":\"x2\",\"domain\":[0.5700000000000001,1.0],\"title\":{\"text\":\"Price Range\"}},\"xaxis3\":{\"anchor\":\"y3\",\"domain\":[0.525,0.7375],\"title\":{\"text\":\"px_width\"}},\"yaxis3\":{\"anchor\":\"x3\",\"domain\":[0.5700000000000001,1.0],\"title\":{\"text\":\"Price Range\"}},\"xaxis4\":{\"anchor\":\"y4\",\"domain\":[0.7875,1.0],\"title\":{\"text\":\"px_height\"}},\"yaxis4\":{\"anchor\":\"x4\",\"domain\":[0.5700000000000001,1.0],\"title\":{\"text\":\"Price Range\"}},\"xaxis5\":{\"anchor\":\"y5\",\"domain\":[0.0,0.2125],\"title\":{\"text\":\"mobile_wt\"}},\"yaxis5\":{\"anchor\":\"x5\",\"domain\":[0.0,0.43],\"title\":{\"text\":\"Price Range\"}},\"xaxis6\":{\"anchor\":\"y6\",\"domain\":[0.2625,0.475],\"title\":{\"text\":\"int_memory\"}},\"yaxis6\":{\"anchor\":\"x6\",\"domain\":[0.0,0.43],\"title\":{\"text\":\"Price Range\"}},\"xaxis7\":{\"anchor\":\"y7\",\"domain\":[0.525,0.7375],\"title\":{\"text\":\"n_cores\"}},\"yaxis7\":{\"anchor\":\"x7\",\"domain\":[0.0,0.43],\"title\":{\"text\":\"Price Range\"}},\"xaxis8\":{\"anchor\":\"y8\",\"domain\":[0.7875,1.0],\"title\":{\"text\":\"sc_h\"}},\"yaxis8\":{\"anchor\":\"x8\",\"domain\":[0.0,0.43],\"title\":{\"text\":\"Price Range\"}},\"title\":{\"font\":{\"color\":\"#393646\",\"family\":\"Bold\",\"size\":26},\"text\":\"Relationship between Relevant Features and Price Range\",\"y\":0.989,\"x\":0.5,\"xanchor\":\"center\",\"yanchor\":\"top\"},\"margin\":{\"l\":50,\"r\":50,\"t\":50,\"b\":50},\"showlegend\":false,\"height\":800,\"width\":1200},                        {\"responsive\": true}                    ).then(function(){\n",
              "                            \n",
              "var gd = document.getElementById('10a8b48b-59ea-4167-90c8-fa642dccc108');\n",
              "var x = new MutationObserver(function (mutations, observer) {{\n",
              "        var display = window.getComputedStyle(gd).display;\n",
              "        if (!display || display === 'none') {{\n",
              "            console.log([gd, 'removed!']);\n",
              "            Plotly.purge(gd);\n",
              "            observer.disconnect();\n",
              "        }}\n",
              "}});\n",
              "\n",
              "// Listen for the removal of the full notebook cells\n",
              "var notebookContainer = gd.closest('#notebook-container');\n",
              "if (notebookContainer) {{\n",
              "    x.observe(notebookContainer, {childList: true});\n",
              "}}\n",
              "\n",
              "// Listen for the clearing of the current output cell\n",
              "var outputEl = gd.closest('.output');\n",
              "if (outputEl) {{\n",
              "    x.observe(outputEl, {childList: true});\n",
              "}}\n",
              "\n",
              "                        })                };                            </script>        </div>\n",
              "</body>\n",
              "</html>"
            ]
          },
          "metadata": {}
        }
      ],
      "source": [
        "def box_plot(m_p_t, relevent_colms) -> None:\n",
        "  fig = sp.make_subplots(rows=2, cols=4, vertical_spacing = 0.14, horizontal_spacing = 0.05)\n",
        "\n",
        "  idx = 0\n",
        "\n",
        "  for r in range(1, 3):\n",
        "    for c in range(1, 5):\n",
        "\n",
        "      col = relevent_colms[idx]\n",
        "      idx+=1\n",
        "\n",
        "\n",
        "      trace1 = go.Box(x=m_p_t[m_p_t.price_range == 0][col], name='0', notched=True, orientation='h', boxpoints='suspectedoutliers')\n",
        "      trace2 = go.Box(x=m_p_t[m_p_t.price_range == 1][col], name='1', notched=True, orientation='h', boxpoints='suspectedoutliers')\n",
        "      trace3 = go.Box(x=m_p_t[m_p_t.price_range == 2][col], name='2', notched=True, orientation='h', boxpoints='suspectedoutliers')\n",
        "      trace4 = go.Box(x=m_p_t[m_p_t.price_range == 3][col], name='3', notched=True, orientation='h', boxpoints='suspectedoutliers')\n",
        "\n",
        "      fig.add_trace(trace1, row=r, col=c)\n",
        "      fig.add_trace(trace2, row=r, col=c)\n",
        "      fig.add_trace(trace3, row=r, col=c)\n",
        "      fig.add_trace(trace4, row=r, col=c)\n",
        "\n",
        "      fig.update_yaxes(title_text='Price Range', row=r, col=c)\n",
        "      fig.update_xaxes(title_text=col, row=r, col=c)\n",
        "\n",
        "  fig.update_layout(\n",
        "      title={\n",
        "          'text': 'Relationship between Relevant Features and Price Range',\n",
        "          'y': 0.989,\n",
        "          'x': 0.5,\n",
        "          'xanchor': 'center',\n",
        "          'yanchor': 'top',\n",
        "          'font' : {\n",
        "              'color' : '#393646',\n",
        "              'family' : 'Bold',\n",
        "              'size' : 26\n",
        "          }\n",
        "\n",
        "      },\n",
        "      margin=dict(l=50, r=50, t=50, b=50),\n",
        "      showlegend = False,\n",
        "      height = 800,\n",
        "      width = 1200\n",
        "  )\n",
        "\n",
        "  fig.show()\n",
        "\n",
        "box_plot(stdz_m_p_t, relevent_colms)\n"
      ]
    },
    {
      "cell_type": "markdown",
      "source": [
        "### **Handling the Outliers in ['ram', 'px_height'] Using Capping Method**"
      ],
      "metadata": {
        "id": "fnA7Atv9LjZ9"
      }
    },
    {
      "cell_type": "code",
      "source": [
        "categories = [0, 1, 2, 3]\n",
        "\n",
        "for col in ['ram', 'px_height']:\n",
        "    for cat in categories:\n",
        "\n",
        "        # Subset of the data for the current category and column\n",
        "        subset = stdz_m_p_t[stdz_m_p_t['price_range'] == cat][col]\n",
        "\n",
        "        q1 = subset.quantile(0.25)\n",
        "        q3 = subset.quantile(0.75)\n",
        "        iqr = q3 - q1\n",
        "        lower_bound = q1 - (1.5 * iqr)\n",
        "        upper_bound = q3 + (1.5 * iqr)\n",
        "\n",
        "        # Using Capping Method\n",
        "        subset[subset < lower_bound] = lower_bound\n",
        "        subset[subset > upper_bound] = upper_bound\n",
        "\n",
        "        stdz_m_p_t.loc[m_p_t_no_outlr['price_range'] == cat, col] = subset\n"
      ],
      "metadata": {
        "id": "LndBYTiRLuuR"
      },
      "execution_count": null,
      "outputs": []
    },
    {
      "cell_type": "code",
      "source": [
        "box_plot(stdz_m_p_t, relevent_colms)"
      ],
      "metadata": {
        "id": "HWk-tjy9M2xH",
        "colab": {
          "base_uri": "https://localhost:8080/",
          "height": 817
        },
        "outputId": "a645cf6b-187c-4360-bbd9-896bb6a9191d"
      },
      "execution_count": null,
      "outputs": [
        {
          "output_type": "display_data",
          "data": {
            "text/html": [
              "<html>\n",
              "<head><meta charset=\"utf-8\" /></head>\n",
              "<body>\n",
              "    <div>            <script src=\"https://cdnjs.cloudflare.com/ajax/libs/mathjax/2.7.5/MathJax.js?config=TeX-AMS-MML_SVG\"></script><script type=\"text/javascript\">if (window.MathJax && window.MathJax.Hub && window.MathJax.Hub.Config) {window.MathJax.Hub.Config({SVG: {font: \"STIX-Web\"}});}</script>                <script type=\"text/javascript\">window.PlotlyConfig = {MathJaxConfig: 'local'};</script>\n",
              "        <script src=\"https://cdn.plot.ly/plotly-2.18.2.min.js\"></script>                <div id=\"5c2b887c-ce8d-4ec8-90ec-e45b75dd0378\" class=\"plotly-graph-div\" style=\"height:800px; width:1200px;\"></div>            <script type=\"text/javascript\">                                    window.PLOTLYENV=window.PLOTLYENV || {};                                    if (document.getElementById(\"5c2b887c-ce8d-4ec8-90ec-e45b75dd0378\")) {                    Plotly.newPlot(                        \"5c2b887c-ce8d-4ec8-90ec-e45b75dd0378\",                        [{\"boxpoints\":\"suspectedoutliers\",\"name\":\"0\",\"notched\":true,\"orientation\":\"h\",\"x\":[700.0,1099.0,513.0,373.0,568.0,1037.0,478.0,508.0,1262.0,504.0,1270.0,905.0,431.0,470.0,1050.0,392.0,590.0,907.0,1449.0,854.0,1410.0,349.0,880.0,1412.0,1047.0,1204.0,790.0,488.0,666.0,284.0,1427.0,398.0,278.0,505.0,374.0,506.0,490.0,536.0,728.0,1472.0,764.0,797.0,1046.0,690.0,1022.0,711.0,978.0,593.0,588.0,625.0,707.0,720.0,278.0,829.0,1181.0,575.0,532.0,1074.0,461.0,527.0,468.0,1210.0,417.0,294.0,447.0,666.0,1206.0,952.0,311.0,725.0,714.0,715.0,663.0,834.0,651.0,796.0,785.0,1201.0,1051.0,916.0,827.0,473.0,364.0,1470.0,1050.0,706.0,336.0,418.0,1414.0,1859.375,582.0,808.0,1122.0,624.0,457.0,438.0,1052.0,1175.0,301.0,489.0,1043.0,1343.0,1138.0,604.0,258.0,1066.0,1459.0,918.0,590.0,463.0,429.0,1223.0,343.0,1155.0,869.0,591.0,574.0,891.0,728.0,814.0,701.0,1446.0,719.0,988.0,1028.0,445.0,1073.0,861.0,1017.0,980.0,1257.0,759.0,475.0,1122.0,705.0,565.0,316.0,448.0,462.0,1165.0,752.0,1305.0,606.0,1076.0,783.0,1655.0,961.0,514.0,933.0,824.0,1254.0,950.0,273.0,1122.0,707.0,751.0,452.0,1419.0,969.0,1735.0,995.0,1145.0,626.0,297.0,411.0,665.0,740.0,337.0,1229.0,520.0,990.0,433.0,898.0,770.0,305.0,616.0,419.0,504.0,392.0,820.0,1403.0,302.0,404.0,595.0,1663.0,1094.0,966.0,905.0,363.0,542.0,509.0,282.0,424.0,1284.0,277.0,485.0,418.0,1406.0,629.0,676.0,286.0,776.0,716.0,424.0,643.0,1609.0,590.0,1539.0,942.0,604.0,515.0,654.0,509.0,619.0,725.0,1185.0,911.0,656.0,860.0,1018.0,1360.0,703.0,582.0,1172.0,316.0,999.0,589.0,670.0,584.0,1275.0,309.0,323.0,417.0,667.0,1018.0,934.0,348.0,550.0,971.0,570.0,546.0,1209.0,947.0,1484.0,347.0,1028.0,929.0,1211.0,511.0,1414.0,336.0,1095.0,325.0,1223.0,356.0,523.0,1229.0,587.0,816.0,619.0,912.0,793.0,560.0,312.0,545.0,893.0,819.0,1229.0,673.0,921.0,391.0,441.0,1859.375,687.0,887.0,398.0,621.0,815.0,568.0,1080.0,1075.0,735.0,1454.0,461.0,470.0,931.0,1344.0,757.0,594.0,467.0,345.0,874.0,737.0,315.0,1419.0,959.0,896.0,485.0,841.0,262.0,530.0,259.0,688.0,571.0,402.0,878.0,454.0,455.0,401.0,681.0,509.0,1105.0,1339.0,285.0,733.0,756.0,465.0,851.0,1300.0,362.0,437.0,696.0,1704.0,368.0,1471.0,1321.0,577.0,751.0,436.0,722.0,1075.0,403.0,1069.0,657.0,1326.0,323.0,763.0,792.0,258.0,780.0,712.0,1012.0,318.0,629.0,1161.0,1403.0,1305.0,471.0,594.0,1005.0,1083.0,593.0,1284.0,545.0,1212.0,348.0,980.0,838.0,378.0,909.0,348.0,663.0,961.0,531.0,726.0,685.0,1342.0,999.0,331.0,422.0,432.0,1152.0,1303.0,797.0,298.0,315.0,462.0,1593.0,324.0,555.0,435.0,702.0,1303.0,456.0,941.0,558.0,1345.0,425.0,267.0,1050.0,624.0,412.0,595.0,263.0,639.0,436.0,817.0,543.0,862.0,957.0,313.0,1149.0,920.0,361.0,1077.0,512.0,291.0,524.0,464.0,1234.0,292.0,587.0,879.0,562.0,1338.0,315.0,586.0,804.0,1295.0,885.0,1044.0,1637.0,783.0,256.0,867.0,609.0,354.0,1082.0,1113.0,984.0,1037.0,1167.0,1244.0,1052.0,1672.0,1302.0,575.0,440.0,1462.0,503.0,708.0,308.0,552.0,594.0,690.0,265.0,1417.0,1086.0,1507.0,641.0,1607.0,1241.0,881.0,769.0,819.0,435.0,586.0,650.0,739.0,686.0,841.0,1183.0,1037.0,991.0,1519.0,493.0,704.0,953.0,928.0,489.0,299.0,340.0,799.0,445.0,770.0,1234.0,340.0,298.0,968.0,696.0,755.0,1341.0,773.0,841.0,1675.0,1301.0,1817.0,872.0,1503.0,343.0,1457.0,967.0,635.0,824.0,495.0,1424.0,296.0,1180.0,668.0,869.0],\"type\":\"box\",\"xaxis\":\"x\",\"yaxis\":\"y\"},{\"boxpoints\":\"suspectedoutliers\",\"name\":\"1\",\"notched\":true,\"orientation\":\"h\",\"x\":[2549.0,1411.0,1067.0,1482.0,1835.0,2337.0,1433.0,2583.0,2227.0,1326.0,2113.0,1878.0,1629.0,1152.0,2296.0,1440.0,2056.0,1457.0,1814.0,1837.0,2009.0,2048.0,837.0,1418.0,1692.0,1308.0,2413.0,1799.0,2016.0,2213.0,1945.0,1214.0,1496.0,1366.0,2399.0,2235.0,2196.0,2341.0,1354.0,1394.0,1078.0,2126.0,1260.0,1886.0,1617.0,1545.0,2505.0,1866.0,1287.0,1441.0,1362.0,1869.0,1179.0,2227.0,1457.0,1733.0,1767.0,1846.0,2169.0,1702.0,1027.0,2039.0,606.0,1675.0,1129.0,1595.0,1851.0,927.0,2044.0,1477.0,1604.0,2211.0,1652.0,1228.0,1499.0,955.0,1109.0,610.0,1725.0,1322.0,1615.0,2125.0,990.0,1595.0,1213.0,2111.0,1036.0,2581.0,941.0,1274.0,1243.0,2261.0,2457.0,1246.0,2360.0,2101.0,732.0,1892.0,1141.0,2330.0,2244.0,1851.0,1587.0,1797.0,1458.0,1834.0,1277.0,985.0,1070.0,1175.0,1724.0,2190.0,1900.0,1107.0,2042.0,1614.0,1731.0,1965.0,1713.0,1125.0,1970.0,2180.0,864.0,1333.0,2129.0,1948.0,1619.0,1434.0,1711.0,1891.0,2811.0,1701.0,1853.0,2445.0,2287.0,1726.0,850.0,1300.0,1667.0,1214.0,665.0,1336.0,1183.0,2366.0,1480.0,1087.0,1409.0,1524.0,584.0,1391.0,2346.0,1324.0,643.0,2104.0,1762.0,1756.0,1432.0,1620.0,1896.0,1973.0,2598.0,1624.0,446.0,1851.0,2253.0,2027.0,2419.0,1509.0,2385.0,1301.0,2167.0,1205.0,2039.0,1378.0,1803.0,1796.0,2630.0,1380.0,1201.0,1671.0,2246.0,1184.0,1026.0,1086.0,1303.0,2073.0,1519.0,2103.0,1724.0,1790.0,1913.0,1713.0,1652.0,1354.0,2150.0,2587.0,2509.0,1944.0,1436.0,1334.0,2351.0,1285.0,1369.0,1475.0,1950.0,2020.0,606.0,1653.0,2197.0,2066.0,1518.0,1251.0,1732.0,2146.0,1927.0,1511.0,1808.0,1561.0,2073.0,1401.0,1464.0,1083.0,1531.0,601.0,1489.0,1322.0,1846.0,1241.0,1444.0,1944.0,2019.0,1587.0,1870.0,1352.0,714.0,1229.0,1377.0,1699.0,1649.0,1898.0,1445.0,1402.0,2085.0,1667.0,2050.0,1754.0,1904.0,2705.0,1370.0,1222.0,2648.0,1368.0,724.0,1591.0,2514.0,1032.0,2043.0,1816.0,1375.0,1732.0,2301.0,1719.0,1947.0,1267.0,1737.0,2459.0,2200.0,1519.0,2107.0,1282.0,2074.0,2227.0,2094.0,1891.0,1386.0,2022.0,1716.0,2290.0,1882.0,2399.0,892.0,1412.0,1857.0,1754.0,1936.0,1869.0,2349.0,774.0,1887.0,1542.0,574.0,1464.0,1824.0,876.0,659.0,2278.0,2036.0,1642.0,2064.0,1142.0,1060.0,2476.0,1862.0,1277.0,1905.0,1108.0,1906.0,1218.0,2086.0,1356.0,2132.0,2096.0,1273.0,854.0,1494.0,2001.0,1486.0,1877.0,2124.0,1221.0,1068.0,1930.0,1316.0,1742.0,2253.0,1433.0,1817.0,1277.0,1464.0,1355.0,1886.0,832.0,1780.0,1247.0,1464.0,1628.0,1568.0,1276.0,2171.0,1724.0,1220.0,2439.0,2302.0,857.0,1309.0,1179.0,1713.0,1663.0,1384.0,1348.0,1382.0,1861.0,2190.0,1280.0,2331.0,794.0,1666.0,2157.0,1196.0,1590.0,1693.0,1379.0,1164.0,908.0,1019.0,1470.0,1543.0,2753.0,2156.0,1214.0,2293.0,2110.0,2361.0,1380.0,2289.0,2367.0,1919.0,1591.0,2456.0,1440.0,1907.0,1404.0,1424.0,1133.0,1853.0,1146.0,2335.0,1422.0,1115.0,2638.0,2192.0,1208.0,1598.0,1249.0,1550.0,1646.0,1998.0,1869.0,1813.0,2013.0,2623.0,1400.0,2033.0,1017.0,1686.0,1656.0,1687.0,1629.0,1513.0,2240.0,820.0,1875.0,1412.0,1540.0,1610.0,2201.0,2203.0,940.0,1155.0,1798.0,1567.0,1491.0,1693.0,1788.0,1641.0,2319.0,1258.0,1543.0,1637.0,1393.0,1181.0,1659.0,1999.0,1193.0,1246.0,2378.0,1794.0,1774.0,1365.0,2049.0,2175.0,1400.0,2308.0,1734.0,2090.0,1053.0,1799.0,1552.0,1938.0,2296.0,2359.0,2002.0,595.0,1337.0,2066.0,2029.0,2082.0,1795.0,2004.0,1903.0,1769.0,1459.0,2052.0,1308.0,1747.0,2517.0,1389.0,2177.0,1861.0,2367.0,1641.0,1069.0,1974.0,2282.0,1534.0,2651.0,1824.0,1456.0,1675.0,1601.0,1958.0,1647.0,1150.0,1974.0,1205.0,2052.0,1396.0,1871.0,1112.0,387.0,2215.0,2156.0,1744.0,1832.0,2016.0,1300.0,2216.0,1850.0,1620.0,2592.0],\"type\":\"box\",\"xaxis\":\"x\",\"yaxis\":\"y\"},{\"boxpoints\":\"suspectedoutliers\",\"name\":\"2\",\"notched\":true,\"orientation\":\"h\",\"x\":[2631.0,2603.0,2769.0,2680.0,2782.0,2373.0,3169.0,2150.0,2484.0,2059.0,2053.0,2908.0,2552.0,2910.0,2148.0,2955.0,2192.0,2593.0,2746.0,2334.0,1971.0,1601.0,3182.0,3187.0,2598.0,2488.0,2863.0,2962.0,2338.0,2700.0,1349.5,2390.0,2268.0,2965.0,2147.0,2945.0,2981.0,2317.0,2050.0,3323.0,2060.0,2177.0,2842.0,2337.0,1687.0,2243.0,2844.0,2227.0,1665.0,2504.0,2677.0,2243.0,2984.0,2571.0,2107.0,2844.0,2669.0,2377.0,2458.0,3256.0,3560.0,2311.0,1717.0,2986.0,2394.0,2977.0,2698.0,2332.0,2589.0,2334.0,1349.5,2969.0,1655.0,1774.0,2768.0,3252.0,2832.0,2500.0,2801.0,3139.0,1938.0,3185.0,2369.0,2938.0,2855.0,2727.0,2973.0,2563.0,3359.0,2280.0,2927.0,2616.0,2686.0,2523.0,2971.0,2324.0,3121.0,3801.0,2895.0,2532.0,1529.0,2403.0,2806.0,2239.0,2511.0,2734.0,2492.0,2122.0,3709.0,3021.0,1733.0,2756.0,2612.0,2362.0,2610.0,2335.0,2323.0,3291.0,2765.0,2084.0,2048.0,3100.0,2728.0,2488.0,2208.0,2610.0,2819.0,1955.0,2978.0,2674.0,2336.0,2430.0,2856.0,2447.0,2951.0,3653.0,2003.0,3595.0,2606.0,2912.0,2339.0,1897.0,3269.0,2885.0,2777.0,1349.5,3169.0,2801.0,3153.0,3421.0,2711.0,2144.0,2998.0,2249.0,3597.0,3132.0,3293.0,3035.0,2675.0,2382.0,2437.0,2832.0,2608.0,2304.0,3278.0,2183.0,1704.0,2574.0,1510.0,3393.0,2735.0,3441.0,2710.0,2298.0,2406.0,2078.0,2312.0,2297.0,2440.0,3176.0,2473.0,3487.0,1906.0,2020.0,2953.0,2574.0,2577.0,2405.0,3377.0,2965.0,2236.0,3048.0,3764.0,2295.0,1973.0,2549.0,2614.0,2826.0,2496.0,2172.0,2487.0,2532.0,3076.0,1513.0,3006.0,1349.5,3002.0,2893.0,2655.0,2934.0,2889.0,1993.0,2246.0,3237.0,2317.0,3190.0,2338.0,3657.0,2080.0,3078.0,2552.0,3355.0,1968.0,2547.0,2735.0,2942.0,2812.0,3497.0,1349.5,1947.0,1998.0,1656.0,2870.0,3458.0,2524.0,1349.5,3328.0,2462.0,2437.0,2981.0,3148.0,2829.0,2373.0,2173.0,2493.0,2991.0,3731.0,2944.0,3087.0,3227.0,2622.0,1653.0,3034.0,2609.0,2265.0,2775.0,2614.0,2030.0,2958.0,2800.0,3102.0,2268.0,2173.0,2746.0,1482.0,2166.0,2469.0,2575.0,2676.0,1781.0,2248.0,2389.0,3077.0,2372.0,2574.0,2438.0,2674.0,2262.0,2829.0,2573.0,2678.0,2867.0,3063.0,2479.0,2394.0,2814.0,2315.0,2519.0,3260.0,2219.0,2495.0,2944.0,2361.0,1783.0,2832.0,3873.5,2865.0,2719.0,3012.0,2385.0,2110.0,3105.0,3865.0,2800.0,2286.0,2392.0,3305.0,2635.0,2563.0,3397.0,2977.0,2114.0,2481.0,3565.0,1958.0,2454.0,2562.0,2632.0,2554.0,2977.0,2130.0,2638.0,2819.0,2706.0,2378.0,3212.0,2381.0,3178.0,2636.0,2014.0,1430.0,2456.0,2360.0,2620.0,3623.0,2316.0,3265.0,2700.0,2115.0,1571.0,2583.0,2915.0,2790.0,3593.0,2311.0,2382.0,2802.0,3066.0,2518.0,2651.0,2974.0,2520.0,1868.0,2926.0,2674.0,2754.0,2219.0,1571.0,2107.0,3566.0,2821.0,1812.0,3396.0,2528.0,2189.0,2644.0,2072.0,2627.0,2137.0,2299.0,3011.0,2637.0,2248.0,1921.0,2423.0,1658.0,2182.0,2184.0,2738.0,2722.0,3183.0,3495.0,2648.0,2647.0,1836.0,2678.0,2424.0,3078.0,2304.0,2096.0,2750.0,2278.0,2273.0,2355.0,2328.0,3397.0,3122.0,2929.0,2052.0,2577.0,1930.0,2334.0,2258.0,1825.0,2678.0,3400.0,2700.0,3127.0,2518.0,2515.0,2666.0,1695.0,3510.0,3083.0,1783.0,2528.0,2341.0,2785.0,3615.0,1882.0,2003.0,1751.0,2854.0,3115.0,1612.0,1998.0,2855.0,1633.0,2521.0,2658.0,2190.0,1743.0,1816.0,2992.0,3249.0,3242.0,2725.0,2454.0,2460.0,2625.0,2698.0,2548.0,2940.0,2757.0,3094.0,2339.0,3285.0,2322.0,3104.0,2847.0,2256.0,2908.0,2715.0,2488.0,2927.0,2131.0,3314.0,2466.0,2473.0,2083.0,2661.0,2466.0,2948.0,2572.0,3267.0,1633.0,2402.0,2948.0,2633.0,1958.0,3351.0,3248.0,2522.0,1885.0,2610.0,2343.0,2787.0,2495.0,2391.0,2782.0,2651.0,1905.0,1829.0,2376.0,2694.0,2195.0,2506.0,2073.0,2321.0,3433.0,2668.0,2452.0,2498.0,2711.0,2023.0,2358.0,2313.0,3248.0,2032.0],\"type\":\"box\",\"xaxis\":\"x\",\"yaxis\":\"y\"},{\"boxpoints\":\"suspectedoutliers\",\"name\":\"3\",\"notched\":true,\"orientation\":\"h\",\"x\":[3220.0,3946.0,3826.0,3554.0,3752.0,2819.0,3283.0,3763.0,3286.0,3532.0,3845.0,3429.0,3339.0,3587.0,3238.0,3112.0,3963.0,3366.0,3068.0,3834.0,3993.0,3378.0,3709.0,3448.0,3464.0,3484.0,3210.0,2822.0,3616.0,2600.0,2676.0,2597.0,3029.0,2373.0,3472.0,2871.0,3242.0,3534.0,3426.0,3255.0,3801.0,3799.0,3825.0,3685.0,3556.0,3799.0,3557.0,3702.0,3704.0,2462.0,3770.0,3926.0,2478.0,3965.0,3693.0,2940.0,3834.0,3600.0,3971.0,3355.0,3629.0,3559.0,3117.0,3844.0,3836.0,2958.0,3031.0,3388.0,2766.0,3054.0,3791.0,3755.0,3846.0,3704.0,3800.0,3352.0,3271.0,2513.0,3086.0,3760.0,3576.0,3945.0,3161.0,3660.0,3822.0,3922.0,2822.0,3608.0,3321.0,3927.0,3490.0,3615.0,3739.0,3865.0,3059.0,3451.0,3625.0,2690.0,3865.0,3699.0,2915.0,3264.0,2993.0,2542.0,3917.0,3333.0,3475.0,3652.0,3097.0,3918.0,3869.0,3684.0,3969.0,3131.0,3215.0,3323.0,3419.0,3648.0,3890.0,3838.0,3937.0,3348.0,2775.0,3210.0,3701.0,3411.0,3915.0,3817.0,2982.0,3652.0,3955.0,3860.0,3630.0,3272.0,3488.0,3961.0,3701.0,3644.0,3672.0,3635.0,3864.0,3566.0,3416.0,3803.0,3716.0,3454.0,3777.0,2712.0,3968.0,3383.0,3278.0,3970.0,2776.0,3886.0,3139.0,3952.0,3173.0,3129.0,3501.0,3461.0,3206.0,3717.0,3917.0,2775.0,3309.0,3607.0,3720.0,3483.0,3373.0,3881.0,3072.0,3856.0,3673.0,3809.0,3137.0,3663.0,3655.0,3622.0,3809.0,3771.0,3786.0,3533.0,3587.0,3371.0,3508.0,3914.0,3226.0,3878.0,3406.0,3959.0,3703.0,3714.0,2896.0,3254.0,2501.0,3762.0,3015.0,3204.0,2799.0,3772.0,2870.0,3619.0,3713.0,3798.0,2858.0,3387.0,3447.0,3755.0,3872.0,2764.0,3916.0,3902.0,3914.0,3233.0,3836.0,3481.0,3991.0,3746.0,3941.0,3970.0,3925.0,3724.0,3835.0,2376.0,3438.0,3361.0,3535.0,2736.0,2941.0,3336.0,3796.0,3654.0,3315.0,3534.0,3165.0,3213.0,3486.0,3358.0,3669.0,3612.0,2540.0,3869.0,3412.0,3483.0,3592.0,3573.0,3568.0,3302.0,3884.0,3892.0,3897.0,3676.0,3449.0,3598.0,3271.0,3119.0,3647.0,3998.0,3317.0,3764.0,2885.0,3458.0,3019.0,3538.0,3726.0,3912.0,3269.0,3941.0,3142.0,3863.0,3506.0,3984.0,3624.0,2752.0,3868.0,3299.0,2641.0,2438.0,3744.0,3520.0,3796.0,3745.0,2457.0,3705.0,3773.0,3537.0,3162.0,2784.0,2746.0,3672.0,3833.0,3262.0,2693.0,2890.0,3431.0,3601.0,3230.0,3646.0,3862.0,2857.0,3143.0,3197.0,2727.0,3022.0,3317.0,3940.0,3469.0,3300.0,2836.0,2968.0,3762.0,3033.0,3681.0,3153.0,3637.0,3964.0,3038.0,3392.0,3703.0,3859.0,3260.0,3436.0,3424.0,3105.0,3153.0,3465.0,3900.0,3117.0,3366.0,2560.0,3488.0,3622.0,3703.0,3056.0,3869.0,3142.0,3700.0,3774.0,3407.0,3902.0,3571.0,3209.0,3646.0,3130.0,3784.0,3885.0,2973.0,3499.0,3915.0,3144.0,3340.0,3220.0,3488.0,2736.0,3372.0,3393.0,2610.0,3721.0,3472.0,3423.0,3948.0,3707.0,3518.0,3442.0,3957.0,3925.0,3632.0,2916.0,3707.0,3577.0,3696.0,3771.0,3685.0,3142.0,3692.0,3073.0,3958.0,3847.0,3892.0,2872.0,3296.0,2933.0,3154.0,3615.0,3563.0,2373.0,3785.0,3675.0,3894.0,2944.0,3424.0,2671.0,3396.0,3518.0,3358.0,3206.0,3695.0,3235.0,3946.0,3887.0,3614.0,2803.0,3564.0,3654.0,3930.0,3476.0,3242.0,3438.0,3494.0,3282.0,3629.0,3899.0,3256.0,3761.0,3610.0,3024.0,3338.0,3473.0,3872.0,2598.0,3905.0,3322.0,3259.0,3991.0,3555.0,3411.0,3541.0,3437.0,3064.0,2392.0,3284.0,3330.0,3564.0,3742.0,3511.0,3966.0,3484.0,3933.0,3241.0,3497.0,3684.0,3586.0,3204.0,3210.0,3990.0,3117.0,2967.0,2373.0,2921.0,3132.0,3362.0,3124.0,3202.0,3167.0,3480.0,3314.0,3996.0,3845.0,3779.0,3904.0,3376.0,3451.0,3521.0,2563.0,3033.0,3454.0,3038.0,3736.0,3943.0,3911.0,3297.0,3141.0,2373.0,3206.0,3839.0,3606.0,3927.0,3756.0,3208.0,3568.0,3585.0,2419.0,3746.0,3155.0,3883.0,3548.0,3767.0,3654.0,3104.0,3430.0,2470.0,3851.0,2885.0,3142.0,3579.0,3962.0,3978.0,3057.0,3919.0],\"type\":\"box\",\"xaxis\":\"x\",\"yaxis\":\"y\"},{\"boxpoints\":\"suspectedoutliers\",\"name\":\"0\",\"notched\":true,\"orientation\":\"h\",\"x\":[1954,1445,509,1866,775,1602,851,1568,644,1195,578,823,799,1156,1242,605,797,1114,1234,1496,885,879,1355,657,1939,553,867,1308,1571,536,523,1218,1678,1547,637,1224,1296,1193,685,703,1165,1380,1703,1087,1049,903,1154,850,660,1715,1523,1799,862,1617,835,1450,601,564,1431,767,1066,730,538,823,832,928,977,768,1177,1530,645,1170,508,728,1379,1698,920,668,618,1604,880,1394,899,916,763,1067,1899,1058,880,652,1029,914,1681,1190,728,954,1469,1310,1631,1608,1289,513,965,1067,1433,765,932,601,1417,1330,1277,685,1902,1278,1438,1661,1678,1076,532,577,504,726,1454,1230,1191,1271,1170,1974,934,1195,1232,1813,739,704,1219,652,1137,1835,1719,922,1430,557,1620,1359,1645,600,1063,1715,543,1462,666,568,1897,914,1721,890,1979,710,1034,675,1362,768,1314,1486,1979,561,535,1640,1108,863,1271,1049,984,771,503,545,1264,1432,558,829,733,550,969,1160,827,819,1067,915,911,1320,1422,1591,691,807,1113,1188,805,1236,1387,1860,1907,1489,825,1286,1195,525,1425,981,1236,603,1413,1064,1554,1059,1372,783,1062,1800,1205,816,904,934,874,1689,743,1061,674,1625,907,852,1910,1807,1239,672,1130,1597,1261,1068,1713,686,818,1068,1524,511,1402,919,772,536,1633,551,1576,950,1081,606,1949,1696,1104,1154,1948,1959,1043,1703,1095,1414,1659,1189,516,530,1655,1403,688,1697,741,514,1510,1266,1224,1671,1447,921,831,1851,987,1587,504,1268,999,1100,909,709,1744,1300,1092,1130,708,530,627,713,984,1515,721,697,717,1971,1794,1558,1994,1935,712,1083,1097,740,1053,1174,1528,875,584,912,1365,589,871,1928,831,1901,808,912,1498,882,1549,1991,796,541,1414,1616,539,826,1420,1763,1801,1686,1444,1004,1242,717,1540,672,950,1447,1791,851,951,1448,820,904,630,1811,514,1933,915,1006,1180,1142,1002,1249,1201,776,726,1150,742,772,1130,1183,574,1472,1868,852,1343,595,1650,571,642,875,891,1110,769,1273,1062,1317,1546,793,1110,1897,1202,1171,1973,848,1254,1179,1000,841,1194,986,771,1948,626,1727,1146,535,1619,1002,742,942,1290,548,1083,1969,833,1174,1002,1607,1066,946,657,926,1339,995,581,808,993,733,1514,574,909,1251,1203,527,873,1358,713,1207,594,1565,1052,837,665,1065,958,720,592,969,504,689,1685,1944,648,1702,1571,856,649,1646,1189,1043,1220,1442,868,864,591,1205,713,1544,1367,1179,1549,1799,1837,1027,1259,1969,759,1802,1318,764,1283,719,544,1007,590,1327,686,555,672,659,1667,1191,1201,618,1617,674,794,1512],\"type\":\"box\",\"xaxis\":\"x2\",\"yaxis\":\"y2\"},{\"boxpoints\":\"suspectedoutliers\",\"name\":\"1\",\"notched\":true,\"orientation\":\"h\",\"x\":[842,1821,1859,1815,1131,682,1949,503,1319,725,589,1253,1656,1514,1054,1457,1757,1484,819,1103,1008,1127,1412,1322,593,1732,543,832,783,617,1084,1778,1564,1790,668,1272,1101,843,1692,1692,1840,748,1569,1854,801,1905,596,609,1905,1445,1265,1336,1886,1442,1133,1330,1273,957,708,507,754,728,1992,1054,1281,1611,1281,1839,659,1172,1191,615,1162,1329,1656,1348,1956,1648,1097,1995,972,662,1867,1730,1723,811,654,609,1610,809,1725,1011,930,1874,560,1036,1945,1323,1478,912,651,1483,1456,1197,1048,1772,1464,1472,1654,1448,1844,712,972,1172,664,1986,1845,1077,1579,1949,1225,1337,1661,1846,1417,1074,1039,1128,1217,525,569,1590,707,767,1350,1002,1900,1544,1229,1290,1269,1663,1263,1170,1770,1312,1958,1109,1944,1919,501,1227,1914,946,1231,701,955,924,1762,709,571,1778,1695,723,852,804,706,705,986,1310,560,1744,817,1397,1068,1156,696,1981,1590,1936,1159,1648,1331,1620,1092,891,576,1592,1204,1439,1929,721,918,1593,833,571,510,814,1068,1878,569,1332,1918,1829,1132,1181,1254,868,1284,1763,1265,1624,1027,1048,1496,1991,1428,1584,1382,633,922,1008,1660,1861,1923,1345,904,892,1866,1175,559,1483,860,1090,1963,1881,1986,1099,502,957,1753,1122,504,1218,673,718,864,547,1793,1720,643,1522,1872,1540,518,1449,1076,1044,1869,1331,605,775,1375,1672,989,745,1341,1729,635,1528,1344,564,1285,727,1396,696,1009,1414,1250,618,1271,1299,1129,1068,1524,1093,989,1895,1177,1158,1820,1180,718,1670,1566,913,1449,1796,676,1020,896,627,1602,1426,609,1541,615,1874,1023,1426,1433,643,1142,1510,1538,712,1507,769,507,1384,1407,614,1972,1039,1423,1974,1429,1885,1321,1021,1210,1949,1318,1708,1604,771,1163,1805,794,1973,1731,856,714,1987,1352,1600,1454,1489,1581,1672,688,973,659,1392,531,1450,832,867,1404,1368,510,1576,714,1595,541,1154,603,520,565,1143,1015,881,1186,1762,848,827,1063,834,1081,1128,826,1162,1028,1831,1412,1772,1280,1712,1957,911,940,1494,999,1715,546,1093,826,586,1776,984,557,1129,1057,1862,555,1232,1469,1695,1713,1175,1940,855,1307,1509,1150,1208,1559,1902,1751,1003,1967,962,1379,1504,1125,807,1996,1083,1603,1441,1699,916,1117,1065,1779,511,1044,731,1261,936,508,1936,1329,843,1354,1424,583,1777,1299,793,722,1035,1702,628,683,537,713,1541,877,842,623,1680,983,1745,1142,608,983,1082,1991,1349,1619,1807,955,695,1176,569,1982,1122,1854,718,897,798,1279,748,1561,797,1884,1906,1753,1783,538,915,1483,1614,930,1454,797,1139,1547,586],\"type\":\"box\",\"xaxis\":\"x2\",\"yaxis\":\"y2\"},{\"boxpoints\":\"suspectedoutliers\",\"name\":\"2\",\"notched\":true,\"orientation\":\"h\",\"x\":[1021,563,615,803,961,1453,790,560,1347,1547,1760,1073,1936,1063,1720,702,1407,999,668,1309,1977,1665,1310,909,1701,1166,826,645,1652,1213,1753,786,1216,506,1485,1481,961,1441,1126,625,1577,946,947,1082,1266,1562,640,1526,1989,671,1472,765,1642,1395,1539,1827,1452,1151,1578,528,633,724,1918,893,1210,973,1283,793,1220,1953,1995,1751,1997,1707,1163,1144,1430,1882,803,1391,1560,821,1989,576,667,869,635,1182,848,1828,879,508,1864,775,1482,1809,864,625,1117,1266,1476,1552,1504,1726,1178,755,1178,1503,715,1876,1991,1349,1589,1747,1742,1512,1968,1122,1089,1663,1138,857,1066,1926,1260,512,581,1872,1832,535,1671,1821,1656,1185,737,704,1117,641,1552,1519,723,1758,574,1197,587,1966,612,621,1175,561,1878,1871,1975,1212,539,880,598,972,1225,644,1993,518,920,1841,1315,1762,1583,966,1623,600,638,600,1260,1694,1713,1527,1567,1940,1519,663,1624,614,1807,1536,675,1303,1822,1782,894,798,1996,1018,554,1872,1853,1760,774,1042,1368,1892,1501,1647,967,1442,880,1642,1512,1320,1788,787,854,1973,1438,757,767,994,1550,623,1829,1065,1296,642,1664,1187,1156,841,730,878,1497,1742,1549,1698,899,626,1531,1966,959,1349,582,553,764,894,1589,1631,1596,648,516,774,594,965,683,1694,1371,1658,1681,1983,1632,1674,531,576,812,980,1925,587,1893,1330,1836,1741,1245,1709,846,1396,501,1970,618,680,1106,618,1562,831,1524,1413,802,1923,1193,904,1635,1923,877,1097,1159,1910,865,1930,860,622,763,673,563,1031,1136,1039,511,1030,1009,1735,894,1481,1487,805,582,1898,1820,580,1263,1237,1426,1215,1348,578,1597,1221,989,534,504,1039,1824,586,840,991,1702,1347,1644,1089,730,1766,511,1811,1159,1469,835,947,1332,798,1998,1339,1012,598,818,601,561,1533,1726,948,1328,1617,1303,1550,1759,667,1109,1823,599,1237,602,1342,840,1147,1045,1638,1254,1689,761,1742,1225,1970,1575,1554,1517,963,622,600,733,1070,1994,1330,1660,1611,1410,1562,1211,671,1872,1076,1325,729,895,625,1856,964,1880,1830,1864,1206,1851,513,744,1148,1310,1676,502,1641,623,999,1561,667,1269,1109,645,1288,1487,1630,614,854,1826,1219,695,1470,1306,1424,1934,930,1783,1698,869,1337,637,1248,1831,1010,990,681,1163,987,1673,618,1086,1944,994,1811,765,579,1072,1436,636,930,1250,534,935,1493,1762,925,897,1110,616,1715,1660,1615,1748,1193,1234,1083,1720,1802,1719,965,730,1361,936,772,1056,1830,1602,1405,1396,1749,1588,1600,1788,757,1063,635,1583,640,1913,1379,1784,1262,1965],\"type\":\"box\",\"xaxis\":\"x2\",\"yaxis\":\"y2\"},{\"boxpoints\":\"suspectedoutliers\",\"name\":\"3\",\"notched\":true,\"orientation\":\"h\",\"x\":[1821,769,1520,838,595,772,1709,519,956,1579,1310,1725,1646,1723,596,1654,987,616,1358,1866,1166,1448,1038,1199,1589,1510,1083,1724,1137,1883,1661,1657,1135,1775,1804,1900,772,825,1379,1659,1957,1414,866,1537,1814,1461,742,1356,517,1572,1270,534,1949,959,1502,1934,1831,1490,1523,1308,664,1277,1987,1551,1225,1686,1634,1708,1689,1488,1313,1718,822,1891,1373,1559,1722,1876,1053,1662,1733,1429,612,1563,1893,1563,1517,1595,1937,1464,1414,894,1126,1980,1504,580,1034,1557,1960,1976,825,1108,1703,1334,1187,1880,1138,1712,1836,1860,1375,1896,788,1868,1042,1479,1454,1007,1582,707,1755,1887,1421,685,853,902,1406,932,1128,1583,1653,752,1948,1588,1615,1589,1697,1476,1889,1554,869,1773,687,1062,1059,1606,1928,1875,1748,1413,825,1589,1780,777,793,1408,1168,1288,1366,1572,1627,1701,1900,1853,1164,1512,946,1658,1395,1595,1836,1369,843,1063,1397,570,1112,1994,1926,1677,1027,1793,658,1403,781,1348,1717,1413,1358,1254,1591,977,1188,1108,1702,808,1945,1135,720,1004,1972,1884,802,1276,1030,1741,1849,1149,1911,1786,774,1848,1614,1520,1347,1800,1567,1511,1312,1852,972,1883,839,1722,1954,1628,1965,1808,1368,1161,1224,902,1184,966,1986,1843,840,1498,1673,712,1444,1366,906,1578,1652,912,1790,1112,1005,989,1983,694,979,1558,1485,1231,805,1456,832,1444,1745,862,1754,1569,1807,1379,1330,1778,1359,1046,1035,1688,1456,1373,1777,1270,1977,1221,1000,1119,1699,688,1727,1057,1960,623,1408,1809,1342,1569,1312,1154,1827,1375,808,1542,1735,586,781,1537,1018,1545,1871,1975,1526,1732,815,553,1590,1880,1479,1314,732,921,1816,864,1451,514,603,1164,1240,1317,917,1747,1872,1562,1433,503,1512,1944,1733,1602,1370,1724,860,1278,956,664,888,1077,1496,1095,1924,1825,1275,987,1965,948,1848,1988,1446,1576,1398,1436,1263,1071,1811,1842,610,1924,539,1325,908,1333,1283,659,1134,1927,1714,1796,1497,1425,1617,1806,1834,959,1824,1375,1731,1972,1695,911,844,1335,1883,1837,1770,970,823,1908,790,1776,875,1253,1628,1992,1765,1640,832,1166,1494,1793,1604,1001,1086,1986,634,962,865,612,1362,1843,1768,936,1190,1670,1812,770,1416,1715,1569,1945,1470,1035,1521,1314,673,1606,1958,1890,1152,1849,1922,1564,1982,1285,753,1855,1485,1938,1322,1864,1020,1136,719,1946,1577,1492,1807,1876,1830,648,1494,1289,1445,1766,584,680,1692,1576,1564,1356,1546,1792,1786,1077,1786,914,1920,907,1766,1278,1961,1369,1090,721,1075,684,1494,709,689,1872,591,1023,732,1035,1522,727,1515,1589,1976,816,1157,1829,1882,1467,858,1911,510],\"type\":\"box\",\"xaxis\":\"x2\",\"yaxis\":\"y2\"},{\"boxpoints\":\"suspectedoutliers\",\"name\":\"0\",\"notched\":true,\"orientation\":\"h\",\"x\":[1149,836,1224,563,1864,788,1263,654,881,1652,1433,1449,975,547,1225,1026,1413,1071,778,741,802,1105,891,961,520,902,1974,989,1398,1539,1042,616,536,590,1989,826,1272,1729,648,1065,831,500,1235,589,1077,1235,1499,642,1178,1615,1606,1383,1758,1038,1604,1882,765,1980,952,1517,1571,1247,662,888,1294,1243,566,515,882,1975,1130,709,557,775,1370,994,1078,1292,1688,939,1381,1565,1331,992,1186,681,814,1247,1350,559,956,1495,1205,1441,817,1058,1133,889,1905,1158,899,867,998,1989,799,793,1078,548,1649,1262,1090,870,1393,750,1663,861,1763,915,1354,1450,1665,760,1100,676,1813,1949,1722,545,1463,1100,809,1306,1536,1509,1022,781,1285,583,904,1383,906,1315,1033,901,1308,747,935,1652,1031,1478,1353,1703,1935,721,1048,1873,1630,857,1293,757,1505,991,577,1747,1532,1294,811,1301,1742,1799,650,1564,1611,922,1291,1452,849,947,1605,1916,1409,1930,589,859,821,822,1009,1448,670,1229,926,1641,962,697,1312,1469,704,809,1151,799,1513,812,783,662,1001,670,1897,688,1403,1968,1481,1569,1367,1545,937,1263,1435,1108,614,558,507,1190,1248,674,1659,1330,772,1219,507,730,1284,974,661,1143,1261,1667,1591,1910,890,1392,510,875,635,622,1767,570,1471,705,906,1916,631,843,519,1152,1178,772,1413,1801,571,1055,1626,521,1247,1564,1515,932,1401,1090,1348,1623,869,1046,594,1320,1170,1595,709,1263,1455,1229,1239,1967,565,874,1195,912,745,1344,773,1422,1558,1037,571,1579,620,1012,507,1378,707,1593,1988,1477,1106,922,627,1385,711,860,1743,1469,519,1147,1261,1461,564,1316,1622,1310,970,1858,1437,1004,621,1662,974,794,1167,884,1162,613,518,1226,1233,1133,967,530,1393,1893,1708,1073,1340,581,1796,1981,831,1267,1681,1062,682,1007,935,1144,694,1496,1448,1132,1492,1473,1316,991,540,855,512,1193,1723,1803,978,800,925,1802,1327,1010,1364,892,884,1349,1205,816,881,1536,1775,853,1435,1262,1780,1399,817,542,1491,1196,1950,738,1742,755,851,1294,1372,1429,833,675,509,679,1247,700,1759,1288,583,1775,1180,1007,1288,1532,742,1657,503,764,1290,1244,1111,1005,1504,891,1905,793,1441,1889,565,529,1639,1739,538,1334,1643,591,510,1924,1411,1635,1477,681,528,1364,1839,1831,1804,1948,751,1234,970,909,1129,722,1429,1079,1811,1351,956,1931,1551,1608,615,893,1249,642,1311,1436,1726,1870,1123,844,642,1451,990,1386,872,534,1989,756,1317,590,661,539,980,1141,610,831,509,1721,745,1010,1127,657,1396,807,558,724,1426,1809,1890,670],\"type\":\"box\",\"xaxis\":\"x3\",\"yaxis\":\"y3\"},{\"boxpoints\":\"suspectedoutliers\",\"name\":\"1\",\"notched\":true,\"orientation\":\"h\",\"x\":[756,1212,1654,748,878,1064,822,1245,1152,1249,815,714,1456,1810,774,1287,713,969,1242,1486,1122,1049,1894,1990,1317,881,984,1504,1471,874,771,1954,1965,792,1056,669,1269,800,1996,1925,1545,1554,1942,627,879,898,984,1948,1542,1345,836,583,1958,687,1543,1441,886,1485,654,1398,1928,1529,1596,1222,1617,714,954,1493,1929,1092,683,1664,997,1458,519,1942,776,1876,1914,1104,1795,1224,1442,1023,1361,1429,1898,1253,1280,1726,1195,749,1025,1233,1903,926,1753,619,882,1053,858,758,1104,1629,1975,545,1341,1744,1719,1850,882,1208,1050,1884,1497,1358,695,1304,1484,592,982,644,1337,773,1029,952,1827,1582,632,1587,739,963,1508,1000,544,1416,1596,857,1878,1109,1920,1545,1883,684,1552,1854,637,1787,1970,1191,1089,1781,1701,630,1184,1256,1511,1813,527,1596,1282,516,1898,1748,1159,818,938,1374,800,1016,1327,718,766,1658,1998,1262,907,1234,1595,1089,723,1238,1226,1339,1424,1724,1518,522,1482,932,1051,1862,671,1336,1395,783,1228,1406,1500,1026,1159,1165,1203,563,1293,831,1956,1026,516,806,687,1744,714,1670,506,1377,983,1291,719,1915,1808,1972,1165,1877,1759,1465,760,1782,1782,1394,823,1552,1463,1910,1813,1553,1520,1096,1810,1682,1595,1963,1795,1746,1088,830,1805,541,722,646,1079,1191,1767,822,710,1883,1300,1262,874,1531,656,1555,772,1896,1069,1538,574,1178,989,1762,556,1737,500,1377,1843,797,1043,887,1011,896,1788,1838,1079,1499,740,807,804,1335,1923,1796,1951,1252,1387,1886,1930,1144,947,798,1011,1613,1469,819,1062,1694,1524,1052,1958,1418,1744,1163,784,1400,1766,1520,986,1309,888,1454,1084,1210,1206,603,952,1878,640,1496,1552,1517,941,1793,1039,1182,1591,1345,1156,1781,1076,891,1376,507,1039,1027,1527,1925,1299,1713,910,1759,850,1435,1957,588,730,1098,1657,1639,1431,724,1880,925,1897,1551,1857,1988,1873,1240,1284,519,703,1724,679,636,584,790,527,826,849,1463,816,1226,1183,866,1923,1790,660,1405,588,663,1727,763,1090,1003,1970,1849,1658,1420,1615,1118,623,1931,710,1702,891,1046,1970,761,711,1208,1963,557,1809,1196,1103,1684,1947,1028,681,877,1952,1905,1374,1916,755,1853,939,829,1083,1164,1207,954,1099,1393,1035,1722,1717,1264,1263,1032,1429,938,1195,1021,682,732,918,1663,1794,874,908,1006,1371,1709,1643,1534,1135,1430,1760,1656,1985,730,1238,1231,1205,1629,769,1351,1176,724,1037,623,562,1814,1254,1211,1455,605,593,1163,718,997,994,1951,1633,709,874,1466,1179,629,1983,1979,537,986,651,1219,1289,1018,1167,999,957,854],\"type\":\"box\",\"xaxis\":\"x3\",\"yaxis\":\"y3\"},{\"boxpoints\":\"suspectedoutliers\",\"name\":\"2\",\"notched\":true,\"orientation\":\"h\",\"x\":[1988,1716,1786,1440,1434,1311,730,1613,967,1832,1383,804,1036,683,1353,1570,1217,1616,1203,1402,1242,1684,513,973,1338,1203,786,580,1264,1248,1926,1697,1967,1025,1013,1533,621,1071,1611,842,1737,1740,1220,1191,1698,1533,1179,751,1497,1182,1052,1429,873,705,1666,1020,1040,1560,1226,637,1009,1754,1543,946,1462,1816,692,1935,1933,764,1963,564,1212,1388,754,724,1182,652,935,1256,1364,1786,682,1438,1463,1584,1059,986,1029,898,1038,1920,981,1510,642,721,1670,550,817,1468,1666,1026,973,1223,596,990,1352,1304,562,585,1325,772,1743,1131,681,884,1259,790,1259,1439,1777,948,1586,1157,1313,1849,1613,1259,654,939,848,1803,899,1642,1463,1013,1627,759,658,1239,1901,1864,1171,1710,1793,1987,1337,910,1501,1176,559,1682,655,1715,599,1302,1173,816,1101,1654,510,1947,1421,672,575,1364,1651,1754,1832,1465,1383,1162,736,549,974,1116,1621,858,1702,1605,699,519,1384,1634,874,1604,910,999,1300,643,1445,883,806,1484,1005,1704,1865,1018,829,1564,1056,1185,1642,1668,660,1889,952,1583,1073,1423,1152,1181,867,697,1995,530,832,672,1267,928,1382,1011,1929,1125,1913,828,1155,618,1933,1469,1514,1819,1638,1334,765,1973,736,1019,1420,1517,511,541,940,1735,1190,1997,698,1731,1263,653,1985,1208,663,739,1005,676,1623,1649,1903,893,1309,1758,1087,1361,1432,1637,1068,755,1434,1292,1983,1347,1636,882,1781,1500,1212,1602,728,1490,550,1606,734,1264,864,1014,1411,525,652,1352,751,639,1804,1920,1581,511,1278,1247,684,1247,1767,618,759,551,1841,876,747,522,768,1544,1702,739,1884,898,1609,603,1032,1473,741,1134,1145,1899,679,1477,1539,544,1738,598,1728,1678,1931,1528,791,1409,846,1306,1285,568,1206,1850,1378,887,855,627,1356,1269,1195,764,1552,1827,865,1393,1804,1728,1156,1079,1873,1619,1163,870,1103,1250,646,1004,1717,620,1591,1134,1564,563,1021,675,1945,1407,1567,1684,818,1492,1645,821,1964,1032,1787,1614,1546,892,569,1011,1311,1776,963,1617,1088,1718,695,1055,1575,1771,1155,1234,1983,1583,1545,1713,1175,710,1963,688,970,1197,1159,1994,844,1641,1811,1947,1036,833,584,1503,989,1726,1040,1148,1633,1698,1829,1988,1258,1199,1127,1763,1566,508,533,1029,1289,1686,1113,957,1717,1702,818,736,679,1586,1150,712,839,614,1851,1517,877,1411,742,1726,1020,1220,1087,1414,704,1520,1852,1455,513,1676,1777,678,1109,1904,725,542,896,963,520,1275,1677,1382,1686,1805,979,1353,1800,1036,1177,775,822,1710,1022,819,582,1299,1673,1353,742,885,1437,737,1965],\"type\":\"box\",\"xaxis\":\"x3\",\"yaxis\":\"y3\"},{\"boxpoints\":\"suspectedoutliers\",\"name\":\"3\",\"notched\":true,\"orientation\":\"h\",\"x\":[1018,874,1005,1850,810,1854,1385,645,1075,1739,1919,1307,1932,1791,1854,629,820,1618,1858,1781,603,1724,638,1552,1206,1752,1118,1924,1179,1739,1634,1796,1846,1869,1244,1661,1712,863,1376,902,1732,829,1686,1131,786,1298,1359,1983,974,1937,845,1199,1136,1631,588,1299,1381,1464,539,1215,1478,1460,1516,1995,1404,1453,1677,517,1200,1647,1308,980,860,1108,673,1559,1741,1564,1767,1509,527,820,1891,1699,763,572,1489,655,1767,1168,1118,1462,1726,1910,1923,1345,1199,1442,1299,1922,1866,1706,1711,1974,1814,699,1138,1126,1139,1506,726,794,1161,660,1705,1476,1033,1529,1797,574,1075,1798,1657,1203,740,1285,1366,1224,1370,862,1785,728,1940,1594,1256,1911,1264,1972,1106,1579,539,1472,1151,1807,1916,1924,1580,1942,1234,517,1917,1759,1463,1143,1815,1088,1578,1809,964,1237,1082,828,1241,1951,1704,1897,1771,522,1787,1838,1230,727,1096,1232,1991,1917,739,1435,1000,1477,1747,1418,1750,1251,1674,501,810,1318,1655,1013,1883,1862,1558,1666,1491,1891,895,1589,1733,1162,1648,819,1633,735,1812,1895,1123,1675,1958,1671,896,605,1330,1909,1008,823,1326,1982,893,1163,589,791,1391,1638,690,643,1660,1208,1145,1169,563,1360,1577,1523,774,580,1081,1076,734,1234,1554,1876,1793,670,1084,1723,1980,1119,1556,1394,1197,1230,1670,1409,774,1663,1538,1666,1366,917,1908,1977,1452,930,1968,671,1304,1445,1902,1040,1960,864,1427,1348,616,1716,1356,1976,1761,915,1768,1964,1992,1055,877,1781,982,1661,1638,1383,1791,1827,1764,1687,1324,966,846,1389,607,1305,1433,1352,1966,1607,1418,656,1291,1892,1109,1019,645,1858,1554,1469,1089,1378,1456,1723,1057,1656,1756,613,909,873,1389,1676,1651,1688,1838,1362,997,1746,1783,828,979,1504,1614,1472,1683,1892,1383,1066,1923,1773,501,1274,676,1654,533,696,1769,1386,1284,1836,644,1970,1553,1227,1273,686,1709,1915,941,1301,1923,1877,903,1506,627,1363,977,1648,676,727,1987,1331,1105,679,1988,804,1742,1692,1995,559,915,1539,1373,1786,1350,1046,1437,1803,969,647,1713,895,1175,1806,1944,638,1190,1459,1042,1836,1976,599,1853,1424,1009,1487,1042,832,1814,1677,1646,1330,1550,1483,1578,1375,665,1540,1090,1171,1630,512,1570,770,1848,1832,1673,1986,1882,1115,1873,1896,1316,1161,1023,1935,708,1793,1482,1030,1727,1849,1432,1746,1415,1211,1882,1817,1177,1854,1393,1227,1343,1418,1904,789,1962,951,1317,1913,865,1079,912,840,1152,896,1318,1775,1888,1469,1670,1255,1769,1738,790,1531,823,1879,1603,1985,1836,1912,1696,711,1247,1397,1933,1651,1798,1919,743,1099,1416,1632,754],\"type\":\"box\",\"xaxis\":\"x3\",\"yaxis\":\"y3\"},{\"boxpoints\":\"suspectedoutliers\",\"name\":\"0\",\"notched\":true,\"orientation\":\"h\",\"x\":[512.0,386.0,1137.0,356.0,862.0,466.0,1171.0,413.0,311.0,1580.0,1025.0,822.0,361.0,322.0,459.0,160.0,763.0,1040.0,166.0,96.0,769.0,403.0,651.0,476.0,320.0,325.0,70.0,275.0,713.0,1386.0,304.0,229.0,436.0,583.0,1125.0,747.0,811.0,730.0,433.0,218.0,564.0,420.0,286.0,295.0,199.0,1230.0,541.0,404.0,262.0,638.0,148.0,632.0,793.0,246.0,323.0,707.0,356.0,912.0,156.0,344.0,1242.0,302.0,235.0,630.0,311.0,221.0,63.0,418.0,178.0,454.0,741.0,474.0,39.0,584.0,207.0,363.0,209.0,195.0,1314.0,134.0,1116.0,1010.0,788.0,188.0,1028.0,79.0,96.0,493.0,30.0,77.0,264.0,191.0,195.0,1417.0,126.0,228.0,398.0,449.0,177.0,1013.0,765.0,619.0,130.0,494.0,281.0,6.0,268.0,509.0,494.0,980.0,902.0,725.0,1142.0,581.0,683.0,536.0,418.0,129.0,1213.0,1087.0,767.0,666.0,186.0,416.0,179.0,1350.0,27.0,250.0,1111.0,163.0,361.0,338.0,1052.0,1108.0,473.0,464.0,1250.0,385.0,240.0,1016.0,569.0,1131.0,832.0,446.0,897.0,320.0,295.0,79.0,693.0,91.0,58.0,181.0,1311.0,706.0,871.0,1074.0,833.0,485.0,182.0,192.0,553.0,637.0,113.0,1430.0,1331.0,1055.0,290.0,589.0,208.0,717.0,613.0,39.0,1036.0,327.0,778.0,381.0,562.0,209.0,997.0,91.0,445.0,486.0,491.0,762.0,448.0,438.0,965.0,532.0,461.0,123.0,1.0,548.0,951.0,667.0,1047.0,1150.0,641.0,517.0,785.0,195.0,713.0,172.0,540.0,18.0,327.0,82.0,150.0,75.0,492.0,1597.75,1323.0,1175.0,319.0,519.0,687.0,458.0,798.0,191.0,573.0,149.0,42.0,521.0,442.0,521.0,1587.0,138.0,750.0,8.0,171.0,538.0,985.0,970.0,590.0,578.0,88.0,64.0,858.0,1405.0,237.0,1109.0,111.0,322.0,629.0,140.0,1081.0,275.0,741.0,547.0,146.0,169.0,400.0,774.0,284.0,465.0,951.0,179.0,653.0,251.0,477.0,65.0,716.0,134.0,179.0,804.0,787.0,379.0,855.0,818.0,626.0,217.0,271.0,88.0,334.0,168.0,118.0,1187.0,622.0,398.0,737.0,1211.0,172.0,293.0,412.0,299.0,626.0,360.0,20.0,919.0,290.0,570.0,621.0,219.0,468.0,1495.0,206.0,48.0,211.0,1211.0,531.0,1438.0,1446.0,478.0,217.0,485.0,43.0,322.0,667.0,806.0,1131.0,925.0,405.0,935.0,419.0,1097.0,306.0,300.0,1123.0,995.0,293.0,759.0,194.0,229.0,511.0,3.0,496.0,724.0,111.0,248.0,632.0,366.0,174.0,1012.0,294.0,151.0,958.0,354.0,194.0,238.0,100.0,599.0,1274.0,62.0,315.0,1597.75,318.0,574.0,86.0,963.0,371.0,788.0,854.0,846.0,468.0,1094.0,66.0,204.0,1083.0,229.0,875.0,35.0,168.0,534.0,285.0,605.0,1151.0,991.0,323.0,397.0,875.0,552.0,593.0,268.0,382.0,443.0,576.0,683.0,1063.0,623.0,773.0,31.0,887.0,469.0,40.0,1179.0,1385.0,485.0,571.0,431.0,1138.0,15.0,961.0,630.0,404.0,248.0,699.0,7.0,1288.0,913.0,461.0,125.0,494.0,199.0,776.0,651.0,737.0,376.0,73.0,398.0,813.0,948.0,1161.0,754.0,405.0,657.0,295.0,332.0,649.0,744.0,115.0,776.0,53.0,273.0,705.0,84.0,833.0,258.0,523.0,119.0,424.0,950.0,306.0,94.0,410.0,308.0,35.0,67.0,1257.0,889.0,123.0,406.0,407.0,781.0,1191.0,638.0,496.0,1188.0,730.0,366.0,332.0,167.0,881.0,487.0,120.0,634.0,931.0,921.0,805.0,1057.0,344.0,211.0,79.0,887.0,383.0,266.0,40.0,262.0,952.0,321.0,1048.0,470.0,36.0,85.0,167.0,617.0,786.0,338.0,1210.0,390.0,110.0,253.0,183.0,52.0,510.0,405.0,227.0,479.0,227.0,441.0,64.0,956.0,724.0,190.0,1211.0,42.0,306.0,591.0,743.0,576.0,1222.0,336.0],\"type\":\"box\",\"xaxis\":\"x4\",\"yaxis\":\"y4\"},{\"boxpoints\":\"suspectedoutliers\",\"name\":\"1\",\"notched\":true,\"orientation\":\"h\",\"x\":[20.0,1208.0,1004.0,607.0,658.0,902.0,407.0,201.0,85.0,1134.0,429.0,685.0,880.0,186.0,27.0,1013.0,265.0,916.0,339.0,990.0,1077.0,928.0,516.0,177.0,1233.0,824.0,391.0,125.0,1198.0,768.0,322.0,1445.0,1259.0,622.0,522.0,605.0,387.0,140.0,975.0,674.0,311.0,450.0,45.0,506.0,650.0,849.0,953.0,938.0,825.0,1273.0,690.0,55.0,809.0,231.0,730.0,1290.0,490.0,1201.0,78.0,936.0,1869.75,526.0,1552.0,1097.0,1285.0,303.0,590.0,475.0,1054.0,607.0,681.0,104.0,56.0,1053.0,506.0,1869.0,185.0,1153.0,419.0,649.0,1392.0,1001.0,712.0,418.0,384.0,333.0,1715.0,58.0,1236.0,1453.0,1125.0,481.0,77.0,964.0,356.0,373.0,743.0,162.0,694.0,329.0,548.0,531.0,823.0,649.0,966.0,270.0,418.0,1452.0,1184.0,1792.0,533.0,558.0,681.0,1314.0,754.0,282.0,292.0,897.0,831.0,518.0,840.0,48.0,594.0,83.0,364.0,946.0,1428.0,751.0,628.0,262.0,389.0,920.0,1027.0,271.0,369.0,1345.0,912.0,236.0,120.0,600.0,1597.0,951.0,178.0,427.0,886.0,1233.0,304.0,1391.0,1060.0,304.0,504.0,935.0,942.0,159.0,632.0,1002.0,1248.0,108.0,300.0,1545.0,177.0,88.0,1791.0,920.0,293.0,709.0,543.0,1114.0,471.0,806.0,80.0,68.0,722.0,433.0,186.0,1214.0,649.0,193.0,1464.0,591.0,681.0,1119.0,1109.0,434.0,1404.0,375.0,757.0,510.0,480.0,626.0,349.0,408.0,653.0,761.0,359.0,224.0,382.0,1092.0,994.0,210.0,351.0,758.0,381.0,291.0,1091.0,385.0,1571.0,276.0,160.0,138.0,275.0,1530.0,152.0,29.0,501.0,751.0,584.0,160.0,612.0,709.0,1295.0,825.0,76.0,1698.0,767.0,512.0,56.0,655.0,358.0,873.0,541.0,361.0,335.0,1638.0,1136.0,477.0,236.0,393.0,705.0,38.0,387.0,1578.0,280.0,1122.0,594.0,518.0,663.0,371.0,586.0,409.0,442.0,952.0,1749.0,704.0,489.0,1518.0,545.0,42.0,163.0,1162.0,329.0,444.0,227.0,1281.0,46.0,89.0,473.0,461.0,193.0,454.0,419.0,853.0,475.0,813.0,173.0,533.0,912.0,130.0,703.0,879.0,1260.0,1333.0,1070.0,935.0,184.0,238.0,670.0,725.0,945.0,311.0,1157.0,925.0,1185.0,1706.0,1603.0,431.0,211.0,667.0,864.0,870.0,1379.0,447.0,273.0,1573.0,113.0,796.0,1021.0,1238.0,5.0,715.0,420.0,314.0,739.0,963.0,567.0,1245.0,682.0,1384.0,17.0,983.0,925.0,409.0,293.0,384.0,501.0,530.0,670.0,1406.0,817.0,901.0,329.0,837.0,688.0,263.0,641.0,1709.0,919.0,758.0,312.0,127.0,142.0,395.0,643.0,960.0,629.0,831.0,903.0,923.0,693.0,1250.0,376.0,105.0,659.0,482.0,158.0,1573.0,343.0,289.0,1703.0,907.0,1052.0,410.0,1750.0,1475.0,1836.0,539.0,1003.0,264.0,543.0,1116.0,335.0,115.0,68.0,643.0,56.0,23.0,394.0,1421.0,83.0,938.0,1077.0,332.0,1801.0,1693.0,2.0,837.0,356.0,155.0,1194.0,157.0,499.0,944.0,608.0,114.0,416.0,1310.0,778.0,785.0,278.0,56.0,322.0,1128.0,397.0,386.0,214.0,625.0,484.0,308.0,108.0,90.0,588.0,1028.0,897.0,1010.0,234.0,691.0,117.0,766.0,1499.0,190.0,518.0,1618.0,98.0,395.0,774.0,245.0,937.0,937.0,430.0,254.0,105.0,1147.0,495.0,760.0,1225.0,367.0,1230.0,424.0,605.0,657.0,102.0,570.0,380.0,593.0,297.0,1399.0,1658.0,553.0,46.0,818.0,138.0,831.0,1284.0,1047.0,927.0,1041.0,103.0,536.0,1064.0,348.0,484.0,679.0,948.0,426.0,623.0,4.0,1001.0,398.0,298.0,212.0,46.0,1332.0,428.0,789.0,674.0,388.0,287.0,675.0,665.0,662.0,0.0,661.0,560.0,88.0,662.0,888.0,1168.0,3.0,1652.0,1081.0,455.0,503.0,291.0,173.0,1017.0,698.0,206.0,742.0,347.0,241.0],\"type\":\"box\",\"xaxis\":\"x4\",\"yaxis\":\"y4\"},{\"boxpoints\":\"suspectedoutliers\",\"name\":\"2\",\"notched\":true,\"orientation\":\"h\",\"x\":[905.0,1263.0,1216.0,344.0,291.0,187.0,347.0,1448.0,434.0,1042.0,1382.0,690.0,667.0,127.0,753.0,504.0,1172.0,1397.0,666.0,557.0,1226.0,1572.0,117.0,635.0,550.0,59.0,179.0,327.0,313.0,226.0,1590.0,507.0,1852.0,875.0,510.0,116.0,554.0,577.0,1223.0,635.0,1045.0,650.0,1176.0,986.0,1365.0,642.0,710.0,718.0,1100.0,852.0,710.0,1277.0,129.0,213.0,1112.0,55.0,42.0,1022.0,411.0,574.0,529.0,1273.0,1170.0,417.0,1177.0,457.0,372.0,1858.0,403.0,555.0,1830.0,170.0,866.0,1331.0,520.0,159.0,1132.0,119.0,627.0,14.0,745.0,253.0,629.0,513.0,13.0,1243.0,300.0,275.0,176.0,336.0,463.0,1419.0,168.0,561.0,634.0,639.0,127.0,431.0,798.0,346.0,1641.0,269.0,507.0,379.0,579.0,315.0,96.0,841.0,21.0,235.0,1058.0,592.0,810.0,947.0,453.0,205.0,861.0,331.0,636.0,831.0,233.0,157.0,401.0,982.0,905.0,249.0,803.0,459.0,186.0,710.0,263.0,97.0,320.0,837.0,781.0,251.0,1258.0,417.0,430.0,168.0,1467.0,762.0,286.0,214.0,612.0,1197.0,1294.0,434.0,137.0,492.0,183.0,88.0,80.0,611.0,551.0,436.0,680.0,687.0,217.0,1140.0,150.0,437.0,1058.0,593.0,59.0,1103.0,942.0,1446.0,1568.0,501.0,1171.0,207.0,165.0,377.0,729.0,526.0,545.0,112.0,1122.0,82.0,689.0,22.0,337.0,22.0,482.0,229.0,172.0,867.0,286.0,526.0,671.0,856.0,85.0,286.0,985.0,273.0,1713.0,68.0,698.0,1399.0,198.0,193.0,243.0,1626.0,632.0,1686.0,333.0,103.0,472.0,806.0,518.0,792.0,859.0,535.0,517.0,491.0,268.0,144.0,729.0,188.0,1222.0,331.0,1178.0,215.0,945.0,546.0,1096.0,575.0,1920.0,1134.0,721.0,485.0,641.0,90.0,625.0,1242.0,87.0,648.0,985.0,993.0,361.0,104.0,618.0,960.0,169.0,819.0,126.0,1480.0,1011.0,297.0,954.0,1194.0,471.0,51.0,850.0,349.0,706.0,1432.0,145.0,847.0,35.0,1008.0,983.0,244.0,1203.0,1103.0,168.0,719.0,330.0,956.0,1140.0,1191.0,239.0,654.0,853.0,1428.0,614.0,1105.0,480.0,1482.0,154.0,314.0,527.0,874.0,674.0,657.0,1209.0,15.0,457.0,1277.0,378.0,333.0,805.0,1901.0,1573.0,98.0,273.0,1109.0,211.0,532.0,1307.0,497.0,24.0,503.0,267.0,149.0,158.0,249.0,140.0,81.0,1043.0,444.0,202.0,404.0,954.0,274.0,777.0,454.0,468.0,626.0,880.0,765.0,614.0,347.0,1207.0,62.0,1055.0,116.0,526.0,1209.0,1240.0,398.0,358.0,211.0,62.0,439.0,149.0,447.0,717.0,1699.0,396.0,193.0,846.0,497.0,50.0,212.0,882.0,118.0,586.0,818.0,426.0,1054.0,1221.0,340.0,602.0,274.0,1335.0,1541.0,382.0,272.0,165.0,362.0,103.0,18.0,1571.0,127.0,1482.0,1085.0,1078.0,440.0,204.0,467.0,1325.0,356.0,10.0,1399.0,492.0,699.0,570.0,742.0,760.0,486.0,202.0,90.0,86.0,194.0,440.0,163.0,192.0,1032.0,58.0,614.0,672.0,1088.0,499.0,563.0,126.0,203.0,277.0,225.0,930.0,460.0,225.0,1581.0,174.0,282.0,1252.0,606.0,954.0,134.0,281.0,224.0,778.0,342.0,885.0,1015.0,406.0,124.0,278.0,988.0,857.0,712.0,1012.0,730.0,973.0,1419.0,1649.0,1790.0,867.0,181.0,242.0,1569.0,910.0,26.0,519.0,161.0,1080.0,71.0,437.0,547.0,1466.0,371.0,728.0,419.0,214.0,1175.0,56.0,313.0,296.0,358.0,1364.0,808.0,380.0,189.0,148.0,1050.0,11.0,911.0,639.0,240.0,525.0,1262.0,547.0,800.0,347.0,1224.0,223.0,542.0,718.0,1442.0,209.0,523.0,334.0,453.0,417.0,645.0,1371.0,881.0,1330.0,317.0,914.0,773.0,1325.0,284.0,560.0,470.0,146.0,1315.0,149.0,114.0,201.0,599.0,1171.0,976.0,675.0,838.0,610.0,223.0,915.0],\"type\":\"box\",\"xaxis\":\"x4\",\"yaxis\":\"y4\"},{\"boxpoints\":\"suspectedoutliers\",\"name\":\"3\",\"notched\":true,\"orientation\":\"h\",\"x\":[381.0,248.0,151.0,984.0,441.0,1314.0,974.0,550.0,511.0,1358.0,178.0,609.0,1725.0,202.0,885.0,546.0,581.0,651.0,1565.0,108.0,205.0,570.0,4.0,1168.0,319.0,708.0,1025.0,1605.0,942.0,836.0,846.0,1770.0,293.0,1633.0,1158.0,1055.0,1242.0,597.0,538.0,819.0,396.0,262.0,692.0,839.0,756.0,1265.0,577.0,1612.0,660.0,1109.0,299.0,393.0,839.0,561.0,65.0,619.0,611.0,1417.0,247.0,59.0,701.0,309.0,1052.0,1738.0,759.0,397.0,964.0,233.0,954.0,1528.0,416.0,564.0,667.0,169.0,105.0,179.0,865.0,546.0,594.0,32.0,357.0,246.0,1360.0,142.0,637.0,410.0,802.0,344.0,1728.0,854.0,44.0,1285.0,114.0,312.0,19.0,1086.0,707.0,1107.0,205.0,1301.0,1471.0,130.0,1411.0,1187.0,1173.0,71.0,111.0,747.0,408.0,1362.0,475.0,447.0,42.0,347.0,727.0,180.0,250.0,1186.0,1486.0,495.0,286.0,1172.0,781.0,1091.0,674.0,675.0,1017.0,1176.0,609.0,275.0,447.0,164.0,631.0,1064.0,622.0,957.0,236.0,1789.0,170.0,395.0,478.0,1215.0,584.0,1596.0,1613.0,1127.0,691.0,1802.0,859.0,187.0,206.0,1673.0,1331.0,189.0,1226.0,613.0,159.0,1177.0,402.0,577.0,52.0,364.0,934.0,202.0,729.0,1079.0,1698.0,410.0,782.0,1024.0,276.0,553.0,981.0,1208.0,1308.0,1331.0,234.0,447.0,371.0,271.0,1698.0,1086.0,1156.0,461.0,304.0,204.0,609.0,1039.0,1485.0,462.0,1384.0,1502.0,1339.0,1298.0,1397.0,618.0,280.0,690.0,1347.0,901.0,715.0,451.0,1299.0,217.0,1111.0,730.0,606.0,1617.0,1795.0,231.0,8.0,154.0,860.0,109.0,961.0,400.0,190.0,1455.0,95.0,580.0,297.0,531.0,564.0,1179.0,673.0,412.0,977.0,714.0,843.0,308.0,522.0,364.0,519.0,214.0,342.0,118.0,987.0,347.0,65.0,881.0,1092.0,647.0,1102.0,342.0,352.0,165.0,396.0,777.0,176.0,256.0,370.0,983.0,793.0,120.0,341.0,43.0,1262.0,815.0,820.0,624.0,1164.0,829.0,199.0,519.0,1734.0,387.0,462.0,1028.0,1692.0,259.0,236.0,650.0,1285.0,1220.0,511.0,1512.0,1145.0,1895.0,1537.0,821.0,466.0,426.0,1463.0,416.0,868.0,1749.0,875.0,433.0,991.0,1261.0,115.0,1003.0,253.0,898.0,526.0,346.0,137.0,1226.0,368.0,686.0,992.0,115.0,275.0,775.0,798.0,201.0,982.0,1287.0,1058.0,890.0,327.0,328.0,1163.0,1272.0,800.0,1362.0,812.0,956.0,692.0,1107.0,1511.0,179.0,423.0,800.0,81.0,678.0,1619.0,1495.0,220.0,1111.0,590.0,1259.0,1392.0,655.0,692.0,1244.0,403.0,1076.0,327.0,135.0,549.0,838.0,1438.0,1621.0,19.0,887.0,584.0,257.0,195.0,153.0,351.0,1213.0,755.0,1826.0,409.0,1328.0,1099.0,783.0,1039.0,122.0,1123.0,1353.0,154.0,394.0,1135.0,924.0,18.0,491.0,287.0,1024.0,98.0,396.0,283.0,347.0,0.0,1313.0,50.0,596.0,809.0,290.0,713.0,1563.0,777.0,83.0,203.0,1420.0,1098.0,1765.0,1180.0,140.0,1100.0,1563.0,902.0,161.0,500.0,649.0,835.0,664.0,9.0,437.0,979.0,655.0,68.0,922.0,1874.0,251.0,1362.0,546.0,335.0,1145.0,600.0,21.0,1303.0,150.0,1399.0,1117.0,380.0,603.0,1175.0,674.0,371.0,1064.0,777.0,574.0,678.0,82.0,1096.0,157.0,1524.0,1438.0,1304.0,978.0,725.0,117.0,764.0,1791.0,606.0,267.0,371.0,1299.0,443.0,1279.0,919.0,961.0,431.0,647.0,116.0,1684.0,1221.0,600.0,1191.0,1153.0,207.0,713.0,527.0,125.0,919.0,686.0,1899.0,258.0,1619.0,782.0,91.0,1626.0,74.0,334.0,616.0,740.0,670.0,144.0,291.0,1352.0,861.0,1451.0,1217.0,655.0,271.0,159.0,449.0,119.0,256.0,1546.0,892.0,367.0,1661.0,757.0,533.0,664.0,747.0,776.0,652.0,1196.0,1694.0,1457.0,4.0,888.0,528.0,868.0,483.0],\"type\":\"box\",\"xaxis\":\"x4\",\"yaxis\":\"y4\"},{\"boxpoints\":\"suspectedoutliers\",\"name\":\"0\",\"notched\":true,\"orientation\":\"h\",\"x\":[187,174,93,185,159,114,200,150,157,110,162,148,144,159,165,142,90,197,172,182,103,83,132,141,199,121,135,199,100,182,155,147,134,166,97,109,124,166,93,113,178,92,192,166,135,91,181,133,111,83,129,107,165,105,101,131,154,168,191,175,114,89,177,187,108,80,181,113,191,177,184,199,94,101,83,160,115,114,86,191,194,175,172,195,92,135,151,166,173,173,171,100,158,186,111,134,123,135,198,183,178,186,109,122,133,153,104,101,114,83,200,174,124,104,176,119,192,119,193,161,166,101,160,123,169,113,83,80,112,82,169,198,88,80,196,142,173,193,122,188,179,125,185,107,123,112,95,171,132,182,81,179,192,147,128,198,165,151,190,144,131,159,155,85,176,193,113,169,169,133,159,172,98,86,185,131,171,164,142,129,174,145,124,166,160,83,146,187,181,144,112,161,108,158,145,198,97,188,98,83,105,200,94,98,80,190,127,136,143,156,128,184,185,182,193,150,151,87,175,198,168,182,185,168,95,109,93,107,151,147,115,155,122,95,132,89,90,124,104,91,177,197,124,175,87,159,100,135,111,172,90,156,99,146,145,97,199,156,135,191,111,92,197,137,88,198,91,118,105,90,89,90,178,186,138,86,139,179,155,83,86,198,192,148,178,182,167,112,97,81,158,156,167,101,116,88,142,181,140,184,194,173,198,186,86,114,88,124,99,126,181,123,126,91,156,110,168,84,125,146,178,162,177,131,185,182,191,151,113,82,114,200,168,100,86,135,100,184,120,182,103,160,166,99,157,99,124,184,110,101,81,100,160,147,180,115,141,154,91,135,90,190,185,140,198,146,94,151,104,134,130,120,118,169,179,160,81,122,89,101,86,146,153,192,112,178,124,154,124,124,153,154,122,167,193,103,134,154,135,81,165,182,157,136,109,158,111,190,117,180,139,91,110,146,156,85,145,147,146,192,167,186,110,161,80,104,180,105,106,105,138,126,146,133,109,128,152,147,98,112,196,121,195,104,185,162,200,165,103,158,189,147,137,132,195,185,150,125,190,200,164,83,109,127,137,88,196,163,94,186,176,182,91,123,162,146,97,132,162,101,136,124,93,102,129,185,141,89,194,163,194,85,138,89,99,80,85,198,106,145],\"type\":\"box\",\"xaxis\":\"x5\",\"yaxis\":\"y5\"},{\"boxpoints\":\"suspectedoutliers\",\"name\":\"1\",\"notched\":true,\"orientation\":\"h\",\"x\":[188,141,164,159,101,121,199,111,107,160,160,152,166,118,196,102,180,134,188,111,114,163,96,140,156,119,192,103,106,199,107,102,189,184,195,133,148,147,176,139,142,150,110,101,165,151,165,93,119,173,182,194,112,192,199,183,99,107,195,141,178,88,100,136,148,98,144,200,110,164,84,163,114,181,105,98,87,170,161,129,193,138,191,143,126,106,196,117,181,91,185,131,97,166,146,119,195,131,99,161,176,176,105,149,194,116,153,130,146,156,158,84,107,95,106,165,96,174,142,186,155,186,109,159,166,103,200,135,182,137,184,160,194,185,181,83,190,113,191,143,118,147,175,169,128,163,190,98,197,150,131,130,118,154,185,160,143,167,189,136,186,132,200,168,104,89,108,155,183,105,81,112,144,121,184,89,197,175,122,182,83,142,165,186,185,196,121,181,199,147,163,125,123,130,124,141,120,177,97,85,170,187,139,112,157,116,146,83,155,101,90,200,102,182,126,94,153,135,199,102,157,109,184,148,191,162,102,94,89,164,82,146,187,91,157,158,162,146,199,160,113,184,172,150,88,88,103,154,154,137,187,124,89,197,128,144,105,129,152,146,162,185,194,174,124,102,107,186,97,129,190,130,140,131,118,103,102,101,182,88,161,187,185,194,96,196,132,134,181,123,161,144,113,139,126,103,105,101,84,96,111,131,118,174,81,165,130,192,80,84,129,156,198,135,121,86,123,95,142,82,170,94,196,130,131,145,151,92,109,192,111,145,188,197,93,106,133,182,197,95,171,115,145,119,92,88,80,169,172,172,109,196,169,113,121,114,198,159,151,91,110,148,197,88,127,98,114,145,158,125,102,160,160,157,151,87,155,123,101,147,117,104,193,189,86,159,108,155,151,182,115,93,132,120,159,171,187,121,172,119,89,116,97,182,193,131,169,189,199,167,194,159,88,81,134,175,114,155,146,119,199,125,118,152,117,127,138,158,114,106,156,82,177,158,90,136,104,130,86,129,82,139,198,119,136,80,88,100,83,179,93,173,107,87,197,103,89,109,195,124,197,168,130,105,114,94,187,101,181,134,138,97,155,169,168,124,80,156,195,93,154,110,105,110,174,81,149,113,191,104,163,199,169,161,144,199,144,161,114,83],\"type\":\"box\",\"xaxis\":\"x5\",\"yaxis\":\"y5\"},{\"boxpoints\":\"suspectedoutliers\",\"name\":\"2\",\"notched\":true,\"orientation\":\"h\",\"x\":[136,145,131,198,114,96,87,159,132,198,127,145,104,128,168,141,104,199,155,100,171,194,194,82,194,198,88,197,89,108,134,141,199,159,84,96,152,118,160,183,197,143,197,198,95,190,163,117,94,105,168,115,171,111,159,128,123,128,138,142,139,187,110,183,93,190,93,133,125,158,139,178,185,80,155,189,183,140,106,182,169,109,193,184,185,118,149,138,148,199,187,162,178,189,142,174,187,191,144,184,171,123,142,193,101,186,84,166,160,182,145,114,195,94,170,162,115,120,145,169,109,195,131,172,123,83,185,134,90,145,129,114,117,152,193,186,146,192,180,200,102,190,90,129,170,185,181,151,145,163,139,81,128,102,145,172,196,126,138,114,147,178,149,167,128,107,148,117,120,191,102,145,106,102,127,154,119,93,112,183,150,128,125,105,187,138,195,157,168,96,122,155,105,80,197,198,136,139,97,110,187,102,92,145,198,102,131,168,150,93,125,152,169,163,107,173,133,127,160,89,129,197,177,122,173,199,167,153,92,100,158,105,192,187,162,144,155,105,168,119,152,130,84,166,149,91,138,188,132,131,173,186,167,159,167,87,132,89,189,162,106,160,175,111,179,126,104,140,105,136,123,138,174,80,138,131,107,143,105,134,174,200,153,86,196,112,182,154,135,160,80,146,159,186,170,127,104,84,115,121,150,125,180,147,115,140,123,105,84,168,107,185,163,135,146,87,109,130,145,170,85,152,156,164,163,136,143,142,178,158,177,95,137,153,112,194,125,98,104,150,128,144,168,148,196,123,161,117,192,169,99,160,106,119,144,111,109,126,101,149,173,81,186,98,141,173,150,158,175,189,149,150,196,176,107,132,185,105,169,156,193,199,138,160,189,177,100,199,92,140,130,95,172,191,146,135,164,138,155,86,200,191,142,127,112,174,105,170,150,145,82,97,189,165,134,185,180,151,174,115,120,80,178,101,172,169,196,138,174,180,118,80,183,131,197,200,194,89,148,139,153,194,132,83,182,188,111,92,164,82,88,89,114,106,152,190,167,85,155,102,83,196,171,152,150,94,169,117,114,158,174,173,188,116,187,197,122,169,153,97,101,160,99,107,134,178,148,94,141,157,86,110,148,143,111,129,164,149,187],\"type\":\"box\",\"xaxis\":\"x5\",\"yaxis\":\"y5\"},{\"boxpoints\":\"suspectedoutliers\",\"name\":\"3\",\"notched\":true,\"orientation\":\"h\",\"x\":[139,182,177,196,121,81,156,132,143,88,100,119,185,164,111,109,107,81,155,182,80,138,141,116,85,180,178,177,196,146,172,198,83,163,153,89,80,130,200,89,181,99,179,137,141,141,190,198,183,157,101,189,101,84,138,103,150,150,117,106,110,142,181,88,116,166,200,109,127,112,105,183,157,129,127,162,177,86,103,126,119,100,102,170,134,151,143,121,189,117,180,199,165,177,182,91,120,123,86,171,99,183,138,115,145,138,187,137,134,162,145,141,91,169,93,156,83,95,112,131,134,126,165,82,200,134,98,154,84,118,176,87,100,159,132,128,95,148,132,124,104,170,151,160,134,154,187,91,146,117,86,100,190,148,176,89,90,121,150,169,180,115,171,92,95,88,166,182,118,85,184,162,166,101,87,111,121,146,179,124,103,169,103,164,198,116,130,185,135,108,154,165,114,140,145,192,113,158,96,141,102,185,157,130,138,143,144,106,163,161,124,179,188,199,108,100,153,114,163,196,82,95,175,88,126,101,84,92,115,126,157,122,191,118,95,134,137,170,187,172,82,161,136,200,198,107,100,190,133,166,125,193,164,146,138,113,88,80,93,104,159,107,101,147,134,134,84,101,86,100,99,170,193,141,188,104,173,139,179,164,97,131,85,154,165,102,151,123,86,111,156,159,130,105,161,182,148,188,88,158,153,173,144,151,116,172,85,136,187,104,146,116,188,170,186,148,181,172,126,88,146,113,88,185,139,172,153,131,134,87,170,170,158,100,141,172,133,164,198,86,85,103,136,157,152,124,149,173,178,94,178,173,150,124,103,199,132,179,90,111,137,133,95,183,80,151,92,190,120,184,153,89,113,117,99,196,103,147,163,92,84,199,197,180,87,103,183,84,182,111,89,82,104,113,136,141,87,87,165,80,101,175,191,117,135,89,192,161,89,179,186,104,88,164,93,114,162,196,93,96,190,112,121,178,143,87,142,200,153,127,82,181,153,129,129,199,121,187,158,121,157,181,128,150,113,123,105,85,125,98,117,109,129,161,82,141,199,157,106,139,108,131,101,170,123,131,115,198,131,160,122,170,100,108,128,102,122,157,158,130,103,111,90,153,163,157,162,193,176,112,136,117,88,91,113,122,84,108,168],\"type\":\"box\",\"xaxis\":\"x5\",\"yaxis\":\"y5\"},{\"boxpoints\":\"suspectedoutliers\",\"name\":\"0\",\"notched\":true,\"orientation\":\"h\",\"x\":[24,53,9,52,46,38,21,33,22,20,57,60,63,50,10,9,38,9,33,42,15,14,23,37,55,8,4,46,19,3,14,14,64,45,60,6,14,26,29,30,41,4,22,16,63,50,49,29,40,31,11,49,23,30,7,19,4,51,56,28,7,4,2,39,34,56,57,56,29,42,41,14,42,5,63,18,25,48,6,33,50,62,57,36,2,58,26,19,33,17,5,4,11,47,23,50,8,57,3,28,25,44,13,40,4,18,60,26,56,3,41,17,50,54,32,29,7,38,8,37,16,43,21,26,13,32,30,24,24,23,24,5,58,29,17,58,3,11,12,35,56,24,30,58,21,14,31,3,60,25,54,36,21,26,33,44,32,32,45,60,25,19,41,52,19,2,48,21,2,6,54,2,42,25,57,11,34,39,49,56,7,23,45,63,18,11,14,56,46,41,3,52,33,8,25,54,64,57,61,55,55,32,38,16,8,35,35,2,32,64,13,34,47,50,34,27,45,53,12,14,35,30,8,13,33,52,8,50,42,54,34,13,52,54,58,34,11,51,20,3,43,19,57,50,46,13,6,53,33,54,58,55,49,53,57,13,60,14,18,18,42,23,45,27,41,8,39,40,4,62,2,60,14,57,47,18,44,5,9,60,55,12,20,50,40,42,27,15,30,13,62,62,11,27,26,32,20,2,9,56,6,20,10,40,55,32,7,29,49,52,60,12,42,25,37,23,19,46,31,59,52,5,26,41,20,47,14,28,27,42,12,51,15,52,24,57,50,10,52,28,6,30,28,14,29,35,55,40,33,54,15,2,58,19,14,32,18,16,31,22,27,6,11,55,10,20,40,39,21,8,29,48,26,20,40,8,14,20,38,58,38,30,18,42,54,23,39,12,27,43,12,54,19,19,46,8,27,5,58,11,34,28,33,5,11,57,57,24,20,45,36,27,35,56,49,7,27,30,27,20,5,26,21,59,21,10,56,46,16,63,12,30,47,29,11,53,8,60,53,58,27,38,6,51,31,48,60,14,52,44,14,7,16,59,60,2,30,19,19,25,7,29,54,27,5,53,16,10,42,12,56,32,62,30,36,18,13,63,39,10,45,45,33,6,7,21,32,23,36,17,61,3,21,46,10,13,36,21,2,46],\"type\":\"box\",\"xaxis\":\"x6\",\"yaxis\":\"y6\"},{\"boxpoints\":\"suspectedoutliers\",\"name\":\"1\",\"notched\":true,\"orientation\":\"h\",\"x\":[7,44,22,33,49,19,47,8,41,60,61,5,34,27,40,16,49,12,42,29,61,57,25,7,31,12,57,39,43,32,40,15,25,2,30,22,31,56,61,46,34,27,44,8,63,6,46,26,36,20,49,17,24,27,42,38,48,7,63,32,59,25,57,38,28,3,8,54,6,27,26,42,56,52,38,52,37,64,64,26,13,20,9,20,7,2,52,44,64,21,52,36,14,8,23,39,57,28,48,54,63,54,7,20,28,64,17,36,11,26,51,35,54,41,28,51,61,45,27,20,15,31,6,19,45,9,12,46,17,51,39,21,16,19,50,35,41,45,14,3,52,40,64,40,7,28,4,39,36,48,54,34,35,19,54,15,43,47,25,35,35,45,46,3,62,41,31,57,23,33,57,20,11,3,37,61,51,45,7,34,18,17,16,5,45,25,27,50,10,20,19,16,8,52,27,43,35,41,52,29,4,11,22,36,8,61,45,30,10,53,49,58,63,29,38,9,7,41,13,46,47,36,7,55,46,38,14,47,47,19,11,19,48,27,34,51,64,61,37,4,12,28,46,39,22,21,35,37,27,19,18,28,17,60,62,10,14,33,30,55,18,10,35,32,55,35,36,12,50,55,14,8,51,32,44,35,2,49,44,57,2,60,49,45,41,22,51,5,11,29,64,50,59,47,20,41,52,7,39,7,4,12,46,12,10,28,58,19,30,42,5,23,6,32,13,27,42,17,39,60,16,24,14,47,44,10,42,14,63,9,57,31,11,14,63,62,2,29,14,21,60,14,30,50,6,19,37,9,41,44,40,53,5,44,12,31,22,57,44,42,33,20,11,63,10,5,12,31,50,22,12,64,21,60,36,35,3,27,42,33,57,50,30,55,57,45,39,23,36,28,16,3,49,15,26,31,62,42,35,39,17,21,41,62,38,30,44,47,5,45,5,59,7,50,27,16,10,13,4,16,46,2,9,25,23,37,7,41,17,53,21,47,21,21,5,24,12,28,52,57,50,44,23,16,26,23,51,15,64,64,12,11,47,60,30,55,63,5,17,57,26,37,45,3,2,64,53,2,15,46,21,38,2,41,62,41,12,40,33,30,2,21,7,25,27,18,24,55,40,42,25,33,53,9,4,6,37,58,57,15],\"type\":\"box\",\"xaxis\":\"x6\",\"yaxis\":\"y6\"},{\"boxpoints\":\"suspectedoutliers\",\"name\":\"2\",\"notched\":true,\"orientation\":\"h\",\"x\":[53,41,10,17,57,52,11,50,44,14,63,51,46,48,55,9,22,64,3,33,54,60,7,53,10,25,58,41,36,16,31,33,47,41,32,37,51,3,10,10,42,25,22,38,5,7,20,23,41,30,61,47,8,23,41,39,25,31,37,6,49,44,10,55,63,57,47,30,62,56,9,8,40,41,49,21,27,47,18,36,22,54,17,10,3,57,42,8,19,17,21,9,46,30,48,59,54,33,12,7,55,13,34,51,49,51,57,43,48,56,64,62,51,48,43,6,22,2,2,27,48,17,39,33,23,15,59,44,2,54,61,12,16,31,49,53,31,7,53,32,30,13,38,20,6,40,35,54,25,11,56,20,16,46,21,44,21,5,2,30,27,3,46,14,64,15,14,50,61,48,27,22,13,34,27,60,22,17,30,25,28,58,49,13,42,15,8,58,16,4,51,63,12,16,27,50,8,11,50,47,2,38,25,56,6,5,52,48,2,11,30,39,16,58,10,56,21,6,15,14,11,34,15,21,30,39,6,31,32,49,8,26,53,23,60,48,13,55,27,23,13,54,46,13,7,8,30,10,28,53,19,53,52,38,18,43,41,52,63,30,64,33,16,51,23,37,14,55,30,58,58,46,22,58,63,9,54,16,52,62,10,10,43,24,56,31,2,14,46,21,28,29,59,16,40,9,51,3,47,11,9,56,52,37,2,34,58,35,57,58,32,56,51,24,5,27,55,16,36,62,4,35,24,21,54,6,19,8,15,12,36,56,44,2,27,29,34,5,36,58,42,51,7,2,31,40,39,62,23,6,40,17,42,18,27,63,10,32,15,6,34,10,64,13,50,50,33,28,40,2,44,9,3,43,60,15,11,23,8,60,11,6,16,19,5,40,15,27,15,55,28,2,26,14,50,14,16,42,24,22,35,7,7,30,53,27,33,58,15,37,52,48,15,56,4,8,41,57,63,61,42,32,51,17,49,4,12,33,33,20,2,54,14,7,2,5,28,9,44,8,15,17,19,52,42,45,43,26,40,22,44,7,19,23,28,34,20,2,58,53,26,56,17,41,21,12,24,9,53,20,17,39,2,27,52,13,9,47,18,23,37,14,35,8,37,49,4,16,6,64,27,16,14,6,29,18,41,34,39],\"type\":\"box\",\"xaxis\":\"x6\",\"yaxis\":\"y6\"},{\"boxpoints\":\"suspectedoutliers\",\"name\":\"3\",\"notched\":true,\"orientation\":\"h\",\"x\":[10,9,33,13,23,39,13,51,41,5,51,6,41,42,64,43,61,44,36,30,43,45,43,16,58,45,64,57,7,10,23,42,46,41,22,18,10,52,36,16,31,54,46,43,9,40,56,29,33,58,32,16,23,20,54,46,43,64,57,61,51,35,53,51,13,38,17,49,24,39,9,6,51,37,50,6,18,40,45,61,36,40,16,24,63,16,48,12,58,12,44,50,49,29,64,47,37,2,61,32,34,52,55,42,46,18,44,63,26,23,9,7,57,42,50,19,34,45,44,25,24,17,57,13,3,3,34,64,53,42,37,48,16,61,15,58,34,43,31,5,34,32,50,10,61,57,19,55,14,51,23,26,27,30,38,45,61,50,34,8,32,46,55,23,19,18,5,39,55,44,30,34,16,26,9,9,53,7,50,11,64,12,12,26,38,43,62,39,20,50,49,35,9,49,52,8,21,43,61,35,37,43,45,53,58,14,15,30,64,58,55,42,55,24,53,8,22,21,10,10,44,30,14,25,7,33,4,31,9,21,33,63,48,34,51,16,63,8,9,9,48,53,18,3,40,58,49,12,46,17,27,36,5,27,44,7,34,39,46,38,57,6,52,33,61,19,52,23,59,58,44,21,49,29,20,58,31,28,63,23,59,57,63,5,7,3,32,23,31,59,24,35,61,12,45,43,59,57,64,46,16,35,41,31,38,61,51,18,14,7,24,40,39,10,50,24,57,37,35,61,39,43,31,13,49,20,27,13,54,31,6,58,6,9,49,60,42,6,33,58,6,44,59,17,5,17,29,22,12,16,18,14,26,42,32,49,33,56,52,63,26,13,44,59,27,24,13,11,31,44,10,33,29,54,40,36,2,20,4,48,34,14,22,60,24,12,9,59,18,30,44,20,43,34,56,2,11,36,5,59,24,44,6,40,24,39,41,17,16,20,47,62,2,14,40,62,42,61,20,18,54,26,45,49,62,5,35,33,52,48,26,29,42,26,24,11,48,32,28,44,35,57,27,32,23,8,64,11,16,64,47,54,47,16,37,16,19,34,2,5,42,35,6,62,61,49,14,60,19,44,22,24,55,28,8,15,11,63,45,11,45,35,16,63,32,40,21,64,24,5,45,9,27,59,44,18,50,36,45],\"type\":\"box\",\"xaxis\":\"x6\",\"yaxis\":\"y6\"},{\"boxpoints\":\"suspectedoutliers\",\"name\":\"0\",\"notched\":true,\"orientation\":\"h\",\"x\":[4,7,5,1,2,3,5,8,8,2,8,8,8,2,2,3,4,3,1,5,7,6,5,2,4,7,6,1,6,7,8,3,3,2,4,6,5,1,7,1,6,3,1,3,5,1,8,5,2,8,1,4,2,2,4,1,4,3,1,4,7,8,7,8,5,8,6,1,2,6,8,2,1,2,1,6,7,1,1,8,7,5,2,4,8,7,2,4,2,5,5,2,2,6,4,2,7,8,7,2,6,4,2,8,8,7,4,4,6,5,4,6,8,8,7,2,1,6,5,6,1,8,4,5,1,7,8,7,5,4,5,3,3,1,5,3,5,7,8,7,3,3,3,6,7,5,6,5,5,7,3,3,8,4,4,8,7,5,3,5,7,2,4,4,3,3,1,7,7,4,8,6,7,4,6,3,3,4,5,7,7,2,7,3,2,8,1,8,5,7,1,3,4,5,1,6,4,1,3,6,7,1,3,2,6,7,8,3,4,6,1,6,5,8,4,6,3,1,4,3,3,8,1,2,2,7,3,8,1,5,2,8,2,4,5,1,4,4,7,6,6,8,2,3,7,1,2,3,2,7,3,5,3,4,7,3,2,7,2,6,3,6,1,4,7,3,5,6,3,4,3,4,5,3,2,7,2,8,8,2,6,6,7,8,3,6,4,8,3,8,1,6,3,1,7,6,3,8,3,3,4,2,1,7,7,5,8,5,6,2,1,1,6,2,8,7,3,4,4,8,3,5,5,2,6,3,4,6,5,1,1,8,2,5,4,2,8,3,6,5,1,8,4,8,7,8,8,2,5,2,2,5,4,6,8,6,2,3,3,4,6,8,6,3,6,4,4,8,8,7,1,8,6,2,8,5,8,2,1,6,5,8,6,5,4,6,4,2,2,8,8,2,2,7,4,7,2,5,5,5,2,4,3,1,2,6,5,8,6,7,3,4,4,4,5,8,4,4,1,2,5,6,8,7,4,4,2,8,7,7,3,2,3,6,2,1,7,3,1,8,5,5,4,5,5,6,1,4,7,3,7,2,7,7,4,6,7,6,7,2,2,8,7,5,4,6,7,6,1,7,2,2,4,3,4,7,2,4,2,7,2,8,3,6,5,8,6,7,4,5,5,8,2,6,7,4,1,3,6,5],\"type\":\"box\",\"xaxis\":\"x7\",\"yaxis\":\"y7\"},{\"boxpoints\":\"suspectedoutliers\",\"name\":\"1\",\"notched\":true,\"orientation\":\"h\",\"x\":[2,2,1,4,5,4,4,3,1,8,4,2,3,3,7,3,6,3,6,6,3,1,8,3,7,8,5,4,3,7,3,3,6,1,8,6,2,5,6,1,1,8,4,5,7,1,1,4,3,7,5,5,3,3,5,7,4,5,8,7,7,4,2,6,1,3,4,7,3,1,1,6,7,6,7,3,3,4,3,1,5,1,6,4,3,6,4,1,4,7,6,7,6,7,8,7,4,4,5,8,5,7,5,6,2,8,6,6,7,3,8,2,3,3,5,8,1,3,6,5,5,2,7,1,4,6,8,8,4,8,8,5,2,6,8,2,8,8,2,6,2,4,5,6,7,2,2,1,6,4,4,3,8,8,3,3,5,8,1,1,7,4,3,4,7,1,3,6,8,1,3,8,3,3,7,7,3,6,3,7,1,2,2,6,1,2,2,2,7,1,6,1,7,8,1,3,3,2,8,8,3,2,1,5,1,2,3,4,2,4,1,3,5,1,4,3,4,4,2,6,8,1,1,7,1,3,8,1,5,7,5,7,7,4,2,5,4,3,2,2,7,3,5,7,1,1,3,5,5,2,8,1,6,7,6,1,5,4,1,3,2,7,2,1,1,8,8,1,5,5,1,2,7,7,6,3,8,4,7,3,1,8,2,5,4,8,3,1,4,2,1,4,6,8,2,1,6,4,1,3,1,7,1,5,6,5,5,2,8,3,5,1,4,3,7,2,5,8,1,3,4,4,7,8,5,6,5,4,8,2,4,5,2,4,5,1,5,4,3,8,4,1,4,8,6,6,8,3,4,8,5,5,8,4,4,5,1,4,1,1,6,3,3,1,4,1,6,6,2,3,3,3,8,4,4,6,4,1,7,8,2,4,1,8,3,2,7,7,2,2,4,7,1,6,5,2,4,7,4,8,6,2,4,1,2,6,2,5,6,2,4,2,7,4,1,1,8,4,8,8,1,1,8,4,1,4,5,5,2,1,4,4,2,5,1,3,6,8,2,2,5,3,8,7,4,4,8,4,6,4,6,6,2,6,7,7,2,4,7,3,7,4,4,3,6,4,1,4,1,6,1,8,4,8,2,1,5,7,1,3,8,2,6,7,3,8,6,3,4,6,7,2,5,3,8,3,7,2,1,3],\"type\":\"box\",\"xaxis\":\"x7\",\"yaxis\":\"y7\"},{\"boxpoints\":\"suspectedoutliers\",\"name\":\"2\",\"notched\":true,\"orientation\":\"h\",\"x\":[3,5,6,4,8,2,6,2,1,3,8,7,3,5,2,3,4,4,5,4,7,6,5,8,8,5,4,7,4,5,1,7,3,1,2,5,6,8,6,4,5,6,2,8,6,5,4,7,3,7,6,8,6,3,8,5,6,8,4,2,8,7,5,2,5,7,5,2,4,8,6,6,4,7,2,1,1,2,4,1,7,3,8,5,6,1,3,8,7,1,4,6,1,7,7,3,2,1,7,3,4,6,8,4,5,4,3,4,4,3,2,5,1,3,7,7,3,4,5,4,3,7,5,3,7,3,5,3,7,8,2,1,7,8,4,6,2,1,8,1,1,8,6,5,1,8,5,4,2,8,5,7,8,4,7,8,2,4,7,1,8,7,3,8,7,8,7,4,7,3,4,1,6,7,7,5,6,5,7,2,2,7,1,7,7,3,6,1,8,3,4,5,6,2,6,1,1,5,7,4,1,6,8,5,4,5,1,5,6,1,8,4,8,4,4,3,2,3,5,2,7,2,7,6,3,6,7,4,3,1,5,2,4,2,6,1,4,7,3,3,8,3,3,2,2,5,1,2,5,8,4,6,4,5,1,6,4,3,7,8,4,6,8,1,8,7,5,5,5,2,4,7,6,8,2,3,3,1,7,8,4,6,5,4,3,3,4,4,1,7,8,7,3,8,3,2,5,2,7,2,6,8,2,1,7,2,2,3,3,3,3,7,7,4,6,8,1,4,6,5,1,7,8,7,2,6,2,8,6,5,5,1,8,7,5,8,8,4,4,7,5,2,7,2,8,2,4,8,5,4,7,4,5,4,3,2,8,7,4,6,1,8,8,4,8,1,6,6,6,1,1,5,7,3,2,2,7,6,4,3,8,2,4,7,2,1,8,1,3,8,2,6,4,5,1,6,8,8,5,8,4,6,1,3,6,8,4,5,5,1,6,8,3,4,2,1,8,1,4,6,2,6,7,4,8,6,2,7,3,5,4,1,8,8,7,4,4,3,7,5,2,5,2,3,5,3,6,4,2,2,8,8,8,5,2,4,5,5,5,5,6,1,1,3,7,8,2,1,4,7,6,8,5,5,3,8,4,5,3,7,3,6,7,4,4,1,5,4,6,7,6,7,2,8,5,2,6,5,4],\"type\":\"box\",\"xaxis\":\"x7\",\"yaxis\":\"y7\"},{\"boxpoints\":\"suspectedoutliers\",\"name\":\"3\",\"notched\":true,\"orientation\":\"h\",\"x\":[8,5,8,8,3,7,2,4,7,7,4,2,2,8,8,2,3,3,4,3,4,7,1,4,7,5,3,3,3,6,5,5,1,1,7,7,4,3,2,1,3,7,8,1,2,7,7,6,4,7,7,5,5,4,5,1,5,8,2,3,7,6,3,5,4,4,2,1,3,5,1,5,6,7,7,6,2,6,1,4,6,3,7,8,2,7,5,8,1,2,2,3,8,1,1,3,7,5,7,2,8,2,5,5,2,3,8,7,6,4,7,2,8,1,7,3,4,5,6,3,7,8,1,7,2,7,3,7,5,3,4,7,5,1,4,4,1,2,1,3,2,6,4,1,3,4,3,1,3,5,2,8,4,5,4,5,8,2,2,5,6,2,1,1,8,3,3,1,3,4,7,1,5,5,6,7,4,8,6,6,2,6,7,5,5,5,1,5,7,5,6,2,2,5,2,4,3,1,7,6,2,1,3,2,6,8,5,6,8,7,3,2,3,5,6,7,3,3,2,1,7,2,7,6,3,6,7,2,7,8,1,5,1,2,3,6,7,7,3,2,5,5,2,1,7,5,3,4,8,3,1,4,7,1,4,1,6,8,6,7,3,8,4,1,6,8,4,6,2,8,3,7,3,6,6,5,8,1,8,4,4,7,7,5,7,8,4,6,7,3,6,5,7,1,1,2,6,2,2,4,8,5,8,1,5,5,6,2,4,4,6,7,7,7,5,4,8,1,3,1,2,5,6,6,7,8,7,1,3,4,1,1,6,2,6,7,7,2,2,7,3,4,6,4,1,7,5,5,2,8,8,2,1,8,2,4,8,4,4,2,6,4,5,7,4,8,4,8,2,2,8,3,6,1,4,5,1,6,6,8,5,4,7,2,1,8,6,7,5,2,8,6,8,4,2,1,2,8,5,1,1,5,6,3,8,7,1,8,4,8,6,3,7,3,5,8,7,4,4,6,4,6,1,2,1,4,6,5,1,4,2,7,8,6,7,5,8,8,5,2,1,6,4,6,6,8,3,3,3,3,1,5,2,6,2,5,4,2,1,3,2,1,1,7,3,4,4,5,3,3,8,3,7,1,8,5,1,5,5,5,5,3,6,7,8,5,6,1,5,5,4,1,8,5,8,5,1,8,6],\"type\":\"box\",\"xaxis\":\"x7\",\"yaxis\":\"y7\"},{\"boxpoints\":\"suspectedoutliers\",\"name\":\"0\",\"notched\":true,\"orientation\":\"h\",\"x\":[16,17,19,14,17,8,12,5,12,9,15,14,15,7,11,15,9,10,11,16,16,16,19,14,14,11,13,5,12,12,9,17,19,12,18,10,7,17,14,14,19,13,5,14,11,9,5,19,6,17,19,12,16,9,13,15,12,14,7,10,19,19,8,13,15,19,7,19,18,11,18,18,13,16,9,13,10,14,13,13,15,11,11,13,6,12,13,9,12,12,15,11,12,9,17,17,8,16,13,15,6,5,9,16,11,11,6,9,11,14,9,8,11,7,19,9,5,18,13,11,17,17,14,11,14,15,6,7,12,13,16,9,7,9,11,18,15,18,6,19,17,12,6,16,10,18,16,7,14,15,15,17,17,12,19,7,13,12,15,7,7,19,10,13,8,10,11,16,5,10,14,10,16,12,11,15,7,14,10,12,15,18,18,18,14,10,5,19,9,11,19,10,5,17,11,12,11,14,5,15,14,7,11,10,14,16,13,19,16,10,5,16,12,5,11,15,14,14,14,17,15,10,6,12,19,16,18,16,11,13,8,9,8,17,17,16,14,12,11,7,12,19,11,9,17,8,13,15,9,6,14,14,9,19,5,5,6,8,16,7,16,7,9,5,12,9,8,16,10,14,5,15,19,6,18,16,11,16,12,10,12,7,11,17,6,11,17,12,12,17,10,15,14,14,10,17,17,10,18,14,8,12,10,8,14,16,11,9,5,19,15,7,17,19,15,14,12,8,14,16,14,14,6,5,13,7,14,19,10,6,7,11,18,7,7,17,17,17,14,11,17,7,11,16,11,16,6,8,17,12,16,9,17,19,12,17,13,14,11,18,7,12,10,18,11,15,16,6,11,7,6,8,8,6,8,7,18,19,14,19,9,19,17,12,15,8,16,7,12,11,9,17,19,6,6,10,14,8,7,6,15,8,16,6,6,5,19,9,7,19,8,6,16,17,16,16,19,17,18,11,8,7,6,18,8,11,10,15,14,17,15,5,14,11,17,13,15,14,19,7,17,19,6,16,5,8,10,14,5,9,15,9,6,19,10,12,10,17,18,8,13,5,6,14,13,18,14,18,12,9,6,16,7,10,14,7,17,10,6,14,18,19,17,9,13,8,10,7,10,19,14,10,17,19,15,15,5,6,13,18],\"type\":\"box\",\"xaxis\":\"x8\",\"yaxis\":\"y8\"},{\"boxpoints\":\"suspectedoutliers\",\"name\":\"1\",\"notched\":true,\"orientation\":\"h\",\"x\":[9,8,17,18,19,11,11,11,18,10,13,15,15,8,16,17,7,14,5,8,10,11,15,19,6,16,17,5,16,18,15,5,6,7,10,19,12,10,16,16,8,18,9,17,17,9,15,11,13,7,5,13,16,6,18,9,18,12,6,17,6,5,9,18,12,8,8,19,15,12,14,7,5,8,12,18,13,8,14,15,11,17,6,14,5,18,17,15,8,18,19,7,11,8,17,10,14,10,5,19,14,15,6,19,5,5,13,12,8,12,5,16,16,7,17,17,9,6,16,17,16,7,9,15,13,13,7,5,7,18,7,11,17,6,15,16,5,8,17,9,18,8,14,16,6,17,16,15,17,19,13,7,17,7,5,6,12,17,14,12,13,15,16,15,17,11,8,15,16,13,11,18,11,18,5,16,18,10,12,6,8,6,13,18,12,7,18,19,11,19,12,10,17,15,9,7,17,16,16,18,8,5,9,11,11,6,7,11,16,12,16,13,8,11,17,17,12,10,16,19,17,6,12,7,10,9,7,12,7,9,10,9,17,5,18,12,5,17,6,12,17,14,13,10,7,17,12,17,16,13,7,14,17,19,16,10,7,17,15,6,15,19,15,17,8,14,18,9,13,11,8,9,8,19,7,14,7,13,14,18,15,13,8,17,7,8,10,15,8,17,10,7,11,16,14,15,5,9,13,13,12,17,16,14,16,12,14,15,10,15,18,13,19,8,18,11,15,18,6,18,6,13,8,18,10,6,6,9,7,6,16,7,12,19,15,9,14,19,19,12,9,6,12,12,12,10,16,9,19,11,12,13,16,8,18,11,15,8,10,12,6,17,15,18,19,12,7,13,13,12,5,18,17,14,10,5,12,11,7,17,15,10,18,14,15,6,6,5,16,8,15,14,7,16,7,12,17,12,16,11,17,11,16,11,8,8,15,8,15,10,19,16,16,12,11,17,7,14,19,16,15,16,11,13,14,5,17,18,17,9,16,11,15,16,12,18,18,12,9,12,14,17,11,17,5,14,16,10,19,12,13,17,10,12,9,10,15,7,11,8,10,15,5,5,7,16,17,12,8,11,7,7,14,5,6,17,13,9,14,10,7,12,7,17,12,9,15,13,8,14,9,7,6,15,13,10,9,9,9,12],\"type\":\"box\",\"xaxis\":\"x8\",\"yaxis\":\"y8\"},{\"boxpoints\":\"suspectedoutliers\",\"name\":\"2\",\"notched\":true,\"orientation\":\"h\",\"x\":[17,11,16,7,18,10,6,18,18,5,19,6,14,15,14,10,9,14,9,10,18,18,8,12,12,13,9,12,12,12,17,12,13,13,19,10,15,16,7,9,19,7,16,6,11,12,7,18,17,6,19,11,13,11,15,14,12,18,19,9,11,7,7,7,17,6,9,17,19,11,14,8,7,12,19,16,7,17,18,14,15,8,7,6,5,13,12,19,10,17,14,18,11,17,12,10,18,10,7,10,13,9,7,13,6,10,16,15,14,12,5,11,8,17,12,15,9,11,13,7,6,17,6,6,12,18,19,9,18,14,10,7,14,16,7,7,8,7,13,11,19,6,8,19,9,11,14,6,9,16,8,13,5,14,14,8,8,12,12,9,14,5,6,7,6,8,17,10,12,12,7,19,13,17,13,5,9,14,9,6,16,15,17,6,9,12,9,15,5,15,8,10,10,15,10,10,7,18,13,17,13,16,7,11,6,18,6,8,12,8,5,9,14,19,6,5,16,17,16,10,19,12,12,10,16,11,10,9,6,5,12,5,19,7,13,6,10,15,19,7,18,11,11,12,14,8,17,8,16,12,16,7,13,12,5,9,5,7,17,11,6,7,7,10,15,10,18,13,17,18,16,7,17,14,14,14,9,16,13,16,16,5,17,9,19,13,10,13,14,15,10,8,16,17,13,13,11,19,14,11,9,14,8,8,19,17,12,17,18,7,6,10,11,12,9,14,5,7,19,15,8,19,16,7,17,15,14,9,12,11,8,13,7,7,9,19,14,13,8,17,15,17,19,14,17,6,8,11,19,14,15,8,16,17,7,19,9,12,18,9,13,5,5,11,7,7,10,18,11,19,7,8,19,9,17,15,7,13,18,12,5,17,12,14,12,9,12,15,18,15,6,13,8,17,17,19,7,10,17,17,17,8,10,7,6,16,9,10,18,14,5,13,14,8,13,11,10,15,18,16,12,12,10,7,17,9,16,18,6,15,18,7,12,15,19,10,15,9,10,15,11,6,13,17,12,19,11,19,17,9,6,12,15,8,15,7,6,5,10,19,9,8,12,16,17,15,12,8,16,7,12,8,10,10,10,17,10,8,12,7,15,16,18,19,18,5,5,9,7,6,12,19,13,15,17,10,14,13,11],\"type\":\"box\",\"xaxis\":\"x8\",\"yaxis\":\"y8\"},{\"boxpoints\":\"suspectedoutliers\",\"name\":\"3\",\"notched\":true,\"orientation\":\"h\",\"x\":[13,5,14,10,10,17,17,16,17,17,7,6,18,10,16,12,9,18,9,16,7,13,11,17,19,9,13,19,13,16,12,18,19,19,9,12,18,10,5,19,12,17,12,18,18,16,16,17,17,12,5,16,14,16,17,13,17,17,18,15,19,18,18,11,12,14,11,6,7,14,11,7,10,8,8,9,14,10,17,9,17,11,8,7,14,11,15,15,5,5,16,13,14,12,6,15,17,18,10,17,8,16,5,10,13,17,19,16,5,9,19,9,12,8,18,13,7,9,17,9,8,18,13,15,15,12,9,8,14,14,19,7,9,18,16,16,15,15,5,7,13,17,14,7,15,13,7,7,16,16,8,16,19,14,6,8,9,17,13,6,12,11,15,14,15,12,15,10,11,14,7,18,12,17,12,14,7,7,17,15,17,16,14,13,13,10,6,19,5,10,17,19,12,12,16,15,6,18,5,17,16,14,8,19,6,11,14,17,9,9,8,11,17,13,15,10,15,10,6,13,7,16,15,5,17,16,17,9,13,6,10,18,17,18,5,15,12,7,9,13,17,17,13,17,7,17,6,11,17,18,12,12,5,9,14,9,18,6,8,14,13,9,11,18,8,11,19,19,19,17,14,17,12,15,5,13,8,13,11,7,17,17,19,6,11,16,19,12,15,15,14,16,8,17,15,14,6,15,17,17,17,14,15,13,7,17,5,12,6,9,12,9,19,8,11,13,15,12,13,11,13,16,19,7,16,16,18,19,7,7,6,17,13,18,16,11,10,11,12,9,16,13,10,12,13,11,11,11,9,16,8,17,14,12,18,6,8,16,10,13,18,19,16,18,17,8,17,16,5,17,9,10,13,13,13,19,12,8,5,7,17,16,14,5,17,8,13,12,13,19,13,15,14,7,17,10,6,6,12,8,15,19,7,13,17,11,18,14,13,16,19,5,9,13,13,6,18,7,10,17,6,18,10,12,5,17,18,11,7,10,15,14,12,13,16,17,11,7,14,18,15,19,18,10,14,6,7,14,8,17,13,5,13,14,17,9,12,15,9,5,7,5,15,18,14,17,18,14,13,13,7,6,14,16,17,10,8,17,11,16,10,15,5,11,12,14,15,9,6,7,11,10,8,16,19,15,17,9,19],\"type\":\"box\",\"xaxis\":\"x8\",\"yaxis\":\"y8\"}],                        {\"template\":{\"data\":{\"histogram2dcontour\":[{\"type\":\"histogram2dcontour\",\"colorbar\":{\"outlinewidth\":0,\"ticks\":\"\"},\"colorscale\":[[0.0,\"#0d0887\"],[0.1111111111111111,\"#46039f\"],[0.2222222222222222,\"#7201a8\"],[0.3333333333333333,\"#9c179e\"],[0.4444444444444444,\"#bd3786\"],[0.5555555555555556,\"#d8576b\"],[0.6666666666666666,\"#ed7953\"],[0.7777777777777778,\"#fb9f3a\"],[0.8888888888888888,\"#fdca26\"],[1.0,\"#f0f921\"]]}],\"choropleth\":[{\"type\":\"choropleth\",\"colorbar\":{\"outlinewidth\":0,\"ticks\":\"\"}}],\"histogram2d\":[{\"type\":\"histogram2d\",\"colorbar\":{\"outlinewidth\":0,\"ticks\":\"\"},\"colorscale\":[[0.0,\"#0d0887\"],[0.1111111111111111,\"#46039f\"],[0.2222222222222222,\"#7201a8\"],[0.3333333333333333,\"#9c179e\"],[0.4444444444444444,\"#bd3786\"],[0.5555555555555556,\"#d8576b\"],[0.6666666666666666,\"#ed7953\"],[0.7777777777777778,\"#fb9f3a\"],[0.8888888888888888,\"#fdca26\"],[1.0,\"#f0f921\"]]}],\"heatmap\":[{\"type\":\"heatmap\",\"colorbar\":{\"outlinewidth\":0,\"ticks\":\"\"},\"colorscale\":[[0.0,\"#0d0887\"],[0.1111111111111111,\"#46039f\"],[0.2222222222222222,\"#7201a8\"],[0.3333333333333333,\"#9c179e\"],[0.4444444444444444,\"#bd3786\"],[0.5555555555555556,\"#d8576b\"],[0.6666666666666666,\"#ed7953\"],[0.7777777777777778,\"#fb9f3a\"],[0.8888888888888888,\"#fdca26\"],[1.0,\"#f0f921\"]]}],\"heatmapgl\":[{\"type\":\"heatmapgl\",\"colorbar\":{\"outlinewidth\":0,\"ticks\":\"\"},\"colorscale\":[[0.0,\"#0d0887\"],[0.1111111111111111,\"#46039f\"],[0.2222222222222222,\"#7201a8\"],[0.3333333333333333,\"#9c179e\"],[0.4444444444444444,\"#bd3786\"],[0.5555555555555556,\"#d8576b\"],[0.6666666666666666,\"#ed7953\"],[0.7777777777777778,\"#fb9f3a\"],[0.8888888888888888,\"#fdca26\"],[1.0,\"#f0f921\"]]}],\"contourcarpet\":[{\"type\":\"contourcarpet\",\"colorbar\":{\"outlinewidth\":0,\"ticks\":\"\"}}],\"contour\":[{\"type\":\"contour\",\"colorbar\":{\"outlinewidth\":0,\"ticks\":\"\"},\"colorscale\":[[0.0,\"#0d0887\"],[0.1111111111111111,\"#46039f\"],[0.2222222222222222,\"#7201a8\"],[0.3333333333333333,\"#9c179e\"],[0.4444444444444444,\"#bd3786\"],[0.5555555555555556,\"#d8576b\"],[0.6666666666666666,\"#ed7953\"],[0.7777777777777778,\"#fb9f3a\"],[0.8888888888888888,\"#fdca26\"],[1.0,\"#f0f921\"]]}],\"surface\":[{\"type\":\"surface\",\"colorbar\":{\"outlinewidth\":0,\"ticks\":\"\"},\"colorscale\":[[0.0,\"#0d0887\"],[0.1111111111111111,\"#46039f\"],[0.2222222222222222,\"#7201a8\"],[0.3333333333333333,\"#9c179e\"],[0.4444444444444444,\"#bd3786\"],[0.5555555555555556,\"#d8576b\"],[0.6666666666666666,\"#ed7953\"],[0.7777777777777778,\"#fb9f3a\"],[0.8888888888888888,\"#fdca26\"],[1.0,\"#f0f921\"]]}],\"mesh3d\":[{\"type\":\"mesh3d\",\"colorbar\":{\"outlinewidth\":0,\"ticks\":\"\"}}],\"scatter\":[{\"fillpattern\":{\"fillmode\":\"overlay\",\"size\":10,\"solidity\":0.2},\"type\":\"scatter\"}],\"parcoords\":[{\"type\":\"parcoords\",\"line\":{\"colorbar\":{\"outlinewidth\":0,\"ticks\":\"\"}}}],\"scatterpolargl\":[{\"type\":\"scatterpolargl\",\"marker\":{\"colorbar\":{\"outlinewidth\":0,\"ticks\":\"\"}}}],\"bar\":[{\"error_x\":{\"color\":\"#2a3f5f\"},\"error_y\":{\"color\":\"#2a3f5f\"},\"marker\":{\"line\":{\"color\":\"#E5ECF6\",\"width\":0.5},\"pattern\":{\"fillmode\":\"overlay\",\"size\":10,\"solidity\":0.2}},\"type\":\"bar\"}],\"scattergeo\":[{\"type\":\"scattergeo\",\"marker\":{\"colorbar\":{\"outlinewidth\":0,\"ticks\":\"\"}}}],\"scatterpolar\":[{\"type\":\"scatterpolar\",\"marker\":{\"colorbar\":{\"outlinewidth\":0,\"ticks\":\"\"}}}],\"histogram\":[{\"marker\":{\"pattern\":{\"fillmode\":\"overlay\",\"size\":10,\"solidity\":0.2}},\"type\":\"histogram\"}],\"scattergl\":[{\"type\":\"scattergl\",\"marker\":{\"colorbar\":{\"outlinewidth\":0,\"ticks\":\"\"}}}],\"scatter3d\":[{\"type\":\"scatter3d\",\"line\":{\"colorbar\":{\"outlinewidth\":0,\"ticks\":\"\"}},\"marker\":{\"colorbar\":{\"outlinewidth\":0,\"ticks\":\"\"}}}],\"scattermapbox\":[{\"type\":\"scattermapbox\",\"marker\":{\"colorbar\":{\"outlinewidth\":0,\"ticks\":\"\"}}}],\"scatterternary\":[{\"type\":\"scatterternary\",\"marker\":{\"colorbar\":{\"outlinewidth\":0,\"ticks\":\"\"}}}],\"scattercarpet\":[{\"type\":\"scattercarpet\",\"marker\":{\"colorbar\":{\"outlinewidth\":0,\"ticks\":\"\"}}}],\"carpet\":[{\"aaxis\":{\"endlinecolor\":\"#2a3f5f\",\"gridcolor\":\"white\",\"linecolor\":\"white\",\"minorgridcolor\":\"white\",\"startlinecolor\":\"#2a3f5f\"},\"baxis\":{\"endlinecolor\":\"#2a3f5f\",\"gridcolor\":\"white\",\"linecolor\":\"white\",\"minorgridcolor\":\"white\",\"startlinecolor\":\"#2a3f5f\"},\"type\":\"carpet\"}],\"table\":[{\"cells\":{\"fill\":{\"color\":\"#EBF0F8\"},\"line\":{\"color\":\"white\"}},\"header\":{\"fill\":{\"color\":\"#C8D4E3\"},\"line\":{\"color\":\"white\"}},\"type\":\"table\"}],\"barpolar\":[{\"marker\":{\"line\":{\"color\":\"#E5ECF6\",\"width\":0.5},\"pattern\":{\"fillmode\":\"overlay\",\"size\":10,\"solidity\":0.2}},\"type\":\"barpolar\"}],\"pie\":[{\"automargin\":true,\"type\":\"pie\"}]},\"layout\":{\"autotypenumbers\":\"strict\",\"colorway\":[\"#636efa\",\"#EF553B\",\"#00cc96\",\"#ab63fa\",\"#FFA15A\",\"#19d3f3\",\"#FF6692\",\"#B6E880\",\"#FF97FF\",\"#FECB52\"],\"font\":{\"color\":\"#2a3f5f\"},\"hovermode\":\"closest\",\"hoverlabel\":{\"align\":\"left\"},\"paper_bgcolor\":\"white\",\"plot_bgcolor\":\"#E5ECF6\",\"polar\":{\"bgcolor\":\"#E5ECF6\",\"angularaxis\":{\"gridcolor\":\"white\",\"linecolor\":\"white\",\"ticks\":\"\"},\"radialaxis\":{\"gridcolor\":\"white\",\"linecolor\":\"white\",\"ticks\":\"\"}},\"ternary\":{\"bgcolor\":\"#E5ECF6\",\"aaxis\":{\"gridcolor\":\"white\",\"linecolor\":\"white\",\"ticks\":\"\"},\"baxis\":{\"gridcolor\":\"white\",\"linecolor\":\"white\",\"ticks\":\"\"},\"caxis\":{\"gridcolor\":\"white\",\"linecolor\":\"white\",\"ticks\":\"\"}},\"coloraxis\":{\"colorbar\":{\"outlinewidth\":0,\"ticks\":\"\"}},\"colorscale\":{\"sequential\":[[0.0,\"#0d0887\"],[0.1111111111111111,\"#46039f\"],[0.2222222222222222,\"#7201a8\"],[0.3333333333333333,\"#9c179e\"],[0.4444444444444444,\"#bd3786\"],[0.5555555555555556,\"#d8576b\"],[0.6666666666666666,\"#ed7953\"],[0.7777777777777778,\"#fb9f3a\"],[0.8888888888888888,\"#fdca26\"],[1.0,\"#f0f921\"]],\"sequentialminus\":[[0.0,\"#0d0887\"],[0.1111111111111111,\"#46039f\"],[0.2222222222222222,\"#7201a8\"],[0.3333333333333333,\"#9c179e\"],[0.4444444444444444,\"#bd3786\"],[0.5555555555555556,\"#d8576b\"],[0.6666666666666666,\"#ed7953\"],[0.7777777777777778,\"#fb9f3a\"],[0.8888888888888888,\"#fdca26\"],[1.0,\"#f0f921\"]],\"diverging\":[[0,\"#8e0152\"],[0.1,\"#c51b7d\"],[0.2,\"#de77ae\"],[0.3,\"#f1b6da\"],[0.4,\"#fde0ef\"],[0.5,\"#f7f7f7\"],[0.6,\"#e6f5d0\"],[0.7,\"#b8e186\"],[0.8,\"#7fbc41\"],[0.9,\"#4d9221\"],[1,\"#276419\"]]},\"xaxis\":{\"gridcolor\":\"white\",\"linecolor\":\"white\",\"ticks\":\"\",\"title\":{\"standoff\":15},\"zerolinecolor\":\"white\",\"automargin\":true,\"zerolinewidth\":2},\"yaxis\":{\"gridcolor\":\"white\",\"linecolor\":\"white\",\"ticks\":\"\",\"title\":{\"standoff\":15},\"zerolinecolor\":\"white\",\"automargin\":true,\"zerolinewidth\":2},\"scene\":{\"xaxis\":{\"backgroundcolor\":\"#E5ECF6\",\"gridcolor\":\"white\",\"linecolor\":\"white\",\"showbackground\":true,\"ticks\":\"\",\"zerolinecolor\":\"white\",\"gridwidth\":2},\"yaxis\":{\"backgroundcolor\":\"#E5ECF6\",\"gridcolor\":\"white\",\"linecolor\":\"white\",\"showbackground\":true,\"ticks\":\"\",\"zerolinecolor\":\"white\",\"gridwidth\":2},\"zaxis\":{\"backgroundcolor\":\"#E5ECF6\",\"gridcolor\":\"white\",\"linecolor\":\"white\",\"showbackground\":true,\"ticks\":\"\",\"zerolinecolor\":\"white\",\"gridwidth\":2}},\"shapedefaults\":{\"line\":{\"color\":\"#2a3f5f\"}},\"annotationdefaults\":{\"arrowcolor\":\"#2a3f5f\",\"arrowhead\":0,\"arrowwidth\":1},\"geo\":{\"bgcolor\":\"white\",\"landcolor\":\"#E5ECF6\",\"subunitcolor\":\"white\",\"showland\":true,\"showlakes\":true,\"lakecolor\":\"white\"},\"title\":{\"x\":0.05},\"mapbox\":{\"style\":\"light\"}}},\"xaxis\":{\"anchor\":\"y\",\"domain\":[0.0,0.2125],\"title\":{\"text\":\"ram\"}},\"yaxis\":{\"anchor\":\"x\",\"domain\":[0.5700000000000001,1.0],\"title\":{\"text\":\"Price Range\"}},\"xaxis2\":{\"anchor\":\"y2\",\"domain\":[0.2625,0.475],\"title\":{\"text\":\"battery_power\"}},\"yaxis2\":{\"anchor\":\"x2\",\"domain\":[0.5700000000000001,1.0],\"title\":{\"text\":\"Price Range\"}},\"xaxis3\":{\"anchor\":\"y3\",\"domain\":[0.525,0.7375],\"title\":{\"text\":\"px_width\"}},\"yaxis3\":{\"anchor\":\"x3\",\"domain\":[0.5700000000000001,1.0],\"title\":{\"text\":\"Price Range\"}},\"xaxis4\":{\"anchor\":\"y4\",\"domain\":[0.7875,1.0],\"title\":{\"text\":\"px_height\"}},\"yaxis4\":{\"anchor\":\"x4\",\"domain\":[0.5700000000000001,1.0],\"title\":{\"text\":\"Price Range\"}},\"xaxis5\":{\"anchor\":\"y5\",\"domain\":[0.0,0.2125],\"title\":{\"text\":\"mobile_wt\"}},\"yaxis5\":{\"anchor\":\"x5\",\"domain\":[0.0,0.43],\"title\":{\"text\":\"Price Range\"}},\"xaxis6\":{\"anchor\":\"y6\",\"domain\":[0.2625,0.475],\"title\":{\"text\":\"int_memory\"}},\"yaxis6\":{\"anchor\":\"x6\",\"domain\":[0.0,0.43],\"title\":{\"text\":\"Price Range\"}},\"xaxis7\":{\"anchor\":\"y7\",\"domain\":[0.525,0.7375],\"title\":{\"text\":\"n_cores\"}},\"yaxis7\":{\"anchor\":\"x7\",\"domain\":[0.0,0.43],\"title\":{\"text\":\"Price Range\"}},\"xaxis8\":{\"anchor\":\"y8\",\"domain\":[0.7875,1.0],\"title\":{\"text\":\"sc_h\"}},\"yaxis8\":{\"anchor\":\"x8\",\"domain\":[0.0,0.43],\"title\":{\"text\":\"Price Range\"}},\"title\":{\"font\":{\"color\":\"#393646\",\"family\":\"Bold\",\"size\":26},\"text\":\"Relationship between Relevant Features and Price Range\",\"y\":0.989,\"x\":0.5,\"xanchor\":\"center\",\"yanchor\":\"top\"},\"margin\":{\"l\":50,\"r\":50,\"t\":50,\"b\":50},\"showlegend\":false,\"height\":800,\"width\":1200},                        {\"responsive\": true}                    ).then(function(){\n",
              "                            \n",
              "var gd = document.getElementById('5c2b887c-ce8d-4ec8-90ec-e45b75dd0378');\n",
              "var x = new MutationObserver(function (mutations, observer) {{\n",
              "        var display = window.getComputedStyle(gd).display;\n",
              "        if (!display || display === 'none') {{\n",
              "            console.log([gd, 'removed!']);\n",
              "            Plotly.purge(gd);\n",
              "            observer.disconnect();\n",
              "        }}\n",
              "}});\n",
              "\n",
              "// Listen for the removal of the full notebook cells\n",
              "var notebookContainer = gd.closest('#notebook-container');\n",
              "if (notebookContainer) {{\n",
              "    x.observe(notebookContainer, {childList: true});\n",
              "}}\n",
              "\n",
              "// Listen for the clearing of the current output cell\n",
              "var outputEl = gd.closest('.output');\n",
              "if (outputEl) {{\n",
              "    x.observe(outputEl, {childList: true});\n",
              "}}\n",
              "\n",
              "                        })                };                            </script>        </div>\n",
              "</body>\n",
              "</html>"
            ]
          },
          "metadata": {}
        }
      ]
    },
    {
      "cell_type": "markdown",
      "metadata": {
        "id": "fMKEqNKY9vvx"
      },
      "source": [
        "## **Checking the Correlatoin between each pair of columns**"
      ]
    },
    {
      "cell_type": "code",
      "execution_count": null,
      "metadata": {
        "id": "IkKkmbDB9v2_"
      },
      "outputs": [],
      "source": [
        "# relevent_colms\n",
        "\n",
        "# size = len(relevent_colms)\n",
        "\n",
        "# cols_to_work = relevent_colms\n",
        "\n",
        "# cols_to_work.append(\"price_range\")\n",
        "\n",
        "# rel_colms_corr = stdz_m_p_t[relevent_colms]\n",
        "\n",
        "# fig = px.scatter_matrix(rel_colms_corr, dimensions = relevent_colms[ : size - 1], color = 'price_range')\n",
        "\n",
        "# fig.update_layout(\n",
        "#     title='Correlation',\n",
        "#     dragmode='select',\n",
        "#     width=2000,\n",
        "#     height=1000,\n",
        "#     hovermode='closest',\n",
        "# )\n",
        "\n",
        "# fig.show()"
      ]
    },
    {
      "cell_type": "markdown",
      "metadata": {
        "id": "vfCAmvuoDXDp"
      },
      "source": [
        "#### **As there is no linear relationship between the numeric columns, it means that they are not correlated with each other. This indicate that each feature provides unique information about the target variable, and they are not redundant**"
      ]
    },
    {
      "cell_type": "markdown",
      "metadata": {
        "id": "fH_GDlfxE49-"
      },
      "source": [
        "\n",
        "\n"
      ]
    },
    {
      "cell_type": "code",
      "execution_count": null,
      "metadata": {
        "id": "tD6c20iaE5G2",
        "colab": {
          "base_uri": "https://localhost:8080/"
        },
        "outputId": "edbf4057-0dcc-4ba3-c209-b2efd2bf4037"
      },
      "outputs": [
        {
          "output_type": "execute_result",
          "data": {
            "text/plain": [
              "   battery_power  blue  clock_speed  dual_sim    fc  four_g  int_memory  \\\n",
              "0            842     0          2.2         0   1.0       0           7   \n",
              "1           1021     1          0.5         1   0.0       1          53   \n",
              "2            563     1          0.5         1   2.0       1          41   \n",
              "3            615     1          2.5         0   0.0       0          10   \n",
              "4           1821     1          1.2         0  13.0       1          44   \n",
              "\n",
              "   m_dep  mobile_wt  n_cores  pc  px_height  px_width   ram  sc_h  sc_w  \\\n",
              "0    0.6        188        2   2         20       756  2549     9     7   \n",
              "1    0.7        136        3   6        905      1988  2631    17     3   \n",
              "2    0.9        145        5   6       1263      1716  2603    11     2   \n",
              "3    0.8        131        6   9       1216      1786  2769    16     8   \n",
              "4    0.6        141        2  14       1208      1212  1411     8     2   \n",
              "\n",
              "   talk_time  three_g  touch_screen  wifi  price_range  \n",
              "0         19        0             0     1            1  \n",
              "1          7        1             1     0            2  \n",
              "2          9        1             1     0            2  \n",
              "3         11        1             0     0            2  \n",
              "4         15        1             1     0            1  "
            ],
            "text/html": [
              "\n",
              "  <div id=\"df-6b914f41-9905-4444-9cda-141d118a2a70\">\n",
              "    <div class=\"colab-df-container\">\n",
              "      <div>\n",
              "<style scoped>\n",
              "    .dataframe tbody tr th:only-of-type {\n",
              "        vertical-align: middle;\n",
              "    }\n",
              "\n",
              "    .dataframe tbody tr th {\n",
              "        vertical-align: top;\n",
              "    }\n",
              "\n",
              "    .dataframe thead th {\n",
              "        text-align: right;\n",
              "    }\n",
              "</style>\n",
              "<table border=\"1\" class=\"dataframe\">\n",
              "  <thead>\n",
              "    <tr style=\"text-align: right;\">\n",
              "      <th></th>\n",
              "      <th>battery_power</th>\n",
              "      <th>blue</th>\n",
              "      <th>clock_speed</th>\n",
              "      <th>dual_sim</th>\n",
              "      <th>fc</th>\n",
              "      <th>four_g</th>\n",
              "      <th>int_memory</th>\n",
              "      <th>m_dep</th>\n",
              "      <th>mobile_wt</th>\n",
              "      <th>n_cores</th>\n",
              "      <th>pc</th>\n",
              "      <th>px_height</th>\n",
              "      <th>px_width</th>\n",
              "      <th>ram</th>\n",
              "      <th>sc_h</th>\n",
              "      <th>sc_w</th>\n",
              "      <th>talk_time</th>\n",
              "      <th>three_g</th>\n",
              "      <th>touch_screen</th>\n",
              "      <th>wifi</th>\n",
              "      <th>price_range</th>\n",
              "    </tr>\n",
              "  </thead>\n",
              "  <tbody>\n",
              "    <tr>\n",
              "      <th>0</th>\n",
              "      <td>842</td>\n",
              "      <td>0</td>\n",
              "      <td>2.2</td>\n",
              "      <td>0</td>\n",
              "      <td>1.0</td>\n",
              "      <td>0</td>\n",
              "      <td>7</td>\n",
              "      <td>0.6</td>\n",
              "      <td>188</td>\n",
              "      <td>2</td>\n",
              "      <td>2</td>\n",
              "      <td>20</td>\n",
              "      <td>756</td>\n",
              "      <td>2549</td>\n",
              "      <td>9</td>\n",
              "      <td>7</td>\n",
              "      <td>19</td>\n",
              "      <td>0</td>\n",
              "      <td>0</td>\n",
              "      <td>1</td>\n",
              "      <td>1</td>\n",
              "    </tr>\n",
              "    <tr>\n",
              "      <th>1</th>\n",
              "      <td>1021</td>\n",
              "      <td>1</td>\n",
              "      <td>0.5</td>\n",
              "      <td>1</td>\n",
              "      <td>0.0</td>\n",
              "      <td>1</td>\n",
              "      <td>53</td>\n",
              "      <td>0.7</td>\n",
              "      <td>136</td>\n",
              "      <td>3</td>\n",
              "      <td>6</td>\n",
              "      <td>905</td>\n",
              "      <td>1988</td>\n",
              "      <td>2631</td>\n",
              "      <td>17</td>\n",
              "      <td>3</td>\n",
              "      <td>7</td>\n",
              "      <td>1</td>\n",
              "      <td>1</td>\n",
              "      <td>0</td>\n",
              "      <td>2</td>\n",
              "    </tr>\n",
              "    <tr>\n",
              "      <th>2</th>\n",
              "      <td>563</td>\n",
              "      <td>1</td>\n",
              "      <td>0.5</td>\n",
              "      <td>1</td>\n",
              "      <td>2.0</td>\n",
              "      <td>1</td>\n",
              "      <td>41</td>\n",
              "      <td>0.9</td>\n",
              "      <td>145</td>\n",
              "      <td>5</td>\n",
              "      <td>6</td>\n",
              "      <td>1263</td>\n",
              "      <td>1716</td>\n",
              "      <td>2603</td>\n",
              "      <td>11</td>\n",
              "      <td>2</td>\n",
              "      <td>9</td>\n",
              "      <td>1</td>\n",
              "      <td>1</td>\n",
              "      <td>0</td>\n",
              "      <td>2</td>\n",
              "    </tr>\n",
              "    <tr>\n",
              "      <th>3</th>\n",
              "      <td>615</td>\n",
              "      <td>1</td>\n",
              "      <td>2.5</td>\n",
              "      <td>0</td>\n",
              "      <td>0.0</td>\n",
              "      <td>0</td>\n",
              "      <td>10</td>\n",
              "      <td>0.8</td>\n",
              "      <td>131</td>\n",
              "      <td>6</td>\n",
              "      <td>9</td>\n",
              "      <td>1216</td>\n",
              "      <td>1786</td>\n",
              "      <td>2769</td>\n",
              "      <td>16</td>\n",
              "      <td>8</td>\n",
              "      <td>11</td>\n",
              "      <td>1</td>\n",
              "      <td>0</td>\n",
              "      <td>0</td>\n",
              "      <td>2</td>\n",
              "    </tr>\n",
              "    <tr>\n",
              "      <th>4</th>\n",
              "      <td>1821</td>\n",
              "      <td>1</td>\n",
              "      <td>1.2</td>\n",
              "      <td>0</td>\n",
              "      <td>13.0</td>\n",
              "      <td>1</td>\n",
              "      <td>44</td>\n",
              "      <td>0.6</td>\n",
              "      <td>141</td>\n",
              "      <td>2</td>\n",
              "      <td>14</td>\n",
              "      <td>1208</td>\n",
              "      <td>1212</td>\n",
              "      <td>1411</td>\n",
              "      <td>8</td>\n",
              "      <td>2</td>\n",
              "      <td>15</td>\n",
              "      <td>1</td>\n",
              "      <td>1</td>\n",
              "      <td>0</td>\n",
              "      <td>1</td>\n",
              "    </tr>\n",
              "  </tbody>\n",
              "</table>\n",
              "</div>\n",
              "      <button class=\"colab-df-convert\" onclick=\"convertToInteractive('df-6b914f41-9905-4444-9cda-141d118a2a70')\"\n",
              "              title=\"Convert this dataframe to an interactive table.\"\n",
              "              style=\"display:none;\">\n",
              "        \n",
              "  <svg xmlns=\"http://www.w3.org/2000/svg\" height=\"24px\"viewBox=\"0 0 24 24\"\n",
              "       width=\"24px\">\n",
              "    <path d=\"M0 0h24v24H0V0z\" fill=\"none\"/>\n",
              "    <path d=\"M18.56 5.44l.94 2.06.94-2.06 2.06-.94-2.06-.94-.94-2.06-.94 2.06-2.06.94zm-11 1L8.5 8.5l.94-2.06 2.06-.94-2.06-.94L8.5 2.5l-.94 2.06-2.06.94zm10 10l.94 2.06.94-2.06 2.06-.94-2.06-.94-.94-2.06-.94 2.06-2.06.94z\"/><path d=\"M17.41 7.96l-1.37-1.37c-.4-.4-.92-.59-1.43-.59-.52 0-1.04.2-1.43.59L10.3 9.45l-7.72 7.72c-.78.78-.78 2.05 0 2.83L4 21.41c.39.39.9.59 1.41.59.51 0 1.02-.2 1.41-.59l7.78-7.78 2.81-2.81c.8-.78.8-2.07 0-2.86zM5.41 20L4 18.59l7.72-7.72 1.47 1.35L5.41 20z\"/>\n",
              "  </svg>\n",
              "      </button>\n",
              "      \n",
              "  <style>\n",
              "    .colab-df-container {\n",
              "      display:flex;\n",
              "      flex-wrap:wrap;\n",
              "      gap: 12px;\n",
              "    }\n",
              "\n",
              "    .colab-df-convert {\n",
              "      background-color: #E8F0FE;\n",
              "      border: none;\n",
              "      border-radius: 50%;\n",
              "      cursor: pointer;\n",
              "      display: none;\n",
              "      fill: #1967D2;\n",
              "      height: 32px;\n",
              "      padding: 0 0 0 0;\n",
              "      width: 32px;\n",
              "    }\n",
              "\n",
              "    .colab-df-convert:hover {\n",
              "      background-color: #E2EBFA;\n",
              "      box-shadow: 0px 1px 2px rgba(60, 64, 67, 0.3), 0px 1px 3px 1px rgba(60, 64, 67, 0.15);\n",
              "      fill: #174EA6;\n",
              "    }\n",
              "\n",
              "    [theme=dark] .colab-df-convert {\n",
              "      background-color: #3B4455;\n",
              "      fill: #D2E3FC;\n",
              "    }\n",
              "\n",
              "    [theme=dark] .colab-df-convert:hover {\n",
              "      background-color: #434B5C;\n",
              "      box-shadow: 0px 1px 3px 1px rgba(0, 0, 0, 0.15);\n",
              "      filter: drop-shadow(0px 1px 2px rgba(0, 0, 0, 0.3));\n",
              "      fill: #FFFFFF;\n",
              "    }\n",
              "  </style>\n",
              "\n",
              "      <script>\n",
              "        const buttonEl =\n",
              "          document.querySelector('#df-6b914f41-9905-4444-9cda-141d118a2a70 button.colab-df-convert');\n",
              "        buttonEl.style.display =\n",
              "          google.colab.kernel.accessAllowed ? 'block' : 'none';\n",
              "\n",
              "        async function convertToInteractive(key) {\n",
              "          const element = document.querySelector('#df-6b914f41-9905-4444-9cda-141d118a2a70');\n",
              "          const dataTable =\n",
              "            await google.colab.kernel.invokeFunction('convertToInteractive',\n",
              "                                                     [key], {});\n",
              "          if (!dataTable) return;\n",
              "\n",
              "          const docLinkHtml = 'Like what you see? Visit the ' +\n",
              "            '<a target=\"_blank\" href=https://colab.research.google.com/notebooks/data_table.ipynb>data table notebook</a>'\n",
              "            + ' to learn more about interactive tables.';\n",
              "          element.innerHTML = '';\n",
              "          dataTable['output_type'] = 'display_data';\n",
              "          await google.colab.output.renderOutput(dataTable, element);\n",
              "          const docLink = document.createElement('div');\n",
              "          docLink.innerHTML = docLinkHtml;\n",
              "          element.appendChild(docLink);\n",
              "        }\n",
              "      </script>\n",
              "    </div>\n",
              "  </div>\n",
              "  "
            ]
          },
          "metadata": {},
          "execution_count": 137
        }
      ],
      "source": [
        "m_p_t.head()"
      ]
    },
    {
      "cell_type": "code",
      "execution_count": null,
      "metadata": {
        "id": "DMQq0k5iEFxH"
      },
      "outputs": [],
      "source": []
    },
    {
      "cell_type": "code",
      "execution_count": null,
      "metadata": {
        "id": "-m3pxsYu6wke",
        "colab": {
          "base_uri": "https://localhost:8080/"
        },
        "outputId": "d758d07a-6667-4e91-fac4-6555508ff6c3"
      },
      "outputs": [
        {
          "output_type": "execute_result",
          "data": {
            "text/plain": [
              "['ram',\n",
              " 'battery_power',\n",
              " 'px_width',\n",
              " 'px_height',\n",
              " 'mobile_wt',\n",
              " 'int_memory',\n",
              " 'n_cores',\n",
              " 'sc_h']"
            ]
          },
          "metadata": {},
          "execution_count": 138
        }
      ],
      "source": [
        "relevent_colms"
      ]
    },
    {
      "cell_type": "markdown",
      "source": [
        "# **Creating a model to predict the price_range based on ram, battery_power, px_width, px_height using Decision Tree**"
      ],
      "metadata": {
        "id": "_q5GvUzLQxRa"
      }
    },
    {
      "cell_type": "code",
      "source": [],
      "metadata": {
        "id": "esG8j3F-8zPo"
      },
      "execution_count": null,
      "outputs": []
    },
    {
      "cell_type": "markdown",
      "source": [
        "## **Coding my model from scratch**"
      ],
      "metadata": {
        "id": "tVG_QuAORPQr"
      }
    },
    {
      "cell_type": "markdown",
      "source": [
        "#### **Node Class**"
      ],
      "metadata": {
        "id": "8RIjKro5RWrZ"
      }
    },
    {
      "cell_type": "code",
      "execution_count": null,
      "metadata": {
        "id": "wpsP7lge7DTl"
      },
      "outputs": [],
      "source": [
        "class Node():\n",
        "\n",
        "  def __init__(self, f_idx = None, threshold = None, left = None, right = None, IG = None,  value = None,):\n",
        "\n",
        "    # Decision Node\n",
        "    self.f_idx = f_idx\n",
        "    self.threshold = threshold\n",
        "    self.IG = IG\n",
        "    self.left = left\n",
        "    self.right = right\n",
        "\n",
        "\n",
        "    # Leaf Node\n",
        "    self.value = value\n"
      ]
    },
    {
      "cell_type": "markdown",
      "source": [
        "#### **Decision Tree Class**"
      ],
      "metadata": {
        "id": "YGNE7tgKSOoa"
      }
    },
    {
      "cell_type": "code",
      "source": [
        "class Decision_tree():\n",
        "\n",
        "  def __init__(self, min_sample_split = 2, max_depth = 2):\n",
        "\n",
        "    self.root = None\n",
        "\n",
        "    self.min_sample_split = min_sample_split\n",
        "    self.max_depth = max_depth\n",
        "\n",
        "\n",
        "  def make_tree(self, df, cur_depth = 0):\n",
        "\n",
        "    X, Y = df[:, : -1], df[:, -1]\n",
        "\n",
        "    n_samp, n_feature = np.shape(X)\n",
        "\n",
        "    if n_samp >= self.min_sample_split and cur_depth <= self.max_depth:\n",
        "\n",
        "      best_split = self.get_require_split(df, n_samp, n_feature)\n",
        "\n",
        "      if best_split['IG'] > 0:\n",
        "\n",
        "        left = self.make_tree(best_split['left_df'], cur_depth + 1)\n",
        "        right = self.make_tree(best_split['right_df'], cur_depth + 1)\n",
        "\n",
        "        return Node(best_split['f_idx'], best_split['threshold'], left, right, best_split['IG'])\n",
        "\n",
        "    leaf_node = self.get_leaf_val(Y)\n",
        "\n",
        "    return Node(value = leaf_node)\n",
        "\n",
        "  def get_require_split(self, df, n_samp, n_feature):\n",
        "\n",
        "    best_split = {}\n",
        "\n",
        "    max_IG = -float(\"inf\")\n",
        "\n",
        "    for f_idx in range(n_feature):\n",
        "\n",
        "      f_values = df[:, f_idx]\n",
        "      n_threshholds = np.unique(f_values)\n",
        "\n",
        "      for threshold in n_threshholds:\n",
        "\n",
        "        left_df = np.array([r for r in df if r[f_idx] <= threshold])\n",
        "        right_df = np.array([r for r in df if r[f_idx] > threshold])\n",
        "\n",
        "        if len(left_df) > 0 and len(right_df) > 0:\n",
        "\n",
        "          parent_y, l_child_y, r_child_y = df[:, -1], left_df[:, -1], right_df[:, -1]\n",
        "          #\n",
        "          cur_IG = self.information_gain(parent_y, l_child_y, r_child_y)\n",
        "\n",
        "          if cur_IG > max_IG:\n",
        "\n",
        "            max_IG = cur_IG\n",
        "\n",
        "            best_split['f_idx'] = f_idx\n",
        "            best_split['threshold'] = threshold\n",
        "            best_split['left_df'] = left_df\n",
        "            best_split['right_df'] = right_df\n",
        "            best_split['IG'] = cur_IG\n",
        "\n",
        "    return best_split\n",
        "\n",
        "  def information_gain(self, parent, l_child, r_child):\n",
        "\n",
        "    l_weight = len(l_child) / len(parent)\n",
        "    r_weight = len(r_child) / len(parent)\n",
        "\n",
        "    G_parent = self.gini_index(parent)\n",
        "    G_l_child = self.gini_index(l_child)\n",
        "    G_r_child = self.gini_index(r_child)\n",
        "\n",
        "    IG = G_parent - (l_weight * G_l_child + r_weight * G_r_child)\n",
        "\n",
        "    return IG\n",
        "\n",
        "  def gini_index(self, target):\n",
        "\n",
        "    categories = np.unique(target)\n",
        "\n",
        "    gini_index = 0\n",
        "\n",
        "    for catg in categories:\n",
        "      p = len(target[target == catg]) / len(target)\n",
        "      gini_index += p**2\n",
        "\n",
        "    return 1 - gini_index\n",
        "\n",
        "\n",
        "  def get_leaf_val(self, Y):\n",
        "    Y = list(Y)\n",
        "\n",
        "    return max(Y, key = Y.count)\n",
        "\n",
        "  def fit(self, X, Y):\n",
        "    df = np.concatenate((X, Y), axis = 1)\n",
        "    self.root = self.make_tree(df)\n",
        "\n",
        "  def predict(self, X):\n",
        "    pred = [self.get_pred(x, self.root) for x in X]\n",
        "    return pred\n",
        "\n",
        "  def get_pred(self, x, root):\n",
        "\n",
        "    if root.value != None:\n",
        "      return root.value\n",
        "\n",
        "    f_val = x[root.f_idx]\n",
        "\n",
        "    if f_val <= root.threshold:\n",
        "      return self.get_pred(x, root.left)\n",
        "    else:\n",
        "      return self.get_pred(x, root.right)\n",
        "\n",
        "\n",
        "\n"
      ],
      "metadata": {
        "id": "j4t5fJNESOvO"
      },
      "execution_count": null,
      "outputs": []
    },
    {
      "cell_type": "code",
      "source": [
        "data = stdz_m_p_t[['ram', 'battery_power', 'px_width', 'px_height', 'price_range']]\n",
        "\n",
        "X = data.iloc[:, :-1].values\n",
        "Y = data.iloc[:, -1].values.reshape(-1,1)\n",
        "X_train, X_test, Y_train, Y_test = train_test_split(X, Y, test_size=.2, random_state=41)\n",
        "\n",
        "\n"
      ],
      "metadata": {
        "id": "SFb-YRi_fgpC"
      },
      "execution_count": null,
      "outputs": []
    },
    {
      "cell_type": "code",
      "source": [
        "model = Decision_tree(min_sample_split=2, max_depth=7)\n",
        "model.fit(X_train,Y_train)"
      ],
      "metadata": {
        "id": "oauTGumLfhj6"
      },
      "execution_count": null,
      "outputs": []
    },
    {
      "cell_type": "code",
      "source": [
        "stdz_m_p_t[['ram', 'battery_power', 'px_width', 'px_height', 'price_range']].head()"
      ],
      "metadata": {
        "colab": {
          "base_uri": "https://localhost:8080/",
          "height": 206
        },
        "id": "o-JnrlDv8dc1",
        "outputId": "b5284551-1647-4b86-8036-5cd76b8e25db"
      },
      "execution_count": null,
      "outputs": [
        {
          "output_type": "execute_result",
          "data": {
            "text/plain": [
              "      ram  battery_power  px_width  px_height  price_range\n",
              "0  2549.0            842       756       20.0            1\n",
              "1  2631.0           1021      1988      905.0            2\n",
              "2  2603.0            563      1716     1263.0            2\n",
              "3  2769.0            615      1786     1216.0            2\n",
              "4  1411.0           1821      1212     1208.0            1"
            ],
            "text/html": [
              "\n",
              "  <div id=\"df-186c51ed-5099-49b5-8977-b91af22809d8\">\n",
              "    <div class=\"colab-df-container\">\n",
              "      <div>\n",
              "<style scoped>\n",
              "    .dataframe tbody tr th:only-of-type {\n",
              "        vertical-align: middle;\n",
              "    }\n",
              "\n",
              "    .dataframe tbody tr th {\n",
              "        vertical-align: top;\n",
              "    }\n",
              "\n",
              "    .dataframe thead th {\n",
              "        text-align: right;\n",
              "    }\n",
              "</style>\n",
              "<table border=\"1\" class=\"dataframe\">\n",
              "  <thead>\n",
              "    <tr style=\"text-align: right;\">\n",
              "      <th></th>\n",
              "      <th>ram</th>\n",
              "      <th>battery_power</th>\n",
              "      <th>px_width</th>\n",
              "      <th>px_height</th>\n",
              "      <th>price_range</th>\n",
              "    </tr>\n",
              "  </thead>\n",
              "  <tbody>\n",
              "    <tr>\n",
              "      <th>0</th>\n",
              "      <td>2549.0</td>\n",
              "      <td>842</td>\n",
              "      <td>756</td>\n",
              "      <td>20.0</td>\n",
              "      <td>1</td>\n",
              "    </tr>\n",
              "    <tr>\n",
              "      <th>1</th>\n",
              "      <td>2631.0</td>\n",
              "      <td>1021</td>\n",
              "      <td>1988</td>\n",
              "      <td>905.0</td>\n",
              "      <td>2</td>\n",
              "    </tr>\n",
              "    <tr>\n",
              "      <th>2</th>\n",
              "      <td>2603.0</td>\n",
              "      <td>563</td>\n",
              "      <td>1716</td>\n",
              "      <td>1263.0</td>\n",
              "      <td>2</td>\n",
              "    </tr>\n",
              "    <tr>\n",
              "      <th>3</th>\n",
              "      <td>2769.0</td>\n",
              "      <td>615</td>\n",
              "      <td>1786</td>\n",
              "      <td>1216.0</td>\n",
              "      <td>2</td>\n",
              "    </tr>\n",
              "    <tr>\n",
              "      <th>4</th>\n",
              "      <td>1411.0</td>\n",
              "      <td>1821</td>\n",
              "      <td>1212</td>\n",
              "      <td>1208.0</td>\n",
              "      <td>1</td>\n",
              "    </tr>\n",
              "  </tbody>\n",
              "</table>\n",
              "</div>\n",
              "      <button class=\"colab-df-convert\" onclick=\"convertToInteractive('df-186c51ed-5099-49b5-8977-b91af22809d8')\"\n",
              "              title=\"Convert this dataframe to an interactive table.\"\n",
              "              style=\"display:none;\">\n",
              "        \n",
              "  <svg xmlns=\"http://www.w3.org/2000/svg\" height=\"24px\"viewBox=\"0 0 24 24\"\n",
              "       width=\"24px\">\n",
              "    <path d=\"M0 0h24v24H0V0z\" fill=\"none\"/>\n",
              "    <path d=\"M18.56 5.44l.94 2.06.94-2.06 2.06-.94-2.06-.94-.94-2.06-.94 2.06-2.06.94zm-11 1L8.5 8.5l.94-2.06 2.06-.94-2.06-.94L8.5 2.5l-.94 2.06-2.06.94zm10 10l.94 2.06.94-2.06 2.06-.94-2.06-.94-.94-2.06-.94 2.06-2.06.94z\"/><path d=\"M17.41 7.96l-1.37-1.37c-.4-.4-.92-.59-1.43-.59-.52 0-1.04.2-1.43.59L10.3 9.45l-7.72 7.72c-.78.78-.78 2.05 0 2.83L4 21.41c.39.39.9.59 1.41.59.51 0 1.02-.2 1.41-.59l7.78-7.78 2.81-2.81c.8-.78.8-2.07 0-2.86zM5.41 20L4 18.59l7.72-7.72 1.47 1.35L5.41 20z\"/>\n",
              "  </svg>\n",
              "      </button>\n",
              "      \n",
              "  <style>\n",
              "    .colab-df-container {\n",
              "      display:flex;\n",
              "      flex-wrap:wrap;\n",
              "      gap: 12px;\n",
              "    }\n",
              "\n",
              "    .colab-df-convert {\n",
              "      background-color: #E8F0FE;\n",
              "      border: none;\n",
              "      border-radius: 50%;\n",
              "      cursor: pointer;\n",
              "      display: none;\n",
              "      fill: #1967D2;\n",
              "      height: 32px;\n",
              "      padding: 0 0 0 0;\n",
              "      width: 32px;\n",
              "    }\n",
              "\n",
              "    .colab-df-convert:hover {\n",
              "      background-color: #E2EBFA;\n",
              "      box-shadow: 0px 1px 2px rgba(60, 64, 67, 0.3), 0px 1px 3px 1px rgba(60, 64, 67, 0.15);\n",
              "      fill: #174EA6;\n",
              "    }\n",
              "\n",
              "    [theme=dark] .colab-df-convert {\n",
              "      background-color: #3B4455;\n",
              "      fill: #D2E3FC;\n",
              "    }\n",
              "\n",
              "    [theme=dark] .colab-df-convert:hover {\n",
              "      background-color: #434B5C;\n",
              "      box-shadow: 0px 1px 3px 1px rgba(0, 0, 0, 0.15);\n",
              "      filter: drop-shadow(0px 1px 2px rgba(0, 0, 0, 0.3));\n",
              "      fill: #FFFFFF;\n",
              "    }\n",
              "  </style>\n",
              "\n",
              "      <script>\n",
              "        const buttonEl =\n",
              "          document.querySelector('#df-186c51ed-5099-49b5-8977-b91af22809d8 button.colab-df-convert');\n",
              "        buttonEl.style.display =\n",
              "          google.colab.kernel.accessAllowed ? 'block' : 'none';\n",
              "\n",
              "        async function convertToInteractive(key) {\n",
              "          const element = document.querySelector('#df-186c51ed-5099-49b5-8977-b91af22809d8');\n",
              "          const dataTable =\n",
              "            await google.colab.kernel.invokeFunction('convertToInteractive',\n",
              "                                                     [key], {});\n",
              "          if (!dataTable) return;\n",
              "\n",
              "          const docLinkHtml = 'Like what you see? Visit the ' +\n",
              "            '<a target=\"_blank\" href=https://colab.research.google.com/notebooks/data_table.ipynb>data table notebook</a>'\n",
              "            + ' to learn more about interactive tables.';\n",
              "          element.innerHTML = '';\n",
              "          dataTable['output_type'] = 'display_data';\n",
              "          await google.colab.output.renderOutput(dataTable, element);\n",
              "          const docLink = document.createElement('div');\n",
              "          docLink.innerHTML = docLinkHtml;\n",
              "          element.appendChild(docLink);\n",
              "        }\n",
              "      </script>\n",
              "    </div>\n",
              "  </div>\n",
              "  "
            ]
          },
          "metadata": {},
          "execution_count": 168
        }
      ]
    },
    {
      "cell_type": "code",
      "source": [
        "input = [2631.0, 1021, 1988, 905]"
      ],
      "metadata": {
        "id": "ybvLYTjg9Dr8"
      },
      "execution_count": null,
      "outputs": []
    },
    {
      "cell_type": "code",
      "source": [
        "Y_pred = model.predict([input])\n",
        "Y_pred"
      ],
      "metadata": {
        "id": "s5uzDk9gfhn6",
        "colab": {
          "base_uri": "https://localhost:8080/"
        },
        "outputId": "0949fecb-d81b-419f-96b6-70c1482e3790"
      },
      "execution_count": null,
      "outputs": [
        {
          "output_type": "execute_result",
          "data": {
            "text/plain": [
              "[2.0]"
            ]
          },
          "metadata": {},
          "execution_count": 174
        }
      ]
    },
    {
      "cell_type": "code",
      "source": [
        "for x in range(len(Y_test[:100])):\n",
        "  print(Y_test[x], end = ' ')\n",
        "  if x % 10 == 0 and x != 0:\n",
        "    print()\n",
        "\n",
        ""
      ],
      "metadata": {
        "id": "njhKm9Zve-gM",
        "colab": {
          "base_uri": "https://localhost:8080/"
        },
        "outputId": "8325f065-80de-476a-d8f0-bacdbf50ebd0"
      },
      "execution_count": null,
      "outputs": [
        {
          "output_type": "stream",
          "name": "stdout",
          "text": [
            "[1] [2] [2] [3] [2] [2] [1] [0] [1] [0] [2] \n",
            "[2] [3] [0] [1] [3] [1] [2] [2] [3] [0] \n",
            "[2] [0] [0] [3] [0] [0] [0] [0] [1] [3] \n",
            "[2] [0] [2] [1] [2] [0] [1] [0] [0] [1] \n",
            "[1] [0] [2] [3] [1] [3] [0] [1] [0] [2] \n",
            "[2] [2] [0] [3] [1] [3] [3] [3] [1] [3] \n",
            "[3] [2] [0] [2] [0] [3] [3] [3] [1] [0] \n",
            "[0] [2] [0] [2] [3] [1] [3] [1] [3] [3] \n",
            "[0] [2] [0] [0] [0] [3] [2] [0] [2] [2] \n",
            "[1] [0] [0] [1] [1] [3] [3] [0] [3] "
          ]
        }
      ]
    },
    {
      "cell_type": "code",
      "source": [
        "for x in range(len(Y_pred[:100])):\n",
        "  print(Y_test[x], end = ' ')\n",
        "  if x % 10 == 0 and x != 0:\n",
        "    print()"
      ],
      "metadata": {
        "id": "1dT7e6Dre604",
        "colab": {
          "base_uri": "https://localhost:8080/"
        },
        "outputId": "451187f8-5163-4cc4-a551-d048a8b20eb7"
      },
      "execution_count": null,
      "outputs": [
        {
          "output_type": "stream",
          "name": "stdout",
          "text": [
            "[1] [2] [2] [3] [2] [2] [1] [0] [1] [0] [2] \n",
            "[2] [3] [0] [1] [3] [1] [2] [2] [3] [0] \n",
            "[2] [0] [0] [3] [0] [0] [0] [0] [1] [3] \n",
            "[2] [0] [2] [1] [2] [0] [1] [0] [0] [1] \n",
            "[1] [0] [2] [3] [1] [3] [0] [1] [0] [2] \n",
            "[2] [2] [0] [3] [1] [3] [3] [3] [1] [3] \n",
            "[3] [2] [0] [2] [0] [3] [3] [3] [1] [0] \n",
            "[0] [2] [0] [2] [3] [1] [3] [1] [3] [3] \n",
            "[0] [2] [0] [0] [0] [3] [2] [0] [2] [2] \n",
            "[1] [0] [0] [1] [1] [3] [3] [0] [3] "
          ]
        }
      ]
    },
    {
      "cell_type": "code",
      "source": [
        "X_test[:10, :]"
      ],
      "metadata": {
        "id": "lJmACdoaSNWt",
        "colab": {
          "base_uri": "https://localhost:8080/"
        },
        "outputId": "e5e30a46-1670-4d5c-8d47-b8ba2486c896"
      },
      "execution_count": null,
      "outputs": [
        {
          "output_type": "execute_result",
          "data": {
            "text/plain": [
              "array([[1026., 1331., 1226., 1109.],\n",
              "       [2424., 1660.,  569.,  440.],\n",
              "       [2547., 1187., 1125.,  215.],\n",
              "       [3969.,  788., 1161.,   42.],\n",
              "       [1955., 1872., 1259.,  459.],\n",
              "       [2481., 1820., 1884.,  202.],\n",
              "       [2330.,  912., 1053.,  329.],\n",
              "       [ 558., 1273., 1399.,  485.],\n",
              "       [1280., 1392., 1098.,  482.],\n",
              "       [ 513.,  509., 1224., 1137.]])"
            ]
          },
          "metadata": {},
          "execution_count": 146
        }
      ]
    },
    {
      "cell_type": "code",
      "source": [
        "model.predict([[1026., 1331., 1226., 1109]])\n"
      ],
      "metadata": {
        "id": "c2qm8JIAPQVH",
        "colab": {
          "base_uri": "https://localhost:8080/"
        },
        "outputId": "e640ff2d-928f-45b9-cb82-1f36d278fbec"
      },
      "execution_count": null,
      "outputs": [
        {
          "output_type": "execute_result",
          "data": {
            "text/plain": [
              "[0.0]"
            ]
          },
          "metadata": {},
          "execution_count": 147
        }
      ]
    },
    {
      "cell_type": "markdown",
      "source": [
        "### **Comparing the Accuracy of my model vs sklearn model**"
      ],
      "metadata": {
        "id": "vzqV7IsOUxym"
      }
    },
    {
      "cell_type": "code",
      "source": [
        "from sklearn.tree import DecisionTreeClassifier"
      ],
      "metadata": {
        "id": "9mgCR-HDO9IJ"
      },
      "execution_count": null,
      "outputs": []
    },
    {
      "cell_type": "code",
      "source": [
        "clf = DecisionTreeClassifier(max_depth=7, min_samples_split=2)\n",
        "clf.fit(X_train, Y_train)"
      ],
      "metadata": {
        "id": "icM6Nn-APg_p",
        "colab": {
          "base_uri": "https://localhost:8080/",
          "height": 75
        },
        "outputId": "d954b35d-cece-44c0-be5d-21a2913c536f"
      },
      "execution_count": null,
      "outputs": [
        {
          "output_type": "execute_result",
          "data": {
            "text/plain": [
              "DecisionTreeClassifier(max_depth=7)"
            ],
            "text/html": [
              "<style>#sk-container-id-2 {color: black;background-color: white;}#sk-container-id-2 pre{padding: 0;}#sk-container-id-2 div.sk-toggleable {background-color: white;}#sk-container-id-2 label.sk-toggleable__label {cursor: pointer;display: block;width: 100%;margin-bottom: 0;padding: 0.3em;box-sizing: border-box;text-align: center;}#sk-container-id-2 label.sk-toggleable__label-arrow:before {content: \"▸\";float: left;margin-right: 0.25em;color: #696969;}#sk-container-id-2 label.sk-toggleable__label-arrow:hover:before {color: black;}#sk-container-id-2 div.sk-estimator:hover label.sk-toggleable__label-arrow:before {color: black;}#sk-container-id-2 div.sk-toggleable__content {max-height: 0;max-width: 0;overflow: hidden;text-align: left;background-color: #f0f8ff;}#sk-container-id-2 div.sk-toggleable__content pre {margin: 0.2em;color: black;border-radius: 0.25em;background-color: #f0f8ff;}#sk-container-id-2 input.sk-toggleable__control:checked~div.sk-toggleable__content {max-height: 200px;max-width: 100%;overflow: auto;}#sk-container-id-2 input.sk-toggleable__control:checked~label.sk-toggleable__label-arrow:before {content: \"▾\";}#sk-container-id-2 div.sk-estimator input.sk-toggleable__control:checked~label.sk-toggleable__label {background-color: #d4ebff;}#sk-container-id-2 div.sk-label input.sk-toggleable__control:checked~label.sk-toggleable__label {background-color: #d4ebff;}#sk-container-id-2 input.sk-hidden--visually {border: 0;clip: rect(1px 1px 1px 1px);clip: rect(1px, 1px, 1px, 1px);height: 1px;margin: -1px;overflow: hidden;padding: 0;position: absolute;width: 1px;}#sk-container-id-2 div.sk-estimator {font-family: monospace;background-color: #f0f8ff;border: 1px dotted black;border-radius: 0.25em;box-sizing: border-box;margin-bottom: 0.5em;}#sk-container-id-2 div.sk-estimator:hover {background-color: #d4ebff;}#sk-container-id-2 div.sk-parallel-item::after {content: \"\";width: 100%;border-bottom: 1px solid gray;flex-grow: 1;}#sk-container-id-2 div.sk-label:hover label.sk-toggleable__label {background-color: #d4ebff;}#sk-container-id-2 div.sk-serial::before {content: \"\";position: absolute;border-left: 1px solid gray;box-sizing: border-box;top: 0;bottom: 0;left: 50%;z-index: 0;}#sk-container-id-2 div.sk-serial {display: flex;flex-direction: column;align-items: center;background-color: white;padding-right: 0.2em;padding-left: 0.2em;position: relative;}#sk-container-id-2 div.sk-item {position: relative;z-index: 1;}#sk-container-id-2 div.sk-parallel {display: flex;align-items: stretch;justify-content: center;background-color: white;position: relative;}#sk-container-id-2 div.sk-item::before, #sk-container-id-2 div.sk-parallel-item::before {content: \"\";position: absolute;border-left: 1px solid gray;box-sizing: border-box;top: 0;bottom: 0;left: 50%;z-index: -1;}#sk-container-id-2 div.sk-parallel-item {display: flex;flex-direction: column;z-index: 1;position: relative;background-color: white;}#sk-container-id-2 div.sk-parallel-item:first-child::after {align-self: flex-end;width: 50%;}#sk-container-id-2 div.sk-parallel-item:last-child::after {align-self: flex-start;width: 50%;}#sk-container-id-2 div.sk-parallel-item:only-child::after {width: 0;}#sk-container-id-2 div.sk-dashed-wrapped {border: 1px dashed gray;margin: 0 0.4em 0.5em 0.4em;box-sizing: border-box;padding-bottom: 0.4em;background-color: white;}#sk-container-id-2 div.sk-label label {font-family: monospace;font-weight: bold;display: inline-block;line-height: 1.2em;}#sk-container-id-2 div.sk-label-container {text-align: center;}#sk-container-id-2 div.sk-container {/* jupyter's `normalize.less` sets `[hidden] { display: none; }` but bootstrap.min.css set `[hidden] { display: none !important; }` so we also need the `!important` here to be able to override the default hidden behavior on the sphinx rendered scikit-learn.org. See: https://github.com/scikit-learn/scikit-learn/issues/21755 */display: inline-block !important;position: relative;}#sk-container-id-2 div.sk-text-repr-fallback {display: none;}</style><div id=\"sk-container-id-2\" class=\"sk-top-container\"><div class=\"sk-text-repr-fallback\"><pre>DecisionTreeClassifier(max_depth=7)</pre><b>In a Jupyter environment, please rerun this cell to show the HTML representation or trust the notebook. <br />On GitHub, the HTML representation is unable to render, please try loading this page with nbviewer.org.</b></div><div class=\"sk-container\" hidden><div class=\"sk-item\"><div class=\"sk-estimator sk-toggleable\"><input class=\"sk-toggleable__control sk-hidden--visually\" id=\"sk-estimator-id-2\" type=\"checkbox\" checked><label for=\"sk-estimator-id-2\" class=\"sk-toggleable__label sk-toggleable__label-arrow\">DecisionTreeClassifier</label><div class=\"sk-toggleable__content\"><pre>DecisionTreeClassifier(max_depth=7)</pre></div></div></div></div></div>"
            ]
          },
          "metadata": {},
          "execution_count": 149
        }
      ]
    },
    {
      "cell_type": "code",
      "source": [
        "y_pred2 = clf.predict(X_test)"
      ],
      "metadata": {
        "id": "v0zzRpFbP0c5"
      },
      "execution_count": null,
      "outputs": []
    },
    {
      "cell_type": "markdown",
      "source": [
        "#### **Sklearn**"
      ],
      "metadata": {
        "id": "Ecwl2LddVARn"
      }
    },
    {
      "cell_type": "code",
      "source": [
        "accuracy_score(Y_test, y_pred2)"
      ],
      "metadata": {
        "id": "Qb6s3QviUl5J",
        "colab": {
          "base_uri": "https://localhost:8080/"
        },
        "outputId": "59936d65-c175-4599-86eb-7c49324fd766"
      },
      "execution_count": null,
      "outputs": [
        {
          "output_type": "execute_result",
          "data": {
            "text/plain": [
              "0.8425"
            ]
          },
          "metadata": {},
          "execution_count": 151
        }
      ]
    },
    {
      "cell_type": "markdown",
      "source": [
        "#### Ours"
      ],
      "metadata": {
        "id": "qaEERxnuVDGN"
      }
    },
    {
      "cell_type": "code",
      "source": [
        "accuracy_score(Y_test, Y_pred)"
      ],
      "metadata": {
        "id": "3DwhZjZsUqgA",
        "colab": {
          "base_uri": "https://localhost:8080/"
        },
        "outputId": "5416bc45-f12d-4a0e-bd15-84a0514043c2"
      },
      "execution_count": null,
      "outputs": [
        {
          "output_type": "execute_result",
          "data": {
            "text/plain": [
              "0.8475"
            ]
          },
          "metadata": {},
          "execution_count": 152
        }
      ]
    },
    {
      "cell_type": "markdown",
      "source": [
        "# **Hypothesis Test**"
      ],
      "metadata": {
        "id": "JV0B8SloLBHd"
      }
    },
    {
      "cell_type": "code",
      "source": [
        "stdz_m_p_t.head()"
      ],
      "metadata": {
        "id": "FBiOM7b8VEy6",
        "colab": {
          "base_uri": "https://localhost:8080/",
          "height": 270
        },
        "outputId": "6b233b43-bca2-4d3f-a9b1-3e9cfb0edb5f"
      },
      "execution_count": null,
      "outputs": [
        {
          "output_type": "execute_result",
          "data": {
            "text/plain": [
              "   battery_power  blue  clock_speed  dual_sim    fc  four_g  int_memory  \\\n",
              "0            842     0          2.2         0   1.0       0           7   \n",
              "1           1021     1          0.5         1   0.0       1          53   \n",
              "2            563     1          0.5         1   2.0       1          41   \n",
              "3            615     1          2.5         0   0.0       0          10   \n",
              "4           1821     1          1.2         0  13.0       1          44   \n",
              "\n",
              "   m_dep  mobile_wt  n_cores  pc  px_height  px_width     ram  sc_h  sc_w  \\\n",
              "0    0.6        188        2   2       20.0       756  2549.0     9     7   \n",
              "1    0.7        136        3   6      905.0      1988  2631.0    17     3   \n",
              "2    0.9        145        5   6     1263.0      1716  2603.0    11     2   \n",
              "3    0.8        131        6   9     1216.0      1786  2769.0    16     8   \n",
              "4    0.6        141        2  14     1208.0      1212  1411.0     8     2   \n",
              "\n",
              "   talk_time  three_g  touch_screen  wifi  price_range  \n",
              "0         19        0             0     1            1  \n",
              "1          7        1             1     0            2  \n",
              "2          9        1             1     0            2  \n",
              "3         11        1             0     0            2  \n",
              "4         15        1             1     0            1  "
            ],
            "text/html": [
              "\n",
              "  <div id=\"df-b151db9d-8e04-44a4-9c2a-e4f2523d6d6e\">\n",
              "    <div class=\"colab-df-container\">\n",
              "      <div>\n",
              "<style scoped>\n",
              "    .dataframe tbody tr th:only-of-type {\n",
              "        vertical-align: middle;\n",
              "    }\n",
              "\n",
              "    .dataframe tbody tr th {\n",
              "        vertical-align: top;\n",
              "    }\n",
              "\n",
              "    .dataframe thead th {\n",
              "        text-align: right;\n",
              "    }\n",
              "</style>\n",
              "<table border=\"1\" class=\"dataframe\">\n",
              "  <thead>\n",
              "    <tr style=\"text-align: right;\">\n",
              "      <th></th>\n",
              "      <th>battery_power</th>\n",
              "      <th>blue</th>\n",
              "      <th>clock_speed</th>\n",
              "      <th>dual_sim</th>\n",
              "      <th>fc</th>\n",
              "      <th>four_g</th>\n",
              "      <th>int_memory</th>\n",
              "      <th>m_dep</th>\n",
              "      <th>mobile_wt</th>\n",
              "      <th>n_cores</th>\n",
              "      <th>pc</th>\n",
              "      <th>px_height</th>\n",
              "      <th>px_width</th>\n",
              "      <th>ram</th>\n",
              "      <th>sc_h</th>\n",
              "      <th>sc_w</th>\n",
              "      <th>talk_time</th>\n",
              "      <th>three_g</th>\n",
              "      <th>touch_screen</th>\n",
              "      <th>wifi</th>\n",
              "      <th>price_range</th>\n",
              "    </tr>\n",
              "  </thead>\n",
              "  <tbody>\n",
              "    <tr>\n",
              "      <th>0</th>\n",
              "      <td>842</td>\n",
              "      <td>0</td>\n",
              "      <td>2.2</td>\n",
              "      <td>0</td>\n",
              "      <td>1.0</td>\n",
              "      <td>0</td>\n",
              "      <td>7</td>\n",
              "      <td>0.6</td>\n",
              "      <td>188</td>\n",
              "      <td>2</td>\n",
              "      <td>2</td>\n",
              "      <td>20.0</td>\n",
              "      <td>756</td>\n",
              "      <td>2549.0</td>\n",
              "      <td>9</td>\n",
              "      <td>7</td>\n",
              "      <td>19</td>\n",
              "      <td>0</td>\n",
              "      <td>0</td>\n",
              "      <td>1</td>\n",
              "      <td>1</td>\n",
              "    </tr>\n",
              "    <tr>\n",
              "      <th>1</th>\n",
              "      <td>1021</td>\n",
              "      <td>1</td>\n",
              "      <td>0.5</td>\n",
              "      <td>1</td>\n",
              "      <td>0.0</td>\n",
              "      <td>1</td>\n",
              "      <td>53</td>\n",
              "      <td>0.7</td>\n",
              "      <td>136</td>\n",
              "      <td>3</td>\n",
              "      <td>6</td>\n",
              "      <td>905.0</td>\n",
              "      <td>1988</td>\n",
              "      <td>2631.0</td>\n",
              "      <td>17</td>\n",
              "      <td>3</td>\n",
              "      <td>7</td>\n",
              "      <td>1</td>\n",
              "      <td>1</td>\n",
              "      <td>0</td>\n",
              "      <td>2</td>\n",
              "    </tr>\n",
              "    <tr>\n",
              "      <th>2</th>\n",
              "      <td>563</td>\n",
              "      <td>1</td>\n",
              "      <td>0.5</td>\n",
              "      <td>1</td>\n",
              "      <td>2.0</td>\n",
              "      <td>1</td>\n",
              "      <td>41</td>\n",
              "      <td>0.9</td>\n",
              "      <td>145</td>\n",
              "      <td>5</td>\n",
              "      <td>6</td>\n",
              "      <td>1263.0</td>\n",
              "      <td>1716</td>\n",
              "      <td>2603.0</td>\n",
              "      <td>11</td>\n",
              "      <td>2</td>\n",
              "      <td>9</td>\n",
              "      <td>1</td>\n",
              "      <td>1</td>\n",
              "      <td>0</td>\n",
              "      <td>2</td>\n",
              "    </tr>\n",
              "    <tr>\n",
              "      <th>3</th>\n",
              "      <td>615</td>\n",
              "      <td>1</td>\n",
              "      <td>2.5</td>\n",
              "      <td>0</td>\n",
              "      <td>0.0</td>\n",
              "      <td>0</td>\n",
              "      <td>10</td>\n",
              "      <td>0.8</td>\n",
              "      <td>131</td>\n",
              "      <td>6</td>\n",
              "      <td>9</td>\n",
              "      <td>1216.0</td>\n",
              "      <td>1786</td>\n",
              "      <td>2769.0</td>\n",
              "      <td>16</td>\n",
              "      <td>8</td>\n",
              "      <td>11</td>\n",
              "      <td>1</td>\n",
              "      <td>0</td>\n",
              "      <td>0</td>\n",
              "      <td>2</td>\n",
              "    </tr>\n",
              "    <tr>\n",
              "      <th>4</th>\n",
              "      <td>1821</td>\n",
              "      <td>1</td>\n",
              "      <td>1.2</td>\n",
              "      <td>0</td>\n",
              "      <td>13.0</td>\n",
              "      <td>1</td>\n",
              "      <td>44</td>\n",
              "      <td>0.6</td>\n",
              "      <td>141</td>\n",
              "      <td>2</td>\n",
              "      <td>14</td>\n",
              "      <td>1208.0</td>\n",
              "      <td>1212</td>\n",
              "      <td>1411.0</td>\n",
              "      <td>8</td>\n",
              "      <td>2</td>\n",
              "      <td>15</td>\n",
              "      <td>1</td>\n",
              "      <td>1</td>\n",
              "      <td>0</td>\n",
              "      <td>1</td>\n",
              "    </tr>\n",
              "  </tbody>\n",
              "</table>\n",
              "</div>\n",
              "      <button class=\"colab-df-convert\" onclick=\"convertToInteractive('df-b151db9d-8e04-44a4-9c2a-e4f2523d6d6e')\"\n",
              "              title=\"Convert this dataframe to an interactive table.\"\n",
              "              style=\"display:none;\">\n",
              "        \n",
              "  <svg xmlns=\"http://www.w3.org/2000/svg\" height=\"24px\"viewBox=\"0 0 24 24\"\n",
              "       width=\"24px\">\n",
              "    <path d=\"M0 0h24v24H0V0z\" fill=\"none\"/>\n",
              "    <path d=\"M18.56 5.44l.94 2.06.94-2.06 2.06-.94-2.06-.94-.94-2.06-.94 2.06-2.06.94zm-11 1L8.5 8.5l.94-2.06 2.06-.94-2.06-.94L8.5 2.5l-.94 2.06-2.06.94zm10 10l.94 2.06.94-2.06 2.06-.94-2.06-.94-.94-2.06-.94 2.06-2.06.94z\"/><path d=\"M17.41 7.96l-1.37-1.37c-.4-.4-.92-.59-1.43-.59-.52 0-1.04.2-1.43.59L10.3 9.45l-7.72 7.72c-.78.78-.78 2.05 0 2.83L4 21.41c.39.39.9.59 1.41.59.51 0 1.02-.2 1.41-.59l7.78-7.78 2.81-2.81c.8-.78.8-2.07 0-2.86zM5.41 20L4 18.59l7.72-7.72 1.47 1.35L5.41 20z\"/>\n",
              "  </svg>\n",
              "      </button>\n",
              "      \n",
              "  <style>\n",
              "    .colab-df-container {\n",
              "      display:flex;\n",
              "      flex-wrap:wrap;\n",
              "      gap: 12px;\n",
              "    }\n",
              "\n",
              "    .colab-df-convert {\n",
              "      background-color: #E8F0FE;\n",
              "      border: none;\n",
              "      border-radius: 50%;\n",
              "      cursor: pointer;\n",
              "      display: none;\n",
              "      fill: #1967D2;\n",
              "      height: 32px;\n",
              "      padding: 0 0 0 0;\n",
              "      width: 32px;\n",
              "    }\n",
              "\n",
              "    .colab-df-convert:hover {\n",
              "      background-color: #E2EBFA;\n",
              "      box-shadow: 0px 1px 2px rgba(60, 64, 67, 0.3), 0px 1px 3px 1px rgba(60, 64, 67, 0.15);\n",
              "      fill: #174EA6;\n",
              "    }\n",
              "\n",
              "    [theme=dark] .colab-df-convert {\n",
              "      background-color: #3B4455;\n",
              "      fill: #D2E3FC;\n",
              "    }\n",
              "\n",
              "    [theme=dark] .colab-df-convert:hover {\n",
              "      background-color: #434B5C;\n",
              "      box-shadow: 0px 1px 3px 1px rgba(0, 0, 0, 0.15);\n",
              "      filter: drop-shadow(0px 1px 2px rgba(0, 0, 0, 0.3));\n",
              "      fill: #FFFFFF;\n",
              "    }\n",
              "  </style>\n",
              "\n",
              "      <script>\n",
              "        const buttonEl =\n",
              "          document.querySelector('#df-b151db9d-8e04-44a4-9c2a-e4f2523d6d6e button.colab-df-convert');\n",
              "        buttonEl.style.display =\n",
              "          google.colab.kernel.accessAllowed ? 'block' : 'none';\n",
              "\n",
              "        async function convertToInteractive(key) {\n",
              "          const element = document.querySelector('#df-b151db9d-8e04-44a4-9c2a-e4f2523d6d6e');\n",
              "          const dataTable =\n",
              "            await google.colab.kernel.invokeFunction('convertToInteractive',\n",
              "                                                     [key], {});\n",
              "          if (!dataTable) return;\n",
              "\n",
              "          const docLinkHtml = 'Like what you see? Visit the ' +\n",
              "            '<a target=\"_blank\" href=https://colab.research.google.com/notebooks/data_table.ipynb>data table notebook</a>'\n",
              "            + ' to learn more about interactive tables.';\n",
              "          element.innerHTML = '';\n",
              "          dataTable['output_type'] = 'display_data';\n",
              "          await google.colab.output.renderOutput(dataTable, element);\n",
              "          const docLink = document.createElement('div');\n",
              "          docLink.innerHTML = docLinkHtml;\n",
              "          element.appendChild(docLink);\n",
              "        }\n",
              "      </script>\n",
              "    </div>\n",
              "  </div>\n",
              "  "
            ]
          },
          "metadata": {},
          "execution_count": 153
        }
      ]
    },
    {
      "cell_type": "markdown",
      "source": [
        "## **Is the mean battery power of mobile phones with dual SIM slots significantly different from the mean battery power of mobile phones without dual SIM slots?**"
      ],
      "metadata": {
        "id": "zOYq2M-deQug"
      }
    },
    {
      "cell_type": "code",
      "source": [
        "bp_dual_sim = stdz_m_p_t[stdz_m_p_t.dual_sim == 1]['battery_power']\n",
        "bp_sing_sim = stdz_m_p_t[stdz_m_p_t.dual_sim == 0]['battery_power']"
      ],
      "metadata": {
        "id": "FkyCNjc3MsTE"
      },
      "execution_count": null,
      "outputs": []
    },
    {
      "cell_type": "markdown",
      "source": [
        "#### **Doing two t test**"
      ],
      "metadata": {
        "id": "d_3n4SIwe-zx"
      }
    },
    {
      "cell_type": "code",
      "source": [
        "def two_samp_t_test(catg1, catg2, tail = 2):\n",
        "\n",
        "  n1 = len(catg1)\n",
        "  n2 = len(catg2)\n",
        "\n",
        "  x1 = np.mean(catg1)\n",
        "  x2 = np.mean(catg2)\n",
        "\n",
        "  s1 = np.std(catg1)\n",
        "  s2 = np.std(catg2)\n",
        "\n",
        "\n",
        "  numerator = x1 - x2\n",
        "  dnumarator = np.sqrt((np.power(s1, 2) / n1) + (np.power(s2, 2) / n2))\n",
        "\n",
        "  z = numerator / dnumarator\n",
        "\n",
        "\n",
        "  p_value = 1 - norm.cdf(abs(z))\n",
        "\n",
        "  if tail == 2: p_value *= 2\n",
        "\n",
        "  return z, p_value\n",
        "\n",
        "\n",
        "\n",
        "\n"
      ],
      "metadata": {
        "id": "ml8LK6Y0dyrI"
      },
      "execution_count": null,
      "outputs": []
    },
    {
      "cell_type": "markdown",
      "source": [
        "### **Comparing my function to built in function**"
      ],
      "metadata": {
        "id": "GxQDmv5ooy-j"
      }
    },
    {
      "cell_type": "code",
      "source": [
        "test_stat, p_val = two_samp_t_test(bp_dual_sim, bp_sing_sim)\n",
        "\n",
        "print(f\"Ttest_indResult(statistic={test_stat}, pvalue={p_val})\")\n"
      ],
      "metadata": {
        "id": "S8120ja_oEBr",
        "colab": {
          "base_uri": "https://localhost:8080/"
        },
        "outputId": "bbd4782e-b11d-4e5a-c705-d78165041778"
      },
      "execution_count": null,
      "outputs": [
        {
          "output_type": "stream",
          "name": "stdout",
          "text": [
            "Ttest_indResult(statistic=-1.8830319065537133, pvalue=0.05969604411395424)\n"
          ]
        }
      ]
    },
    {
      "cell_type": "code",
      "source": [
        "ttest_ind(a = bp_dual_sim, b = bp_sing_sim)"
      ],
      "metadata": {
        "id": "sy53uPNEnpm8",
        "colab": {
          "base_uri": "https://localhost:8080/"
        },
        "outputId": "6c32c99c-c971-41aa-f566-253e5fe5c933"
      },
      "execution_count": null,
      "outputs": [
        {
          "output_type": "execute_result",
          "data": {
            "text/plain": [
              "Ttest_indResult(statistic=-1.8814032154294624, pvalue=0.060062516535900105)"
            ]
          },
          "metadata": {},
          "execution_count": 157
        }
      ]
    },
    {
      "cell_type": "markdown",
      "source": [
        "## **Is the mean weight of mobile phones with touch screens significantly different from the mean weight of mobile phones without touch screens?**\n"
      ],
      "metadata": {
        "id": "zXqZrzRArKu6"
      }
    },
    {
      "cell_type": "code",
      "source": [
        "wth_touch_scrn =  stdz_m_p_t[stdz_m_p_t.touch_screen == 1]['mobile_wt']\n",
        "wthout_touch_scrn =  stdz_m_p_t[stdz_m_p_t.touch_screen == 0]['mobile_wt']"
      ],
      "metadata": {
        "id": "dbsiRlUanxr7"
      },
      "execution_count": null,
      "outputs": []
    },
    {
      "cell_type": "markdown",
      "source": [
        "### **Comparing my function to built in function**"
      ],
      "metadata": {
        "id": "DILXueznrm-Z"
      }
    },
    {
      "cell_type": "code",
      "source": [
        "test_stat, p_val =  two_samp_t_test(wth_touch_scrn, wthout_touch_scrn)\n",
        "\n",
        "print(f\"Ttest_indResult(statistic={test_stat}, pvalue={p_val})\")\n"
      ],
      "metadata": {
        "id": "kEQ7zH3sraRy",
        "colab": {
          "base_uri": "https://localhost:8080/"
        },
        "outputId": "73022407-1e34-456e-932c-442786b1ef2d"
      },
      "execution_count": null,
      "outputs": [
        {
          "output_type": "stream",
          "name": "stdout",
          "text": [
            "Ttest_indResult(statistic=-0.6476929143088618, pvalue=0.5171835880597975)\n"
          ]
        }
      ]
    },
    {
      "cell_type": "code",
      "source": [
        "ttest_ind(a = wth_touch_scrn, b = wthout_touch_scrn)"
      ],
      "metadata": {
        "id": "XVY2hZTWrbzC",
        "colab": {
          "base_uri": "https://localhost:8080/"
        },
        "outputId": "20c75298-92c2-4bd5-9f42-9be7d9deb79f"
      },
      "execution_count": null,
      "outputs": [
        {
          "output_type": "execute_result",
          "data": {
            "text/plain": [
              "Ttest_indResult(statistic=-0.6472626009218954, pvalue=0.5175364329670469)"
            ]
          },
          "metadata": {},
          "execution_count": 160
        }
      ]
    },
    {
      "cell_type": "markdown",
      "source": [
        "# **My functions**"
      ],
      "metadata": {
        "id": "FK-KuoWlzVZY"
      }
    },
    {
      "cell_type": "code",
      "source": [
        "def mean(col):\n",
        "\n",
        "  col = [v for v in col if v is not None]\n",
        "\n",
        "  if not col:\n",
        "      return None\n",
        "\n",
        "  return np.sum(col) / len(col)\n",
        "\n",
        "\n",
        "def median(col):\n",
        "\n",
        "  col = [v for v in col if v is not None]\n",
        "\n",
        "  if not col:\n",
        "      return None\n",
        "\n",
        "  sorted_values = sorted(col)\n",
        "\n",
        "  n = len(sorted_values)\n",
        "\n",
        "  middle = n // 2\n",
        "\n",
        "  if n % 2 == 0:\n",
        "      return (sorted_values[middle - 1] + sorted_values[middle]) // 2\n",
        "  else:\n",
        "      return sorted_values[middle]\n",
        "\n",
        "\n",
        "def std_var(col, type = \"std\"):\n",
        "\n",
        "  col = [v for v in col if v is not None]\n",
        "\n",
        "  if not col:\n",
        "      return None\n",
        "\n",
        "  mean = np.sum(col) / len(col)\n",
        "\n",
        "  squared_diffs = [(v - mean)**2 for v in col]\n",
        "\n",
        "  variance = sum(squared_diffs) / len(squared_diffs)\n",
        "\n",
        "  if type == \"var\":\n",
        "\n",
        "    return variance\n",
        "\n",
        "  return np.sqrt(variance)\n"
      ],
      "metadata": {
        "id": "eAX7XgpxrwX5"
      },
      "execution_count": null,
      "outputs": []
    },
    {
      "cell_type": "code",
      "source": [
        "arr = np.array([3, 3, 4, 6, 5, 6, 9])\n",
        "\n",
        "np.median(arr)"
      ],
      "metadata": {
        "id": "18Fj73XPx7pK",
        "colab": {
          "base_uri": "https://localhost:8080/"
        },
        "outputId": "95bb7982-de56-410a-db4b-e303ae7698fe"
      },
      "execution_count": null,
      "outputs": [
        {
          "output_type": "execute_result",
          "data": {
            "text/plain": [
              "5.0"
            ]
          },
          "metadata": {},
          "execution_count": 162
        }
      ]
    },
    {
      "cell_type": "code",
      "source": [
        "print(median(arr))"
      ],
      "metadata": {
        "id": "27exnWLqx7tQ",
        "colab": {
          "base_uri": "https://localhost:8080/"
        },
        "outputId": "1c1fa863-7694-4566-ed11-7748375dc1f5"
      },
      "execution_count": null,
      "outputs": [
        {
          "output_type": "stream",
          "name": "stdout",
          "text": [
            "5\n"
          ]
        }
      ]
    },
    {
      "cell_type": "code",
      "source": [
        "np.std(wth_touch_scrn)"
      ],
      "metadata": {
        "id": "DNg9aghasIup",
        "colab": {
          "base_uri": "https://localhost:8080/"
        },
        "outputId": "daa9d16c-f3fc-4aba-b58f-dd1c4a75ce6b"
      },
      "execution_count": null,
      "outputs": [
        {
          "output_type": "execute_result",
          "data": {
            "text/plain": [
              "35.865986324446325"
            ]
          },
          "metadata": {},
          "execution_count": 164
        }
      ]
    },
    {
      "cell_type": "code",
      "source": [
        "print(std_var(wth_touch_scrn))"
      ],
      "metadata": {
        "id": "tpnxFb43wXV4",
        "colab": {
          "base_uri": "https://localhost:8080/"
        },
        "outputId": "aba2fe80-6cd5-482b-96ee-d0b3d6cfcc0a"
      },
      "execution_count": null,
      "outputs": [
        {
          "output_type": "stream",
          "name": "stdout",
          "text": [
            "35.86598632444637\n"
          ]
        }
      ]
    },
    {
      "cell_type": "code",
      "source": [
        "!cp drive/MyDrive/Collab_Notebooks/Hypothesis.py"
      ],
      "metadata": {
        "id": "dSwJpgF5wbBo",
        "colab": {
          "base_uri": "https://localhost:8080/"
        },
        "outputId": "ca2b3c46-e0ed-489d-da7d-8934986706a5"
      },
      "execution_count": null,
      "outputs": [
        {
          "output_type": "stream",
          "name": "stdout",
          "text": [
            "cp: missing destination file operand after 'drive/MyDrive/Collab_Notebooks/Hypothesis.py'\n",
            "Try 'cp --help' for more information.\n"
          ]
        }
      ]
    },
    {
      "cell_type": "markdown",
      "source": [
        "\n",
        "\n",
        "\n",
        "**How many phones in the dataset have a dual_sim feature?**\n",
        "\n"
      ],
      "metadata": {
        "id": "BsK4S7OURSVV"
      }
    },
    {
      "cell_type": "code",
      "source": [
        "dual_sim = mobile[mobile['dual_sim'] == 1]\n",
        "num_dual_sim_phones = len(dual_sim)\n",
        "print(\"Total Number of phone with Duel Sim:\", num_dual_sim_phones)"
      ],
      "metadata": {
        "colab": {
          "base_uri": "https://localhost:8080/"
        },
        "id": "oQRDYd2-Rjz_",
        "outputId": "fa6757df-1c57-4c21-f4f7-5ca9dbdf39e6"
      },
      "execution_count": null,
      "outputs": [
        {
          "output_type": "stream",
          "name": "stdout",
          "text": [
            "Total Number of phone with Duel Sim: 1019\n"
          ]
        }
      ]
    },
    {
      "cell_type": "markdown",
      "source": [
        "**What is the average clock speed for phones with a touch screen?**"
      ],
      "metadata": {
        "id": "7SAzu5aURLXp"
      }
    },
    {
      "cell_type": "code",
      "source": [
        "touchscreen = mobile[mobile['touch_screen'] == 1]\n",
        "avg_clock_speed_touchscreen = touchscreen['clock_speed'].mean()\n",
        "print(f\"The average clock speed for phones with touch screen is {avg_clock_speed_touchscreen:.2f}\")"
      ],
      "metadata": {
        "id": "eiSW06XYR3AR",
        "colab": {
          "base_uri": "https://localhost:8080/"
        },
        "outputId": "5b155c3e-b6ef-423c-e873-3cc22b49e61c"
      },
      "execution_count": null,
      "outputs": [
        {
          "output_type": "stream",
          "name": "stdout",
          "text": [
            "The average clock speed for phones with touch screen is 1.54\n"
          ]
        }
      ]
    },
    {
      "cell_type": "markdown",
      "source": [
        "**What is the average RAM of phones in each price_range?**\n"
      ],
      "metadata": {
        "id": "4WHWTiXYfN7e"
      }
    },
    {
      "cell_type": "code",
      "source": [
        "avg_ram_by_price_range = mobile.groupby('price_range')['ram'].mean()\n",
        "print(\"Average RAM of phones in each price range:\")\n",
        "avg_ram_by_price_range"
      ],
      "metadata": {
        "colab": {
          "base_uri": "https://localhost:8080/"
        },
        "id": "x-IDksYafRk1",
        "outputId": "540a5c4f-c105-457e-8c22-148ca42f8a5e"
      },
      "execution_count": null,
      "outputs": [
        {
          "output_type": "stream",
          "name": "stdout",
          "text": [
            "Average RAM of phones in each price range:\n"
          ]
        },
        {
          "output_type": "execute_result",
          "data": {
            "text/plain": [
              "price_range\n",
              "0     785.314\n",
              "1    1679.490\n",
              "2    2582.816\n",
              "3    3449.232\n",
              "Name: ram, dtype: float64"
            ]
          },
          "metadata": {},
          "execution_count": 41
        }
      ]
    },
    {
      "cell_type": "markdown",
      "source": [
        "**How many phones in the dataset have three_g and wifi support, but not four_g?**"
      ],
      "metadata": {
        "id": "BIkszN4_XGqJ"
      }
    },
    {
      "cell_type": "code",
      "source": [
        "\n",
        "three_g_wifi_not4g = mobile[(mobile['three_g'] == 1) & (mobile['wifi'] == 1) & (mobile['four_g'] == 0)]\n",
        "num_phones = len(three_g_wifi_not4g)\n",
        "\n",
        "print(\"The number of phones in the dataset with 3G and WiFi support, but not 4G, is:\", num_phones)"
      ],
      "metadata": {
        "colab": {
          "base_uri": "https://localhost:8080/"
        },
        "id": "gwgfoDYyXKc1",
        "outputId": "cfc30ce5-aff3-4469-ac7b-4f0b8399643e"
      },
      "execution_count": null,
      "outputs": [
        {
          "output_type": "stream",
          "name": "stdout",
          "text": [
            "The number of phones in the dataset with 3G and WiFi support, but not 4G, is: 254\n"
          ]
        }
      ]
    },
    {
      "cell_type": "markdown",
      "source": [
        "**How many phones in the dataset have both 4G and a touch screen?**"
      ],
      "metadata": {
        "id": "3CohKrg_fwNu"
      }
    },
    {
      "cell_type": "code",
      "source": [
        "# Count the number of phones that have both 4G and a touch screen\n",
        "count = ((mobile['four_g'] == 1) & (mobile['touch_screen'] == 1)).sum()\n",
        "\n",
        "print(\"Number of phones with both 4G and a touch screen:\", count)"
      ],
      "metadata": {
        "colab": {
          "base_uri": "https://localhost:8080/"
        },
        "id": "uD07CCkCf0rl",
        "outputId": "9a4b1688-55d8-403f-cecd-28543a57697f"
      },
      "execution_count": null,
      "outputs": [
        {
          "output_type": "stream",
          "name": "stdout",
          "text": [
            "Number of phones with both 4G and a touch screen: 533\n"
          ]
        }
      ]
    },
    {
      "cell_type": "markdown",
      "source": [
        "**How many phones in the dataset have a front camera (fc) greater than average megapixels?Is price range differ between above average phone and below average phone?**\n"
      ],
      "metadata": {
        "id": "LzwPbzNWYzaT"
      }
    },
    {
      "cell_type": "code",
      "source": [
        "# Calculate the average megapixels of the front camera for all phones in the dataset\n",
        "avg_fc_megapixels = mobile['fc'].mean()\n",
        "\n",
        "# Filter the dataset to only include phones with a front camera greater than the average megapixels\n",
        "above_avg_fc = mobile[ mobile['fc'] > avg_fc_megapixels]\n",
        "\n",
        "# Calculate the number of phones in the filtered dataset\n",
        "num_above_avg_fc_phones = len(above_avg_fc)\n",
        "\n",
        "# Calculate the mean price range for the filtered dataset\n",
        "above_avg_fc_mean_price_range = above_avg_fc['price_range'].mean()\n",
        "\n",
        "# Filter the dataset to only include phones with a front camera with megapixels below or equal to the average\n",
        "below_avg_fc_df = mobile[mobile['fc'] <= avg_fc_megapixels]\n",
        "\n",
        "# Calculate the mean price range for the below-average front camera phones\n",
        "below_avg_fc_mean_price_range = below_avg_fc_df['price_range'].mean()\n",
        "\n",
        "# Determine if the mean price ranges for above and below average front camera phones differ\n",
        "price_range_differs = above_avg_fc_mean_price_range != below_avg_fc_mean_price_range\n",
        "\n",
        "print(\"Number of phones in the dataset with a front camera greater than the average megapixels:\", num_above_avg_fc_phones)\n",
        "\n",
        "if price_range_differs:\n",
        "    print(\"The mean price range differs for phones with above-average and below-average front cameras.\")\n",
        "else:\n",
        "    print(\"The mean price range does not differ for phones with above-average and below-average front cameras.\")\n",
        "\n"
      ],
      "metadata": {
        "colab": {
          "base_uri": "https://localhost:8080/"
        },
        "id": "kzwYTqbpY1SZ",
        "outputId": "45d4488f-5f8f-4b3e-c209-ab172a4647b8"
      },
      "execution_count": null,
      "outputs": [
        {
          "output_type": "stream",
          "name": "stdout",
          "text": [
            "Number of phones in the dataset with a front camera greater than the average megapixels: 789\n",
            "The mean price range differs for phones with above-average and below-average front cameras.\n"
          ]
        }
      ]
    },
    {
      "cell_type": "markdown",
      "source": [
        "**What is the distribution of battery power for phones with four_g support?**"
      ],
      "metadata": {
        "id": "fdPj8GsgbFDz"
      }
    },
    {
      "cell_type": "code",
      "source": [
        "# Filter the dataset to only include phones with 4G support\n",
        "four_g = mobile[mobile['four_g'] == 1]\n",
        "\n",
        "# Retrieve the battery power column from the filtered dataset\n",
        "battery_power = four_g['battery_power']\n",
        "\n",
        "# Plot a histogram of the battery power values\n",
        "plt.hist(battery_power, bins=20)\n",
        "plt.xlabel('Battery Power')\n",
        "plt.ylabel('Frequency')\n",
        "plt.title('Distribution of Battery Power for Phones with 4G Support')\n",
        "plt.show()"
      ],
      "metadata": {
        "colab": {
          "base_uri": "https://localhost:8080/",
          "height": 472
        },
        "id": "c9SlkeoobJv7",
        "outputId": "bd97ab52-8d38-470c-b2d7-b9c5b0f338c9"
      },
      "execution_count": null,
      "outputs": [
        {
          "output_type": "display_data",
          "data": {
            "text/plain": [
              "<Figure size 640x480 with 1 Axes>"
            ],
            "image/png": "[encoded data removed]"
          },
          "metadata": {}
        }
      ]
    },
    {
      "cell_type": "markdown",
      "source": [
        "**Is there a correlation between the amount of internal memory and the screen size (sc_h * sc_w)?**\n"
      ],
      "metadata": {
        "id": "q_aZDwWGcaI1"
      }
    },
    {
      "cell_type": "code",
      "source": [
        "# Calculate the correlation coefficient between int_memory and sc_h * sc_w\n",
        "correlation = mobile['int_memory'].corr(mobile['sc_h'] * mobile['sc_w'])\n",
        "\n",
        "print(f\"The correlation coefficient between internal memory and screen size is: {correlation:.2f}\")"
      ],
      "metadata": {
        "colab": {
          "base_uri": "https://localhost:8080/"
        },
        "id": "qfkI23kOcdCZ",
        "outputId": "e6f50faa-e247-49b4-f7e9-10f029a3634b"
      },
      "execution_count": null,
      "outputs": [
        {
          "output_type": "stream",
          "name": "stdout",
          "text": [
            "The correlation coefficient between internal memory and screen size is: 0.02\n"
          ]
        }
      ]
    },
    {
      "cell_type": "markdown",
      "source": [
        "**What is the distribution of talk time in the dataset?**"
      ],
      "metadata": {
        "id": "mE03pJcPdlEq"
      }
    },
    {
      "cell_type": "code",
      "source": [
        "# Retrieve the talk time column from the dataset\n",
        "talk_time = mobile['talk_time']\n",
        "\n",
        "# Plot a histogram of the talk time values\n",
        "plt.hist(talk_time, bins=20)\n",
        "plt.xlabel('Talk Time')\n",
        "plt.ylabel('Frequency')\n",
        "plt.title('Distribution of Talk Time in the Dataset')\n",
        "plt.show()"
      ],
      "metadata": {
        "colab": {
          "base_uri": "https://localhost:8080/",
          "height": 472
        },
        "id": "VJ9eeF0rdpAO",
        "outputId": "b6c19d9e-8e12-4873-b385-c971ed228acc"
      },
      "execution_count": null,
      "outputs": [
        {
          "output_type": "display_data",
          "data": {
            "text/plain": [
              "<Figure size 640x480 with 1 Axes>"
            ],
            "image/png": "[encoded data removed]"
          },
          "metadata": {}
        }
      ]
    },
    {
      "cell_type": "markdown",
      "source": [
        "**What is the most common number of cores in the dataset?**\n"
      ],
      "metadata": {
        "id": "UuuGoDw8d9yX"
      }
    },
    {
      "cell_type": "code",
      "source": [
        "most_common_cores = mobile['n_cores'].mode()\n",
        "print(f\"The most common number of cores in the dataset is: {most_common_cores.values[0]}\")"
      ],
      "metadata": {
        "colab": {
          "base_uri": "https://localhost:8080/"
        },
        "id": "HpZZ37fyd_yB",
        "outputId": "3cad54c1-6af3-45cb-e1a7-5f67c05fc73d"
      },
      "execution_count": null,
      "outputs": [
        {
          "output_type": "stream",
          "name": "stdout",
          "text": [
            "The most common number of cores in the dataset is: 4\n"
          ]
        }
      ]
    }
  ],
  "metadata": {
    "colab": {
      "collapsed_sections": [
        "QFEtvNEKzuqQ",
        "uZ471z-_uEWz",
        "B-cNT-ZGuvWM",
        "V47VLTdELWsW",
        "ybgmEfUnLZYx",
        "U6Yy8MiVLgVB",
        "vfCAmvuoDXDp"
      ],
      "provenance": []
    },
    "kernelspec": {
      "display_name": "Python 3",
      "name": "python3"
    },
    "language_info": {
      "name": "python"
    }
  },
  "nbformat": 4,
  "nbformat_minor": 0
}